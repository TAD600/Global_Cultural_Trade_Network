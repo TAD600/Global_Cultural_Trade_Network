{
 "cells": [
  {
   "cell_type": "code",
   "execution_count": 1,
   "id": "d51f4eba-cd10-4367-a577-cf153b0b61d0",
   "metadata": {},
   "outputs": [],
   "source": [
    "import pandas as pd"
   ]
  },
  {
   "cell_type": "markdown",
   "id": "41a0c6e0-43d3-4460-9004-1b292e660b37",
   "metadata": {},
   "source": [
    "One or two countries have got cleared out in the process of removing duplicates while measuring centralities in R. Some network centrality measure files in the cleaned folder have 189 countries, while some have 190, where all the attributeYEAR.csv files have 190 countries. STERGM requires a list of network objects having the same number of nodes. Hence I will make sure it is the same set of nodes in all attributesYEAR.csv files and in all edgelists. \n",
    "\n",
    "**STEPS:**\n",
    ">1. Making sure all the network metrics files have same set of nodes. I will find out the countries that are not ubiquitous over 2000 to 2023, and remove it from the network metrics files containing that country.\n",
    ">2. Doing it forr all three sets of network metrics files (unique, reproducible, total) just to make sure all three has same set of countries\n",
    ">3. Removing those countries from attributeYEAR.csv files\n",
    ">4. Removing those countries from complete panel data\n",
    ">5. Removing those countries from all edgelists as well"
   ]
  },
  {
   "cell_type": "code",
   "execution_count": 2,
   "id": "36eb8adb-4ea3-44bb-af24-2bc8da7d5014",
   "metadata": {},
   "outputs": [],
   "source": [
    "u_net2000 = pd.read_csv('../data/cleaned/network_metrics_unique2000.csv')\n",
    "u_net2001 = pd.read_csv('../data/cleaned/network_metrics_unique2001.csv')\n",
    "u_net2002 = pd.read_csv('../data/cleaned/network_metrics_unique2002.csv')\n",
    "u_net2003 = pd.read_csv('../data/cleaned/network_metrics_unique2003.csv')\n",
    "u_net2004 = pd.read_csv('../data/cleaned/network_metrics_unique2004.csv')\n",
    "u_net2005 = pd.read_csv('../data/cleaned/network_metrics_unique2005.csv')\n",
    "u_net2006 = pd.read_csv('../data/cleaned/network_metrics_unique2006.csv')\n",
    "u_net2007 = pd.read_csv('../data/cleaned/network_metrics_unique2007.csv')\n",
    "u_net2008 = pd.read_csv('../data/cleaned/network_metrics_unique2008.csv')\n",
    "u_net2009 = pd.read_csv('../data/cleaned/network_metrics_unique2009.csv')\n",
    "u_net2010 = pd.read_csv('../data/cleaned/network_metrics_unique2010.csv')\n",
    "u_net2011 = pd.read_csv('../data/cleaned/network_metrics_unique2011.csv')\n",
    "u_net2012 = pd.read_csv('../data/cleaned/network_metrics_unique2012.csv')\n",
    "u_net2013 = pd.read_csv('../data/cleaned/network_metrics_unique2013.csv')\n",
    "u_net2014 = pd.read_csv('../data/cleaned/network_metrics_unique2014.csv')\n",
    "u_net2015 = pd.read_csv('../data/cleaned/network_metrics_unique2015.csv')\n",
    "u_net2016 = pd.read_csv('../data/cleaned/network_metrics_unique2016.csv')\n",
    "u_net2017 = pd.read_csv('../data/cleaned/network_metrics_unique2017.csv')\n",
    "u_net2018 = pd.read_csv('../data/cleaned/network_metrics_unique2018.csv')\n",
    "u_net2019 = pd.read_csv('../data/cleaned/network_metrics_unique2019.csv')\n",
    "u_net2020 = pd.read_csv('../data/cleaned/network_metrics_unique2020.csv')\n",
    "u_net2021 = pd.read_csv('../data/cleaned/network_metrics_unique2021.csv')\n",
    "u_net2022 = pd.read_csv('../data/cleaned/network_metrics_unique2022.csv')\n",
    "u_net2023 = pd.read_csv('../data/cleaned/network_metrics_unique2023.csv')"
   ]
  },
  {
   "cell_type": "code",
   "execution_count": 3,
   "id": "82750bdc-ee30-4ea2-abe1-098f501499b3",
   "metadata": {},
   "outputs": [
    {
     "name": "stdout",
     "output_type": "stream",
     "text": [
      "189\n",
      "189\n",
      "189\n",
      "189\n",
      "189\n",
      "189\n",
      "189\n",
      "189\n"
     ]
    }
   ],
   "source": [
    "print(u_net2000['iso_o'].nunique())\n",
    "print(u_net2001['iso_o'].nunique())\n",
    "print(u_net2002['iso_o'].nunique())\n",
    "print(u_net2003['iso_o'].nunique())\n",
    "print(u_net2004['iso_o'].nunique())\n",
    "print(u_net2005['iso_o'].nunique())\n",
    "print(u_net2006['iso_o'].nunique())\n",
    "print(u_net2007['iso_o'].nunique())"
   ]
  },
  {
   "cell_type": "code",
   "execution_count": 4,
   "id": "6f648dce-b33e-4b39-b013-1d4fb9c97bd6",
   "metadata": {},
   "outputs": [
    {
     "name": "stdout",
     "output_type": "stream",
     "text": [
      "189\n",
      "189\n",
      "189\n",
      "189\n",
      "189\n",
      "189\n",
      "189\n",
      "190\n"
     ]
    }
   ],
   "source": [
    "print(u_net2008['iso_o'].nunique())\n",
    "print(u_net2009['iso_o'].nunique())\n",
    "print(u_net2010['iso_o'].nunique())\n",
    "print(u_net2011['iso_o'].nunique())\n",
    "print(u_net2012['iso_o'].nunique())\n",
    "print(u_net2013['iso_o'].nunique())\n",
    "print(u_net2014['iso_o'].nunique())\n",
    "print(u_net2015['iso_o'].nunique())"
   ]
  },
  {
   "cell_type": "code",
   "execution_count": 5,
   "id": "651bb791-a839-4f50-a554-50b208b2ec5a",
   "metadata": {},
   "outputs": [
    {
     "name": "stdout",
     "output_type": "stream",
     "text": [
      "190\n",
      "190\n",
      "190\n",
      "190\n",
      "190\n",
      "190\n",
      "190\n",
      "189\n"
     ]
    }
   ],
   "source": [
    "print(u_net2016['iso_o'].nunique())\n",
    "print(u_net2017['iso_o'].nunique())\n",
    "print(u_net2018['iso_o'].nunique())\n",
    "print(u_net2019['iso_o'].nunique())\n",
    "print(u_net2020['iso_o'].nunique())\n",
    "print(u_net2021['iso_o'].nunique())\n",
    "print(u_net2022['iso_o'].nunique())\n",
    "print(u_net2023['iso_o'].nunique())"
   ]
  },
  {
   "cell_type": "code",
   "execution_count": 6,
   "id": "93c68b4f-bb0a-4f66-94dc-f7609a5260f3",
   "metadata": {},
   "outputs": [
    {
     "name": "stdout",
     "output_type": "stream",
     "text": [
      "{'ERI'}\n",
      "set()\n",
      "{'NRU'}\n"
     ]
    }
   ],
   "source": [
    "print(set(u_net2022['iso_o'].unique()) - set(u_net2023['iso_o'].unique()))\n",
    "print(set(u_net2022['iso_o'].unique()) - set(u_net2021['iso_o'].unique()))\n",
    "print(set(u_net2015['iso_o'].unique()) - set(u_net2014['iso_o'].unique()))"
   ]
  },
  {
   "cell_type": "code",
   "execution_count": 7,
   "id": "c2ce26ac-4d23-4283-8ec2-3e44cecbfa37",
   "metadata": {},
   "outputs": [
    {
     "name": "stdout",
     "output_type": "stream",
     "text": [
      "{'ERI'}\n"
     ]
    }
   ],
   "source": [
    "print(set(u_net2015['iso_o'].unique()) - set(u_net2023['iso_o'].unique()))"
   ]
  },
  {
   "cell_type": "markdown",
   "id": "3351a0d2-3cf6-4578-a748-33387b3bdf78",
   "metadata": {},
   "source": [
    "So Eritrea is present in 2022, 2015, but not in 2023"
   ]
  },
  {
   "cell_type": "code",
   "execution_count": 8,
   "id": "7aefc18a-903d-43d1-9ecd-89435e0635cf",
   "metadata": {},
   "outputs": [],
   "source": [
    "common = set(u_net2000['iso_o'].unique()) & set(u_net2001['iso_o'].unique()) & set(u_net2002['iso_o'].unique())\\\n",
    "& set(u_net2003['iso_o'].unique()) & set(u_net2004['iso_o'].unique()) & set(u_net2005['iso_o'].unique())\\\n",
    "& set(u_net2006['iso_o'].unique()) & set(u_net2007['iso_o'].unique()) & set(u_net2008['iso_o'].unique())\\\n",
    "& set(u_net2009['iso_o'].unique()) & set(u_net2010['iso_o'].unique()) & set(u_net2011['iso_o'].unique())\\\n",
    "& set(u_net2012['iso_o'].unique()) & set(u_net2013['iso_o'].unique()) & set(u_net2014['iso_o'].unique())\\\n",
    "& set(u_net2015['iso_o'].unique()) & set(u_net2016['iso_o'].unique()) & set(u_net2017['iso_o'].unique())\\\n",
    "& set(u_net2018['iso_o'].unique()) & set(u_net2019['iso_o'].unique()) & set(u_net2020['iso_o'].unique())\\\n",
    "& set(u_net2021['iso_o'].unique()) & set(u_net2022['iso_o'].unique()) & set(u_net2023['iso_o'].unique())"
   ]
  },
  {
   "cell_type": "code",
   "execution_count": 9,
   "id": "35d539d0-2b9a-4193-900b-51ce6cc1447e",
   "metadata": {},
   "outputs": [],
   "source": [
    "common = list(common)"
   ]
  },
  {
   "cell_type": "code",
   "execution_count": 10,
   "id": "89ceff63-fe2d-4c56-856a-d0623fcc9f4c",
   "metadata": {},
   "outputs": [],
   "source": [
    "r_net2000 = pd.read_csv('../data/cleaned/network_metrics_reproducible2000.csv')\n",
    "r_net2001 = pd.read_csv('../data/cleaned/network_metrics_reproducible2001.csv')\n",
    "r_net2002 = pd.read_csv('../data/cleaned/network_metrics_reproducible2002.csv')\n",
    "r_net2003 = pd.read_csv('../data/cleaned/network_metrics_reproducible2003.csv')\n",
    "r_net2004 = pd.read_csv('../data/cleaned/network_metrics_reproducible2004.csv')\n",
    "r_net2005 = pd.read_csv('../data/cleaned/network_metrics_reproducible2005.csv')\n",
    "r_net2006 = pd.read_csv('../data/cleaned/network_metrics_reproducible2006.csv')\n",
    "r_net2007 = pd.read_csv('../data/cleaned/network_metrics_reproducible2007.csv')\n",
    "r_net2008 = pd.read_csv('../data/cleaned/network_metrics_reproducible2008.csv')\n",
    "r_net2009 = pd.read_csv('../data/cleaned/network_metrics_reproducible2009.csv')\n",
    "r_net2010 = pd.read_csv('../data/cleaned/network_metrics_reproducible2010.csv')\n",
    "r_net2011 = pd.read_csv('../data/cleaned/network_metrics_reproducible2011.csv')\n",
    "r_net2012 = pd.read_csv('../data/cleaned/network_metrics_reproducible2012.csv')\n",
    "r_net2013 = pd.read_csv('../data/cleaned/network_metrics_reproducible2013.csv')\n",
    "r_net2014 = pd.read_csv('../data/cleaned/network_metrics_reproducible2014.csv')\n",
    "r_net2015 = pd.read_csv('../data/cleaned/network_metrics_reproducible2015.csv')\n",
    "r_net2016 = pd.read_csv('../data/cleaned/network_metrics_reproducible2016.csv')\n",
    "r_net2017 = pd.read_csv('../data/cleaned/network_metrics_reproducible2017.csv')\n",
    "r_net2018 = pd.read_csv('../data/cleaned/network_metrics_reproducible2018.csv')\n",
    "r_net2019 = pd.read_csv('../data/cleaned/network_metrics_reproducible2019.csv')\n",
    "r_net2020 = pd.read_csv('../data/cleaned/network_metrics_reproducible2020.csv')\n",
    "r_net2021 = pd.read_csv('../data/cleaned/network_metrics_reproducible2021.csv')\n",
    "r_net2022 = pd.read_csv('../data/cleaned/network_metrics_reproducible2022.csv')\n",
    "r_net2023 = pd.read_csv('../data/cleaned/network_metrics_reproducible2023.csv')"
   ]
  },
  {
   "cell_type": "code",
   "execution_count": 11,
   "id": "090c6fda-a3cb-4678-907f-9aff932c2980",
   "metadata": {},
   "outputs": [],
   "source": [
    "common_r = set(r_net2000['iso_o'].unique()) & set(r_net2001['iso_o'].unique()) & set(r_net2002['iso_o'].unique())\\\n",
    "& set(r_net2003['iso_o'].unique()) & set(r_net2004['iso_o'].unique()) & set(r_net2005['iso_o'].unique())\\\n",
    "& set(r_net2006['iso_o'].unique()) & set(r_net2007['iso_o'].unique()) & set(r_net2008['iso_o'].unique())\\\n",
    "& set(r_net2009['iso_o'].unique()) & set(r_net2010['iso_o'].unique()) & set(r_net2011['iso_o'].unique())\\\n",
    "& set(r_net2012['iso_o'].unique()) & set(r_net2013['iso_o'].unique()) & set(r_net2014['iso_o'].unique())\\\n",
    "& set(r_net2015['iso_o'].unique()) & set(r_net2016['iso_o'].unique()) & set(r_net2017['iso_o'].unique())\\\n",
    "& set(r_net2018['iso_o'].unique()) & set(r_net2019['iso_o'].unique()) & set(r_net2020['iso_o'].unique())\\\n",
    "& set(r_net2021['iso_o'].unique()) & set(r_net2022['iso_o'].unique()) & set(r_net2023['iso_o'].unique())"
   ]
  },
  {
   "cell_type": "code",
   "execution_count": 12,
   "id": "c6ddd0f8-7823-41e7-9cfa-fc8cc44a994e",
   "metadata": {},
   "outputs": [],
   "source": [
    "common_r = list(common_r)"
   ]
  },
  {
   "cell_type": "code",
   "execution_count": 13,
   "id": "641ed335-de7f-4b69-a2b8-278f58130b49",
   "metadata": {},
   "outputs": [],
   "source": [
    "t_net2000 = pd.read_csv('../data/cleaned/network_metrics_total2000.csv')\n",
    "t_net2001 = pd.read_csv('../data/cleaned/network_metrics_total2001.csv')\n",
    "t_net2002 = pd.read_csv('../data/cleaned/network_metrics_total2002.csv')\n",
    "t_net2003 = pd.read_csv('../data/cleaned/network_metrics_total2003.csv')\n",
    "t_net2004 = pd.read_csv('../data/cleaned/network_metrics_total2004.csv')\n",
    "t_net2005 = pd.read_csv('../data/cleaned/network_metrics_total2005.csv')\n",
    "t_net2006 = pd.read_csv('../data/cleaned/network_metrics_total2006.csv')\n",
    "t_net2007 = pd.read_csv('../data/cleaned/network_metrics_total2007.csv')\n",
    "t_net2008 = pd.read_csv('../data/cleaned/network_metrics_total2008.csv')\n",
    "t_net2009 = pd.read_csv('../data/cleaned/network_metrics_total2009.csv')\n",
    "t_net2010 = pd.read_csv('../data/cleaned/network_metrics_total2010.csv')\n",
    "t_net2011 = pd.read_csv('../data/cleaned/network_metrics_total2011.csv')\n",
    "t_net2012 = pd.read_csv('../data/cleaned/network_metrics_total2012.csv')\n",
    "t_net2013 = pd.read_csv('../data/cleaned/network_metrics_total2013.csv')\n",
    "t_net2014 = pd.read_csv('../data/cleaned/network_metrics_total2014.csv')\n",
    "t_net2015 = pd.read_csv('../data/cleaned/network_metrics_total2015.csv')\n",
    "t_net2016 = pd.read_csv('../data/cleaned/network_metrics_total2016.csv')\n",
    "t_net2017 = pd.read_csv('../data/cleaned/network_metrics_total2017.csv')\n",
    "t_net2018 = pd.read_csv('../data/cleaned/network_metrics_total2018.csv')\n",
    "t_net2019 = pd.read_csv('../data/cleaned/network_metrics_total2019.csv')\n",
    "t_net2020 = pd.read_csv('../data/cleaned/network_metrics_total2020.csv')\n",
    "t_net2021 = pd.read_csv('../data/cleaned/network_metrics_total2021.csv')\n",
    "t_net2022 = pd.read_csv('../data/cleaned/network_metrics_total2022.csv')\n",
    "t_net2023 = pd.read_csv('../data/cleaned/network_metrics_total2023.csv')"
   ]
  },
  {
   "cell_type": "code",
   "execution_count": 14,
   "id": "87c9888f-c86d-4f1a-9141-55d0cc0ba6e6",
   "metadata": {},
   "outputs": [],
   "source": [
    "common_t = set(t_net2000['iso_o'].unique()) & set(t_net2001['iso_o'].unique()) & set(t_net2002['iso_o'].unique())\\\n",
    "& set(t_net2003['iso_o'].unique()) & set(t_net2004['iso_o'].unique()) & set(t_net2005['iso_o'].unique())\\\n",
    "& set(t_net2006['iso_o'].unique()) & set(t_net2007['iso_o'].unique()) & set(t_net2008['iso_o'].unique())\\\n",
    "& set(t_net2009['iso_o'].unique()) & set(t_net2010['iso_o'].unique()) & set(t_net2011['iso_o'].unique())\\\n",
    "& set(t_net2012['iso_o'].unique()) & set(t_net2013['iso_o'].unique()) & set(t_net2014['iso_o'].unique())\\\n",
    "& set(t_net2015['iso_o'].unique()) & set(t_net2016['iso_o'].unique()) & set(t_net2017['iso_o'].unique())\\\n",
    "& set(t_net2018['iso_o'].unique()) & set(t_net2019['iso_o'].unique()) & set(t_net2020['iso_o'].unique())\\\n",
    "& set(t_net2021['iso_o'].unique()) & set(t_net2022['iso_o'].unique()) & set(t_net2023['iso_o'].unique())"
   ]
  },
  {
   "cell_type": "code",
   "execution_count": 15,
   "id": "d5a5555c-186d-4a1d-99ae-842b7524a6ff",
   "metadata": {},
   "outputs": [
    {
     "data": {
      "text/plain": [
       "set"
      ]
     },
     "execution_count": 15,
     "metadata": {},
     "output_type": "execute_result"
    }
   ],
   "source": [
    "type(common_t)"
   ]
  },
  {
   "cell_type": "code",
   "execution_count": 16,
   "id": "20c86048-3bfe-475f-883b-c9bae4362def",
   "metadata": {},
   "outputs": [],
   "source": [
    "common_t = list(common_t)"
   ]
  },
  {
   "cell_type": "code",
   "execution_count": 17,
   "id": "b886f71d-7331-4d95-8b2b-d26bc0388650",
   "metadata": {},
   "outputs": [],
   "source": [
    "c = list(set(common_r) - set(common)) # SO Nauru and Eritrea are present in reproducible but not in unique cultural goods trade"
   ]
  },
  {
   "cell_type": "code",
   "execution_count": 18,
   "id": "94ce66b1-cdc1-4c0d-b725-a9d5faf8ca9f",
   "metadata": {},
   "outputs": [
    {
     "data": {
      "text/plain": [
       "['NRU', 'ERI']"
      ]
     },
     "execution_count": 18,
     "metadata": {},
     "output_type": "execute_result"
    }
   ],
   "source": [
    "c"
   ]
  },
  {
   "cell_type": "code",
   "execution_count": 19,
   "id": "3d41f041-5d0a-4443-a495-0b9cddb99a17",
   "metadata": {},
   "outputs": [],
   "source": [
    "d = list(set(common_t) - set(common)) #"
   ]
  },
  {
   "cell_type": "code",
   "execution_count": 20,
   "id": "fd2628d3-7561-4348-a0ec-3c4e4adb8a54",
   "metadata": {},
   "outputs": [
    {
     "data": {
      "text/plain": [
       "['NRU', 'ERI']"
      ]
     },
     "execution_count": 20,
     "metadata": {},
     "output_type": "execute_result"
    }
   ],
   "source": [
    "d # SO Nauru and Eritrea are present in total trade but not in unique cultural goods trade"
   ]
  },
  {
   "cell_type": "code",
   "execution_count": 21,
   "id": "874e4f7e-89d9-4d77-b5b5-cb236e3dde35",
   "metadata": {},
   "outputs": [
    {
     "name": "stdout",
     "output_type": "stream",
     "text": [
      "189\n",
      "189\n",
      "187\n"
     ]
    }
   ],
   "source": [
    "print(len(common_t))\n",
    "print(len(common_r))\n",
    "print(len(common))"
   ]
  },
  {
   "cell_type": "code",
   "execution_count": 22,
   "id": "1af8b73b-d080-4ab7-8992-1bc341e4497e",
   "metadata": {},
   "outputs": [],
   "source": [
    "at2000 = pd.read_csv('../data/cleaned/attribute2000.csv')\n",
    "at2001 = pd.read_csv('../data/cleaned/attribute2001.csv')\n",
    "at2002 = pd.read_csv('../data/cleaned/attribute2002.csv')\n",
    "at2003 = pd.read_csv('../data/cleaned/attribute2003.csv')\n",
    "at2004 = pd.read_csv('../data/cleaned/attribute2004.csv')\n",
    "at2005 = pd.read_csv('../data/cleaned/attribute2005.csv')\n",
    "at2006 = pd.read_csv('../data/cleaned/attribute2006.csv')\n",
    "at2007 = pd.read_csv('../data/cleaned/attribute2007.csv')\n",
    "at2008 = pd.read_csv('../data/cleaned/attribute2008.csv')\n",
    "at2009 = pd.read_csv('../data/cleaned/attribute2009.csv')\n",
    "at2010 = pd.read_csv('../data/cleaned/attribute2010.csv')\n",
    "at2011 = pd.read_csv('../data/cleaned/attribute2011.csv')\n",
    "at2012 = pd.read_csv('../data/cleaned/attribute2012.csv')\n",
    "at2013 = pd.read_csv('../data/cleaned/attribute2013.csv')\n",
    "at2014 = pd.read_csv('../data/cleaned/attribute2014.csv')\n",
    "at2015 = pd.read_csv('../data/cleaned/attribute2015.csv')\n",
    "at2016 = pd.read_csv('../data/cleaned/attribute2016.csv')\n",
    "at2017 = pd.read_csv('../data/cleaned/attribute2017.csv')\n",
    "at2018 = pd.read_csv('../data/cleaned/attribute2018.csv')\n",
    "at2019 = pd.read_csv('../data/cleaned/attribute2019.csv')\n",
    "at2020 = pd.read_csv('../data/cleaned/attribute2020.csv')\n",
    "at2021 = pd.read_csv('../data/cleaned/attribute2021.csv')\n",
    "at2022 = pd.read_csv('../data/cleaned/attribute2022.csv')\n",
    "at2023 = pd.read_csv('../data/cleaned/attribute2023.csv')"
   ]
  },
  {
   "cell_type": "code",
   "execution_count": 23,
   "id": "d143b314-26d7-4c3b-873d-3543bb5f0f0d",
   "metadata": {},
   "outputs": [],
   "source": [
    "com_att = set(at2000['iso_o'].unique()) & set(at2001['iso_o'].unique()) & set(at2002['iso_o'].unique())\\\n",
    "& set(at2003['iso_o'].unique()) & set(at2004['iso_o'].unique()) & set(at2005['iso_o'].unique())\\\n",
    "& set(at2006['iso_o'].unique()) & set(at2007['iso_o'].unique()) & set(at2008['iso_o'].unique())\\\n",
    "& set(at2009['iso_o'].unique()) & set(at2010['iso_o'].unique()) & set(at2011['iso_o'].unique())\\\n",
    "& set(at2012['iso_o'].unique()) & set(at2013['iso_o'].unique()) & set(at2014['iso_o'].unique())\\\n",
    "& set(at2015['iso_o'].unique()) & set(at2016['iso_o'].unique()) & set(at2017['iso_o'].unique())\\\n",
    "& set(at2018['iso_o'].unique()) & set(at2019['iso_o'].unique()) & set(at2020['iso_o'].unique())\\\n",
    "& set(at2021['iso_o'].unique()) & set(at2022['iso_o'].unique()) & set(at2023['iso_o'].unique())"
   ]
  },
  {
   "cell_type": "code",
   "execution_count": 24,
   "id": "40485076-2f52-4037-bae7-3ba5be4f20c8",
   "metadata": {},
   "outputs": [
    {
     "data": {
      "text/plain": [
       "190"
      ]
     },
     "execution_count": 24,
     "metadata": {},
     "output_type": "execute_result"
    }
   ],
   "source": [
    "len(com_att)"
   ]
  },
  {
   "cell_type": "code",
   "execution_count": 25,
   "id": "4389a368-54bd-4870-bb1a-bb9075a9ab09",
   "metadata": {},
   "outputs": [],
   "source": [
    "e = list(set(com_att) - set(common))"
   ]
  },
  {
   "cell_type": "code",
   "execution_count": 26,
   "id": "a6efe7fd-7441-4117-8654-2b1dd883ade1",
   "metadata": {},
   "outputs": [
    {
     "data": {
      "text/plain": [
       "['NRU', 'ERI', 'SDN']"
      ]
     },
     "execution_count": 26,
     "metadata": {},
     "output_type": "execute_result"
    }
   ],
   "source": [
    "e"
   ]
  },
  {
   "cell_type": "markdown",
   "id": "5fb3d4b2-acfd-4c52-b53f-729b8ab9f17d",
   "metadata": {},
   "source": [
    "### Removing ['NRU', 'ERI', 'SDN'] from attributes"
   ]
  },
  {
   "cell_type": "code",
   "execution_count": 27,
   "id": "bf5051bd-1268-4c2e-b2a1-c935f4d3c3a9",
   "metadata": {},
   "outputs": [],
   "source": [
    "at2000 = at2000[~at2000['iso_o'].isin(e)]\n",
    "at2001 = at2001[~at2001['iso_o'].isin(e)]\n",
    "at2002 = at2002[~at2002['iso_o'].isin(e)]\n",
    "at2003 = at2003[~at2003['iso_o'].isin(e)]\n",
    "at2004 = at2004[~at2004['iso_o'].isin(e)]\n",
    "at2005 = at2005[~at2005['iso_o'].isin(e)]\n",
    "at2006 = at2006[~at2006['iso_o'].isin(e)]\n",
    "at2007 = at2007[~at2007['iso_o'].isin(e)]\n",
    "at2008 = at2008[~at2008['iso_o'].isin(e)]\n",
    "at2009 = at2009[~at2009['iso_o'].isin(e)]\n",
    "at2010 = at2010[~at2010['iso_o'].isin(e)]\n",
    "at2011 = at2011[~at2011['iso_o'].isin(e)]\n",
    "at2012 = at2012[~at2012['iso_o'].isin(e)]\n",
    "at2013 = at2013[~at2013['iso_o'].isin(e)]\n",
    "at2014 = at2014[~at2014['iso_o'].isin(e)]\n",
    "at2015 = at2015[~at2015['iso_o'].isin(e)]\n",
    "at2016 = at2016[~at2016['iso_o'].isin(e)]\n",
    "at2017 = at2017[~at2017['iso_o'].isin(e)]\n",
    "at2018 = at2018[~at2018['iso_o'].isin(e)]\n",
    "at2019 = at2019[~at2019['iso_o'].isin(e)]\n",
    "at2020 = at2020[~at2020['iso_o'].isin(e)]\n",
    "at2021 = at2021[~at2021['iso_o'].isin(e)]\n",
    "at2022 = at2022[~at2022['iso_o'].isin(e)]\n",
    "at2023 = at2023[~at2023['iso_o'].isin(e)]"
   ]
  },
  {
   "cell_type": "code",
   "execution_count": 28,
   "id": "0ad5d282-1a3f-4ab4-9900-05f736ea241f",
   "metadata": {},
   "outputs": [
    {
     "data": {
      "text/plain": [
       "(187, 23)"
      ]
     },
     "execution_count": 28,
     "metadata": {},
     "output_type": "execute_result"
    }
   ],
   "source": [
    "at2003.shape"
   ]
  },
  {
   "cell_type": "code",
   "execution_count": 29,
   "id": "ec2e95c0-4a30-445e-bb77-61fe4799a475",
   "metadata": {},
   "outputs": [],
   "source": [
    "assert set(at2000['iso_o'].unique()) == set(at2001['iso_o'].unique()) == set(at2003['iso_o'].unique())\\\n",
    "== set(at2004['iso_o'].unique()) == set(at2005['iso_o'].unique()) == set(at2006['iso_o'].unique()) == set(at2007['iso_o'].unique())\\\n",
    "== set(at2008['iso_o'].unique()) == set(at2009['iso_o'].unique()) == set(at2010['iso_o'].unique()) == set(at2011['iso_o'].unique())\\\n",
    "== set(at2012['iso_o'].unique()) == set(at2013['iso_o'].unique()) == set(at2014['iso_o'].unique()) == set(at2015['iso_o'].unique())\\\n",
    "== set(at2016['iso_o'].unique()) == set(at2017['iso_o'].unique()) == set(at2018['iso_o'].unique()) == set(at2019['iso_o'].unique())\\\n",
    "== set(at2020['iso_o'].unique()) == set(at2021['iso_o'].unique()) == set(at2022['iso_o'].unique()) == set(at2023['iso_o'].unique())"
   ]
  },
  {
   "cell_type": "markdown",
   "id": "9717affb-57ec-4da5-8a9b-cc8878e89234",
   "metadata": {},
   "source": [
    "### Removing ['NRU', 'ERI', 'SDN'] from reproducible network metrices"
   ]
  },
  {
   "cell_type": "code",
   "execution_count": 30,
   "id": "a07c392b-cc95-4823-acd1-09715e75ee2f",
   "metadata": {},
   "outputs": [],
   "source": [
    "r_net2000 = r_net2000[~r_net2000['iso_o'].isin(e)]\n",
    "r_net2001 = r_net2001[~r_net2001['iso_o'].isin(e)]\n",
    "r_net2002 = r_net2002[~r_net2002['iso_o'].isin(e)]\n",
    "r_net2003 = r_net2003[~r_net2003['iso_o'].isin(e)]\n",
    "r_net2004 = r_net2004[~r_net2004['iso_o'].isin(e)]\n",
    "r_net2005 = r_net2005[~r_net2005['iso_o'].isin(e)]\n",
    "r_net2006 = r_net2006[~r_net2006['iso_o'].isin(e)]\n",
    "r_net2007 = r_net2007[~r_net2007['iso_o'].isin(e)]\n",
    "r_net2008 = r_net2008[~r_net2008['iso_o'].isin(e)]\n",
    "r_net2009 = r_net2009[~r_net2009['iso_o'].isin(e)]\n",
    "r_net2010 = r_net2010[~r_net2010['iso_o'].isin(e)]\n",
    "r_net2011 = r_net2011[~r_net2011['iso_o'].isin(e)]\n",
    "r_net2012 = r_net2012[~r_net2012['iso_o'].isin(e)]\n",
    "r_net2013 = r_net2013[~r_net2013['iso_o'].isin(e)]\n",
    "r_net2014 = r_net2014[~r_net2014['iso_o'].isin(e)]\n",
    "r_net2015 = r_net2015[~r_net2015['iso_o'].isin(e)]\n",
    "r_net2016 = r_net2016[~r_net2016['iso_o'].isin(e)]\n",
    "r_net2017 = r_net2017[~r_net2017['iso_o'].isin(e)]\n",
    "r_net2018 = r_net2018[~r_net2018['iso_o'].isin(e)]\n",
    "r_net2019 = r_net2019[~r_net2019['iso_o'].isin(e)]\n",
    "r_net2020 = r_net2020[~r_net2020['iso_o'].isin(e)]\n",
    "r_net2021 = r_net2021[~r_net2021['iso_o'].isin(e)]\n",
    "r_net2022 = r_net2022[~r_net2022['iso_o'].isin(e)]\n",
    "r_net2023 = r_net2023[~r_net2023['iso_o'].isin(e)]"
   ]
  },
  {
   "cell_type": "code",
   "execution_count": 31,
   "id": "247b88aa-a940-439f-b21f-25ca78baa300",
   "metadata": {},
   "outputs": [
    {
     "data": {
      "text/plain": [
       "(187, 12)"
      ]
     },
     "execution_count": 31,
     "metadata": {},
     "output_type": "execute_result"
    }
   ],
   "source": [
    "r_net2013.shape"
   ]
  },
  {
   "cell_type": "code",
   "execution_count": 32,
   "id": "da4266e6-ab92-4f50-9d76-c639cecf946e",
   "metadata": {},
   "outputs": [],
   "source": [
    "assert set(r_net2000['iso_o'].unique()) == set(r_net2001['iso_o'].unique()) == set(r_net2003['iso_o'].unique())\\\n",
    "== set(r_net2004['iso_o'].unique()) == set(r_net2005['iso_o'].unique()) == set(r_net2006['iso_o'].unique()) == set(r_net2007['iso_o'].unique())\\\n",
    "== set(r_net2008['iso_o'].unique()) == set(r_net2009['iso_o'].unique()) == set(r_net2010['iso_o'].unique()) == set(r_net2011['iso_o'].unique())\\\n",
    "== set(r_net2012['iso_o'].unique()) == set(r_net2013['iso_o'].unique()) == set(r_net2014['iso_o'].unique()) == set(r_net2015['iso_o'].unique())\\\n",
    "== set(r_net2016['iso_o'].unique()) == set(r_net2017['iso_o'].unique()) == set(r_net2018['iso_o'].unique()) == set(r_net2019['iso_o'].unique())\\\n",
    "== set(r_net2020['iso_o'].unique()) == set(r_net2021['iso_o'].unique()) == set(r_net2022['iso_o'].unique()) == set(r_net2023['iso_o'].unique())"
   ]
  },
  {
   "cell_type": "markdown",
   "id": "900d74ed-6ebb-4821-a661-fd1f59b657a5",
   "metadata": {},
   "source": [
    "### Removing ['NRU', 'ERI', 'SDN'] from total network metrices"
   ]
  },
  {
   "cell_type": "code",
   "execution_count": 33,
   "id": "a03f2afa-054c-40ed-bf4c-5daea7a27cdd",
   "metadata": {},
   "outputs": [],
   "source": [
    "t_net2000 = t_net2000[~t_net2000['iso_o'].isin(e)]\n",
    "t_net2001 = t_net2001[~t_net2001['iso_o'].isin(e)]\n",
    "t_net2002 = t_net2002[~t_net2002['iso_o'].isin(e)]\n",
    "t_net2003 = t_net2003[~t_net2003['iso_o'].isin(e)]\n",
    "t_net2004 = t_net2004[~t_net2004['iso_o'].isin(e)]\n",
    "t_net2005 = t_net2005[~t_net2005['iso_o'].isin(e)]\n",
    "t_net2006 = t_net2006[~t_net2006['iso_o'].isin(e)]\n",
    "t_net2007 = t_net2007[~t_net2007['iso_o'].isin(e)]\n",
    "t_net2008 = t_net2008[~t_net2008['iso_o'].isin(e)]\n",
    "t_net2009 = t_net2009[~t_net2009['iso_o'].isin(e)]\n",
    "t_net2010 = t_net2010[~t_net2010['iso_o'].isin(e)]\n",
    "t_net2011 = t_net2011[~t_net2011['iso_o'].isin(e)]\n",
    "t_net2012 = t_net2012[~t_net2012['iso_o'].isin(e)]\n",
    "t_net2013 = t_net2013[~t_net2013['iso_o'].isin(e)]\n",
    "t_net2014 = t_net2014[~t_net2014['iso_o'].isin(e)]\n",
    "t_net2015 = t_net2015[~t_net2015['iso_o'].isin(e)]\n",
    "t_net2016 = t_net2016[~t_net2016['iso_o'].isin(e)]\n",
    "t_net2017 = t_net2017[~t_net2017['iso_o'].isin(e)]\n",
    "t_net2018 = t_net2018[~t_net2018['iso_o'].isin(e)]\n",
    "t_net2019 = t_net2019[~t_net2019['iso_o'].isin(e)]\n",
    "t_net2020 = t_net2020[~t_net2020['iso_o'].isin(e)]\n",
    "t_net2021 = t_net2021[~t_net2021['iso_o'].isin(e)]\n",
    "t_net2022 = t_net2022[~t_net2022['iso_o'].isin(e)]\n",
    "t_net2023 = t_net2023[~t_net2023['iso_o'].isin(e)]"
   ]
  },
  {
   "cell_type": "code",
   "execution_count": 34,
   "id": "9c41cdb6-cd6a-4321-9dbb-e1a3d2d28d33",
   "metadata": {},
   "outputs": [],
   "source": [
    "assert set(t_net2000['iso_o'].unique()) == set(t_net2001['iso_o'].unique()) == set(t_net2003['iso_o'].unique())\\\n",
    "== set(t_net2004['iso_o'].unique()) == set(t_net2005['iso_o'].unique()) == set(t_net2006['iso_o'].unique()) == set(t_net2007['iso_o'].unique())\\\n",
    "== set(t_net2008['iso_o'].unique()) == set(t_net2009['iso_o'].unique()) == set(t_net2010['iso_o'].unique()) == set(t_net2011['iso_o'].unique())\\\n",
    "== set(t_net2012['iso_o'].unique()) == set(t_net2013['iso_o'].unique()) == set(t_net2014['iso_o'].unique()) == set(t_net2015['iso_o'].unique())\\\n",
    "== set(t_net2016['iso_o'].unique()) == set(t_net2017['iso_o'].unique()) == set(t_net2018['iso_o'].unique()) == set(t_net2019['iso_o'].unique())\\\n",
    "== set(t_net2020['iso_o'].unique()) == set(t_net2021['iso_o'].unique()) == set(t_net2022['iso_o'].unique()) == set(t_net2023['iso_o'].unique())"
   ]
  },
  {
   "cell_type": "code",
   "execution_count": 35,
   "id": "eba4ec8c-1c05-41bb-b2b0-309000271e8c",
   "metadata": {},
   "outputs": [
    {
     "data": {
      "text/plain": [
       "187"
      ]
     },
     "execution_count": 35,
     "metadata": {},
     "output_type": "execute_result"
    }
   ],
   "source": [
    "t_net2000['iso_o'].nunique()"
   ]
  },
  {
   "cell_type": "markdown",
   "id": "e3f87855-47f3-4ec7-ba54-7bf71f8676be",
   "metadata": {},
   "source": [
    "### Removing ['NRU', 'ERI', 'SDN'] from edgelists, complete attribute file (Time series) and from compelete panel data"
   ]
  },
  {
   "cell_type": "code",
   "execution_count": 36,
   "id": "f207b90a-bbd3-4707-9c5f-b8b7313e4dfe",
   "metadata": {},
   "outputs": [],
   "source": [
    "total = pd.read_csv(\"../data/cleaned/total_edgelist.csv\")\n",
    "unique = pd.read_csv(\"../data/cleaned/unique_edgelist.csv\")\n",
    "repro = pd.read_csv(\"../data/cleaned/reproducible_edgelist.csv\")\n",
    "hyst_total = pd.read_csv(\"../data/cleaned/edgelist_total_hyst.csv\")\n",
    "hyst_unique = pd.read_csv(\"../data/cleaned/edgelist_unique_hyst.csv\")\n",
    "hyst_repro = pd.read_csv(\"../data/cleaned/edgelist_repro_hyst.csv\")\n",
    "distance = pd.read_csv(\"../data/cleaned/distance_edgelist.csv\")\n",
    "comcol = pd.read_csv(\"../data/cleaned/comcol_edgelist.csv\")\n",
    "colonizer = pd.read_csv(\"../data/cleaned/colonizer_edgelist.csv\")\n",
    "language = pd.read_csv(\"../data/cleaned/language_edgelist.csv\")\n",
    "contiguity = pd.read_csv(\"../data/cleaned/contiguity_edgelist.csv\")\n",
    "attribute2000_2023 = pd.read_csv(\"../data/cleaned/attributes2000_2023.csv\")\n",
    "rta = pd.read_csv(\"../data/cleaned/rta_edgelist.csv\")\n",
    "panel = pd.read_csv(\"../data/cleaned/panel_complete.csv\")"
   ]
  },
  {
   "cell_type": "code",
   "execution_count": 37,
   "id": "b10bee4b-ad33-4178-8dbe-951f30e654e1",
   "metadata": {},
   "outputs": [],
   "source": [
    "total = total[~total['iso_o'].isin(e)]\n",
    "total = total[~total['iso_d'].isin(e)]"
   ]
  },
  {
   "cell_type": "code",
   "execution_count": 38,
   "id": "cd236563-3234-419e-a93c-bf42686133c3",
   "metadata": {},
   "outputs": [],
   "source": [
    "unique = unique[~unique['iso_o'].isin(e)]\n",
    "unique = unique[~unique['iso_d'].isin(e)]"
   ]
  },
  {
   "cell_type": "code",
   "execution_count": 39,
   "id": "49fb86a5-d0e5-4757-a809-6a86bf0a222f",
   "metadata": {},
   "outputs": [],
   "source": [
    "repro = repro[~repro['iso_o'].isin(e)]\n",
    "repro = repro[~repro['iso_d'].isin(e)]"
   ]
  },
  {
   "cell_type": "code",
   "execution_count": 40,
   "id": "35320cf8-3901-4021-b78d-06c8170a8197",
   "metadata": {},
   "outputs": [],
   "source": [
    "hyst_total = hyst_total[~hyst_total['iso_o'].isin(e)]\n",
    "hyst_total = hyst_total[~hyst_total['iso_d'].isin(e)]"
   ]
  },
  {
   "cell_type": "code",
   "execution_count": 41,
   "id": "a485803b-338d-43c0-ada9-f5de256db3dd",
   "metadata": {},
   "outputs": [],
   "source": [
    "hyst_unique = hyst_unique[~hyst_unique['iso_o'].isin(e)]\n",
    "hyst_unique = hyst_unique[~hyst_unique['iso_d'].isin(e)]"
   ]
  },
  {
   "cell_type": "code",
   "execution_count": 42,
   "id": "4d935f89-4ddf-4770-ae52-b48cc08ac649",
   "metadata": {},
   "outputs": [],
   "source": [
    "hyst_repro = hyst_repro[~hyst_repro['iso_o'].isin(e)]\n",
    "hyst_repro = hyst_repro[~hyst_repro['iso_d'].isin(e)]"
   ]
  },
  {
   "cell_type": "code",
   "execution_count": 43,
   "id": "d1afa0bd-eaf9-4601-be94-429721e4b18e",
   "metadata": {},
   "outputs": [],
   "source": [
    "distance = distance[~distance['iso_o'].isin(e)]\n",
    "distance = distance[~distance['iso_d'].isin(e)]"
   ]
  },
  {
   "cell_type": "code",
   "execution_count": 44,
   "id": "d680df48-8b1c-45da-8164-7c13ccb6ccce",
   "metadata": {},
   "outputs": [],
   "source": [
    "comcol = comcol[~comcol['iso_o'].isin(e)]\n",
    "comcol = comcol[~comcol['iso_d'].isin(e)]"
   ]
  },
  {
   "cell_type": "code",
   "execution_count": 45,
   "id": "5fde6e69-d4aa-4cee-8b1d-ffc91fce4616",
   "metadata": {},
   "outputs": [
    {
     "data": {
      "text/plain": [
       "['NRU', 'ERI', 'SDN']"
      ]
     },
     "execution_count": 45,
     "metadata": {},
     "output_type": "execute_result"
    }
   ],
   "source": [
    "e"
   ]
  },
  {
   "cell_type": "code",
   "execution_count": 46,
   "id": "362f7319-9f84-4575-8f46-fcd0a7f085f7",
   "metadata": {},
   "outputs": [],
   "source": [
    "colonizer = colonizer[~colonizer['iso_o'].isin(e)]\n",
    "colonizer = colonizer[~colonizer['iso_d'].isin(e)]"
   ]
  },
  {
   "cell_type": "code",
   "execution_count": 47,
   "id": "7d47a8cf-dbd8-46d6-b64e-3493f3643222",
   "metadata": {},
   "outputs": [],
   "source": [
    "language = language[~language['iso_o'].isin(e)]\n",
    "language = language[~language['iso_d'].isin(e)]"
   ]
  },
  {
   "cell_type": "code",
   "execution_count": 48,
   "id": "2d457d66-6865-44f9-9313-37251a158c01",
   "metadata": {},
   "outputs": [],
   "source": [
    "contiguity = contiguity[~contiguity['iso_o'].isin(e)]\n",
    "contiguity = contiguity[~contiguity['iso_d'].isin(e)]"
   ]
  },
  {
   "cell_type": "code",
   "execution_count": 49,
   "id": "29ca056e-7356-45a8-b8d2-d20c4e385ea9",
   "metadata": {},
   "outputs": [],
   "source": [
    "rta = rta[~rta['iso_o'].isin(e)]\n",
    "rta = rta[~rta['iso_d'].isin(e)]"
   ]
  },
  {
   "cell_type": "code",
   "execution_count": 50,
   "id": "cc5ead48-8800-4503-b033-9eddceecda97",
   "metadata": {},
   "outputs": [],
   "source": [
    "panel = panel[~panel['iso_o'].isin(e)]\n",
    "panel = panel[~panel['iso_d'].isin(e)]"
   ]
  },
  {
   "cell_type": "code",
   "execution_count": 51,
   "id": "c13ee1c6-1128-418c-9128-62e5ef061e96",
   "metadata": {},
   "outputs": [],
   "source": [
    "attribute2000_2023 = attribute2000_2023[~attribute2000_2023['iso_o'].isin(e)]"
   ]
  },
  {
   "cell_type": "code",
   "execution_count": 53,
   "id": "c1bb8eba-97b6-496b-b11e-bc55ffbafed5",
   "metadata": {},
   "outputs": [
    {
     "data": {
      "text/html": [
       "<div>\n",
       "<style scoped>\n",
       "    .dataframe tbody tr th:only-of-type {\n",
       "        vertical-align: middle;\n",
       "    }\n",
       "\n",
       "    .dataframe tbody tr th {\n",
       "        vertical-align: top;\n",
       "    }\n",
       "\n",
       "    .dataframe thead th {\n",
       "        text-align: right;\n",
       "    }\n",
       "</style>\n",
       "<table border=\"1\" class=\"dataframe\">\n",
       "  <thead>\n",
       "    <tr style=\"text-align: right;\">\n",
       "      <th></th>\n",
       "      <th>iso_o</th>\n",
       "      <th>Country</th>\n",
       "      <th>Time</th>\n",
       "      <th>gdp</th>\n",
       "      <th>gdp_pct</th>\n",
       "      <th>population</th>\n",
       "      <th>trade_gdp_ratio</th>\n",
       "      <th>log_gdp</th>\n",
       "      <th>log_trade_gdp_ratio</th>\n",
       "      <th>country</th>\n",
       "      <th>...</th>\n",
       "      <th>lon</th>\n",
       "      <th>langoff_1</th>\n",
       "      <th>colonizer1</th>\n",
       "      <th>category</th>\n",
       "      <th>development</th>\n",
       "      <th>TIME_PERIOD</th>\n",
       "      <th>log_gdp_pct</th>\n",
       "      <th>log_population</th>\n",
       "      <th>D_log_gdp_pct</th>\n",
       "      <th>D_log_gdp</th>\n",
       "    </tr>\n",
       "  </thead>\n",
       "  <tbody>\n",
       "    <tr>\n",
       "      <th>8</th>\n",
       "      <td>ABW</td>\n",
       "      <td>Aruba</td>\n",
       "      <td>2000</td>\n",
       "      <td>1.873453e+09</td>\n",
       "      <td>20681.02</td>\n",
       "      <td>90588.0</td>\n",
       "      <td>145.07</td>\n",
       "      <td>21.351049</td>\n",
       "      <td>4.977216</td>\n",
       "      <td>Aruba</td>\n",
       "      <td>...</td>\n",
       "      <td>-70.099998</td>\n",
       "      <td>Dutch</td>\n",
       "      <td>NLD</td>\n",
       "      <td>Emerging and Developing Economies</td>\n",
       "      <td>0.0</td>\n",
       "      <td>2000</td>\n",
       "      <td>9.936972</td>\n",
       "      <td>11.414077</td>\n",
       "      <td>0.073462</td>\n",
       "      <td>0.083773</td>\n",
       "    </tr>\n",
       "  </tbody>\n",
       "</table>\n",
       "<p>1 rows × 23 columns</p>\n",
       "</div>"
      ],
      "text/plain": [
       "  iso_o Country  Time           gdp   gdp_pct  population  trade_gdp_ratio  \\\n",
       "8   ABW   Aruba  2000  1.873453e+09  20681.02     90588.0           145.07   \n",
       "\n",
       "     log_gdp  log_trade_gdp_ratio country  ...        lon langoff_1  \\\n",
       "8  21.351049             4.977216   Aruba  ... -70.099998     Dutch   \n",
       "\n",
       "   colonizer1                           category development TIME_PERIOD  \\\n",
       "8         NLD  Emerging and Developing Economies         0.0        2000   \n",
       "\n",
       "  log_gdp_pct  log_population  D_log_gdp_pct  D_log_gdp  \n",
       "8    9.936972       11.414077       0.073462   0.083773  \n",
       "\n",
       "[1 rows x 23 columns]"
      ]
     },
     "execution_count": 53,
     "metadata": {},
     "output_type": "execute_result"
    }
   ],
   "source": [
    "at2000[at2000['iso_o'] == 'ABW']"
   ]
  },
  {
   "cell_type": "code",
   "execution_count": 54,
   "id": "ce659d69-6c52-4e09-8e38-c038d80ebe47",
   "metadata": {},
   "outputs": [],
   "source": [
    "#panel[panel['iso_o'] == 'ABW']"
   ]
  },
  {
   "cell_type": "code",
   "execution_count": 55,
   "id": "4f106591-9166-4b4d-9d36-fb9b9899d99c",
   "metadata": {},
   "outputs": [],
   "source": [
    "#panel[(panel['iso_o'] == 'ABW') & (panel['iso_d'] == 'AFG')] #it has 24 rows for every year. SO it is sane. "
   ]
  },
  {
   "cell_type": "code",
   "execution_count": 56,
   "id": "c10544b7-2584-4621-8ebf-4ff9afb2138c",
   "metadata": {},
   "outputs": [
    {
     "data": {
      "text/html": [
       "<div>\n",
       "<style scoped>\n",
       "    .dataframe tbody tr th:only-of-type {\n",
       "        vertical-align: middle;\n",
       "    }\n",
       "\n",
       "    .dataframe tbody tr th {\n",
       "        vertical-align: top;\n",
       "    }\n",
       "\n",
       "    .dataframe thead th {\n",
       "        text-align: right;\n",
       "    }\n",
       "</style>\n",
       "<table border=\"1\" class=\"dataframe\">\n",
       "  <thead>\n",
       "    <tr style=\"text-align: right;\">\n",
       "      <th></th>\n",
       "      <th>Unnamed: 0</th>\n",
       "      <th>iso_o</th>\n",
       "      <th>pageRank_total.name</th>\n",
       "      <th>pageRank_total.wpr</th>\n",
       "      <th>close_total.name</th>\n",
       "      <th>close_total.closeness</th>\n",
       "      <th>outdegree_total.name</th>\n",
       "      <th>outdegree_total.degree</th>\n",
       "      <th>indegree_total.name</th>\n",
       "      <th>indegree_total.degree</th>\n",
       "      <th>local_clust_tt_total</th>\n",
       "      <th>local_clust_out_total</th>\n",
       "    </tr>\n",
       "  </thead>\n",
       "  <tbody>\n",
       "    <tr>\n",
       "      <th>0</th>\n",
       "      <td>1</td>\n",
       "      <td>ABW</td>\n",
       "      <td>1</td>\n",
       "      <td>0.001929</td>\n",
       "      <td>1</td>\n",
       "      <td>43612.463087</td>\n",
       "      <td>1</td>\n",
       "      <td>789.095554</td>\n",
       "      <td>1</td>\n",
       "      <td>582.15133</td>\n",
       "      <td>0.989585</td>\n",
       "      <td>0.986248</td>\n",
       "    </tr>\n",
       "    <tr>\n",
       "      <th>1</th>\n",
       "      <td>2</td>\n",
       "      <td>AFG</td>\n",
       "      <td>2</td>\n",
       "      <td>0.002326</td>\n",
       "      <td>2</td>\n",
       "      <td>8493.915532</td>\n",
       "      <td>2</td>\n",
       "      <td>126.238219</td>\n",
       "      <td>2</td>\n",
       "      <td>736.46201</td>\n",
       "      <td>0.939081</td>\n",
       "      <td>0.966207</td>\n",
       "    </tr>\n",
       "  </tbody>\n",
       "</table>\n",
       "</div>"
      ],
      "text/plain": [
       "   Unnamed: 0 iso_o  pageRank_total.name  pageRank_total.wpr  \\\n",
       "0           1   ABW                    1            0.001929   \n",
       "1           2   AFG                    2            0.002326   \n",
       "\n",
       "   close_total.name  close_total.closeness  outdegree_total.name  \\\n",
       "0                 1           43612.463087                     1   \n",
       "1                 2            8493.915532                     2   \n",
       "\n",
       "   outdegree_total.degree  indegree_total.name  indegree_total.degree  \\\n",
       "0              789.095554                    1              582.15133   \n",
       "1              126.238219                    2              736.46201   \n",
       "\n",
       "   local_clust_tt_total  local_clust_out_total  \n",
       "0              0.989585               0.986248  \n",
       "1              0.939081               0.966207  "
      ]
     },
     "execution_count": 56,
     "metadata": {},
     "output_type": "execute_result"
    }
   ],
   "source": [
    "t_net2007.head(2)"
   ]
  },
  {
   "cell_type": "code",
   "execution_count": 57,
   "id": "9f698636-db0a-494a-b75c-4a0af8b8f56e",
   "metadata": {},
   "outputs": [
    {
     "data": {
      "text/plain": [
       "Index(['iso_o', 'Country', 'Time', 'gdp', 'gdp_pct', 'population',\n",
       "       'trade_gdp_ratio', 'log_gdp', 'log_trade_gdp_ratio', 'country',\n",
       "       'landlocked', 'continent', 'lat', 'lon', 'langoff_1', 'colonizer1',\n",
       "       'category', 'development', 'TIME_PERIOD', 'log_gdp_pct',\n",
       "       'log_population', 'D_log_gdp_pct', 'D_log_gdp'],\n",
       "      dtype='object')"
      ]
     },
     "execution_count": 57,
     "metadata": {},
     "output_type": "execute_result"
    }
   ],
   "source": [
    "at2000.columns"
   ]
  },
  {
   "cell_type": "code",
   "execution_count": 58,
   "id": "51069e6d-0291-4139-973a-d160bbd008b7",
   "metadata": {},
   "outputs": [],
   "source": [
    "at2000 = at2000.merge(u_net2000, on = 'iso_o', how = 'left').merge(r_net2000, on = 'iso_o', how = 'left').merge(t_net2000, on = 'iso_o', how = 'left')\n",
    "at2001 = at2001.merge(u_net2001, on = 'iso_o', how = 'left').merge(r_net2001, on = 'iso_o', how = 'left').merge(t_net2001, on = 'iso_o', how = 'left')\n",
    "at2002 = at2002.merge(u_net2002, on = 'iso_o', how = 'left').merge(r_net2002, on = 'iso_o', how = 'left').merge(t_net2002, on = 'iso_o', how = 'left')\n",
    "at2003 = at2003.merge(u_net2003, on = 'iso_o', how = 'left').merge(r_net2003, on = 'iso_o', how = 'left').merge(t_net2003, on = 'iso_o', how = 'left')\n",
    "at2004 = at2004.merge(u_net2004, on = 'iso_o', how = 'left').merge(r_net2004, on = 'iso_o', how = 'left').merge(t_net2004, on = 'iso_o', how = 'left')\n",
    "at2005 = at2005.merge(u_net2005, on = 'iso_o', how = 'left').merge(r_net2005, on = 'iso_o', how = 'left').merge(t_net2005, on = 'iso_o', how = 'left')\n",
    "at2006 = at2006.merge(u_net2006, on = 'iso_o', how = 'left').merge(r_net2006, on = 'iso_o', how = 'left').merge(t_net2006, on = 'iso_o', how = 'left')\n",
    "at2007 = at2007.merge(u_net2007, on = 'iso_o', how = 'left').merge(r_net2007, on = 'iso_o', how = 'left').merge(t_net2007, on = 'iso_o', how = 'left')\n",
    "at2008 = at2008.merge(u_net2008, on = 'iso_o', how = 'left').merge(r_net2008, on = 'iso_o', how = 'left').merge(t_net2008, on = 'iso_o', how = 'left')\n",
    "at2009 = at2009.merge(u_net2009, on = 'iso_o', how = 'left').merge(r_net2009, on = 'iso_o', how = 'left').merge(t_net2009, on = 'iso_o', how = 'left')\n",
    "at2010 = at2010.merge(u_net2010, on = 'iso_o', how = 'left').merge(r_net2010, on = 'iso_o', how = 'left').merge(t_net2010, on = 'iso_o', how = 'left')\n",
    "at2011 = at2011.merge(u_net2011, on = 'iso_o', how = 'left').merge(r_net2011, on = 'iso_o', how = 'left').merge(t_net2011, on = 'iso_o', how = 'left')\n",
    "at2012 = at2012.merge(u_net2012, on = 'iso_o', how = 'left').merge(r_net2012, on = 'iso_o', how = 'left').merge(t_net2012, on = 'iso_o', how = 'left')\n",
    "at2013 = at2013.merge(u_net2013, on = 'iso_o', how = 'left').merge(r_net2013, on = 'iso_o', how = 'left').merge(t_net2013, on = 'iso_o', how = 'left')\n",
    "at2014 = at2014.merge(u_net2014, on = 'iso_o', how = 'left').merge(r_net2014, on = 'iso_o', how = 'left').merge(t_net2014, on = 'iso_o', how = 'left')\n",
    "at2015 = at2015.merge(u_net2015, on = 'iso_o', how = 'left').merge(r_net2015, on = 'iso_o', how = 'left').merge(t_net2015, on = 'iso_o', how = 'left')\n",
    "at2016 = at2016.merge(u_net2016, on = 'iso_o', how = 'left').merge(r_net2016, on = 'iso_o', how = 'left').merge(t_net2016, on = 'iso_o', how = 'left')\n",
    "at2017 = at2017.merge(u_net2017, on = 'iso_o', how = 'left').merge(r_net2017, on = 'iso_o', how = 'left').merge(t_net2017, on = 'iso_o', how = 'left')\n",
    "at2018 = at2018.merge(u_net2018, on = 'iso_o', how = 'left').merge(r_net2018, on = 'iso_o', how = 'left').merge(t_net2018, on = 'iso_o', how = 'left')\n",
    "at2019 = at2019.merge(u_net2019, on = 'iso_o', how = 'left').merge(r_net2019, on = 'iso_o', how = 'left').merge(t_net2019, on = 'iso_o', how = 'left')\n",
    "at2020 = at2020.merge(u_net2020, on = 'iso_o', how = 'left').merge(r_net2020, on = 'iso_o', how = 'left').merge(t_net2020, on = 'iso_o', how = 'left')\n",
    "at2021 = at2021.merge(u_net2021, on = 'iso_o', how = 'left').merge(r_net2021, on = 'iso_o', how = 'left').merge(t_net2021, on = 'iso_o', how = 'left')\n",
    "at2022 = at2022.merge(u_net2022, on = 'iso_o', how = 'left').merge(r_net2022, on = 'iso_o', how = 'left').merge(t_net2022, on = 'iso_o', how = 'left')\n",
    "at2023 = at2023.merge(u_net2023, on = 'iso_o', how = 'left').merge(r_net2023, on = 'iso_o', how = 'left').merge(t_net2023, on = 'iso_o', how = 'left')"
   ]
  },
  {
   "cell_type": "code",
   "execution_count": 59,
   "id": "1fbb5be7-b9dc-491c-8000-e2aec101a7ed",
   "metadata": {},
   "outputs": [],
   "source": [
    "at2000.to_csv(\"../data/cleaned/attribute2000.csv\", encoding = 'utf-8', index = False)\n",
    "at2001.to_csv(\"../data/cleaned/attribute2001.csv\", encoding = 'utf-8', index = False)\n",
    "at2002.to_csv(\"../data/cleaned/attribute2002.csv\", encoding = 'utf-8', index = False)\n",
    "at2003.to_csv(\"../data/cleaned/attribute2003.csv\", encoding = 'utf-8', index = False)\n",
    "at2004.to_csv(\"../data/cleaned/attribute2004.csv\", encoding = 'utf-8', index = False)\n",
    "at2005.to_csv(\"../data/cleaned/attribute2005.csv\", encoding = 'utf-8', index = False)\n",
    "at2006.to_csv(\"../data/cleaned/attribute2006.csv\", encoding = 'utf-8', index = False)\n",
    "at2007.to_csv(\"../data/cleaned/attribute2007.csv\", encoding = 'utf-8', index = False)\n",
    "at2008.to_csv(\"../data/cleaned/attribute2008.csv\", encoding = 'utf-8', index = False)\n",
    "at2009.to_csv(\"../data/cleaned/attribute2009.csv\", encoding = 'utf-8', index = False)\n",
    "at2010.to_csv(\"../data/cleaned/attribute2010.csv\", encoding = 'utf-8', index = False)\n",
    "at2011.to_csv(\"../data/cleaned/attribute2011.csv\", encoding = 'utf-8', index = False)\n",
    "at2012.to_csv(\"../data/cleaned/attribute2012.csv\", encoding = 'utf-8', index = False)\n",
    "at2013.to_csv(\"../data/cleaned/attribute2013.csv\", encoding = 'utf-8', index = False)\n",
    "at2014.to_csv(\"../data/cleaned/attribute2014.csv\", encoding = 'utf-8', index = False)\n",
    "at2015.to_csv(\"../data/cleaned/attribute2015.csv\", encoding = 'utf-8', index = False)\n",
    "at2016.to_csv(\"../data/cleaned/attribute2016.csv\", encoding = 'utf-8', index = False)\n",
    "at2017.to_csv(\"../data/cleaned/attribute2017.csv\", encoding = 'utf-8', index = False)\n",
    "at2018.to_csv(\"../data/cleaned/attribute2018.csv\", encoding = 'utf-8', index = False)\n",
    "at2019.to_csv(\"../data/cleaned/attribute2019.csv\", encoding = 'utf-8', index = False)\n",
    "at2020.to_csv(\"../data/cleaned/attribute2020.csv\", encoding = 'utf-8', index = False)\n",
    "at2021.to_csv(\"../data/cleaned/attribute2021.csv\", encoding = 'utf-8', index = False)\n",
    "at2022.to_csv(\"../data/cleaned/attribute2022.csv\", encoding = 'utf-8', index = False)\n",
    "at2023.to_csv(\"../data/cleaned/attribute2023.csv\", encoding = 'utf-8', index = False)"
   ]
  },
  {
   "cell_type": "code",
   "execution_count": 60,
   "id": "966b23a1-0fca-4b1e-bd59-e585c7799294",
   "metadata": {},
   "outputs": [],
   "source": [
    "time_varying = pd.concat([at2000, at2001, at2002, at2003, at2004, at2005, at2006, at2007, at2008, at2009, at2010, at2011, at2012, at2013, at2014, at2015, at2016, at2017, at2018, at2019, at2020, at2021, at2022, at2023], axis = 0) "
   ]
  },
  {
   "cell_type": "code",
   "execution_count": 61,
   "id": "c7b01cb1-1798-481b-ade7-bec3f2658f84",
   "metadata": {},
   "outputs": [],
   "source": [
    "time_varying = time_varying.drop(columns = ['Unnamed: 0'])"
   ]
  },
  {
   "cell_type": "code",
   "execution_count": 62,
   "id": "9788f91c-8db1-451b-9f0b-fd6e84394995",
   "metadata": {},
   "outputs": [
    {
     "name": "stdout",
     "output_type": "stream",
     "text": [
      "187\n",
      "24\n",
      "[2000 2001 2002 2003 2004 2005 2006 2007 2008 2009 2010 2011 2012 2013\n",
      " 2014 2015 2016 2017 2018 2019 2020 2021 2022 2023]\n"
     ]
    }
   ],
   "source": [
    "print(time_varying['iso_o'].nunique())\n",
    "print(time_varying['Time'].nunique())\n",
    "print(time_varying['Time'].unique())"
   ]
  },
  {
   "cell_type": "code",
   "execution_count": 69,
   "id": "bc413f83-d149-4c25-8af8-6965e26eae5d",
   "metadata": {},
   "outputs": [
    {
     "data": {
      "text/plain": [
       "Index(['iso_o', 'Country', 'Time', 'gdp', 'gdp_pct', 'population',\n",
       "       'trade_gdp_ratio', 'log_gdp', 'log_trade_gdp_ratio', 'landlocked',\n",
       "       'continent', 'lat', 'lon', 'langoff_1', 'colonizer1', 'category',\n",
       "       'development', 'TIME_PERIOD', 'log_gdp_pct', 'log_population',\n",
       "       'D_log_gdp_pct', 'D_log_gdp', 'pageRank_unique.wpr',\n",
       "       'close_unique.closeness', 'outdegree_unique.degree',\n",
       "       'indegree_unique.degree', 'local_clust_tt_unique',\n",
       "       'local_clust_out_unique', 'Unnamed: 0_y', 'pageRank_repro.wpr',\n",
       "       'close_repro.closeness', 'outdegree_repro.degree',\n",
       "       'indegree_repro.degree', 'local_clust_tt_repro',\n",
       "       'local_clust_out_repro', 'pageRank_total.wpr', 'close_total.closeness',\n",
       "       'outdegree_total.degree', 'indegree_total.degree',\n",
       "       'local_clust_tt_total', 'local_clust_out_total'],\n",
       "      dtype='object')"
      ]
     },
     "execution_count": 69,
     "metadata": {},
     "output_type": "execute_result"
    }
   ],
   "source": [
    "time_varying.columns"
   ]
  },
  {
   "cell_type": "code",
   "execution_count": 70,
   "id": "a70d6324-7bb5-4441-ac7c-0118fcd467a1",
   "metadata": {},
   "outputs": [
    {
     "ename": "KeyError",
     "evalue": "\"['pageRank_unique.name', 'Unnamed: 0_x', 'close_unique.name', 'outdegree_unique.name', 'indegree_unique.name', 'pageRank_repro.name', 'close_repro.name', 'outdegree_repro.name', 'indegree_repro.name'] not found in axis\"",
     "output_type": "error",
     "traceback": [
      "\u001b[1;31m---------------------------------------------------------------------------\u001b[0m",
      "\u001b[1;31mKeyError\u001b[0m                                  Traceback (most recent call last)",
      "Cell \u001b[1;32mIn[70], line 1\u001b[0m\n\u001b[1;32m----> 1\u001b[0m time_varying \u001b[38;5;241m=\u001b[39m time_varying\u001b[38;5;241m.\u001b[39mdrop(columns \u001b[38;5;241m=\u001b[39m[\u001b[38;5;124m'\u001b[39m\u001b[38;5;124mpageRank_unique.name\u001b[39m\u001b[38;5;124m'\u001b[39m, \u001b[38;5;124m'\u001b[39m\u001b[38;5;124mUnnamed: 0_x\u001b[39m\u001b[38;5;124m'\u001b[39m, \u001b[38;5;124m'\u001b[39m\u001b[38;5;124mclose_unique.name\u001b[39m\u001b[38;5;124m'\u001b[39m,\u001b[38;5;124m'\u001b[39m\u001b[38;5;124moutdegree_unique.name\u001b[39m\u001b[38;5;124m'\u001b[39m,\u001b[38;5;124m'\u001b[39m\u001b[38;5;124mindegree_unique.name\u001b[39m\u001b[38;5;124m'\u001b[39m, \u001b[38;5;124m'\u001b[39m\u001b[38;5;124mpageRank_repro.name\u001b[39m\u001b[38;5;124m'\u001b[39m, \u001b[38;5;124m'\u001b[39m\u001b[38;5;124mclose_repro.name\u001b[39m\u001b[38;5;124m'\u001b[39m, \u001b[38;5;124m'\u001b[39m\u001b[38;5;124moutdegree_repro.name\u001b[39m\u001b[38;5;124m'\u001b[39m, \u001b[38;5;124m'\u001b[39m\u001b[38;5;124mindegree_repro.name\u001b[39m\u001b[38;5;124m'\u001b[39m])\n",
      "File \u001b[1;32m~\\anaconda3\\Lib\\site-packages\\pandas\\core\\frame.py:5581\u001b[0m, in \u001b[0;36mDataFrame.drop\u001b[1;34m(self, labels, axis, index, columns, level, inplace, errors)\u001b[0m\n\u001b[0;32m   5433\u001b[0m \u001b[38;5;28;01mdef\u001b[39;00m \u001b[38;5;21mdrop\u001b[39m(\n\u001b[0;32m   5434\u001b[0m     \u001b[38;5;28mself\u001b[39m,\n\u001b[0;32m   5435\u001b[0m     labels: IndexLabel \u001b[38;5;241m|\u001b[39m \u001b[38;5;28;01mNone\u001b[39;00m \u001b[38;5;241m=\u001b[39m \u001b[38;5;28;01mNone\u001b[39;00m,\n\u001b[1;32m   (...)\u001b[0m\n\u001b[0;32m   5442\u001b[0m     errors: IgnoreRaise \u001b[38;5;241m=\u001b[39m \u001b[38;5;124m\"\u001b[39m\u001b[38;5;124mraise\u001b[39m\u001b[38;5;124m\"\u001b[39m,\n\u001b[0;32m   5443\u001b[0m ) \u001b[38;5;241m-\u001b[39m\u001b[38;5;241m>\u001b[39m DataFrame \u001b[38;5;241m|\u001b[39m \u001b[38;5;28;01mNone\u001b[39;00m:\n\u001b[0;32m   5444\u001b[0m \u001b[38;5;250m    \u001b[39m\u001b[38;5;124;03m\"\"\"\u001b[39;00m\n\u001b[0;32m   5445\u001b[0m \u001b[38;5;124;03m    Drop specified labels from rows or columns.\u001b[39;00m\n\u001b[0;32m   5446\u001b[0m \n\u001b[1;32m   (...)\u001b[0m\n\u001b[0;32m   5579\u001b[0m \u001b[38;5;124;03m            weight  1.0     0.8\u001b[39;00m\n\u001b[0;32m   5580\u001b[0m \u001b[38;5;124;03m    \"\"\"\u001b[39;00m\n\u001b[1;32m-> 5581\u001b[0m     \u001b[38;5;28;01mreturn\u001b[39;00m \u001b[38;5;28msuper\u001b[39m()\u001b[38;5;241m.\u001b[39mdrop(\n\u001b[0;32m   5582\u001b[0m         labels\u001b[38;5;241m=\u001b[39mlabels,\n\u001b[0;32m   5583\u001b[0m         axis\u001b[38;5;241m=\u001b[39maxis,\n\u001b[0;32m   5584\u001b[0m         index\u001b[38;5;241m=\u001b[39mindex,\n\u001b[0;32m   5585\u001b[0m         columns\u001b[38;5;241m=\u001b[39mcolumns,\n\u001b[0;32m   5586\u001b[0m         level\u001b[38;5;241m=\u001b[39mlevel,\n\u001b[0;32m   5587\u001b[0m         inplace\u001b[38;5;241m=\u001b[39minplace,\n\u001b[0;32m   5588\u001b[0m         errors\u001b[38;5;241m=\u001b[39merrors,\n\u001b[0;32m   5589\u001b[0m     )\n",
      "File \u001b[1;32m~\\anaconda3\\Lib\\site-packages\\pandas\\core\\generic.py:4788\u001b[0m, in \u001b[0;36mNDFrame.drop\u001b[1;34m(self, labels, axis, index, columns, level, inplace, errors)\u001b[0m\n\u001b[0;32m   4786\u001b[0m \u001b[38;5;28;01mfor\u001b[39;00m axis, labels \u001b[38;5;129;01min\u001b[39;00m axes\u001b[38;5;241m.\u001b[39mitems():\n\u001b[0;32m   4787\u001b[0m     \u001b[38;5;28;01mif\u001b[39;00m labels \u001b[38;5;129;01mis\u001b[39;00m \u001b[38;5;129;01mnot\u001b[39;00m \u001b[38;5;28;01mNone\u001b[39;00m:\n\u001b[1;32m-> 4788\u001b[0m         obj \u001b[38;5;241m=\u001b[39m obj\u001b[38;5;241m.\u001b[39m_drop_axis(labels, axis, level\u001b[38;5;241m=\u001b[39mlevel, errors\u001b[38;5;241m=\u001b[39merrors)\n\u001b[0;32m   4790\u001b[0m \u001b[38;5;28;01mif\u001b[39;00m inplace:\n\u001b[0;32m   4791\u001b[0m     \u001b[38;5;28mself\u001b[39m\u001b[38;5;241m.\u001b[39m_update_inplace(obj)\n",
      "File \u001b[1;32m~\\anaconda3\\Lib\\site-packages\\pandas\\core\\generic.py:4830\u001b[0m, in \u001b[0;36mNDFrame._drop_axis\u001b[1;34m(self, labels, axis, level, errors, only_slice)\u001b[0m\n\u001b[0;32m   4828\u001b[0m         new_axis \u001b[38;5;241m=\u001b[39m axis\u001b[38;5;241m.\u001b[39mdrop(labels, level\u001b[38;5;241m=\u001b[39mlevel, errors\u001b[38;5;241m=\u001b[39merrors)\n\u001b[0;32m   4829\u001b[0m     \u001b[38;5;28;01melse\u001b[39;00m:\n\u001b[1;32m-> 4830\u001b[0m         new_axis \u001b[38;5;241m=\u001b[39m axis\u001b[38;5;241m.\u001b[39mdrop(labels, errors\u001b[38;5;241m=\u001b[39merrors)\n\u001b[0;32m   4831\u001b[0m     indexer \u001b[38;5;241m=\u001b[39m axis\u001b[38;5;241m.\u001b[39mget_indexer(new_axis)\n\u001b[0;32m   4833\u001b[0m \u001b[38;5;66;03m# Case for non-unique axis\u001b[39;00m\n\u001b[0;32m   4834\u001b[0m \u001b[38;5;28;01melse\u001b[39;00m:\n",
      "File \u001b[1;32m~\\anaconda3\\Lib\\site-packages\\pandas\\core\\indexes\\base.py:7070\u001b[0m, in \u001b[0;36mIndex.drop\u001b[1;34m(self, labels, errors)\u001b[0m\n\u001b[0;32m   7068\u001b[0m \u001b[38;5;28;01mif\u001b[39;00m mask\u001b[38;5;241m.\u001b[39many():\n\u001b[0;32m   7069\u001b[0m     \u001b[38;5;28;01mif\u001b[39;00m errors \u001b[38;5;241m!=\u001b[39m \u001b[38;5;124m\"\u001b[39m\u001b[38;5;124mignore\u001b[39m\u001b[38;5;124m\"\u001b[39m:\n\u001b[1;32m-> 7070\u001b[0m         \u001b[38;5;28;01mraise\u001b[39;00m \u001b[38;5;167;01mKeyError\u001b[39;00m(\u001b[38;5;124mf\u001b[39m\u001b[38;5;124m\"\u001b[39m\u001b[38;5;132;01m{\u001b[39;00mlabels[mask]\u001b[38;5;241m.\u001b[39mtolist()\u001b[38;5;132;01m}\u001b[39;00m\u001b[38;5;124m not found in axis\u001b[39m\u001b[38;5;124m\"\u001b[39m)\n\u001b[0;32m   7071\u001b[0m     indexer \u001b[38;5;241m=\u001b[39m indexer[\u001b[38;5;241m~\u001b[39mmask]\n\u001b[0;32m   7072\u001b[0m \u001b[38;5;28;01mreturn\u001b[39;00m \u001b[38;5;28mself\u001b[39m\u001b[38;5;241m.\u001b[39mdelete(indexer)\n",
      "\u001b[1;31mKeyError\u001b[0m: \"['pageRank_unique.name', 'Unnamed: 0_x', 'close_unique.name', 'outdegree_unique.name', 'indegree_unique.name', 'pageRank_repro.name', 'close_repro.name', 'outdegree_repro.name', 'indegree_repro.name'] not found in axis\""
     ]
    }
   ],
   "source": [
    "time_varying = time_varying.drop(columns =['pageRank_unique.name', 'Unnamed: 0_x', 'close_unique.name','outdegree_unique.name','indegree_unique.name', 'pageRank_repro.name', 'close_repro.name', 'outdegree_repro.name', 'indegree_repro.name'])"
   ]
  },
  {
   "cell_type": "code",
   "execution_count": 71,
   "id": "3341d618-5f40-4b6b-9bd8-d21c65b3d7a2",
   "metadata": {},
   "outputs": [],
   "source": [
    "time_varying.to_csv(\"../data/cleaned/attribute_centrality_long.csv\", encoding = 'utf-8', index = False)"
   ]
  },
  {
   "cell_type": "code",
   "execution_count": 72,
   "id": "e56e77c7-01ab-412f-a75b-234ba82f1bbb",
   "metadata": {},
   "outputs": [
    {
     "data": {
      "text/plain": [
       "34969"
      ]
     },
     "execution_count": 72,
     "metadata": {},
     "output_type": "execute_result"
    }
   ],
   "source": [
    "187*187"
   ]
  },
  {
   "cell_type": "code",
   "execution_count": 73,
   "id": "feba4404-16dc-47fd-a54a-2bc425cf3065",
   "metadata": {},
   "outputs": [
    {
     "data": {
      "text/plain": [
       "34782"
      ]
     },
     "execution_count": 73,
     "metadata": {},
     "output_type": "execute_result"
    }
   ],
   "source": [
    "34969 - 187"
   ]
  },
  {
   "cell_type": "code",
   "execution_count": 74,
   "id": "15aeece6-3772-404c-ac21-58923c905a63",
   "metadata": {},
   "outputs": [
    {
     "data": {
      "text/plain": [
       "834768"
      ]
     },
     "execution_count": 74,
     "metadata": {},
     "output_type": "execute_result"
    }
   ],
   "source": [
    "34782*24"
   ]
  },
  {
   "cell_type": "code",
   "execution_count": 75,
   "id": "ad8bda4a-00bb-4385-97b7-76528d61614a",
   "metadata": {},
   "outputs": [
    {
     "data": {
      "text/plain": [
       "(834768, 53)"
      ]
     },
     "execution_count": 75,
     "metadata": {},
     "output_type": "execute_result"
    }
   ],
   "source": [
    "panel.shape"
   ]
  },
  {
   "cell_type": "code",
   "execution_count": 76,
   "id": "9e76fc45-0434-473b-9b0e-5f8795016d42",
   "metadata": {},
   "outputs": [
    {
     "data": {
      "text/plain": [
       "(4675, 14)"
      ]
     },
     "execution_count": 76,
     "metadata": {},
     "output_type": "execute_result"
    }
   ],
   "source": [
    "attribute2000_2023.shape"
   ]
  },
  {
   "cell_type": "code",
   "execution_count": 77,
   "id": "89c86bfa-961d-4f7a-8cc6-edf8d87d940c",
   "metadata": {},
   "outputs": [
    {
     "name": "stdout",
     "output_type": "stream",
     "text": [
      "187\n",
      "187\n"
     ]
    }
   ],
   "source": [
    "print(colonizer['iso_o'].nunique())\n",
    "print(colonizer['iso_d'].nunique())"
   ]
  },
  {
   "cell_type": "code",
   "execution_count": 78,
   "id": "2c113945-9b10-40aa-bed8-ed12f63d9821",
   "metadata": {},
   "outputs": [
    {
     "name": "stdout",
     "output_type": "stream",
     "text": [
      "187\n",
      "187\n",
      "187\n",
      "187\n",
      "187\n",
      "187\n",
      "187\n",
      "187\n",
      "189\n",
      "189\n",
      "187\n",
      "187\n",
      "187\n",
      "187\n",
      "187\n",
      "187\n",
      "187\n",
      "187\n",
      "187\n",
      "187\n",
      "187\n",
      "187\n",
      "187\n",
      "187\n",
      "187\n"
     ]
    }
   ],
   "source": [
    "print(total['iso_o'].nunique())\n",
    "print(total['iso_d'].nunique())\n",
    "\n",
    "print(unique['iso_o'].nunique())\n",
    "print(unique['iso_d'].nunique())\n",
    "\n",
    "print(repro['iso_o'].nunique())\n",
    "print(repro['iso_d'].nunique())\n",
    "\n",
    "print(hyst_total['iso_o'].nunique())\n",
    "print(hyst_total['iso_d'].nunique())\n",
    "\n",
    "print(hyst_unique['iso_o'].nunique())\n",
    "print(hyst_unique['iso_d'].nunique())\n",
    "\n",
    "print(hyst_repro['iso_o'].nunique())\n",
    "print(hyst_repro['iso_d'].nunique())\n",
    "\n",
    "print(distance['iso_o'].nunique())\n",
    "print(distance['iso_d'].nunique())\n",
    "\n",
    "print(comcol['iso_o'].nunique())\n",
    "print(comcol['iso_d'].nunique())\n",
    "\n",
    "print(language['iso_o'].nunique())\n",
    "print(language['iso_d'].nunique())\n",
    "\n",
    "print(contiguity['iso_o'].nunique())\n",
    "print(contiguity['iso_d'].nunique())\n",
    "\n",
    "print(rta['iso_o'].nunique())\n",
    "print(rta['iso_d'].nunique())\n",
    "\n",
    "print(attribute2000_2023['iso_o'].nunique())\n",
    "\n",
    "print(panel['iso_o'].nunique())\n",
    "print(panel['iso_d'].nunique())"
   ]
  },
  {
   "cell_type": "code",
   "execution_count": 79,
   "id": "c1314ff8-c6bb-4fc5-9be5-4cca87191750",
   "metadata": {},
   "outputs": [
    {
     "name": "stdout",
     "output_type": "stream",
     "text": [
      "187\n",
      "187\n"
     ]
    }
   ],
   "source": [
    "print(distance['iso_o'].nunique())\n",
    "print(distance['iso_d'].nunique())"
   ]
  },
  {
   "cell_type": "code",
   "execution_count": 80,
   "id": "1993fb45-98a6-4f37-95ec-45a663e72885",
   "metadata": {},
   "outputs": [],
   "source": [
    "assert total['iso_o'].nunique() == total['iso_d'].nunique()"
   ]
  },
  {
   "cell_type": "code",
   "execution_count": 81,
   "id": "7eab9a00-69fe-4418-9629-41ac57ead234",
   "metadata": {},
   "outputs": [],
   "source": [
    "assert set(total['iso_o'].unique()) == set(total['iso_d'].unique())"
   ]
  },
  {
   "cell_type": "code",
   "execution_count": 82,
   "id": "aac888b7-15c9-4b1e-a089-8e43b8080735",
   "metadata": {},
   "outputs": [],
   "source": [
    "assert repro['iso_o'].nunique() == repro['iso_d'].nunique()"
   ]
  },
  {
   "cell_type": "code",
   "execution_count": 83,
   "id": "ec4d2c1a-a65c-4917-ae7f-3474b0eac05d",
   "metadata": {},
   "outputs": [],
   "source": [
    "assert set(repro['iso_o'].unique()) == set(repro['iso_d'].unique())"
   ]
  },
  {
   "cell_type": "code",
   "execution_count": 84,
   "id": "da119057-5247-4dee-9e6e-ae59ba305332",
   "metadata": {},
   "outputs": [],
   "source": [
    "assert unique['iso_o'].nunique() == unique['iso_d'].nunique()"
   ]
  },
  {
   "cell_type": "code",
   "execution_count": 85,
   "id": "ac055f72-e772-4ade-8595-77711b7c5a76",
   "metadata": {},
   "outputs": [],
   "source": [
    "assert set(unique['iso_o'].unique()) == set(unique['iso_d'].unique())"
   ]
  },
  {
   "cell_type": "code",
   "execution_count": 86,
   "id": "8c1c1edf-22c6-4a53-be10-a1ba8acd2396",
   "metadata": {},
   "outputs": [],
   "source": [
    "assert distance['iso_o'].nunique() == distance['iso_d'].nunique()"
   ]
  },
  {
   "cell_type": "code",
   "execution_count": 87,
   "id": "dd3c6732-4a84-499a-95d0-0dde930f65a2",
   "metadata": {},
   "outputs": [],
   "source": [
    "assert set(distance['iso_o'].unique()) == set(distance['iso_d'].unique())"
   ]
  },
  {
   "cell_type": "code",
   "execution_count": 88,
   "id": "fd1fc04e-5935-4429-ae47-1d4ab0de32b0",
   "metadata": {},
   "outputs": [],
   "source": [
    "assert language['iso_o'].nunique() == language['iso_d'].nunique()"
   ]
  },
  {
   "cell_type": "code",
   "execution_count": 89,
   "id": "416fe12d-7cdd-4415-af7f-9ea7542e416c",
   "metadata": {},
   "outputs": [],
   "source": [
    "assert set(language['iso_o'].unique()) == set(language['iso_d'].unique())"
   ]
  },
  {
   "cell_type": "code",
   "execution_count": 90,
   "id": "b0bd1f66-7338-4d7b-a920-3e30472690a6",
   "metadata": {},
   "outputs": [],
   "source": [
    "assert comcol['iso_o'].nunique() == comcol['iso_d'].nunique()"
   ]
  },
  {
   "cell_type": "code",
   "execution_count": 91,
   "id": "61192c30-f000-40a7-94b3-60cbfbdec62d",
   "metadata": {},
   "outputs": [],
   "source": [
    "assert set(comcol['iso_o'].unique()) == set(comcol['iso_d'].unique())"
   ]
  },
  {
   "cell_type": "code",
   "execution_count": 92,
   "id": "852007d6-9198-499f-b434-fcaa6cea9d9d",
   "metadata": {},
   "outputs": [],
   "source": [
    "assert contiguity['iso_o'].nunique() == contiguity['iso_d'].nunique()"
   ]
  },
  {
   "cell_type": "code",
   "execution_count": 93,
   "id": "fb43384e-9455-4f83-b8ff-768101e70acf",
   "metadata": {},
   "outputs": [],
   "source": [
    "assert set(contiguity['iso_o'].unique()) == set(contiguity['iso_d'].unique())"
   ]
  },
  {
   "cell_type": "code",
   "execution_count": 94,
   "id": "2b438e2e-cc60-4825-a5b0-d1fb11ea700c",
   "metadata": {},
   "outputs": [],
   "source": [
    "assert panel['iso_o'].nunique() == panel['iso_d'].nunique()"
   ]
  },
  {
   "cell_type": "code",
   "execution_count": 95,
   "id": "199f44f8-d2ff-4f58-957f-5c769f6b5fdd",
   "metadata": {},
   "outputs": [],
   "source": [
    "assert set(panel['iso_o'].unique()) == set(panel['iso_d'].unique())"
   ]
  },
  {
   "cell_type": "code",
   "execution_count": 96,
   "id": "2ec4a8ba-9a95-4e15-ade9-439d9a9146a9",
   "metadata": {},
   "outputs": [],
   "source": [
    "unique = unique.reset_index(drop = True)"
   ]
  },
  {
   "cell_type": "markdown",
   "id": "4f1bd6fb-91cf-4dd9-82ad-7b4535ae79fe",
   "metadata": {},
   "source": [
    "### Adding network matrices to attribute2000_2023 data"
   ]
  },
  {
   "cell_type": "code",
   "execution_count": 97,
   "id": "dd708a77-6bd3-4f89-97d3-aa5079c146a7",
   "metadata": {},
   "outputs": [],
   "source": [
    "assert panel.groupby(['iso_o', 'iso_d']).ngroups == panel[\"dyad_id\"].nunique()"
   ]
  },
  {
   "cell_type": "code",
   "execution_count": 98,
   "id": "f13ed06a-82c0-4538-85dd-9a0d84119e5f",
   "metadata": {},
   "outputs": [
    {
     "data": {
      "text/plain": [
       "8.785997186675242"
      ]
     },
     "execution_count": 98,
     "metadata": {},
     "output_type": "execute_result"
    }
   ],
   "source": [
    "distance['log_dist'].mean()"
   ]
  },
  {
   "cell_type": "code",
   "execution_count": 99,
   "id": "d05623a0-c44d-49ee-bb47-94868582a5e0",
   "metadata": {},
   "outputs": [
    {
     "name": "stdout",
     "output_type": "stream",
     "text": [
      "comcol\n",
      "0    31118\n",
      "1     3664\n",
      "Name: count, dtype: int64\n",
      "comcol\n",
      "0    89.47%\n",
      "1    10.53%\n",
      "Name: proportion, dtype: object\n"
     ]
    }
   ],
   "source": [
    "print(comcol['comcol'].value_counts())\n",
    "print((comcol['comcol'].value_counts(normalize=True)* 100).round(2).astype(str) + '%')"
   ]
  },
  {
   "cell_type": "code",
   "execution_count": 100,
   "id": "9b327a96-27e0-406a-b19c-a4092f1dd042",
   "metadata": {},
   "outputs": [
    {
     "name": "stdout",
     "output_type": "stream",
     "text": [
      "colony\n",
      "0    34404\n",
      "1      378\n",
      "Name: count, dtype: int64\n",
      "colony\n",
      "0    98.91%\n",
      "1     1.09%\n",
      "Name: proportion, dtype: object\n"
     ]
    }
   ],
   "source": [
    "print(colonizer['colony'].value_counts())\n",
    "print((colonizer['colony'].value_counts(normalize=True)* 100).round(2).astype(str) + '%')"
   ]
  },
  {
   "cell_type": "code",
   "execution_count": 101,
   "id": "d8315a69-8c16-4f0e-9ed4-8768869538e6",
   "metadata": {},
   "outputs": [
    {
     "name": "stdout",
     "output_type": "stream",
     "text": [
      "comlang_off\n",
      "0    29440\n",
      "1     5342\n",
      "Name: count, dtype: int64\n",
      "comlang_off\n",
      "0    84.64%\n",
      "1    15.36%\n",
      "Name: proportion, dtype: object\n"
     ]
    }
   ],
   "source": [
    "print(language['comlang_off'].value_counts())\n",
    "print((language['comlang_off'].value_counts(normalize=True)* 100).round(2).astype(str) + '%')"
   ]
  },
  {
   "cell_type": "code",
   "execution_count": 102,
   "id": "7a2df2f8-c724-413e-97ea-42a56de6fdaa",
   "metadata": {},
   "outputs": [],
   "source": [
    "fixed = pd.read_csv(\"../data/cleaned/fixed.csv\")"
   ]
  },
  {
   "cell_type": "code",
   "execution_count": 103,
   "id": "2dcfb169-24cb-4a0b-ac61-45b7c0d475b7",
   "metadata": {},
   "outputs": [
    {
     "data": {
      "text/plain": [
       "37"
      ]
     },
     "execution_count": 103,
     "metadata": {},
     "output_type": "execute_result"
    }
   ],
   "source": [
    "difference = set(fixed['iso_o'].unique()) - set(language['iso_o'].unique())\n",
    "len(difference)"
   ]
  },
  {
   "cell_type": "code",
   "execution_count": 104,
   "id": "acb4958b-c026-482d-a223-f4bdf61b6d9f",
   "metadata": {},
   "outputs": [
    {
     "data": {
      "text/plain": [
       "37"
      ]
     },
     "execution_count": 104,
     "metadata": {},
     "output_type": "execute_result"
    }
   ],
   "source": [
    "difference1 = set(fixed['iso_d'].unique()) - set(language['iso_d'].unique())\n",
    "len(difference1)"
   ]
  },
  {
   "cell_type": "code",
   "execution_count": 105,
   "id": "e74fdcae-43c7-4503-b592-62317dd8f932",
   "metadata": {},
   "outputs": [],
   "source": [
    "fixed = fixed[~fixed['iso_o'].isin(difference)]\n",
    "fixed = fixed[~fixed['iso_d'].isin(difference1)]"
   ]
  },
  {
   "cell_type": "code",
   "execution_count": 106,
   "id": "48042636-22b1-44f7-a536-819ec2a621cd",
   "metadata": {},
   "outputs": [
    {
     "name": "stdout",
     "output_type": "stream",
     "text": [
      "187\n",
      "187\n"
     ]
    }
   ],
   "source": [
    "print(fixed['iso_o'].nunique())\n",
    "print(fixed['iso_d'].nunique())"
   ]
  },
  {
   "cell_type": "code",
   "execution_count": 107,
   "id": "3bd5c648-790c-47cc-a467-de1e2e83f6b0",
   "metadata": {},
   "outputs": [
    {
     "data": {
      "text/plain": [
       "34782"
      ]
     },
     "execution_count": 107,
     "metadata": {},
     "output_type": "execute_result"
    }
   ],
   "source": [
    "fixed.groupby(['iso_o', 'iso_d']).ngroups"
   ]
  },
  {
   "cell_type": "code",
   "execution_count": 108,
   "id": "11a9c63a-51c2-4623-9876-dd37b6236479",
   "metadata": {},
   "outputs": [
    {
     "data": {
      "text/plain": [
       "8170.805725177392"
      ]
     },
     "execution_count": 108,
     "metadata": {},
     "output_type": "execute_result"
    }
   ],
   "source": [
    "fixed['dist'].mean()"
   ]
  },
  {
   "cell_type": "code",
   "execution_count": 109,
   "id": "84b7da34-9bae-4ffe-9528-18b75819b1c6",
   "metadata": {},
   "outputs": [
    {
     "data": {
      "text/plain": [
       "4557.290052151321"
      ]
     },
     "execution_count": 109,
     "metadata": {},
     "output_type": "execute_result"
    }
   ],
   "source": [
    "fixed['dist'].std()"
   ]
  },
  {
   "cell_type": "code",
   "execution_count": 110,
   "id": "ca33a7cf-abb9-4c30-90ed-5bd1b3045a23",
   "metadata": {},
   "outputs": [
    {
     "data": {
      "text/plain": [
       "59.61723"
      ]
     },
     "execution_count": 110,
     "metadata": {},
     "output_type": "execute_result"
    }
   ],
   "source": [
    "fixed['dist'].min()"
   ]
  },
  {
   "cell_type": "code",
   "execution_count": 111,
   "id": "a3b6bbb4-baf4-412f-99ad-8e9cc2589238",
   "metadata": {},
   "outputs": [
    {
     "data": {
      "text/plain": [
       "19904.45"
      ]
     },
     "execution_count": 111,
     "metadata": {},
     "output_type": "execute_result"
    }
   ],
   "source": [
    "fixed['dist'].max()"
   ]
  },
  {
   "cell_type": "code",
   "execution_count": 112,
   "id": "39d62f9a-3e6f-4869-ad29-ff42c8274d49",
   "metadata": {},
   "outputs": [
    {
     "data": {
      "text/plain": [
       "187"
      ]
     },
     "execution_count": 112,
     "metadata": {},
     "output_type": "execute_result"
    }
   ],
   "source": [
    "attribute2000_2023['iso_o'].nunique()"
   ]
  },
  {
   "cell_type": "code",
   "execution_count": 116,
   "id": "ab828174-b510-4316-9681-50cc010cfc2c",
   "metadata": {},
   "outputs": [
    {
     "data": {
      "text/plain": [
       "Index(['iso_o', 'iso_d', 'TIME_PERIOD', 'total_tr', 'unique_cultural_tr',\n",
       "       'reproducible_cultural_tr', 'hysteresis_total', 'hysteresis_unique',\n",
       "       'hysteresis_repro', 'rta', 'gdp', 'gdp_pct', 'population',\n",
       "       'trade_gdp_ratio', 'log_gdp', 'log_trade_gdp_ratio', 'log_gdp_pct',\n",
       "       'log_population', 'D_log_gdp_pct', 'D_log_gdp', 'contig', 'comlang_off',\n",
       "       'colony', 'comcol', 'dist', 'log_dist', 'country', 'landlocked',\n",
       "       'continent', 'lat', 'lon', 'langoff_1', 'colonizer1', 'category',\n",
       "       'development', 'gdp_d', 'gdp_pct_d', 'population_d',\n",
       "       'trade_gdp_ratio_d', 'log_gdp_d', 'log_trade_gdp_ratio_d',\n",
       "       'log_gdp_pct_d', 'log_population_d', 'D_log_gdp_pct_d', 'D_log_gdp_d',\n",
       "       'country_d', 'landlocked_d', 'continent_d', 'langoff_1_d',\n",
       "       'colonizer1_d', 'category_d', 'development_d', 'dyad_id'],\n",
       "      dtype='object')"
      ]
     },
     "execution_count": 116,
     "metadata": {},
     "output_type": "execute_result"
    }
   ],
   "source": [
    "panel.columns"
   ]
  },
  {
   "cell_type": "code",
   "execution_count": 117,
   "id": "11e0f23c-e0c9-492e-9e93-64f38d66d434",
   "metadata": {},
   "outputs": [],
   "source": [
    "unique.to_csv(\"../data/cleaned/unique_edgelist.csv\", encoding = 'utf-8', index = False)\n",
    "total.to_csv(\"../data/cleaned/total_edgelist.csv\", encoding = 'utf-8', index = False)\n",
    "unique.to_csv(\"../data/cleaned/unique_edgelist.csv\", encoding = 'utf-8', index = False)\n",
    "hyst_total.to_csv(\"../data/cleaned/edgelist_total_hyst.csv\", encoding = 'utf-8', index = False)\n",
    "hyst_unique.to_csv(\"../data/cleaned/edgelist_unique_hyst.csv\", encoding = 'utf-8', index = False)\n",
    "hyst_repro.to_csv(\"../data/cleaned/edgelist_repro_hyst.csv\", encoding = 'utf-8', index = False)\n",
    "repro.to_csv(\"../data/cleaned/reproducible_edgelist.csv\", encoding = 'utf-8', index = False)\n",
    "distance.to_csv(\"../data/cleaned/distance_edgelist.csv\", encoding = 'utf-8', index = False)\n",
    "comcol.to_csv(\"../data/cleaned/comcol_edgelist.csv\", encoding = 'utf-8', index = False)\n",
    "colonizer.to_csv(\"../data/cleaned/colonizer_edgelist.csv\", encoding = 'utf-8', index = False)\n",
    "language.to_csv(\"../data/cleaned/language_edgelist.csv\", encoding = 'utf-8', index = False)\n",
    "contiguity.to_csv(\"../data/cleaned/contiguity_edgelist.csv\", encoding = 'utf-8', index = False)\n",
    "rta.to_csv(\"../data/cleaned/rta_edgelist.csv\", encoding = 'utf-8', index = False)\n",
    "panel.to_csv(\"../data/cleaned/panel_complete.csv\", encoding = 'utf-8', index = False)\n",
    "attribute2000_2023.to_csv(\"../data/cleaned/attributes2000_2023.csv\", encoding = 'utf-8', index = False)"
   ]
  },
  {
   "cell_type": "code",
   "execution_count": 2,
   "id": "290b4bc7-4c9f-4964-b75f-fd61199c5b2a",
   "metadata": {},
   "outputs": [],
   "source": [
    "panel = pd.read_csv(\"../data/cleaned/panel_complete.csv\")"
   ]
  },
  {
   "cell_type": "code",
   "execution_count": 5,
   "id": "2726e588-db88-45b6-bae7-2f977d434588",
   "metadata": {},
   "outputs": [
    {
     "data": {
      "text/plain": [
       "Index(['iso_o', 'iso_d', 'TIME_PERIOD', 'total_tr', 'unique_cultural_tr',\n",
       "       'reproducible_cultural_tr', 'hysteresis_total', 'hysteresis_unique',\n",
       "       'hysteresis_repro', 'rta', 'gdp', 'gdp_pct', 'population',\n",
       "       'trade_gdp_ratio', 'log_gdp', 'log_trade_gdp_ratio', 'log_gdp_pct',\n",
       "       'log_population', 'D_log_gdp_pct', 'D_log_gdp', 'contig', 'comlang_off',\n",
       "       'colony', 'comcol', 'dist', 'log_dist', 'country', 'landlocked',\n",
       "       'continent', 'lat', 'lon', 'langoff_1', 'colonizer1', 'category',\n",
       "       'development', 'gdp_d', 'gdp_pct_d', 'population_d',\n",
       "       'trade_gdp_ratio_d', 'log_gdp_d', 'log_trade_gdp_ratio_d',\n",
       "       'log_gdp_pct_d', 'log_population_d', 'D_log_gdp_pct_d', 'D_log_gdp_d',\n",
       "       'country_d', 'landlocked_d', 'continent_d', 'langoff_1_d',\n",
       "       'colonizer1_d', 'category_d', 'development_d', 'dyad_id'],\n",
       "      dtype='object')"
      ]
     },
     "execution_count": 5,
     "metadata": {},
     "output_type": "execute_result"
    }
   ],
   "source": [
    "panel.columns"
   ]
  },
  {
   "cell_type": "code",
   "execution_count": 6,
   "id": "51c9667d-b9ec-47fc-8746-f37919c93991",
   "metadata": {},
   "outputs": [],
   "source": [
    "at2021 = pd.read_csv('../data/cleaned/attribute2021.csv')\n",
    "at2022 = pd.read_csv('../data/cleaned/attribute2022.csv')\n",
    "at2023 = pd.read_csv('../data/cleaned/attribute2023.csv')"
   ]
  },
  {
   "cell_type": "code",
   "execution_count": 7,
   "id": "aa18b6af-a9ce-4b2e-bbdc-f750ff32d283",
   "metadata": {},
   "outputs": [
    {
     "data": {
      "text/plain": [
       "Index(['iso_o', 'Country', 'Time', 'gdp', 'gdp_pct', 'population',\n",
       "       'trade_gdp_ratio', 'log_gdp', 'log_trade_gdp_ratio', 'country',\n",
       "       'landlocked', 'continent', 'lat', 'lon', 'langoff_1', 'colonizer1',\n",
       "       'category', 'development', 'TIME_PERIOD', 'log_gdp_pct',\n",
       "       'log_population', 'D_log_gdp_pct', 'D_log_gdp', 'Unnamed: 0_x',\n",
       "       'pageRank_unique.name', 'pageRank_unique.wpr', 'close_unique.name',\n",
       "       'close_unique.closeness', 'outdegree_unique.name',\n",
       "       'outdegree_unique.degree', 'indegree_unique.name',\n",
       "       'indegree_unique.degree', 'local_clust_tt_unique',\n",
       "       'local_clust_out_unique', 'Unnamed: 0_y', 'pageRank_repro.name',\n",
       "       'pageRank_repro.wpr', 'close_repro.name', 'close_repro.closeness',\n",
       "       'outdegree_repro.name', 'outdegree_repro.degree', 'indegree_repro.name',\n",
       "       'indegree_repro.degree', 'local_clust_tt_repro',\n",
       "       'local_clust_out_repro', 'Unnamed: 0', 'pageRank_total.name',\n",
       "       'pageRank_total.wpr', 'close_total.name', 'close_total.closeness',\n",
       "       'outdegree_total.name', 'outdegree_total.degree', 'indegree_total.name',\n",
       "       'indegree_total.degree', 'local_clust_tt_total',\n",
       "       'local_clust_out_total'],\n",
       "      dtype='object')"
      ]
     },
     "execution_count": 7,
     "metadata": {},
     "output_type": "execute_result"
    }
   ],
   "source": [
    "at2023.columns"
   ]
  },
  {
   "cell_type": "code",
   "execution_count": 26,
   "id": "f6116967-9ef2-4560-957b-76628a14aeef",
   "metadata": {},
   "outputs": [
    {
     "data": {
      "text/plain": [
       "58011.0793752247"
      ]
     },
     "execution_count": 26,
     "metadata": {},
     "output_type": "execute_result"
    }
   ],
   "source": [
    "at2023['outdegree_repro.degree'].max()"
   ]
  },
  {
   "cell_type": "code",
   "execution_count": 27,
   "id": "fdb56c04-e5e7-4cc0-8d57-5872db978bff",
   "metadata": {},
   "outputs": [
    {
     "data": {
      "text/html": [
       "<div>\n",
       "<style scoped>\n",
       "    .dataframe tbody tr th:only-of-type {\n",
       "        vertical-align: middle;\n",
       "    }\n",
       "\n",
       "    .dataframe tbody tr th {\n",
       "        vertical-align: top;\n",
       "    }\n",
       "\n",
       "    .dataframe thead th {\n",
       "        text-align: right;\n",
       "    }\n",
       "</style>\n",
       "<table border=\"1\" class=\"dataframe\">\n",
       "  <thead>\n",
       "    <tr style=\"text-align: right;\">\n",
       "      <th></th>\n",
       "      <th>iso_o</th>\n",
       "      <th>Country</th>\n",
       "      <th>Time</th>\n",
       "      <th>gdp</th>\n",
       "      <th>gdp_pct</th>\n",
       "      <th>population</th>\n",
       "      <th>trade_gdp_ratio</th>\n",
       "      <th>log_gdp</th>\n",
       "      <th>log_trade_gdp_ratio</th>\n",
       "      <th>country</th>\n",
       "      <th>...</th>\n",
       "      <th>pageRank_total.name</th>\n",
       "      <th>pageRank_total.wpr</th>\n",
       "      <th>close_total.name</th>\n",
       "      <th>close_total.closeness</th>\n",
       "      <th>outdegree_total.name</th>\n",
       "      <th>outdegree_total.degree</th>\n",
       "      <th>indegree_total.name</th>\n",
       "      <th>indegree_total.degree</th>\n",
       "      <th>local_clust_tt_total</th>\n",
       "      <th>local_clust_out_total</th>\n",
       "    </tr>\n",
       "  </thead>\n",
       "  <tbody>\n",
       "    <tr>\n",
       "      <th>37</th>\n",
       "      <td>CHN</td>\n",
       "      <td>China</td>\n",
       "      <td>2023</td>\n",
       "      <td>1.827036e+13</td>\n",
       "      <td>12951.18</td>\n",
       "      <td>1.410710e+09</td>\n",
       "      <td>36.11</td>\n",
       "      <td>30.536301</td>\n",
       "      <td>3.58657</td>\n",
       "      <td>China</td>\n",
       "      <td>...</td>\n",
       "      <td>35</td>\n",
       "      <td>0.062325</td>\n",
       "      <td>35</td>\n",
       "      <td>325578.853769</td>\n",
       "      <td>35</td>\n",
       "      <td>122058.76639</td>\n",
       "      <td>35</td>\n",
       "      <td>99481.500385</td>\n",
       "      <td>0.94007</td>\n",
       "      <td>0.939538</td>\n",
       "    </tr>\n",
       "  </tbody>\n",
       "</table>\n",
       "<p>1 rows × 56 columns</p>\n",
       "</div>"
      ],
      "text/plain": [
       "   iso_o Country  Time           gdp   gdp_pct    population  trade_gdp_ratio  \\\n",
       "37   CHN   China  2023  1.827036e+13  12951.18  1.410710e+09            36.11   \n",
       "\n",
       "      log_gdp  log_trade_gdp_ratio country  ...  pageRank_total.name  \\\n",
       "37  30.536301              3.58657   China  ...                   35   \n",
       "\n",
       "   pageRank_total.wpr  close_total.name  close_total.closeness  \\\n",
       "37           0.062325                35          325578.853769   \n",
       "\n",
       "   outdegree_total.name outdegree_total.degree indegree_total.name  \\\n",
       "37                   35           122058.76639                  35   \n",
       "\n",
       "    indegree_total.degree  local_clust_tt_total  local_clust_out_total  \n",
       "37           99481.500385               0.94007               0.939538  \n",
       "\n",
       "[1 rows x 56 columns]"
      ]
     },
     "execution_count": 27,
     "metadata": {},
     "output_type": "execute_result"
    }
   ],
   "source": [
    "at2023[at2023['outdegree_repro.degree'] == 58011.0793752247]"
   ]
  },
  {
   "cell_type": "code",
   "execution_count": 28,
   "id": "bc2b2f33-8f50-4c5c-a6e8-60fa5a385110",
   "metadata": {},
   "outputs": [],
   "source": [
    "at2023= at2023.sort_values(by = 'outdegree_repro.degree', ascending=False)"
   ]
  },
  {
   "cell_type": "code",
   "execution_count": 34,
   "id": "fe059919-6b2b-49b7-8ff2-bcd2bdd1689b",
   "metadata": {},
   "outputs": [
    {
     "data": {
      "text/plain": [
       "Index(['iso_o', 'Country', 'Time', 'gdp', 'gdp_pct', 'population',\n",
       "       'trade_gdp_ratio', 'log_gdp', 'log_trade_gdp_ratio', 'country',\n",
       "       'landlocked', 'continent', 'lat', 'lon', 'langoff_1', 'colonizer1',\n",
       "       'category', 'development', 'TIME_PERIOD', 'log_gdp_pct',\n",
       "       'log_population', 'D_log_gdp_pct', 'D_log_gdp', 'Unnamed: 0_x',\n",
       "       'pageRank_unique.name', 'pageRank_unique.wpr', 'close_unique.name',\n",
       "       'close_unique.closeness', 'outdegree_unique.name',\n",
       "       'outdegree_unique.degree', 'indegree_unique.name',\n",
       "       'indegree_unique.degree', 'local_clust_tt_unique',\n",
       "       'local_clust_out_unique', 'Unnamed: 0_y', 'pageRank_repro.name',\n",
       "       'pageRank_repro.wpr', 'close_repro.name', 'close_repro.closeness',\n",
       "       'outdegree_repro.name', 'outdegree_repro.degree', 'indegree_repro.name',\n",
       "       'indegree_repro.degree', 'local_clust_tt_repro',\n",
       "       'local_clust_out_repro', 'Unnamed: 0', 'pageRank_total.name',\n",
       "       'pageRank_total.wpr', 'close_total.name', 'close_total.closeness',\n",
       "       'outdegree_total.name', 'outdegree_total.degree', 'indegree_total.name',\n",
       "       'indegree_total.degree', 'local_clust_tt_total',\n",
       "       'local_clust_out_total'],\n",
       "      dtype='object')"
      ]
     },
     "execution_count": 34,
     "metadata": {},
     "output_type": "execute_result"
    }
   ],
   "source": [
    "at2023.columns"
   ]
  },
  {
   "cell_type": "code",
   "execution_count": 37,
   "id": "4cf24183-eb60-49c9-90e2-3f5041617550",
   "metadata": {},
   "outputs": [
    {
     "data": {
      "text/html": [
       "<div>\n",
       "<style scoped>\n",
       "    .dataframe tbody tr th:only-of-type {\n",
       "        vertical-align: middle;\n",
       "    }\n",
       "\n",
       "    .dataframe tbody tr th {\n",
       "        vertical-align: top;\n",
       "    }\n",
       "\n",
       "    .dataframe thead th {\n",
       "        text-align: right;\n",
       "    }\n",
       "</style>\n",
       "<table border=\"1\" class=\"dataframe\">\n",
       "  <thead>\n",
       "    <tr style=\"text-align: right;\">\n",
       "      <th></th>\n",
       "      <th>iso_o</th>\n",
       "      <th>development</th>\n",
       "    </tr>\n",
       "  </thead>\n",
       "  <tbody>\n",
       "    <tr>\n",
       "      <th>37</th>\n",
       "      <td>CHN</td>\n",
       "      <td>0.0</td>\n",
       "    </tr>\n",
       "    <tr>\n",
       "      <th>93</th>\n",
       "      <td>KOR</td>\n",
       "      <td>1.0</td>\n",
       "    </tr>\n",
       "    <tr>\n",
       "      <th>65</th>\n",
       "      <td>DEU</td>\n",
       "      <td>1.0</td>\n",
       "    </tr>\n",
       "    <tr>\n",
       "      <th>183</th>\n",
       "      <td>VNM</td>\n",
       "      <td>0.0</td>\n",
       "    </tr>\n",
       "    <tr>\n",
       "      <th>178</th>\n",
       "      <td>USA</td>\n",
       "      <td>1.0</td>\n",
       "    </tr>\n",
       "    <tr>\n",
       "      <th>87</th>\n",
       "      <td>JPN</td>\n",
       "      <td>1.0</td>\n",
       "    </tr>\n",
       "    <tr>\n",
       "      <th>107</th>\n",
       "      <td>MYS</td>\n",
       "      <td>0.0</td>\n",
       "    </tr>\n",
       "    <tr>\n",
       "      <th>150</th>\n",
       "      <td>SGP</td>\n",
       "      <td>1.0</td>\n",
       "    </tr>\n",
       "    <tr>\n",
       "      <th>114</th>\n",
       "      <td>MEX</td>\n",
       "      <td>0.0</td>\n",
       "    </tr>\n",
       "    <tr>\n",
       "      <th>76</th>\n",
       "      <td>HKG</td>\n",
       "      <td>1.0</td>\n",
       "    </tr>\n",
       "  </tbody>\n",
       "</table>\n",
       "</div>"
      ],
      "text/plain": [
       "    iso_o  development\n",
       "37    CHN          0.0\n",
       "93    KOR          1.0\n",
       "65    DEU          1.0\n",
       "183   VNM          0.0\n",
       "178   USA          1.0\n",
       "87    JPN          1.0\n",
       "107   MYS          0.0\n",
       "150   SGP          1.0\n",
       "114   MEX          0.0\n",
       "76    HKG          1.0"
      ]
     },
     "execution_count": 37,
     "metadata": {},
     "output_type": "execute_result"
    }
   ],
   "source": [
    "at2023[['iso_o', 'development']].head(10)"
   ]
  },
  {
   "cell_type": "code",
   "execution_count": 30,
   "id": "7495e7c2-e019-4866-86a9-8e26478cec33",
   "metadata": {},
   "outputs": [],
   "source": [
    "at2023_importer = at2023.sort_values(by = 'indegree_repro.degree', ascending=False)"
   ]
  },
  {
   "cell_type": "code",
   "execution_count": 31,
   "id": "eb9858bf-a1bf-4bde-b7c5-970ba15f8f0b",
   "metadata": {},
   "outputs": [
    {
     "data": {
      "text/html": [
       "<div>\n",
       "<style scoped>\n",
       "    .dataframe tbody tr th:only-of-type {\n",
       "        vertical-align: middle;\n",
       "    }\n",
       "\n",
       "    .dataframe tbody tr th {\n",
       "        vertical-align: top;\n",
       "    }\n",
       "\n",
       "    .dataframe thead th {\n",
       "        text-align: right;\n",
       "    }\n",
       "</style>\n",
       "<table border=\"1\" class=\"dataframe\">\n",
       "  <thead>\n",
       "    <tr style=\"text-align: right;\">\n",
       "      <th></th>\n",
       "      <th>iso_o</th>\n",
       "      <th>Country</th>\n",
       "      <th>Time</th>\n",
       "      <th>gdp</th>\n",
       "      <th>gdp_pct</th>\n",
       "      <th>population</th>\n",
       "      <th>trade_gdp_ratio</th>\n",
       "      <th>log_gdp</th>\n",
       "      <th>log_trade_gdp_ratio</th>\n",
       "      <th>country</th>\n",
       "      <th>...</th>\n",
       "      <th>pageRank_total.name</th>\n",
       "      <th>pageRank_total.wpr</th>\n",
       "      <th>close_total.name</th>\n",
       "      <th>close_total.closeness</th>\n",
       "      <th>outdegree_total.name</th>\n",
       "      <th>outdegree_total.degree</th>\n",
       "      <th>indegree_total.name</th>\n",
       "      <th>indegree_total.degree</th>\n",
       "      <th>local_clust_tt_total</th>\n",
       "      <th>local_clust_out_total</th>\n",
       "    </tr>\n",
       "  </thead>\n",
       "  <tbody>\n",
       "    <tr>\n",
       "      <th>178</th>\n",
       "      <td>USA</td>\n",
       "      <td>United States</td>\n",
       "      <td>2023</td>\n",
       "      <td>2.772071e+13</td>\n",
       "      <td>82304.62</td>\n",
       "      <td>3.368062e+08</td>\n",
       "      <td>24.90</td>\n",
       "      <td>30.953201</td>\n",
       "      <td>3.214868</td>\n",
       "      <td>United States</td>\n",
       "      <td>...</td>\n",
       "      <td>180</td>\n",
       "      <td>0.075686</td>\n",
       "      <td>180</td>\n",
       "      <td>294259.352193</td>\n",
       "      <td>180</td>\n",
       "      <td>95694.266088</td>\n",
       "      <td>180</td>\n",
       "      <td>130467.458979</td>\n",
       "      <td>0.957981</td>\n",
       "      <td>0.954751</td>\n",
       "    </tr>\n",
       "    <tr>\n",
       "      <th>37</th>\n",
       "      <td>CHN</td>\n",
       "      <td>China</td>\n",
       "      <td>2023</td>\n",
       "      <td>1.827036e+13</td>\n",
       "      <td>12951.18</td>\n",
       "      <td>1.410710e+09</td>\n",
       "      <td>36.11</td>\n",
       "      <td>30.536301</td>\n",
       "      <td>3.586570</td>\n",
       "      <td>China</td>\n",
       "      <td>...</td>\n",
       "      <td>35</td>\n",
       "      <td>0.062325</td>\n",
       "      <td>35</td>\n",
       "      <td>325578.853769</td>\n",
       "      <td>35</td>\n",
       "      <td>122058.766390</td>\n",
       "      <td>35</td>\n",
       "      <td>99481.500385</td>\n",
       "      <td>0.940070</td>\n",
       "      <td>0.939538</td>\n",
       "    </tr>\n",
       "    <tr>\n",
       "      <th>76</th>\n",
       "      <td>HKG</td>\n",
       "      <td>Hong Kong SAR, China</td>\n",
       "      <td>2023</td>\n",
       "      <td>3.810664e+11</td>\n",
       "      <td>50565.46</td>\n",
       "      <td>7.536100e+06</td>\n",
       "      <td>352.99</td>\n",
       "      <td>26.666239</td>\n",
       "      <td>5.866440</td>\n",
       "      <td>Hong Kong SAR</td>\n",
       "      <td>...</td>\n",
       "      <td>75</td>\n",
       "      <td>0.009972</td>\n",
       "      <td>75</td>\n",
       "      <td>164158.413286</td>\n",
       "      <td>75</td>\n",
       "      <td>10276.614300</td>\n",
       "      <td>75</td>\n",
       "      <td>20832.871548</td>\n",
       "      <td>0.984029</td>\n",
       "      <td>0.973031</td>\n",
       "    </tr>\n",
       "    <tr>\n",
       "      <th>65</th>\n",
       "      <td>DEU</td>\n",
       "      <td>Germany</td>\n",
       "      <td>2023</td>\n",
       "      <td>4.525704e+12</td>\n",
       "      <td>53940.41</td>\n",
       "      <td>8.390192e+07</td>\n",
       "      <td>82.80</td>\n",
       "      <td>29.140794</td>\n",
       "      <td>4.416428</td>\n",
       "      <td>Germany</td>\n",
       "      <td>...</td>\n",
       "      <td>46</td>\n",
       "      <td>0.038198</td>\n",
       "      <td>46</td>\n",
       "      <td>289564.071700</td>\n",
       "      <td>46</td>\n",
       "      <td>82863.388822</td>\n",
       "      <td>46</td>\n",
       "      <td>70900.764482</td>\n",
       "      <td>0.978146</td>\n",
       "      <td>0.978538</td>\n",
       "    </tr>\n",
       "    <tr>\n",
       "      <th>114</th>\n",
       "      <td>MEX</td>\n",
       "      <td>Mexico</td>\n",
       "      <td>2023</td>\n",
       "      <td>1.793799e+12</td>\n",
       "      <td>13826.13</td>\n",
       "      <td>1.297398e+08</td>\n",
       "      <td>73.77</td>\n",
       "      <td>28.215357</td>\n",
       "      <td>4.300952</td>\n",
       "      <td>Mexico</td>\n",
       "      <td>...</td>\n",
       "      <td>114</td>\n",
       "      <td>0.014729</td>\n",
       "      <td>114</td>\n",
       "      <td>265796.654406</td>\n",
       "      <td>114</td>\n",
       "      <td>35597.795903</td>\n",
       "      <td>114</td>\n",
       "      <td>33728.276127</td>\n",
       "      <td>0.992158</td>\n",
       "      <td>0.995907</td>\n",
       "    </tr>\n",
       "    <tr>\n",
       "      <th>183</th>\n",
       "      <td>VNM</td>\n",
       "      <td>Viet Nam</td>\n",
       "      <td>2023</td>\n",
       "      <td>4.338577e+11</td>\n",
       "      <td>4323.35</td>\n",
       "      <td>1.003522e+08</td>\n",
       "      <td>164.82</td>\n",
       "      <td>26.795982</td>\n",
       "      <td>5.104854</td>\n",
       "      <td>Vietnam</td>\n",
       "      <td>...</td>\n",
       "      <td>184</td>\n",
       "      <td>0.007441</td>\n",
       "      <td>184</td>\n",
       "      <td>191219.984855</td>\n",
       "      <td>184</td>\n",
       "      <td>19198.257334</td>\n",
       "      <td>184</td>\n",
       "      <td>18039.935424</td>\n",
       "      <td>0.991303</td>\n",
       "      <td>0.989836</td>\n",
       "    </tr>\n",
       "    <tr>\n",
       "      <th>93</th>\n",
       "      <td>KOR</td>\n",
       "      <td>Korea, Rep.</td>\n",
       "      <td>2023</td>\n",
       "      <td>1.712793e+12</td>\n",
       "      <td>33121.37</td>\n",
       "      <td>5.171262e+07</td>\n",
       "      <td>87.94</td>\n",
       "      <td>28.169146</td>\n",
       "      <td>4.476655</td>\n",
       "      <td>Korea</td>\n",
       "      <td>...</td>\n",
       "      <td>97</td>\n",
       "      <td>0.015740</td>\n",
       "      <td>97</td>\n",
       "      <td>217770.595607</td>\n",
       "      <td>97</td>\n",
       "      <td>33218.811980</td>\n",
       "      <td>97</td>\n",
       "      <td>35696.016797</td>\n",
       "      <td>0.956575</td>\n",
       "      <td>0.954003</td>\n",
       "    </tr>\n",
       "    <tr>\n",
       "      <th>87</th>\n",
       "      <td>JPN</td>\n",
       "      <td>Japan</td>\n",
       "      <td>2023</td>\n",
       "      <td>4.213167e+12</td>\n",
       "      <td>33836.18</td>\n",
       "      <td>1.245166e+08</td>\n",
       "      <td>45.15</td>\n",
       "      <td>29.069236</td>\n",
       "      <td>3.809990</td>\n",
       "      <td>Japan</td>\n",
       "      <td>...</td>\n",
       "      <td>90</td>\n",
       "      <td>0.019889</td>\n",
       "      <td>90</td>\n",
       "      <td>237930.401855</td>\n",
       "      <td>90</td>\n",
       "      <td>40577.227133</td>\n",
       "      <td>90</td>\n",
       "      <td>42113.160415</td>\n",
       "      <td>0.971412</td>\n",
       "      <td>0.971686</td>\n",
       "    </tr>\n",
       "    <tr>\n",
       "      <th>123</th>\n",
       "      <td>NLD</td>\n",
       "      <td>Netherlands</td>\n",
       "      <td>2023</td>\n",
       "      <td>1.154361e+12</td>\n",
       "      <td>64572.01</td>\n",
       "      <td>1.787712e+07</td>\n",
       "      <td>165.91</td>\n",
       "      <td>27.774568</td>\n",
       "      <td>5.111445</td>\n",
       "      <td>The Netherlands</td>\n",
       "      <td>...</td>\n",
       "      <td>131</td>\n",
       "      <td>0.021084</td>\n",
       "      <td>131</td>\n",
       "      <td>223553.568390</td>\n",
       "      <td>131</td>\n",
       "      <td>40938.311093</td>\n",
       "      <td>131</td>\n",
       "      <td>41206.537078</td>\n",
       "      <td>0.973235</td>\n",
       "      <td>0.974871</td>\n",
       "    </tr>\n",
       "    <tr>\n",
       "      <th>150</th>\n",
       "      <td>SGP</td>\n",
       "      <td>Singapore</td>\n",
       "      <td>2023</td>\n",
       "      <td>5.054395e+11</td>\n",
       "      <td>85412.23</td>\n",
       "      <td>5.917648e+06</td>\n",
       "      <td>325.69</td>\n",
       "      <td>26.948694</td>\n",
       "      <td>5.785946</td>\n",
       "      <td>Singapore</td>\n",
       "      <td>...</td>\n",
       "      <td>154</td>\n",
       "      <td>0.010838</td>\n",
       "      <td>154</td>\n",
       "      <td>166337.373179</td>\n",
       "      <td>154</td>\n",
       "      <td>21406.586018</td>\n",
       "      <td>154</td>\n",
       "      <td>23568.292508</td>\n",
       "      <td>0.956931</td>\n",
       "      <td>0.938964</td>\n",
       "    </tr>\n",
       "  </tbody>\n",
       "</table>\n",
       "<p>10 rows × 56 columns</p>\n",
       "</div>"
      ],
      "text/plain": [
       "    iso_o               Country  Time           gdp   gdp_pct    population  \\\n",
       "178   USA         United States  2023  2.772071e+13  82304.62  3.368062e+08   \n",
       "37    CHN                 China  2023  1.827036e+13  12951.18  1.410710e+09   \n",
       "76    HKG  Hong Kong SAR, China  2023  3.810664e+11  50565.46  7.536100e+06   \n",
       "65    DEU               Germany  2023  4.525704e+12  53940.41  8.390192e+07   \n",
       "114   MEX                Mexico  2023  1.793799e+12  13826.13  1.297398e+08   \n",
       "183   VNM              Viet Nam  2023  4.338577e+11   4323.35  1.003522e+08   \n",
       "93    KOR           Korea, Rep.  2023  1.712793e+12  33121.37  5.171262e+07   \n",
       "87    JPN                 Japan  2023  4.213167e+12  33836.18  1.245166e+08   \n",
       "123   NLD           Netherlands  2023  1.154361e+12  64572.01  1.787712e+07   \n",
       "150   SGP             Singapore  2023  5.054395e+11  85412.23  5.917648e+06   \n",
       "\n",
       "     trade_gdp_ratio    log_gdp  log_trade_gdp_ratio          country  ...  \\\n",
       "178            24.90  30.953201             3.214868    United States  ...   \n",
       "37             36.11  30.536301             3.586570            China  ...   \n",
       "76            352.99  26.666239             5.866440    Hong Kong SAR  ...   \n",
       "65             82.80  29.140794             4.416428          Germany  ...   \n",
       "114            73.77  28.215357             4.300952           Mexico  ...   \n",
       "183           164.82  26.795982             5.104854          Vietnam  ...   \n",
       "93             87.94  28.169146             4.476655            Korea  ...   \n",
       "87             45.15  29.069236             3.809990            Japan  ...   \n",
       "123           165.91  27.774568             5.111445  The Netherlands  ...   \n",
       "150           325.69  26.948694             5.785946        Singapore  ...   \n",
       "\n",
       "     pageRank_total.name pageRank_total.wpr  close_total.name  \\\n",
       "178                  180           0.075686               180   \n",
       "37                    35           0.062325                35   \n",
       "76                    75           0.009972                75   \n",
       "65                    46           0.038198                46   \n",
       "114                  114           0.014729               114   \n",
       "183                  184           0.007441               184   \n",
       "93                    97           0.015740                97   \n",
       "87                    90           0.019889                90   \n",
       "123                  131           0.021084               131   \n",
       "150                  154           0.010838               154   \n",
       "\n",
       "     close_total.closeness outdegree_total.name outdegree_total.degree  \\\n",
       "178          294259.352193                  180           95694.266088   \n",
       "37           325578.853769                   35          122058.766390   \n",
       "76           164158.413286                   75           10276.614300   \n",
       "65           289564.071700                   46           82863.388822   \n",
       "114          265796.654406                  114           35597.795903   \n",
       "183          191219.984855                  184           19198.257334   \n",
       "93           217770.595607                   97           33218.811980   \n",
       "87           237930.401855                   90           40577.227133   \n",
       "123          223553.568390                  131           40938.311093   \n",
       "150          166337.373179                  154           21406.586018   \n",
       "\n",
       "    indegree_total.name  indegree_total.degree  local_clust_tt_total  \\\n",
       "178                 180          130467.458979              0.957981   \n",
       "37                   35           99481.500385              0.940070   \n",
       "76                   75           20832.871548              0.984029   \n",
       "65                   46           70900.764482              0.978146   \n",
       "114                 114           33728.276127              0.992158   \n",
       "183                 184           18039.935424              0.991303   \n",
       "93                   97           35696.016797              0.956575   \n",
       "87                   90           42113.160415              0.971412   \n",
       "123                 131           41206.537078              0.973235   \n",
       "150                 154           23568.292508              0.956931   \n",
       "\n",
       "     local_clust_out_total  \n",
       "178               0.954751  \n",
       "37                0.939538  \n",
       "76                0.973031  \n",
       "65                0.978538  \n",
       "114               0.995907  \n",
       "183               0.989836  \n",
       "93                0.954003  \n",
       "87                0.971686  \n",
       "123               0.974871  \n",
       "150               0.938964  \n",
       "\n",
       "[10 rows x 56 columns]"
      ]
     },
     "execution_count": 31,
     "metadata": {},
     "output_type": "execute_result"
    }
   ],
   "source": [
    "at2023_importer.head(10)"
   ]
  },
  {
   "cell_type": "code",
   "execution_count": 33,
   "id": "7f94ad8a-3ccf-4097-8455-e86d9421f369",
   "metadata": {},
   "outputs": [
    {
     "data": {
      "text/html": [
       "<div>\n",
       "<style scoped>\n",
       "    .dataframe tbody tr th:only-of-type {\n",
       "        vertical-align: middle;\n",
       "    }\n",
       "\n",
       "    .dataframe tbody tr th {\n",
       "        vertical-align: top;\n",
       "    }\n",
       "\n",
       "    .dataframe thead th {\n",
       "        text-align: right;\n",
       "    }\n",
       "</style>\n",
       "<table border=\"1\" class=\"dataframe\">\n",
       "  <thead>\n",
       "    <tr style=\"text-align: right;\">\n",
       "      <th></th>\n",
       "      <th>iso_o</th>\n",
       "      <th>iso_d</th>\n",
       "      <th>TIME_PERIOD</th>\n",
       "      <th>total_tr</th>\n",
       "      <th>unique_cultural_tr</th>\n",
       "      <th>reproducible_cultural_tr</th>\n",
       "      <th>hysteresis_total</th>\n",
       "      <th>hysteresis_unique</th>\n",
       "      <th>hysteresis_repro</th>\n",
       "      <th>rta</th>\n",
       "      <th>...</th>\n",
       "      <th>D_log_gdp_pct_d</th>\n",
       "      <th>D_log_gdp_d</th>\n",
       "      <th>country_d</th>\n",
       "      <th>landlocked_d</th>\n",
       "      <th>continent_d</th>\n",
       "      <th>langoff_1_d</th>\n",
       "      <th>colonizer1_d</th>\n",
       "      <th>category_d</th>\n",
       "      <th>development_d</th>\n",
       "      <th>dyad_id</th>\n",
       "    </tr>\n",
       "  </thead>\n",
       "  <tbody>\n",
       "    <tr>\n",
       "      <th>424919</th>\n",
       "      <td>KOR</td>\n",
       "      <td>CHN</td>\n",
       "      <td>2023</td>\n",
       "      <td>70064.254622</td>\n",
       "      <td>16.457004</td>\n",
       "      <td>75628.121864</td>\n",
       "      <td>123415.884334</td>\n",
       "      <td>14.314469</td>\n",
       "      <td>138235.885499</td>\n",
       "      <td>1.0</td>\n",
       "      <td>...</td>\n",
       "      <td>-0.001499</td>\n",
       "      <td>-0.002537</td>\n",
       "      <td>China</td>\n",
       "      <td>0</td>\n",
       "      <td>Asia</td>\n",
       "      <td>Chinese</td>\n",
       "      <td>0</td>\n",
       "      <td>Emerging and Developing Economies</td>\n",
       "      <td>0.0</td>\n",
       "      <td>KOR-CHN</td>\n",
       "    </tr>\n",
       "    <tr>\n",
       "      <th>428399</th>\n",
       "      <td>KOR</td>\n",
       "      <td>VNM</td>\n",
       "      <td>2023</td>\n",
       "      <td>21429.004376</td>\n",
       "      <td>0.577156</td>\n",
       "      <td>32587.504516</td>\n",
       "      <td>33372.506342</td>\n",
       "      <td>0.408330</td>\n",
       "      <td>50164.038694</td>\n",
       "      <td>1.0</td>\n",
       "      <td>...</td>\n",
       "      <td>0.041477</td>\n",
       "      <td>0.048191</td>\n",
       "      <td>Vietnam</td>\n",
       "      <td>0</td>\n",
       "      <td>Asia</td>\n",
       "      <td>Vietnamese</td>\n",
       "      <td>FRA</td>\n",
       "      <td>Emerging and Developing Economies</td>\n",
       "      <td>0.0</td>\n",
       "      <td>KOR-VNM</td>\n",
       "    </tr>\n",
       "    <tr>\n",
       "      <th>428303</th>\n",
       "      <td>KOR</td>\n",
       "      <td>USA</td>\n",
       "      <td>2023</td>\n",
       "      <td>94159.623302</td>\n",
       "      <td>159.569661</td>\n",
       "      <td>18065.498833</td>\n",
       "      <td>117640.661063</td>\n",
       "      <td>136.415912</td>\n",
       "      <td>28731.947150</td>\n",
       "      <td>1.0</td>\n",
       "      <td>...</td>\n",
       "      <td>0.055504</td>\n",
       "      <td>0.063818</td>\n",
       "      <td>United States</td>\n",
       "      <td>0</td>\n",
       "      <td>America</td>\n",
       "      <td>English</td>\n",
       "      <td>GBR</td>\n",
       "      <td>Advanced Economies</td>\n",
       "      <td>1.0</td>\n",
       "      <td>KOR-USA</td>\n",
       "    </tr>\n",
       "    <tr>\n",
       "      <th>427679</th>\n",
       "      <td>KOR</td>\n",
       "      <td>SGP</td>\n",
       "      <td>2023</td>\n",
       "      <td>11116.098135</td>\n",
       "      <td>8.415881</td>\n",
       "      <td>9746.117231</td>\n",
       "      <td>16662.964903</td>\n",
       "      <td>12.579952</td>\n",
       "      <td>15211.341039</td>\n",
       "      <td>1.0</td>\n",
       "      <td>...</td>\n",
       "      <td>-0.055637</td>\n",
       "      <td>-0.007055</td>\n",
       "      <td>Singapore</td>\n",
       "      <td>0</td>\n",
       "      <td>Asia</td>\n",
       "      <td>English</td>\n",
       "      <td>GBR</td>\n",
       "      <td>Advanced Economies</td>\n",
       "      <td>1.0</td>\n",
       "      <td>KOR-SGP</td>\n",
       "    </tr>\n",
       "    <tr>\n",
       "      <th>425855</th>\n",
       "      <td>KOR</td>\n",
       "      <td>HKG</td>\n",
       "      <td>2023</td>\n",
       "      <td>6565.829976</td>\n",
       "      <td>124.277564</td>\n",
       "      <td>5887.524906</td>\n",
       "      <td>10973.743233</td>\n",
       "      <td>368.116000</td>\n",
       "      <td>10411.826220</td>\n",
       "      <td>0.0</td>\n",
       "      <td>...</td>\n",
       "      <td>0.035009</td>\n",
       "      <td>0.060543</td>\n",
       "      <td>Hong Kong SAR</td>\n",
       "      <td>0</td>\n",
       "      <td>Asia</td>\n",
       "      <td>English</td>\n",
       "      <td>GBR</td>\n",
       "      <td>Advanced Economies</td>\n",
       "      <td>1.0</td>\n",
       "      <td>KOR-HKG</td>\n",
       "    </tr>\n",
       "    <tr>\n",
       "      <th>426767</th>\n",
       "      <td>KOR</td>\n",
       "      <td>MEX</td>\n",
       "      <td>2023</td>\n",
       "      <td>12889.626699</td>\n",
       "      <td>0.564716</td>\n",
       "      <td>4321.473451</td>\n",
       "      <td>19935.649399</td>\n",
       "      <td>0.072317</td>\n",
       "      <td>6154.214126</td>\n",
       "      <td>1.0</td>\n",
       "      <td>...</td>\n",
       "      <td>0.192759</td>\n",
       "      <td>0.201481</td>\n",
       "      <td>Mexico</td>\n",
       "      <td>0</td>\n",
       "      <td>America</td>\n",
       "      <td>Spanish</td>\n",
       "      <td>ESP</td>\n",
       "      <td>Emerging and Developing Economies</td>\n",
       "      <td>0.0</td>\n",
       "      <td>KOR-MEX</td>\n",
       "    </tr>\n",
       "    <tr>\n",
       "      <th>426215</th>\n",
       "      <td>KOR</td>\n",
       "      <td>JPN</td>\n",
       "      <td>2023</td>\n",
       "      <td>24968.369569</td>\n",
       "      <td>9.043504</td>\n",
       "      <td>4301.393319</td>\n",
       "      <td>37687.587485</td>\n",
       "      <td>5.845537</td>\n",
       "      <td>6766.518191</td>\n",
       "      <td>0.0</td>\n",
       "      <td>...</td>\n",
       "      <td>-0.006759</td>\n",
       "      <td>-0.011633</td>\n",
       "      <td>Japan</td>\n",
       "      <td>0</td>\n",
       "      <td>Asia</td>\n",
       "      <td>Japanese</td>\n",
       "      <td>0</td>\n",
       "      <td>Advanced Economies</td>\n",
       "      <td>1.0</td>\n",
       "      <td>KOR-JPN</td>\n",
       "    </tr>\n",
       "    <tr>\n",
       "      <th>425999</th>\n",
       "      <td>KOR</td>\n",
       "      <td>IND</td>\n",
       "      <td>2023</td>\n",
       "      <td>13749.178185</td>\n",
       "      <td>3.147056</td>\n",
       "      <td>4275.016282</td>\n",
       "      <td>20181.160890</td>\n",
       "      <td>0.452522</td>\n",
       "      <td>5513.286065</td>\n",
       "      <td>1.0</td>\n",
       "      <td>...</td>\n",
       "      <td>0.074937</td>\n",
       "      <td>0.083771</td>\n",
       "      <td>India</td>\n",
       "      <td>0</td>\n",
       "      <td>Asia</td>\n",
       "      <td>English</td>\n",
       "      <td>GBR</td>\n",
       "      <td>Emerging and Developing Economies</td>\n",
       "      <td>0.0</td>\n",
       "      <td>KOR-IND</td>\n",
       "    </tr>\n",
       "    <tr>\n",
       "      <th>427367</th>\n",
       "      <td>KOR</td>\n",
       "      <td>PHL</td>\n",
       "      <td>2023</td>\n",
       "      <td>6112.493462</td>\n",
       "      <td>0.035436</td>\n",
       "      <td>3145.085438</td>\n",
       "      <td>9963.378600</td>\n",
       "      <td>0.311467</td>\n",
       "      <td>7360.289169</td>\n",
       "      <td>1.0</td>\n",
       "      <td>...</td>\n",
       "      <td>0.069671</td>\n",
       "      <td>0.077770</td>\n",
       "      <td>Philippines</td>\n",
       "      <td>0</td>\n",
       "      <td>Asia</td>\n",
       "      <td>English</td>\n",
       "      <td>ESP</td>\n",
       "      <td>Emerging and Developing Economies</td>\n",
       "      <td>0.0</td>\n",
       "      <td>KOR-PHL</td>\n",
       "    </tr>\n",
       "    <tr>\n",
       "      <th>427031</th>\n",
       "      <td>KOR</td>\n",
       "      <td>MYS</td>\n",
       "      <td>2023</td>\n",
       "      <td>7625.111491</td>\n",
       "      <td>0.191603</td>\n",
       "      <td>3079.794823</td>\n",
       "      <td>12087.373804</td>\n",
       "      <td>0.234380</td>\n",
       "      <td>4485.557204</td>\n",
       "      <td>1.0</td>\n",
       "      <td>...</td>\n",
       "      <td>-0.031913</td>\n",
       "      <td>-0.019573</td>\n",
       "      <td>Malaysia</td>\n",
       "      <td>0</td>\n",
       "      <td>Asia</td>\n",
       "      <td>Malay</td>\n",
       "      <td>GBR</td>\n",
       "      <td>Emerging and Developing Economies</td>\n",
       "      <td>0.0</td>\n",
       "      <td>KOR-MYS</td>\n",
       "    </tr>\n",
       "  </tbody>\n",
       "</table>\n",
       "<p>10 rows × 53 columns</p>\n",
       "</div>"
      ],
      "text/plain": [
       "       iso_o iso_d  TIME_PERIOD      total_tr  unique_cultural_tr  \\\n",
       "424919   KOR   CHN         2023  70064.254622           16.457004   \n",
       "428399   KOR   VNM         2023  21429.004376            0.577156   \n",
       "428303   KOR   USA         2023  94159.623302          159.569661   \n",
       "427679   KOR   SGP         2023  11116.098135            8.415881   \n",
       "425855   KOR   HKG         2023   6565.829976          124.277564   \n",
       "426767   KOR   MEX         2023  12889.626699            0.564716   \n",
       "426215   KOR   JPN         2023  24968.369569            9.043504   \n",
       "425999   KOR   IND         2023  13749.178185            3.147056   \n",
       "427367   KOR   PHL         2023   6112.493462            0.035436   \n",
       "427031   KOR   MYS         2023   7625.111491            0.191603   \n",
       "\n",
       "        reproducible_cultural_tr  hysteresis_total  hysteresis_unique  \\\n",
       "424919              75628.121864     123415.884334          14.314469   \n",
       "428399              32587.504516      33372.506342           0.408330   \n",
       "428303              18065.498833     117640.661063         136.415912   \n",
       "427679               9746.117231      16662.964903          12.579952   \n",
       "425855               5887.524906      10973.743233         368.116000   \n",
       "426767               4321.473451      19935.649399           0.072317   \n",
       "426215               4301.393319      37687.587485           5.845537   \n",
       "425999               4275.016282      20181.160890           0.452522   \n",
       "427367               3145.085438       9963.378600           0.311467   \n",
       "427031               3079.794823      12087.373804           0.234380   \n",
       "\n",
       "        hysteresis_repro  rta  ...  D_log_gdp_pct_d  D_log_gdp_d  \\\n",
       "424919     138235.885499  1.0  ...        -0.001499    -0.002537   \n",
       "428399      50164.038694  1.0  ...         0.041477     0.048191   \n",
       "428303      28731.947150  1.0  ...         0.055504     0.063818   \n",
       "427679      15211.341039  1.0  ...        -0.055637    -0.007055   \n",
       "425855      10411.826220  0.0  ...         0.035009     0.060543   \n",
       "426767       6154.214126  1.0  ...         0.192759     0.201481   \n",
       "426215       6766.518191  0.0  ...        -0.006759    -0.011633   \n",
       "425999       5513.286065  1.0  ...         0.074937     0.083771   \n",
       "427367       7360.289169  1.0  ...         0.069671     0.077770   \n",
       "427031       4485.557204  1.0  ...        -0.031913    -0.019573   \n",
       "\n",
       "            country_d  landlocked_d  continent_d  langoff_1_d  colonizer1_d  \\\n",
       "424919          China             0         Asia      Chinese             0   \n",
       "428399        Vietnam             0         Asia   Vietnamese           FRA   \n",
       "428303  United States             0      America      English           GBR   \n",
       "427679      Singapore             0         Asia      English           GBR   \n",
       "425855  Hong Kong SAR             0         Asia      English           GBR   \n",
       "426767         Mexico             0      America      Spanish           ESP   \n",
       "426215          Japan             0         Asia     Japanese             0   \n",
       "425999          India             0         Asia      English           GBR   \n",
       "427367    Philippines             0         Asia      English           ESP   \n",
       "427031       Malaysia             0         Asia        Malay           GBR   \n",
       "\n",
       "                               category_d  development_d  dyad_id  \n",
       "424919  Emerging and Developing Economies            0.0  KOR-CHN  \n",
       "428399  Emerging and Developing Economies            0.0  KOR-VNM  \n",
       "428303                 Advanced Economies            1.0  KOR-USA  \n",
       "427679                 Advanced Economies            1.0  KOR-SGP  \n",
       "425855                 Advanced Economies            1.0  KOR-HKG  \n",
       "426767  Emerging and Developing Economies            0.0  KOR-MEX  \n",
       "426215                 Advanced Economies            1.0  KOR-JPN  \n",
       "425999  Emerging and Developing Economies            0.0  KOR-IND  \n",
       "427367  Emerging and Developing Economies            0.0  KOR-PHL  \n",
       "427031  Emerging and Developing Economies            0.0  KOR-MYS  \n",
       "\n",
       "[10 rows x 53 columns]"
      ]
     },
     "execution_count": 33,
     "metadata": {},
     "output_type": "execute_result"
    }
   ],
   "source": [
    "panel[(panel['TIME_PERIOD'] == 2023) & (panel['iso_o'] == 'KOR')].sort_values(by = 'reproducible_cultural_tr', ascending=False).head(10)"
   ]
  },
  {
   "cell_type": "code",
   "execution_count": 35,
   "id": "7c5218fe-4088-4aa5-8708-a6d9e8f78598",
   "metadata": {},
   "outputs": [
    {
     "data": {
      "text/html": [
       "<div>\n",
       "<style scoped>\n",
       "    .dataframe tbody tr th:only-of-type {\n",
       "        vertical-align: middle;\n",
       "    }\n",
       "\n",
       "    .dataframe tbody tr th {\n",
       "        vertical-align: top;\n",
       "    }\n",
       "\n",
       "    .dataframe thead th {\n",
       "        text-align: right;\n",
       "    }\n",
       "</style>\n",
       "<table border=\"1\" class=\"dataframe\">\n",
       "  <thead>\n",
       "    <tr style=\"text-align: right;\">\n",
       "      <th></th>\n",
       "      <th>iso_o</th>\n",
       "      <th>iso_d</th>\n",
       "      <th>TIME_PERIOD</th>\n",
       "      <th>total_tr</th>\n",
       "      <th>unique_cultural_tr</th>\n",
       "      <th>reproducible_cultural_tr</th>\n",
       "      <th>hysteresis_total</th>\n",
       "      <th>hysteresis_unique</th>\n",
       "      <th>hysteresis_repro</th>\n",
       "      <th>rta</th>\n",
       "      <th>...</th>\n",
       "      <th>D_log_gdp_pct_d</th>\n",
       "      <th>D_log_gdp_d</th>\n",
       "      <th>country_d</th>\n",
       "      <th>landlocked_d</th>\n",
       "      <th>continent_d</th>\n",
       "      <th>langoff_1_d</th>\n",
       "      <th>colonizer1_d</th>\n",
       "      <th>category_d</th>\n",
       "      <th>development_d</th>\n",
       "      <th>dyad_id</th>\n",
       "    </tr>\n",
       "  </thead>\n",
       "  <tbody>\n",
       "    <tr>\n",
       "      <th>155999</th>\n",
       "      <td>CHN</td>\n",
       "      <td>USA</td>\n",
       "      <td>2023</td>\n",
       "      <td>313810.786483</td>\n",
       "      <td>120.129523</td>\n",
       "      <td>118941.875070</td>\n",
       "      <td>554820.732801</td>\n",
       "      <td>181.276259</td>\n",
       "      <td>189573.802629</td>\n",
       "      <td>0.0</td>\n",
       "      <td>...</td>\n",
       "      <td>0.055504</td>\n",
       "      <td>0.063818</td>\n",
       "      <td>United States</td>\n",
       "      <td>0</td>\n",
       "      <td>America</td>\n",
       "      <td>English</td>\n",
       "      <td>GBR</td>\n",
       "      <td>Advanced Economies</td>\n",
       "      <td>1.0</td>\n",
       "      <td>CHN-USA</td>\n",
       "    </tr>\n",
       "    <tr>\n",
       "      <th>153527</th>\n",
       "      <td>CHN</td>\n",
       "      <td>HKG</td>\n",
       "      <td>2023</td>\n",
       "      <td>94491.442141</td>\n",
       "      <td>455.448907</td>\n",
       "      <td>108233.383981</td>\n",
       "      <td>138393.481355</td>\n",
       "      <td>851.532624</td>\n",
       "      <td>136310.394605</td>\n",
       "      <td>1.0</td>\n",
       "      <td>...</td>\n",
       "      <td>0.035009</td>\n",
       "      <td>0.060543</td>\n",
       "      <td>Hong Kong SAR</td>\n",
       "      <td>0</td>\n",
       "      <td>Asia</td>\n",
       "      <td>English</td>\n",
       "      <td>GBR</td>\n",
       "      <td>Advanced Economies</td>\n",
       "      <td>1.0</td>\n",
       "      <td>CHN-HKG</td>\n",
       "    </tr>\n",
       "    <tr>\n",
       "      <th>504191</th>\n",
       "      <td>MEX</td>\n",
       "      <td>USA</td>\n",
       "      <td>2023</td>\n",
       "      <td>380990.349258</td>\n",
       "      <td>71.562806</td>\n",
       "      <td>86708.751818</td>\n",
       "      <td>493794.911915</td>\n",
       "      <td>127.988481</td>\n",
       "      <td>109909.883394</td>\n",
       "      <td>1.0</td>\n",
       "      <td>...</td>\n",
       "      <td>0.055504</td>\n",
       "      <td>0.063818</td>\n",
       "      <td>United States</td>\n",
       "      <td>0</td>\n",
       "      <td>America</td>\n",
       "      <td>English</td>\n",
       "      <td>GBR</td>\n",
       "      <td>Advanced Economies</td>\n",
       "      <td>1.0</td>\n",
       "      <td>MEX-USA</td>\n",
       "    </tr>\n",
       "    <tr>\n",
       "      <th>424919</th>\n",
       "      <td>KOR</td>\n",
       "      <td>CHN</td>\n",
       "      <td>2023</td>\n",
       "      <td>70064.254622</td>\n",
       "      <td>16.457004</td>\n",
       "      <td>75628.121864</td>\n",
       "      <td>123415.884334</td>\n",
       "      <td>14.314469</td>\n",
       "      <td>138235.885499</td>\n",
       "      <td>1.0</td>\n",
       "      <td>...</td>\n",
       "      <td>-0.001499</td>\n",
       "      <td>-0.002537</td>\n",
       "      <td>China</td>\n",
       "      <td>0</td>\n",
       "      <td>Asia</td>\n",
       "      <td>Chinese</td>\n",
       "      <td>0</td>\n",
       "      <td>Emerging and Developing Economies</td>\n",
       "      <td>0.0</td>\n",
       "      <td>KOR-CHN</td>\n",
       "    </tr>\n",
       "    <tr>\n",
       "      <th>152855</th>\n",
       "      <td>CHN</td>\n",
       "      <td>DEU</td>\n",
       "      <td>2023</td>\n",
       "      <td>82501.668398</td>\n",
       "      <td>40.473663</td>\n",
       "      <td>52945.382837</td>\n",
       "      <td>148708.820052</td>\n",
       "      <td>73.538706</td>\n",
       "      <td>66920.964296</td>\n",
       "      <td>0.0</td>\n",
       "      <td>...</td>\n",
       "      <td>0.082154</td>\n",
       "      <td>0.083395</td>\n",
       "      <td>Germany</td>\n",
       "      <td>0</td>\n",
       "      <td>Europe</td>\n",
       "      <td>German</td>\n",
       "      <td>0</td>\n",
       "      <td>Advanced Economies</td>\n",
       "      <td>1.0</td>\n",
       "      <td>CHN-DEU</td>\n",
       "    </tr>\n",
       "    <tr>\n",
       "      <th>804359</th>\n",
       "      <td>VNM</td>\n",
       "      <td>CHN</td>\n",
       "      <td>2023</td>\n",
       "      <td>27989.767749</td>\n",
       "      <td>0.189273</td>\n",
       "      <td>48454.850081</td>\n",
       "      <td>39743.575569</td>\n",
       "      <td>0.178835</td>\n",
       "      <td>66962.658746</td>\n",
       "      <td>1.0</td>\n",
       "      <td>...</td>\n",
       "      <td>-0.001499</td>\n",
       "      <td>-0.002537</td>\n",
       "      <td>China</td>\n",
       "      <td>0</td>\n",
       "      <td>Asia</td>\n",
       "      <td>Chinese</td>\n",
       "      <td>0</td>\n",
       "      <td>Emerging and Developing Economies</td>\n",
       "      <td>0.0</td>\n",
       "      <td>VNM-CHN</td>\n",
       "    </tr>\n",
       "    <tr>\n",
       "      <th>154055</th>\n",
       "      <td>CHN</td>\n",
       "      <td>KOR</td>\n",
       "      <td>2023</td>\n",
       "      <td>96833.952719</td>\n",
       "      <td>15.006466</td>\n",
       "      <td>48210.496367</td>\n",
       "      <td>140913.483644</td>\n",
       "      <td>35.784949</td>\n",
       "      <td>72972.334203</td>\n",
       "      <td>1.0</td>\n",
       "      <td>...</td>\n",
       "      <td>0.022184</td>\n",
       "      <td>0.022959</td>\n",
       "      <td>Korea</td>\n",
       "      <td>0</td>\n",
       "      <td>Asia</td>\n",
       "      <td>Korean</td>\n",
       "      <td>JPN</td>\n",
       "      <td>Advanced Economies</td>\n",
       "      <td>1.0</td>\n",
       "      <td>CHN-KOR</td>\n",
       "    </tr>\n",
       "    <tr>\n",
       "      <th>156095</th>\n",
       "      <td>CHN</td>\n",
       "      <td>VNM</td>\n",
       "      <td>2023</td>\n",
       "      <td>80372.347506</td>\n",
       "      <td>1.527002</td>\n",
       "      <td>46957.687209</td>\n",
       "      <td>118576.414871</td>\n",
       "      <td>0.316364</td>\n",
       "      <td>69701.734144</td>\n",
       "      <td>1.0</td>\n",
       "      <td>...</td>\n",
       "      <td>0.041477</td>\n",
       "      <td>0.048191</td>\n",
       "      <td>Vietnam</td>\n",
       "      <td>0</td>\n",
       "      <td>Asia</td>\n",
       "      <td>Vietnamese</td>\n",
       "      <td>FRA</td>\n",
       "      <td>Emerging and Developing Economies</td>\n",
       "      <td>0.0</td>\n",
       "      <td>CHN-VNM</td>\n",
       "    </tr>\n",
       "    <tr>\n",
       "      <th>153887</th>\n",
       "      <td>CHN</td>\n",
       "      <td>JPN</td>\n",
       "      <td>2023</td>\n",
       "      <td>114202.998056</td>\n",
       "      <td>14.180574</td>\n",
       "      <td>45620.885245</td>\n",
       "      <td>182228.460384</td>\n",
       "      <td>25.845980</td>\n",
       "      <td>66693.695729</td>\n",
       "      <td>0.0</td>\n",
       "      <td>...</td>\n",
       "      <td>-0.006759</td>\n",
       "      <td>-0.011633</td>\n",
       "      <td>Japan</td>\n",
       "      <td>0</td>\n",
       "      <td>Asia</td>\n",
       "      <td>Japanese</td>\n",
       "      <td>0</td>\n",
       "      <td>Advanced Economies</td>\n",
       "      <td>1.0</td>\n",
       "      <td>CHN-JPN</td>\n",
       "    </tr>\n",
       "    <tr>\n",
       "      <th>153671</th>\n",
       "      <td>CHN</td>\n",
       "      <td>IND</td>\n",
       "      <td>2023</td>\n",
       "      <td>78176.712556</td>\n",
       "      <td>0.659437</td>\n",
       "      <td>40967.983231</td>\n",
       "      <td>103436.462295</td>\n",
       "      <td>2.782618</td>\n",
       "      <td>42193.840178</td>\n",
       "      <td>1.0</td>\n",
       "      <td>...</td>\n",
       "      <td>0.074937</td>\n",
       "      <td>0.083771</td>\n",
       "      <td>India</td>\n",
       "      <td>0</td>\n",
       "      <td>Asia</td>\n",
       "      <td>English</td>\n",
       "      <td>GBR</td>\n",
       "      <td>Emerging and Developing Economies</td>\n",
       "      <td>0.0</td>\n",
       "      <td>CHN-IND</td>\n",
       "    </tr>\n",
       "  </tbody>\n",
       "</table>\n",
       "<p>10 rows × 53 columns</p>\n",
       "</div>"
      ],
      "text/plain": [
       "       iso_o iso_d  TIME_PERIOD       total_tr  unique_cultural_tr  \\\n",
       "155999   CHN   USA         2023  313810.786483          120.129523   \n",
       "153527   CHN   HKG         2023   94491.442141          455.448907   \n",
       "504191   MEX   USA         2023  380990.349258           71.562806   \n",
       "424919   KOR   CHN         2023   70064.254622           16.457004   \n",
       "152855   CHN   DEU         2023   82501.668398           40.473663   \n",
       "804359   VNM   CHN         2023   27989.767749            0.189273   \n",
       "154055   CHN   KOR         2023   96833.952719           15.006466   \n",
       "156095   CHN   VNM         2023   80372.347506            1.527002   \n",
       "153887   CHN   JPN         2023  114202.998056           14.180574   \n",
       "153671   CHN   IND         2023   78176.712556            0.659437   \n",
       "\n",
       "        reproducible_cultural_tr  hysteresis_total  hysteresis_unique  \\\n",
       "155999             118941.875070     554820.732801         181.276259   \n",
       "153527             108233.383981     138393.481355         851.532624   \n",
       "504191              86708.751818     493794.911915         127.988481   \n",
       "424919              75628.121864     123415.884334          14.314469   \n",
       "152855              52945.382837     148708.820052          73.538706   \n",
       "804359              48454.850081      39743.575569           0.178835   \n",
       "154055              48210.496367     140913.483644          35.784949   \n",
       "156095              46957.687209     118576.414871           0.316364   \n",
       "153887              45620.885245     182228.460384          25.845980   \n",
       "153671              40967.983231     103436.462295           2.782618   \n",
       "\n",
       "        hysteresis_repro  rta  ...  D_log_gdp_pct_d  D_log_gdp_d  \\\n",
       "155999     189573.802629  0.0  ...         0.055504     0.063818   \n",
       "153527     136310.394605  1.0  ...         0.035009     0.060543   \n",
       "504191     109909.883394  1.0  ...         0.055504     0.063818   \n",
       "424919     138235.885499  1.0  ...        -0.001499    -0.002537   \n",
       "152855      66920.964296  0.0  ...         0.082154     0.083395   \n",
       "804359      66962.658746  1.0  ...        -0.001499    -0.002537   \n",
       "154055      72972.334203  1.0  ...         0.022184     0.022959   \n",
       "156095      69701.734144  1.0  ...         0.041477     0.048191   \n",
       "153887      66693.695729  0.0  ...        -0.006759    -0.011633   \n",
       "153671      42193.840178  1.0  ...         0.074937     0.083771   \n",
       "\n",
       "            country_d  landlocked_d  continent_d  langoff_1_d  colonizer1_d  \\\n",
       "155999  United States             0      America      English           GBR   \n",
       "153527  Hong Kong SAR             0         Asia      English           GBR   \n",
       "504191  United States             0      America      English           GBR   \n",
       "424919          China             0         Asia      Chinese             0   \n",
       "152855        Germany             0       Europe       German             0   \n",
       "804359          China             0         Asia      Chinese             0   \n",
       "154055          Korea             0         Asia       Korean           JPN   \n",
       "156095        Vietnam             0         Asia   Vietnamese           FRA   \n",
       "153887          Japan             0         Asia     Japanese             0   \n",
       "153671          India             0         Asia      English           GBR   \n",
       "\n",
       "                               category_d  development_d  dyad_id  \n",
       "155999                 Advanced Economies            1.0  CHN-USA  \n",
       "153527                 Advanced Economies            1.0  CHN-HKG  \n",
       "504191                 Advanced Economies            1.0  MEX-USA  \n",
       "424919  Emerging and Developing Economies            0.0  KOR-CHN  \n",
       "152855                 Advanced Economies            1.0  CHN-DEU  \n",
       "804359  Emerging and Developing Economies            0.0  VNM-CHN  \n",
       "154055                 Advanced Economies            1.0  CHN-KOR  \n",
       "156095  Emerging and Developing Economies            0.0  CHN-VNM  \n",
       "153887                 Advanced Economies            1.0  CHN-JPN  \n",
       "153671  Emerging and Developing Economies            0.0  CHN-IND  \n",
       "\n",
       "[10 rows x 53 columns]"
      ]
     },
     "execution_count": 35,
     "metadata": {},
     "output_type": "execute_result"
    }
   ],
   "source": [
    "panel[panel['TIME_PERIOD'] == 2023].sort_values(by = 'reproducible_cultural_tr', ascending=False).head(10)"
   ]
  }
 ],
 "metadata": {
  "kernelspec": {
   "display_name": "Python 3 (ipykernel)",
   "language": "python",
   "name": "python3"
  },
  "language_info": {
   "codemirror_mode": {
    "name": "ipython",
    "version": 3
   },
   "file_extension": ".py",
   "mimetype": "text/x-python",
   "name": "python",
   "nbconvert_exporter": "python",
   "pygments_lexer": "ipython3",
   "version": "3.12.7"
  }
 },
 "nbformat": 4,
 "nbformat_minor": 5
}
