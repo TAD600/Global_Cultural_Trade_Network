{
 "cells": [
  {
   "cell_type": "code",
   "execution_count": 246,
   "id": "d3fe89b2-1f52-476a-aa5e-8ce2ad1db516",
   "metadata": {},
   "outputs": [],
   "source": [
    "import pandas as pd"
   ]
  },
  {
   "cell_type": "markdown",
   "id": "404bfa93-8338-4e7c-985e-4a9e532dae10",
   "metadata": {},
   "source": [
    "**Preparing edgelist for SNA takes the following steps:** \n",
    "\n",
    "For edgelists on bilateral trade data: \n",
    "> 1. Loading total, unique, reproducible trade data and the fixed dataset from the cleaned subfolder of the data folder.\n",
    "> 2. Checking for mismatched countries in all data frames using inner join method as the study will consider only the countries that are present in all data frames\n",
    "> 3. Making an edge list for total goods trade and saving it in the 'cleaned' subfolder of the folder 'data'\n",
    "> 4. Making an edge list for unique cultural goods and saving it in the 'cleaned' subfolder of the folder 'data'\n",
    "> 5. Making an edge list for reproducible cultural goods and saving it in the 'cleaned' subfolder of the folder 'data'\n",
    "> 6. Saving the edgelists into the 'cleaned' subfolder of 'data' folder\n",
    "\n",
    "For fixed undireced distance, common language, contiguity, colonizer and common colonizer edgelists: \n",
    "> 1. Keeping only the relevant column with the origin and destination column to create a primary data frame\n",
    "> 2. Checking for a single pair of countries whether the value is same for (A, B) and (B, A)\n",
    "> 3. Adding log transformed distance column to the distance edgelist\n",
    "> 4. Saving the edgelists into the 'cleaned' subfolder of 'data' folder\n",
    "\n",
    "`So this notebook will end up making seven different edgelists- three for bilateral trade and four for bilateral time invariant factors.`"
   ]
  },
  {
   "cell_type": "code",
   "execution_count": 247,
   "id": "aa31dee4-1979-4b78-a6a5-5ebbc893ea77",
   "metadata": {},
   "outputs": [],
   "source": [
    "total = pd.read_csv('../data/cleaned/total2000_2023.csv')\n",
    "unique = pd.read_csv('../data/cleaned/unique2000_2023.csv')\n",
    "repro = pd.read_csv('../data/cleaned/reproducible2000_2023.csv')\n",
    "books = pd.read_csv('../data/cleaned/books2000_2023.csv')\n",
    "cinema = pd.read_csv('../data/cleaned/cinema2000_2023.csv')\n",
    "tapes = pd.read_csv('../data/cleaned/tapes2000_2023.csv')\n",
    "fixed = pd.read_csv('../data/cleaned/fixed.csv')"
   ]
  },
  {
   "cell_type": "code",
   "execution_count": 248,
   "id": "9e7bc12a-433c-4423-86ea-ee76bc9dc148",
   "metadata": {},
   "outputs": [
    {
     "name": "stdout",
     "output_type": "stream",
     "text": [
      "set()\n",
      "set()\n",
      "set()\n",
      "set()\n",
      "set()\n",
      "set()\n",
      "set()\n",
      "set()\n",
      "set()\n"
     ]
    }
   ],
   "source": [
    "print(set(total['iso_o'].unique()) - set(unique['iso_o'].unique()))\n",
    "print(set(total['iso_o'].unique()) - set(repro['iso_o'].unique()))\n",
    "print(set(repro['iso_o'].unique()) - set(unique['iso_o'].unique()))\n",
    "print(set(total['iso_d'].unique()) - set(unique['iso_d'].unique()))\n",
    "print(set(total['iso_d'].unique()) - set(repro['iso_d'].unique()))\n",
    "print(set(repro['iso_d'].unique()) - set(unique['iso_d'].unique()))\n",
    "print(set(books['iso_d'].unique()) - set(cinema['iso_d'].unique()))\n",
    "print(set(cinema['iso_d'].unique()) - set(tapes['iso_d'].unique()))\n",
    "print(set(tapes['iso_d'].unique()) - set(cinema['iso_d'].unique()))"
   ]
  },
  {
   "cell_type": "markdown",
   "id": "4fd09c63-e36a-4a68-9d06-f08627b4a074",
   "metadata": {},
   "source": [
    "##### To ensure seamless production of square matrices from the generated edgelists, I am checking if the exporter and importer countries are the same for all three datasets (total, unique and reproducible)."
   ]
  },
  {
   "cell_type": "code",
   "execution_count": 249,
   "id": "3e60e832-e6dd-45d5-8a86-f0a52bbfb0c5",
   "metadata": {},
   "outputs": [],
   "source": [
    "assert total['iso_o'].nunique() == total['iso_d'].nunique() # checking if the number of items are same in both sets"
   ]
  },
  {
   "cell_type": "code",
   "execution_count": 250,
   "id": "fbeaab24-c0d6-4b5c-bc19-e00ac9f24ff2",
   "metadata": {},
   "outputs": [
    {
     "data": {
      "text/plain": [
       "True"
      ]
     },
     "execution_count": 250,
     "metadata": {},
     "output_type": "execute_result"
    }
   ],
   "source": [
    "set(total['iso_o'].unique()) == set(total['iso_d'].unique()) # checking if exactly the items are same in both sets"
   ]
  },
  {
   "cell_type": "code",
   "execution_count": 251,
   "id": "09cdb4c1-a6ff-4718-a452-d225e77b9fe3",
   "metadata": {},
   "outputs": [],
   "source": [
    "assert unique['iso_o'].nunique() == unique['iso_d'].nunique() # checking if the number of items are same in both sets"
   ]
  },
  {
   "cell_type": "code",
   "execution_count": 252,
   "id": "2762b497-13ef-49ca-a30d-e37cbcca1e2c",
   "metadata": {},
   "outputs": [
    {
     "data": {
      "text/plain": [
       "True"
      ]
     },
     "execution_count": 252,
     "metadata": {},
     "output_type": "execute_result"
    }
   ],
   "source": [
    "set(unique['iso_o'].unique()) == set(unique['iso_d'].unique()) # checking if exactly the items are same in both sets"
   ]
  },
  {
   "cell_type": "code",
   "execution_count": 253,
   "id": "fca7f613-83a1-446d-8f9f-610858209911",
   "metadata": {},
   "outputs": [],
   "source": [
    "assert repro['iso_o'].nunique() == repro['iso_d'].nunique()"
   ]
  },
  {
   "cell_type": "code",
   "execution_count": 254,
   "id": "51f3756b-51e3-42b3-b57d-62cf8a20d15f",
   "metadata": {},
   "outputs": [
    {
     "data": {
      "text/plain": [
       "True"
      ]
     },
     "execution_count": 254,
     "metadata": {},
     "output_type": "execute_result"
    }
   ],
   "source": [
    "set(repro['iso_o'].unique()) == set(repro['iso_d'].unique()) # checking if exactly the items are same in both sets"
   ]
  },
  {
   "cell_type": "code",
   "execution_count": 255,
   "id": "e8c74a66-0444-4c34-b4e7-4d30f9bc5d00",
   "metadata": {},
   "outputs": [
    {
     "name": "stdout",
     "output_type": "stream",
     "text": [
      "201\n",
      "201\n",
      "201\n",
      "201\n",
      "201\n",
      "201\n",
      "201\n",
      "201\n",
      "200\n",
      "201\n",
      "201\n",
      "201\n",
      "224\n",
      "224\n"
     ]
    }
   ],
   "source": [
    "print(total['iso_o'].nunique())\n",
    "print(total['iso_d'].nunique())\n",
    "print(repro['iso_o'].nunique())\n",
    "print(repro['iso_d'].nunique())\n",
    "print(unique['iso_o'].nunique())\n",
    "print(unique['iso_d'].nunique())\n",
    "print(books['iso_o'].nunique())\n",
    "print(books['iso_d'].nunique())\n",
    "print(cinema['iso_o'].nunique())\n",
    "print(cinema['iso_d'].nunique())\n",
    "print(tapes['iso_o'].nunique())\n",
    "print(tapes['iso_d'].nunique())\n",
    "print(fixed['iso_o'].nunique())\n",
    "print(fixed['iso_d'].nunique())"
   ]
  },
  {
   "cell_type": "markdown",
   "id": "022616a5-34c1-4c4a-b835-72629819cdd4",
   "metadata": {},
   "source": [
    "###### So, there are 201 countries in trade datasets, where the fixed dataset has 224 countries."
   ]
  },
  {
   "cell_type": "code",
   "execution_count": 256,
   "id": "575054b6-dad3-4add-8b0a-06dff0294402",
   "metadata": {},
   "outputs": [],
   "source": [
    "f_u_ego = set(fixed['iso_o'].unique()) - set(unique['iso_o'].unique())\n",
    "f_r_ego = set(fixed['iso_o'].unique()) - set(repro['iso_o'].unique())\n",
    "f_t_ego = set(fixed['iso_o'].unique()) - set(total['iso_o'].unique())\n",
    "f_u_alter = set(fixed['iso_d'].unique()) - set(unique['iso_d'].unique())\n",
    "f_r_alter = set(fixed['iso_d'].unique()) - set(repro['iso_d'].unique())\n",
    "f_t_alter = set(fixed['iso_d'].unique()) - set(total['iso_d'].unique())"
   ]
  },
  {
   "cell_type": "code",
   "execution_count": 257,
   "id": "1963c35a-86c0-4bbb-88db-97a71767c005",
   "metadata": {},
   "outputs": [
    {
     "data": {
      "text/plain": [
       "True"
      ]
     },
     "execution_count": 257,
     "metadata": {},
     "output_type": "execute_result"
    }
   ],
   "source": [
    "len(f_u_ego) == len(f_r_ego) == len(f_t_ego) == len(f_u_alter) == len(f_r_alter) == len(f_t_alter)"
   ]
  },
  {
   "cell_type": "code",
   "execution_count": 258,
   "id": "3d92030a-95ed-4dde-b1d6-f6a51322cd81",
   "metadata": {},
   "outputs": [],
   "source": [
    "u_f_ego = set(unique['iso_o'].unique()) - set(fixed['iso_o'].unique())\n",
    "r_f_ego = set(repro['iso_o'].unique()) - set(fixed['iso_o'].unique())\n",
    "t_f_ego = set(total['iso_o'].unique()) - set(fixed['iso_o'].unique())\n",
    "u_f_alter = set(unique['iso_d'].unique()) - set(fixed['iso_d'].unique())\n",
    "r_f_alter = set(repro['iso_d'].unique()) - set(fixed['iso_d'].unique())\n",
    "t_f_alter = set(total['iso_d'].unique()) - set(fixed['iso_d'].unique())"
   ]
  },
  {
   "cell_type": "code",
   "execution_count": 259,
   "id": "b8b1dde4-7dbf-4f9b-8031-da92eb0047dc",
   "metadata": {},
   "outputs": [
    {
     "data": {
      "text/plain": [
       "True"
      ]
     },
     "execution_count": 259,
     "metadata": {},
     "output_type": "execute_result"
    }
   ],
   "source": [
    "len(u_f_ego) == len(r_f_ego) == len(t_f_ego) == len(u_f_alter) == len(r_f_alter) == len(t_f_alter)"
   ]
  },
  {
   "cell_type": "code",
   "execution_count": 260,
   "id": "5d88e2a8-8a6e-465c-97c4-68b02cdb6e45",
   "metadata": {},
   "outputs": [
    {
     "data": {
      "text/plain": [
       "9"
      ]
     },
     "execution_count": 260,
     "metadata": {},
     "output_type": "execute_result"
    }
   ],
   "source": [
    "len(u_f_ego)"
   ]
  },
  {
   "cell_type": "code",
   "execution_count": 261,
   "id": "9d621b1e-3edc-498f-bf3c-e68fb96b6fb7",
   "metadata": {},
   "outputs": [
    {
     "data": {
      "text/plain": [
       "32"
      ]
     },
     "execution_count": 261,
     "metadata": {},
     "output_type": "execute_result"
    }
   ],
   "source": [
    "len(f_u_ego)"
   ]
  },
  {
   "cell_type": "markdown",
   "id": "f2de4798-14b7-41af-b1f9-819d4d603071",
   "metadata": {},
   "source": [
    "###### So, the difference from the fixed dataset to trade datasets are all same and reverse is true as well. "
   ]
  },
  {
   "cell_type": "markdown",
   "id": "95140cb9-fabe-4232-88f4-f2ad5cfb2ae4",
   "metadata": {},
   "source": [
    "###### So, there are 192 countries present in both datasets. This study will prune other countries for seamless social network analysis. "
   ]
  },
  {
   "cell_type": "code",
   "execution_count": 262,
   "id": "3935c847-9d4f-4049-8fe3-383922a44064",
   "metadata": {},
   "outputs": [],
   "source": [
    "# Finding out common elements of both sets:\n",
    "# Reference: https://www.geeksforgeeks.org/python-print-common-elements-two-lists/\n",
    "m = list(set(fixed['iso_o'].unique()) & set(unique['iso_o'].unique()))\n",
    "n = list(set(fixed['iso_o'].unique()) & set(repro['iso_o'].unique()))\n",
    "o = list(set(fixed['iso_o'].unique()) & set(total['iso_o'].unique()))\n",
    "p = list(set(fixed['iso_d'].unique()) & set(unique['iso_d'].unique()))\n",
    "q = list(set(fixed['iso_d'].unique()) & set(repro['iso_d'].unique()))\n",
    "r = list(set(fixed['iso_d'].unique()) & set(total['iso_d'].unique()))"
   ]
  },
  {
   "cell_type": "code",
   "execution_count": 263,
   "id": "9ab9ea1c-5463-4119-a2cd-6e8800408d7c",
   "metadata": {},
   "outputs": [
    {
     "data": {
      "text/plain": [
       "True"
      ]
     },
     "execution_count": 263,
     "metadata": {},
     "output_type": "execute_result"
    }
   ],
   "source": [
    "len(m) == len(n) == len(o) == len(p) == len(q) == len(r)"
   ]
  },
  {
   "cell_type": "code",
   "execution_count": 264,
   "id": "85a6d749-4fac-461d-800c-22447ddd56a5",
   "metadata": {},
   "outputs": [
    {
     "data": {
      "text/plain": [
       "192"
      ]
     },
     "execution_count": 264,
     "metadata": {},
     "output_type": "execute_result"
    }
   ],
   "source": [
    "len(m)"
   ]
  },
  {
   "cell_type": "code",
   "execution_count": 265,
   "id": "dcf2e868-0b16-4826-886c-8b67916f05e8",
   "metadata": {},
   "outputs": [],
   "source": [
    "from collections import Counter"
   ]
  },
  {
   "cell_type": "code",
   "execution_count": 266,
   "id": "7d4faa86-75b1-452c-afb9-53a6def9c413",
   "metadata": {},
   "outputs": [
    {
     "data": {
      "text/plain": [
       "True"
      ]
     },
     "execution_count": 266,
     "metadata": {},
     "output_type": "execute_result"
    }
   ],
   "source": [
    "Counter(m) == Counter(n) == Counter(o) == Counter(p) == Counter(q) == Counter(r)"
   ]
  },
  {
   "cell_type": "markdown",
   "id": "7a4fc32b-d43c-4b20-bc81-eefd0685ab79",
   "metadata": {},
   "source": [
    "##### keeping only the common countries in all dyad level datasets."
   ]
  },
  {
   "cell_type": "code",
   "execution_count": 267,
   "id": "cd1251cf-3be1-4290-b617-718d81b42af3",
   "metadata": {},
   "outputs": [],
   "source": [
    "unique_com = unique[unique['iso_o'].isin(m) & unique['iso_d'].isin(m)]\n",
    "repro_com = repro[repro['iso_o'].isin(m) & repro['iso_d'].isin(m)]\n",
    "total_com = total[total['iso_o'].isin(m) & total['iso_d'].isin(m)]\n",
    "fixed_com = fixed[fixed['iso_o'].isin(m) & fixed['iso_d'].isin(m)]"
   ]
  },
  {
   "cell_type": "code",
   "execution_count": 268,
   "id": "f117332d-f877-42a6-853b-2baa0f9dbe09",
   "metadata": {},
   "outputs": [
    {
     "name": "stdout",
     "output_type": "stream",
     "text": [
      "192\n",
      "192\n",
      "192\n",
      "192\n",
      "192\n",
      "192\n",
      "192\n",
      "192\n"
     ]
    }
   ],
   "source": [
    "print(total_com['iso_o'].nunique())\n",
    "print(total_com['iso_d'].nunique())\n",
    "print(repro_com['iso_o'].nunique())\n",
    "print(repro_com['iso_d'].nunique())\n",
    "print(unique_com['iso_o'].nunique())\n",
    "print(unique_com['iso_d'].nunique())\n",
    "print(fixed_com['iso_o'].nunique())\n",
    "print(fixed_com['iso_d'].nunique())"
   ]
  },
  {
   "cell_type": "code",
   "execution_count": 269,
   "id": "491ea4ce-a9fc-4037-bb25-f6a123ee9880",
   "metadata": {},
   "outputs": [
    {
     "data": {
      "text/html": [
       "<div>\n",
       "<style scoped>\n",
       "    .dataframe tbody tr th:only-of-type {\n",
       "        vertical-align: middle;\n",
       "    }\n",
       "\n",
       "    .dataframe tbody tr th {\n",
       "        vertical-align: top;\n",
       "    }\n",
       "\n",
       "    .dataframe thead th {\n",
       "        text-align: right;\n",
       "    }\n",
       "</style>\n",
       "<table border=\"1\" class=\"dataframe\">\n",
       "  <thead>\n",
       "    <tr style=\"text-align: right;\">\n",
       "      <th></th>\n",
       "      <th>iso_o</th>\n",
       "      <th>iso_d</th>\n",
       "      <th>TIME_PERIOD</th>\n",
       "      <th>OBS_VALUE</th>\n",
       "      <th>hysteresis_total</th>\n",
       "    </tr>\n",
       "  </thead>\n",
       "  <tbody>\n",
       "    <tr>\n",
       "      <th>0</th>\n",
       "      <td>ABW</td>\n",
       "      <td>AFG</td>\n",
       "      <td>2017</td>\n",
       "      <td>0.065851</td>\n",
       "      <td>0.000000</td>\n",
       "    </tr>\n",
       "    <tr>\n",
       "      <th>1</th>\n",
       "      <td>ABW</td>\n",
       "      <td>AFG</td>\n",
       "      <td>2018</td>\n",
       "      <td>0.398446</td>\n",
       "      <td>0.065851</td>\n",
       "    </tr>\n",
       "    <tr>\n",
       "      <th>2</th>\n",
       "      <td>ABW</td>\n",
       "      <td>AFG</td>\n",
       "      <td>2019</td>\n",
       "      <td>0.254087</td>\n",
       "      <td>0.418202</td>\n",
       "    </tr>\n",
       "    <tr>\n",
       "      <th>3</th>\n",
       "      <td>ABW</td>\n",
       "      <td>AGO</td>\n",
       "      <td>2005</td>\n",
       "      <td>0.002843</td>\n",
       "      <td>0.000000</td>\n",
       "    </tr>\n",
       "    <tr>\n",
       "      <th>4</th>\n",
       "      <td>ABW</td>\n",
       "      <td>AGO</td>\n",
       "      <td>2006</td>\n",
       "      <td>0.060552</td>\n",
       "      <td>0.002843</td>\n",
       "    </tr>\n",
       "  </tbody>\n",
       "</table>\n",
       "</div>"
      ],
      "text/plain": [
       "  iso_o iso_d  TIME_PERIOD  OBS_VALUE  hysteresis_total\n",
       "0   ABW   AFG         2017   0.065851          0.000000\n",
       "1   ABW   AFG         2018   0.398446          0.065851\n",
       "2   ABW   AFG         2019   0.254087          0.418202\n",
       "3   ABW   AGO         2005   0.002843          0.000000\n",
       "4   ABW   AGO         2006   0.060552          0.002843"
      ]
     },
     "execution_count": 269,
     "metadata": {},
     "output_type": "execute_result"
    }
   ],
   "source": [
    "total_com.head()"
   ]
  },
  {
   "cell_type": "markdown",
   "id": "ec0d19ea-89ee-410d-967f-0f98374d1ad2",
   "metadata": {},
   "source": [
    "### Edgelist for total trade & Hysteresis effect"
   ]
  },
  {
   "cell_type": "code",
   "execution_count": 270,
   "id": "91f3d616-8248-4e33-ba04-27599bee76cd",
   "metadata": {},
   "outputs": [
    {
     "data": {
      "text/plain": [
       "True"
      ]
     },
     "execution_count": 270,
     "metadata": {},
     "output_type": "execute_result"
    }
   ],
   "source": [
    "set(total_com['iso_o'].unique()) == set(total_com['iso_d'].unique())"
   ]
  },
  {
   "cell_type": "code",
   "execution_count": 271,
   "id": "37c3b536-1c8a-4baf-96c5-f634e68481da",
   "metadata": {},
   "outputs": [],
   "source": [
    "edgelist_total = total_com.pivot_table(index = ['iso_o', 'iso_d'], columns = 'TIME_PERIOD', values = 'OBS_VALUE', fill_value = 0).reset_index()"
   ]
  },
  {
   "cell_type": "code",
   "execution_count": 272,
   "id": "b96eaa2b-3f07-49c1-a21b-800503a2a841",
   "metadata": {},
   "outputs": [],
   "source": [
    "edgelist_total_rounded = edgelist_total.round(4)"
   ]
  },
  {
   "cell_type": "code",
   "execution_count": 273,
   "id": "44b62bdb-a108-4154-8862-b5fd0475eccb",
   "metadata": {},
   "outputs": [],
   "source": [
    "assert total_com.groupby(['iso_o', 'iso_d']).ngroups == edgelist_total_rounded.shape[0]"
   ]
  },
  {
   "cell_type": "code",
   "execution_count": 274,
   "id": "b22ee9c6-003a-48d6-ac2e-731eefd56730",
   "metadata": {},
   "outputs": [
    {
     "data": {
      "text/html": [
       "<div>\n",
       "<style scoped>\n",
       "    .dataframe tbody tr th:only-of-type {\n",
       "        vertical-align: middle;\n",
       "    }\n",
       "\n",
       "    .dataframe tbody tr th {\n",
       "        vertical-align: top;\n",
       "    }\n",
       "\n",
       "    .dataframe thead th {\n",
       "        text-align: right;\n",
       "    }\n",
       "</style>\n",
       "<table border=\"1\" class=\"dataframe\">\n",
       "  <thead>\n",
       "    <tr style=\"text-align: right;\">\n",
       "      <th>TIME_PERIOD</th>\n",
       "      <th>iso_o</th>\n",
       "      <th>iso_d</th>\n",
       "      <th>2000</th>\n",
       "      <th>2001</th>\n",
       "      <th>2002</th>\n",
       "      <th>2003</th>\n",
       "      <th>2004</th>\n",
       "      <th>2005</th>\n",
       "      <th>2006</th>\n",
       "      <th>2007</th>\n",
       "      <th>...</th>\n",
       "      <th>2014</th>\n",
       "      <th>2015</th>\n",
       "      <th>2016</th>\n",
       "      <th>2017</th>\n",
       "      <th>2018</th>\n",
       "      <th>2019</th>\n",
       "      <th>2020</th>\n",
       "      <th>2021</th>\n",
       "      <th>2022</th>\n",
       "      <th>2023</th>\n",
       "    </tr>\n",
       "  </thead>\n",
       "  <tbody>\n",
       "    <tr>\n",
       "      <th>0</th>\n",
       "      <td>ABW</td>\n",
       "      <td>AFG</td>\n",
       "      <td>0.0</td>\n",
       "      <td>0.0</td>\n",
       "      <td>0.0</td>\n",
       "      <td>0.0</td>\n",
       "      <td>0.0</td>\n",
       "      <td>0.0000</td>\n",
       "      <td>0.0000</td>\n",
       "      <td>0.0000</td>\n",
       "      <td>...</td>\n",
       "      <td>0.0000</td>\n",
       "      <td>0.0</td>\n",
       "      <td>0.0000</td>\n",
       "      <td>0.0659</td>\n",
       "      <td>0.3984</td>\n",
       "      <td>0.2541</td>\n",
       "      <td>0.0</td>\n",
       "      <td>0.0</td>\n",
       "      <td>0.0</td>\n",
       "      <td>0.000</td>\n",
       "    </tr>\n",
       "    <tr>\n",
       "      <th>1</th>\n",
       "      <td>ABW</td>\n",
       "      <td>AGO</td>\n",
       "      <td>0.0</td>\n",
       "      <td>0.0</td>\n",
       "      <td>0.0</td>\n",
       "      <td>0.0</td>\n",
       "      <td>0.0</td>\n",
       "      <td>0.0028</td>\n",
       "      <td>0.0606</td>\n",
       "      <td>0.0239</td>\n",
       "      <td>...</td>\n",
       "      <td>0.0372</td>\n",
       "      <td>0.0</td>\n",
       "      <td>0.0000</td>\n",
       "      <td>0.0000</td>\n",
       "      <td>0.0000</td>\n",
       "      <td>0.0058</td>\n",
       "      <td>0.0</td>\n",
       "      <td>0.0</td>\n",
       "      <td>0.0</td>\n",
       "      <td>0.015</td>\n",
       "    </tr>\n",
       "    <tr>\n",
       "      <th>2</th>\n",
       "      <td>ABW</td>\n",
       "      <td>ALB</td>\n",
       "      <td>0.0</td>\n",
       "      <td>0.0</td>\n",
       "      <td>0.0</td>\n",
       "      <td>0.0</td>\n",
       "      <td>0.0</td>\n",
       "      <td>0.0000</td>\n",
       "      <td>0.0000</td>\n",
       "      <td>0.0000</td>\n",
       "      <td>...</td>\n",
       "      <td>0.0000</td>\n",
       "      <td>0.0</td>\n",
       "      <td>0.0003</td>\n",
       "      <td>0.0000</td>\n",
       "      <td>0.0000</td>\n",
       "      <td>0.0000</td>\n",
       "      <td>0.0</td>\n",
       "      <td>0.0</td>\n",
       "      <td>0.0</td>\n",
       "      <td>0.000</td>\n",
       "    </tr>\n",
       "  </tbody>\n",
       "</table>\n",
       "<p>3 rows × 26 columns</p>\n",
       "</div>"
      ],
      "text/plain": [
       "TIME_PERIOD iso_o iso_d  2000  2001  2002  2003  2004    2005    2006    2007  \\\n",
       "0             ABW   AFG   0.0   0.0   0.0   0.0   0.0  0.0000  0.0000  0.0000   \n",
       "1             ABW   AGO   0.0   0.0   0.0   0.0   0.0  0.0028  0.0606  0.0239   \n",
       "2             ABW   ALB   0.0   0.0   0.0   0.0   0.0  0.0000  0.0000  0.0000   \n",
       "\n",
       "TIME_PERIOD  ...    2014  2015    2016    2017    2018    2019  2020  2021  \\\n",
       "0            ...  0.0000   0.0  0.0000  0.0659  0.3984  0.2541   0.0   0.0   \n",
       "1            ...  0.0372   0.0  0.0000  0.0000  0.0000  0.0058   0.0   0.0   \n",
       "2            ...  0.0000   0.0  0.0003  0.0000  0.0000  0.0000   0.0   0.0   \n",
       "\n",
       "TIME_PERIOD  2022   2023  \n",
       "0             0.0  0.000  \n",
       "1             0.0  0.015  \n",
       "2             0.0  0.000  \n",
       "\n",
       "[3 rows x 26 columns]"
      ]
     },
     "execution_count": 274,
     "metadata": {},
     "output_type": "execute_result"
    }
   ],
   "source": [
    "edgelist_total_rounded.head(3)"
   ]
  },
  {
   "cell_type": "code",
   "execution_count": 275,
   "id": "bf04a5ea-d873-4b64-82a4-af71c6fa408b",
   "metadata": {},
   "outputs": [],
   "source": [
    "edgelist_total_rounded.to_csv(\"../data/cleaned/total_edgelist.csv\", encoding='utf-8', index=False)"
   ]
  },
  {
   "cell_type": "code",
   "execution_count": 276,
   "id": "bc88dc1e-d3dd-4d19-b048-e59730506242",
   "metadata": {},
   "outputs": [
    {
     "data": {
      "text/html": [
       "<div>\n",
       "<style scoped>\n",
       "    .dataframe tbody tr th:only-of-type {\n",
       "        vertical-align: middle;\n",
       "    }\n",
       "\n",
       "    .dataframe tbody tr th {\n",
       "        vertical-align: top;\n",
       "    }\n",
       "\n",
       "    .dataframe thead th {\n",
       "        text-align: right;\n",
       "    }\n",
       "</style>\n",
       "<table border=\"1\" class=\"dataframe\">\n",
       "  <thead>\n",
       "    <tr style=\"text-align: right;\">\n",
       "      <th></th>\n",
       "      <th>iso_o</th>\n",
       "      <th>iso_d</th>\n",
       "      <th>TIME_PERIOD</th>\n",
       "      <th>OBS_VALUE</th>\n",
       "      <th>hysteresis_total</th>\n",
       "    </tr>\n",
       "  </thead>\n",
       "  <tbody>\n",
       "    <tr>\n",
       "      <th>0</th>\n",
       "      <td>ABW</td>\n",
       "      <td>AFG</td>\n",
       "      <td>2017</td>\n",
       "      <td>0.065851</td>\n",
       "      <td>0.000000</td>\n",
       "    </tr>\n",
       "    <tr>\n",
       "      <th>1</th>\n",
       "      <td>ABW</td>\n",
       "      <td>AFG</td>\n",
       "      <td>2018</td>\n",
       "      <td>0.398446</td>\n",
       "      <td>0.065851</td>\n",
       "    </tr>\n",
       "    <tr>\n",
       "      <th>2</th>\n",
       "      <td>ABW</td>\n",
       "      <td>AFG</td>\n",
       "      <td>2019</td>\n",
       "      <td>0.254087</td>\n",
       "      <td>0.418202</td>\n",
       "    </tr>\n",
       "  </tbody>\n",
       "</table>\n",
       "</div>"
      ],
      "text/plain": [
       "  iso_o iso_d  TIME_PERIOD  OBS_VALUE  hysteresis_total\n",
       "0   ABW   AFG         2017   0.065851          0.000000\n",
       "1   ABW   AFG         2018   0.398446          0.065851\n",
       "2   ABW   AFG         2019   0.254087          0.418202"
      ]
     },
     "execution_count": 276,
     "metadata": {},
     "output_type": "execute_result"
    }
   ],
   "source": [
    "total_com.head(3)"
   ]
  },
  {
   "cell_type": "code",
   "execution_count": 277,
   "id": "ef254e80-b568-43bd-808c-4a44d8b0f270",
   "metadata": {},
   "outputs": [],
   "source": [
    "edgelist_total_hyst = total_com.pivot_table(index = ['iso_o', 'iso_d'], columns = 'TIME_PERIOD', values = 'hysteresis_total', fill_value = 0).reset_index()"
   ]
  },
  {
   "cell_type": "code",
   "execution_count": 278,
   "id": "2c621cb8-5c6d-4f66-9b24-61044bbab267",
   "metadata": {},
   "outputs": [
    {
     "data": {
      "text/html": [
       "<div>\n",
       "<style scoped>\n",
       "    .dataframe tbody tr th:only-of-type {\n",
       "        vertical-align: middle;\n",
       "    }\n",
       "\n",
       "    .dataframe tbody tr th {\n",
       "        vertical-align: top;\n",
       "    }\n",
       "\n",
       "    .dataframe thead th {\n",
       "        text-align: right;\n",
       "    }\n",
       "</style>\n",
       "<table border=\"1\" class=\"dataframe\">\n",
       "  <thead>\n",
       "    <tr style=\"text-align: right;\">\n",
       "      <th>TIME_PERIOD</th>\n",
       "      <th>iso_o</th>\n",
       "      <th>iso_d</th>\n",
       "      <th>2000</th>\n",
       "      <th>2001</th>\n",
       "      <th>2002</th>\n",
       "      <th>2003</th>\n",
       "      <th>2004</th>\n",
       "      <th>2005</th>\n",
       "      <th>2006</th>\n",
       "      <th>2007</th>\n",
       "      <th>...</th>\n",
       "      <th>2014</th>\n",
       "      <th>2015</th>\n",
       "      <th>2016</th>\n",
       "      <th>2017</th>\n",
       "      <th>2018</th>\n",
       "      <th>2019</th>\n",
       "      <th>2020</th>\n",
       "      <th>2021</th>\n",
       "      <th>2022</th>\n",
       "      <th>2023</th>\n",
       "    </tr>\n",
       "  </thead>\n",
       "  <tbody>\n",
       "    <tr>\n",
       "      <th>0</th>\n",
       "      <td>ABW</td>\n",
       "      <td>AFG</td>\n",
       "      <td>0.0</td>\n",
       "      <td>0.000000</td>\n",
       "      <td>0.00000</td>\n",
       "      <td>0.000000</td>\n",
       "      <td>0.000000</td>\n",
       "      <td>0.0</td>\n",
       "      <td>0.000000</td>\n",
       "      <td>0.000000</td>\n",
       "      <td>...</td>\n",
       "      <td>0.000000</td>\n",
       "      <td>0.000000</td>\n",
       "      <td>0.000000</td>\n",
       "      <td>0.000000</td>\n",
       "      <td>0.065851</td>\n",
       "      <td>0.418202</td>\n",
       "      <td>0.000000</td>\n",
       "      <td>0.000000</td>\n",
       "      <td>0.000000</td>\n",
       "      <td>0.000000</td>\n",
       "    </tr>\n",
       "    <tr>\n",
       "      <th>1</th>\n",
       "      <td>ABW</td>\n",
       "      <td>AGO</td>\n",
       "      <td>0.0</td>\n",
       "      <td>0.000000</td>\n",
       "      <td>0.00000</td>\n",
       "      <td>0.000000</td>\n",
       "      <td>0.000000</td>\n",
       "      <td>0.0</td>\n",
       "      <td>0.002843</td>\n",
       "      <td>0.061405</td>\n",
       "      <td>...</td>\n",
       "      <td>4.822801</td>\n",
       "      <td>0.000000</td>\n",
       "      <td>0.000000</td>\n",
       "      <td>0.000000</td>\n",
       "      <td>0.000000</td>\n",
       "      <td>1.484037</td>\n",
       "      <td>0.000000</td>\n",
       "      <td>0.000000</td>\n",
       "      <td>0.000000</td>\n",
       "      <td>0.451015</td>\n",
       "    </tr>\n",
       "    <tr>\n",
       "      <th>2</th>\n",
       "      <td>ABW</td>\n",
       "      <td>ALB</td>\n",
       "      <td>0.0</td>\n",
       "      <td>0.000000</td>\n",
       "      <td>0.00000</td>\n",
       "      <td>0.000000</td>\n",
       "      <td>0.000000</td>\n",
       "      <td>0.0</td>\n",
       "      <td>0.000000</td>\n",
       "      <td>0.000000</td>\n",
       "      <td>...</td>\n",
       "      <td>0.000000</td>\n",
       "      <td>0.000000</td>\n",
       "      <td>0.000000</td>\n",
       "      <td>0.000000</td>\n",
       "      <td>0.000000</td>\n",
       "      <td>0.000000</td>\n",
       "      <td>0.000000</td>\n",
       "      <td>0.000000</td>\n",
       "      <td>0.000000</td>\n",
       "      <td>0.000000</td>\n",
       "    </tr>\n",
       "    <tr>\n",
       "      <th>3</th>\n",
       "      <td>ABW</td>\n",
       "      <td>ARE</td>\n",
       "      <td>0.0</td>\n",
       "      <td>0.000000</td>\n",
       "      <td>0.00000</td>\n",
       "      <td>0.000101</td>\n",
       "      <td>0.000000</td>\n",
       "      <td>0.0</td>\n",
       "      <td>0.000000</td>\n",
       "      <td>0.049586</td>\n",
       "      <td>...</td>\n",
       "      <td>0.159691</td>\n",
       "      <td>0.177917</td>\n",
       "      <td>0.053394</td>\n",
       "      <td>0.462883</td>\n",
       "      <td>0.528631</td>\n",
       "      <td>1.254906</td>\n",
       "      <td>1.021522</td>\n",
       "      <td>0.607121</td>\n",
       "      <td>0.471481</td>\n",
       "      <td>1.367017</td>\n",
       "    </tr>\n",
       "    <tr>\n",
       "      <th>4</th>\n",
       "      <td>ABW</td>\n",
       "      <td>ARG</td>\n",
       "      <td>0.0</td>\n",
       "      <td>0.034091</td>\n",
       "      <td>0.01023</td>\n",
       "      <td>0.028921</td>\n",
       "      <td>11.989098</td>\n",
       "      <td>0.0</td>\n",
       "      <td>22.533631</td>\n",
       "      <td>15.074821</td>\n",
       "      <td>...</td>\n",
       "      <td>0.000000</td>\n",
       "      <td>0.000000</td>\n",
       "      <td>0.000000</td>\n",
       "      <td>6.371348</td>\n",
       "      <td>1.911455</td>\n",
       "      <td>0.573590</td>\n",
       "      <td>0.172080</td>\n",
       "      <td>0.000000</td>\n",
       "      <td>0.051938</td>\n",
       "      <td>0.016071</td>\n",
       "    </tr>\n",
       "  </tbody>\n",
       "</table>\n",
       "<p>5 rows × 26 columns</p>\n",
       "</div>"
      ],
      "text/plain": [
       "TIME_PERIOD iso_o iso_d  2000      2001     2002      2003       2004  2005  \\\n",
       "0             ABW   AFG   0.0  0.000000  0.00000  0.000000   0.000000   0.0   \n",
       "1             ABW   AGO   0.0  0.000000  0.00000  0.000000   0.000000   0.0   \n",
       "2             ABW   ALB   0.0  0.000000  0.00000  0.000000   0.000000   0.0   \n",
       "3             ABW   ARE   0.0  0.000000  0.00000  0.000101   0.000000   0.0   \n",
       "4             ABW   ARG   0.0  0.034091  0.01023  0.028921  11.989098   0.0   \n",
       "\n",
       "TIME_PERIOD       2006       2007  ...      2014      2015      2016  \\\n",
       "0             0.000000   0.000000  ...  0.000000  0.000000  0.000000   \n",
       "1             0.002843   0.061405  ...  4.822801  0.000000  0.000000   \n",
       "2             0.000000   0.000000  ...  0.000000  0.000000  0.000000   \n",
       "3             0.000000   0.049586  ...  0.159691  0.177917  0.053394   \n",
       "4            22.533631  15.074821  ...  0.000000  0.000000  0.000000   \n",
       "\n",
       "TIME_PERIOD      2017      2018      2019      2020      2021      2022  \\\n",
       "0            0.000000  0.065851  0.418202  0.000000  0.000000  0.000000   \n",
       "1            0.000000  0.000000  1.484037  0.000000  0.000000  0.000000   \n",
       "2            0.000000  0.000000  0.000000  0.000000  0.000000  0.000000   \n",
       "3            0.462883  0.528631  1.254906  1.021522  0.607121  0.471481   \n",
       "4            6.371348  1.911455  0.573590  0.172080  0.000000  0.051938   \n",
       "\n",
       "TIME_PERIOD      2023  \n",
       "0            0.000000  \n",
       "1            0.451015  \n",
       "2            0.000000  \n",
       "3            1.367017  \n",
       "4            0.016071  \n",
       "\n",
       "[5 rows x 26 columns]"
      ]
     },
     "execution_count": 278,
     "metadata": {},
     "output_type": "execute_result"
    }
   ],
   "source": [
    "edgelist_total_hyst.head()"
   ]
  },
  {
   "cell_type": "code",
   "execution_count": 279,
   "id": "03a6fb73-9038-4612-b05e-3d91b3e9100d",
   "metadata": {},
   "outputs": [],
   "source": [
    "edgelist_total_hyst.to_csv(\"../data/cleaned/edgelist_total_hyst.csv\", encoding='utf-8', index=False)"
   ]
  },
  {
   "cell_type": "code",
   "execution_count": 280,
   "id": "4986974a-5d03-4c97-9fb2-f24e81f6e136",
   "metadata": {},
   "outputs": [],
   "source": [
    "edgelist_total_hyst = edgelist_total_hyst.add_prefix('H_')"
   ]
  },
  {
   "cell_type": "code",
   "execution_count": 281,
   "id": "36fd3c54-0e9c-4ea9-b6fe-57919a309aa7",
   "metadata": {},
   "outputs": [],
   "source": [
    "edgelist_total_hyst = edgelist_total_hyst.rename(columns = {'H_iso_o': 'iso_o'})\n",
    "edgelist_total_hyst = edgelist_total_hyst.rename(columns = {'H_iso_d': 'iso_d'})"
   ]
  },
  {
   "cell_type": "code",
   "execution_count": 282,
   "id": "096052ae-d743-479f-af35-65863a0965ca",
   "metadata": {},
   "outputs": [],
   "source": [
    "assert total_com.groupby(['iso_o', 'iso_d']).ngroups == edgelist_total_rounded.shape[0] == edgelist_total_hyst.shape[0]"
   ]
  },
  {
   "cell_type": "code",
   "execution_count": 283,
   "id": "11efdf36-1145-49ae-ae14-b6fe315c3d48",
   "metadata": {},
   "outputs": [],
   "source": [
    "total_merged = edgelist_total_rounded.merge(edgelist_total_hyst, on = ['iso_o', 'iso_d'])"
   ]
  },
  {
   "cell_type": "code",
   "execution_count": 284,
   "id": "869f197a-2f6d-4012-8635-b4573453953c",
   "metadata": {},
   "outputs": [
    {
     "data": {
      "text/html": [
       "<div>\n",
       "<style scoped>\n",
       "    .dataframe tbody tr th:only-of-type {\n",
       "        vertical-align: middle;\n",
       "    }\n",
       "\n",
       "    .dataframe tbody tr th {\n",
       "        vertical-align: top;\n",
       "    }\n",
       "\n",
       "    .dataframe thead th {\n",
       "        text-align: right;\n",
       "    }\n",
       "</style>\n",
       "<table border=\"1\" class=\"dataframe\">\n",
       "  <thead>\n",
       "    <tr style=\"text-align: right;\">\n",
       "      <th>TIME_PERIOD</th>\n",
       "      <th>iso_o</th>\n",
       "      <th>iso_d</th>\n",
       "      <th>2000</th>\n",
       "      <th>2001</th>\n",
       "      <th>2002</th>\n",
       "      <th>2003</th>\n",
       "      <th>2004</th>\n",
       "      <th>2005</th>\n",
       "      <th>2006</th>\n",
       "      <th>2007</th>\n",
       "      <th>...</th>\n",
       "      <th>H_2014</th>\n",
       "      <th>H_2015</th>\n",
       "      <th>H_2016</th>\n",
       "      <th>H_2017</th>\n",
       "      <th>H_2018</th>\n",
       "      <th>H_2019</th>\n",
       "      <th>H_2020</th>\n",
       "      <th>H_2021</th>\n",
       "      <th>H_2022</th>\n",
       "      <th>H_2023</th>\n",
       "    </tr>\n",
       "  </thead>\n",
       "  <tbody>\n",
       "    <tr>\n",
       "      <th>0</th>\n",
       "      <td>ABW</td>\n",
       "      <td>AFG</td>\n",
       "      <td>0.0</td>\n",
       "      <td>0.0</td>\n",
       "      <td>0.0</td>\n",
       "      <td>0.0</td>\n",
       "      <td>0.0</td>\n",
       "      <td>0.0000</td>\n",
       "      <td>0.0000</td>\n",
       "      <td>0.0000</td>\n",
       "      <td>...</td>\n",
       "      <td>0.000000</td>\n",
       "      <td>0.0</td>\n",
       "      <td>0.0</td>\n",
       "      <td>0.0</td>\n",
       "      <td>0.065851</td>\n",
       "      <td>0.418202</td>\n",
       "      <td>0.0</td>\n",
       "      <td>0.0</td>\n",
       "      <td>0.0</td>\n",
       "      <td>0.000000</td>\n",
       "    </tr>\n",
       "    <tr>\n",
       "      <th>1</th>\n",
       "      <td>ABW</td>\n",
       "      <td>AGO</td>\n",
       "      <td>0.0</td>\n",
       "      <td>0.0</td>\n",
       "      <td>0.0</td>\n",
       "      <td>0.0</td>\n",
       "      <td>0.0</td>\n",
       "      <td>0.0028</td>\n",
       "      <td>0.0606</td>\n",
       "      <td>0.0239</td>\n",
       "      <td>...</td>\n",
       "      <td>4.822801</td>\n",
       "      <td>0.0</td>\n",
       "      <td>0.0</td>\n",
       "      <td>0.0</td>\n",
       "      <td>0.000000</td>\n",
       "      <td>1.484037</td>\n",
       "      <td>0.0</td>\n",
       "      <td>0.0</td>\n",
       "      <td>0.0</td>\n",
       "      <td>0.451015</td>\n",
       "    </tr>\n",
       "    <tr>\n",
       "      <th>2</th>\n",
       "      <td>ABW</td>\n",
       "      <td>ALB</td>\n",
       "      <td>0.0</td>\n",
       "      <td>0.0</td>\n",
       "      <td>0.0</td>\n",
       "      <td>0.0</td>\n",
       "      <td>0.0</td>\n",
       "      <td>0.0000</td>\n",
       "      <td>0.0000</td>\n",
       "      <td>0.0000</td>\n",
       "      <td>...</td>\n",
       "      <td>0.000000</td>\n",
       "      <td>0.0</td>\n",
       "      <td>0.0</td>\n",
       "      <td>0.0</td>\n",
       "      <td>0.000000</td>\n",
       "      <td>0.000000</td>\n",
       "      <td>0.0</td>\n",
       "      <td>0.0</td>\n",
       "      <td>0.0</td>\n",
       "      <td>0.000000</td>\n",
       "    </tr>\n",
       "  </tbody>\n",
       "</table>\n",
       "<p>3 rows × 50 columns</p>\n",
       "</div>"
      ],
      "text/plain": [
       "TIME_PERIOD iso_o iso_d  2000  2001  2002  2003  2004    2005    2006    2007  \\\n",
       "0             ABW   AFG   0.0   0.0   0.0   0.0   0.0  0.0000  0.0000  0.0000   \n",
       "1             ABW   AGO   0.0   0.0   0.0   0.0   0.0  0.0028  0.0606  0.0239   \n",
       "2             ABW   ALB   0.0   0.0   0.0   0.0   0.0  0.0000  0.0000  0.0000   \n",
       "\n",
       "TIME_PERIOD  ...    H_2014  H_2015  H_2016  H_2017    H_2018    H_2019  \\\n",
       "0            ...  0.000000     0.0     0.0     0.0  0.065851  0.418202   \n",
       "1            ...  4.822801     0.0     0.0     0.0  0.000000  1.484037   \n",
       "2            ...  0.000000     0.0     0.0     0.0  0.000000  0.000000   \n",
       "\n",
       "TIME_PERIOD  H_2020  H_2021  H_2022    H_2023  \n",
       "0               0.0     0.0     0.0  0.000000  \n",
       "1               0.0     0.0     0.0  0.451015  \n",
       "2               0.0     0.0     0.0  0.000000  \n",
       "\n",
       "[3 rows x 50 columns]"
      ]
     },
     "execution_count": 284,
     "metadata": {},
     "output_type": "execute_result"
    }
   ],
   "source": [
    "total_merged.head(3)"
   ]
  },
  {
   "cell_type": "code",
   "execution_count": 285,
   "id": "a889001e-3dea-42e6-82ea-970d29dfbe1b",
   "metadata": {},
   "outputs": [
    {
     "data": {
      "text/plain": [
       "Index([ 'iso_o',  'iso_d',     2000,     2001,     2002,     2003,     2004,\n",
       "           2005,     2006,     2007,     2008,     2009,     2010,     2011,\n",
       "           2012,     2013,     2014,     2015,     2016,     2017,     2018,\n",
       "           2019,     2020,     2021,     2022,     2023, 'H_2000', 'H_2001',\n",
       "       'H_2002', 'H_2003', 'H_2004', 'H_2005', 'H_2006', 'H_2007', 'H_2008',\n",
       "       'H_2009', 'H_2010', 'H_2011', 'H_2012', 'H_2013', 'H_2014', 'H_2015',\n",
       "       'H_2016', 'H_2017', 'H_2018', 'H_2019', 'H_2020', 'H_2021', 'H_2022',\n",
       "       'H_2023'],\n",
       "      dtype='object', name='TIME_PERIOD')"
      ]
     },
     "execution_count": 285,
     "metadata": {},
     "output_type": "execute_result"
    }
   ],
   "source": [
    "total_merged.columns"
   ]
  },
  {
   "cell_type": "code",
   "execution_count": 286,
   "id": "07682efb-1db8-4cae-b76b-c4de34e9eb2f",
   "metadata": {},
   "outputs": [],
   "source": [
    "total_merged = total_merged[['iso_o','iso_d', 2000,'H_2000',2001,'H_2001',2002,'H_2002',2003,'H_2003',2004,'H_2004',2005,'H_2005',2006,'H_2006', 2007,'H_2007',2008,'H_2008',2009,'H_2009',2010,'H_2010',2011,'H_2011',2012,'H_2012',2013,'H_2013',2014,'H_2014',2015,'H_2015',2016,'H_2016',2017,'H_2017',2018,'H_2018',2019,'H_2019',2020,'H_2020',2021,'H_2021',2022,'H_2022',2023,'H_2023']]"
   ]
  },
  {
   "cell_type": "code",
   "execution_count": 287,
   "id": "94badca7-befe-437d-bee6-24d061e7e84d",
   "metadata": {},
   "outputs": [],
   "source": [
    "assert total_com.groupby(['iso_o', 'iso_d']).ngroups == edgelist_total_rounded.shape[0] == edgelist_total_hyst.shape[0] == total_merged.shape[0]"
   ]
  },
  {
   "cell_type": "code",
   "execution_count": 288,
   "id": "14e89aa2-21fb-47dc-b391-b0ca75836257",
   "metadata": {},
   "outputs": [],
   "source": [
    "total_merged.to_csv(\"../data/cleaned/edgelist_total.csv\", encoding='utf-8', index=False)"
   ]
  },
  {
   "cell_type": "code",
   "execution_count": null,
   "id": "db9b1ed4-e3bc-4d5b-8970-91a2eb891944",
   "metadata": {},
   "outputs": [],
   "source": []
  },
  {
   "cell_type": "markdown",
   "id": "c18757ae-5c7d-4d7f-aeeb-97567f376bf4",
   "metadata": {},
   "source": [
    "### Edgelist for unique cultural goods trade & Hysteresis Effect"
   ]
  },
  {
   "cell_type": "code",
   "execution_count": 289,
   "id": "6413376b-1b30-43b5-9340-eef936a0c720",
   "metadata": {},
   "outputs": [
    {
     "data": {
      "text/plain": [
       "True"
      ]
     },
     "execution_count": 289,
     "metadata": {},
     "output_type": "execute_result"
    }
   ],
   "source": [
    "set(unique_com['iso_o'].unique()) == set(unique_com['iso_d'].unique())"
   ]
  },
  {
   "cell_type": "code",
   "execution_count": 290,
   "id": "90b6b057-8a34-471e-9fc8-b9d8149b30fa",
   "metadata": {},
   "outputs": [],
   "source": [
    "edgelist_unique = unique_com.pivot_table(index = ['iso_o', 'iso_d'], columns = 'TIME_PERIOD', values = 'OBS_VALUE', fill_value = 0).reset_index()"
   ]
  },
  {
   "cell_type": "code",
   "execution_count": 291,
   "id": "576f798f-6be9-4960-9035-053f1ca42742",
   "metadata": {},
   "outputs": [],
   "source": [
    "edgelist_unique_rounded = edgelist_unique.round(4)"
   ]
  },
  {
   "cell_type": "code",
   "execution_count": 292,
   "id": "be996470-f944-4969-8106-ce1b5927ea89",
   "metadata": {},
   "outputs": [
    {
     "data": {
      "text/plain": [
       "192"
      ]
     },
     "execution_count": 292,
     "metadata": {},
     "output_type": "execute_result"
    }
   ],
   "source": [
    "edgelist_unique_rounded['iso_o'].nunique()"
   ]
  },
  {
   "cell_type": "code",
   "execution_count": 293,
   "id": "df321c07-06a6-4ea5-b1dc-0bbef56215f6",
   "metadata": {},
   "outputs": [],
   "source": [
    "assert unique_com.groupby(['iso_o', 'iso_d']).ngroups == edgelist_unique_rounded.shape[0] # making sure we have same number of dyads in both panel data and edgelist"
   ]
  },
  {
   "cell_type": "code",
   "execution_count": 294,
   "id": "5a76c9d0-6750-4084-90a4-51a6306d2095",
   "metadata": {},
   "outputs": [],
   "source": [
    "edgelist_unique_rounded.to_csv(\"../data/cleaned/unique_edgelist.csv\", encoding='utf-8', index=False)"
   ]
  },
  {
   "cell_type": "code",
   "execution_count": 295,
   "id": "bc1f35b0-1fc4-492b-881d-122548aac7bb",
   "metadata": {},
   "outputs": [
    {
     "data": {
      "text/html": [
       "<div>\n",
       "<style scoped>\n",
       "    .dataframe tbody tr th:only-of-type {\n",
       "        vertical-align: middle;\n",
       "    }\n",
       "\n",
       "    .dataframe tbody tr th {\n",
       "        vertical-align: top;\n",
       "    }\n",
       "\n",
       "    .dataframe thead th {\n",
       "        text-align: right;\n",
       "    }\n",
       "</style>\n",
       "<table border=\"1\" class=\"dataframe\">\n",
       "  <thead>\n",
       "    <tr style=\"text-align: right;\">\n",
       "      <th></th>\n",
       "      <th>iso_o</th>\n",
       "      <th>iso_d</th>\n",
       "      <th>PRODUCT_HS</th>\n",
       "      <th>TIME_PERIOD</th>\n",
       "      <th>OBS_VALUE</th>\n",
       "      <th>ADJUSTMENT</th>\n",
       "      <th>hysteresis_unique</th>\n",
       "    </tr>\n",
       "  </thead>\n",
       "  <tbody>\n",
       "    <tr>\n",
       "      <th>0</th>\n",
       "      <td>ABW</td>\n",
       "      <td>AGO</td>\n",
       "      <td>HS17_97</td>\n",
       "      <td>2014</td>\n",
       "      <td>0.000028</td>\n",
       "      <td>B_ADJ_RX</td>\n",
       "      <td>0.000000</td>\n",
       "    </tr>\n",
       "    <tr>\n",
       "      <th>1</th>\n",
       "      <td>ABW</td>\n",
       "      <td>ARE</td>\n",
       "      <td>HS17_97</td>\n",
       "      <td>2005</td>\n",
       "      <td>0.000641</td>\n",
       "      <td>B_ADJ_RX</td>\n",
       "      <td>0.000000</td>\n",
       "    </tr>\n",
       "    <tr>\n",
       "      <th>2</th>\n",
       "      <td>ABW</td>\n",
       "      <td>ARE</td>\n",
       "      <td>HS17_97</td>\n",
       "      <td>2014</td>\n",
       "      <td>0.000053</td>\n",
       "      <td>B_ADJ_RX</td>\n",
       "      <td>0.000641</td>\n",
       "    </tr>\n",
       "  </tbody>\n",
       "</table>\n",
       "</div>"
      ],
      "text/plain": [
       "  iso_o iso_d PRODUCT_HS  TIME_PERIOD  OBS_VALUE ADJUSTMENT  hysteresis_unique\n",
       "0   ABW   AGO    HS17_97         2014   0.000028   B_ADJ_RX           0.000000\n",
       "1   ABW   ARE    HS17_97         2005   0.000641   B_ADJ_RX           0.000000\n",
       "2   ABW   ARE    HS17_97         2014   0.000053   B_ADJ_RX           0.000641"
      ]
     },
     "execution_count": 295,
     "metadata": {},
     "output_type": "execute_result"
    }
   ],
   "source": [
    "unique_com.head(3)"
   ]
  },
  {
   "cell_type": "code",
   "execution_count": 296,
   "id": "96f0fef6-1dd2-4d8c-b0a8-7a711b9d0577",
   "metadata": {},
   "outputs": [],
   "source": [
    "edgelist_unique_hyst = unique_com.pivot_table(index = ['iso_o', 'iso_d'], columns = 'TIME_PERIOD', values = 'hysteresis_unique', fill_value = 0).reset_index()"
   ]
  },
  {
   "cell_type": "code",
   "execution_count": 297,
   "id": "2e3d0866-699c-4472-bf3a-7f1c9a1da1a4",
   "metadata": {},
   "outputs": [
    {
     "data": {
      "text/html": [
       "<div>\n",
       "<style scoped>\n",
       "    .dataframe tbody tr th:only-of-type {\n",
       "        vertical-align: middle;\n",
       "    }\n",
       "\n",
       "    .dataframe tbody tr th {\n",
       "        vertical-align: top;\n",
       "    }\n",
       "\n",
       "    .dataframe thead th {\n",
       "        text-align: right;\n",
       "    }\n",
       "</style>\n",
       "<table border=\"1\" class=\"dataframe\">\n",
       "  <thead>\n",
       "    <tr style=\"text-align: right;\">\n",
       "      <th>TIME_PERIOD</th>\n",
       "      <th>iso_o</th>\n",
       "      <th>iso_d</th>\n",
       "      <th>2000</th>\n",
       "      <th>2001</th>\n",
       "      <th>2002</th>\n",
       "      <th>2003</th>\n",
       "      <th>2004</th>\n",
       "      <th>2005</th>\n",
       "      <th>2006</th>\n",
       "      <th>2007</th>\n",
       "      <th>...</th>\n",
       "      <th>2014</th>\n",
       "      <th>2015</th>\n",
       "      <th>2016</th>\n",
       "      <th>2017</th>\n",
       "      <th>2018</th>\n",
       "      <th>2019</th>\n",
       "      <th>2020</th>\n",
       "      <th>2021</th>\n",
       "      <th>2022</th>\n",
       "      <th>2023</th>\n",
       "    </tr>\n",
       "  </thead>\n",
       "  <tbody>\n",
       "    <tr>\n",
       "      <th>0</th>\n",
       "      <td>ABW</td>\n",
       "      <td>AGO</td>\n",
       "      <td>0.0</td>\n",
       "      <td>0.0</td>\n",
       "      <td>0.0</td>\n",
       "      <td>0.0</td>\n",
       "      <td>0.0</td>\n",
       "      <td>0.0</td>\n",
       "      <td>0.0</td>\n",
       "      <td>0.0</td>\n",
       "      <td>...</td>\n",
       "      <td>0.000000</td>\n",
       "      <td>0.0</td>\n",
       "      <td>0.0</td>\n",
       "      <td>0.0</td>\n",
       "      <td>0.0</td>\n",
       "      <td>0.0</td>\n",
       "      <td>0.000000</td>\n",
       "      <td>0.0</td>\n",
       "      <td>0.000000</td>\n",
       "      <td>0.000000</td>\n",
       "    </tr>\n",
       "    <tr>\n",
       "      <th>1</th>\n",
       "      <td>ABW</td>\n",
       "      <td>ARE</td>\n",
       "      <td>0.0</td>\n",
       "      <td>0.0</td>\n",
       "      <td>0.0</td>\n",
       "      <td>0.0</td>\n",
       "      <td>0.0</td>\n",
       "      <td>0.0</td>\n",
       "      <td>0.0</td>\n",
       "      <td>0.0</td>\n",
       "      <td>...</td>\n",
       "      <td>0.000641</td>\n",
       "      <td>0.0</td>\n",
       "      <td>0.0</td>\n",
       "      <td>0.0</td>\n",
       "      <td>0.0</td>\n",
       "      <td>0.0</td>\n",
       "      <td>0.000245</td>\n",
       "      <td>0.0</td>\n",
       "      <td>0.000093</td>\n",
       "      <td>0.000159</td>\n",
       "    </tr>\n",
       "    <tr>\n",
       "      <th>2</th>\n",
       "      <td>ABW</td>\n",
       "      <td>ATG</td>\n",
       "      <td>0.0</td>\n",
       "      <td>0.0</td>\n",
       "      <td>0.0</td>\n",
       "      <td>0.0</td>\n",
       "      <td>0.0</td>\n",
       "      <td>0.0</td>\n",
       "      <td>0.0</td>\n",
       "      <td>0.0</td>\n",
       "      <td>...</td>\n",
       "      <td>0.000000</td>\n",
       "      <td>0.0</td>\n",
       "      <td>0.0</td>\n",
       "      <td>0.0</td>\n",
       "      <td>0.0</td>\n",
       "      <td>0.0</td>\n",
       "      <td>0.000000</td>\n",
       "      <td>0.0</td>\n",
       "      <td>0.000000</td>\n",
       "      <td>0.000000</td>\n",
       "    </tr>\n",
       "  </tbody>\n",
       "</table>\n",
       "<p>3 rows × 26 columns</p>\n",
       "</div>"
      ],
      "text/plain": [
       "TIME_PERIOD iso_o iso_d  2000  2001  2002  2003  2004  2005  2006  2007  ...  \\\n",
       "0             ABW   AGO   0.0   0.0   0.0   0.0   0.0   0.0   0.0   0.0  ...   \n",
       "1             ABW   ARE   0.0   0.0   0.0   0.0   0.0   0.0   0.0   0.0  ...   \n",
       "2             ABW   ATG   0.0   0.0   0.0   0.0   0.0   0.0   0.0   0.0  ...   \n",
       "\n",
       "TIME_PERIOD      2014  2015  2016  2017  2018  2019      2020  2021      2022  \\\n",
       "0            0.000000   0.0   0.0   0.0   0.0   0.0  0.000000   0.0  0.000000   \n",
       "1            0.000641   0.0   0.0   0.0   0.0   0.0  0.000245   0.0  0.000093   \n",
       "2            0.000000   0.0   0.0   0.0   0.0   0.0  0.000000   0.0  0.000000   \n",
       "\n",
       "TIME_PERIOD      2023  \n",
       "0            0.000000  \n",
       "1            0.000159  \n",
       "2            0.000000  \n",
       "\n",
       "[3 rows x 26 columns]"
      ]
     },
     "execution_count": 297,
     "metadata": {},
     "output_type": "execute_result"
    }
   ],
   "source": [
    "edgelist_unique_hyst.head(3)"
   ]
  },
  {
   "cell_type": "code",
   "execution_count": 298,
   "id": "ad49b854-00a4-41e3-b6f7-f59f4596dfa1",
   "metadata": {},
   "outputs": [],
   "source": [
    "edgelist_unique_hyst.to_csv(\"../data/cleaned/edgelist_unique_hyst.csv\", encoding='utf-8', index=False)"
   ]
  },
  {
   "cell_type": "code",
   "execution_count": 299,
   "id": "9125d4cd-a24e-4248-acc2-56ce284ba11c",
   "metadata": {},
   "outputs": [],
   "source": [
    "edgelist_unique_hyst = edgelist_unique_hyst.add_prefix('H_')"
   ]
  },
  {
   "cell_type": "code",
   "execution_count": 300,
   "id": "8b85339d-0741-474c-86a1-255738eb80a6",
   "metadata": {},
   "outputs": [],
   "source": [
    "edgelist_unique_hyst = edgelist_unique_hyst.rename(columns = {'H_iso_o': 'iso_o'})\n",
    "edgelist_unique_hyst = edgelist_unique_hyst.rename(columns = {'H_iso_d': 'iso_d'})"
   ]
  },
  {
   "cell_type": "code",
   "execution_count": 301,
   "id": "dbf18cd3-3c8a-4b5b-98c4-907c20ef5531",
   "metadata": {},
   "outputs": [],
   "source": [
    "unique_merged = edgelist_unique_rounded.merge(edgelist_unique_hyst, on = ['iso_o', 'iso_d'])"
   ]
  },
  {
   "cell_type": "code",
   "execution_count": 302,
   "id": "4017097e-ca50-44f3-a164-54c6de0e9f3f",
   "metadata": {},
   "outputs": [],
   "source": [
    "unique_merged = unique_merged[['iso_o','iso_d', 2000,'H_2000',2001,'H_2001',2002,'H_2002',2003,'H_2003',2004,'H_2004',2005,'H_2005',2006,'H_2006', 2007,'H_2007',2008,'H_2008',2009,'H_2009',2010,'H_2010',2011,'H_2011',2012,'H_2012',2013,'H_2013',2014,'H_2014',2015,'H_2015',2016,'H_2016',2017,'H_2017',2018,'H_2018',2019,'H_2019',2020,'H_2020',2021,'H_2021',2022,'H_2022',2023,'H_2023']]"
   ]
  },
  {
   "cell_type": "code",
   "execution_count": 303,
   "id": "85219fd5-b9b0-4fa2-a11f-92e9ad864f4b",
   "metadata": {},
   "outputs": [
    {
     "data": {
      "text/html": [
       "<div>\n",
       "<style scoped>\n",
       "    .dataframe tbody tr th:only-of-type {\n",
       "        vertical-align: middle;\n",
       "    }\n",
       "\n",
       "    .dataframe tbody tr th {\n",
       "        vertical-align: top;\n",
       "    }\n",
       "\n",
       "    .dataframe thead th {\n",
       "        text-align: right;\n",
       "    }\n",
       "</style>\n",
       "<table border=\"1\" class=\"dataframe\">\n",
       "  <thead>\n",
       "    <tr style=\"text-align: right;\">\n",
       "      <th>TIME_PERIOD</th>\n",
       "      <th>iso_o</th>\n",
       "      <th>iso_d</th>\n",
       "      <th>2000</th>\n",
       "      <th>H_2000</th>\n",
       "      <th>2001</th>\n",
       "      <th>H_2001</th>\n",
       "      <th>2002</th>\n",
       "      <th>H_2002</th>\n",
       "      <th>2003</th>\n",
       "      <th>H_2003</th>\n",
       "      <th>...</th>\n",
       "      <th>2019</th>\n",
       "      <th>H_2019</th>\n",
       "      <th>2020</th>\n",
       "      <th>H_2020</th>\n",
       "      <th>2021</th>\n",
       "      <th>H_2021</th>\n",
       "      <th>2022</th>\n",
       "      <th>H_2022</th>\n",
       "      <th>2023</th>\n",
       "      <th>H_2023</th>\n",
       "    </tr>\n",
       "  </thead>\n",
       "  <tbody>\n",
       "    <tr>\n",
       "      <th>0</th>\n",
       "      <td>ABW</td>\n",
       "      <td>AGO</td>\n",
       "      <td>0.0</td>\n",
       "      <td>0.0</td>\n",
       "      <td>0.0</td>\n",
       "      <td>0.0</td>\n",
       "      <td>0.0000</td>\n",
       "      <td>0.0</td>\n",
       "      <td>0.0</td>\n",
       "      <td>0.0</td>\n",
       "      <td>...</td>\n",
       "      <td>0.0</td>\n",
       "      <td>0.0</td>\n",
       "      <td>0.0</td>\n",
       "      <td>0.000000</td>\n",
       "      <td>0.0</td>\n",
       "      <td>0.0</td>\n",
       "      <td>0.0000</td>\n",
       "      <td>0.000000</td>\n",
       "      <td>0.0000</td>\n",
       "      <td>0.000000</td>\n",
       "    </tr>\n",
       "    <tr>\n",
       "      <th>1</th>\n",
       "      <td>ABW</td>\n",
       "      <td>ARE</td>\n",
       "      <td>0.0</td>\n",
       "      <td>0.0</td>\n",
       "      <td>0.0</td>\n",
       "      <td>0.0</td>\n",
       "      <td>0.0000</td>\n",
       "      <td>0.0</td>\n",
       "      <td>0.0</td>\n",
       "      <td>0.0</td>\n",
       "      <td>...</td>\n",
       "      <td>0.0</td>\n",
       "      <td>0.0</td>\n",
       "      <td>0.0</td>\n",
       "      <td>0.000245</td>\n",
       "      <td>0.0</td>\n",
       "      <td>0.0</td>\n",
       "      <td>0.0001</td>\n",
       "      <td>0.000093</td>\n",
       "      <td>0.0001</td>\n",
       "      <td>0.000159</td>\n",
       "    </tr>\n",
       "    <tr>\n",
       "      <th>2</th>\n",
       "      <td>ABW</td>\n",
       "      <td>ATG</td>\n",
       "      <td>0.0</td>\n",
       "      <td>0.0</td>\n",
       "      <td>0.0</td>\n",
       "      <td>0.0</td>\n",
       "      <td>0.0000</td>\n",
       "      <td>0.0</td>\n",
       "      <td>0.0</td>\n",
       "      <td>0.0</td>\n",
       "      <td>...</td>\n",
       "      <td>0.0</td>\n",
       "      <td>0.0</td>\n",
       "      <td>0.0</td>\n",
       "      <td>0.000000</td>\n",
       "      <td>0.0</td>\n",
       "      <td>0.0</td>\n",
       "      <td>0.0000</td>\n",
       "      <td>0.000000</td>\n",
       "      <td>0.0000</td>\n",
       "      <td>0.000000</td>\n",
       "    </tr>\n",
       "    <tr>\n",
       "      <th>3</th>\n",
       "      <td>ABW</td>\n",
       "      <td>AUS</td>\n",
       "      <td>0.0</td>\n",
       "      <td>0.0</td>\n",
       "      <td>0.0</td>\n",
       "      <td>0.0</td>\n",
       "      <td>0.0002</td>\n",
       "      <td>0.0</td>\n",
       "      <td>0.0</td>\n",
       "      <td>0.0</td>\n",
       "      <td>...</td>\n",
       "      <td>0.0</td>\n",
       "      <td>0.0</td>\n",
       "      <td>0.0</td>\n",
       "      <td>0.000000</td>\n",
       "      <td>0.0</td>\n",
       "      <td>0.0</td>\n",
       "      <td>0.0000</td>\n",
       "      <td>0.000000</td>\n",
       "      <td>0.0000</td>\n",
       "      <td>0.000000</td>\n",
       "    </tr>\n",
       "    <tr>\n",
       "      <th>4</th>\n",
       "      <td>ABW</td>\n",
       "      <td>AUT</td>\n",
       "      <td>0.0</td>\n",
       "      <td>0.0</td>\n",
       "      <td>0.0</td>\n",
       "      <td>0.0</td>\n",
       "      <td>0.0000</td>\n",
       "      <td>0.0</td>\n",
       "      <td>0.0</td>\n",
       "      <td>0.0</td>\n",
       "      <td>...</td>\n",
       "      <td>0.0</td>\n",
       "      <td>0.0</td>\n",
       "      <td>0.0</td>\n",
       "      <td>0.000000</td>\n",
       "      <td>0.0</td>\n",
       "      <td>0.0</td>\n",
       "      <td>0.0000</td>\n",
       "      <td>0.000000</td>\n",
       "      <td>0.0000</td>\n",
       "      <td>0.000000</td>\n",
       "    </tr>\n",
       "  </tbody>\n",
       "</table>\n",
       "<p>5 rows × 50 columns</p>\n",
       "</div>"
      ],
      "text/plain": [
       "TIME_PERIOD iso_o iso_d  2000  H_2000  2001  H_2001    2002  H_2002  2003  \\\n",
       "0             ABW   AGO   0.0     0.0   0.0     0.0  0.0000     0.0   0.0   \n",
       "1             ABW   ARE   0.0     0.0   0.0     0.0  0.0000     0.0   0.0   \n",
       "2             ABW   ATG   0.0     0.0   0.0     0.0  0.0000     0.0   0.0   \n",
       "3             ABW   AUS   0.0     0.0   0.0     0.0  0.0002     0.0   0.0   \n",
       "4             ABW   AUT   0.0     0.0   0.0     0.0  0.0000     0.0   0.0   \n",
       "\n",
       "TIME_PERIOD  H_2003  ...  2019  H_2019  2020    H_2020  2021  H_2021    2022  \\\n",
       "0               0.0  ...   0.0     0.0   0.0  0.000000   0.0     0.0  0.0000   \n",
       "1               0.0  ...   0.0     0.0   0.0  0.000245   0.0     0.0  0.0001   \n",
       "2               0.0  ...   0.0     0.0   0.0  0.000000   0.0     0.0  0.0000   \n",
       "3               0.0  ...   0.0     0.0   0.0  0.000000   0.0     0.0  0.0000   \n",
       "4               0.0  ...   0.0     0.0   0.0  0.000000   0.0     0.0  0.0000   \n",
       "\n",
       "TIME_PERIOD    H_2022    2023    H_2023  \n",
       "0            0.000000  0.0000  0.000000  \n",
       "1            0.000093  0.0001  0.000159  \n",
       "2            0.000000  0.0000  0.000000  \n",
       "3            0.000000  0.0000  0.000000  \n",
       "4            0.000000  0.0000  0.000000  \n",
       "\n",
       "[5 rows x 50 columns]"
      ]
     },
     "execution_count": 303,
     "metadata": {},
     "output_type": "execute_result"
    }
   ],
   "source": [
    "unique_merged.head()"
   ]
  },
  {
   "cell_type": "code",
   "execution_count": 304,
   "id": "7199048a-34c7-4d15-84e3-846fa83dd554",
   "metadata": {},
   "outputs": [],
   "source": [
    "assert unique_com.groupby(['iso_o', 'iso_d']).ngroups == edgelist_unique_rounded.shape[0] == edgelist_unique_hyst.shape[0] == unique_merged.shape[0]"
   ]
  },
  {
   "cell_type": "code",
   "execution_count": 305,
   "id": "67daace2-a032-45cc-9dce-8bc517de0f83",
   "metadata": {},
   "outputs": [],
   "source": [
    "unique_merged.to_csv(\"../data/cleaned/edgelist_unique.csv\", encoding='utf-8', index=False)"
   ]
  },
  {
   "cell_type": "markdown",
   "id": "3210cc48-b06a-4f2c-aea9-98397158bc70",
   "metadata": {},
   "source": [
    "### Edgelist for reproducible cultural goods trade & Hysteresis effect"
   ]
  },
  {
   "cell_type": "code",
   "execution_count": 306,
   "id": "c02782b0-fc2d-448e-9f0d-d9be852ea8ae",
   "metadata": {},
   "outputs": [
    {
     "data": {
      "text/plain": [
       "True"
      ]
     },
     "execution_count": 306,
     "metadata": {},
     "output_type": "execute_result"
    }
   ],
   "source": [
    "set(repro_com['iso_o'].unique()) == set(repro_com['iso_d'].unique())"
   ]
  },
  {
   "cell_type": "code",
   "execution_count": 307,
   "id": "53cd659b-7ecc-4065-9242-3cd82200ab70",
   "metadata": {},
   "outputs": [],
   "source": [
    "edgelist_repro = repro_com.pivot_table(index = ['iso_o', 'iso_d'], columns = 'TIME_PERIOD', values = 'OBS_VALUE', fill_value = 0).reset_index()"
   ]
  },
  {
   "cell_type": "code",
   "execution_count": 308,
   "id": "6b5ac030-d441-4e3a-b4fd-edf704646e53",
   "metadata": {},
   "outputs": [],
   "source": [
    "edgelist_repro_rounded = edgelist_repro.round(4)"
   ]
  },
  {
   "cell_type": "code",
   "execution_count": 309,
   "id": "20b771a7-acdb-4da3-87f2-e68f1ab0431d",
   "metadata": {},
   "outputs": [
    {
     "data": {
      "text/plain": [
       "192"
      ]
     },
     "execution_count": 309,
     "metadata": {},
     "output_type": "execute_result"
    }
   ],
   "source": [
    "edgelist_repro_rounded['iso_o'].nunique()"
   ]
  },
  {
   "cell_type": "code",
   "execution_count": 310,
   "id": "961c042c-74aa-4777-9c50-f872435a2597",
   "metadata": {},
   "outputs": [],
   "source": [
    "assert repro_com.groupby(['iso_o', 'iso_d']).ngroups == edgelist_repro_rounded.shape[0]"
   ]
  },
  {
   "cell_type": "code",
   "execution_count": 311,
   "id": "00d4cd4b-38b8-446f-8676-dedc76592c5e",
   "metadata": {},
   "outputs": [],
   "source": [
    "edgelist_repro_rounded.to_csv(\"../data/cleaned/reproducible_edgelist.csv\", encoding='utf-8', index=False)"
   ]
  },
  {
   "cell_type": "code",
   "execution_count": 312,
   "id": "1273d482-2cc5-4458-a03e-4203e5fa48a4",
   "metadata": {},
   "outputs": [],
   "source": [
    "edgelist_repro_hyst = repro_com.pivot_table(index = ['iso_o', 'iso_d'], columns = 'TIME_PERIOD', values = 'hysteresis_repro', fill_value = 0).reset_index()"
   ]
  },
  {
   "cell_type": "code",
   "execution_count": 313,
   "id": "135fd6d1-209a-48b7-becd-099f8415e917",
   "metadata": {},
   "outputs": [],
   "source": [
    "edgelist_repro_hyst.to_csv(\"../data/cleaned/edgelist_repro_hyst.csv\", encoding='utf-8', index=False)"
   ]
  },
  {
   "cell_type": "code",
   "execution_count": 314,
   "id": "6cc62026-edda-4ebf-9364-3002105d4bec",
   "metadata": {},
   "outputs": [],
   "source": [
    "edgelist_repro_hyst = edgelist_repro_hyst.add_prefix('H_')"
   ]
  },
  {
   "cell_type": "code",
   "execution_count": 315,
   "id": "1ba3c1bf-6c2b-46e4-8d78-fc37f814e932",
   "metadata": {},
   "outputs": [],
   "source": [
    "edgelist_repro_hyst = edgelist_repro_hyst.rename(columns = {'H_iso_o': 'iso_o'})\n",
    "edgelist_repro_hyst = edgelist_repro_hyst.rename(columns = {'H_iso_d': 'iso_d'})"
   ]
  },
  {
   "cell_type": "code",
   "execution_count": 316,
   "id": "788869d4-4971-45ef-96db-a5c0689d965a",
   "metadata": {},
   "outputs": [],
   "source": [
    "repro_merged = edgelist_repro_rounded.merge(edgelist_repro_hyst, on = ['iso_o', 'iso_d'])"
   ]
  },
  {
   "cell_type": "code",
   "execution_count": 317,
   "id": "f9379213-f2ba-43f0-9399-3905e0ea0590",
   "metadata": {},
   "outputs": [],
   "source": [
    "repro_merged = repro_merged[['iso_o','iso_d', 2000,'H_2000',2001,'H_2001',2002,'H_2002',2003,'H_2003',2004,'H_2004',2005,'H_2005',2006,'H_2006', 2007,'H_2007',2008,'H_2008',2009,'H_2009',2010,'H_2010',2011,'H_2011',2012,'H_2012',2013,'H_2013',2014,'H_2014',2015,'H_2015',2016,'H_2016',2017,'H_2017',2018,'H_2018',2019,'H_2019',2020,'H_2020',2021,'H_2021',2022,'H_2022',2023,'H_2023']]"
   ]
  },
  {
   "cell_type": "code",
   "execution_count": 318,
   "id": "4d3bafcf-5837-43c4-9369-744ff3fcf047",
   "metadata": {},
   "outputs": [
    {
     "data": {
      "text/html": [
       "<div>\n",
       "<style scoped>\n",
       "    .dataframe tbody tr th:only-of-type {\n",
       "        vertical-align: middle;\n",
       "    }\n",
       "\n",
       "    .dataframe tbody tr th {\n",
       "        vertical-align: top;\n",
       "    }\n",
       "\n",
       "    .dataframe thead th {\n",
       "        text-align: right;\n",
       "    }\n",
       "</style>\n",
       "<table border=\"1\" class=\"dataframe\">\n",
       "  <thead>\n",
       "    <tr style=\"text-align: right;\">\n",
       "      <th>TIME_PERIOD</th>\n",
       "      <th>iso_o</th>\n",
       "      <th>iso_d</th>\n",
       "      <th>2000</th>\n",
       "      <th>H_2000</th>\n",
       "      <th>2001</th>\n",
       "      <th>H_2001</th>\n",
       "      <th>2002</th>\n",
       "      <th>H_2002</th>\n",
       "      <th>2003</th>\n",
       "      <th>H_2003</th>\n",
       "      <th>...</th>\n",
       "      <th>2019</th>\n",
       "      <th>H_2019</th>\n",
       "      <th>2020</th>\n",
       "      <th>H_2020</th>\n",
       "      <th>2021</th>\n",
       "      <th>H_2021</th>\n",
       "      <th>2022</th>\n",
       "      <th>H_2022</th>\n",
       "      <th>2023</th>\n",
       "      <th>H_2023</th>\n",
       "    </tr>\n",
       "  </thead>\n",
       "  <tbody>\n",
       "    <tr>\n",
       "      <th>0</th>\n",
       "      <td>ABW</td>\n",
       "      <td>AFG</td>\n",
       "      <td>0.0000</td>\n",
       "      <td>0.0</td>\n",
       "      <td>0.0000</td>\n",
       "      <td>0.0</td>\n",
       "      <td>0.0000</td>\n",
       "      <td>0.000000</td>\n",
       "      <td>0.0000</td>\n",
       "      <td>0.000000</td>\n",
       "      <td>...</td>\n",
       "      <td>0.0121</td>\n",
       "      <td>0.000000</td>\n",
       "      <td>0.0000</td>\n",
       "      <td>0.000000</td>\n",
       "      <td>0.0000</td>\n",
       "      <td>0.000000</td>\n",
       "      <td>0.0000</td>\n",
       "      <td>0.000000</td>\n",
       "      <td>0.0000</td>\n",
       "      <td>0.000000</td>\n",
       "    </tr>\n",
       "    <tr>\n",
       "      <th>1</th>\n",
       "      <td>ABW</td>\n",
       "      <td>AGO</td>\n",
       "      <td>0.0000</td>\n",
       "      <td>0.0</td>\n",
       "      <td>0.0000</td>\n",
       "      <td>0.0</td>\n",
       "      <td>0.0000</td>\n",
       "      <td>0.000000</td>\n",
       "      <td>0.0000</td>\n",
       "      <td>0.000000</td>\n",
       "      <td>...</td>\n",
       "      <td>0.0000</td>\n",
       "      <td>0.000000</td>\n",
       "      <td>0.0000</td>\n",
       "      <td>0.000000</td>\n",
       "      <td>0.0000</td>\n",
       "      <td>0.000000</td>\n",
       "      <td>0.0000</td>\n",
       "      <td>0.000000</td>\n",
       "      <td>0.0000</td>\n",
       "      <td>0.000000</td>\n",
       "    </tr>\n",
       "    <tr>\n",
       "      <th>2</th>\n",
       "      <td>ABW</td>\n",
       "      <td>ARE</td>\n",
       "      <td>0.0000</td>\n",
       "      <td>0.0</td>\n",
       "      <td>0.0000</td>\n",
       "      <td>0.0</td>\n",
       "      <td>0.0000</td>\n",
       "      <td>0.000000</td>\n",
       "      <td>0.0000</td>\n",
       "      <td>0.000000</td>\n",
       "      <td>...</td>\n",
       "      <td>0.0196</td>\n",
       "      <td>0.116470</td>\n",
       "      <td>0.0061</td>\n",
       "      <td>0.054564</td>\n",
       "      <td>0.0019</td>\n",
       "      <td>0.022476</td>\n",
       "      <td>0.0100</td>\n",
       "      <td>0.008654</td>\n",
       "      <td>0.0921</td>\n",
       "      <td>0.012594</td>\n",
       "    </tr>\n",
       "    <tr>\n",
       "      <th>3</th>\n",
       "      <td>ABW</td>\n",
       "      <td>ARG</td>\n",
       "      <td>0.0001</td>\n",
       "      <td>0.0</td>\n",
       "      <td>0.0000</td>\n",
       "      <td>0.0</td>\n",
       "      <td>0.0003</td>\n",
       "      <td>0.000104</td>\n",
       "      <td>0.0000</td>\n",
       "      <td>0.000289</td>\n",
       "      <td>...</td>\n",
       "      <td>0.0000</td>\n",
       "      <td>0.000000</td>\n",
       "      <td>0.0000</td>\n",
       "      <td>0.000000</td>\n",
       "      <td>0.0000</td>\n",
       "      <td>0.000000</td>\n",
       "      <td>0.0000</td>\n",
       "      <td>0.000000</td>\n",
       "      <td>0.0000</td>\n",
       "      <td>0.000000</td>\n",
       "    </tr>\n",
       "    <tr>\n",
       "      <th>4</th>\n",
       "      <td>ABW</td>\n",
       "      <td>ATG</td>\n",
       "      <td>0.0000</td>\n",
       "      <td>0.0</td>\n",
       "      <td>0.0002</td>\n",
       "      <td>0.0</td>\n",
       "      <td>0.0004</td>\n",
       "      <td>0.000193</td>\n",
       "      <td>0.0063</td>\n",
       "      <td>0.000450</td>\n",
       "      <td>...</td>\n",
       "      <td>0.0002</td>\n",
       "      <td>0.002042</td>\n",
       "      <td>0.0001</td>\n",
       "      <td>0.000832</td>\n",
       "      <td>0.0000</td>\n",
       "      <td>0.000000</td>\n",
       "      <td>0.0011</td>\n",
       "      <td>0.000347</td>\n",
       "      <td>0.0000</td>\n",
       "      <td>0.000000</td>\n",
       "    </tr>\n",
       "  </tbody>\n",
       "</table>\n",
       "<p>5 rows × 50 columns</p>\n",
       "</div>"
      ],
      "text/plain": [
       "TIME_PERIOD iso_o iso_d    2000  H_2000    2001  H_2001    2002    H_2002  \\\n",
       "0             ABW   AFG  0.0000     0.0  0.0000     0.0  0.0000  0.000000   \n",
       "1             ABW   AGO  0.0000     0.0  0.0000     0.0  0.0000  0.000000   \n",
       "2             ABW   ARE  0.0000     0.0  0.0000     0.0  0.0000  0.000000   \n",
       "3             ABW   ARG  0.0001     0.0  0.0000     0.0  0.0003  0.000104   \n",
       "4             ABW   ATG  0.0000     0.0  0.0002     0.0  0.0004  0.000193   \n",
       "\n",
       "TIME_PERIOD    2003    H_2003  ...    2019    H_2019    2020    H_2020  \\\n",
       "0            0.0000  0.000000  ...  0.0121  0.000000  0.0000  0.000000   \n",
       "1            0.0000  0.000000  ...  0.0000  0.000000  0.0000  0.000000   \n",
       "2            0.0000  0.000000  ...  0.0196  0.116470  0.0061  0.054564   \n",
       "3            0.0000  0.000289  ...  0.0000  0.000000  0.0000  0.000000   \n",
       "4            0.0063  0.000450  ...  0.0002  0.002042  0.0001  0.000832   \n",
       "\n",
       "TIME_PERIOD    2021    H_2021    2022    H_2022    2023    H_2023  \n",
       "0            0.0000  0.000000  0.0000  0.000000  0.0000  0.000000  \n",
       "1            0.0000  0.000000  0.0000  0.000000  0.0000  0.000000  \n",
       "2            0.0019  0.022476  0.0100  0.008654  0.0921  0.012594  \n",
       "3            0.0000  0.000000  0.0000  0.000000  0.0000  0.000000  \n",
       "4            0.0000  0.000000  0.0011  0.000347  0.0000  0.000000  \n",
       "\n",
       "[5 rows x 50 columns]"
      ]
     },
     "execution_count": 318,
     "metadata": {},
     "output_type": "execute_result"
    }
   ],
   "source": [
    "repro_merged.head()"
   ]
  },
  {
   "cell_type": "code",
   "execution_count": 319,
   "id": "1b8a8a67-1818-460d-8ec8-2dfe315d5249",
   "metadata": {},
   "outputs": [],
   "source": [
    "assert repro_com.groupby(['iso_o', 'iso_d']).ngroups == edgelist_repro_rounded.shape[0] == edgelist_repro_hyst.shape[0] == repro_merged.shape[0]"
   ]
  },
  {
   "cell_type": "code",
   "execution_count": 320,
   "id": "d4b9aa72-b1b3-43b2-89c3-5172f377940a",
   "metadata": {},
   "outputs": [
    {
     "data": {
      "text/html": [
       "<div>\n",
       "<style scoped>\n",
       "    .dataframe tbody tr th:only-of-type {\n",
       "        vertical-align: middle;\n",
       "    }\n",
       "\n",
       "    .dataframe tbody tr th {\n",
       "        vertical-align: top;\n",
       "    }\n",
       "\n",
       "    .dataframe thead th {\n",
       "        text-align: right;\n",
       "    }\n",
       "</style>\n",
       "<table border=\"1\" class=\"dataframe\">\n",
       "  <thead>\n",
       "    <tr style=\"text-align: right;\">\n",
       "      <th></th>\n",
       "      <th>iso_o</th>\n",
       "      <th>iso_d</th>\n",
       "      <th>TIME_PERIOD</th>\n",
       "      <th>OBS_VALUE</th>\n",
       "      <th>PRODUCT_HS</th>\n",
       "      <th>product_count</th>\n",
       "      <th>hysteresis_repro</th>\n",
       "    </tr>\n",
       "  </thead>\n",
       "  <tbody>\n",
       "    <tr>\n",
       "      <th>0</th>\n",
       "      <td>ABW</td>\n",
       "      <td>AFG</td>\n",
       "      <td>2019</td>\n",
       "      <td>0.012061</td>\n",
       "      <td>('HS17_49', 'HS17_85')</td>\n",
       "      <td>2</td>\n",
       "      <td>0.0</td>\n",
       "    </tr>\n",
       "    <tr>\n",
       "      <th>1</th>\n",
       "      <td>ABW</td>\n",
       "      <td>AGO</td>\n",
       "      <td>2008</td>\n",
       "      <td>0.000165</td>\n",
       "      <td>('HS17_85',)</td>\n",
       "      <td>1</td>\n",
       "      <td>0.0</td>\n",
       "    </tr>\n",
       "  </tbody>\n",
       "</table>\n",
       "</div>"
      ],
      "text/plain": [
       "  iso_o iso_d  TIME_PERIOD  OBS_VALUE              PRODUCT_HS  product_count  \\\n",
       "0   ABW   AFG         2019   0.012061  ('HS17_49', 'HS17_85')              2   \n",
       "1   ABW   AGO         2008   0.000165            ('HS17_85',)              1   \n",
       "\n",
       "   hysteresis_repro  \n",
       "0               0.0  \n",
       "1               0.0  "
      ]
     },
     "execution_count": 320,
     "metadata": {},
     "output_type": "execute_result"
    }
   ],
   "source": [
    "repro_com.head(2)"
   ]
  },
  {
   "cell_type": "code",
   "execution_count": 321,
   "id": "a8c5eb88-260a-4e73-a5a4-8844eb5d9910",
   "metadata": {},
   "outputs": [],
   "source": [
    "repro_merged.to_csv(\"../data/cleaned/edgelist_repro.csv\", encoding='utf-8', index=False)"
   ]
  },
  {
   "cell_type": "markdown",
   "id": "5073c3e8-10ba-476c-a33e-0ccc0da9b31c",
   "metadata": {},
   "source": [
    "### Edgelist for contiguity"
   ]
  },
  {
   "cell_type": "code",
   "execution_count": 322,
   "id": "fa4de492-c152-4a7e-89d1-ce68a117775d",
   "metadata": {},
   "outputs": [
    {
     "data": {
      "text/plain": [
       "True"
      ]
     },
     "execution_count": 322,
     "metadata": {},
     "output_type": "execute_result"
    }
   ],
   "source": [
    "set(fixed_com['iso_o'].unique()) == set(fixed_com['iso_d'].unique())"
   ]
  },
  {
   "cell_type": "code",
   "execution_count": 323,
   "id": "f5709eac-27d0-49ea-8c77-ec43d301e50e",
   "metadata": {},
   "outputs": [],
   "source": [
    "fixed_com_con = fixed_com[['iso_o', 'iso_d', 'contig']]"
   ]
  },
  {
   "cell_type": "code",
   "execution_count": 324,
   "id": "e6a12d79-504f-4e96-977b-b25936296e95",
   "metadata": {},
   "outputs": [
    {
     "data": {
      "text/plain": [
       "(36672, 3)"
      ]
     },
     "execution_count": 324,
     "metadata": {},
     "output_type": "execute_result"
    }
   ],
   "source": [
    "fixed_com_con.shape"
   ]
  },
  {
   "cell_type": "code",
   "execution_count": 325,
   "id": "71ad1479-a320-487f-87e8-5b1b8d1b3704",
   "metadata": {},
   "outputs": [
    {
     "name": "stdout",
     "output_type": "stream",
     "text": [
      "     iso_o iso_d  contig\n",
      "4105   BGD   IND       1\n",
      "      iso_o iso_d  contig\n",
      "20534   IND   BGD       1\n"
     ]
    }
   ],
   "source": [
    "print(fixed_com_con[(fixed_com_con['iso_o'] == 'BGD') & (fixed_com_con['iso_d'] == 'IND')])\n",
    "print(fixed_com_con[(fixed_com_con['iso_o'] == 'IND') & (fixed_com_con['iso_d'] == 'BGD')])"
   ]
  },
  {
   "cell_type": "code",
   "execution_count": 326,
   "id": "57d7be03-8379-45e5-8728-16c44cfba219",
   "metadata": {},
   "outputs": [
    {
     "name": "stdout",
     "output_type": "stream",
     "text": [
      "192\n",
      "192\n",
      "36672\n"
     ]
    }
   ],
   "source": [
    "print(fixed_com_con['iso_o'].nunique())\n",
    "print(fixed_com_con['iso_o'].nunique())\n",
    "print(fixed_com_con.groupby(['iso_o', 'iso_d']).ngroups)"
   ]
  },
  {
   "cell_type": "code",
   "execution_count": 327,
   "id": "87159a1e-eba5-4f4d-88f1-18de4c0daed6",
   "metadata": {},
   "outputs": [],
   "source": [
    "fixed_com_con.to_csv('../data/cleaned/contiguity_edgelist.csv', encoding = 'utf-8', index = False) "
   ]
  },
  {
   "cell_type": "markdown",
   "id": "ba6db99d-3fa8-4771-8ff9-6eafceca7f39",
   "metadata": {},
   "source": [
    "### Edgelist for distance"
   ]
  },
  {
   "cell_type": "code",
   "execution_count": 328,
   "id": "303a900e-4d08-4614-bba5-9f7f6bba6d74",
   "metadata": {},
   "outputs": [
    {
     "data": {
      "text/html": [
       "<div>\n",
       "<style scoped>\n",
       "    .dataframe tbody tr th:only-of-type {\n",
       "        vertical-align: middle;\n",
       "    }\n",
       "\n",
       "    .dataframe tbody tr th {\n",
       "        vertical-align: top;\n",
       "    }\n",
       "\n",
       "    .dataframe thead th {\n",
       "        text-align: right;\n",
       "    }\n",
       "</style>\n",
       "<table border=\"1\" class=\"dataframe\">\n",
       "  <thead>\n",
       "    <tr style=\"text-align: right;\">\n",
       "      <th></th>\n",
       "      <th>iso_o</th>\n",
       "      <th>iso_d</th>\n",
       "      <th>contig</th>\n",
       "      <th>comlang_off</th>\n",
       "      <th>colony</th>\n",
       "      <th>comcol</th>\n",
       "      <th>dist</th>\n",
       "      <th>log_dist</th>\n",
       "      <th>country</th>\n",
       "      <th>landlocked</th>\n",
       "      <th>continent</th>\n",
       "      <th>lat</th>\n",
       "      <th>lon</th>\n",
       "      <th>langoff_1</th>\n",
       "      <th>colonizer1</th>\n",
       "      <th>category</th>\n",
       "      <th>development</th>\n",
       "    </tr>\n",
       "  </thead>\n",
       "  <tbody>\n",
       "    <tr>\n",
       "      <th>0</th>\n",
       "      <td>ABW</td>\n",
       "      <td>AFG</td>\n",
       "      <td>0</td>\n",
       "      <td>0</td>\n",
       "      <td>0</td>\n",
       "      <td>0</td>\n",
       "      <td>13257.810</td>\n",
       "      <td>9.492342</td>\n",
       "      <td>Aruba</td>\n",
       "      <td>0</td>\n",
       "      <td>America</td>\n",
       "      <td>12.55</td>\n",
       "      <td>-70.099998</td>\n",
       "      <td>Dutch</td>\n",
       "      <td>NLD</td>\n",
       "      <td>Emerging and Developing Economies</td>\n",
       "      <td>0.0</td>\n",
       "    </tr>\n",
       "    <tr>\n",
       "      <th>1</th>\n",
       "      <td>ABW</td>\n",
       "      <td>AGO</td>\n",
       "      <td>0</td>\n",
       "      <td>0</td>\n",
       "      <td>0</td>\n",
       "      <td>0</td>\n",
       "      <td>9516.913</td>\n",
       "      <td>9.160826</td>\n",
       "      <td>Aruba</td>\n",
       "      <td>0</td>\n",
       "      <td>America</td>\n",
       "      <td>12.55</td>\n",
       "      <td>-70.099998</td>\n",
       "      <td>Dutch</td>\n",
       "      <td>NLD</td>\n",
       "      <td>Emerging and Developing Economies</td>\n",
       "      <td>0.0</td>\n",
       "    </tr>\n",
       "  </tbody>\n",
       "</table>\n",
       "</div>"
      ],
      "text/plain": [
       "  iso_o iso_d  contig  comlang_off  colony  comcol       dist  log_dist  \\\n",
       "0   ABW   AFG       0            0       0       0  13257.810  9.492342   \n",
       "1   ABW   AGO       0            0       0       0   9516.913  9.160826   \n",
       "\n",
       "  country  landlocked continent    lat        lon langoff_1 colonizer1  \\\n",
       "0   Aruba           0   America  12.55 -70.099998     Dutch        NLD   \n",
       "1   Aruba           0   America  12.55 -70.099998     Dutch        NLD   \n",
       "\n",
       "                            category  development  \n",
       "0  Emerging and Developing Economies          0.0  \n",
       "1  Emerging and Developing Economies          0.0  "
      ]
     },
     "execution_count": 328,
     "metadata": {},
     "output_type": "execute_result"
    }
   ],
   "source": [
    "fixed_com.head(2)"
   ]
  },
  {
   "cell_type": "code",
   "execution_count": 329,
   "id": "40b5af7d-251b-48f3-87ea-b46d3246358f",
   "metadata": {},
   "outputs": [],
   "source": [
    "distance = fixed_com[['iso_o', 'iso_d', 'log_dist']]"
   ]
  },
  {
   "cell_type": "code",
   "execution_count": 330,
   "id": "3e4624cf-744d-4a0a-8008-f8e8ae1bfe48",
   "metadata": {},
   "outputs": [
    {
     "name": "stdout",
     "output_type": "stream",
     "text": [
      "     iso_o iso_d  log_dist\n",
      "4105   BGD   IND  7.259776\n",
      "      iso_o iso_d  log_dist\n",
      "20534   IND   BGD  7.259776\n"
     ]
    }
   ],
   "source": [
    "print(distance[(distance['iso_o'] == 'BGD') & (distance['iso_d'] == 'IND')])\n",
    "print(distance[(distance['iso_o'] == 'IND') & (distance['iso_d'] == 'BGD')])"
   ]
  },
  {
   "cell_type": "code",
   "execution_count": 331,
   "id": "cefe718e-f2ab-4deb-adcd-551b65b48b94",
   "metadata": {},
   "outputs": [
    {
     "data": {
      "text/plain": [
       "(36672, 3)"
      ]
     },
     "execution_count": 331,
     "metadata": {},
     "output_type": "execute_result"
    }
   ],
   "source": [
    "distance.shape"
   ]
  },
  {
   "cell_type": "code",
   "execution_count": 332,
   "id": "ddb77e42-c5e4-4b24-844b-dbe04eca87a1",
   "metadata": {},
   "outputs": [
    {
     "name": "stdout",
     "output_type": "stream",
     "text": [
      "192\n",
      "192\n"
     ]
    }
   ],
   "source": [
    "print(distance['iso_o'].nunique())\n",
    "print(distance['iso_d'].nunique())"
   ]
  },
  {
   "cell_type": "code",
   "execution_count": 333,
   "id": "7a093524-13d0-43e4-a59f-1d1c3055e173",
   "metadata": {},
   "outputs": [
    {
     "data": {
      "text/html": [
       "<div>\n",
       "<style scoped>\n",
       "    .dataframe tbody tr th:only-of-type {\n",
       "        vertical-align: middle;\n",
       "    }\n",
       "\n",
       "    .dataframe tbody tr th {\n",
       "        vertical-align: top;\n",
       "    }\n",
       "\n",
       "    .dataframe thead th {\n",
       "        text-align: right;\n",
       "    }\n",
       "</style>\n",
       "<table border=\"1\" class=\"dataframe\">\n",
       "  <thead>\n",
       "    <tr style=\"text-align: right;\">\n",
       "      <th></th>\n",
       "      <th>iso_o</th>\n",
       "      <th>iso_d</th>\n",
       "      <th>log_dist</th>\n",
       "    </tr>\n",
       "  </thead>\n",
       "  <tbody>\n",
       "    <tr>\n",
       "      <th>0</th>\n",
       "      <td>ABW</td>\n",
       "      <td>AFG</td>\n",
       "      <td>9.492342</td>\n",
       "    </tr>\n",
       "    <tr>\n",
       "      <th>1</th>\n",
       "      <td>ABW</td>\n",
       "      <td>AGO</td>\n",
       "      <td>9.160826</td>\n",
       "    </tr>\n",
       "  </tbody>\n",
       "</table>\n",
       "</div>"
      ],
      "text/plain": [
       "  iso_o iso_d  log_dist\n",
       "0   ABW   AFG  9.492342\n",
       "1   ABW   AGO  9.160826"
      ]
     },
     "execution_count": 333,
     "metadata": {},
     "output_type": "execute_result"
    }
   ],
   "source": [
    "distance.head(2)"
   ]
  },
  {
   "cell_type": "code",
   "execution_count": 334,
   "id": "7d9a3964-f8b7-48ca-b751-512c977deb51",
   "metadata": {},
   "outputs": [],
   "source": [
    "distance.to_csv('../data/cleaned/distance_edgelist.csv', encoding = 'utf-8', index = False) "
   ]
  },
  {
   "cell_type": "markdown",
   "id": "b85507e9-c6f1-459f-aaa3-67c1ad0c2b84",
   "metadata": {},
   "source": [
    "### Edgelist for common colonizer"
   ]
  },
  {
   "cell_type": "code",
   "execution_count": 335,
   "id": "e1356c43-dfba-4b4e-bc6a-2a895bdb00c2",
   "metadata": {},
   "outputs": [],
   "source": [
    "comcol = fixed_com[['iso_o', 'iso_d', 'comcol']]"
   ]
  },
  {
   "cell_type": "code",
   "execution_count": 336,
   "id": "73a83ff3-4802-4687-83a7-45d48761e822",
   "metadata": {},
   "outputs": [
    {
     "data": {
      "text/plain": [
       "(36672, 3)"
      ]
     },
     "execution_count": 336,
     "metadata": {},
     "output_type": "execute_result"
    }
   ],
   "source": [
    "comcol.shape"
   ]
  },
  {
   "cell_type": "code",
   "execution_count": 337,
   "id": "65220f73-0aea-4a5e-a543-e3bbb54b5e92",
   "metadata": {},
   "outputs": [
    {
     "name": "stdout",
     "output_type": "stream",
     "text": [
      "     iso_o iso_d  comcol\n",
      "4105   BGD   IND       1\n",
      "      iso_o iso_d  comcol\n",
      "20534   IND   BGD       1\n"
     ]
    }
   ],
   "source": [
    "print(comcol[(comcol['iso_o'] == 'BGD') & (comcol['iso_d'] == 'IND')])\n",
    "print(comcol[(comcol['iso_o'] == 'IND') & (comcol['iso_d'] == 'BGD')])"
   ]
  },
  {
   "cell_type": "code",
   "execution_count": 338,
   "id": "044be9e7-1847-4633-8ca5-7362865e12a6",
   "metadata": {},
   "outputs": [
    {
     "name": "stdout",
     "output_type": "stream",
     "text": [
      "192\n",
      "192\n"
     ]
    }
   ],
   "source": [
    "print(comcol['iso_o'].nunique())\n",
    "print(comcol['iso_d'].nunique())"
   ]
  },
  {
   "cell_type": "code",
   "execution_count": 339,
   "id": "202d3760-13f1-4223-8f23-b19f821bd456",
   "metadata": {},
   "outputs": [],
   "source": [
    "comcol.to_csv('../data/cleaned/comcol_edgelist.csv', encoding = 'utf-8', index = False)"
   ]
  },
  {
   "cell_type": "markdown",
   "id": "b8fabe03-ff6e-4a2d-920b-93d224d2c504",
   "metadata": {},
   "source": [
    "### Edgelist for colonizer"
   ]
  },
  {
   "cell_type": "code",
   "execution_count": 340,
   "id": "f1552b3a-3527-4e0b-9530-5d3ecefaebfb",
   "metadata": {},
   "outputs": [],
   "source": [
    "col = fixed_com[['iso_o', 'iso_d', 'colony']]"
   ]
  },
  {
   "cell_type": "code",
   "execution_count": 341,
   "id": "83f1a4a5-548a-4a8b-be1e-90bdbaf3c321",
   "metadata": {},
   "outputs": [
    {
     "data": {
      "text/plain": [
       "(36672, 3)"
      ]
     },
     "execution_count": 341,
     "metadata": {},
     "output_type": "execute_result"
    }
   ],
   "source": [
    "col.shape"
   ]
  },
  {
   "cell_type": "code",
   "execution_count": 342,
   "id": "e632531a-835f-4222-9c33-9c017e36f911",
   "metadata": {},
   "outputs": [
    {
     "name": "stdout",
     "output_type": "stream",
     "text": [
      "     iso_o iso_d  colony\n",
      "4084   BGD   GBR       1\n",
      "      iso_o iso_d  colony\n",
      "20587   IND   GBR       1\n"
     ]
    }
   ],
   "source": [
    "print(col[(col['iso_o'] == 'BGD') & (col['iso_d'] == 'GBR')])\n",
    "print(col[(col['iso_o'] == 'IND') & (col['iso_d'] == 'GBR')])"
   ]
  },
  {
   "cell_type": "code",
   "execution_count": 343,
   "id": "26d443bb-15c3-4449-9c4a-a904a06e1c7c",
   "metadata": {},
   "outputs": [
    {
     "name": "stdout",
     "output_type": "stream",
     "text": [
      "192\n",
      "192\n"
     ]
    }
   ],
   "source": [
    "print(col['iso_o'].nunique())\n",
    "print(col['iso_d'].nunique())"
   ]
  },
  {
   "cell_type": "code",
   "execution_count": 344,
   "id": "3d4e15d5-d45c-4b59-9ec5-c4b539687d19",
   "metadata": {},
   "outputs": [],
   "source": [
    "col.to_csv('../data/cleaned/colonizer_edgelist.csv', encoding = 'utf-8', index = False)"
   ]
  },
  {
   "cell_type": "markdown",
   "id": "665c3aef-3178-4177-a4ea-06999cdd6505",
   "metadata": {},
   "source": [
    "### Edgelist for common language"
   ]
  },
  {
   "cell_type": "code",
   "execution_count": 345,
   "id": "7dce0227-bed3-4918-bfb8-146ef3feb41b",
   "metadata": {},
   "outputs": [],
   "source": [
    "lang = fixed_com[['iso_o', 'iso_d', 'comlang_off']]"
   ]
  },
  {
   "cell_type": "code",
   "execution_count": 346,
   "id": "47772cca-e0cc-46c9-8e73-897e62f5e0ba",
   "metadata": {},
   "outputs": [
    {
     "data": {
      "text/plain": [
       "(36672, 3)"
      ]
     },
     "execution_count": 346,
     "metadata": {},
     "output_type": "execute_result"
    }
   ],
   "source": [
    "lang.shape"
   ]
  },
  {
   "cell_type": "code",
   "execution_count": 347,
   "id": "1801ab13-fff7-4def-b25d-587f81cc959a",
   "metadata": {},
   "outputs": [
    {
     "name": "stdout",
     "output_type": "stream",
     "text": [
      "     iso_o iso_d  comlang_off\n",
      "4105   BGD   IND            0\n",
      "      iso_o iso_d  comlang_off\n",
      "20534   IND   BGD            0\n"
     ]
    }
   ],
   "source": [
    "print(lang[(lang['iso_o'] == 'BGD') & (lang['iso_d'] == 'IND')])\n",
    "print(lang[(lang['iso_o'] == 'IND') & (lang['iso_d'] == 'BGD')])"
   ]
  },
  {
   "cell_type": "code",
   "execution_count": 348,
   "id": "87414a42-19dd-49f5-9bd6-4c48a214b027",
   "metadata": {},
   "outputs": [
    {
     "name": "stdout",
     "output_type": "stream",
     "text": [
      "192\n",
      "192\n"
     ]
    }
   ],
   "source": [
    "print(lang['iso_o'].nunique())\n",
    "print(lang['iso_d'].nunique())"
   ]
  },
  {
   "cell_type": "code",
   "execution_count": 349,
   "id": "1982920c-3f65-4ce5-9476-89bc09bcb8cb",
   "metadata": {},
   "outputs": [],
   "source": [
    "lang.to_csv('../data/cleaned/language_edgelist.csv', encoding = 'utf-8', index = False)"
   ]
  },
  {
   "cell_type": "code",
   "execution_count": null,
   "id": "8a56720b-b1ce-450a-914a-44bf943da179",
   "metadata": {},
   "outputs": [],
   "source": []
  }
 ],
 "metadata": {
  "kernelspec": {
   "display_name": "Python 3 (ipykernel)",
   "language": "python",
   "name": "python3"
  },
  "language_info": {
   "codemirror_mode": {
    "name": "ipython",
    "version": 3
   },
   "file_extension": ".py",
   "mimetype": "text/x-python",
   "name": "python",
   "nbconvert_exporter": "python",
   "pygments_lexer": "ipython3",
   "version": "3.12.7"
  }
 },
 "nbformat": 4,
 "nbformat_minor": 5
}
