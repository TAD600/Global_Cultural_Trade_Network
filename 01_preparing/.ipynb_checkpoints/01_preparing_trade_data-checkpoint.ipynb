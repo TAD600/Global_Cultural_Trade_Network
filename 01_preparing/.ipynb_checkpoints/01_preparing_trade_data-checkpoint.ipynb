{
 "cells": [
  {
   "cell_type": "code",
   "execution_count": 1,
   "id": "faf397a6-f315-481d-9237-6ac35f145865",
   "metadata": {},
   "outputs": [],
   "source": [
    "import pandas as pd"
   ]
  },
  {
   "cell_type": "markdown",
   "id": "1a2f0ef5-c684-44d6-b477-3fa2cf2b3ad9",
   "metadata": {},
   "source": [
    "**OECD BIMTS 2 digit HS code level bulk data comes in six files spliting on the time period where each consists of consecutive five years. Here I am considering 2000 to 2023, which comes in five different csv files. Cleaning and preparing the those take the following steps:**  \n",
    "\n",
    "1. Reading data for each five year and keeping only the HS codes those are relevant to this study\n",
    "2. Removing 'world' from both reference and counterpart area which is coded as 'W' \n",
    "3. Making five dataframes- one for the **total** export mentioned in the product HS as the category *_T* and four others for each cultural products and naming those as **unique** for HS code *97*, **cinema** for HS code *37*, **books** for HS code *49* and **tapes** for HS code *85* for every five year data. Subsetting each dataset on the adjustment column value **B_ADJ_RX** which represents the reconciled bilateral trade flow, adjusted for re-exports. \n",
    "4. *For unique cultural goods*: Concatenating the five different dataframes based on year splits of HS code 97 to make a dyad level time series data where time ranges from 2000 to 2023.\n",
    "5. Cleaning this data takes the following steps:\n",
    "   > - a. Renaming the exporter and importer columns\n",
    "   > - b. Removing self loops\n",
    "   > - c. Removing duplicate rows and keeping the first instance only\n",
    "   > - d. Sorting values by country pair and time period\n",
    "   > - e. Reseting index\n",
    "   > - f. Saving the data in the cleanind folder\n",
    "   \n",
    "7. *For reproducible cultural goods*: Making three different dyad level time series datasets for books, tapes and cinemas where time ranges is 2000 to 2023 (doing the same as I did for unique cultural products). Cleaning each dataset goes through the steps mentioned in point 5. \n",
    "8. Aggregating the three different reproducible cultural goods data on country pair and time, while tracking the HS codes and number of products traded among each pair in a particular year in the column 'PRODUCT_HS' and 'product_count'\n",
    "9. The notebook also counts and appends hysteresis column to all the datasets.\n",
    "10. So this notebook will save five different csv files in the 'cleaned' subfolder of the folder 'data', four for four different HS code level data and one for aggregated reproducible data. "
   ]
  },
  {
   "cell_type": "markdown",
   "id": "2135bd35-64b9-4d16-b87d-29b2f1b52d3f",
   "metadata": {},
   "source": [
    "#### From 2000 to 2004"
   ]
  },
  {
   "cell_type": "code",
   "execution_count": 2,
   "id": "26edff3c-2c0d-4d0a-b791-28f1947e47e5",
   "metadata": {},
   "outputs": [],
   "source": [
    "c00_04 = pd.read_csv('../data/raw/HS17_2D_DE_2000_To_2004.csv')"
   ]
  },
  {
   "cell_type": "code",
   "execution_count": 3,
   "id": "54e719a7-c8ab-41e8-b4f3-ee96aa4b357f",
   "metadata": {},
   "outputs": [],
   "source": [
    "c00_04 = c00_04[['REF_AREA', 'COUNTERPART_AREA', 'PRODUCT_HS', 'TIME_PERIOD', 'OBS_VALUE', 'ADJUSTMENT']]"
   ]
  },
  {
   "cell_type": "code",
   "execution_count": 4,
   "id": "f57b2e2e-8948-467b-946a-681075dfdef3",
   "metadata": {},
   "outputs": [],
   "source": [
    "c00_04 = c00_04[c00_04['COUNTERPART_AREA'] != 'W']\n",
    "c00_04 = c00_04[c00_04['REF_AREA'] != 'W']"
   ]
  },
  {
   "cell_type": "code",
   "execution_count": 5,
   "id": "0c1b607b-815b-4e9d-8eb2-16c8c798d4b3",
   "metadata": {},
   "outputs": [],
   "source": [
    "c00_04_total = c00_04[(c00_04['PRODUCT_HS'] == '_T') & (c00_04['ADJUSTMENT'] == 'B_ADJ_RX') ]"
   ]
  },
  {
   "cell_type": "code",
   "execution_count": 6,
   "id": "d50f9e33-9499-4a95-80ea-661e176ef730",
   "metadata": {},
   "outputs": [
    {
     "name": "stdout",
     "output_type": "stream",
     "text": [
      "197\n",
      "197\n",
      "1\n"
     ]
    }
   ],
   "source": [
    "print(c00_04_total['REF_AREA'].nunique())\n",
    "print(c00_04_total['COUNTERPART_AREA'].nunique())\n",
    "print(c00_04_total['PRODUCT_HS'].nunique())"
   ]
  },
  {
   "cell_type": "code",
   "execution_count": 7,
   "id": "b1e3f50a-51e1-413e-823d-3c2b1f4d186a",
   "metadata": {},
   "outputs": [],
   "source": [
    "c00_04_unique = c00_04[(c00_04['PRODUCT_HS'] == 'HS17_97') & (c00_04['ADJUSTMENT'] == 'B_ADJ_RX') ]"
   ]
  },
  {
   "cell_type": "code",
   "execution_count": 8,
   "id": "caaccea7-29b4-4035-9682-e0b2a3a2b2d9",
   "metadata": {},
   "outputs": [
    {
     "name": "stdout",
     "output_type": "stream",
     "text": [
      "197\n",
      "197\n",
      "1\n"
     ]
    }
   ],
   "source": [
    "print(c00_04_unique['REF_AREA'].nunique())\n",
    "print(c00_04_unique['COUNTERPART_AREA'].nunique())\n",
    "print(c00_04_unique['PRODUCT_HS'].nunique())"
   ]
  },
  {
   "cell_type": "code",
   "execution_count": 9,
   "id": "c800260b-08bf-4176-bd54-aafd0cea1ad9",
   "metadata": {},
   "outputs": [],
   "source": [
    "c00_04_49 =  c00_04[(c00_04['PRODUCT_HS'] == 'HS17_49') & (c00_04['ADJUSTMENT'] == 'B_ADJ_RX')]\n",
    "c00_04_37 =  c00_04[(c00_04['PRODUCT_HS'] == 'HS17_37') & (c00_04['ADJUSTMENT'] == 'B_ADJ_RX')]\n",
    "c00_04_85 =  c00_04[(c00_04['PRODUCT_HS'] == 'HS17_85') & (c00_04['ADJUSTMENT'] == 'B_ADJ_RX')]"
   ]
  },
  {
   "cell_type": "code",
   "execution_count": 10,
   "id": "b55ebcba-0df3-4a70-a286-dd3f73501d2c",
   "metadata": {},
   "outputs": [
    {
     "name": "stdout",
     "output_type": "stream",
     "text": [
      "197\n",
      "197\n",
      "193\n",
      "197\n",
      "197\n",
      "197\n",
      "1\n",
      "1\n",
      "1\n"
     ]
    }
   ],
   "source": [
    "print(c00_04_49['REF_AREA'].nunique())\n",
    "print(c00_04_49['COUNTERPART_AREA'].nunique())\n",
    "print(c00_04_37['REF_AREA'].nunique())\n",
    "print(c00_04_37['COUNTERPART_AREA'].nunique())\n",
    "print(c00_04_85['REF_AREA'].nunique())\n",
    "print(c00_04_85['COUNTERPART_AREA'].nunique())\n",
    "print(c00_04_49['PRODUCT_HS'].nunique())\n",
    "print(c00_04_37['PRODUCT_HS'].nunique())\n",
    "print(c00_04_85['PRODUCT_HS'].nunique())"
   ]
  },
  {
   "cell_type": "markdown",
   "id": "a2dac2a4-3af9-4b57-a414-ae2bc3813b96",
   "metadata": {},
   "source": [
    "#### From 2005 to 2009"
   ]
  },
  {
   "cell_type": "code",
   "execution_count": 11,
   "id": "c137839c-739b-4839-8cd7-9e439d709122",
   "metadata": {},
   "outputs": [],
   "source": [
    "c05_09 = pd.read_csv('../data/raw/HS17_2D_DE_2005_To_2009.csv')"
   ]
  },
  {
   "cell_type": "code",
   "execution_count": 12,
   "id": "37088a0a-2b5b-493b-b782-a4ead12bd8d7",
   "metadata": {},
   "outputs": [
    {
     "data": {
      "text/html": [
       "<div>\n",
       "<style scoped>\n",
       "    .dataframe tbody tr th:only-of-type {\n",
       "        vertical-align: middle;\n",
       "    }\n",
       "\n",
       "    .dataframe tbody tr th {\n",
       "        vertical-align: top;\n",
       "    }\n",
       "\n",
       "    .dataframe thead th {\n",
       "        text-align: right;\n",
       "    }\n",
       "</style>\n",
       "<table border=\"1\" class=\"dataframe\">\n",
       "  <thead>\n",
       "    <tr style=\"text-align: right;\">\n",
       "      <th></th>\n",
       "      <th>DATAFLOW</th>\n",
       "      <th>REF_AREA</th>\n",
       "      <th>COUNTERPART_AREA</th>\n",
       "      <th>TRADE_FLOW</th>\n",
       "      <th>PRODUCT_TYPE</th>\n",
       "      <th>PRODUCT_CPA</th>\n",
       "      <th>PRODUCT_HS</th>\n",
       "      <th>FREQ</th>\n",
       "      <th>TIME_PERIOD</th>\n",
       "      <th>OBS_VALUE</th>\n",
       "      <th>OBS_STATUS</th>\n",
       "      <th>METHODOLOGY_TYPE</th>\n",
       "      <th>UNIT_MULT</th>\n",
       "      <th>UNIT_MEASURE</th>\n",
       "      <th>ADJUSTMENT</th>\n",
       "      <th>DECIMALS</th>\n",
       "    </tr>\n",
       "  </thead>\n",
       "  <tbody>\n",
       "    <tr>\n",
       "      <th>0</th>\n",
       "      <td>OECD.SDD.TPS:DSD_BIMTS@DF_BIMTS_HS2017_2D(1.0)</td>\n",
       "      <td>HUN</td>\n",
       "      <td>MYS</td>\n",
       "      <td>X</td>\n",
       "      <td>C</td>\n",
       "      <td>_Z</td>\n",
       "      <td>HS17_90</td>\n",
       "      <td>A</td>\n",
       "      <td>2006</td>\n",
       "      <td>1.176961</td>\n",
       "      <td>E</td>\n",
       "      <td>AG</td>\n",
       "      <td>6</td>\n",
       "      <td>USD_EXC</td>\n",
       "      <td>B</td>\n",
       "      <td>2</td>\n",
       "    </tr>\n",
       "    <tr>\n",
       "      <th>1</th>\n",
       "      <td>OECD.SDD.TPS:DSD_BIMTS@DF_BIMTS_HS2017_2D(1.0)</td>\n",
       "      <td>HUN</td>\n",
       "      <td>MYS</td>\n",
       "      <td>X</td>\n",
       "      <td>C</td>\n",
       "      <td>_Z</td>\n",
       "      <td>HS17_90</td>\n",
       "      <td>A</td>\n",
       "      <td>2006</td>\n",
       "      <td>1.176961</td>\n",
       "      <td>E</td>\n",
       "      <td>AG</td>\n",
       "      <td>6</td>\n",
       "      <td>USD_EXC</td>\n",
       "      <td>B_ADJ_RX</td>\n",
       "      <td>2</td>\n",
       "    </tr>\n",
       "    <tr>\n",
       "      <th>2</th>\n",
       "      <td>OECD.SDD.TPS:DSD_BIMTS@DF_BIMTS_HS2017_2D(1.0)</td>\n",
       "      <td>USA</td>\n",
       "      <td>ROU</td>\n",
       "      <td>X</td>\n",
       "      <td>C</td>\n",
       "      <td>_Z</td>\n",
       "      <td>HS17_45</td>\n",
       "      <td>A</td>\n",
       "      <td>2006</td>\n",
       "      <td>0.004019</td>\n",
       "      <td>E</td>\n",
       "      <td>AG</td>\n",
       "      <td>6</td>\n",
       "      <td>USD_EXC</td>\n",
       "      <td>B</td>\n",
       "      <td>2</td>\n",
       "    </tr>\n",
       "  </tbody>\n",
       "</table>\n",
       "</div>"
      ],
      "text/plain": [
       "                                         DATAFLOW REF_AREA COUNTERPART_AREA  \\\n",
       "0  OECD.SDD.TPS:DSD_BIMTS@DF_BIMTS_HS2017_2D(1.0)      HUN              MYS   \n",
       "1  OECD.SDD.TPS:DSD_BIMTS@DF_BIMTS_HS2017_2D(1.0)      HUN              MYS   \n",
       "2  OECD.SDD.TPS:DSD_BIMTS@DF_BIMTS_HS2017_2D(1.0)      USA              ROU   \n",
       "\n",
       "  TRADE_FLOW PRODUCT_TYPE PRODUCT_CPA PRODUCT_HS FREQ  TIME_PERIOD  OBS_VALUE  \\\n",
       "0          X            C          _Z    HS17_90    A         2006   1.176961   \n",
       "1          X            C          _Z    HS17_90    A         2006   1.176961   \n",
       "2          X            C          _Z    HS17_45    A         2006   0.004019   \n",
       "\n",
       "  OBS_STATUS METHODOLOGY_TYPE  UNIT_MULT UNIT_MEASURE ADJUSTMENT  DECIMALS  \n",
       "0          E               AG          6      USD_EXC          B         2  \n",
       "1          E               AG          6      USD_EXC   B_ADJ_RX         2  \n",
       "2          E               AG          6      USD_EXC          B         2  "
      ]
     },
     "execution_count": 12,
     "metadata": {},
     "output_type": "execute_result"
    }
   ],
   "source": [
    "c05_09.head(3)"
   ]
  },
  {
   "cell_type": "code",
   "execution_count": 13,
   "id": "09559a7b-52f5-4b0e-8627-b248183511c7",
   "metadata": {},
   "outputs": [],
   "source": [
    "c05_09 = c05_09[['REF_AREA', 'COUNTERPART_AREA', 'PRODUCT_HS', 'TIME_PERIOD', 'OBS_VALUE','ADJUSTMENT']]"
   ]
  },
  {
   "cell_type": "code",
   "execution_count": 14,
   "id": "49e726b4-deab-4b83-9d1e-b647a0b534fc",
   "metadata": {},
   "outputs": [],
   "source": [
    "c05_09 = c05_09[c05_09['COUNTERPART_AREA'] != 'W']\n",
    "c05_09 = c05_09[c05_09['REF_AREA'] != 'W']"
   ]
  },
  {
   "cell_type": "markdown",
   "id": "8ca68d29-24ad-4009-93f5-8af48503d7d4",
   "metadata": {},
   "source": [
    "Kosovo and Montenegro got independence from Serbia in 2008 and 2006 repentively. I am checking their availablity. "
   ]
  },
  {
   "cell_type": "code",
   "execution_count": 15,
   "id": "93844b00-e3bf-4682-9a05-e9790f98f344",
   "metadata": {},
   "outputs": [],
   "source": [
    "#c05_09 [c05_09['REF_AREA'] == 'MNE']\n",
    "#c05_09[c05_09['COUNTERPART_AREA'] == 'MNE']"
   ]
  },
  {
   "cell_type": "code",
   "execution_count": 16,
   "id": "bb82151b-1ddf-483a-a0f3-7c9ff5463169",
   "metadata": {},
   "outputs": [],
   "source": [
    "#c05_09 [c05_09['REF_AREA'] == 'XKX']\n",
    "#c05_09[c05_09['COUNTERPART_AREA'] == 'XKX']"
   ]
  },
  {
   "cell_type": "code",
   "execution_count": 17,
   "id": "c6b586d0-4648-4ffc-a04a-074e573e3553",
   "metadata": {},
   "outputs": [],
   "source": [
    "c05_09_total = c05_09[(c05_09['PRODUCT_HS'] == '_T') & (c05_09['ADJUSTMENT'] == 'B_ADJ_RX') ]"
   ]
  },
  {
   "cell_type": "code",
   "execution_count": 18,
   "id": "d6bdfc19-6fb6-40a7-a4c5-d6c8ddba6d20",
   "metadata": {},
   "outputs": [
    {
     "name": "stdout",
     "output_type": "stream",
     "text": [
      "199\n",
      "199\n",
      "1\n"
     ]
    }
   ],
   "source": [
    "print(c05_09_total['REF_AREA'].nunique())\n",
    "print(c05_09_total['COUNTERPART_AREA'].nunique())\n",
    "print(c05_09_total['PRODUCT_HS'].nunique())"
   ]
  },
  {
   "cell_type": "code",
   "execution_count": 19,
   "id": "5aa476c5-e05e-4d04-8453-0ffc121b63f3",
   "metadata": {},
   "outputs": [],
   "source": [
    "c05_09_unique = c05_09[(c05_09['PRODUCT_HS'] == 'HS17_97') & (c05_09['ADJUSTMENT'] == 'B_ADJ_RX')]"
   ]
  },
  {
   "cell_type": "code",
   "execution_count": 20,
   "id": "f2a83115-a820-4b20-a7d4-f012760fc4b2",
   "metadata": {},
   "outputs": [
    {
     "name": "stdout",
     "output_type": "stream",
     "text": [
      "199\n",
      "199\n",
      "1\n"
     ]
    }
   ],
   "source": [
    "print(c05_09_unique['REF_AREA'].nunique())\n",
    "print(c05_09_unique['COUNTERPART_AREA'].nunique())\n",
    "print(c05_09_unique['PRODUCT_HS'].nunique())"
   ]
  },
  {
   "cell_type": "code",
   "execution_count": 21,
   "id": "523ac4bb-ad22-48ca-8133-e4097489423b",
   "metadata": {},
   "outputs": [],
   "source": [
    "c05_09_49 =  c05_09[(c05_09['PRODUCT_HS'] == 'HS17_49') & (c05_09['ADJUSTMENT'] == 'B_ADJ_RX')]\n",
    "c05_09_37 =  c05_09[(c05_09['PRODUCT_HS'] == 'HS17_37') & (c05_09['ADJUSTMENT'] == 'B_ADJ_RX')]\n",
    "c05_09_85 =  c05_09[(c05_09['PRODUCT_HS'] == 'HS17_85') & (c05_09['ADJUSTMENT'] == 'B_ADJ_RX')]"
   ]
  },
  {
   "cell_type": "code",
   "execution_count": 22,
   "id": "4b151b3d-3ae1-4acc-8e54-f296055da3e5",
   "metadata": {},
   "outputs": [
    {
     "name": "stdout",
     "output_type": "stream",
     "text": [
      "195\n",
      "199\n",
      "199\n",
      "199\n",
      "199\n",
      "199\n",
      "1\n",
      "1\n",
      "1\n"
     ]
    }
   ],
   "source": [
    "print(c05_09_37['REF_AREA'].nunique())\n",
    "print(c05_09_37['COUNTERPART_AREA'].nunique())\n",
    "print(c05_09_49['REF_AREA'].nunique())\n",
    "print(c05_09_49['COUNTERPART_AREA'].nunique())\n",
    "print(c05_09_85['REF_AREA'].nunique())\n",
    "print(c05_09_85['COUNTERPART_AREA'].nunique())\n",
    "print(c05_09_49['PRODUCT_HS'].nunique())\n",
    "print(c05_09_37['PRODUCT_HS'].nunique())\n",
    "print(c05_09_85['PRODUCT_HS'].nunique())"
   ]
  },
  {
   "cell_type": "markdown",
   "id": "0e96814b-bee7-4269-bcd7-a07cf95ab02b",
   "metadata": {},
   "source": [
    "#### From 2010 to 2014"
   ]
  },
  {
   "cell_type": "code",
   "execution_count": 23,
   "id": "c620b67e-9f2c-444e-91b0-82f6b3563f7b",
   "metadata": {},
   "outputs": [],
   "source": [
    "c10_14 = pd.read_csv('../data/raw/HS17_2D_DE_2010_To_2014.csv')"
   ]
  },
  {
   "cell_type": "code",
   "execution_count": 24,
   "id": "96ceac33-f199-4374-9996-9a20ace6d260",
   "metadata": {},
   "outputs": [],
   "source": [
    "c10_14 = c10_14[['REF_AREA', 'COUNTERPART_AREA', 'PRODUCT_HS', 'TIME_PERIOD', 'OBS_VALUE','ADJUSTMENT']]"
   ]
  },
  {
   "cell_type": "code",
   "execution_count": 25,
   "id": "dac64b22-ada8-4ec9-a211-776d4bd2d1e3",
   "metadata": {},
   "outputs": [],
   "source": [
    "c10_14 = c10_14[c10_14['COUNTERPART_AREA'] != 'W']\n",
    "c10_14 = c10_14[c10_14['REF_AREA'] != 'W']"
   ]
  },
  {
   "cell_type": "markdown",
   "id": "162c7a71-8716-44ea-b2c4-ee219813282b",
   "metadata": {},
   "source": [
    "Kosovo and Montenegro got independence from Serbia in 2008 and 2006 repentively. From 2005 to 2009 Montenegro was present bit not Kosovo. Also, SOuth Sudan has got independence from Sudan in 2011. I will check the availability of KOsovo and South Sudan here"
   ]
  },
  {
   "cell_type": "code",
   "execution_count": 26,
   "id": "4bcb4a96-5324-41fa-8415-da44e8d36656",
   "metadata": {},
   "outputs": [],
   "source": [
    "#c10_14[c10_14['REF_AREA'] == 'MNE']\n",
    "#c10_14[c10_14['COUNTERPART_AREA'] == 'MNE']"
   ]
  },
  {
   "cell_type": "code",
   "execution_count": 27,
   "id": "24c4e322-d40d-4a70-a3b3-e3e41251ba81",
   "metadata": {},
   "outputs": [],
   "source": [
    "#c10_14[c10_14['REF_AREA'] == 'XKX']\n",
    "#c10_14[c10_14['COUNTERPART_AREA'] == 'XKX']"
   ]
  },
  {
   "cell_type": "code",
   "execution_count": 28,
   "id": "84753669-31e9-4177-a317-1e86affa46c1",
   "metadata": {},
   "outputs": [],
   "source": [
    "#c10_14[c10_14['REF_AREA'] == 'SSD']\n",
    "#c10_14[c10_14['COUNTERPART_AREA'] == 'SSD']"
   ]
  },
  {
   "cell_type": "code",
   "execution_count": 29,
   "id": "35b0431f-4be5-47ae-a67d-3b1bb15de36a",
   "metadata": {},
   "outputs": [],
   "source": [
    "c10_14_total = c10_14[(c10_14['PRODUCT_HS'] == '_T') & (c10_14['ADJUSTMENT'] == 'B_ADJ_RX')]"
   ]
  },
  {
   "cell_type": "code",
   "execution_count": 30,
   "id": "fed5163d-0236-4d1e-96b3-a6d283194306",
   "metadata": {},
   "outputs": [
    {
     "name": "stdout",
     "output_type": "stream",
     "text": [
      "200\n",
      "200\n",
      "1\n"
     ]
    }
   ],
   "source": [
    "print(c10_14_total['REF_AREA'].nunique())\n",
    "print(c10_14_total['COUNTERPART_AREA'].nunique())\n",
    "print(c10_14_total['PRODUCT_HS'].nunique())"
   ]
  },
  {
   "cell_type": "code",
   "execution_count": 31,
   "id": "961f213f-cfb9-4292-8261-3cc00bbf4492",
   "metadata": {},
   "outputs": [],
   "source": [
    "c10_14_unique = c10_14[(c10_14['PRODUCT_HS'] == 'HS17_97') & (c10_14['ADJUSTMENT'] == 'B_ADJ_RX')]"
   ]
  },
  {
   "cell_type": "code",
   "execution_count": 32,
   "id": "354d926c-427c-4276-84f0-9661269187aa",
   "metadata": {},
   "outputs": [
    {
     "name": "stdout",
     "output_type": "stream",
     "text": [
      "199\n",
      "200\n",
      "1\n"
     ]
    }
   ],
   "source": [
    "print(c10_14_unique['REF_AREA'].nunique())\n",
    "print(c10_14_unique['COUNTERPART_AREA'].nunique())\n",
    "print(c10_14_unique['PRODUCT_HS'].nunique())"
   ]
  },
  {
   "cell_type": "code",
   "execution_count": 33,
   "id": "06aea072-5ff3-40b3-af1d-9bddbabdb6ff",
   "metadata": {},
   "outputs": [],
   "source": [
    "c10_14_49 =  c10_14[(c10_14['PRODUCT_HS'] == 'HS17_49') & (c10_14['ADJUSTMENT'] == 'B_ADJ_RX')]\n",
    "c10_14_37 =  c10_14[(c10_14['PRODUCT_HS'] == 'HS17_37') & (c10_14['ADJUSTMENT'] == 'B_ADJ_RX')]\n",
    "c10_14_85 =  c10_14[(c10_14['PRODUCT_HS'] == 'HS17_85') & (c10_14['ADJUSTMENT'] == 'B_ADJ_RX')]"
   ]
  },
  {
   "cell_type": "code",
   "execution_count": 34,
   "id": "1c5ca24d-b40b-4da4-8fa3-d9e981f8174d",
   "metadata": {},
   "outputs": [
    {
     "name": "stdout",
     "output_type": "stream",
     "text": [
      "200\n",
      "200\n",
      "195\n",
      "200\n",
      "200\n",
      "200\n",
      "1\n",
      "1\n",
      "1\n"
     ]
    }
   ],
   "source": [
    "print(c10_14_49['REF_AREA'].nunique())\n",
    "print(c10_14_49['COUNTERPART_AREA'].nunique())\n",
    "print(c10_14_37['REF_AREA'].nunique())\n",
    "print(c10_14_37['COUNTERPART_AREA'].nunique())\n",
    "print(c10_14_85['REF_AREA'].nunique())\n",
    "print(c10_14_85['COUNTERPART_AREA'].nunique())\n",
    "print(c10_14_49['PRODUCT_HS'].nunique())\n",
    "print(c10_14_37['PRODUCT_HS'].nunique())\n",
    "print(c10_14_85['PRODUCT_HS'].nunique())"
   ]
  },
  {
   "cell_type": "markdown",
   "id": "9e493dcf-fecc-4a17-a0a9-4e4aca94097c",
   "metadata": {},
   "source": [
    "#### From 2015 to 2019"
   ]
  },
  {
   "cell_type": "code",
   "execution_count": 35,
   "id": "e5b84cd0-2bf1-46a4-93aa-049bfab592eb",
   "metadata": {},
   "outputs": [],
   "source": [
    "c15_19 = pd.read_csv('../data/raw/HS17_2D_DE_2015_To_2019.csv')"
   ]
  },
  {
   "cell_type": "code",
   "execution_count": 36,
   "id": "eaf23196-b65f-494f-a34f-c55b00b91a03",
   "metadata": {},
   "outputs": [],
   "source": [
    "c15_19 = c15_19[['REF_AREA', 'COUNTERPART_AREA', 'PRODUCT_HS', 'TIME_PERIOD', 'OBS_VALUE', 'ADJUSTMENT']]"
   ]
  },
  {
   "cell_type": "code",
   "execution_count": 37,
   "id": "d177a225-ddef-46c8-a0d3-3b16b8e8a4cf",
   "metadata": {},
   "outputs": [],
   "source": [
    "c15_19 = c15_19[c15_19['COUNTERPART_AREA'] != 'W']\n",
    "c15_19 = c15_19[c15_19['REF_AREA'] != 'W']"
   ]
  },
  {
   "cell_type": "code",
   "execution_count": 38,
   "id": "8f7fd96b-c2d2-404d-80fd-0c85a23d00ef",
   "metadata": {},
   "outputs": [],
   "source": [
    "#c15_19[c15_19['REF_AREA'] == 'MNE']\n",
    "#c15_19[c15_19['COUNTERPART_AREA'] == 'MNE']"
   ]
  },
  {
   "cell_type": "code",
   "execution_count": 39,
   "id": "90039b07-917a-48df-b32a-89a09a40ae5d",
   "metadata": {},
   "outputs": [],
   "source": [
    "#c15_19[c15_19['REF_AREA'] == 'XKX']\n",
    "#c15_19[c15_19['COUNTERPART_AREA'] == 'XKX']"
   ]
  },
  {
   "cell_type": "code",
   "execution_count": 40,
   "id": "0e673535-d4d1-4d8a-ad6e-b517124ebfcc",
   "metadata": {},
   "outputs": [],
   "source": [
    "#c15_19[c15_19['REF_AREA'] == 'SSD']\n",
    "#c15_19[c15_19['COUNTERPART_AREA'] == 'SSD']"
   ]
  },
  {
   "cell_type": "code",
   "execution_count": 41,
   "id": "de93dd45-a01f-4c83-8a89-8a1ca2de57ca",
   "metadata": {},
   "outputs": [],
   "source": [
    "c15_19_total = c15_19[(c15_19['PRODUCT_HS'] == '_T') & (c15_19['ADJUSTMENT'] == 'B_ADJ_RX')]"
   ]
  },
  {
   "cell_type": "code",
   "execution_count": 42,
   "id": "08f07cd4-dd6a-4ca2-b7e9-893eb5d9de9b",
   "metadata": {},
   "outputs": [
    {
     "name": "stdout",
     "output_type": "stream",
     "text": [
      "200\n",
      "200\n",
      "1\n"
     ]
    }
   ],
   "source": [
    "print(c15_19_total['REF_AREA'].nunique())\n",
    "print(c15_19_total['COUNTERPART_AREA'].nunique())\n",
    "print(c15_19_total['PRODUCT_HS'].nunique())"
   ]
  },
  {
   "cell_type": "code",
   "execution_count": 43,
   "id": "98a49b5b-9903-4550-9a79-de9a4ca8c849",
   "metadata": {},
   "outputs": [],
   "source": [
    "c15_19_unique = c15_19[(c15_19['PRODUCT_HS'] == 'HS17_97') & (c15_19['ADJUSTMENT'] == 'B_ADJ_RX') ]"
   ]
  },
  {
   "cell_type": "code",
   "execution_count": 44,
   "id": "7aa7c68d-3949-4845-ab5e-2bda33114656",
   "metadata": {},
   "outputs": [
    {
     "name": "stdout",
     "output_type": "stream",
     "text": [
      "200\n",
      "200\n",
      "1\n"
     ]
    }
   ],
   "source": [
    "print(c15_19_unique['REF_AREA'].nunique())\n",
    "print(c15_19_unique['COUNTERPART_AREA'].nunique())\n",
    "print(c15_19_unique['PRODUCT_HS'].nunique())"
   ]
  },
  {
   "cell_type": "code",
   "execution_count": 45,
   "id": "2f9f643e-b7cc-4ca8-9267-00739ce698ce",
   "metadata": {},
   "outputs": [],
   "source": [
    "c15_19_49 =  c15_19[(c15_19['PRODUCT_HS'] == 'HS17_49') & (c15_19['ADJUSTMENT'] == 'B_ADJ_RX') ]\n",
    "c15_19_37 =  c15_19[(c15_19['PRODUCT_HS'] == 'HS17_37') & (c15_19['ADJUSTMENT'] == 'B_ADJ_RX')]\n",
    "c15_19_85 =  c15_19[(c15_19['PRODUCT_HS'] == 'HS17_85') & (c15_19['ADJUSTMENT'] == 'B_ADJ_RX')]"
   ]
  },
  {
   "cell_type": "code",
   "execution_count": 46,
   "id": "b994f5bc-8768-47a9-b49c-4a068d6d1a11",
   "metadata": {},
   "outputs": [
    {
     "name": "stdout",
     "output_type": "stream",
     "text": [
      "200\n",
      "200\n",
      "189\n",
      "200\n",
      "200\n",
      "200\n",
      "1\n",
      "1\n",
      "1\n"
     ]
    }
   ],
   "source": [
    "print(c15_19_49['REF_AREA'].nunique())\n",
    "print(c15_19_49['COUNTERPART_AREA'].nunique())\n",
    "print(c15_19_37['REF_AREA'].nunique())\n",
    "print(c15_19_37['COUNTERPART_AREA'].nunique())\n",
    "print(c15_19_85['REF_AREA'].nunique())\n",
    "print(c15_19_85['COUNTERPART_AREA'].nunique())\n",
    "print(c15_19_49['PRODUCT_HS'].nunique())\n",
    "print(c15_19_37['PRODUCT_HS'].nunique())\n",
    "print(c15_19_85['PRODUCT_HS'].nunique())"
   ]
  },
  {
   "cell_type": "markdown",
   "id": "afa16d9e-06c7-4f71-a357-e07e4fc30589",
   "metadata": {},
   "source": [
    "#### From 2020 to 2023"
   ]
  },
  {
   "cell_type": "code",
   "execution_count": 47,
   "id": "949f095b-ab41-4157-b062-59b2a43d1636",
   "metadata": {},
   "outputs": [],
   "source": [
    "c020_23 = pd.read_csv('../data/raw/HS17_2D_DE_2020_To_2023.csv')"
   ]
  },
  {
   "cell_type": "code",
   "execution_count": 48,
   "id": "e782bb89-364f-4a91-95c6-d6c1c999fe31",
   "metadata": {},
   "outputs": [],
   "source": [
    "c020_23 = c020_23[['REF_AREA', 'COUNTERPART_AREA', 'PRODUCT_HS', 'TIME_PERIOD', 'OBS_VALUE', 'ADJUSTMENT']]"
   ]
  },
  {
   "cell_type": "code",
   "execution_count": 49,
   "id": "b81e2f53-05df-4b0d-a6e8-b1452f5868f7",
   "metadata": {},
   "outputs": [],
   "source": [
    "c020_23 = c020_23[c020_23['COUNTERPART_AREA'] != 'W']\n",
    "c020_23 = c020_23[c020_23['REF_AREA'] != 'W']"
   ]
  },
  {
   "cell_type": "code",
   "execution_count": 50,
   "id": "2fb804aa-d80b-4778-b6af-26e0bb204fca",
   "metadata": {},
   "outputs": [],
   "source": [
    "#c020_23[c020_23['REF_AREA'] == 'MNE']\n",
    "#c020_23[c020_23['COUNTERPART_AREA'] == 'MNE']"
   ]
  },
  {
   "cell_type": "code",
   "execution_count": 51,
   "id": "31bb2cce-35c0-4ce3-89c1-0816e5cf07c7",
   "metadata": {},
   "outputs": [],
   "source": [
    "#c020_23[c020_23['REF_AREA'] == 'XKX']\n",
    "#c020_23[c020_23['COUNTERPART_AREA'] == 'XKX']"
   ]
  },
  {
   "cell_type": "code",
   "execution_count": 52,
   "id": "a031f719-ecd7-4344-bc7a-42cb6cae3c00",
   "metadata": {},
   "outputs": [],
   "source": [
    "#c020_23[c020_23['REF_AREA'] == 'SSD']\n",
    "#c020_23[c020_23['COUNTERPART_AREA'] == 'SSD']"
   ]
  },
  {
   "cell_type": "code",
   "execution_count": 53,
   "id": "50363ae2-a5b3-4146-bc1b-8d7b4326db5d",
   "metadata": {},
   "outputs": [],
   "source": [
    "c020_23_total = c020_23[(c020_23['PRODUCT_HS'] == '_T') & (c020_23['ADJUSTMENT'] == 'B_ADJ_RX')]"
   ]
  },
  {
   "cell_type": "code",
   "execution_count": 54,
   "id": "b650e928-eb77-4042-8494-ec659a983a16",
   "metadata": {},
   "outputs": [
    {
     "name": "stdout",
     "output_type": "stream",
     "text": [
      "200\n",
      "200\n",
      "1\n"
     ]
    }
   ],
   "source": [
    "print(c020_23_total['REF_AREA'].nunique())\n",
    "print(c020_23_total['COUNTERPART_AREA'].nunique())\n",
    "print(c020_23_total['PRODUCT_HS'].nunique())"
   ]
  },
  {
   "cell_type": "code",
   "execution_count": 55,
   "id": "811ff98e-66be-46da-8b0f-ec3d51c9b8ed",
   "metadata": {},
   "outputs": [],
   "source": [
    "c020_23_unique = c020_23[(c020_23['PRODUCT_HS'] == 'HS17_97') & (c020_23['ADJUSTMENT'] == 'B_ADJ_RX')]"
   ]
  },
  {
   "cell_type": "code",
   "execution_count": 56,
   "id": "7d070e3f-d7f3-41c8-9674-5e021b0e1834",
   "metadata": {},
   "outputs": [
    {
     "name": "stdout",
     "output_type": "stream",
     "text": [
      "200\n",
      "200\n",
      "1\n"
     ]
    }
   ],
   "source": [
    "print(c020_23_unique['REF_AREA'].nunique())\n",
    "print(c020_23_unique['COUNTERPART_AREA'].nunique())\n",
    "print(c020_23_unique['PRODUCT_HS'].nunique())"
   ]
  },
  {
   "cell_type": "code",
   "execution_count": 57,
   "id": "1035e3ce-8586-45e7-8d20-080557941bb0",
   "metadata": {},
   "outputs": [],
   "source": [
    "c020_23_49 =  c020_23[(c020_23['PRODUCT_HS'] == 'HS17_49')  & (c020_23['ADJUSTMENT'] == 'B_ADJ_RX')]\n",
    "c020_23_37 =  c020_23[(c020_23['PRODUCT_HS'] == 'HS17_37')  & (c020_23['ADJUSTMENT'] == 'B_ADJ_RX')]\n",
    "c020_23_85 =  c020_23[(c020_23['PRODUCT_HS'] == 'HS17_85')  & (c020_23['ADJUSTMENT'] == 'B_ADJ_RX')]"
   ]
  },
  {
   "cell_type": "code",
   "execution_count": 58,
   "id": "12ddbfad-e5e5-4372-87e9-d3b58f52742a",
   "metadata": {},
   "outputs": [
    {
     "name": "stdout",
     "output_type": "stream",
     "text": [
      "200\n",
      "200\n",
      "186\n",
      "200\n",
      "200\n",
      "200\n",
      "1\n",
      "1\n",
      "1\n"
     ]
    }
   ],
   "source": [
    "print(c020_23_49['REF_AREA'].nunique())\n",
    "print(c020_23_49['COUNTERPART_AREA'].nunique())\n",
    "print(c020_23_37['REF_AREA'].nunique())\n",
    "print(c020_23_37['COUNTERPART_AREA'].nunique())\n",
    "print(c020_23_85['REF_AREA'].nunique())\n",
    "print(c020_23_85['COUNTERPART_AREA'].nunique())\n",
    "print(c020_23_49['PRODUCT_HS'].nunique())\n",
    "print(c020_23_37['PRODUCT_HS'].nunique())\n",
    "print(c020_23_85['PRODUCT_HS'].nunique())"
   ]
  },
  {
   "cell_type": "markdown",
   "id": "32989a66-c315-415c-a4ad-6d8f0170113e",
   "metadata": {},
   "source": [
    "##### For all datasets I will do the following steps:\n",
    "1. Concateninating the 5 dataframes for each HS code category to make a time series from 2000 to 2023\n",
    "2. Renaming the exporter and importer columns\n",
    "3. Removing self loops\n",
    "4. Checking for duplicates and removing if there is any\n",
    "5. Sorting values by country pair and time period\n",
    "6. Reseting index\n",
    "7. Saving in the cleaned file in csv format "
   ]
  },
  {
   "cell_type": "markdown",
   "id": "a404b298-d5d2-4bbb-8d25-be146339e8f6",
   "metadata": {},
   "source": [
    "#### For unique goods"
   ]
  },
  {
   "cell_type": "code",
   "execution_count": 59,
   "id": "9aef8415-00de-4e9a-a044-aa79c45ebec9",
   "metadata": {},
   "outputs": [],
   "source": [
    "# appending the five dataframes for HS code 97\n",
    "unique = pd.concat([c00_04_unique, c05_09_unique, c10_14_unique, c15_19_unique, c020_23_unique], axis = 0)"
   ]
  },
  {
   "cell_type": "code",
   "execution_count": 60,
   "id": "4cca1061-c08a-43fb-b71c-9e1cec7679ce",
   "metadata": {},
   "outputs": [],
   "source": [
    "# renaming the exporter and importer column to match the fixed variable dataset\n",
    "unique = unique.rename(columns = {'REF_AREA': 'iso_o'})\n",
    "unique = unique.rename(columns = {'COUNTERPART_AREA': 'iso_d'})"
   ]
  },
  {
   "cell_type": "code",
   "execution_count": 61,
   "id": "a60ee13c-7dd0-46cf-95f3-f130616a87aa",
   "metadata": {},
   "outputs": [
    {
     "data": {
      "text/plain": [
       "(174733, 6)"
      ]
     },
     "execution_count": 61,
     "metadata": {},
     "output_type": "execute_result"
    }
   ],
   "source": [
    "unique.shape"
   ]
  },
  {
   "cell_type": "code",
   "execution_count": 62,
   "id": "3ea3c1d6-f6b5-449f-875c-e334707de40e",
   "metadata": {},
   "outputs": [
    {
     "name": "stdout",
     "output_type": "stream",
     "text": [
      "24\n",
      "1\n"
     ]
    }
   ],
   "source": [
    "print(unique['TIME_PERIOD'].nunique())\n",
    "print(unique['ADJUSTMENT'].nunique())"
   ]
  },
  {
   "cell_type": "code",
   "execution_count": 63,
   "id": "0087ec34-befa-4ab0-ad3c-eb91b70ce2cf",
   "metadata": {},
   "outputs": [],
   "source": [
    "# removing self_loops\n",
    "unique = unique[unique['iso_o'] != unique['iso_d']]"
   ]
  },
  {
   "cell_type": "code",
   "execution_count": 64,
   "id": "0e9ae4fb-327e-4a83-9b43-21bae3a77369",
   "metadata": {},
   "outputs": [
    {
     "data": {
      "text/plain": [
       "(174305, 6)"
      ]
     },
     "execution_count": 64,
     "metadata": {},
     "output_type": "execute_result"
    }
   ],
   "source": [
    "unique.shape"
   ]
  },
  {
   "cell_type": "code",
   "execution_count": 65,
   "id": "235ac95b-b452-45d8-8a50-fb229b512756",
   "metadata": {},
   "outputs": [],
   "source": [
    "# removing duplicates\n",
    "unique_duplicate = unique.duplicated(keep = 'last')\n",
    "#unique[unique_duplicate].shape[0]\n",
    "unique_unique = unique[~unique_duplicate]\n",
    "# There is no duplicate for unique cultural trade. "
   ]
  },
  {
   "cell_type": "code",
   "execution_count": 66,
   "id": "3986ea42-d4a4-48df-993a-311f21292c5b",
   "metadata": {},
   "outputs": [
    {
     "data": {
      "text/plain": [
       "(174305, 6)"
      ]
     },
     "execution_count": 66,
     "metadata": {},
     "output_type": "execute_result"
    }
   ],
   "source": [
    "unique_unique.shape"
   ]
  },
  {
   "cell_type": "code",
   "execution_count": 67,
   "id": "07e4cbb5-ae7c-4c4e-afb0-d554386824a3",
   "metadata": {},
   "outputs": [],
   "source": [
    "unique_unique = unique_unique.sort_values(['iso_o', 'iso_d', 'TIME_PERIOD'])"
   ]
  },
  {
   "cell_type": "code",
   "execution_count": 68,
   "id": "65c18809-a690-47f6-b8ad-215db10f7d64",
   "metadata": {},
   "outputs": [],
   "source": [
    "unique_unique = unique_unique.reset_index(drop= True)"
   ]
  },
  {
   "cell_type": "code",
   "execution_count": 69,
   "id": "7251555c-0d90-43f4-8e1b-42a17eaf8376",
   "metadata": {},
   "outputs": [
    {
     "data": {
      "text/html": [
       "<div>\n",
       "<style scoped>\n",
       "    .dataframe tbody tr th:only-of-type {\n",
       "        vertical-align: middle;\n",
       "    }\n",
       "\n",
       "    .dataframe tbody tr th {\n",
       "        vertical-align: top;\n",
       "    }\n",
       "\n",
       "    .dataframe thead th {\n",
       "        text-align: right;\n",
       "    }\n",
       "</style>\n",
       "<table border=\"1\" class=\"dataframe\">\n",
       "  <thead>\n",
       "    <tr style=\"text-align: right;\">\n",
       "      <th></th>\n",
       "      <th>iso_o</th>\n",
       "      <th>iso_d</th>\n",
       "      <th>PRODUCT_HS</th>\n",
       "      <th>TIME_PERIOD</th>\n",
       "      <th>OBS_VALUE</th>\n",
       "      <th>ADJUSTMENT</th>\n",
       "    </tr>\n",
       "  </thead>\n",
       "  <tbody>\n",
       "    <tr>\n",
       "      <th>0</th>\n",
       "      <td>ABW</td>\n",
       "      <td>AGO</td>\n",
       "      <td>HS17_97</td>\n",
       "      <td>2014</td>\n",
       "      <td>0.000028</td>\n",
       "      <td>B_ADJ_RX</td>\n",
       "    </tr>\n",
       "    <tr>\n",
       "      <th>1</th>\n",
       "      <td>ABW</td>\n",
       "      <td>ARE</td>\n",
       "      <td>HS17_97</td>\n",
       "      <td>2005</td>\n",
       "      <td>0.000641</td>\n",
       "      <td>B_ADJ_RX</td>\n",
       "    </tr>\n",
       "    <tr>\n",
       "      <th>2</th>\n",
       "      <td>ABW</td>\n",
       "      <td>ARE</td>\n",
       "      <td>HS17_97</td>\n",
       "      <td>2014</td>\n",
       "      <td>0.000053</td>\n",
       "      <td>B_ADJ_RX</td>\n",
       "    </tr>\n",
       "    <tr>\n",
       "      <th>3</th>\n",
       "      <td>ABW</td>\n",
       "      <td>ARE</td>\n",
       "      <td>HS17_97</td>\n",
       "      <td>2020</td>\n",
       "      <td>0.000019</td>\n",
       "      <td>B_ADJ_RX</td>\n",
       "    </tr>\n",
       "    <tr>\n",
       "      <th>4</th>\n",
       "      <td>ABW</td>\n",
       "      <td>ARE</td>\n",
       "      <td>HS17_97</td>\n",
       "      <td>2022</td>\n",
       "      <td>0.000132</td>\n",
       "      <td>B_ADJ_RX</td>\n",
       "    </tr>\n",
       "  </tbody>\n",
       "</table>\n",
       "</div>"
      ],
      "text/plain": [
       "  iso_o iso_d PRODUCT_HS  TIME_PERIOD  OBS_VALUE ADJUSTMENT\n",
       "0   ABW   AGO    HS17_97         2014   0.000028   B_ADJ_RX\n",
       "1   ABW   ARE    HS17_97         2005   0.000641   B_ADJ_RX\n",
       "2   ABW   ARE    HS17_97         2014   0.000053   B_ADJ_RX\n",
       "3   ABW   ARE    HS17_97         2020   0.000019   B_ADJ_RX\n",
       "4   ABW   ARE    HS17_97         2022   0.000132   B_ADJ_RX"
      ]
     },
     "execution_count": 69,
     "metadata": {},
     "output_type": "execute_result"
    }
   ],
   "source": [
    "unique_unique.head()"
   ]
  },
  {
   "cell_type": "code",
   "execution_count": 70,
   "id": "11202d9d-807e-404d-ba74-6b63af830ef1",
   "metadata": {},
   "outputs": [
    {
     "name": "stdout",
     "output_type": "stream",
     "text": [
      "201\n",
      "201\n",
      "18915\n"
     ]
    }
   ],
   "source": [
    "print(unique_unique['iso_o'].nunique())\n",
    "print(unique_unique['iso_d'].nunique())\n",
    "print(unique_unique.groupby(['iso_o','iso_d']).ngroups)"
   ]
  },
  {
   "cell_type": "code",
   "execution_count": 71,
   "id": "61680277-0e52-4394-b40c-ff84cc6811db",
   "metadata": {},
   "outputs": [],
   "source": [
    "memory = 0.3\n",
    "def compute_hysteresis(series):\n",
    "    '''It takes a numeric panda series, initializes an empty list to store the hysteresis values, and two values for \n",
    "    previous year's trade volume. Then it counts the husteresis value for a particular year and appends it to the list of hysteresis values.'''\n",
    "    hyst = []\n",
    "    prev_cum = 0\n",
    "    prev_val = 0\n",
    "    for val in series:\n",
    "        hyst_val = memory * prev_cum + prev_val\n",
    "        hyst.append(hyst_val)\n",
    "        prev_cum = hyst_val\n",
    "        prev_val = val\n",
    "    return hyst"
   ]
  },
  {
   "cell_type": "code",
   "execution_count": 72,
   "id": "5597f4a5-7cfd-4e31-a8fe-96583a979799",
   "metadata": {},
   "outputs": [],
   "source": [
    "unique_unique['hysteresis_unique'] = (unique_unique.groupby(['iso_o', 'iso_d'])['OBS_VALUE'].transform(compute_hysteresis))"
   ]
  },
  {
   "cell_type": "code",
   "execution_count": 73,
   "id": "94341703-1cae-4089-9d25-602ff1a49a6e",
   "metadata": {},
   "outputs": [],
   "source": [
    "#unique_unique[(unique_unique['iso_o'] == 'BGD') & (unique_unique['iso_d'] == 'IND')]"
   ]
  },
  {
   "cell_type": "code",
   "execution_count": 74,
   "id": "10de0984-de40-4243-9d43-d9488caf7c8e",
   "metadata": {},
   "outputs": [],
   "source": [
    "unique_unique.to_csv(\"../data/cleaned/unique2000_2023.csv\", encoding='utf-8', index=False)"
   ]
  },
  {
   "cell_type": "code",
   "execution_count": 75,
   "id": "f601c9a2-a32c-41ea-98ce-f53e0bac91ad",
   "metadata": {},
   "outputs": [],
   "source": [
    "#unique_unique[(unique_unique['iso_o'] == 'BGD') & (unique_unique['iso_d'] == 'IND')]"
   ]
  },
  {
   "cell_type": "markdown",
   "id": "d07bdedd-9c31-41a1-83ff-eab6a7866522",
   "metadata": {},
   "source": [
    "#### Preparing the dataset for reproducible goods"
   ]
  },
  {
   "cell_type": "markdown",
   "id": "b407bc9d-86eb-46ce-b87f-9d62bc7e9fcd",
   "metadata": {},
   "source": [
    "* Cinema "
   ]
  },
  {
   "cell_type": "code",
   "execution_count": 76,
   "id": "5cb30a7a-4cfe-4bd5-a35f-3b2e20dca68e",
   "metadata": {},
   "outputs": [],
   "source": [
    "cinema = pd.concat([c00_04_37, c05_09_37, c10_14_37, c15_19_37, c020_23_37], axis = 0)"
   ]
  },
  {
   "cell_type": "code",
   "execution_count": 77,
   "id": "5eb307d6-1954-44ab-89f9-f3568c004204",
   "metadata": {},
   "outputs": [
    {
     "name": "stdout",
     "output_type": "stream",
     "text": [
      "24\n",
      "1\n"
     ]
    }
   ],
   "source": [
    "print(cinema['TIME_PERIOD'].nunique())\n",
    "print(cinema['ADJUSTMENT'].nunique())"
   ]
  },
  {
   "cell_type": "code",
   "execution_count": 78,
   "id": "03b1ccd0-95e5-41b1-83bf-8344c5e849f8",
   "metadata": {},
   "outputs": [],
   "source": [
    "# renaming the exporter and importer column to match the fixed variable dataset\n",
    "cinema = cinema.rename(columns = {'REF_AREA': 'iso_o'})\n",
    "cinema = cinema.rename(columns = {'COUNTERPART_AREA': 'iso_d'})"
   ]
  },
  {
   "cell_type": "code",
   "execution_count": 79,
   "id": "bc119147-a695-4121-a70f-ca486292ea8e",
   "metadata": {},
   "outputs": [
    {
     "data": {
      "text/plain": [
       "(138854, 6)"
      ]
     },
     "execution_count": 79,
     "metadata": {},
     "output_type": "execute_result"
    }
   ],
   "source": [
    "cinema.shape"
   ]
  },
  {
   "cell_type": "code",
   "execution_count": 80,
   "id": "41697e8d-0b02-4961-ae73-62ca80eb3d55",
   "metadata": {},
   "outputs": [],
   "source": [
    "# removing self_loops\n",
    "cinema = cinema[cinema['iso_o'] != cinema['iso_d']]"
   ]
  },
  {
   "cell_type": "code",
   "execution_count": 81,
   "id": "181b2074-ef34-4af5-b16c-c25636ab1212",
   "metadata": {},
   "outputs": [
    {
     "data": {
      "text/plain": [
       "(138525, 6)"
      ]
     },
     "execution_count": 81,
     "metadata": {},
     "output_type": "execute_result"
    }
   ],
   "source": [
    "cinema.shape"
   ]
  },
  {
   "cell_type": "code",
   "execution_count": 82,
   "id": "0601ef9b-f345-4d6f-82d6-73d82bc5201a",
   "metadata": {},
   "outputs": [],
   "source": [
    "# removing duplicates\n",
    "cinema_duplicate = cinema.duplicated(keep = 'last')\n",
    "cinema_unique = cinema[~cinema_duplicate]"
   ]
  },
  {
   "cell_type": "code",
   "execution_count": 83,
   "id": "68448ef3-67f5-4265-9ee4-f4f937c24f45",
   "metadata": {},
   "outputs": [
    {
     "data": {
      "text/plain": [
       "(138525, 6)"
      ]
     },
     "execution_count": 83,
     "metadata": {},
     "output_type": "execute_result"
    }
   ],
   "source": [
    "cinema_unique.shape\n",
    "# No duplicate in cinema dataframe"
   ]
  },
  {
   "cell_type": "code",
   "execution_count": 84,
   "id": "9ae830f7-d149-4da2-96e9-0ad881fa1382",
   "metadata": {},
   "outputs": [],
   "source": [
    "cinema_unique = cinema_unique.sort_values(['iso_o', 'iso_d', 'TIME_PERIOD'])"
   ]
  },
  {
   "cell_type": "code",
   "execution_count": 85,
   "id": "61a477eb-1bd5-454c-8298-ba133c76d7fd",
   "metadata": {},
   "outputs": [],
   "source": [
    "cinema_unique = cinema_unique.reset_index(drop= True)"
   ]
  },
  {
   "cell_type": "code",
   "execution_count": 86,
   "id": "e54587b6-5cdc-44a7-b61d-430c61d370f9",
   "metadata": {},
   "outputs": [],
   "source": [
    "cinema_unique['hysteresis_cinema'] = (cinema_unique.groupby(['iso_o', 'iso_d'])['OBS_VALUE'].transform(compute_hysteresis))"
   ]
  },
  {
   "cell_type": "code",
   "execution_count": 87,
   "id": "0f49c083-9c03-45aa-ada2-fcfa6c2afbde",
   "metadata": {},
   "outputs": [],
   "source": [
    "cinema_unique.to_csv(\"../data/cleaned/cinema2000_2023.csv\", encoding='utf-8', index=False)"
   ]
  },
  {
   "cell_type": "code",
   "execution_count": 88,
   "id": "f1b34274-0690-4827-a704-6a51fc314bc2",
   "metadata": {},
   "outputs": [],
   "source": [
    "#cinema_unique[(cinema_unique['iso_o'] == 'BGD') & (cinema_unique['iso_d'] == 'IND')]"
   ]
  },
  {
   "cell_type": "markdown",
   "id": "efb2756c-4a5d-401d-9cdf-9409e925fff8",
   "metadata": {},
   "source": [
    "* Books"
   ]
  },
  {
   "cell_type": "code",
   "execution_count": 89,
   "id": "2a0b4c98-56c4-41d5-a202-7a305b4fe1c2",
   "metadata": {},
   "outputs": [],
   "source": [
    "books = pd.concat([c00_04_49, c05_09_49, c10_14_49, c15_19_49, c020_23_49], axis = 0)"
   ]
  },
  {
   "cell_type": "code",
   "execution_count": 90,
   "id": "55f8bcd8-ce05-4bf0-80c1-f64f621b1bd3",
   "metadata": {},
   "outputs": [
    {
     "data": {
      "text/plain": [
       "(339664, 6)"
      ]
     },
     "execution_count": 90,
     "metadata": {},
     "output_type": "execute_result"
    }
   ],
   "source": [
    "books.shape"
   ]
  },
  {
   "cell_type": "code",
   "execution_count": 91,
   "id": "65683588-ff76-452a-954b-9b7af940d821",
   "metadata": {},
   "outputs": [
    {
     "name": "stdout",
     "output_type": "stream",
     "text": [
      "24\n",
      "1\n"
     ]
    }
   ],
   "source": [
    "print(books['TIME_PERIOD'].nunique())\n",
    "print(books['ADJUSTMENT'].nunique())"
   ]
  },
  {
   "cell_type": "code",
   "execution_count": 92,
   "id": "482d4ede-74ac-4cb6-ace0-088049e658a0",
   "metadata": {},
   "outputs": [],
   "source": [
    "# renaming the exporter and importer column to match the fixed variable dataset\n",
    "books = books.rename(columns = {'REF_AREA': 'iso_o'})\n",
    "books = books.rename(columns = {'COUNTERPART_AREA': 'iso_d'})"
   ]
  },
  {
   "cell_type": "code",
   "execution_count": 93,
   "id": "ec801302-bcbb-4b0b-9117-5a7ac440b10e",
   "metadata": {},
   "outputs": [],
   "source": [
    "# removing self_loops\n",
    "books = books[books['iso_o'] != books['iso_d']]"
   ]
  },
  {
   "cell_type": "code",
   "execution_count": 94,
   "id": "00c2623f-9587-4e31-b3d5-761a6bbeb47a",
   "metadata": {},
   "outputs": [
    {
     "data": {
      "text/plain": [
       "(339113, 6)"
      ]
     },
     "execution_count": 94,
     "metadata": {},
     "output_type": "execute_result"
    }
   ],
   "source": [
    "books.shape"
   ]
  },
  {
   "cell_type": "code",
   "execution_count": 95,
   "id": "771cd34d-3a07-45ba-add4-0bb11e06e7d5",
   "metadata": {},
   "outputs": [
    {
     "name": "stdout",
     "output_type": "stream",
     "text": [
      "(339113, 6)\n"
     ]
    }
   ],
   "source": [
    "# removing duplicates\n",
    "books_duplicate = books.duplicated(keep = 'last')\n",
    "books_unique = books[~books_duplicate]\n",
    "print(books_unique.shape)"
   ]
  },
  {
   "cell_type": "code",
   "execution_count": 96,
   "id": "8ba43907-6b49-49fd-a21d-5cac2773bc18",
   "metadata": {},
   "outputs": [],
   "source": [
    "books_unique = books_unique.sort_values(['iso_o', 'iso_d', 'TIME_PERIOD'])"
   ]
  },
  {
   "cell_type": "code",
   "execution_count": 97,
   "id": "86c4325b-e3e0-4bf4-a459-a450181eba25",
   "metadata": {},
   "outputs": [],
   "source": [
    "books_unique = books_unique.reset_index(drop= True)"
   ]
  },
  {
   "cell_type": "code",
   "execution_count": 98,
   "id": "33bc4c9f-c66b-4372-9274-42f740c0fd96",
   "metadata": {},
   "outputs": [],
   "source": [
    "books_unique['hysteresis_books'] = (books_unique.groupby(['iso_o', 'iso_d'])['OBS_VALUE'].transform(compute_hysteresis))"
   ]
  },
  {
   "cell_type": "code",
   "execution_count": 99,
   "id": "eafe16b2-5159-4fce-85bb-a4ca7e55cb9a",
   "metadata": {},
   "outputs": [],
   "source": [
    "books_unique.to_csv(\"../data/cleaned/books2000_2023.csv\", encoding='utf-8', index=False)"
   ]
  },
  {
   "cell_type": "code",
   "execution_count": 100,
   "id": "f4e48e6b-f7e1-4e4d-8035-8af31a89c02e",
   "metadata": {},
   "outputs": [],
   "source": [
    "#books_unique[(books_unique['iso_o'] == 'BGD') & (books_unique['iso_d'] == 'IND')]"
   ]
  },
  {
   "cell_type": "markdown",
   "id": "de4a1684-bfe6-4d38-9bfe-d7b4f1f67b3b",
   "metadata": {},
   "source": [
    "* Tapes"
   ]
  },
  {
   "cell_type": "code",
   "execution_count": 101,
   "id": "952382e4-723e-49c3-b395-3447fffed531",
   "metadata": {},
   "outputs": [],
   "source": [
    "tapes = pd.concat([c00_04_85, c05_09_85, c10_14_85, c15_19_85, c020_23_85], axis = 0)"
   ]
  },
  {
   "cell_type": "code",
   "execution_count": 102,
   "id": "173e1d13-dcf4-413c-b8bb-5de3dec3c0a2",
   "metadata": {},
   "outputs": [
    {
     "name": "stdout",
     "output_type": "stream",
     "text": [
      "24\n",
      "1\n"
     ]
    }
   ],
   "source": [
    "print(tapes['TIME_PERIOD'].nunique())\n",
    "print(tapes['ADJUSTMENT'].nunique())"
   ]
  },
  {
   "cell_type": "code",
   "execution_count": 103,
   "id": "3f5ef70c-936e-48ed-9a34-216ab5cd7ced",
   "metadata": {},
   "outputs": [],
   "source": [
    "# renaming the exporter and importer column to match the fixed variable dataset\n",
    "tapes = tapes.rename(columns = {'REF_AREA': 'iso_o'})\n",
    "tapes = tapes.rename(columns = {'COUNTERPART_AREA': 'iso_d'})"
   ]
  },
  {
   "cell_type": "code",
   "execution_count": 104,
   "id": "08c633f7-a2ec-43ed-a97e-c264c71e69bc",
   "metadata": {},
   "outputs": [
    {
     "data": {
      "text/plain": [
       "(471045, 6)"
      ]
     },
     "execution_count": 104,
     "metadata": {},
     "output_type": "execute_result"
    }
   ],
   "source": [
    "tapes.shape"
   ]
  },
  {
   "cell_type": "code",
   "execution_count": 105,
   "id": "88c4f37f-916f-4b40-a0f2-426a7f9da4fc",
   "metadata": {},
   "outputs": [],
   "source": [
    "# removing self_loops\n",
    "tapes = tapes[tapes['iso_o'] != tapes['iso_d']]"
   ]
  },
  {
   "cell_type": "code",
   "execution_count": 106,
   "id": "67382034-a590-4b8d-aaa4-35c6d7049f5e",
   "metadata": {},
   "outputs": [
    {
     "data": {
      "text/plain": [
       "(470377, 6)"
      ]
     },
     "execution_count": 106,
     "metadata": {},
     "output_type": "execute_result"
    }
   ],
   "source": [
    "tapes.shape"
   ]
  },
  {
   "cell_type": "code",
   "execution_count": 107,
   "id": "4876a3df-7427-4165-b40b-d55b13aaca24",
   "metadata": {},
   "outputs": [],
   "source": [
    "# removing duplicates\n",
    "tapes_duplicate = tapes.duplicated(keep = 'last')\n",
    "tapes_unique = tapes[~tapes_duplicate]"
   ]
  },
  {
   "cell_type": "code",
   "execution_count": 108,
   "id": "5ce42c01-9871-457c-a039-658b6a883f7d",
   "metadata": {},
   "outputs": [
    {
     "data": {
      "text/plain": [
       "(470377, 6)"
      ]
     },
     "execution_count": 108,
     "metadata": {},
     "output_type": "execute_result"
    }
   ],
   "source": [
    "tapes_unique.shape\n",
    "# no duplicate for tapes as well"
   ]
  },
  {
   "cell_type": "code",
   "execution_count": 109,
   "id": "81fe7640-5795-4ad7-835a-ae8758d3547c",
   "metadata": {},
   "outputs": [],
   "source": [
    "tapes_unique = tapes_unique.sort_values(['iso_o', 'iso_d', 'TIME_PERIOD'])\n",
    "tapes_unique = tapes_unique.reset_index(drop= True)"
   ]
  },
  {
   "cell_type": "code",
   "execution_count": 110,
   "id": "b4d6f44c-0459-4894-9219-7f31db66f203",
   "metadata": {},
   "outputs": [],
   "source": [
    "tapes_unique['hysteresis_tapes'] = (tapes_unique.groupby(['iso_o', 'iso_d'])['OBS_VALUE'].transform(compute_hysteresis))"
   ]
  },
  {
   "cell_type": "code",
   "execution_count": 111,
   "id": "2a8be322-cc27-4a3b-9eff-1912081b7c9d",
   "metadata": {},
   "outputs": [],
   "source": [
    "tapes_unique.to_csv(\"../data/cleaned/tapes2000_2023.csv\", encoding='utf-8', index=False)"
   ]
  },
  {
   "cell_type": "code",
   "execution_count": 112,
   "id": "345712b1-f8d5-4a58-8d5c-71b821f815bd",
   "metadata": {},
   "outputs": [],
   "source": [
    "#tapes_unique[(tapes_unique['iso_o'] == 'BGD') & (tapes_unique['iso_d'] == 'IND')]"
   ]
  },
  {
   "cell_type": "code",
   "execution_count": 113,
   "id": "fc35e5eb-4c85-4eec-a9c6-c747a83f1def",
   "metadata": {},
   "outputs": [
    {
     "name": "stdout",
     "output_type": "stream",
     "text": [
      "201\n",
      "201\n",
      "200\n",
      "201\n",
      "201\n",
      "201\n",
      "201\n",
      "201\n",
      "18915\n",
      "27050\n",
      "14037\n",
      "32709\n"
     ]
    }
   ],
   "source": [
    "print(unique_unique['iso_o'].nunique())\n",
    "print(books_unique['iso_o'].nunique())\n",
    "print(cinema_unique['iso_o'].nunique())\n",
    "print(tapes_unique['iso_o'].nunique())\n",
    "print(unique_unique['iso_d'].nunique())\n",
    "print(books_unique['iso_d'].nunique())\n",
    "print(cinema_unique['iso_d'].nunique())\n",
    "print(tapes_unique['iso_d'].nunique())\n",
    "print(unique_unique.groupby(['iso_o','iso_d']).ngroups)\n",
    "print(books_unique.groupby(['iso_o','iso_d']).ngroups)\n",
    "print(cinema_unique.groupby(['iso_o','iso_d']).ngroups)\n",
    "print(tapes_unique.groupby(['iso_o','iso_d']).ngroups)"
   ]
  },
  {
   "cell_type": "markdown",
   "id": "b1542f55-5572-4951-ba67-b83f5bb1f14d",
   "metadata": {},
   "source": [
    "### Aggreagating cinemas, books and tapes"
   ]
  },
  {
   "cell_type": "markdown",
   "id": "69970e72-8cb0-40ba-b2f3-f181696b3b31",
   "metadata": {},
   "source": [
    "##### Steps to aggregate three different reproducible cultural products datasets:\n",
    "1. Concatenating tapes, books and cinemas dataframes on columns. \n",
    "2. Grouping the concatenaded data by country pair and year,\n",
    "3. Summing over the obs_value which is the exchange rate converted US dollar value of trade for that particular year\n",
    "4. Adding a column which will record the HS codes of the products traded on that year"
   ]
  },
  {
   "cell_type": "code",
   "execution_count": 114,
   "id": "ffa039e3-e33f-4691-b698-b8977b4e9ff0",
   "metadata": {},
   "outputs": [],
   "source": [
    "tapes_unique = tapes_unique.drop('hysteresis_tapes', axis = 1)"
   ]
  },
  {
   "cell_type": "code",
   "execution_count": 115,
   "id": "200db3ea-676e-49f4-9daa-feb8f50b8423",
   "metadata": {},
   "outputs": [],
   "source": [
    "books_unique = books_unique.drop('hysteresis_books', axis = 1)"
   ]
  },
  {
   "cell_type": "code",
   "execution_count": 116,
   "id": "f6ba8f62-1a02-4a42-9793-fac66fc22b91",
   "metadata": {},
   "outputs": [],
   "source": [
    "cinema_unique = cinema_unique.drop('hysteresis_cinema', axis = 1)"
   ]
  },
  {
   "cell_type": "code",
   "execution_count": 117,
   "id": "6c056b83-f742-4c4e-894f-f1004237f779",
   "metadata": {},
   "outputs": [],
   "source": [
    "rp = pd.concat([tapes_unique, books_unique, cinema_unique], axis = 0)"
   ]
  },
  {
   "cell_type": "code",
   "execution_count": 118,
   "id": "9b264259-a06c-4c7d-891c-6bad946f4cba",
   "metadata": {},
   "outputs": [
    {
     "name": "stdout",
     "output_type": "stream",
     "text": [
      "201\n",
      "201\n",
      "24\n",
      "3\n",
      "33443\n"
     ]
    }
   ],
   "source": [
    "print(rp['iso_o'].nunique())\n",
    "print(rp['iso_d'].nunique())\n",
    "print(rp['TIME_PERIOD'].nunique())\n",
    "print(rp['PRODUCT_HS'].nunique())\n",
    "print(rp.groupby(['iso_o','iso_d']).ngroups)"
   ]
  },
  {
   "cell_type": "code",
   "execution_count": 119,
   "id": "ce462d01-c946-4837-bd02-5df8c1b0f36a",
   "metadata": {},
   "outputs": [
    {
     "data": {
      "text/plain": [
       "Index(['iso_o', 'iso_d', 'PRODUCT_HS', 'TIME_PERIOD', 'OBS_VALUE',\n",
       "       'ADJUSTMENT'],\n",
       "      dtype='object')"
      ]
     },
     "execution_count": 119,
     "metadata": {},
     "output_type": "execute_result"
    }
   ],
   "source": [
    "rp.columns"
   ]
  },
  {
   "cell_type": "code",
   "execution_count": 120,
   "id": "3d5b1ebf-6d13-48c2-b059-264d273995ff",
   "metadata": {},
   "outputs": [],
   "source": [
    "rp_agg = rp.groupby(['iso_o', 'iso_d', 'TIME_PERIOD']).agg({'OBS_VALUE': 'sum', 'PRODUCT_HS': lambda x :tuple(sorted(set(x)))}).reset_index()"
   ]
  },
  {
   "cell_type": "code",
   "execution_count": 121,
   "id": "1f56de98-8c92-4634-ae62-6e4575284e86",
   "metadata": {},
   "outputs": [],
   "source": [
    "rp_agg['product_count'] = rp_agg['PRODUCT_HS'].apply(len)"
   ]
  },
  {
   "cell_type": "code",
   "execution_count": 122,
   "id": "13df6798-886c-49b6-a236-70797c2869f2",
   "metadata": {},
   "outputs": [
    {
     "data": {
      "text/html": [
       "<div>\n",
       "<style scoped>\n",
       "    .dataframe tbody tr th:only-of-type {\n",
       "        vertical-align: middle;\n",
       "    }\n",
       "\n",
       "    .dataframe tbody tr th {\n",
       "        vertical-align: top;\n",
       "    }\n",
       "\n",
       "    .dataframe thead th {\n",
       "        text-align: right;\n",
       "    }\n",
       "</style>\n",
       "<table border=\"1\" class=\"dataframe\">\n",
       "  <thead>\n",
       "    <tr style=\"text-align: right;\">\n",
       "      <th></th>\n",
       "      <th>iso_o</th>\n",
       "      <th>iso_d</th>\n",
       "      <th>TIME_PERIOD</th>\n",
       "      <th>OBS_VALUE</th>\n",
       "      <th>PRODUCT_HS</th>\n",
       "      <th>product_count</th>\n",
       "    </tr>\n",
       "  </thead>\n",
       "  <tbody>\n",
       "    <tr>\n",
       "      <th>0</th>\n",
       "      <td>ABW</td>\n",
       "      <td>AFG</td>\n",
       "      <td>2019</td>\n",
       "      <td>0.012061</td>\n",
       "      <td>(HS17_49, HS17_85)</td>\n",
       "      <td>2</td>\n",
       "    </tr>\n",
       "    <tr>\n",
       "      <th>1</th>\n",
       "      <td>ABW</td>\n",
       "      <td>AGO</td>\n",
       "      <td>2008</td>\n",
       "      <td>0.000165</td>\n",
       "      <td>(HS17_85,)</td>\n",
       "      <td>1</td>\n",
       "    </tr>\n",
       "    <tr>\n",
       "      <th>2</th>\n",
       "      <td>ABW</td>\n",
       "      <td>AGO</td>\n",
       "      <td>2011</td>\n",
       "      <td>0.000076</td>\n",
       "      <td>(HS17_85,)</td>\n",
       "      <td>1</td>\n",
       "    </tr>\n",
       "    <tr>\n",
       "      <th>3</th>\n",
       "      <td>ABW</td>\n",
       "      <td>ARE</td>\n",
       "      <td>2013</td>\n",
       "      <td>0.000953</td>\n",
       "      <td>(HS17_49,)</td>\n",
       "      <td>1</td>\n",
       "    </tr>\n",
       "    <tr>\n",
       "      <th>4</th>\n",
       "      <td>ABW</td>\n",
       "      <td>ARE</td>\n",
       "      <td>2016</td>\n",
       "      <td>0.018888</td>\n",
       "      <td>(HS17_85,)</td>\n",
       "      <td>1</td>\n",
       "    </tr>\n",
       "  </tbody>\n",
       "</table>\n",
       "</div>"
      ],
      "text/plain": [
       "  iso_o iso_d  TIME_PERIOD  OBS_VALUE          PRODUCT_HS  product_count\n",
       "0   ABW   AFG         2019   0.012061  (HS17_49, HS17_85)              2\n",
       "1   ABW   AGO         2008   0.000165          (HS17_85,)              1\n",
       "2   ABW   AGO         2011   0.000076          (HS17_85,)              1\n",
       "3   ABW   ARE         2013   0.000953          (HS17_49,)              1\n",
       "4   ABW   ARE         2016   0.018888          (HS17_85,)              1"
      ]
     },
     "execution_count": 122,
     "metadata": {},
     "output_type": "execute_result"
    }
   ],
   "source": [
    "rp_agg.head()"
   ]
  },
  {
   "cell_type": "code",
   "execution_count": 123,
   "id": "f9421da5-0e93-4e54-8819-507a890b5843",
   "metadata": {},
   "outputs": [
    {
     "name": "stdout",
     "output_type": "stream",
     "text": [
      "201\n",
      "201\n",
      "24\n",
      "7\n",
      "33443\n"
     ]
    }
   ],
   "source": [
    "print(rp_agg['iso_o'].nunique())\n",
    "print(rp_agg['iso_d'].nunique())\n",
    "print(rp_agg['TIME_PERIOD'].nunique())\n",
    "print(rp_agg['PRODUCT_HS'].nunique())\n",
    "print(rp_agg.groupby(['iso_o','iso_d']).ngroups)"
   ]
  },
  {
   "cell_type": "code",
   "execution_count": 124,
   "id": "9babd8df-b12f-4aa7-845a-231e32704dc1",
   "metadata": {},
   "outputs": [
    {
     "name": "stdout",
     "output_type": "stream",
     "text": [
      "PRODUCT_HS\n",
      "(HS17_49, HS17_85)             185011\n",
      "(HS17_85,)                     148323\n",
      "(HS17_37, HS17_49, HS17_85)    132380\n",
      "(HS17_49,)                      21362\n",
      "(HS17_37, HS17_85)               4663\n",
      "(HS17_37,)                       1122\n",
      "(HS17_37, HS17_49)                360\n",
      "Name: count, dtype: int64\n"
     ]
    }
   ],
   "source": [
    "print(rp_agg['PRODUCT_HS'].value_counts())"
   ]
  },
  {
   "cell_type": "code",
   "execution_count": 125,
   "id": "c7b44f3e-d736-41d8-a22b-ab2765ae0a1c",
   "metadata": {},
   "outputs": [
    {
     "data": {
      "text/plain": [
       "190034"
      ]
     },
     "execution_count": 125,
     "metadata": {},
     "output_type": "execute_result"
    }
   ],
   "source": [
    "185011 + 4663 + 360"
   ]
  },
  {
   "cell_type": "code",
   "execution_count": 126,
   "id": "1528f1dc-4f04-4f7c-add0-92a1f76e330b",
   "metadata": {},
   "outputs": [
    {
     "data": {
      "text/plain": [
       "170807"
      ]
     },
     "execution_count": 126,
     "metadata": {},
     "output_type": "execute_result"
    }
   ],
   "source": [
    "148323 + 21362 + 1122"
   ]
  },
  {
   "cell_type": "code",
   "execution_count": 127,
   "id": "f8e0c982-5abc-4aed-8317-f4d05f3419e3",
   "metadata": {},
   "outputs": [
    {
     "name": "stdout",
     "output_type": "stream",
     "text": [
      "product_count\n",
      "2    190034\n",
      "1    170807\n",
      "3    132380\n",
      "Name: count, dtype: int64\n"
     ]
    }
   ],
   "source": [
    "print(rp_agg['product_count'].value_counts())"
   ]
  },
  {
   "cell_type": "code",
   "execution_count": 128,
   "id": "5694c1b5-e7c3-4dab-959a-d6b43379d3f4",
   "metadata": {},
   "outputs": [],
   "source": [
    "rp_agg['hysteresis_repro'] = (rp_agg.groupby(['iso_o', 'iso_d'])['OBS_VALUE'].transform(compute_hysteresis))"
   ]
  },
  {
   "cell_type": "code",
   "execution_count": 129,
   "id": "8205dfda-a8b2-4863-8cc8-1d1649255082",
   "metadata": {},
   "outputs": [],
   "source": [
    "rp_agg.to_csv(\"../data/cleaned/reproducible2000_2023.csv\", encoding='utf-8', index=False)"
   ]
  },
  {
   "cell_type": "code",
   "execution_count": 130,
   "id": "e005725e-8e22-4b86-8a67-b88fc16b8646",
   "metadata": {},
   "outputs": [
    {
     "name": "stdout",
     "output_type": "stream",
     "text": [
      "18915\n",
      "33443\n"
     ]
    }
   ],
   "source": [
    "print(unique_unique.groupby(['iso_o','iso_d']).ngroups)\n",
    "print(rp_agg.groupby(['iso_o','iso_d']).ngroups)"
   ]
  },
  {
   "cell_type": "code",
   "execution_count": 131,
   "id": "7a80a2a0-1a11-4f69-81ab-5f801d3f0609",
   "metadata": {},
   "outputs": [],
   "source": [
    "assert unique_unique['iso_o'].nunique() == rp_agg['iso_o'].nunique() "
   ]
  },
  {
   "cell_type": "code",
   "execution_count": 132,
   "id": "26320909-7397-4118-b74a-5cdddcc25116",
   "metadata": {},
   "outputs": [],
   "source": [
    "assert unique_unique['iso_d'].nunique() == rp_agg['iso_d'].nunique()"
   ]
  },
  {
   "cell_type": "markdown",
   "id": "27f92635-118b-42df-8b76-944981829f4c",
   "metadata": {},
   "source": [
    "### non-cultural goods"
   ]
  },
  {
   "cell_type": "code",
   "execution_count": 133,
   "id": "33378905-05fc-4948-b234-efbca9a2017e",
   "metadata": {},
   "outputs": [],
   "source": [
    "c00_04 = c00_04[(c00_04['PRODUCT_HS'] != '_T') & (c00_04['PRODUCT_HS'] != 'HS17_97') & (c00_04['PRODUCT_HS'] != 'HS17_49') & (c00_04['PRODUCT_HS'] != 'HS17_37') & (c00_04['PRODUCT_HS'] != 'HS17_85')]"
   ]
  },
  {
   "cell_type": "code",
   "execution_count": 134,
   "id": "7fcd9c56-09eb-470f-93e3-15ad94adc869",
   "metadata": {},
   "outputs": [],
   "source": [
    "c05_09 = c05_09[(c05_09['PRODUCT_HS'] != '_T') & (c05_09['PRODUCT_HS'] != 'HS17_97') & (c05_09['PRODUCT_HS'] != 'HS17_49') & (c05_09['PRODUCT_HS'] != 'HS17_37') & (c05_09['PRODUCT_HS'] != 'HS17_85')]"
   ]
  },
  {
   "cell_type": "code",
   "execution_count": 135,
   "id": "920ac3fc-6789-4b8c-8f9a-ea75afabc86a",
   "metadata": {},
   "outputs": [],
   "source": [
    "c10_14 = c10_14[(c10_14['PRODUCT_HS'] != '_T') & (c10_14['PRODUCT_HS'] != 'HS17_97') & (c10_14['PRODUCT_HS'] != 'HS17_49') & (c10_14['PRODUCT_HS'] != 'HS17_37') & (c10_14['PRODUCT_HS'] != 'HS17_85')]"
   ]
  },
  {
   "cell_type": "code",
   "execution_count": 136,
   "id": "9bf7de47-a938-482c-a240-a4fbc8a8b3d0",
   "metadata": {},
   "outputs": [],
   "source": [
    "c15_19 = c15_19[(c15_19['PRODUCT_HS'] != '_T') & (c15_19['PRODUCT_HS'] != 'HS17_97') & (c15_19['PRODUCT_HS'] != 'HS17_49') & (c15_19['PRODUCT_HS'] != 'HS17_37') & (c15_19['PRODUCT_HS'] != 'HS17_85')]"
   ]
  },
  {
   "cell_type": "code",
   "execution_count": 137,
   "id": "25948c67-9181-439a-9fed-652a7c0941d4",
   "metadata": {},
   "outputs": [],
   "source": [
    "c020_23 = c020_23[(c020_23['PRODUCT_HS'] != '_T') & (c020_23['PRODUCT_HS'] != 'HS17_97') & (c020_23['PRODUCT_HS'] != 'HS17_49') & (c020_23['PRODUCT_HS'] != 'HS17_37') & (c020_23['PRODUCT_HS'] != 'HS17_85')]"
   ]
  },
  {
   "cell_type": "code",
   "execution_count": 138,
   "id": "3757f4a9-44ce-4700-8388-ada761196aaf",
   "metadata": {},
   "outputs": [],
   "source": [
    "non_cultural = pd.concat([c00_04, c05_09, c10_14, c15_19, c020_23], axis = 0)"
   ]
  },
  {
   "cell_type": "code",
   "execution_count": 139,
   "id": "463c6488-421f-4ca2-b944-5b1386514aca",
   "metadata": {},
   "outputs": [],
   "source": [
    "non_cultural = non_cultural[non_cultural['ADJUSTMENT'] == \"B_ADJ_RX\"]"
   ]
  },
  {
   "cell_type": "code",
   "execution_count": 140,
   "id": "4a2eae14-49ea-4784-a9ac-87077c6102e6",
   "metadata": {},
   "outputs": [
    {
     "data": {
      "text/plain": [
       "1"
      ]
     },
     "execution_count": 140,
     "metadata": {},
     "output_type": "execute_result"
    }
   ],
   "source": [
    "non_cultural['ADJUSTMENT'].nunique()"
   ]
  },
  {
   "cell_type": "code",
   "execution_count": 141,
   "id": "baa4bfe7-b38b-4c6f-b9f7-1079944c463e",
   "metadata": {},
   "outputs": [],
   "source": [
    "# renaming the exporter and importer column to match the fixed variable dataset\n",
    "non_cultural = non_cultural.rename(columns = {'REF_AREA': 'iso_o'})\n",
    "non_cultural = non_cultural.rename(columns = {'COUNTERPART_AREA': 'iso_d'})"
   ]
  },
  {
   "cell_type": "code",
   "execution_count": 142,
   "id": "ae89e3b9-7ebe-4a77-8039-d31aaff2743d",
   "metadata": {},
   "outputs": [
    {
     "data": {
      "text/plain": [
       "(19117913, 6)"
      ]
     },
     "execution_count": 142,
     "metadata": {},
     "output_type": "execute_result"
    }
   ],
   "source": [
    "non_cultural.shape"
   ]
  },
  {
   "cell_type": "code",
   "execution_count": 143,
   "id": "4843bbf5-33ed-4a61-80fc-5525bc92ab35",
   "metadata": {},
   "outputs": [],
   "source": [
    "# removing duplicates\n",
    "non_cultural_duplicate = non_cultural.duplicated(keep = 'last')\n",
    "non_cultural_unique = non_cultural[~non_cultural_duplicate]"
   ]
  },
  {
   "cell_type": "code",
   "execution_count": 144,
   "id": "5cbbf88f-140f-48bc-850a-747b8b23a03d",
   "metadata": {},
   "outputs": [
    {
     "data": {
      "text/plain": [
       "(19117913, 6)"
      ]
     },
     "execution_count": 144,
     "metadata": {},
     "output_type": "execute_result"
    }
   ],
   "source": [
    "non_cultural_unique.shape  #no duplicate"
   ]
  },
  {
   "cell_type": "code",
   "execution_count": 145,
   "id": "b8997662-95c8-4d6c-baa3-49115fd5cc29",
   "metadata": {},
   "outputs": [],
   "source": [
    "non_cultural_unique = non_cultural_unique.sort_values(['iso_o', 'iso_d', 'TIME_PERIOD'])\n",
    "non_cultural_unique = non_cultural_unique.reset_index(drop = True)"
   ]
  },
  {
   "cell_type": "code",
   "execution_count": 146,
   "id": "4f4a0991-46f1-4d68-a39a-99f30ca326e6",
   "metadata": {},
   "outputs": [],
   "source": [
    "#non_cultural_unique.head(10)"
   ]
  },
  {
   "cell_type": "code",
   "execution_count": 147,
   "id": "6cc88d87-a137-4a6d-ae68-f57fdd8d3dc3",
   "metadata": {},
   "outputs": [
    {
     "data": {
      "text/plain": [
       "0.06585"
      ]
     },
     "execution_count": 147,
     "metadata": {},
     "output_type": "execute_result"
    }
   ],
   "source": [
    "0.031152 + 0.003771 + 0.000121 + 0.000045 + 0.030341 + 0.000079 + 0.000059 + 0.000282"
   ]
  },
  {
   "cell_type": "code",
   "execution_count": 148,
   "id": "bc28ba6e-4d3a-4303-94c6-da715a245341",
   "metadata": {},
   "outputs": [
    {
     "name": "stdout",
     "output_type": "stream",
     "text": [
      "93\n",
      "1\n",
      "24\n"
     ]
    }
   ],
   "source": [
    "print(non_cultural_unique['PRODUCT_HS'].nunique())\n",
    "print(non_cultural_unique['ADJUSTMENT'].nunique())\n",
    "print(non_cultural_unique['TIME_PERIOD'].nunique())"
   ]
  },
  {
   "cell_type": "code",
   "execution_count": 149,
   "id": "6a974147-31e9-48d9-9c94-522813e2ad7e",
   "metadata": {},
   "outputs": [],
   "source": [
    "non_cultural_unique_grouped = non_cultural_unique.groupby(['iso_o', 'iso_d', 'TIME_PERIOD'])['OBS_VALUE'].sum().reset_index()"
   ]
  },
  {
   "cell_type": "code",
   "execution_count": 150,
   "id": "448edaac-1c74-4e78-b045-42f8067f54c5",
   "metadata": {},
   "outputs": [
    {
     "name": "stdout",
     "output_type": "stream",
     "text": [
      "24\n",
      "201\n",
      "201\n"
     ]
    }
   ],
   "source": [
    "print(non_cultural_unique_grouped['TIME_PERIOD'].nunique())\n",
    "print(non_cultural_unique_grouped['iso_o'].nunique())\n",
    "print(non_cultural_unique_grouped['iso_d'].nunique())"
   ]
  },
  {
   "cell_type": "code",
   "execution_count": 151,
   "id": "c796731a-660e-47cc-928a-936eccc49581",
   "metadata": {},
   "outputs": [],
   "source": [
    "non_cultural_unique_grouped['hysteresis_total'] = (non_cultural_unique_grouped.groupby(['iso_o', 'iso_d'])['OBS_VALUE'].transform(compute_hysteresis))"
   ]
  },
  {
   "cell_type": "code",
   "execution_count": 152,
   "id": "4862310b-9a4c-46a5-b971-2628ecc00bb9",
   "metadata": {},
   "outputs": [],
   "source": [
    "non_cultural_unique_grouped.to_csv(\"../data/cleaned/total2000_2023.csv\", encoding = 'utf-8', index = False)"
   ]
  },
  {
   "cell_type": "code",
   "execution_count": 153,
   "id": "bf575b74-6081-442f-bcb4-9e24ca5ac547",
   "metadata": {},
   "outputs": [],
   "source": [
    "assert unique_unique['iso_o'].nunique() == rp_agg['iso_o'].nunique() == non_cultural_unique_grouped['iso_o'].nunique()"
   ]
  },
  {
   "cell_type": "code",
   "execution_count": 154,
   "id": "34a3e637-15ad-450a-897a-a620c6049161",
   "metadata": {},
   "outputs": [],
   "source": [
    "assert unique_unique['iso_d'].nunique() == rp_agg['iso_d'].nunique() == non_cultural_unique_grouped['iso_d'].nunique()"
   ]
  },
  {
   "cell_type": "code",
   "execution_count": null,
   "id": "60457d01-5964-4521-bb17-77ed3b4fab76",
   "metadata": {},
   "outputs": [],
   "source": []
  }
 ],
 "metadata": {
  "kernelspec": {
   "display_name": "Python 3 (ipykernel)",
   "language": "python",
   "name": "python3"
  },
  "language_info": {
   "codemirror_mode": {
    "name": "ipython",
    "version": 3
   },
   "file_extension": ".py",
   "mimetype": "text/x-python",
   "name": "python",
   "nbconvert_exporter": "python",
   "pygments_lexer": "ipython3",
   "version": "3.12.7"
  }
 },
 "nbformat": 4,
 "nbformat_minor": 5
}
