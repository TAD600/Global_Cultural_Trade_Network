{
 "cells": [
  {
   "cell_type": "code",
   "execution_count": 1,
   "id": "ea7f7ee8-0c34-40c5-88bf-98452c174dce",
   "metadata": {},
   "outputs": [],
   "source": [
    "import pandas as pd"
   ]
  },
  {
   "cell_type": "code",
   "execution_count": 28,
   "id": "e5a44f14-6d62-4e0b-8315-a6ef656487d0",
   "metadata": {},
   "outputs": [],
   "source": [
    "common = pd.read_csv('../data/raw/fixed_dyadic_variables.csv')"
   ]
  },
  {
   "cell_type": "code",
   "execution_count": 29,
   "id": "ac4b1fe8-067c-456f-8f3f-54a2172f579f",
   "metadata": {},
   "outputs": [
    {
     "data": {
      "text/plain": [
       "(50176, 7)"
      ]
     },
     "execution_count": 29,
     "metadata": {},
     "output_type": "execute_result"
    }
   ],
   "source": [
    "common.shape"
   ]
  },
  {
   "cell_type": "code",
   "execution_count": 31,
   "id": "2f000e84-c316-4bd8-8023-00aad3d08159",
   "metadata": {},
   "outputs": [],
   "source": [
    "# removing self_loops\n",
    "common_unique = common[common['iso_o'] != common['iso_d']]"
   ]
  },
  {
   "cell_type": "code",
   "execution_count": 32,
   "id": "ef12900a-3066-4c76-bed7-454ac828af09",
   "metadata": {},
   "outputs": [
    {
     "data": {
      "text/plain": [
       "(49952, 7)"
      ]
     },
     "execution_count": 32,
     "metadata": {},
     "output_type": "execute_result"
    }
   ],
   "source": [
    "# reduced 224 rows \n",
    "common_unique.shape "
   ]
  },
  {
   "cell_type": "code",
   "execution_count": 33,
   "id": "047cdbee-bf04-401d-a4f8-0b83e492e66e",
   "metadata": {},
   "outputs": [
    {
     "data": {
      "text/html": [
       "<div>\n",
       "<style scoped>\n",
       "    .dataframe tbody tr th:only-of-type {\n",
       "        vertical-align: middle;\n",
       "    }\n",
       "\n",
       "    .dataframe tbody tr th {\n",
       "        vertical-align: top;\n",
       "    }\n",
       "\n",
       "    .dataframe thead th {\n",
       "        text-align: right;\n",
       "    }\n",
       "</style>\n",
       "<table border=\"1\" class=\"dataframe\">\n",
       "  <thead>\n",
       "    <tr style=\"text-align: right;\">\n",
       "      <th></th>\n",
       "      <th>iso_o</th>\n",
       "      <th>iso_d</th>\n",
       "      <th>contig</th>\n",
       "      <th>comlang_off</th>\n",
       "      <th>colony</th>\n",
       "      <th>comcol</th>\n",
       "      <th>dist</th>\n",
       "    </tr>\n",
       "  </thead>\n",
       "  <tbody>\n",
       "    <tr>\n",
       "      <th>1</th>\n",
       "      <td>ABW</td>\n",
       "      <td>AFG</td>\n",
       "      <td>0</td>\n",
       "      <td>0</td>\n",
       "      <td>0</td>\n",
       "      <td>0</td>\n",
       "      <td>13257.81400</td>\n",
       "    </tr>\n",
       "    <tr>\n",
       "      <th>2</th>\n",
       "      <td>ABW</td>\n",
       "      <td>AGO</td>\n",
       "      <td>0</td>\n",
       "      <td>0</td>\n",
       "      <td>0</td>\n",
       "      <td>0</td>\n",
       "      <td>9516.91310</td>\n",
       "    </tr>\n",
       "    <tr>\n",
       "      <th>3</th>\n",
       "      <td>ABW</td>\n",
       "      <td>AIA</td>\n",
       "      <td>0</td>\n",
       "      <td>0</td>\n",
       "      <td>0</td>\n",
       "      <td>0</td>\n",
       "      <td>983.26825</td>\n",
       "    </tr>\n",
       "    <tr>\n",
       "      <th>4</th>\n",
       "      <td>ABW</td>\n",
       "      <td>ALB</td>\n",
       "      <td>0</td>\n",
       "      <td>0</td>\n",
       "      <td>0</td>\n",
       "      <td>0</td>\n",
       "      <td>9091.74220</td>\n",
       "    </tr>\n",
       "    <tr>\n",
       "      <th>5</th>\n",
       "      <td>ABW</td>\n",
       "      <td>AND</td>\n",
       "      <td>0</td>\n",
       "      <td>1</td>\n",
       "      <td>0</td>\n",
       "      <td>0</td>\n",
       "      <td>7572.78810</td>\n",
       "    </tr>\n",
       "  </tbody>\n",
       "</table>\n",
       "</div>"
      ],
      "text/plain": [
       "  iso_o iso_d  contig  comlang_off  colony  comcol         dist\n",
       "1   ABW   AFG       0            0       0       0  13257.81400\n",
       "2   ABW   AGO       0            0       0       0   9516.91310\n",
       "3   ABW   AIA       0            0       0       0    983.26825\n",
       "4   ABW   ALB       0            0       0       0   9091.74220\n",
       "5   ABW   AND       0            1       0       0   7572.78810"
      ]
     },
     "execution_count": 33,
     "metadata": {},
     "output_type": "execute_result"
    }
   ],
   "source": [
    "common_unique.head()"
   ]
  },
  {
   "cell_type": "code",
   "execution_count": 8,
   "id": "71854fbd-e8f8-4724-b3f0-78a0cf695b1e",
   "metadata": {},
   "outputs": [],
   "source": [
    "common_unique.to_csv(\"../data/cleaned/dyads_fixed.csv\", encoding='utf-8', index=False)"
   ]
  },
  {
   "cell_type": "markdown",
   "id": "e1ecfe99-309e-40f1-9f6e-cb0690de36c1",
   "metadata": {},
   "source": [
    "### Node level fixed variables"
   ]
  },
  {
   "cell_type": "code",
   "execution_count": 9,
   "id": "efe0d543-81cf-43fc-be8d-4b2afe4b022c",
   "metadata": {},
   "outputs": [],
   "source": [
    "node = pd.read_csv('../data/raw/fixed_nodal_variables.csv', encoding='latin1')"
   ]
  },
  {
   "cell_type": "code",
   "execution_count": 10,
   "id": "31313c44-2006-4a7a-948b-73a506190317",
   "metadata": {},
   "outputs": [
    {
     "data": {
      "text/plain": [
       "(238, 9)"
      ]
     },
     "execution_count": 10,
     "metadata": {},
     "output_type": "execute_result"
    }
   ],
   "source": [
    "node.shape"
   ]
  },
  {
   "cell_type": "code",
   "execution_count": 11,
   "id": "02c15b2f-73ef-481f-b400-bce3c3d42b15",
   "metadata": {},
   "outputs": [],
   "source": [
    "# renaming the exporter column name to match it with the dyad level fixed variable data\n",
    "node = node.rename(columns = {'iso3': 'iso_o'})"
   ]
  },
  {
   "cell_type": "code",
   "execution_count": 12,
   "id": "d5bd74ae-9edb-4397-9dc3-30b6748058fe",
   "metadata": {},
   "outputs": [
    {
     "data": {
      "text/plain": [
       "Index(['iso2', 'iso_o', 'country', 'landlocked', 'continent', 'lat', 'lon',\n",
       "       'langoff_1', 'colonizer1'],\n",
       "      dtype='object')"
      ]
     },
     "execution_count": 12,
     "metadata": {},
     "output_type": "execute_result"
    }
   ],
   "source": [
    "node.columns"
   ]
  },
  {
   "cell_type": "code",
   "execution_count": 21,
   "id": "535c3291-20ea-44bc-aca2-04ebc92146ec",
   "metadata": {},
   "outputs": [
    {
     "data": {
      "text/plain": [
       "(13, 9)"
      ]
     },
     "execution_count": 21,
     "metadata": {},
     "output_type": "execute_result"
    }
   ],
   "source": [
    "# removing duplicates\n",
    "equivalent_columns = ['iso2', 'iso_o', 'country', 'landlocked', 'continent', 'langoff_1', 'colonizer1']\n",
    "duplicates = node.duplicated(subset = equivalent_columns, keep = 'last')\n",
    "node[duplicates].shape"
   ]
  },
  {
   "cell_type": "code",
   "execution_count": 22,
   "id": "ba92fa30-c639-4d69-b538-50538253be37",
   "metadata": {},
   "outputs": [
    {
     "data": {
      "text/plain": [
       "(225, 9)"
      ]
     },
     "execution_count": 22,
     "metadata": {},
     "output_type": "execute_result"
    }
   ],
   "source": [
    "node_unique = node[~duplicates]\n",
    "node_unique.shape"
   ]
  },
  {
   "cell_type": "code",
   "execution_count": 20,
   "id": "d573ae09-ff7c-47fa-9b2b-374b8e11fd70",
   "metadata": {},
   "outputs": [
    {
     "data": {
      "text/plain": [
       "225"
      ]
     },
     "execution_count": 20,
     "metadata": {},
     "output_type": "execute_result"
    }
   ],
   "source": [
    "node_unique['iso_o'].nunique()"
   ]
  },
  {
   "cell_type": "code",
   "execution_count": 24,
   "id": "7e005204-826b-4656-9287-1104fe075e9a",
   "metadata": {},
   "outputs": [],
   "source": [
    "# There is one country in the node level data which is not in the dyad level data\n",
    "difference = set(node_unique['iso_o']).difference(common_unique['iso_o'])"
   ]
  },
  {
   "cell_type": "code",
   "execution_count": 25,
   "id": "61804ac3-ccf3-42e8-b175-25c91b36246d",
   "metadata": {},
   "outputs": [
    {
     "data": {
      "text/plain": [
       "{'ATF'}"
      ]
     },
     "execution_count": 25,
     "metadata": {},
     "output_type": "execute_result"
    }
   ],
   "source": [
    "difference"
   ]
  },
  {
   "cell_type": "code",
   "execution_count": 26,
   "id": "6d8c8544-eab4-4ad1-966c-12df3661a023",
   "metadata": {},
   "outputs": [],
   "source": [
    "node_unique_matches = node_unique[node_unique['iso_o'] != 'ATF']"
   ]
  },
  {
   "cell_type": "code",
   "execution_count": 34,
   "id": "2c93bf65-3b1e-4c3f-8142-004cd0b3b232",
   "metadata": {},
   "outputs": [
    {
     "data": {
      "text/plain": [
       "(224, 9)"
      ]
     },
     "execution_count": 34,
     "metadata": {},
     "output_type": "execute_result"
    }
   ],
   "source": [
    "node_unique_matches.shape"
   ]
  },
  {
   "cell_type": "code",
   "execution_count": 36,
   "id": "37c1ef78-2d69-4f79-a77d-f4063b520c7f",
   "metadata": {},
   "outputs": [],
   "source": [
    "node_unique_matches.to_csv(\"../data/cleaned/nodal_fixed.csv\", encoding='utf-8', index=False)"
   ]
  },
  {
   "cell_type": "markdown",
   "id": "d0bc3767-1212-44c3-a795-392d74c455c0",
   "metadata": {},
   "source": [
    "### Merging the two datasets with time invariant factors"
   ]
  },
  {
   "cell_type": "code",
   "execution_count": 37,
   "id": "0cd43599-6550-4b3f-86be-955cdd698648",
   "metadata": {},
   "outputs": [],
   "source": [
    "fixed = common_unique.merge(node_unique_matches, on = 'iso_o')"
   ]
  },
  {
   "cell_type": "code",
   "execution_count": 55,
   "id": "a3daa399-ab26-4ec2-b843-0eddce992027",
   "metadata": {},
   "outputs": [],
   "source": [
    "assert fixed.shape[0] == common_unique.shape[0]"
   ]
  },
  {
   "cell_type": "code",
   "execution_count": 56,
   "id": "16b53668-140b-4aa8-9beb-4710c0d91ff1",
   "metadata": {},
   "outputs": [
    {
     "data": {
      "text/plain": [
       "True"
      ]
     },
     "execution_count": 56,
     "metadata": {},
     "output_type": "execute_result"
    }
   ],
   "source": [
    "common_unique['iso_o'].nunique() == fixed['iso_o'].nunique() == node_unique_matches['iso_o'].nunique()"
   ]
  },
  {
   "cell_type": "code",
   "execution_count": 57,
   "id": "8d4c0a19-8369-415b-a23b-345b43fd68f4",
   "metadata": {},
   "outputs": [
    {
     "data": {
      "text/plain": [
       "(49952, 15)"
      ]
     },
     "execution_count": 57,
     "metadata": {},
     "output_type": "execute_result"
    }
   ],
   "source": [
    "fixed.shape"
   ]
  },
  {
   "cell_type": "code",
   "execution_count": 58,
   "id": "6a757634-18e9-4179-a0f6-25a25a2a072a",
   "metadata": {},
   "outputs": [],
   "source": [
    "# This dataset of time invariant variables will be used both in forming networks and in the gravity model estimation\n",
    "fixed.to_csv(\"../data/cleaned/fixed.csv\", encoding='utf-8', index=False)"
   ]
  },
  {
   "cell_type": "code",
   "execution_count": null,
   "id": "b0903367-df17-42f4-a30c-b23724d3f70f",
   "metadata": {},
   "outputs": [],
   "source": []
  }
 ],
 "metadata": {
  "kernelspec": {
   "display_name": "Python 3 (ipykernel)",
   "language": "python",
   "name": "python3"
  },
  "language_info": {
   "codemirror_mode": {
    "name": "ipython",
    "version": 3
   },
   "file_extension": ".py",
   "mimetype": "text/x-python",
   "name": "python",
   "nbconvert_exporter": "python",
   "pygments_lexer": "ipython3",
   "version": "3.12.7"
  }
 },
 "nbformat": 4,
 "nbformat_minor": 5
}
