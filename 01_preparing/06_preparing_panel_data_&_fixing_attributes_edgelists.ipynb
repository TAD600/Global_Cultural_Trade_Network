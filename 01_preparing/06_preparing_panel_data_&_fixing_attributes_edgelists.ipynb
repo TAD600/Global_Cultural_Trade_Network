{
 "cells": [
  {
   "cell_type": "code",
   "execution_count": 1,
   "id": "2c6ef0e1-8ef8-460c-9463-3cfc5b048aaf",
   "metadata": {},
   "outputs": [],
   "source": [
    "import pandas as pd"
   ]
  },
  {
   "cell_type": "markdown",
   "id": "ed7e93a9-cb41-460b-85da-aaa6d4807ded",
   "metadata": {},
   "source": [
    "#### Pruning the edgelists "
   ]
  },
  {
   "cell_type": "code",
   "execution_count": 2,
   "id": "0e171fc1-b897-4d5f-9a04-025a4a88bde9",
   "metadata": {},
   "outputs": [],
   "source": [
    "total = pd.read_csv(\"../data/cleaned/total_edgelist.csv\")\n",
    "unique = pd.read_csv(\"../data/cleaned/unique_edgelist.csv\")\n",
    "repro = pd.read_csv(\"../data/cleaned/reproducible_edgelist.csv\")\n",
    "total_hyst = pd.read_csv(\"../data/cleaned/edgelist_total_hyst.csv\")\n",
    "unique_hyst = pd.read_csv(\"../data/cleaned/edgelist_unique_hyst.csv\")\n",
    "repro_hyst = pd.read_csv(\"../data/cleaned/edgelist_repro_hyst.csv\")\n",
    "distance = pd.read_csv(\"../data/cleaned/distance_edgelist.csv\")\n",
    "colony = pd.read_csv(\"../data/cleaned/colonizer_edgelist.csv\")\n",
    "comcol = pd.read_csv(\"../data/cleaned/comcol_edgelist.csv\")\n",
    "language = pd.read_csv(\"../data/cleaned/language_edgelist.csv\")\n",
    "contiguity = pd.read_csv(\"../data/cleaned/contiguity_edgelist.csv\")\n",
    "rta = pd.read_csv(\"../data/cleaned/rta_edgelist.csv\")\n",
    "attribute2000_2023 = pd.read_csv(\"../data/cleaned/attributes2000_2023.csv\")"
   ]
  },
  {
   "cell_type": "code",
   "execution_count": 4,
   "id": "8382f70a-e16b-4b7c-9d72-183c899a902e",
   "metadata": {},
   "outputs": [
    {
     "name": "stdout",
     "output_type": "stream",
     "text": [
      "192\n",
      "192\n",
      "192\n",
      "192\n",
      "192\n",
      "192\n",
      "192\n",
      "192\n",
      "192\n",
      "192\n",
      "192\n",
      "280\n",
      "190\n"
     ]
    }
   ],
   "source": [
    "print(total['iso_o'].nunique())\n",
    "print(unique['iso_o'].nunique())\n",
    "print(repro['iso_o'].nunique())\n",
    "print(total_hyst['iso_o'].nunique())\n",
    "print(unique_hyst['iso_o'].nunique())\n",
    "print(repro_hyst['iso_o'].nunique())\n",
    "print(distance['iso_o'].nunique())\n",
    "print(colony['iso_o'].nunique())\n",
    "print(comcol['iso_o'].nunique())\n",
    "print(language['iso_o'].nunique())\n",
    "print(contiguity['iso_o'].nunique())\n",
    "print(rta['iso_o'].nunique())\n",
    "print(attribute2000_2023['iso_o'].nunique())"
   ]
  },
  {
   "cell_type": "markdown",
   "id": "520cdb03-89f6-4aa2-9d79-efdef667eaca",
   "metadata": {},
   "source": [
    "**I am keeping only the countries present in all edgelists and attribute datasets. Hence, I am conducting an inner join process.** \n",
    "\n",
    "The steps to prune the edgelists:\n",
    ">1. Finding out the countries those are not in the attributes edgelist.\n",
    ">2. Removing those countries from origin column ['iso_o'].\n",
    ">3. Removing those countries from destination column ['iso_d'].\n",
    ">4. Checking whether the countries in the origin and destination of an edgelist are same\n",
    ">5. Cheking whether the number of countries in the origin and destination of an edgelist are same\n",
    ">6. Replacing the original edgelist saved in the 'cleaned' subfolder of 'data' folder by saving it with the same name as "
   ]
  },
  {
   "cell_type": "markdown",
   "id": "6f28e0f9-0d96-46fc-88ae-e975aa22798e",
   "metadata": {},
   "source": [
    "* Total"
   ]
  },
  {
   "cell_type": "code",
   "execution_count": 5,
   "id": "d666a461-88df-4c94-98ec-560df2723096",
   "metadata": {},
   "outputs": [
    {
     "data": {
      "text/plain": [
       "{'MSR', 'TWN'}"
      ]
     },
     "execution_count": 5,
     "metadata": {},
     "output_type": "execute_result"
    }
   ],
   "source": [
    "set(total['iso_o'].unique()) - set(attribute2000_2023['iso_o'].unique())"
   ]
  },
  {
   "cell_type": "code",
   "execution_count": 6,
   "id": "396c2cc9-972b-4863-8c76-3d3bfe5409d7",
   "metadata": {},
   "outputs": [],
   "source": [
    "total = total[(total['iso_o'] != 'MSR') & (total['iso_o'] != 'TWN')]\n",
    "total = total[(total['iso_d'] != 'MSR') & (total['iso_d'] != 'TWN')]"
   ]
  },
  {
   "cell_type": "code",
   "execution_count": 7,
   "id": "19829c60-55c9-496e-98a4-b0d24b6d522c",
   "metadata": {},
   "outputs": [
    {
     "data": {
      "text/plain": [
       "set()"
      ]
     },
     "execution_count": 7,
     "metadata": {},
     "output_type": "execute_result"
    }
   ],
   "source": [
    "set(total['iso_o'].unique()) - set(total['iso_o'].unique())"
   ]
  },
  {
   "cell_type": "code",
   "execution_count": 8,
   "id": "cc5f2f8c-9ff6-4cd1-b87b-e7ec1124e6d9",
   "metadata": {},
   "outputs": [
    {
     "name": "stdout",
     "output_type": "stream",
     "text": [
      "190\n",
      "190\n"
     ]
    }
   ],
   "source": [
    "print(total['iso_o'].nunique())\n",
    "print(total['iso_d'].nunique())"
   ]
  },
  {
   "cell_type": "code",
   "execution_count": 9,
   "id": "88e9f065-6cb8-4981-90d8-cf451fc099ca",
   "metadata": {},
   "outputs": [],
   "source": [
    "total.to_csv(\"../data/cleaned/total_edgelist.csv\", encoding = 'utf-8', index = False)"
   ]
  },
  {
   "cell_type": "code",
   "execution_count": 10,
   "id": "b6b9b720-0530-4f24-87d8-f6369595bed4",
   "metadata": {},
   "outputs": [
    {
     "data": {
      "text/plain": [
       "{'MSR', 'TWN'}"
      ]
     },
     "execution_count": 10,
     "metadata": {},
     "output_type": "execute_result"
    }
   ],
   "source": [
    "set(total_hyst['iso_o'].unique()) - set(attribute2000_2023['iso_o'].unique())"
   ]
  },
  {
   "cell_type": "code",
   "execution_count": 11,
   "id": "02081fbb-3556-43f2-8120-b13f091035a5",
   "metadata": {},
   "outputs": [],
   "source": [
    "total_hyst = total_hyst[(total_hyst['iso_o'] != 'MSR') & (total_hyst['iso_o'] != 'TWN')]\n",
    "total_hyst = total_hyst[(total_hyst['iso_d'] != 'MSR') & (total_hyst['iso_d'] != 'TWN')]"
   ]
  },
  {
   "cell_type": "code",
   "execution_count": 12,
   "id": "740fc197-898e-4e09-8f77-f2efbaeea49d",
   "metadata": {},
   "outputs": [
    {
     "data": {
      "text/plain": [
       "set()"
      ]
     },
     "execution_count": 12,
     "metadata": {},
     "output_type": "execute_result"
    }
   ],
   "source": [
    "set(total_hyst['iso_o'].unique()) - set(attribute2000_2023['iso_o'].unique())"
   ]
  },
  {
   "cell_type": "code",
   "execution_count": 13,
   "id": "56f0d218-7441-4e30-90d8-a75caecac2ee",
   "metadata": {},
   "outputs": [
    {
     "name": "stdout",
     "output_type": "stream",
     "text": [
      "190\n",
      "190\n"
     ]
    }
   ],
   "source": [
    "print(total_hyst['iso_o'].nunique())\n",
    "print(total_hyst['iso_d'].nunique())"
   ]
  },
  {
   "cell_type": "code",
   "execution_count": 14,
   "id": "888b511f-a289-4efc-8e07-ba7bd2c07685",
   "metadata": {},
   "outputs": [],
   "source": [
    "total_hyst.to_csv(\"../data/cleaned/edgelist_total_hyst.csv\", encoding = 'utf-8', index = False)"
   ]
  },
  {
   "cell_type": "markdown",
   "id": "d9b068e7-abd7-4f1d-a4ee-2d06f8b300f2",
   "metadata": {},
   "source": [
    "* Unique"
   ]
  },
  {
   "cell_type": "code",
   "execution_count": 15,
   "id": "462eabcc-8e66-4043-829c-dd071cb72f90",
   "metadata": {},
   "outputs": [
    {
     "data": {
      "text/plain": [
       "{'MSR', 'TWN'}"
      ]
     },
     "execution_count": 15,
     "metadata": {},
     "output_type": "execute_result"
    }
   ],
   "source": [
    "set(unique['iso_o'].unique()) - set(attribute2000_2023['iso_o'].unique())"
   ]
  },
  {
   "cell_type": "code",
   "execution_count": 16,
   "id": "3e4b9a47-6805-449c-b838-200f7a40a894",
   "metadata": {},
   "outputs": [],
   "source": [
    "unique = unique[(unique['iso_o'] != 'MSR') & (unique['iso_o'] != 'TWN')]\n",
    "unique = unique[(unique['iso_d'] != 'MSR') & (unique['iso_d'] != 'TWN')]"
   ]
  },
  {
   "cell_type": "code",
   "execution_count": 17,
   "id": "29bf7900-1fb7-47e9-a84c-b52ea0598d81",
   "metadata": {},
   "outputs": [
    {
     "data": {
      "text/plain": [
       "set()"
      ]
     },
     "execution_count": 17,
     "metadata": {},
     "output_type": "execute_result"
    }
   ],
   "source": [
    "set(unique['iso_o'].unique()) - set(unique['iso_o'].unique())"
   ]
  },
  {
   "cell_type": "code",
   "execution_count": 18,
   "id": "827f2b67-207f-4cee-b052-0e11edd73f0a",
   "metadata": {},
   "outputs": [
    {
     "name": "stdout",
     "output_type": "stream",
     "text": [
      "190\n",
      "190\n"
     ]
    }
   ],
   "source": [
    "print(unique['iso_o'].nunique())\n",
    "print(unique['iso_d'].nunique())"
   ]
  },
  {
   "cell_type": "code",
   "execution_count": 19,
   "id": "cd286594-322f-47ca-9e3e-9838aaa46371",
   "metadata": {},
   "outputs": [],
   "source": [
    "unique.to_csv(\"../data/cleaned/unique_edgelist.csv\", encoding = 'utf-8', index = False)"
   ]
  },
  {
   "cell_type": "code",
   "execution_count": 20,
   "id": "2ea68d86-99ce-4460-bfe6-a8d195f79def",
   "metadata": {},
   "outputs": [
    {
     "data": {
      "text/plain": [
       "{'MSR', 'TWN'}"
      ]
     },
     "execution_count": 20,
     "metadata": {},
     "output_type": "execute_result"
    }
   ],
   "source": [
    "set(unique_hyst['iso_o'].unique()) - set(attribute2000_2023['iso_o'].unique())"
   ]
  },
  {
   "cell_type": "code",
   "execution_count": 21,
   "id": "863c4200-5399-4f61-9818-e9cf3e42491a",
   "metadata": {},
   "outputs": [],
   "source": [
    "unique_hyst = unique_hyst[(unique_hyst['iso_o'] != 'MSR') & (unique_hyst['iso_o'] != 'TWN')]\n",
    "unique_hyst = unique_hyst[(unique_hyst['iso_d'] != 'MSR') & (unique_hyst['iso_d'] != 'TWN')]"
   ]
  },
  {
   "cell_type": "code",
   "execution_count": 22,
   "id": "a76dd130-e14b-47e7-ad71-5cefb363f608",
   "metadata": {},
   "outputs": [
    {
     "data": {
      "text/plain": [
       "set()"
      ]
     },
     "execution_count": 22,
     "metadata": {},
     "output_type": "execute_result"
    }
   ],
   "source": [
    "set(unique_hyst['iso_o'].unique()) - set(attribute2000_2023['iso_o'].unique())"
   ]
  },
  {
   "cell_type": "code",
   "execution_count": 23,
   "id": "cf9ab689-1545-4b5d-8664-b6d46a4365fe",
   "metadata": {},
   "outputs": [
    {
     "name": "stdout",
     "output_type": "stream",
     "text": [
      "190\n",
      "190\n"
     ]
    }
   ],
   "source": [
    "print(unique_hyst['iso_o'].nunique())\n",
    "print(unique_hyst['iso_d'].nunique())"
   ]
  },
  {
   "cell_type": "code",
   "execution_count": 24,
   "id": "0905717c-64a6-4b63-82a6-aaeb56a90733",
   "metadata": {},
   "outputs": [],
   "source": [
    "unique_hyst.to_csv(\"../data/cleaned/edgelist_unique_hyst.csv\", encoding = 'utf-8', index = False)"
   ]
  },
  {
   "cell_type": "markdown",
   "id": "64f6e744-88c2-4209-a3d9-f3c3a936bfbb",
   "metadata": {},
   "source": [
    "* Reproducible"
   ]
  },
  {
   "cell_type": "code",
   "execution_count": 25,
   "id": "047b5847-ef0a-418a-b132-6c5c343b7fd0",
   "metadata": {},
   "outputs": [
    {
     "data": {
      "text/plain": [
       "{'MSR', 'TWN'}"
      ]
     },
     "execution_count": 25,
     "metadata": {},
     "output_type": "execute_result"
    }
   ],
   "source": [
    "set(repro['iso_o'].unique()) - set(attribute2000_2023['iso_o'].unique())"
   ]
  },
  {
   "cell_type": "code",
   "execution_count": 26,
   "id": "e704c0d5-1776-4fde-95eb-ed01c1427aa8",
   "metadata": {},
   "outputs": [],
   "source": [
    "repro = repro[(repro['iso_o'] != 'MSR') & (repro['iso_o'] != 'TWN')]\n",
    "repro = repro[(repro['iso_d'] != 'MSR') & (repro['iso_d'] != 'TWN')]"
   ]
  },
  {
   "cell_type": "code",
   "execution_count": 27,
   "id": "c41b9783-096d-456f-9030-df240b78011e",
   "metadata": {},
   "outputs": [
    {
     "data": {
      "text/plain": [
       "set()"
      ]
     },
     "execution_count": 27,
     "metadata": {},
     "output_type": "execute_result"
    }
   ],
   "source": [
    "set(repro['iso_o'].unique()) - set(unique['iso_o'].unique())"
   ]
  },
  {
   "cell_type": "code",
   "execution_count": 28,
   "id": "ba00e1e1-4a0d-4d6d-bd66-cfa1740a2b20",
   "metadata": {},
   "outputs": [
    {
     "name": "stdout",
     "output_type": "stream",
     "text": [
      "190\n",
      "190\n"
     ]
    }
   ],
   "source": [
    "print(repro['iso_o'].nunique())\n",
    "print(repro['iso_d'].nunique())"
   ]
  },
  {
   "cell_type": "code",
   "execution_count": 29,
   "id": "85e7d8d1-381f-41a3-9538-ee19088cc085",
   "metadata": {},
   "outputs": [],
   "source": [
    "repro.to_csv(\"../data/cleaned/reproducible_edgelist.csv\", encoding = 'utf-8', index = False)"
   ]
  },
  {
   "cell_type": "code",
   "execution_count": 30,
   "id": "7991e6b3-0060-4580-8c5d-fa3cfe0b31f8",
   "metadata": {},
   "outputs": [
    {
     "data": {
      "text/plain": [
       "{'MSR', 'TWN'}"
      ]
     },
     "execution_count": 30,
     "metadata": {},
     "output_type": "execute_result"
    }
   ],
   "source": [
    "set(repro_hyst['iso_o'].unique()) - set(attribute2000_2023['iso_o'].unique())"
   ]
  },
  {
   "cell_type": "code",
   "execution_count": 31,
   "id": "a6e26641-2998-4831-ac28-18755a39dfa9",
   "metadata": {},
   "outputs": [],
   "source": [
    "repro_hyst = repro_hyst[(repro_hyst['iso_o'] != 'MSR') & (repro_hyst['iso_o'] != 'TWN')]\n",
    "repro_hyst = repro_hyst[(repro_hyst['iso_d'] != 'MSR') & (repro_hyst['iso_d'] != 'TWN')]"
   ]
  },
  {
   "cell_type": "code",
   "execution_count": 32,
   "id": "0668cfc4-e8b6-47ea-b6ab-cb72395be639",
   "metadata": {},
   "outputs": [
    {
     "data": {
      "text/plain": [
       "set()"
      ]
     },
     "execution_count": 32,
     "metadata": {},
     "output_type": "execute_result"
    }
   ],
   "source": [
    "set(repro_hyst['iso_o'].unique()) - set(unique['iso_o'].unique())"
   ]
  },
  {
   "cell_type": "code",
   "execution_count": 33,
   "id": "46ccbd05-97ea-456b-8a31-8f344fb9bf22",
   "metadata": {},
   "outputs": [
    {
     "name": "stdout",
     "output_type": "stream",
     "text": [
      "190\n",
      "190\n"
     ]
    }
   ],
   "source": [
    "print(repro_hyst['iso_o'].nunique())\n",
    "print(repro_hyst['iso_d'].nunique())"
   ]
  },
  {
   "cell_type": "code",
   "execution_count": 35,
   "id": "f054a823-7505-4496-8be2-2678c47bb6f3",
   "metadata": {},
   "outputs": [],
   "source": [
    "repro_hyst.to_csv(\"../data/cleaned/edgelist_repro_hyst.csv\", encoding = 'utf-8', index = False)"
   ]
  },
  {
   "cell_type": "markdown",
   "id": "4fa906a9-ee63-4410-87a8-9e3f9f71361f",
   "metadata": {},
   "source": [
    "* Distance"
   ]
  },
  {
   "cell_type": "code",
   "execution_count": 36,
   "id": "fdc2004e-0581-47cb-a938-e13e44aaf7bc",
   "metadata": {},
   "outputs": [
    {
     "data": {
      "text/plain": [
       "{'MSR', 'TWN'}"
      ]
     },
     "execution_count": 36,
     "metadata": {},
     "output_type": "execute_result"
    }
   ],
   "source": [
    "set(distance['iso_o'].unique()) - set(attribute2000_2023['iso_o'].unique())"
   ]
  },
  {
   "cell_type": "code",
   "execution_count": 37,
   "id": "b2196b9d-edc3-4d26-bc94-3693a70b02b7",
   "metadata": {},
   "outputs": [],
   "source": [
    "distance = distance[(distance['iso_o'] != 'MSR') & (distance['iso_o'] != 'TWN')]\n",
    "distance = distance[(distance['iso_d'] != 'MSR') & (distance['iso_d'] != 'TWN')]"
   ]
  },
  {
   "cell_type": "code",
   "execution_count": 38,
   "id": "f59c31f5-68d2-4e95-99dc-ffd91b157ecc",
   "metadata": {},
   "outputs": [
    {
     "data": {
      "text/plain": [
       "set()"
      ]
     },
     "execution_count": 38,
     "metadata": {},
     "output_type": "execute_result"
    }
   ],
   "source": [
    "set(distance['iso_o'].unique()) - set(distance['iso_o'].unique())"
   ]
  },
  {
   "cell_type": "code",
   "execution_count": 39,
   "id": "3297decc-97ad-4afa-a076-67a660445993",
   "metadata": {},
   "outputs": [
    {
     "name": "stdout",
     "output_type": "stream",
     "text": [
      "190\n",
      "190\n"
     ]
    }
   ],
   "source": [
    "print(distance['iso_o'].nunique())\n",
    "print(distance['iso_d'].nunique())"
   ]
  },
  {
   "cell_type": "code",
   "execution_count": 40,
   "id": "a2574987-e7c0-4460-b820-d4f9ed1699a8",
   "metadata": {},
   "outputs": [],
   "source": [
    "distance.to_csv(\"../data/cleaned/distance_edgelist.csv\", encoding = 'utf-8', index = False)"
   ]
  },
  {
   "cell_type": "markdown",
   "id": "bb926b9a-ce6f-4d7a-a6dc-b3151c4dbf46",
   "metadata": {},
   "source": [
    "* Contiguity"
   ]
  },
  {
   "cell_type": "code",
   "execution_count": 41,
   "id": "192d946e-9248-459c-bb0d-614631c2a412",
   "metadata": {},
   "outputs": [
    {
     "data": {
      "text/plain": [
       "{'MSR', 'TWN'}"
      ]
     },
     "execution_count": 41,
     "metadata": {},
     "output_type": "execute_result"
    }
   ],
   "source": [
    "set(contiguity['iso_o'].unique()) - set(attribute2000_2023['iso_o'].unique())"
   ]
  },
  {
   "cell_type": "code",
   "execution_count": 42,
   "id": "7a0acc69-23c8-4803-9f25-73479e7ce1eb",
   "metadata": {},
   "outputs": [],
   "source": [
    "contiguity = contiguity[(contiguity['iso_o'] != 'MSR') & (contiguity['iso_o'] != 'TWN')]\n",
    "contiguity = contiguity[(contiguity['iso_d'] != 'MSR') & (contiguity['iso_d'] != 'TWN')]"
   ]
  },
  {
   "cell_type": "code",
   "execution_count": 43,
   "id": "e2987e6b-a4a1-4d8a-a752-1436bc9da003",
   "metadata": {},
   "outputs": [
    {
     "data": {
      "text/plain": [
       "set()"
      ]
     },
     "execution_count": 43,
     "metadata": {},
     "output_type": "execute_result"
    }
   ],
   "source": [
    "set(contiguity['iso_o'].unique()) - set(contiguity['iso_o'].unique())"
   ]
  },
  {
   "cell_type": "code",
   "execution_count": 44,
   "id": "c708efa8-a667-4cfe-88e6-602f6a3acb43",
   "metadata": {},
   "outputs": [
    {
     "name": "stdout",
     "output_type": "stream",
     "text": [
      "190\n",
      "190\n"
     ]
    }
   ],
   "source": [
    "print(contiguity['iso_o'].nunique())\n",
    "print(contiguity['iso_d'].nunique())"
   ]
  },
  {
   "cell_type": "code",
   "execution_count": 45,
   "id": "0eba6182-27fe-41dd-8002-20e5930a0054",
   "metadata": {},
   "outputs": [],
   "source": [
    "contiguity.to_csv(\"../data/cleaned/contiguity_edgelist.csv\", encoding = 'utf-8', index = False)"
   ]
  },
  {
   "cell_type": "markdown",
   "id": "778b3fef-0cfd-498d-b258-16fb75cca2d7",
   "metadata": {},
   "source": [
    "* Colonizer"
   ]
  },
  {
   "cell_type": "code",
   "execution_count": 46,
   "id": "97f605a7-c2da-4fa1-8623-7d4fe06f6955",
   "metadata": {},
   "outputs": [
    {
     "data": {
      "text/plain": [
       "{'MSR', 'TWN'}"
      ]
     },
     "execution_count": 46,
     "metadata": {},
     "output_type": "execute_result"
    }
   ],
   "source": [
    "set(colony['iso_o'].unique()) - set(attribute2000_2023['iso_o'].unique())"
   ]
  },
  {
   "cell_type": "code",
   "execution_count": 47,
   "id": "14abf70d-5819-46f5-83f8-6b3e93601c07",
   "metadata": {},
   "outputs": [],
   "source": [
    "colony = colony[(colony['iso_o'] != 'MSR') & (colony['iso_o'] != 'TWN')]\n",
    "colony = colony[(colony['iso_d'] != 'MSR') & (colony['iso_d'] != 'TWN')]"
   ]
  },
  {
   "cell_type": "code",
   "execution_count": 48,
   "id": "93fa1edc-2361-45a5-8978-64fffa1aec4b",
   "metadata": {},
   "outputs": [
    {
     "data": {
      "text/plain": [
       "set()"
      ]
     },
     "execution_count": 48,
     "metadata": {},
     "output_type": "execute_result"
    }
   ],
   "source": [
    "set(colony['iso_o'].unique()) - set(colony['iso_o'].unique())"
   ]
  },
  {
   "cell_type": "code",
   "execution_count": 49,
   "id": "66f99da4-8b2d-4e7f-8f69-324c10eb38c2",
   "metadata": {},
   "outputs": [
    {
     "name": "stdout",
     "output_type": "stream",
     "text": [
      "190\n",
      "190\n"
     ]
    }
   ],
   "source": [
    "print(colony['iso_o'].nunique())\n",
    "print(colony['iso_d'].nunique())"
   ]
  },
  {
   "cell_type": "code",
   "execution_count": 50,
   "id": "d8516500-ae13-473b-a374-fe3769e25818",
   "metadata": {},
   "outputs": [],
   "source": [
    "colony.to_csv(\"../data/cleaned/colonizer_edgelist.csv\", encoding = 'utf-8', index = False)"
   ]
  },
  {
   "cell_type": "markdown",
   "id": "5666cd50-bbbe-4726-8238-672466bab3b4",
   "metadata": {},
   "source": [
    "* Common Colonizer"
   ]
  },
  {
   "cell_type": "code",
   "execution_count": 51,
   "id": "e0425462-9e06-47e8-8b7d-e66b827791e2",
   "metadata": {},
   "outputs": [
    {
     "data": {
      "text/plain": [
       "{'MSR', 'TWN'}"
      ]
     },
     "execution_count": 51,
     "metadata": {},
     "output_type": "execute_result"
    }
   ],
   "source": [
    "set(comcol['iso_o'].unique()) - set(attribute2000_2023['iso_o'].unique())"
   ]
  },
  {
   "cell_type": "code",
   "execution_count": 52,
   "id": "48f521f8-e907-4673-a044-259f550ad91a",
   "metadata": {},
   "outputs": [],
   "source": [
    "comcol = comcol[(comcol['iso_o'] != 'MSR') & (comcol['iso_o'] != 'TWN')]\n",
    "comcol = comcol[(comcol['iso_d'] != 'MSR') & (comcol['iso_d'] != 'TWN')]"
   ]
  },
  {
   "cell_type": "code",
   "execution_count": 53,
   "id": "9fe27c37-3012-45d2-bedf-2818405f3b81",
   "metadata": {},
   "outputs": [
    {
     "data": {
      "text/plain": [
       "set()"
      ]
     },
     "execution_count": 53,
     "metadata": {},
     "output_type": "execute_result"
    }
   ],
   "source": [
    "set(comcol['iso_o'].unique()) - set(comcol['iso_o'].unique())"
   ]
  },
  {
   "cell_type": "code",
   "execution_count": 54,
   "id": "a5f2597f-8003-4e5a-b48c-99e3feb8b0d7",
   "metadata": {},
   "outputs": [
    {
     "name": "stdout",
     "output_type": "stream",
     "text": [
      "190\n",
      "190\n"
     ]
    }
   ],
   "source": [
    "print(comcol['iso_o'].nunique())\n",
    "print(comcol['iso_d'].nunique())"
   ]
  },
  {
   "cell_type": "code",
   "execution_count": 55,
   "id": "ba295d4a-8792-4396-9dae-a44272d1ebe3",
   "metadata": {},
   "outputs": [],
   "source": [
    "comcol.to_csv(\"../data/cleaned/comcol_edgelist.csv\", encoding = 'utf-8', index = False)"
   ]
  },
  {
   "cell_type": "markdown",
   "id": "8dcb4bb1-51eb-4efc-beb0-80103c677545",
   "metadata": {},
   "source": [
    "* Language"
   ]
  },
  {
   "cell_type": "code",
   "execution_count": 56,
   "id": "8cc7cf1b-88b2-4d6c-9bc6-ff41ee46bde3",
   "metadata": {},
   "outputs": [
    {
     "data": {
      "text/plain": [
       "{'MSR', 'TWN'}"
      ]
     },
     "execution_count": 56,
     "metadata": {},
     "output_type": "execute_result"
    }
   ],
   "source": [
    "set(language['iso_o'].unique()) - set(attribute2000_2023['iso_o'].unique())"
   ]
  },
  {
   "cell_type": "code",
   "execution_count": 57,
   "id": "0f55e6e6-fa8f-4e9f-983e-fbb0711d1f0c",
   "metadata": {},
   "outputs": [],
   "source": [
    "language = language[(language['iso_o'] != 'MSR') & (language['iso_o'] != 'TWN')]\n",
    "language = language[(language['iso_d'] != 'MSR') & (language['iso_d'] != 'TWN')]"
   ]
  },
  {
   "cell_type": "code",
   "execution_count": 58,
   "id": "b55a5548-e6d9-483c-8542-2ba8436b266e",
   "metadata": {},
   "outputs": [
    {
     "data": {
      "text/plain": [
       "set()"
      ]
     },
     "execution_count": 58,
     "metadata": {},
     "output_type": "execute_result"
    }
   ],
   "source": [
    "set(language['iso_o'].unique()) - set(language['iso_o'].unique())"
   ]
  },
  {
   "cell_type": "code",
   "execution_count": 59,
   "id": "84d4706e-e346-43a9-9d6e-07cd1c24d036",
   "metadata": {},
   "outputs": [
    {
     "name": "stdout",
     "output_type": "stream",
     "text": [
      "190\n",
      "190\n"
     ]
    }
   ],
   "source": [
    "print(language['iso_o'].nunique())\n",
    "print(language['iso_d'].nunique())"
   ]
  },
  {
   "cell_type": "code",
   "execution_count": 60,
   "id": "a572402f-0704-4518-86e0-0388ca39e43e",
   "metadata": {},
   "outputs": [],
   "source": [
    "language.to_csv(\"../data/cleaned/language_edgelist.csv\", encoding = 'utf-8', index = False)"
   ]
  },
  {
   "cell_type": "markdown",
   "id": "d37076b0-73a8-444f-be57-851565dca501",
   "metadata": {},
   "source": [
    "* RTA"
   ]
  },
  {
   "cell_type": "code",
   "execution_count": 61,
   "id": "6eadc1e0-7bc8-4de4-9448-e889b5583d7a",
   "metadata": {},
   "outputs": [],
   "source": [
    "l = set(rta['iso_o'].unique()) - set(attribute2000_2023['iso_o'].unique())"
   ]
  },
  {
   "cell_type": "code",
   "execution_count": 62,
   "id": "fc2baf0b-0b46-4dac-afc6-2b1b7290fb23",
   "metadata": {},
   "outputs": [
    {
     "data": {
      "text/plain": [
       "90"
      ]
     },
     "execution_count": 62,
     "metadata": {},
     "output_type": "execute_result"
    }
   ],
   "source": [
    "len(l)"
   ]
  },
  {
   "cell_type": "code",
   "execution_count": 63,
   "id": "9f7d430c-2c0d-40b0-97eb-7e1acd9d67fe",
   "metadata": {},
   "outputs": [
    {
     "data": {
      "text/plain": [
       "190"
      ]
     },
     "execution_count": 63,
     "metadata": {},
     "output_type": "execute_result"
    }
   ],
   "source": [
    "280 - 90"
   ]
  },
  {
   "cell_type": "code",
   "execution_count": 64,
   "id": "33f98875-a0fa-4d9c-abbe-364a22fa3aa5",
   "metadata": {},
   "outputs": [],
   "source": [
    "rta = rta[~rta['iso_o'].isin(l)]\n",
    "rta = rta[~rta['iso_d'].isin(l)]"
   ]
  },
  {
   "cell_type": "code",
   "execution_count": 65,
   "id": "6093824a-85b9-4dd2-b924-878e132787e0",
   "metadata": {},
   "outputs": [
    {
     "name": "stdout",
     "output_type": "stream",
     "text": [
      "190\n",
      "190\n"
     ]
    }
   ],
   "source": [
    "print(rta['iso_o'].nunique())\n",
    "print(rta['iso_d'].nunique())"
   ]
  },
  {
   "cell_type": "code",
   "execution_count": 66,
   "id": "d4314d19-4a46-42a1-aa72-903696d42000",
   "metadata": {},
   "outputs": [],
   "source": [
    "rta.to_csv(\"../data/cleaned/rta_edgelist.csv\", encoding = 'utf-8', index = False)"
   ]
  },
  {
   "cell_type": "code",
   "execution_count": 67,
   "id": "1913aa02-9620-4642-b919-3c53db5162d0",
   "metadata": {},
   "outputs": [],
   "source": [
    "assert rta['iso_o'].nunique() == total['iso_o'].nunique() == unique['iso_o'].nunique() == repro['iso_o'].nunique() == distance['iso_o'].nunique() == comcol['iso_o'].nunique() == colony['iso_o'].nunique() == language['iso_o'].nunique() == contiguity['iso_o'].nunique() == attribute2000_2023['iso_o'].nunique() "
   ]
  },
  {
   "cell_type": "code",
   "execution_count": 68,
   "id": "46e5b37b-a8cc-460a-bc12-fd2bedecb9fb",
   "metadata": {},
   "outputs": [],
   "source": [
    "assert rta['iso_d'].nunique() == total['iso_d'].nunique() == unique['iso_d'].nunique() == repro['iso_d'].nunique() == distance['iso_d'].nunique() == comcol['iso_d'].nunique() == colony['iso_d'].nunique() == language['iso_d'].nunique() == contiguity['iso_d'].nunique()"
   ]
  },
  {
   "cell_type": "code",
   "execution_count": 69,
   "id": "80a8e163-e49b-4078-b537-6fe2f63cf3f7",
   "metadata": {},
   "outputs": [],
   "source": [
    "assert set(rta['iso_d'].unique()) == set(total['iso_d'].unique()) == set(unique['iso_d'].unique()) == set(repro['iso_d'].unique()) == set(distance['iso_d'].unique()) == set(comcol['iso_d'].unique()) == set(colony['iso_d'].unique()) == set(language['iso_d'].unique()) == set(contiguity['iso_d'].unique())"
   ]
  },
  {
   "cell_type": "code",
   "execution_count": 70,
   "id": "ca30fb5a-47ba-4513-b374-4fed85360066",
   "metadata": {},
   "outputs": [],
   "source": [
    "assert set(rta['iso_o'].unique()) == set(total['iso_o'].unique()) == set(unique['iso_o'].unique()) == set(repro['iso_o'].unique()) == set(distance['iso_o'].unique()) == set(comcol['iso_o'].unique()) == set(colony['iso_o'].unique()) == set(language['iso_o'].unique()) == set(contiguity['iso_o'].unique())"
   ]
  },
  {
   "cell_type": "code",
   "execution_count": 71,
   "id": "7ddc45b4-bdca-482f-b5c9-4008ae54a36a",
   "metadata": {},
   "outputs": [
    {
     "name": "stdout",
     "output_type": "stream",
     "text": [
      "190\n",
      "190\n",
      "190\n",
      "190\n",
      "190\n",
      "190\n",
      "190\n",
      "190\n",
      "190\n",
      "190\n",
      "190\n",
      "190\n",
      "190\n"
     ]
    }
   ],
   "source": [
    "print(total['iso_o'].nunique())\n",
    "print(unique['iso_o'].nunique())\n",
    "print(repro['iso_o'].nunique())\n",
    "print(total_hyst['iso_o'].nunique())\n",
    "print(unique_hyst['iso_o'].nunique())\n",
    "print(repro_hyst['iso_o'].nunique())\n",
    "print(distance['iso_o'].nunique())\n",
    "print(comcol['iso_o'].nunique())\n",
    "print(colony['iso_o'].nunique())\n",
    "print(language['iso_o'].nunique())\n",
    "print(contiguity['iso_o'].nunique())\n",
    "print(rta['iso_o'].nunique())\n",
    "print(attribute2000_2023['iso_o'].nunique())"
   ]
  },
  {
   "cell_type": "markdown",
   "id": "087c56cb-dab3-4312-9b1c-e92d62329875",
   "metadata": {},
   "source": [
    "### Preparing the panel data"
   ]
  },
  {
   "cell_type": "markdown",
   "id": "b48dc939-6936-4f3c-a3da-b566ce38145a",
   "metadata": {},
   "source": [
    "**Steps to prepare the panel dataet:**\n",
    ">1. Removing the year 1999 from attribute2000_2023 dataframe for removing the NaN columns of first differences variables\n",
    ">2. Renaming the 'time' column to 'TIME_PERIOD\" of attributes data to match with the other dataset\n",
    ">3. Finding out and removing the countries those are present in the long format trade dataset but are not in the attributes dataset from both origin and destination\n",
    ">4. Renaming the 'OBS_VALUE' column of the respective trade data frame as 'total_tr', 'unique_cultural_tr'and 'reproducible_cultural_tr'\n",
    ">5. Finding out and removing the countries those are present in the dataset containing all fixed factors (both node and dyad level) but are not in the attributes dataset from both origin and destination\n",
    ">6. Imputing missing values for the 'development' column of the fixed long data from WDI country classification based on income.\n",
    ">7. Merging the attributes data with total trade data first as the attributes has highest rows for each observation ['iso_o'] and ordering the columns and naming it as 'panel_total'\n",
    ">8. Removing 'PRODUCT_HS' and 'ADJUSTMENT' columns from unique cultural trade data and merging with the 'panel_total' on 'iso_o', 'iso_d' and 'TIME_PERIOD', using left joing method and naming the new data as 'panel_total2'\n",
    ">9. Removing 'PRODUCT_HS' and 'product_count' columns from reproducible cultual trade data and merging with the 'panel_total2' on 'iso_o', 'iso_d' and 'TIME_PERIOD', using left joing method and naming the new data as 'panel_total3'\n",
    ">10. From Itertools I made a dataframe of all possible country pair for all 24 years that have 190*190*24 rows.\n",
    ">11. I removed the selfloops from that dataframe with three columns.\n",
    ">12. I merged it with the subset of the panel_data3 dataframe created at step 7 on 'iso_o', 'iso_d' and 'TIME_PERIOD'\n",
    ">13. Then I merged 'attribute2000_2023' which is the country level attribute data on 'iso_o' and 'TIME_PERIOD'\n",
    ">14. Created a copy of the dataframe, renaming all the colum names with suffix '_d', removing the 'iso_o' column\n",
    ">15. Removing duplicates on `['iso_d', 'TIME_PERIOD']`\n",
    ">16. Checking that every country appears 24 times (once for every year)\n",
    ">17. Merging this data on `['iso_d', 'TIME_PERIOD']`\n",
    ">18. Merging fixed_long data (having node and dyad level fixed factors) with it on 'iso_o' and 'iso_d'\n",
    ">10. Sanity check steps and saving as csv"
   ]
  },
  {
   "cell_type": "code",
   "execution_count": 72,
   "id": "2c345757-1e57-4ded-8e54-7b0c131c7d88",
   "metadata": {},
   "outputs": [],
   "source": [
    "attribute2000_2023 = attribute2000_2023.rename(columns = {'time': 'TIME_PERIOD'})"
   ]
  },
  {
   "cell_type": "code",
   "execution_count": 73,
   "id": "480dd167-ff10-4cb4-b0bb-976c24d332a2",
   "metadata": {},
   "outputs": [],
   "source": [
    "total_long = pd.read_csv(\"../data/cleaned/total2000_2023.csv\")\n",
    "unique_long = pd.read_csv(\"../data/cleaned/unique2000_2023.csv\")\n",
    "repro_long = pd.read_csv(\"../data/cleaned/reproducible2000_2023.csv\")\n",
    "fixed_long = pd.read_csv(\"../data/cleaned/fixed.csv\")"
   ]
  },
  {
   "cell_type": "code",
   "execution_count": 74,
   "id": "ce6851d1-61e2-4fca-a98f-db9a580ee14c",
   "metadata": {},
   "outputs": [
    {
     "name": "stdout",
     "output_type": "stream",
     "text": [
      "190\n",
      "224\n"
     ]
    }
   ],
   "source": [
    "print(attribute2000_2023['iso_o'].nunique())\n",
    "print(fixed_long['iso_o'].nunique())"
   ]
  },
  {
   "cell_type": "code",
   "execution_count": 75,
   "id": "d4f5cb08-0f74-4a85-96bf-220956710088",
   "metadata": {},
   "outputs": [
    {
     "data": {
      "text/plain": [
       "34"
      ]
     },
     "execution_count": 75,
     "metadata": {},
     "output_type": "execute_result"
    }
   ],
   "source": [
    "224 - 190"
   ]
  },
  {
   "cell_type": "code",
   "execution_count": 76,
   "id": "728fe3fb-2dd0-4258-8df9-432b702d6e4b",
   "metadata": {},
   "outputs": [
    {
     "name": "stdout",
     "output_type": "stream",
     "text": [
      "{'MSR', 'ROU', 'TWN', 'SSD', 'WXD', 'COD', 'SRB', 'MNE', 'TLS', 'PSE', 'SCG_F'}\n",
      "{'MSR', 'ROU', 'TWN', 'SSD', 'WXD', 'COD', 'SRB', 'MNE', 'TLS', 'PSE', 'SCG_F'}\n",
      "{'MSR', 'ROU', 'TWN', 'SSD', 'WXD', 'COD', 'SRB', 'MNE', 'TLS', 'PSE', 'SCG_F'}\n",
      "{'MSR', 'SOM', 'PCN', 'FRO', 'REU', 'ESH', 'SPM', 'TMP', 'FLK', 'CXR', 'ANT', 'SMR', 'ROM', 'YUG', 'WLF', 'GUF', 'MNP', 'TWN', 'COK', 'GLP', 'MTQ', 'PAL', 'TKL', 'SHN', 'AIA', 'VGB', 'PRI', 'GIB', 'NFK', 'CYM', 'NIU', 'CCK', 'TCA', 'ZAR'}\n"
     ]
    }
   ],
   "source": [
    "print(set(total_long['iso_o'].unique()) - set(attribute2000_2023['iso_o'].unique()))\n",
    "print(set(unique_long['iso_o'].unique()) - set(attribute2000_2023['iso_o'].unique()))\n",
    "print(set(repro_long['iso_o'].unique()) - set(attribute2000_2023['iso_o'].unique()))\n",
    "print(set(fixed_long['iso_o'].unique()) - set(attribute2000_2023['iso_o'].unique()))"
   ]
  },
  {
   "cell_type": "code",
   "execution_count": 77,
   "id": "9c91d48e-6d93-418a-a441-fc0602a3cb16",
   "metadata": {},
   "outputs": [
    {
     "data": {
      "text/html": [
       "<div>\n",
       "<style scoped>\n",
       "    .dataframe tbody tr th:only-of-type {\n",
       "        vertical-align: middle;\n",
       "    }\n",
       "\n",
       "    .dataframe tbody tr th {\n",
       "        vertical-align: top;\n",
       "    }\n",
       "\n",
       "    .dataframe thead th {\n",
       "        text-align: right;\n",
       "    }\n",
       "</style>\n",
       "<table border=\"1\" class=\"dataframe\">\n",
       "  <thead>\n",
       "    <tr style=\"text-align: right;\">\n",
       "      <th></th>\n",
       "      <th>iso_o</th>\n",
       "      <th>country</th>\n",
       "      <th>TIME_PERIOD</th>\n",
       "      <th>gdp</th>\n",
       "      <th>gdp_pct</th>\n",
       "      <th>population</th>\n",
       "      <th>trade_gdp_ratio</th>\n",
       "      <th>log_gdp</th>\n",
       "      <th>log_trade_gdp_ratio</th>\n",
       "      <th>log_gdp_pct</th>\n",
       "      <th>log_population</th>\n",
       "      <th>country_id</th>\n",
       "      <th>D_log_gdp_pct</th>\n",
       "      <th>D_log_gdp</th>\n",
       "    </tr>\n",
       "  </thead>\n",
       "  <tbody>\n",
       "    <tr>\n",
       "      <th>0</th>\n",
       "      <td>ABW</td>\n",
       "      <td>Aruba</td>\n",
       "      <td>1999</td>\n",
       "      <td>1.722905e+09</td>\n",
       "      <td>19216.199</td>\n",
       "      <td>89659</td>\n",
       "      <td>164.56000</td>\n",
       "      <td>21.267277</td>\n",
       "      <td>5.103275</td>\n",
       "      <td>9.863509</td>\n",
       "      <td>11.403769</td>\n",
       "      <td>ABW</td>\n",
       "      <td>NaN</td>\n",
       "      <td>NaN</td>\n",
       "    </tr>\n",
       "    <tr>\n",
       "      <th>1</th>\n",
       "      <td>ABW</td>\n",
       "      <td>Aruba</td>\n",
       "      <td>2000</td>\n",
       "      <td>1.873453e+09</td>\n",
       "      <td>20681.020</td>\n",
       "      <td>90588</td>\n",
       "      <td>145.07001</td>\n",
       "      <td>21.351049</td>\n",
       "      <td>4.977216</td>\n",
       "      <td>9.936972</td>\n",
       "      <td>11.414077</td>\n",
       "      <td>ABW</td>\n",
       "      <td>0.073462</td>\n",
       "      <td>0.083773</td>\n",
       "    </tr>\n",
       "    <tr>\n",
       "      <th>2</th>\n",
       "      <td>ABW</td>\n",
       "      <td>Aruba</td>\n",
       "      <td>2001</td>\n",
       "      <td>1.896457e+09</td>\n",
       "      <td>20740.131</td>\n",
       "      <td>91439</td>\n",
       "      <td>140.39000</td>\n",
       "      <td>21.363253</td>\n",
       "      <td>4.944424</td>\n",
       "      <td>9.939826</td>\n",
       "      <td>11.423428</td>\n",
       "      <td>ABW</td>\n",
       "      <td>0.002854</td>\n",
       "      <td>0.012203</td>\n",
       "    </tr>\n",
       "    <tr>\n",
       "      <th>3</th>\n",
       "      <td>ABW</td>\n",
       "      <td>Aruba</td>\n",
       "      <td>2002</td>\n",
       "      <td>1.961844e+09</td>\n",
       "      <td>21307.250</td>\n",
       "      <td>92074</td>\n",
       "      <td>133.23000</td>\n",
       "      <td>21.397150</td>\n",
       "      <td>4.892077</td>\n",
       "      <td>9.966803</td>\n",
       "      <td>11.430347</td>\n",
       "      <td>ABW</td>\n",
       "      <td>0.026977</td>\n",
       "      <td>0.033897</td>\n",
       "    </tr>\n",
       "    <tr>\n",
       "      <th>4</th>\n",
       "      <td>ABW</td>\n",
       "      <td>Aruba</td>\n",
       "      <td>2003</td>\n",
       "      <td>2.044112e+09</td>\n",
       "      <td>21949.490</td>\n",
       "      <td>93128</td>\n",
       "      <td>132.78999</td>\n",
       "      <td>21.438229</td>\n",
       "      <td>4.888769</td>\n",
       "      <td>9.996499</td>\n",
       "      <td>11.441730</td>\n",
       "      <td>ABW</td>\n",
       "      <td>0.029696</td>\n",
       "      <td>0.041079</td>\n",
       "    </tr>\n",
       "  </tbody>\n",
       "</table>\n",
       "</div>"
      ],
      "text/plain": [
       "  iso_o country  TIME_PERIOD           gdp    gdp_pct  population  \\\n",
       "0   ABW   Aruba         1999  1.722905e+09  19216.199       89659   \n",
       "1   ABW   Aruba         2000  1.873453e+09  20681.020       90588   \n",
       "2   ABW   Aruba         2001  1.896457e+09  20740.131       91439   \n",
       "3   ABW   Aruba         2002  1.961844e+09  21307.250       92074   \n",
       "4   ABW   Aruba         2003  2.044112e+09  21949.490       93128   \n",
       "\n",
       "   trade_gdp_ratio    log_gdp  log_trade_gdp_ratio  log_gdp_pct  \\\n",
       "0        164.56000  21.267277             5.103275     9.863509   \n",
       "1        145.07001  21.351049             4.977216     9.936972   \n",
       "2        140.39000  21.363253             4.944424     9.939826   \n",
       "3        133.23000  21.397150             4.892077     9.966803   \n",
       "4        132.78999  21.438229             4.888769     9.996499   \n",
       "\n",
       "   log_population country_id  D_log_gdp_pct  D_log_gdp  \n",
       "0       11.403769        ABW            NaN        NaN  \n",
       "1       11.414077        ABW       0.073462   0.083773  \n",
       "2       11.423428        ABW       0.002854   0.012203  \n",
       "3       11.430347        ABW       0.026977   0.033897  \n",
       "4       11.441730        ABW       0.029696   0.041079  "
      ]
     },
     "execution_count": 77,
     "metadata": {},
     "output_type": "execute_result"
    }
   ],
   "source": [
    " attribute2000_2023.head()"
   ]
  },
  {
   "cell_type": "code",
   "execution_count": 78,
   "id": "7daee810-63c3-47b5-9ebd-ae22227cb9ed",
   "metadata": {},
   "outputs": [],
   "source": [
    "attribute2000_2023= attribute2000_2023[attribute2000_2023['TIME_PERIOD'] != 1999]"
   ]
  },
  {
   "cell_type": "code",
   "execution_count": 79,
   "id": "7dff20bf-5d1f-4f94-9bec-e9363f564041",
   "metadata": {},
   "outputs": [],
   "source": [
    "assert attribute2000_2023['TIME_PERIOD'].nunique() == total_long['TIME_PERIOD'].nunique() == unique_long['TIME_PERIOD'].nunique() == repro_long['TIME_PERIOD'].nunique()"
   ]
  },
  {
   "cell_type": "markdown",
   "id": "d19cbbb9-d142-4eda-a29f-a307a15161b0",
   "metadata": {},
   "source": [
    "* The number of countries in the long format trade datasets are 201 and the number of countries in the attribute dataset is 190. All the long format trade datasets have the same 11 more countries than the attribute dataset.\n",
    "* The dyad level time invariant 'fixed' dataset has 34 countries those are not in the attribute dataset. "
   ]
  },
  {
   "cell_type": "markdown",
   "id": "e24775b9-3dc9-4eff-b874-37ee43602121",
   "metadata": {},
   "source": [
    "* Total trade"
   ]
  },
  {
   "cell_type": "code",
   "execution_count": 80,
   "id": "779243e3-e07d-4833-a003-b7b7e8aa91b5",
   "metadata": {},
   "outputs": [],
   "source": [
    "remove_from_trade = list(set(total_long['iso_o'].unique()) - set(attribute2000_2023['iso_o'].unique()))"
   ]
  },
  {
   "cell_type": "code",
   "execution_count": 81,
   "id": "f267b2cb-ab7b-4c12-aad9-03a653a63c50",
   "metadata": {},
   "outputs": [
    {
     "data": {
      "text/plain": [
       "['MSR', 'ROU', 'TWN', 'SSD', 'WXD', 'COD', 'SRB', 'MNE', 'TLS', 'PSE', 'SCG_F']"
      ]
     },
     "execution_count": 81,
     "metadata": {},
     "output_type": "execute_result"
    }
   ],
   "source": [
    "remove_from_trade"
   ]
  },
  {
   "cell_type": "code",
   "execution_count": 82,
   "id": "21d6b4a8-bdfe-4fa5-ab2b-c88e76ecf00e",
   "metadata": {},
   "outputs": [],
   "source": [
    "total_long = total_long[~total_long['iso_o'].isin(remove_from_trade)]\n",
    "total_long = total_long[~total_long['iso_d'].isin(remove_from_trade)]"
   ]
  },
  {
   "cell_type": "code",
   "execution_count": 83,
   "id": "bf039663-4795-4fb1-a5f2-96d8d99eb917",
   "metadata": {},
   "outputs": [],
   "source": [
    "total_long = total_long.rename(columns = {'OBS_VALUE': 'total_tr'})"
   ]
  },
  {
   "cell_type": "code",
   "execution_count": 84,
   "id": "b8463e34-30b1-44ad-8c03-034d50eebb86",
   "metadata": {},
   "outputs": [
    {
     "data": {
      "text/html": [
       "<div>\n",
       "<style scoped>\n",
       "    .dataframe tbody tr th:only-of-type {\n",
       "        vertical-align: middle;\n",
       "    }\n",
       "\n",
       "    .dataframe tbody tr th {\n",
       "        vertical-align: top;\n",
       "    }\n",
       "\n",
       "    .dataframe thead th {\n",
       "        text-align: right;\n",
       "    }\n",
       "</style>\n",
       "<table border=\"1\" class=\"dataframe\">\n",
       "  <thead>\n",
       "    <tr style=\"text-align: right;\">\n",
       "      <th></th>\n",
       "      <th>iso_o</th>\n",
       "      <th>iso_d</th>\n",
       "      <th>TIME_PERIOD</th>\n",
       "      <th>total_tr</th>\n",
       "      <th>hysteresis_total</th>\n",
       "    </tr>\n",
       "  </thead>\n",
       "  <tbody>\n",
       "    <tr>\n",
       "      <th>0</th>\n",
       "      <td>ABW</td>\n",
       "      <td>AFG</td>\n",
       "      <td>2017</td>\n",
       "      <td>0.065851</td>\n",
       "      <td>0.000000</td>\n",
       "    </tr>\n",
       "    <tr>\n",
       "      <th>1</th>\n",
       "      <td>ABW</td>\n",
       "      <td>AFG</td>\n",
       "      <td>2018</td>\n",
       "      <td>0.398446</td>\n",
       "      <td>0.065851</td>\n",
       "    </tr>\n",
       "    <tr>\n",
       "      <th>2</th>\n",
       "      <td>ABW</td>\n",
       "      <td>AFG</td>\n",
       "      <td>2019</td>\n",
       "      <td>0.254087</td>\n",
       "      <td>0.418202</td>\n",
       "    </tr>\n",
       "  </tbody>\n",
       "</table>\n",
       "</div>"
      ],
      "text/plain": [
       "  iso_o iso_d  TIME_PERIOD  total_tr  hysteresis_total\n",
       "0   ABW   AFG         2017  0.065851          0.000000\n",
       "1   ABW   AFG         2018  0.398446          0.065851\n",
       "2   ABW   AFG         2019  0.254087          0.418202"
      ]
     },
     "execution_count": 84,
     "metadata": {},
     "output_type": "execute_result"
    }
   ],
   "source": [
    "total_long.head(3)"
   ]
  },
  {
   "cell_type": "markdown",
   "id": "9fb219a0-1014-496d-bb09-39877fdb55e2",
   "metadata": {},
   "source": [
    "* Unique cultural goods trade"
   ]
  },
  {
   "cell_type": "code",
   "execution_count": 85,
   "id": "7edd2bcd-b588-4499-856b-376911802fbf",
   "metadata": {},
   "outputs": [],
   "source": [
    "unique_long = unique_long[~unique_long['iso_o'].isin(remove_from_trade)]\n",
    "unique_long = unique_long[~unique_long['iso_d'].isin(remove_from_trade)]"
   ]
  },
  {
   "cell_type": "code",
   "execution_count": 86,
   "id": "4c3e8ef4-30c2-42ad-8c95-4d1d03db6a94",
   "metadata": {},
   "outputs": [
    {
     "name": "stdout",
     "output_type": "stream",
     "text": [
      "190\n",
      "190\n"
     ]
    }
   ],
   "source": [
    "print(unique_long['iso_o'].nunique())\n",
    "print(unique_long['iso_d'].nunique())"
   ]
  },
  {
   "cell_type": "code",
   "execution_count": 87,
   "id": "748c01a0-fc40-4ea6-b7d8-0a05c3ba7e13",
   "metadata": {},
   "outputs": [],
   "source": [
    "unique_long = unique_long.rename(columns = {'OBS_VALUE': 'unique_cultural_tr'})"
   ]
  },
  {
   "cell_type": "code",
   "execution_count": 88,
   "id": "10a4ee89-2db8-4cc4-a902-89c4f9b04d34",
   "metadata": {},
   "outputs": [
    {
     "data": {
      "text/html": [
       "<div>\n",
       "<style scoped>\n",
       "    .dataframe tbody tr th:only-of-type {\n",
       "        vertical-align: middle;\n",
       "    }\n",
       "\n",
       "    .dataframe tbody tr th {\n",
       "        vertical-align: top;\n",
       "    }\n",
       "\n",
       "    .dataframe thead th {\n",
       "        text-align: right;\n",
       "    }\n",
       "</style>\n",
       "<table border=\"1\" class=\"dataframe\">\n",
       "  <thead>\n",
       "    <tr style=\"text-align: right;\">\n",
       "      <th></th>\n",
       "      <th>iso_o</th>\n",
       "      <th>iso_d</th>\n",
       "      <th>PRODUCT_HS</th>\n",
       "      <th>TIME_PERIOD</th>\n",
       "      <th>unique_cultural_tr</th>\n",
       "      <th>ADJUSTMENT</th>\n",
       "      <th>hysteresis_unique</th>\n",
       "    </tr>\n",
       "  </thead>\n",
       "  <tbody>\n",
       "    <tr>\n",
       "      <th>0</th>\n",
       "      <td>ABW</td>\n",
       "      <td>AGO</td>\n",
       "      <td>HS17_97</td>\n",
       "      <td>2014</td>\n",
       "      <td>0.000028</td>\n",
       "      <td>B_ADJ_RX</td>\n",
       "      <td>0.000000</td>\n",
       "    </tr>\n",
       "    <tr>\n",
       "      <th>1</th>\n",
       "      <td>ABW</td>\n",
       "      <td>ARE</td>\n",
       "      <td>HS17_97</td>\n",
       "      <td>2005</td>\n",
       "      <td>0.000641</td>\n",
       "      <td>B_ADJ_RX</td>\n",
       "      <td>0.000000</td>\n",
       "    </tr>\n",
       "    <tr>\n",
       "      <th>2</th>\n",
       "      <td>ABW</td>\n",
       "      <td>ARE</td>\n",
       "      <td>HS17_97</td>\n",
       "      <td>2014</td>\n",
       "      <td>0.000053</td>\n",
       "      <td>B_ADJ_RX</td>\n",
       "      <td>0.000641</td>\n",
       "    </tr>\n",
       "  </tbody>\n",
       "</table>\n",
       "</div>"
      ],
      "text/plain": [
       "  iso_o iso_d PRODUCT_HS  TIME_PERIOD  unique_cultural_tr ADJUSTMENT  \\\n",
       "0   ABW   AGO    HS17_97         2014            0.000028   B_ADJ_RX   \n",
       "1   ABW   ARE    HS17_97         2005            0.000641   B_ADJ_RX   \n",
       "2   ABW   ARE    HS17_97         2014            0.000053   B_ADJ_RX   \n",
       "\n",
       "   hysteresis_unique  \n",
       "0           0.000000  \n",
       "1           0.000000  \n",
       "2           0.000641  "
      ]
     },
     "execution_count": 88,
     "metadata": {},
     "output_type": "execute_result"
    }
   ],
   "source": [
    "unique_long.head(3)"
   ]
  },
  {
   "cell_type": "markdown",
   "id": "9a698caf-05ed-49bd-a6bc-1274983b94ec",
   "metadata": {},
   "source": [
    "* Reproducible cultural goods trade"
   ]
  },
  {
   "cell_type": "code",
   "execution_count": 89,
   "id": "77ddf593-0e38-41d5-8eb7-fe047f959a19",
   "metadata": {},
   "outputs": [],
   "source": [
    "repro_long = repro_long[~repro_long['iso_o'].isin(remove_from_trade)]\n",
    "repro_long = repro_long[~repro_long['iso_d'].isin(remove_from_trade)]"
   ]
  },
  {
   "cell_type": "code",
   "execution_count": 90,
   "id": "d7a4f146-998f-4e9e-865d-ac834b5cc0df",
   "metadata": {},
   "outputs": [
    {
     "name": "stdout",
     "output_type": "stream",
     "text": [
      "190\n",
      "190\n"
     ]
    }
   ],
   "source": [
    "print(repro_long['iso_o'].nunique())\n",
    "print(repro_long['iso_d'].nunique())"
   ]
  },
  {
   "cell_type": "code",
   "execution_count": 91,
   "id": "ee4bd57f-b0cf-45a1-8a88-16ad8f0087cc",
   "metadata": {},
   "outputs": [],
   "source": [
    "repro_long = repro_long.rename(columns = {'OBS_VALUE': 'reproducible_cultural_tr'})"
   ]
  },
  {
   "cell_type": "code",
   "execution_count": 92,
   "id": "68f5cfa3-a322-438d-88b6-ef3d692c9d18",
   "metadata": {},
   "outputs": [
    {
     "data": {
      "text/html": [
       "<div>\n",
       "<style scoped>\n",
       "    .dataframe tbody tr th:only-of-type {\n",
       "        vertical-align: middle;\n",
       "    }\n",
       "\n",
       "    .dataframe tbody tr th {\n",
       "        vertical-align: top;\n",
       "    }\n",
       "\n",
       "    .dataframe thead th {\n",
       "        text-align: right;\n",
       "    }\n",
       "</style>\n",
       "<table border=\"1\" class=\"dataframe\">\n",
       "  <thead>\n",
       "    <tr style=\"text-align: right;\">\n",
       "      <th></th>\n",
       "      <th>iso_o</th>\n",
       "      <th>iso_d</th>\n",
       "      <th>TIME_PERIOD</th>\n",
       "      <th>reproducible_cultural_tr</th>\n",
       "      <th>PRODUCT_HS</th>\n",
       "      <th>product_count</th>\n",
       "      <th>hysteresis_repro</th>\n",
       "    </tr>\n",
       "  </thead>\n",
       "  <tbody>\n",
       "    <tr>\n",
       "      <th>0</th>\n",
       "      <td>ABW</td>\n",
       "      <td>AFG</td>\n",
       "      <td>2019</td>\n",
       "      <td>0.012061</td>\n",
       "      <td>('HS17_49', 'HS17_85')</td>\n",
       "      <td>2</td>\n",
       "      <td>0.000000</td>\n",
       "    </tr>\n",
       "    <tr>\n",
       "      <th>1</th>\n",
       "      <td>ABW</td>\n",
       "      <td>AGO</td>\n",
       "      <td>2008</td>\n",
       "      <td>0.000165</td>\n",
       "      <td>('HS17_85',)</td>\n",
       "      <td>1</td>\n",
       "      <td>0.000000</td>\n",
       "    </tr>\n",
       "    <tr>\n",
       "      <th>2</th>\n",
       "      <td>ABW</td>\n",
       "      <td>AGO</td>\n",
       "      <td>2011</td>\n",
       "      <td>0.000076</td>\n",
       "      <td>('HS17_85',)</td>\n",
       "      <td>1</td>\n",
       "      <td>0.000165</td>\n",
       "    </tr>\n",
       "  </tbody>\n",
       "</table>\n",
       "</div>"
      ],
      "text/plain": [
       "  iso_o iso_d  TIME_PERIOD  reproducible_cultural_tr              PRODUCT_HS  \\\n",
       "0   ABW   AFG         2019                  0.012061  ('HS17_49', 'HS17_85')   \n",
       "1   ABW   AGO         2008                  0.000165            ('HS17_85',)   \n",
       "2   ABW   AGO         2011                  0.000076            ('HS17_85',)   \n",
       "\n",
       "   product_count  hysteresis_repro  \n",
       "0              2          0.000000  \n",
       "1              1          0.000000  \n",
       "2              1          0.000165  "
      ]
     },
     "execution_count": 92,
     "metadata": {},
     "output_type": "execute_result"
    }
   ],
   "source": [
    "repro_long.head(3)"
   ]
  },
  {
   "cell_type": "markdown",
   "id": "00dbdf2b-8626-466f-8f55-a6aaeccb0b1f",
   "metadata": {},
   "source": [
    "* Fixed"
   ]
  },
  {
   "cell_type": "code",
   "execution_count": 93,
   "id": "9acf7d99-a9f5-438e-b656-e5d2d6345d1b",
   "metadata": {},
   "outputs": [],
   "source": [
    "remove_from_fixed = list(set(fixed_long['iso_o'].unique()) - set(attribute2000_2023['iso_o'].unique()))"
   ]
  },
  {
   "cell_type": "code",
   "execution_count": 94,
   "id": "7d7faa66-49a7-40fa-9900-a59cb71fd7fe",
   "metadata": {},
   "outputs": [],
   "source": [
    "fixed_long = fixed_long[~fixed_long['iso_o'].isin(remove_from_fixed)]\n",
    "fixed_long = fixed_long[~fixed_long['iso_d'].isin(remove_from_fixed)]"
   ]
  },
  {
   "cell_type": "code",
   "execution_count": 95,
   "id": "1b0f2505-fd19-42c0-8d40-57df2cc9d619",
   "metadata": {},
   "outputs": [
    {
     "name": "stdout",
     "output_type": "stream",
     "text": [
      "190\n",
      "190\n"
     ]
    }
   ],
   "source": [
    "print(fixed_long['iso_o'].nunique())\n",
    "print(fixed_long['iso_d'].nunique())"
   ]
  },
  {
   "cell_type": "code",
   "execution_count": 96,
   "id": "f8a7de7b-1448-44ee-bc9d-e3ff19adce53",
   "metadata": {},
   "outputs": [],
   "source": [
    "#fixed_long[fixed_long['development'].isna()]"
   ]
  },
  {
   "cell_type": "code",
   "execution_count": 97,
   "id": "a67bdb04-c984-42ff-892c-f3138a03e6ce",
   "metadata": {},
   "outputs": [],
   "source": [
    "fixed_long.loc[fixed_long['country'] == 'Bermuda', 'development'] = 1\n",
    "fixed_long.loc[fixed_long['country'] == 'Cuba', 'development'] = 0\n",
    "fixed_long.loc[fixed_long['country'] == 'French Polynesia', 'development'] = 1\n",
    "fixed_long.loc[fixed_long['country'] == 'Greenland', 'development'] = 1\n",
    "fixed_long.loc[fixed_long['country'] == 'New Caledonia', 'development'] = 1"
   ]
  },
  {
   "cell_type": "markdown",
   "id": "4a4ba07c-1319-4f90-bc62-c577ff083937",
   "metadata": {},
   "source": [
    "## Preparing the panel data"
   ]
  },
  {
   "cell_type": "code",
   "execution_count": 98,
   "id": "235f0565-d1d0-477b-a093-66d0253e6902",
   "metadata": {},
   "outputs": [],
   "source": [
    "panel_total = attribute2000_2023.merge(total_long, on = ['iso_o', 'TIME_PERIOD'])"
   ]
  },
  {
   "cell_type": "code",
   "execution_count": 99,
   "id": "a3018741-8f71-4895-88f0-6c9c61dd66a1",
   "metadata": {},
   "outputs": [
    {
     "name": "stdout",
     "output_type": "stream",
     "text": [
      "34043\n",
      "34043\n"
     ]
    }
   ],
   "source": [
    "print(total_long.groupby(['iso_o', 'iso_d']).ngroups)\n",
    "print(panel_total.groupby(['iso_o', 'iso_d']).ngroups)"
   ]
  },
  {
   "cell_type": "code",
   "execution_count": 100,
   "id": "791fa938-e771-48fb-abdf-9e12cd8c3af9",
   "metadata": {},
   "outputs": [
    {
     "name": "stdout",
     "output_type": "stream",
     "text": [
      "190 190 24\n",
      "190 190 24\n",
      "190 24\n"
     ]
    }
   ],
   "source": [
    "print(total_long['iso_o'].nunique(), total_long['iso_d'].nunique(), total_long['TIME_PERIOD'].nunique())\n",
    "print(panel_total['iso_o'].nunique(), panel_total['iso_d'].nunique(), panel_total['TIME_PERIOD'].nunique())\n",
    "print(attribute2000_2023['iso_o'].nunique(), attribute2000_2023['TIME_PERIOD'].nunique())"
   ]
  },
  {
   "cell_type": "code",
   "execution_count": 101,
   "id": "f0b5e4bd-9ae5-4616-b3cf-d5f37eb8475f",
   "metadata": {},
   "outputs": [],
   "source": [
    "panel_total = panel_total[['country', 'iso_o', 'iso_d', 'TIME_PERIOD', 'total_tr', 'hysteresis_total', 'gdp', 'log_gdp', 'D_log_gdp', 'gdp_pct','log_gdp_pct', 'D_log_gdp_pct', 'population', 'log_population','trade_gdp_ratio', 'log_trade_gdp_ratio']]"
   ]
  },
  {
   "cell_type": "code",
   "execution_count": 102,
   "id": "a6f95c4b-f771-4556-b100-563dc14b16da",
   "metadata": {},
   "outputs": [
    {
     "data": {
      "text/html": [
       "<div>\n",
       "<style scoped>\n",
       "    .dataframe tbody tr th:only-of-type {\n",
       "        vertical-align: middle;\n",
       "    }\n",
       "\n",
       "    .dataframe tbody tr th {\n",
       "        vertical-align: top;\n",
       "    }\n",
       "\n",
       "    .dataframe thead th {\n",
       "        text-align: right;\n",
       "    }\n",
       "</style>\n",
       "<table border=\"1\" class=\"dataframe\">\n",
       "  <thead>\n",
       "    <tr style=\"text-align: right;\">\n",
       "      <th></th>\n",
       "      <th>country</th>\n",
       "      <th>iso_o</th>\n",
       "      <th>iso_d</th>\n",
       "      <th>TIME_PERIOD</th>\n",
       "      <th>total_tr</th>\n",
       "      <th>hysteresis_total</th>\n",
       "      <th>gdp</th>\n",
       "      <th>log_gdp</th>\n",
       "      <th>D_log_gdp</th>\n",
       "      <th>gdp_pct</th>\n",
       "      <th>log_gdp_pct</th>\n",
       "      <th>D_log_gdp_pct</th>\n",
       "      <th>population</th>\n",
       "      <th>log_population</th>\n",
       "      <th>trade_gdp_ratio</th>\n",
       "      <th>log_trade_gdp_ratio</th>\n",
       "    </tr>\n",
       "  </thead>\n",
       "  <tbody>\n",
       "    <tr>\n",
       "      <th>0</th>\n",
       "      <td>Aruba</td>\n",
       "      <td>ABW</td>\n",
       "      <td>ARE</td>\n",
       "      <td>2000</td>\n",
       "      <td>0.000101</td>\n",
       "      <td>0.0</td>\n",
       "      <td>1.873453e+09</td>\n",
       "      <td>21.351049</td>\n",
       "      <td>0.083773</td>\n",
       "      <td>20681.02</td>\n",
       "      <td>9.936972</td>\n",
       "      <td>0.073462</td>\n",
       "      <td>90588</td>\n",
       "      <td>11.414077</td>\n",
       "      <td>145.07001</td>\n",
       "      <td>4.977216</td>\n",
       "    </tr>\n",
       "    <tr>\n",
       "      <th>1</th>\n",
       "      <td>Aruba</td>\n",
       "      <td>ABW</td>\n",
       "      <td>ARG</td>\n",
       "      <td>2000</td>\n",
       "      <td>0.034091</td>\n",
       "      <td>0.0</td>\n",
       "      <td>1.873453e+09</td>\n",
       "      <td>21.351049</td>\n",
       "      <td>0.083773</td>\n",
       "      <td>20681.02</td>\n",
       "      <td>9.936972</td>\n",
       "      <td>0.073462</td>\n",
       "      <td>90588</td>\n",
       "      <td>11.414077</td>\n",
       "      <td>145.07001</td>\n",
       "      <td>4.977216</td>\n",
       "    </tr>\n",
       "    <tr>\n",
       "      <th>2</th>\n",
       "      <td>Aruba</td>\n",
       "      <td>ABW</td>\n",
       "      <td>ATG</td>\n",
       "      <td>2000</td>\n",
       "      <td>0.039110</td>\n",
       "      <td>0.0</td>\n",
       "      <td>1.873453e+09</td>\n",
       "      <td>21.351049</td>\n",
       "      <td>0.083773</td>\n",
       "      <td>20681.02</td>\n",
       "      <td>9.936972</td>\n",
       "      <td>0.073462</td>\n",
       "      <td>90588</td>\n",
       "      <td>11.414077</td>\n",
       "      <td>145.07001</td>\n",
       "      <td>4.977216</td>\n",
       "    </tr>\n",
       "  </tbody>\n",
       "</table>\n",
       "</div>"
      ],
      "text/plain": [
       "  country iso_o iso_d  TIME_PERIOD  total_tr  hysteresis_total           gdp  \\\n",
       "0   Aruba   ABW   ARE         2000  0.000101               0.0  1.873453e+09   \n",
       "1   Aruba   ABW   ARG         2000  0.034091               0.0  1.873453e+09   \n",
       "2   Aruba   ABW   ATG         2000  0.039110               0.0  1.873453e+09   \n",
       "\n",
       "     log_gdp  D_log_gdp   gdp_pct  log_gdp_pct  D_log_gdp_pct  population  \\\n",
       "0  21.351049   0.083773  20681.02     9.936972       0.073462       90588   \n",
       "1  21.351049   0.083773  20681.02     9.936972       0.073462       90588   \n",
       "2  21.351049   0.083773  20681.02     9.936972       0.073462       90588   \n",
       "\n",
       "   log_population  trade_gdp_ratio  log_trade_gdp_ratio  \n",
       "0       11.414077        145.07001             4.977216  \n",
       "1       11.414077        145.07001             4.977216  \n",
       "2       11.414077        145.07001             4.977216  "
      ]
     },
     "execution_count": 102,
     "metadata": {},
     "output_type": "execute_result"
    }
   ],
   "source": [
    "panel_total.head(3)"
   ]
  },
  {
   "cell_type": "markdown",
   "id": "d7bec6f6-f49e-4972-ba6b-9e0794bb4adf",
   "metadata": {},
   "source": [
    "**Merging the previous data with unique cultural goods trade data**"
   ]
  },
  {
   "cell_type": "code",
   "execution_count": 103,
   "id": "f1735618-6617-478e-8a86-bdaf0c1215a5",
   "metadata": {},
   "outputs": [],
   "source": [
    "unique_clean = unique_long.drop(columns=['PRODUCT_HS', 'ADJUSTMENT']).drop_duplicates() #removing these two columns"
   ]
  },
  {
   "cell_type": "code",
   "execution_count": 104,
   "id": "e4cf31d2-55be-4e30-8622-43eb571339d1",
   "metadata": {},
   "outputs": [
    {
     "data": {
      "text/html": [
       "<div>\n",
       "<style scoped>\n",
       "    .dataframe tbody tr th:only-of-type {\n",
       "        vertical-align: middle;\n",
       "    }\n",
       "\n",
       "    .dataframe tbody tr th {\n",
       "        vertical-align: top;\n",
       "    }\n",
       "\n",
       "    .dataframe thead th {\n",
       "        text-align: right;\n",
       "    }\n",
       "</style>\n",
       "<table border=\"1\" class=\"dataframe\">\n",
       "  <thead>\n",
       "    <tr style=\"text-align: right;\">\n",
       "      <th></th>\n",
       "      <th>iso_o</th>\n",
       "      <th>iso_d</th>\n",
       "      <th>TIME_PERIOD</th>\n",
       "      <th>unique_cultural_tr</th>\n",
       "      <th>hysteresis_unique</th>\n",
       "    </tr>\n",
       "  </thead>\n",
       "  <tbody>\n",
       "    <tr>\n",
       "      <th>0</th>\n",
       "      <td>ABW</td>\n",
       "      <td>AGO</td>\n",
       "      <td>2014</td>\n",
       "      <td>0.000028</td>\n",
       "      <td>0.0</td>\n",
       "    </tr>\n",
       "    <tr>\n",
       "      <th>1</th>\n",
       "      <td>ABW</td>\n",
       "      <td>ARE</td>\n",
       "      <td>2005</td>\n",
       "      <td>0.000641</td>\n",
       "      <td>0.0</td>\n",
       "    </tr>\n",
       "  </tbody>\n",
       "</table>\n",
       "</div>"
      ],
      "text/plain": [
       "  iso_o iso_d  TIME_PERIOD  unique_cultural_tr  hysteresis_unique\n",
       "0   ABW   AGO         2014            0.000028                0.0\n",
       "1   ABW   ARE         2005            0.000641                0.0"
      ]
     },
     "execution_count": 104,
     "metadata": {},
     "output_type": "execute_result"
    }
   ],
   "source": [
    "unique_clean.head(2)"
   ]
  },
  {
   "cell_type": "code",
   "execution_count": 105,
   "id": "e28d3100-1f5e-4fc5-88fb-3ab61bbfd0fc",
   "metadata": {},
   "outputs": [],
   "source": [
    "panel_total2 = panel_total.merge(unique_clean, on = ['iso_o', 'iso_d', 'TIME_PERIOD'], how = 'left')"
   ]
  },
  {
   "cell_type": "code",
   "execution_count": 106,
   "id": "0d1d7127-ebdf-40a8-8dd7-5ad142b50d53",
   "metadata": {},
   "outputs": [
    {
     "data": {
      "text/html": [
       "<div>\n",
       "<style scoped>\n",
       "    .dataframe tbody tr th:only-of-type {\n",
       "        vertical-align: middle;\n",
       "    }\n",
       "\n",
       "    .dataframe tbody tr th {\n",
       "        vertical-align: top;\n",
       "    }\n",
       "\n",
       "    .dataframe thead th {\n",
       "        text-align: right;\n",
       "    }\n",
       "</style>\n",
       "<table border=\"1\" class=\"dataframe\">\n",
       "  <thead>\n",
       "    <tr style=\"text-align: right;\">\n",
       "      <th></th>\n",
       "      <th>country</th>\n",
       "      <th>iso_o</th>\n",
       "      <th>iso_d</th>\n",
       "      <th>TIME_PERIOD</th>\n",
       "      <th>total_tr</th>\n",
       "      <th>hysteresis_total</th>\n",
       "      <th>gdp</th>\n",
       "      <th>log_gdp</th>\n",
       "      <th>D_log_gdp</th>\n",
       "      <th>gdp_pct</th>\n",
       "      <th>log_gdp_pct</th>\n",
       "      <th>D_log_gdp_pct</th>\n",
       "      <th>population</th>\n",
       "      <th>log_population</th>\n",
       "      <th>trade_gdp_ratio</th>\n",
       "      <th>log_trade_gdp_ratio</th>\n",
       "      <th>unique_cultural_tr</th>\n",
       "      <th>hysteresis_unique</th>\n",
       "    </tr>\n",
       "  </thead>\n",
       "  <tbody>\n",
       "    <tr>\n",
       "      <th>0</th>\n",
       "      <td>Aruba</td>\n",
       "      <td>ABW</td>\n",
       "      <td>ARE</td>\n",
       "      <td>2000</td>\n",
       "      <td>0.000101</td>\n",
       "      <td>0.0</td>\n",
       "      <td>1.873453e+09</td>\n",
       "      <td>21.351049</td>\n",
       "      <td>0.083773</td>\n",
       "      <td>20681.02</td>\n",
       "      <td>9.936972</td>\n",
       "      <td>0.073462</td>\n",
       "      <td>90588</td>\n",
       "      <td>11.414077</td>\n",
       "      <td>145.07001</td>\n",
       "      <td>4.977216</td>\n",
       "      <td>NaN</td>\n",
       "      <td>NaN</td>\n",
       "    </tr>\n",
       "    <tr>\n",
       "      <th>1</th>\n",
       "      <td>Aruba</td>\n",
       "      <td>ABW</td>\n",
       "      <td>ARG</td>\n",
       "      <td>2000</td>\n",
       "      <td>0.034091</td>\n",
       "      <td>0.0</td>\n",
       "      <td>1.873453e+09</td>\n",
       "      <td>21.351049</td>\n",
       "      <td>0.083773</td>\n",
       "      <td>20681.02</td>\n",
       "      <td>9.936972</td>\n",
       "      <td>0.073462</td>\n",
       "      <td>90588</td>\n",
       "      <td>11.414077</td>\n",
       "      <td>145.07001</td>\n",
       "      <td>4.977216</td>\n",
       "      <td>NaN</td>\n",
       "      <td>NaN</td>\n",
       "    </tr>\n",
       "  </tbody>\n",
       "</table>\n",
       "</div>"
      ],
      "text/plain": [
       "  country iso_o iso_d  TIME_PERIOD  total_tr  hysteresis_total           gdp  \\\n",
       "0   Aruba   ABW   ARE         2000  0.000101               0.0  1.873453e+09   \n",
       "1   Aruba   ABW   ARG         2000  0.034091               0.0  1.873453e+09   \n",
       "\n",
       "     log_gdp  D_log_gdp   gdp_pct  log_gdp_pct  D_log_gdp_pct  population  \\\n",
       "0  21.351049   0.083773  20681.02     9.936972       0.073462       90588   \n",
       "1  21.351049   0.083773  20681.02     9.936972       0.073462       90588   \n",
       "\n",
       "   log_population  trade_gdp_ratio  log_trade_gdp_ratio  unique_cultural_tr  \\\n",
       "0       11.414077        145.07001             4.977216                 NaN   \n",
       "1       11.414077        145.07001             4.977216                 NaN   \n",
       "\n",
       "   hysteresis_unique  \n",
       "0                NaN  \n",
       "1                NaN  "
      ]
     },
     "execution_count": 106,
     "metadata": {},
     "output_type": "execute_result"
    }
   ],
   "source": [
    "panel_total2.head(2)"
   ]
  },
  {
   "cell_type": "code",
   "execution_count": 107,
   "id": "9de26c8d-0596-4766-bbe2-1cf14e672b11",
   "metadata": {},
   "outputs": [
    {
     "data": {
      "text/html": [
       "<div>\n",
       "<style scoped>\n",
       "    .dataframe tbody tr th:only-of-type {\n",
       "        vertical-align: middle;\n",
       "    }\n",
       "\n",
       "    .dataframe tbody tr th {\n",
       "        vertical-align: top;\n",
       "    }\n",
       "\n",
       "    .dataframe thead th {\n",
       "        text-align: right;\n",
       "    }\n",
       "</style>\n",
       "<table border=\"1\" class=\"dataframe\">\n",
       "  <thead>\n",
       "    <tr style=\"text-align: right;\">\n",
       "      <th></th>\n",
       "      <th>country</th>\n",
       "      <th>iso_o</th>\n",
       "      <th>iso_d</th>\n",
       "      <th>TIME_PERIOD</th>\n",
       "      <th>total_tr</th>\n",
       "      <th>hysteresis_total</th>\n",
       "      <th>gdp</th>\n",
       "      <th>log_gdp</th>\n",
       "      <th>D_log_gdp</th>\n",
       "      <th>gdp_pct</th>\n",
       "      <th>log_gdp_pct</th>\n",
       "      <th>D_log_gdp_pct</th>\n",
       "      <th>population</th>\n",
       "      <th>log_population</th>\n",
       "      <th>trade_gdp_ratio</th>\n",
       "      <th>log_trade_gdp_ratio</th>\n",
       "      <th>unique_cultural_tr</th>\n",
       "      <th>hysteresis_unique</th>\n",
       "    </tr>\n",
       "  </thead>\n",
       "  <tbody>\n",
       "    <tr>\n",
       "      <th>1139</th>\n",
       "      <td>Aruba</td>\n",
       "      <td>ABW</td>\n",
       "      <td>AGO</td>\n",
       "      <td>2014</td>\n",
       "      <td>0.037197</td>\n",
       "      <td>4.822801</td>\n",
       "      <td>2.790850e+09</td>\n",
       "      <td>21.749613</td>\n",
       "      <td>0.022833</td>\n",
       "      <td>26129.84</td>\n",
       "      <td>10.170834</td>\n",
       "      <td>0.012177</td>\n",
       "      <td>106807</td>\n",
       "      <td>11.578779</td>\n",
       "      <td>162.88</td>\n",
       "      <td>5.093014</td>\n",
       "      <td>0.000028</td>\n",
       "      <td>0.0</td>\n",
       "    </tr>\n",
       "  </tbody>\n",
       "</table>\n",
       "</div>"
      ],
      "text/plain": [
       "     country iso_o iso_d  TIME_PERIOD  total_tr  hysteresis_total  \\\n",
       "1139   Aruba   ABW   AGO         2014  0.037197          4.822801   \n",
       "\n",
       "               gdp    log_gdp  D_log_gdp   gdp_pct  log_gdp_pct  \\\n",
       "1139  2.790850e+09  21.749613   0.022833  26129.84    10.170834   \n",
       "\n",
       "      D_log_gdp_pct  population  log_population  trade_gdp_ratio  \\\n",
       "1139       0.012177      106807       11.578779           162.88   \n",
       "\n",
       "      log_trade_gdp_ratio  unique_cultural_tr  hysteresis_unique  \n",
       "1139             5.093014            0.000028                0.0  "
      ]
     },
     "execution_count": 107,
     "metadata": {},
     "output_type": "execute_result"
    }
   ],
   "source": [
    "# sanity check\n",
    "panel_total2[(panel_total2['iso_o'] == 'ABW') & (panel_total2['iso_d'] == 'AGO') & (panel_total2['TIME_PERIOD'] == 2014)]"
   ]
  },
  {
   "cell_type": "code",
   "execution_count": 108,
   "id": "b705f3ef-01b0-4fe9-857f-01f137b88b33",
   "metadata": {},
   "outputs": [],
   "source": [
    "panel_total2 = panel_total2[['country', 'iso_o', 'iso_d', 'TIME_PERIOD', 'total_tr', 'unique_cultural_tr', 'hysteresis_total', 'hysteresis_unique','gdp', 'log_gdp', 'D_log_gdp', 'gdp_pct','log_gdp_pct', 'D_log_gdp_pct', 'population', 'log_population','trade_gdp_ratio', 'log_trade_gdp_ratio']]"
   ]
  },
  {
   "cell_type": "code",
   "execution_count": 109,
   "id": "54c7e7bf-d969-499d-8a4c-7b6d5c354ab0",
   "metadata": {},
   "outputs": [
    {
     "name": "stdout",
     "output_type": "stream",
     "text": [
      "17414\n",
      "34043\n"
     ]
    }
   ],
   "source": [
    "print(unique_long.groupby(['iso_o', 'iso_d']).ngroups)\n",
    "print(panel_total2.groupby(['iso_o', 'iso_d']).ngroups)"
   ]
  },
  {
   "cell_type": "code",
   "execution_count": 110,
   "id": "b3a0d75b-61d2-44bd-a1b6-1fa8141b64d8",
   "metadata": {},
   "outputs": [
    {
     "name": "stdout",
     "output_type": "stream",
     "text": [
      "190 190 24\n",
      "190 190 24\n"
     ]
    }
   ],
   "source": [
    "print(unique_long['iso_o'].nunique(), unique_long['iso_d'].nunique(), unique_long['TIME_PERIOD'].nunique())\n",
    "print(panel_total2['iso_o'].nunique(), panel_total2['iso_d'].nunique(), panel_total2['TIME_PERIOD'].nunique())"
   ]
  },
  {
   "cell_type": "markdown",
   "id": "549d57ee-5fc5-4276-a68c-e6a45c721dc3",
   "metadata": {},
   "source": [
    "**Merging the previous data with reproducible goods trade data**"
   ]
  },
  {
   "cell_type": "code",
   "execution_count": 111,
   "id": "931bcd13-4e6a-4171-bd20-160c29603ef8",
   "metadata": {},
   "outputs": [
    {
     "data": {
      "text/html": [
       "<div>\n",
       "<style scoped>\n",
       "    .dataframe tbody tr th:only-of-type {\n",
       "        vertical-align: middle;\n",
       "    }\n",
       "\n",
       "    .dataframe tbody tr th {\n",
       "        vertical-align: top;\n",
       "    }\n",
       "\n",
       "    .dataframe thead th {\n",
       "        text-align: right;\n",
       "    }\n",
       "</style>\n",
       "<table border=\"1\" class=\"dataframe\">\n",
       "  <thead>\n",
       "    <tr style=\"text-align: right;\">\n",
       "      <th></th>\n",
       "      <th>iso_o</th>\n",
       "      <th>iso_d</th>\n",
       "      <th>TIME_PERIOD</th>\n",
       "      <th>reproducible_cultural_tr</th>\n",
       "      <th>PRODUCT_HS</th>\n",
       "      <th>product_count</th>\n",
       "      <th>hysteresis_repro</th>\n",
       "    </tr>\n",
       "  </thead>\n",
       "  <tbody>\n",
       "    <tr>\n",
       "      <th>0</th>\n",
       "      <td>ABW</td>\n",
       "      <td>AFG</td>\n",
       "      <td>2019</td>\n",
       "      <td>0.012061</td>\n",
       "      <td>('HS17_49', 'HS17_85')</td>\n",
       "      <td>2</td>\n",
       "      <td>0.0</td>\n",
       "    </tr>\n",
       "    <tr>\n",
       "      <th>1</th>\n",
       "      <td>ABW</td>\n",
       "      <td>AGO</td>\n",
       "      <td>2008</td>\n",
       "      <td>0.000165</td>\n",
       "      <td>('HS17_85',)</td>\n",
       "      <td>1</td>\n",
       "      <td>0.0</td>\n",
       "    </tr>\n",
       "  </tbody>\n",
       "</table>\n",
       "</div>"
      ],
      "text/plain": [
       "  iso_o iso_d  TIME_PERIOD  reproducible_cultural_tr              PRODUCT_HS  \\\n",
       "0   ABW   AFG         2019                  0.012061  ('HS17_49', 'HS17_85')   \n",
       "1   ABW   AGO         2008                  0.000165            ('HS17_85',)   \n",
       "\n",
       "   product_count  hysteresis_repro  \n",
       "0              2               0.0  \n",
       "1              1               0.0  "
      ]
     },
     "execution_count": 111,
     "metadata": {},
     "output_type": "execute_result"
    }
   ],
   "source": [
    "repro_long.head(2)"
   ]
  },
  {
   "cell_type": "code",
   "execution_count": 112,
   "id": "b7e9a4b2-966b-4315-81d7-21ba5aea9bf1",
   "metadata": {},
   "outputs": [],
   "source": [
    "repro_clean = repro_long.drop(columns=['PRODUCT_HS', 'product_count']).drop_duplicates() #removing these two columns"
   ]
  },
  {
   "cell_type": "code",
   "execution_count": 113,
   "id": "ac8d10a4-83c2-41f0-a151-65c4f832a29d",
   "metadata": {},
   "outputs": [],
   "source": [
    "panel_total3 = panel_total2.merge(repro_clean, on = ['iso_o', 'iso_d', 'TIME_PERIOD'], how='left')"
   ]
  },
  {
   "cell_type": "code",
   "execution_count": 114,
   "id": "40ed17f2-de04-4ae9-be69-df8b2b87403c",
   "metadata": {},
   "outputs": [],
   "source": [
    "panel_total3 = panel_total3[['country', 'iso_o', 'iso_d', 'TIME_PERIOD', 'total_tr', 'unique_cultural_tr', 'reproducible_cultural_tr', 'hysteresis_total', 'hysteresis_unique', 'hysteresis_repro','gdp', 'log_gdp', 'D_log_gdp', 'gdp_pct','log_gdp_pct', 'D_log_gdp_pct', 'population', 'log_population','trade_gdp_ratio', 'log_trade_gdp_ratio']]"
   ]
  },
  {
   "cell_type": "code",
   "execution_count": 115,
   "id": "3db3afcb-9578-4ad6-9b1f-d2ecbfe80fb1",
   "metadata": {},
   "outputs": [
    {
     "data": {
      "text/html": [
       "<div>\n",
       "<style scoped>\n",
       "    .dataframe tbody tr th:only-of-type {\n",
       "        vertical-align: middle;\n",
       "    }\n",
       "\n",
       "    .dataframe tbody tr th {\n",
       "        vertical-align: top;\n",
       "    }\n",
       "\n",
       "    .dataframe thead th {\n",
       "        text-align: right;\n",
       "    }\n",
       "</style>\n",
       "<table border=\"1\" class=\"dataframe\">\n",
       "  <thead>\n",
       "    <tr style=\"text-align: right;\">\n",
       "      <th></th>\n",
       "      <th>country</th>\n",
       "      <th>iso_o</th>\n",
       "      <th>iso_d</th>\n",
       "      <th>TIME_PERIOD</th>\n",
       "      <th>total_tr</th>\n",
       "      <th>unique_cultural_tr</th>\n",
       "      <th>reproducible_cultural_tr</th>\n",
       "      <th>hysteresis_total</th>\n",
       "      <th>hysteresis_unique</th>\n",
       "      <th>hysteresis_repro</th>\n",
       "      <th>gdp</th>\n",
       "      <th>log_gdp</th>\n",
       "      <th>D_log_gdp</th>\n",
       "      <th>gdp_pct</th>\n",
       "      <th>log_gdp_pct</th>\n",
       "      <th>D_log_gdp_pct</th>\n",
       "      <th>population</th>\n",
       "      <th>log_population</th>\n",
       "      <th>trade_gdp_ratio</th>\n",
       "      <th>log_trade_gdp_ratio</th>\n",
       "    </tr>\n",
       "  </thead>\n",
       "  <tbody>\n",
       "    <tr>\n",
       "      <th>1139</th>\n",
       "      <td>Aruba</td>\n",
       "      <td>ABW</td>\n",
       "      <td>AGO</td>\n",
       "      <td>2014</td>\n",
       "      <td>0.037197</td>\n",
       "      <td>0.000028</td>\n",
       "      <td>NaN</td>\n",
       "      <td>4.822801</td>\n",
       "      <td>0.0</td>\n",
       "      <td>NaN</td>\n",
       "      <td>2.790850e+09</td>\n",
       "      <td>21.749613</td>\n",
       "      <td>0.022833</td>\n",
       "      <td>26129.84</td>\n",
       "      <td>10.170834</td>\n",
       "      <td>0.012177</td>\n",
       "      <td>106807</td>\n",
       "      <td>11.578779</td>\n",
       "      <td>162.88</td>\n",
       "      <td>5.093014</td>\n",
       "    </tr>\n",
       "  </tbody>\n",
       "</table>\n",
       "</div>"
      ],
      "text/plain": [
       "     country iso_o iso_d  TIME_PERIOD  total_tr  unique_cultural_tr  \\\n",
       "1139   Aruba   ABW   AGO         2014  0.037197            0.000028   \n",
       "\n",
       "      reproducible_cultural_tr  hysteresis_total  hysteresis_unique  \\\n",
       "1139                       NaN          4.822801                0.0   \n",
       "\n",
       "      hysteresis_repro           gdp    log_gdp  D_log_gdp   gdp_pct  \\\n",
       "1139               NaN  2.790850e+09  21.749613   0.022833  26129.84   \n",
       "\n",
       "      log_gdp_pct  D_log_gdp_pct  population  log_population  trade_gdp_ratio  \\\n",
       "1139    10.170834       0.012177      106807       11.578779           162.88   \n",
       "\n",
       "      log_trade_gdp_ratio  \n",
       "1139             5.093014  "
      ]
     },
     "execution_count": 115,
     "metadata": {},
     "output_type": "execute_result"
    }
   ],
   "source": [
    "# sanity check\n",
    "panel_total3[(panel_total3['iso_o'] == 'ABW') & (panel_total3['iso_d'] == 'AGO') & (panel_total3['TIME_PERIOD'] == 2014)]"
   ]
  },
  {
   "cell_type": "code",
   "execution_count": 116,
   "id": "bf41d781-a0ed-49f7-a58b-7c08b2547455",
   "metadata": {},
   "outputs": [
    {
     "name": "stdout",
     "output_type": "stream",
     "text": [
      "190 190 24\n",
      "190 190 24\n"
     ]
    }
   ],
   "source": [
    "print(repro_long['iso_o'].nunique(), repro_long['iso_d'].nunique(), repro_long['TIME_PERIOD'].nunique())\n",
    "print(panel_total3['iso_o'].nunique(), panel_total3['iso_d'].nunique(), panel_total3['TIME_PERIOD'].nunique())"
   ]
  },
  {
   "cell_type": "code",
   "execution_count": 117,
   "id": "b418ea9e-9f02-439d-8d00-f1d8afeb54c2",
   "metadata": {},
   "outputs": [
    {
     "name": "stdout",
     "output_type": "stream",
     "text": [
      "190 190 24\n"
     ]
    }
   ],
   "source": [
    "print(panel_total3['iso_o'].nunique(), panel_total3['iso_d'].nunique(), panel_total3['TIME_PERIOD'].nunique())"
   ]
  },
  {
   "cell_type": "code",
   "execution_count": 118,
   "id": "035cb077-b250-4cc9-8eda-899c0f38d8c4",
   "metadata": {},
   "outputs": [],
   "source": [
    "rta_long = pd.read_csv(\"../data/cleaned/rta_long.csv\")"
   ]
  },
  {
   "cell_type": "code",
   "execution_count": 119,
   "id": "ba4c9098-7cb7-4ee8-9fab-80ca5fc727bc",
   "metadata": {},
   "outputs": [
    {
     "data": {
      "text/html": [
       "<div>\n",
       "<style scoped>\n",
       "    .dataframe tbody tr th:only-of-type {\n",
       "        vertical-align: middle;\n",
       "    }\n",
       "\n",
       "    .dataframe tbody tr th {\n",
       "        vertical-align: top;\n",
       "    }\n",
       "\n",
       "    .dataframe thead th {\n",
       "        text-align: right;\n",
       "    }\n",
       "</style>\n",
       "<table border=\"1\" class=\"dataframe\">\n",
       "  <thead>\n",
       "    <tr style=\"text-align: right;\">\n",
       "      <th></th>\n",
       "      <th>iso_o</th>\n",
       "      <th>iso_d</th>\n",
       "      <th>year</th>\n",
       "      <th>rta</th>\n",
       "    </tr>\n",
       "  </thead>\n",
       "  <tbody>\n",
       "    <tr>\n",
       "      <th>0</th>\n",
       "      <td>ABW</td>\n",
       "      <td>AFG</td>\n",
       "      <td>2000</td>\n",
       "      <td>0</td>\n",
       "    </tr>\n",
       "    <tr>\n",
       "      <th>1</th>\n",
       "      <td>ABW</td>\n",
       "      <td>AFG</td>\n",
       "      <td>2001</td>\n",
       "      <td>0</td>\n",
       "    </tr>\n",
       "    <tr>\n",
       "      <th>2</th>\n",
       "      <td>ABW</td>\n",
       "      <td>AFG</td>\n",
       "      <td>2002</td>\n",
       "      <td>0</td>\n",
       "    </tr>\n",
       "  </tbody>\n",
       "</table>\n",
       "</div>"
      ],
      "text/plain": [
       "  iso_o iso_d  year  rta\n",
       "0   ABW   AFG  2000    0\n",
       "1   ABW   AFG  2001    0\n",
       "2   ABW   AFG  2002    0"
      ]
     },
     "execution_count": 119,
     "metadata": {},
     "output_type": "execute_result"
    }
   ],
   "source": [
    "rta_long.head(3)"
   ]
  },
  {
   "cell_type": "code",
   "execution_count": 120,
   "id": "2756797e-a452-458b-8a88-51cfa8d11e97",
   "metadata": {},
   "outputs": [],
   "source": [
    "rta_long = rta_long.rename(columns = {'year': 'TIME_PERIOD'})"
   ]
  },
  {
   "cell_type": "code",
   "execution_count": 121,
   "id": "e56ee7e4-b75a-4c5c-8820-739ea4a6adf3",
   "metadata": {},
   "outputs": [],
   "source": [
    "panel_total4 = panel_total3.merge(rta_long, on = ['iso_o', 'iso_d', 'TIME_PERIOD'], how='left')"
   ]
  },
  {
   "cell_type": "code",
   "execution_count": 122,
   "id": "da5a02f0-fb3e-4102-af35-ccda8173db32",
   "metadata": {},
   "outputs": [
    {
     "data": {
      "text/html": [
       "<div>\n",
       "<style scoped>\n",
       "    .dataframe tbody tr th:only-of-type {\n",
       "        vertical-align: middle;\n",
       "    }\n",
       "\n",
       "    .dataframe tbody tr th {\n",
       "        vertical-align: top;\n",
       "    }\n",
       "\n",
       "    .dataframe thead th {\n",
       "        text-align: right;\n",
       "    }\n",
       "</style>\n",
       "<table border=\"1\" class=\"dataframe\">\n",
       "  <thead>\n",
       "    <tr style=\"text-align: right;\">\n",
       "      <th></th>\n",
       "      <th>country</th>\n",
       "      <th>iso_o</th>\n",
       "      <th>iso_d</th>\n",
       "      <th>TIME_PERIOD</th>\n",
       "      <th>total_tr</th>\n",
       "      <th>unique_cultural_tr</th>\n",
       "      <th>reproducible_cultural_tr</th>\n",
       "      <th>hysteresis_total</th>\n",
       "      <th>hysteresis_unique</th>\n",
       "      <th>hysteresis_repro</th>\n",
       "      <th>...</th>\n",
       "      <th>log_gdp</th>\n",
       "      <th>D_log_gdp</th>\n",
       "      <th>gdp_pct</th>\n",
       "      <th>log_gdp_pct</th>\n",
       "      <th>D_log_gdp_pct</th>\n",
       "      <th>population</th>\n",
       "      <th>log_population</th>\n",
       "      <th>trade_gdp_ratio</th>\n",
       "      <th>log_trade_gdp_ratio</th>\n",
       "      <th>rta</th>\n",
       "    </tr>\n",
       "  </thead>\n",
       "  <tbody>\n",
       "    <tr>\n",
       "      <th>0</th>\n",
       "      <td>Aruba</td>\n",
       "      <td>ABW</td>\n",
       "      <td>ARE</td>\n",
       "      <td>2000</td>\n",
       "      <td>0.000101</td>\n",
       "      <td>NaN</td>\n",
       "      <td>NaN</td>\n",
       "      <td>0.0</td>\n",
       "      <td>NaN</td>\n",
       "      <td>NaN</td>\n",
       "      <td>...</td>\n",
       "      <td>21.351049</td>\n",
       "      <td>0.083773</td>\n",
       "      <td>20681.02</td>\n",
       "      <td>9.936972</td>\n",
       "      <td>0.073462</td>\n",
       "      <td>90588</td>\n",
       "      <td>11.414077</td>\n",
       "      <td>145.07001</td>\n",
       "      <td>4.977216</td>\n",
       "      <td>0.0</td>\n",
       "    </tr>\n",
       "    <tr>\n",
       "      <th>1</th>\n",
       "      <td>Aruba</td>\n",
       "      <td>ABW</td>\n",
       "      <td>ARG</td>\n",
       "      <td>2000</td>\n",
       "      <td>0.034091</td>\n",
       "      <td>NaN</td>\n",
       "      <td>0.000104</td>\n",
       "      <td>0.0</td>\n",
       "      <td>NaN</td>\n",
       "      <td>0.0</td>\n",
       "      <td>...</td>\n",
       "      <td>21.351049</td>\n",
       "      <td>0.083773</td>\n",
       "      <td>20681.02</td>\n",
       "      <td>9.936972</td>\n",
       "      <td>0.073462</td>\n",
       "      <td>90588</td>\n",
       "      <td>11.414077</td>\n",
       "      <td>145.07001</td>\n",
       "      <td>4.977216</td>\n",
       "      <td>0.0</td>\n",
       "    </tr>\n",
       "  </tbody>\n",
       "</table>\n",
       "<p>2 rows × 21 columns</p>\n",
       "</div>"
      ],
      "text/plain": [
       "  country iso_o iso_d  TIME_PERIOD  total_tr  unique_cultural_tr  \\\n",
       "0   Aruba   ABW   ARE         2000  0.000101                 NaN   \n",
       "1   Aruba   ABW   ARG         2000  0.034091                 NaN   \n",
       "\n",
       "   reproducible_cultural_tr  hysteresis_total  hysteresis_unique  \\\n",
       "0                       NaN               0.0                NaN   \n",
       "1                  0.000104               0.0                NaN   \n",
       "\n",
       "   hysteresis_repro  ...    log_gdp  D_log_gdp   gdp_pct  log_gdp_pct  \\\n",
       "0               NaN  ...  21.351049   0.083773  20681.02     9.936972   \n",
       "1               0.0  ...  21.351049   0.083773  20681.02     9.936972   \n",
       "\n",
       "   D_log_gdp_pct  population  log_population  trade_gdp_ratio  \\\n",
       "0       0.073462       90588       11.414077        145.07001   \n",
       "1       0.073462       90588       11.414077        145.07001   \n",
       "\n",
       "   log_trade_gdp_ratio  rta  \n",
       "0             4.977216  0.0  \n",
       "1             4.977216  0.0  \n",
       "\n",
       "[2 rows x 21 columns]"
      ]
     },
     "execution_count": 122,
     "metadata": {},
     "output_type": "execute_result"
    }
   ],
   "source": [
    "panel_total4.head(2)"
   ]
  },
  {
   "cell_type": "code",
   "execution_count": 123,
   "id": "be746022-c983-4b1f-af84-e2be09316d03",
   "metadata": {},
   "outputs": [],
   "source": [
    "import itertools"
   ]
  },
  {
   "cell_type": "code",
   "execution_count": 124,
   "id": "4fba0b8b-0924-4524-8e0c-be5221675e75",
   "metadata": {},
   "outputs": [
    {
     "data": {
      "text/plain": [
       "Index(['country', 'iso_o', 'iso_d', 'TIME_PERIOD', 'total_tr',\n",
       "       'unique_cultural_tr', 'reproducible_cultural_tr', 'hysteresis_total',\n",
       "       'hysteresis_unique', 'hysteresis_repro', 'gdp', 'log_gdp', 'D_log_gdp',\n",
       "       'gdp_pct', 'log_gdp_pct', 'D_log_gdp_pct', 'population',\n",
       "       'log_population', 'trade_gdp_ratio', 'log_trade_gdp_ratio', 'rta'],\n",
       "      dtype='object')"
      ]
     },
     "execution_count": 124,
     "metadata": {},
     "output_type": "execute_result"
    }
   ],
   "source": [
    "panel_total4.columns"
   ]
  },
  {
   "cell_type": "code",
   "execution_count": 125,
   "id": "5a639e0d-31c1-4bbb-8eae-147a0b6126ee",
   "metadata": {},
   "outputs": [],
   "source": [
    "panel_total4_tr = panel_total4[['country', 'iso_o', 'iso_d', 'TIME_PERIOD', 'total_tr',\n",
    "       'unique_cultural_tr', 'reproducible_cultural_tr', 'hysteresis_total', 'hysteresis_unique', 'hysteresis_repro', 'rta']]"
   ]
  },
  {
   "cell_type": "code",
   "execution_count": 126,
   "id": "9ac9f622-8abc-4eb7-bfbc-138cb4517859",
   "metadata": {},
   "outputs": [
    {
     "name": "stdout",
     "output_type": "stream",
     "text": [
      "190\n"
     ]
    }
   ],
   "source": [
    "country_list = panel_total4['iso_o'].unique()\n",
    "print(len(country_list))\n",
    "years = list(range(2000, 2024))\n",
    "panel_df = pd.MultiIndex.from_product([country_list, country_list, years], names=['iso_o', 'iso_d', 'TIME_PERIOD'])\n",
    "panel_df_blank = panel_df.to_frame(index=False)"
   ]
  },
  {
   "cell_type": "code",
   "execution_count": 127,
   "id": "8ab5e1ca-c765-47f5-a9fb-269faf49a08d",
   "metadata": {},
   "outputs": [
    {
     "data": {
      "text/plain": [
       "861840"
      ]
     },
     "execution_count": 127,
     "metadata": {},
     "output_type": "execute_result"
    }
   ],
   "source": [
    "(190*190 - 190)*24"
   ]
  },
  {
   "cell_type": "code",
   "execution_count": 128,
   "id": "3eac2468-1882-4464-8158-1e8509dc73eb",
   "metadata": {},
   "outputs": [
    {
     "data": {
      "text/plain": [
       "(866400, 3)"
      ]
     },
     "execution_count": 128,
     "metadata": {},
     "output_type": "execute_result"
    }
   ],
   "source": [
    "panel_df_blank.shape"
   ]
  },
  {
   "cell_type": "code",
   "execution_count": 129,
   "id": "f30f5c95-298d-4421-95f9-93a5e40abca4",
   "metadata": {},
   "outputs": [],
   "source": [
    "panel_df_blank = panel_df_blank[panel_df_blank['iso_o'] != panel_df_blank['iso_d']]\n",
    "only_trade = panel_df_blank.merge(panel_total4_tr, on = ['iso_o', 'iso_d', 'TIME_PERIOD'], how = 'left')"
   ]
  },
  {
   "cell_type": "code",
   "execution_count": 130,
   "id": "e1fe53f4-2705-4b93-9e10-ea4d498cf0d4",
   "metadata": {},
   "outputs": [],
   "source": [
    "assert only_trade.shape[0] == panel_df_blank.shape[0]"
   ]
  },
  {
   "cell_type": "code",
   "execution_count": 131,
   "id": "65853f60-90c2-4bc6-97e6-38e66f49687e",
   "metadata": {},
   "outputs": [],
   "source": [
    "#print(only_trade[(only_trade['iso_o'] == 'BGD') & (only_trade['iso_d'] == 'IND')])"
   ]
  },
  {
   "cell_type": "code",
   "execution_count": 132,
   "id": "130926bb-7f84-45bf-b18a-50212b0f776e",
   "metadata": {},
   "outputs": [],
   "source": [
    "only_trade['total_tr'] = only_trade['total_tr'].fillna(0)\n",
    "only_trade['unique_cultural_tr'] = only_trade['unique_cultural_tr'].fillna(0)\n",
    "only_trade['reproducible_cultural_tr'] = only_trade['reproducible_cultural_tr'].fillna(0)\n",
    "only_trade['hysteresis_total'] = only_trade['hysteresis_total'].fillna(0)\n",
    "only_trade['hysteresis_unique'] = only_trade['hysteresis_unique'].fillna(0)\n",
    "only_trade['hysteresis_repro'] = only_trade['hysteresis_repro'].fillna(0)"
   ]
  },
  {
   "cell_type": "code",
   "execution_count": null,
   "id": "f0f59b4a-e947-4771-8570-9d51c7b39788",
   "metadata": {},
   "outputs": [],
   "source": []
  },
  {
   "cell_type": "code",
   "execution_count": 133,
   "id": "21b53d69-1a13-4a45-a027-3e97ae303da8",
   "metadata": {},
   "outputs": [],
   "source": [
    "trade_time_series_attribute = only_trade.merge(attribute2000_2023, on = ['iso_o', 'TIME_PERIOD'], how = 'left')"
   ]
  },
  {
   "cell_type": "code",
   "execution_count": 134,
   "id": "1876e568-90b4-4acc-a7d1-f35941295add",
   "metadata": {},
   "outputs": [],
   "source": [
    "assert only_trade.shape[0] == panel_df_blank.shape[0] == trade_time_series_attribute.shape[0]"
   ]
  },
  {
   "cell_type": "code",
   "execution_count": 135,
   "id": "459ac155-c8da-4ab9-a316-48d3982ccb16",
   "metadata": {},
   "outputs": [],
   "source": [
    "assert attribute2000_2023['iso_o'].nunique() == only_trade['iso_o'].nunique() ==  panel_df_blank['iso_o'].nunique() == trade_time_series_attribute['iso_o'].nunique()"
   ]
  },
  {
   "cell_type": "code",
   "execution_count": 136,
   "id": "484e6527-b87a-40d2-a7e5-a9ebf31f7ed4",
   "metadata": {},
   "outputs": [],
   "source": [
    "#rade_time_series_attribute.head(20)"
   ]
  },
  {
   "cell_type": "code",
   "execution_count": 137,
   "id": "b5ab85df-6c89-4e27-9839-1bd54b5c9fb3",
   "metadata": {},
   "outputs": [],
   "source": [
    "trade_time_series_attribute['D_log_gdp'] = trade_time_series_attribute['D_log_gdp'].fillna(0)\n",
    "trade_time_series_attribute['D_log_gdp_pct'] = trade_time_series_attribute['D_log_gdp_pct'].fillna(0)"
   ]
  },
  {
   "cell_type": "code",
   "execution_count": 138,
   "id": "87d29c34-4288-4dde-8b16-c3f1f3da10a0",
   "metadata": {},
   "outputs": [],
   "source": [
    "#trade_time_series_attribute[['GDP_pct', 'population', 'trade_gdp_ratio', 'log_population', 'log_trade_gdp_ratio']].isnull().mean()"
   ]
  },
  {
   "cell_type": "code",
   "execution_count": 139,
   "id": "98274c8f-2c31-4771-97f1-583b40942653",
   "metadata": {},
   "outputs": [],
   "source": [
    "#raise SystemExit(\"Stop!\")"
   ]
  },
  {
   "cell_type": "code",
   "execution_count": 140,
   "id": "e484f117-6a75-4370-9419-48903d22209d",
   "metadata": {},
   "outputs": [],
   "source": [
    "trade_time_series_attribute =  trade_time_series_attribute.merge(fixed_long, on = ['iso_o', 'iso_d'], how = 'left')"
   ]
  },
  {
   "cell_type": "code",
   "execution_count": 141,
   "id": "237cbe5b-1532-4370-bd34-10bb8446f0c5",
   "metadata": {},
   "outputs": [
    {
     "data": {
      "text/plain": [
       "Index(['iso_o', 'iso_d', 'TIME_PERIOD', 'country_x', 'total_tr',\n",
       "       'unique_cultural_tr', 'reproducible_cultural_tr', 'hysteresis_total',\n",
       "       'hysteresis_unique', 'hysteresis_repro', 'rta', 'country_y', 'gdp',\n",
       "       'gdp_pct', 'population', 'trade_gdp_ratio', 'log_gdp',\n",
       "       'log_trade_gdp_ratio', 'log_gdp_pct', 'log_population', 'country_id',\n",
       "       'D_log_gdp_pct', 'D_log_gdp', 'contig', 'comlang_off', 'colony',\n",
       "       'comcol', 'dist', 'log_dist', 'country', 'landlocked', 'continent',\n",
       "       'lat', 'lon', 'langoff_1', 'colonizer1', 'category', 'development'],\n",
       "      dtype='object')"
      ]
     },
     "execution_count": 141,
     "metadata": {},
     "output_type": "execute_result"
    }
   ],
   "source": [
    "trade_time_series_attribute.columns"
   ]
  },
  {
   "cell_type": "code",
   "execution_count": 142,
   "id": "aaf1f56b-6afe-40e2-a1db-c10935ffa7b8",
   "metadata": {},
   "outputs": [],
   "source": [
    "#trade_time_series_attribute[['country_x']].head()"
   ]
  },
  {
   "cell_type": "code",
   "execution_count": 143,
   "id": "52f2fd7d-c8f7-4807-b8bf-ee79beee2e5b",
   "metadata": {},
   "outputs": [],
   "source": [
    "trade_time_series_attribute = trade_time_series_attribute.drop(columns = ['country_x', 'country_y', 'country_id'])"
   ]
  },
  {
   "cell_type": "markdown",
   "id": "e8e27896-6f2e-4b74-8b10-ab825039658a",
   "metadata": {},
   "source": [
    "#### Creating variables for destination countries using a copy of the original dataset"
   ]
  },
  {
   "cell_type": "code",
   "execution_count": 144,
   "id": "9420f37a-02d7-4e0b-8fdf-6fab7119181d",
   "metadata": {},
   "outputs": [],
   "source": [
    "partner_attributes = trade_time_series_attribute.copy()"
   ]
  },
  {
   "cell_type": "code",
   "execution_count": 145,
   "id": "3917bbfc-d6db-48a6-b579-62f81f99f5e7",
   "metadata": {},
   "outputs": [
    {
     "data": {
      "text/plain": [
       "Index(['iso_o', 'iso_d', 'TIME_PERIOD', 'total_tr', 'unique_cultural_tr',\n",
       "       'reproducible_cultural_tr', 'hysteresis_total', 'hysteresis_unique',\n",
       "       'hysteresis_repro', 'rta', 'gdp', 'gdp_pct', 'population',\n",
       "       'trade_gdp_ratio', 'log_gdp', 'log_trade_gdp_ratio', 'log_gdp_pct',\n",
       "       'log_population', 'D_log_gdp_pct', 'D_log_gdp', 'contig', 'comlang_off',\n",
       "       'colony', 'comcol', 'dist', 'log_dist', 'country', 'landlocked',\n",
       "       'continent', 'lat', 'lon', 'langoff_1', 'colonizer1', 'category',\n",
       "       'development'],\n",
       "      dtype='object')"
      ]
     },
     "execution_count": 145,
     "metadata": {},
     "output_type": "execute_result"
    }
   ],
   "source": [
    "partner_attributes.columns"
   ]
  },
  {
   "cell_type": "code",
   "execution_count": 146,
   "id": "cce9b567-b2c3-480f-bf22-4b0990431dca",
   "metadata": {},
   "outputs": [],
   "source": [
    "#removing all dyad level factors\n",
    "partner_attributes = partner_attributes.drop(columns = ['iso_d', 'total_tr', 'unique_cultural_tr', 'rta', 'reproducible_cultural_tr', 'contig', 'comlang_off',\n",
    "       'colony', 'comcol', 'log_dist', 'dist', 'lat', 'lon', 'colonizer1', 'langoff_1','hysteresis_total', 'hysteresis_unique',\n",
    "       'hysteresis_repro'])"
   ]
  },
  {
   "cell_type": "code",
   "execution_count": 147,
   "id": "9205fca4-8d7f-457e-9b6a-a6086ea23c6b",
   "metadata": {},
   "outputs": [
    {
     "data": {
      "text/plain": [
       "Index(['iso_o', 'TIME_PERIOD', 'gdp', 'gdp_pct', 'population',\n",
       "       'trade_gdp_ratio', 'log_gdp', 'log_trade_gdp_ratio', 'log_gdp_pct',\n",
       "       'log_population', 'D_log_gdp_pct', 'D_log_gdp', 'country', 'landlocked',\n",
       "       'continent', 'category', 'development'],\n",
       "      dtype='object')"
      ]
     },
     "execution_count": 147,
     "metadata": {},
     "output_type": "execute_result"
    }
   ],
   "source": [
    "partner_attributes.columns"
   ]
  },
  {
   "cell_type": "code",
   "execution_count": 148,
   "id": "0bd84645-3286-498d-9d1d-22c085a9c0e0",
   "metadata": {},
   "outputs": [],
   "source": [
    "partner_attributes = partner_attributes.rename(columns = {'iso_o': 'iso_d'})\n",
    "partner_attributes = partner_attributes.rename(columns = {'country': 'country_d'})\n",
    "partner_attributes = partner_attributes.rename(columns = {'gdp': 'gdp_d'})\n",
    "partner_attributes = partner_attributes.rename(columns = {'log_gdp': 'log_gdp_d'})\n",
    "partner_attributes = partner_attributes.rename(columns = {'D_log_gdp': 'D_log_gdp_d'})\n",
    "partner_attributes = partner_attributes.rename(columns = {'population': 'population_d'})\n",
    "partner_attributes = partner_attributes.rename(columns = {'log_population': 'log_population_d'})\n",
    "partner_attributes = partner_attributes.rename(columns = {'gdp_pct': 'gdp_pct_d'})\n",
    "partner_attributes = partner_attributes.rename(columns = {'log_gdp_pct': 'log_gdp_pct_d'})\n",
    "partner_attributes = partner_attributes.rename(columns = {'D_log_gdp_pct': 'D_log_gdp_pct_d'})\n",
    "partner_attributes = partner_attributes.rename(columns = {'trade_gdp_ratio': 'trade_gdp_ratio_d'})\n",
    "partner_attributes = partner_attributes.rename(columns = {'log_trade_gdp_ratio': 'log_trade_gdp_ratio_d'})\n",
    "partner_attributes = partner_attributes.rename(columns = {'landlocked': 'landlocked_d'})\n",
    "partner_attributes = partner_attributes.rename(columns = {'continent': 'continent_d'})\n",
    "partner_attributes = partner_attributes.rename(columns = {'category': 'category_d'})\n",
    "partner_attributes = partner_attributes.rename(columns = {'development': 'development_d'})"
   ]
  },
  {
   "cell_type": "code",
   "execution_count": 149,
   "id": "bb6eb6f2-b5f3-4e6f-bda0-6e5017d34ef4",
   "metadata": {},
   "outputs": [
    {
     "data": {
      "text/plain": [
       "Index(['iso_d', 'TIME_PERIOD', 'gdp_d', 'gdp_pct_d', 'population_d',\n",
       "       'trade_gdp_ratio_d', 'log_gdp_d', 'log_trade_gdp_ratio_d',\n",
       "       'log_gdp_pct_d', 'log_population_d', 'D_log_gdp_pct_d', 'D_log_gdp_d',\n",
       "       'country_d', 'landlocked_d', 'continent_d', 'category_d',\n",
       "       'development_d'],\n",
       "      dtype='object')"
      ]
     },
     "execution_count": 149,
     "metadata": {},
     "output_type": "execute_result"
    }
   ],
   "source": [
    "partner_attributes.columns"
   ]
  },
  {
   "cell_type": "code",
   "execution_count": 150,
   "id": "2f86f5d4-dbb0-4628-a0bf-d64d2b6e6148",
   "metadata": {},
   "outputs": [],
   "source": [
    "search_duplicate_row = ['iso_d', 'TIME_PERIOD']"
   ]
  },
  {
   "cell_type": "code",
   "execution_count": 151,
   "id": "d5d1bc8c-d6f5-41a3-98bf-f4037e7b7881",
   "metadata": {},
   "outputs": [],
   "source": [
    "partner_attributes_duplicate = partner_attributes.duplicated(subset = search_duplicate_row,  keep = 'last')"
   ]
  },
  {
   "cell_type": "code",
   "execution_count": 152,
   "id": "d14b9364-c698-468a-a717-f1a731805d1d",
   "metadata": {},
   "outputs": [],
   "source": [
    "partner_attributes_final = partner_attributes[~partner_attributes_duplicate]"
   ]
  },
  {
   "cell_type": "code",
   "execution_count": 153,
   "id": "dbc8988a-efaa-4b1c-bfaf-d8471206eeec",
   "metadata": {},
   "outputs": [],
   "source": [
    "assert partner_attributes_final.shape[0] == attribute2000_2023.shape[0]"
   ]
  },
  {
   "cell_type": "code",
   "execution_count": 154,
   "id": "1d76268e-bc6f-4598-8e55-4ae893d241d1",
   "metadata": {},
   "outputs": [],
   "source": [
    "complete = trade_time_series_attribute.merge(partner_attributes_final, on = ['iso_d', 'TIME_PERIOD'], how = 'left')"
   ]
  },
  {
   "cell_type": "code",
   "execution_count": 155,
   "id": "14590db8-b697-4cd0-8579-9d63e72c2fd5",
   "metadata": {},
   "outputs": [
    {
     "data": {
      "text/plain": [
       "(861840, 50)"
      ]
     },
     "execution_count": 155,
     "metadata": {},
     "output_type": "execute_result"
    }
   ],
   "source": [
    "complete.shape"
   ]
  },
  {
   "cell_type": "code",
   "execution_count": 156,
   "id": "0aea62f1-74e5-4e7d-bb08-0a95d452f34d",
   "metadata": {},
   "outputs": [
    {
     "data": {
      "text/plain": [
       "Index(['iso_o', 'iso_d', 'TIME_PERIOD', 'total_tr', 'unique_cultural_tr',\n",
       "       'reproducible_cultural_tr', 'hysteresis_total', 'hysteresis_unique',\n",
       "       'hysteresis_repro', 'rta', 'gdp', 'gdp_pct', 'population',\n",
       "       'trade_gdp_ratio', 'log_gdp', 'log_trade_gdp_ratio', 'log_gdp_pct',\n",
       "       'log_population', 'D_log_gdp_pct', 'D_log_gdp', 'contig', 'comlang_off',\n",
       "       'colony', 'comcol', 'dist', 'log_dist', 'country', 'landlocked',\n",
       "       'continent', 'lat', 'lon', 'langoff_1', 'colonizer1', 'category',\n",
       "       'development', 'gdp_d', 'gdp_pct_d', 'population_d',\n",
       "       'trade_gdp_ratio_d', 'log_gdp_d', 'log_trade_gdp_ratio_d',\n",
       "       'log_gdp_pct_d', 'log_population_d', 'D_log_gdp_pct_d', 'D_log_gdp_d',\n",
       "       'country_d', 'landlocked_d', 'continent_d', 'category_d',\n",
       "       'development_d'],\n",
       "      dtype='object')"
      ]
     },
     "execution_count": 156,
     "metadata": {},
     "output_type": "execute_result"
    }
   ],
   "source": [
    "complete.columns"
   ]
  },
  {
   "cell_type": "code",
   "execution_count": 224,
   "id": "7470b2e7-8585-49cb-b2bb-f2c1ce5ced8d",
   "metadata": {},
   "outputs": [],
   "source": [
    "s = complete.columns"
   ]
  },
  {
   "cell_type": "code",
   "execution_count": 225,
   "id": "882c19d9-6c2e-408d-88f5-71b6d3cfcaa6",
   "metadata": {},
   "outputs": [
    {
     "data": {
      "text/plain": [
       "51"
      ]
     },
     "execution_count": 225,
     "metadata": {},
     "output_type": "execute_result"
    }
   ],
   "source": [
    "len(s)"
   ]
  },
  {
   "cell_type": "code",
   "execution_count": 159,
   "id": "b44ead1f-50bb-4d76-ba5c-da3d1c7b4fc6",
   "metadata": {},
   "outputs": [
    {
     "data": {
      "text/html": [
       "<div>\n",
       "<style scoped>\n",
       "    .dataframe tbody tr th:only-of-type {\n",
       "        vertical-align: middle;\n",
       "    }\n",
       "\n",
       "    .dataframe tbody tr th {\n",
       "        vertical-align: top;\n",
       "    }\n",
       "\n",
       "    .dataframe thead th {\n",
       "        text-align: right;\n",
       "    }\n",
       "</style>\n",
       "<table border=\"1\" class=\"dataframe\">\n",
       "  <thead>\n",
       "    <tr style=\"text-align: right;\">\n",
       "      <th></th>\n",
       "      <th>country</th>\n",
       "      <th>country_d</th>\n",
       "    </tr>\n",
       "  </thead>\n",
       "  <tbody>\n",
       "    <tr>\n",
       "      <th>0</th>\n",
       "      <td>Aruba</td>\n",
       "      <td>Afghanistan</td>\n",
       "    </tr>\n",
       "    <tr>\n",
       "      <th>1</th>\n",
       "      <td>Aruba</td>\n",
       "      <td>Afghanistan</td>\n",
       "    </tr>\n",
       "    <tr>\n",
       "      <th>2</th>\n",
       "      <td>Aruba</td>\n",
       "      <td>Afghanistan</td>\n",
       "    </tr>\n",
       "  </tbody>\n",
       "</table>\n",
       "</div>"
      ],
      "text/plain": [
       "  country    country_d\n",
       "0   Aruba  Afghanistan\n",
       "1   Aruba  Afghanistan\n",
       "2   Aruba  Afghanistan"
      ]
     },
     "execution_count": 159,
     "metadata": {},
     "output_type": "execute_result"
    }
   ],
   "source": [
    "complete[['country', 'country_d']].head(3)"
   ]
  },
  {
   "cell_type": "code",
   "execution_count": 226,
   "id": "d1512795-c911-4274-988b-aa734fa68fe6",
   "metadata": {},
   "outputs": [],
   "source": [
    "complete_order = complete[['iso_o', 'iso_d', 'TIME_PERIOD', 'country','country_d', 'total_tr', 'unique_cultural_tr',\n",
    "'reproducible_cultural_tr', 'hysteresis_total', 'hysteresis_unique','hysteresis_repro','rta', 'gdp', 'gdp_d','log_gdp', 'log_gdp_d', 'D_log_gdp','D_log_gdp_d',\n",
    "'gdp_pct', 'gdp_pct_d', 'log_gdp_pct', 'log_gdp_pct_d', 'D_log_gdp_pct','D_log_gdp_pct_d', 'trade_gdp_ratio','trade_gdp_ratio_d', 'log_trade_gdp_ratio', 'log_trade_gdp_ratio_d','population', 'population_d', 'log_population', 'log_population_d', 'continent', 'continent_d', 'landlocked', 'landlocked_d', 'category', 'category_d', 'development', 'development_d','contig','comlang_off', \n",
    "'colony', 'comcol', 'dist', 'log_dist', 'lat', 'lon']]"
   ]
  },
  {
   "cell_type": "code",
   "execution_count": 227,
   "id": "098b3b91-9d56-42ba-8e06-1cfdd6b63e71",
   "metadata": {},
   "outputs": [],
   "source": [
    "t = complete_order.columns"
   ]
  },
  {
   "cell_type": "code",
   "execution_count": 228,
   "id": "b652cf8d-2b4e-4815-96d0-a63c6ff8ca5a",
   "metadata": {},
   "outputs": [
    {
     "data": {
      "text/plain": [
       "{'colonizer1', 'dyad_id', 'langoff_1'}"
      ]
     },
     "execution_count": 228,
     "metadata": {},
     "output_type": "execute_result"
    }
   ],
   "source": [
    "set(s) - set(t)"
   ]
  },
  {
   "cell_type": "code",
   "execution_count": 163,
   "id": "1d107e7c-fd0b-44d3-b671-2809a5684c9c",
   "metadata": {},
   "outputs": [
    {
     "data": {
      "text/plain": [
       "dtype('float64')"
      ]
     },
     "execution_count": 163,
     "metadata": {},
     "output_type": "execute_result"
    }
   ],
   "source": [
    "complete_order['rta'].dtypes"
   ]
  },
  {
   "cell_type": "code",
   "execution_count": 164,
   "id": "fb16978c-1743-4f63-ab7d-a5a5d959934f",
   "metadata": {},
   "outputs": [
    {
     "data": {
      "text/plain": [
       "rta\n",
       "0.0    477938\n",
       "NaN    233021\n",
       "1.0    150881\n",
       "Name: count, dtype: int64"
      ]
     },
     "execution_count": 164,
     "metadata": {},
     "output_type": "execute_result"
    }
   ],
   "source": [
    "complete_order['rta'].value_counts(dropna=False)"
   ]
  },
  {
   "cell_type": "code",
   "execution_count": 165,
   "id": "3967ba32-f5b4-4764-a45e-08d7e39ce0f5",
   "metadata": {},
   "outputs": [],
   "source": [
    "complete_order = complete_order.fillna(0)"
   ]
  },
  {
   "cell_type": "code",
   "execution_count": 166,
   "id": "672ac8d9-7cfe-4c38-b54c-c0edf174b3ed",
   "metadata": {},
   "outputs": [],
   "source": [
    "assert complete_order.shape[0]== only_trade.shape[0] == panel_df_blank.shape[0] == trade_time_series_attribute.shape[0] "
   ]
  },
  {
   "cell_type": "code",
   "execution_count": 167,
   "id": "c5b7976c-79b1-48fb-825c-638108e55d37",
   "metadata": {},
   "outputs": [
    {
     "name": "stdout",
     "output_type": "stream",
     "text": [
      "False\n"
     ]
    }
   ],
   "source": [
    "print(complete_order.duplicated(subset=['iso_o', 'iso_d', 'TIME_PERIOD']).any())"
   ]
  },
  {
   "cell_type": "code",
   "execution_count": 168,
   "id": "f0704de3-bd07-40ff-8553-403d925c6fb0",
   "metadata": {},
   "outputs": [
    {
     "name": "stdout",
     "output_type": "stream",
     "text": [
      "190\n",
      "190\n",
      "24\n",
      "4527\n",
      "4483\n",
      "4558\n",
      "4558\n",
      "17927\n",
      "35910\n",
      "(861840, 48)\n"
     ]
    }
   ],
   "source": [
    "print(complete_order['iso_o'].nunique())\n",
    "print(complete_order['iso_d'].nunique())\n",
    "print(complete_order['TIME_PERIOD'].nunique())\n",
    "print(complete_order['log_gdp'].nunique())\n",
    "print(complete_order['D_log_gdp_d'].nunique())\n",
    "print(complete_order['log_population'].nunique())\n",
    "print(complete_order['log_population_d'].nunique())\n",
    "print(complete_order['log_dist'].nunique())\n",
    "print(complete_order.groupby(['iso_o', 'iso_d']).ngroups) #190*190 is 36100 possible dyads while removing 190 self loops make it (36100- 190) = 35910 dyads\n",
    "print(complete_order.shape)"
   ]
  },
  {
   "cell_type": "code",
   "execution_count": 221,
   "id": "44be60b6-83f7-4f54-8437-b37d158c9168",
   "metadata": {},
   "outputs": [
    {
     "data": {
      "text/plain": [
       "(861840, 48)"
      ]
     },
     "execution_count": 221,
     "metadata": {},
     "output_type": "execute_result"
    }
   ],
   "source": [
    "complete_order.shape"
   ]
  },
  {
   "cell_type": "code",
   "execution_count": 170,
   "id": "b782a7f3-61d1-45b1-9b2e-82ce9ad49b7d",
   "metadata": {},
   "outputs": [],
   "source": [
    "\n",
    "# 34782/2 = 17391 #So the unique value of country pair distance column is almost near half of the number of total unique dyads in the data. "
   ]
  },
  {
   "cell_type": "code",
   "execution_count": 222,
   "id": "686e1579-0f5f-4080-aeb5-ffccc32a03ef",
   "metadata": {},
   "outputs": [
    {
     "data": {
      "text/plain": [
       "(861840, 51)"
      ]
     },
     "execution_count": 222,
     "metadata": {},
     "output_type": "execute_result"
    }
   ],
   "source": [
    "complete.shape"
   ]
  },
  {
   "cell_type": "code",
   "execution_count": 171,
   "id": "91fcd271-0745-4552-b19b-db8d72de511b",
   "metadata": {},
   "outputs": [],
   "source": [
    "complete['dyad_id'] = complete['iso_o'] + '-' + complete['iso_d'] "
   ]
  },
  {
   "cell_type": "code",
   "execution_count": 172,
   "id": "7c4d79e9-3414-4c0f-b2f9-0b8d807c87c3",
   "metadata": {},
   "outputs": [],
   "source": [
    "complete.to_csv(\"../data/cleaned/panel_complete.csv\", encoding = 'utf-8', index = False)"
   ]
  },
  {
   "cell_type": "code",
   "execution_count": 173,
   "id": "398b65e4-51b6-418e-be9a-3913dd809ae0",
   "metadata": {},
   "outputs": [],
   "source": [
    "#raise SystemExit(\"Stop!\")"
   ]
  },
  {
   "cell_type": "markdown",
   "id": "a8f4b63b-1432-4486-9383-9961ffccba23",
   "metadata": {},
   "source": [
    "### Adding node level fixed data with node attribute data sets\n",
    "steps:\n",
    ">1. Merging the attributeYEAR data with the nodal_fixed data for every year starting from 2000 and ending at 2023\n",
    ">2. Looking for missing value in the 'category' column and manually impute 1 for developed and 0 for developing to the 'development' column based on WDI income categories. If WDI classifies the countru with hign income, then I am considering it as developed and 0 otherwise.\n",
    ">3. The Stata do file produces lagged values of GDP per capita and GDP variables and adds to the long format attribute dataset. To add those lag values to the year level attributeYEAR datasets, we first rename those variables to their lowercase so that they match the stata processed dataset.\n",
    ">4. Then the long format dataset is separated into 24 different dataframes and merged with the corresponding attributeYEAR dataset on the 'iso_o' column.\n",
    ">5. Saving with the same name as attributeYEAR.csv, so that no few data file is created and the attribute for each year has the fixed factor columns"
   ]
  },
  {
   "cell_type": "code",
   "execution_count": 174,
   "id": "1cd468ed-6fa7-4a99-935d-f492bc45bb36",
   "metadata": {},
   "outputs": [],
   "source": [
    "at2000 = pd.read_csv(\"../data/cleaned/attribute2000.csv\")\n",
    "at2001 = pd.read_csv(\"../data/cleaned/attribute2001.csv\")\n",
    "at2002 = pd.read_csv(\"../data/cleaned/attribute2002.csv\")\n",
    "at2003 = pd.read_csv(\"../data/cleaned/attribute2003.csv\")\n",
    "at2004 = pd.read_csv(\"../data/cleaned/attribute2004.csv\")\n",
    "at2005 = pd.read_csv(\"../data/cleaned/attribute2005.csv\")\n",
    "at2006 = pd.read_csv(\"../data/cleaned/attribute2006.csv\")\n",
    "at2007 = pd.read_csv(\"../data/cleaned/attribute2007.csv\")\n",
    "at2008 = pd.read_csv(\"../data/cleaned/attribute2008.csv\")\n",
    "at2009 = pd.read_csv(\"../data/cleaned/attribute2009.csv\")\n",
    "at2010 = pd.read_csv(\"../data/cleaned/attribute2010.csv\")\n",
    "at2011 = pd.read_csv(\"../data/cleaned/attribute2011.csv\")\n",
    "at2012 = pd.read_csv(\"../data/cleaned/attribute2012.csv\")\n",
    "at2013 = pd.read_csv(\"../data/cleaned/attribute2013.csv\")\n",
    "at2014 = pd.read_csv(\"../data/cleaned/attribute2014.csv\")\n",
    "at2015 = pd.read_csv(\"../data/cleaned/attribute2015.csv\")\n",
    "at2016 = pd.read_csv(\"../data/cleaned/attribute2016.csv\")\n",
    "at2017 = pd.read_csv(\"../data/cleaned/attribute2017.csv\")\n",
    "at2018 = pd.read_csv(\"../data/cleaned/attribute2018.csv\")\n",
    "at2019 = pd.read_csv(\"../data/cleaned/attribute2019.csv\")\n",
    "at2020 = pd.read_csv(\"../data/cleaned/attribute2020.csv\")\n",
    "at2021 = pd.read_csv(\"../data/cleaned/attribute2021.csv\")\n",
    "at2022 = pd.read_csv(\"../data/cleaned/attribute2022.csv\")\n",
    "at2023 = pd.read_csv(\"../data/cleaned/attribute2023.csv\")\n",
    "node_fix = pd.read_csv(\"../data/cleaned/nodal_fixed.csv\")"
   ]
  },
  {
   "cell_type": "code",
   "execution_count": 175,
   "id": "c180699f-179b-4659-8757-95cd9cc80164",
   "metadata": {},
   "outputs": [
    {
     "data": {
      "text/html": [
       "<div>\n",
       "<style scoped>\n",
       "    .dataframe tbody tr th:only-of-type {\n",
       "        vertical-align: middle;\n",
       "    }\n",
       "\n",
       "    .dataframe tbody tr th {\n",
       "        vertical-align: top;\n",
       "    }\n",
       "\n",
       "    .dataframe thead th {\n",
       "        text-align: right;\n",
       "    }\n",
       "</style>\n",
       "<table border=\"1\" class=\"dataframe\">\n",
       "  <thead>\n",
       "    <tr style=\"text-align: right;\">\n",
       "      <th></th>\n",
       "      <th>iso_o</th>\n",
       "      <th>Country</th>\n",
       "      <th>Time</th>\n",
       "      <th>GDP</th>\n",
       "      <th>GDP_pct</th>\n",
       "      <th>population</th>\n",
       "      <th>trade_gdp_ratio</th>\n",
       "      <th>log_GDP</th>\n",
       "      <th>log_trade_gdp_ratio</th>\n",
       "    </tr>\n",
       "  </thead>\n",
       "  <tbody>\n",
       "    <tr>\n",
       "      <th>0</th>\n",
       "      <td>AFG</td>\n",
       "      <td>Afghanistan</td>\n",
       "      <td>2023</td>\n",
       "      <td>1.715223e+10</td>\n",
       "      <td>413.76</td>\n",
       "      <td>41454761.0</td>\n",
       "      <td>67.58</td>\n",
       "      <td>23.565394</td>\n",
       "      <td>4.213312</td>\n",
       "    </tr>\n",
       "    <tr>\n",
       "      <th>1</th>\n",
       "      <td>ALB</td>\n",
       "      <td>Albania</td>\n",
       "      <td>2023</td>\n",
       "      <td>2.354718e+10</td>\n",
       "      <td>8575.17</td>\n",
       "      <td>2745972.0</td>\n",
       "      <td>82.49</td>\n",
       "      <td>23.882272</td>\n",
       "      <td>4.412677</td>\n",
       "    </tr>\n",
       "    <tr>\n",
       "      <th>2</th>\n",
       "      <td>DZA</td>\n",
       "      <td>Algeria</td>\n",
       "      <td>2023</td>\n",
       "      <td>2.476262e+11</td>\n",
       "      <td>5364.03</td>\n",
       "      <td>46164219.0</td>\n",
       "      <td>43.68</td>\n",
       "      <td>26.235186</td>\n",
       "      <td>3.776890</td>\n",
       "    </tr>\n",
       "  </tbody>\n",
       "</table>\n",
       "</div>"
      ],
      "text/plain": [
       "  iso_o      Country  Time           GDP  GDP_pct  population  \\\n",
       "0   AFG  Afghanistan  2023  1.715223e+10   413.76  41454761.0   \n",
       "1   ALB      Albania  2023  2.354718e+10  8575.17   2745972.0   \n",
       "2   DZA      Algeria  2023  2.476262e+11  5364.03  46164219.0   \n",
       "\n",
       "   trade_gdp_ratio    log_GDP  log_trade_gdp_ratio  \n",
       "0            67.58  23.565394             4.213312  \n",
       "1            82.49  23.882272             4.412677  \n",
       "2            43.68  26.235186             3.776890  "
      ]
     },
     "execution_count": 175,
     "metadata": {},
     "output_type": "execute_result"
    }
   ],
   "source": [
    "at2023.head(3)"
   ]
  },
  {
   "cell_type": "code",
   "execution_count": 176,
   "id": "ce7d3443-98ef-43c5-bf30-89a18536a1da",
   "metadata": {},
   "outputs": [],
   "source": [
    "m = set(node_fix['iso_o'].unique()) - set(at2000['iso_o'].unique())\n",
    "node_fix = node_fix[~node_fix['iso_o'].isin(m)]\n",
    "set(node_fix['iso_o'].unique()) - set(at2000['iso_o'].unique())\n",
    "node_fix = node_fix.reset_index(drop= True)"
   ]
  },
  {
   "cell_type": "code",
   "execution_count": 177,
   "id": "0836c6ab-69af-44cc-b261-f76c142d5dd0",
   "metadata": {},
   "outputs": [],
   "source": [
    "at2000_fix = at2000.merge(node_fix, on = ['iso_o'], how = 'left')\n",
    "at2001_fix = at2001.merge(node_fix, on = ['iso_o'], how = 'left')\n",
    "at2002_fix = at2002.merge(node_fix, on = ['iso_o'], how = 'left')\n",
    "at2003_fix = at2003.merge(node_fix, on = ['iso_o'], how = 'left')\n",
    "at2004_fix = at2004.merge(node_fix, on = ['iso_o'], how = 'left')\n",
    "at2005_fix = at2005.merge(node_fix, on = ['iso_o'], how = 'left')\n",
    "at2006_fix = at2006.merge(node_fix, on = ['iso_o'], how = 'left')\n",
    "at2007_fix = at2007.merge(node_fix, on = ['iso_o'], how = 'left')\n",
    "at2008_fix = at2008.merge(node_fix, on = ['iso_o'], how = 'left')\n",
    "at2009_fix = at2009.merge(node_fix, on = ['iso_o'], how = 'left')\n",
    "at2010_fix = at2010.merge(node_fix, on = ['iso_o'], how = 'left')\n",
    "at2011_fix = at2011.merge(node_fix, on = ['iso_o'], how = 'left')\n",
    "at2012_fix = at2012.merge(node_fix, on = ['iso_o'], how = 'left')\n",
    "at2013_fix = at2013.merge(node_fix, on = ['iso_o'], how = 'left')\n",
    "at2014_fix = at2014.merge(node_fix, on = ['iso_o'], how = 'left')\n",
    "at2015_fix = at2015.merge(node_fix, on = ['iso_o'], how = 'left')\n",
    "at2016_fix = at2016.merge(node_fix, on = ['iso_o'], how = 'left')\n",
    "at2017_fix = at2017.merge(node_fix, on = ['iso_o'], how = 'left')\n",
    "at2018_fix = at2018.merge(node_fix, on = ['iso_o'], how = 'left')\n",
    "at2019_fix = at2019.merge(node_fix, on = ['iso_o'], how = 'left')\n",
    "at2020_fix = at2020.merge(node_fix, on = ['iso_o'], how = 'left')\n",
    "at2021_fix = at2021.merge(node_fix, on = ['iso_o'], how = 'left')\n",
    "at2022_fix = at2022.merge(node_fix, on = ['iso_o'], how = 'left')\n",
    "at2023_fix = at2023.merge(node_fix, on = ['iso_o'], how = 'left')"
   ]
  },
  {
   "cell_type": "code",
   "execution_count": 212,
   "id": "b246eece-b0eb-4705-ad88-93f246f935ae",
   "metadata": {},
   "outputs": [
    {
     "data": {
      "text/plain": [
       "Index(['iso_o', 'Country', 'Time', 'gdp', 'gdp_pct', 'population',\n",
       "       'trade_gdp_ratio', 'log_gdp', 'log_trade_gdp_ratio', 'country',\n",
       "       'landlocked', 'continent', 'lat', 'lon', 'langoff_1', 'colonizer1',\n",
       "       'category', 'development'],\n",
       "      dtype='object')"
      ]
     },
     "execution_count": 212,
     "metadata": {},
     "output_type": "execute_result"
    }
   ],
   "source": [
    "at2000_fix.columns"
   ]
  },
  {
   "cell_type": "code",
   "execution_count": 179,
   "id": "630ba769-71a8-4a04-b414-4c1bc1b697a0",
   "metadata": {},
   "outputs": [],
   "source": [
    "at2000_fix.loc[at2000_fix['Country'] == 'Bermuda', 'development'] = 1\n",
    "at2000_fix.loc[at2000_fix['Country'] == 'Cuba', 'development'] = 0\n",
    "at2000_fix.loc[at2000_fix['Country'] == 'French Polynesia', 'development'] = 1\n",
    "at2000_fix.loc[at2000_fix['Country'] == 'Greenland', 'development'] = 1\n",
    "at2000_fix.loc[at2000_fix['Country'] == 'New Caledonia', 'development'] = 1"
   ]
  },
  {
   "cell_type": "code",
   "execution_count": 180,
   "id": "63daa8bf-815f-42ca-a30a-220b39468595",
   "metadata": {},
   "outputs": [],
   "source": [
    "at2001_fix.loc[at2001_fix['Country'] == 'Bermuda', 'development'] = 1\n",
    "at2001_fix.loc[at2001_fix['Country'] == 'Cuba', 'development'] = 0\n",
    "at2001_fix.loc[at2001_fix['Country'] == 'French Polynesia', 'development'] = 1\n",
    "at2001_fix.loc[at2001_fix['Country'] == 'Greenland', 'development'] = 1\n",
    "at2001_fix.loc[at2001_fix['Country'] == 'New Caledonia', 'development'] = 1"
   ]
  },
  {
   "cell_type": "code",
   "execution_count": 181,
   "id": "ad93f8cf-d4ba-4296-a5ba-b4e8bdf61e6f",
   "metadata": {},
   "outputs": [],
   "source": [
    "at2002_fix.loc[at2002_fix['Country'] == 'Bermuda', 'development'] = 1\n",
    "at2002_fix.loc[at2002_fix['Country'] == 'Cuba', 'development'] = 0\n",
    "at2002_fix.loc[at2002_fix['Country'] == 'French Polynesia', 'development'] = 1\n",
    "at2002_fix.loc[at2002_fix['Country'] == 'Greenland', 'development'] = 1\n",
    "at2002_fix.loc[at2002_fix['Country'] == 'New Caledonia', 'development'] = 1"
   ]
  },
  {
   "cell_type": "code",
   "execution_count": 182,
   "id": "bb638490-b46e-4b4d-992d-c9400b457923",
   "metadata": {},
   "outputs": [],
   "source": [
    "at2003_fix.loc[at2003_fix['Country'] == 'Bermuda', 'development'] = 1\n",
    "at2003_fix.loc[at2003_fix['Country'] == 'Cuba', 'development'] = 0\n",
    "at2003_fix.loc[at2003_fix['Country'] == 'French Polynesia', 'development'] = 1\n",
    "at2003_fix.loc[at2003_fix['Country'] == 'Greenland', 'development'] = 1\n",
    "at2003_fix.loc[at2003_fix['Country'] == 'New Caledonia', 'development'] = 1"
   ]
  },
  {
   "cell_type": "code",
   "execution_count": 183,
   "id": "55bdcd62-8585-42cf-b28d-f2204120658b",
   "metadata": {},
   "outputs": [],
   "source": [
    "at2004_fix.loc[at2004_fix['Country'] == 'Bermuda', 'development'] = 1\n",
    "at2004_fix.loc[at2004_fix['Country'] == 'Cuba', 'development'] = 0\n",
    "at2004_fix.loc[at2004_fix['Country'] == 'French Polynesia', 'development'] = 1\n",
    "at2004_fix.loc[at2004_fix['Country'] == 'Greenland', 'development'] = 1\n",
    "at2004_fix.loc[at2004_fix['Country'] == 'New Caledonia', 'development'] = 1"
   ]
  },
  {
   "cell_type": "code",
   "execution_count": 184,
   "id": "c826c836-7669-4cd5-9964-7c5af184276a",
   "metadata": {},
   "outputs": [],
   "source": [
    "at2005_fix.loc[at2005_fix['Country'] == 'Bermuda', 'development'] = 1\n",
    "at2005_fix.loc[at2005_fix['Country'] == 'Cuba', 'development'] = 0\n",
    "at2005_fix.loc[at2005_fix['Country'] == 'French Polynesia', 'development'] = 1\n",
    "at2005_fix.loc[at2005_fix['Country'] == 'Greenland', 'development'] = 1\n",
    "at2005_fix.loc[at2005_fix['Country'] == 'New Caledonia', 'development'] = 1"
   ]
  },
  {
   "cell_type": "code",
   "execution_count": 185,
   "id": "a366b26c-6d10-466b-9cd1-5a068b044ac4",
   "metadata": {},
   "outputs": [],
   "source": [
    "at2006_fix.loc[at2006_fix['Country'] == 'Bermuda', 'development'] = 1\n",
    "at2006_fix.loc[at2006_fix['Country'] == 'Cuba', 'development'] = 0\n",
    "at2006_fix.loc[at2006_fix['Country'] == 'French Polynesia', 'development'] = 1\n",
    "at2006_fix.loc[at2006_fix['Country'] == 'Greenland', 'development'] = 1\n",
    "at2006_fix.loc[at2006_fix['Country'] == 'New Caledonia', 'development'] = 1"
   ]
  },
  {
   "cell_type": "code",
   "execution_count": 186,
   "id": "bf65d064-402c-4720-ab38-aad39ee0556e",
   "metadata": {},
   "outputs": [],
   "source": [
    "at2007_fix.loc[at2007_fix['Country'] == 'Bermuda', 'development'] = 1\n",
    "at2007_fix.loc[at2007_fix['Country'] == 'Cuba', 'development'] = 0\n",
    "at2007_fix.loc[at2007_fix['Country'] == 'French Polynesia', 'development'] = 1\n",
    "at2007_fix.loc[at2007_fix['Country'] == 'Greenland', 'development'] = 1\n",
    "at2007_fix.loc[at2007_fix['Country'] == 'New Caledonia', 'development'] = 1"
   ]
  },
  {
   "cell_type": "code",
   "execution_count": 187,
   "id": "18631b4e-d1c1-450d-9ad4-09353db1b1fd",
   "metadata": {},
   "outputs": [],
   "source": [
    "at2008_fix.loc[at2008_fix['Country'] == 'Bermuda', 'development'] = 1\n",
    "at2008_fix.loc[at2008_fix['Country'] == 'Cuba', 'development'] = 0\n",
    "at2008_fix.loc[at2008_fix['Country'] == 'French Polynesia', 'development'] = 1\n",
    "at2008_fix.loc[at2008_fix['Country'] == 'Greenland', 'development'] = 1\n",
    "at2008_fix.loc[at2008_fix['Country'] == 'New Caledonia', 'development'] = 1"
   ]
  },
  {
   "cell_type": "code",
   "execution_count": 188,
   "id": "0ceede80-6d28-4f70-b91f-efdc4132d83d",
   "metadata": {},
   "outputs": [],
   "source": [
    "at2009_fix.loc[at2009_fix['Country'] == 'Bermuda', 'development'] = 1\n",
    "at2009_fix.loc[at2009_fix['Country'] == 'Cuba', 'development'] = 0\n",
    "at2009_fix.loc[at2009_fix['Country'] == 'French Polynesia', 'development'] = 1\n",
    "at2009_fix.loc[at2009_fix['Country'] == 'Greenland', 'development'] = 1\n",
    "at2009_fix.loc[at2009_fix['Country'] == 'New Caledonia', 'development'] = 1"
   ]
  },
  {
   "cell_type": "code",
   "execution_count": 189,
   "id": "79b04570-00f2-4985-aa31-832b3c3a06eb",
   "metadata": {},
   "outputs": [],
   "source": [
    "at2010_fix.loc[at2010_fix['Country'] == 'Bermuda', 'development'] = 1\n",
    "at2010_fix.loc[at2010_fix['Country'] == 'Cuba', 'development'] = 0\n",
    "at2010_fix.loc[at2010_fix['Country'] == 'French Polynesia', 'development'] = 1\n",
    "at2010_fix.loc[at2010_fix['Country'] == 'Greenland', 'development'] = 1\n",
    "at2010_fix.loc[at2010_fix['Country'] == 'New Caledonia', 'development'] = 1"
   ]
  },
  {
   "cell_type": "code",
   "execution_count": 190,
   "id": "e3b030d7-bb68-48b5-98dd-192a7dca96ef",
   "metadata": {},
   "outputs": [],
   "source": [
    "at2011_fix.loc[at2011_fix['Country'] == 'Bermuda', 'development'] = 1\n",
    "at2011_fix.loc[at2011_fix['Country'] == 'Cuba', 'development'] = 0\n",
    "at2011_fix.loc[at2011_fix['Country'] == 'French Polynesia', 'development'] = 1\n",
    "at2011_fix.loc[at2011_fix['Country'] == 'Greenland', 'development'] = 1\n",
    "at2011_fix.loc[at2011_fix['Country'] == 'New Caledonia', 'development'] = 1"
   ]
  },
  {
   "cell_type": "code",
   "execution_count": 191,
   "id": "90dc1760-37f2-452d-a898-905c7933a3b8",
   "metadata": {},
   "outputs": [],
   "source": [
    "at2012_fix.loc[at2012_fix['Country'] == 'Bermuda', 'development'] = 1\n",
    "at2012_fix.loc[at2012_fix['Country'] == 'Cuba', 'development'] = 0\n",
    "at2012_fix.loc[at2012_fix['Country'] == 'French Polynesia', 'development'] = 1\n",
    "at2012_fix.loc[at2012_fix['Country'] == 'Greenland', 'development'] = 1\n",
    "at2012_fix.loc[at2012_fix['Country'] == 'New Caledonia', 'development'] = 1"
   ]
  },
  {
   "cell_type": "code",
   "execution_count": 192,
   "id": "20426ae1-d72c-4f16-a7cd-7d3428545e02",
   "metadata": {},
   "outputs": [],
   "source": [
    "at2013_fix.loc[at2013_fix['Country'] == 'Bermuda', 'development'] = 1\n",
    "at2013_fix.loc[at2013_fix['Country'] == 'Cuba', 'development'] = 0\n",
    "at2013_fix.loc[at2013_fix['Country'] == 'French Polynesia', 'development'] = 1\n",
    "at2013_fix.loc[at2013_fix['Country'] == 'Greenland', 'development'] = 1\n",
    "at2013_fix.loc[at2013_fix['Country'] == 'New Caledonia', 'development'] = 1"
   ]
  },
  {
   "cell_type": "code",
   "execution_count": 193,
   "id": "0606642d-8453-4681-8209-0b12eaf81be3",
   "metadata": {},
   "outputs": [],
   "source": [
    "at2014_fix.loc[at2014_fix['Country'] == 'Bermuda', 'development'] = 1\n",
    "at2014_fix.loc[at2014_fix['Country'] == 'Cuba', 'development'] = 0\n",
    "at2014_fix.loc[at2014_fix['Country'] == 'French Polynesia', 'development'] = 1\n",
    "at2014_fix.loc[at2014_fix['Country'] == 'Greenland', 'development'] = 1\n",
    "at2014_fix.loc[at2014_fix['Country'] == 'New Caledonia', 'development'] = 1"
   ]
  },
  {
   "cell_type": "code",
   "execution_count": 194,
   "id": "3ac83426-e478-4e5c-b43c-7971e6af41f4",
   "metadata": {},
   "outputs": [],
   "source": [
    "at2015_fix.loc[at2015_fix['Country'] == 'Bermuda', 'development'] = 1\n",
    "at2015_fix.loc[at2015_fix['Country'] == 'Cuba', 'development'] = 0\n",
    "at2015_fix.loc[at2015_fix['Country'] == 'French Polynesia', 'development'] = 1\n",
    "at2015_fix.loc[at2015_fix['Country'] == 'Greenland', 'development'] = 1\n",
    "at2015_fix.loc[at2015_fix['Country'] == 'New Caledonia', 'development'] = 1"
   ]
  },
  {
   "cell_type": "code",
   "execution_count": 195,
   "id": "8e947822-6659-4cc2-97f4-02b01d42cf1f",
   "metadata": {},
   "outputs": [],
   "source": [
    "at2016_fix.loc[at2016_fix['Country'] == 'Bermuda', 'development'] = 1\n",
    "at2016_fix.loc[at2016_fix['Country'] == 'Cuba', 'development'] = 0\n",
    "at2016_fix.loc[at2016_fix['Country'] == 'French Polynesia', 'development'] = 1\n",
    "at2016_fix.loc[at2016_fix['Country'] == 'Greenland', 'development'] = 1\n",
    "at2016_fix.loc[at2016_fix['Country'] == 'New Caledonia', 'development'] = 1"
   ]
  },
  {
   "cell_type": "code",
   "execution_count": 196,
   "id": "29df0ac7-1f73-484c-b2ad-836870f7f54d",
   "metadata": {},
   "outputs": [],
   "source": [
    "at2017_fix.loc[at2017_fix['Country'] == 'Bermuda', 'development'] = 1\n",
    "at2017_fix.loc[at2017_fix['Country'] == 'Cuba', 'development'] = 0\n",
    "at2017_fix.loc[at2017_fix['Country'] == 'French Polynesia', 'development'] = 1\n",
    "at2017_fix.loc[at2017_fix['Country'] == 'Greenland', 'development'] = 1\n",
    "at2017_fix.loc[at2017_fix['Country'] == 'New Caledonia', 'development'] = 1"
   ]
  },
  {
   "cell_type": "code",
   "execution_count": 197,
   "id": "456c8a85-b910-49aa-b7d4-26091add45f7",
   "metadata": {},
   "outputs": [],
   "source": [
    "at2018_fix.loc[at2018_fix['Country'] == 'Bermuda', 'development'] = 1\n",
    "at2018_fix.loc[at2018_fix['Country'] == 'Cuba', 'development'] = 0\n",
    "at2018_fix.loc[at2018_fix['Country'] == 'French Polynesia', 'development'] = 1\n",
    "at2018_fix.loc[at2018_fix['Country'] == 'Greenland', 'development'] = 1\n",
    "at2018_fix.loc[at2018_fix['Country'] == 'New Caledonia', 'development'] = 1"
   ]
  },
  {
   "cell_type": "code",
   "execution_count": 198,
   "id": "49534322-8a46-46c1-bf8b-18e9c7f46edc",
   "metadata": {},
   "outputs": [],
   "source": [
    "at2019_fix.loc[at2019_fix['Country'] == 'Bermuda', 'development'] = 1\n",
    "at2019_fix.loc[at2019_fix['Country'] == 'Cuba', 'development'] = 0\n",
    "at2019_fix.loc[at2019_fix['Country'] == 'French Polynesia', 'development'] = 1\n",
    "at2019_fix.loc[at2019_fix['Country'] == 'Greenland', 'development'] = 1\n",
    "at2019_fix.loc[at2019_fix['Country'] == 'New Caledonia', 'development'] = 1"
   ]
  },
  {
   "cell_type": "code",
   "execution_count": 199,
   "id": "da7e2497-4400-4c12-844c-ecafac5e9a06",
   "metadata": {},
   "outputs": [],
   "source": [
    "at2020_fix.loc[at2020_fix['Country'] == 'Bermuda', 'development'] = 1\n",
    "at2020_fix.loc[at2020_fix['Country'] == 'Cuba', 'development'] = 0\n",
    "at2020_fix.loc[at2020_fix['Country'] == 'French Polynesia', 'development'] = 1\n",
    "at2020_fix.loc[at2020_fix['Country'] == 'Greenland', 'development'] = 1\n",
    "at2020_fix.loc[at2020_fix['Country'] == 'New Caledonia', 'development'] = 1"
   ]
  },
  {
   "cell_type": "code",
   "execution_count": 200,
   "id": "5ea6b63d-4b55-436e-9a8d-8a35c98a3a24",
   "metadata": {},
   "outputs": [],
   "source": [
    "at2021_fix.loc[at2021_fix['Country'] == 'Bermuda', 'development'] = 1\n",
    "at2021_fix.loc[at2021_fix['Country'] == 'Cuba', 'development'] = 0\n",
    "at2021_fix.loc[at2021_fix['Country'] == 'French Polynesia', 'development'] = 1\n",
    "at2021_fix.loc[at2021_fix['Country'] == 'Greenland', 'development'] = 1\n",
    "at2021_fix.loc[at2021_fix['Country'] == 'New Caledonia', 'development'] = 1"
   ]
  },
  {
   "cell_type": "code",
   "execution_count": 201,
   "id": "e225977d-1606-4294-b0e3-7252c1da1665",
   "metadata": {},
   "outputs": [],
   "source": [
    "at2022_fix.loc[at2022_fix['Country'] == 'Bermuda', 'development'] = 1\n",
    "at2022_fix.loc[at2022_fix['Country'] == 'Cuba', 'development'] = 0\n",
    "at2022_fix.loc[at2022_fix['Country'] == 'French Polynesia', 'development'] = 1\n",
    "at2022_fix.loc[at2022_fix['Country'] == 'Greenland', 'development'] = 1\n",
    "at2022_fix.loc[at2022_fix['Country'] == 'New Caledonia', 'development'] = 1"
   ]
  },
  {
   "cell_type": "code",
   "execution_count": 202,
   "id": "adada99d-5f13-4d4b-9059-6ea8e1b62166",
   "metadata": {},
   "outputs": [],
   "source": [
    "at2023_fix.loc[at2023_fix['Country'] == 'Bermuda', 'development'] = 1\n",
    "at2023_fix.loc[at2023_fix['Country'] == 'Cuba', 'development'] = 0\n",
    "at2023_fix.loc[at2023_fix['Country'] == 'French Polynesia', 'development'] = 1\n",
    "at2023_fix.loc[at2023_fix['Country'] == 'Greenland', 'development'] = 1\n",
    "at2023_fix.loc[at2023_fix['Country'] == 'New Caledonia', 'development'] = 1"
   ]
  },
  {
   "cell_type": "code",
   "execution_count": 203,
   "id": "518e1888-ae51-4acb-823f-127604f3dbb4",
   "metadata": {},
   "outputs": [
    {
     "data": {
      "text/html": [
       "<div>\n",
       "<style scoped>\n",
       "    .dataframe tbody tr th:only-of-type {\n",
       "        vertical-align: middle;\n",
       "    }\n",
       "\n",
       "    .dataframe tbody tr th {\n",
       "        vertical-align: top;\n",
       "    }\n",
       "\n",
       "    .dataframe thead th {\n",
       "        text-align: right;\n",
       "    }\n",
       "</style>\n",
       "<table border=\"1\" class=\"dataframe\">\n",
       "  <thead>\n",
       "    <tr style=\"text-align: right;\">\n",
       "      <th></th>\n",
       "      <th>iso_o</th>\n",
       "      <th>Country</th>\n",
       "      <th>Time</th>\n",
       "      <th>GDP</th>\n",
       "      <th>GDP_pct</th>\n",
       "      <th>population</th>\n",
       "      <th>trade_gdp_ratio</th>\n",
       "      <th>log_GDP</th>\n",
       "      <th>log_trade_gdp_ratio</th>\n",
       "      <th>country</th>\n",
       "      <th>landlocked</th>\n",
       "      <th>continent</th>\n",
       "      <th>lat</th>\n",
       "      <th>lon</th>\n",
       "      <th>langoff_1</th>\n",
       "      <th>colonizer1</th>\n",
       "      <th>category</th>\n",
       "      <th>development</th>\n",
       "    </tr>\n",
       "  </thead>\n",
       "  <tbody>\n",
       "    <tr>\n",
       "      <th>20</th>\n",
       "      <td>BMU</td>\n",
       "      <td>Bermuda</td>\n",
       "      <td>2023</td>\n",
       "      <td>8.579242e+09</td>\n",
       "      <td>132604.44</td>\n",
       "      <td>64698.0</td>\n",
       "      <td>73.59</td>\n",
       "      <td>22.872611</td>\n",
       "      <td>4.298509</td>\n",
       "      <td>Bermuda</td>\n",
       "      <td>0</td>\n",
       "      <td>America</td>\n",
       "      <td>32.299999</td>\n",
       "      <td>-64.800003</td>\n",
       "      <td>English</td>\n",
       "      <td>GBR</td>\n",
       "      <td>NaN</td>\n",
       "      <td>1.0</td>\n",
       "    </tr>\n",
       "    <tr>\n",
       "      <th>44</th>\n",
       "      <td>CUB</td>\n",
       "      <td>Cuba</td>\n",
       "      <td>2023</td>\n",
       "      <td>3.139658e+12</td>\n",
       "      <td>NaN</td>\n",
       "      <td>11019931.0</td>\n",
       "      <td>108.14</td>\n",
       "      <td>28.775135</td>\n",
       "      <td>4.683427</td>\n",
       "      <td>Cuba</td>\n",
       "      <td>0</td>\n",
       "      <td>America</td>\n",
       "      <td>23.116667</td>\n",
       "      <td>-82.416664</td>\n",
       "      <td>Spanish</td>\n",
       "      <td>ESP</td>\n",
       "      <td>NaN</td>\n",
       "      <td>0.0</td>\n",
       "    </tr>\n",
       "    <tr>\n",
       "      <th>62</th>\n",
       "      <td>PYF</td>\n",
       "      <td>French Polynesia</td>\n",
       "      <td>2023</td>\n",
       "      <td>6.402221e+09</td>\n",
       "      <td>22774.14</td>\n",
       "      <td>281118.0</td>\n",
       "      <td>68.71</td>\n",
       "      <td>22.579911</td>\n",
       "      <td>4.229895</td>\n",
       "      <td>French Polynesia</td>\n",
       "      <td>0</td>\n",
       "      <td>Pacific</td>\n",
       "      <td>-17.533333</td>\n",
       "      <td>-149.566670</td>\n",
       "      <td>French</td>\n",
       "      <td>FRA</td>\n",
       "      <td>NaN</td>\n",
       "      <td>1.0</td>\n",
       "    </tr>\n",
       "    <tr>\n",
       "      <th>69</th>\n",
       "      <td>GRL</td>\n",
       "      <td>Greenland</td>\n",
       "      <td>2023</td>\n",
       "      <td>3.326544e+09</td>\n",
       "      <td>58498.97</td>\n",
       "      <td>56865.0</td>\n",
       "      <td>91.89</td>\n",
       "      <td>21.925200</td>\n",
       "      <td>4.520592</td>\n",
       "      <td>Greenland</td>\n",
       "      <td>0</td>\n",
       "      <td>America</td>\n",
       "      <td>64.183334</td>\n",
       "      <td>-51.733334</td>\n",
       "      <td>Greenlandic</td>\n",
       "      <td>DNK</td>\n",
       "      <td>NaN</td>\n",
       "      <td>1.0</td>\n",
       "    </tr>\n",
       "    <tr>\n",
       "      <th>126</th>\n",
       "      <td>NCL</td>\n",
       "      <td>New Caledonia</td>\n",
       "      <td>2023</td>\n",
       "      <td>3.139658e+12</td>\n",
       "      <td>NaN</td>\n",
       "      <td>289870.0</td>\n",
       "      <td>NaN</td>\n",
       "      <td>28.775135</td>\n",
       "      <td>NaN</td>\n",
       "      <td>New Caledonia</td>\n",
       "      <td>0</td>\n",
       "      <td>Pacific</td>\n",
       "      <td>-22.266666</td>\n",
       "      <td>166.450000</td>\n",
       "      <td>French</td>\n",
       "      <td>FRA</td>\n",
       "      <td>NaN</td>\n",
       "      <td>1.0</td>\n",
       "    </tr>\n",
       "  </tbody>\n",
       "</table>\n",
       "</div>"
      ],
      "text/plain": [
       "    iso_o           Country  Time           GDP    GDP_pct  population  \\\n",
       "20    BMU           Bermuda  2023  8.579242e+09  132604.44     64698.0   \n",
       "44    CUB              Cuba  2023  3.139658e+12        NaN  11019931.0   \n",
       "62    PYF  French Polynesia  2023  6.402221e+09   22774.14    281118.0   \n",
       "69    GRL         Greenland  2023  3.326544e+09   58498.97     56865.0   \n",
       "126   NCL     New Caledonia  2023  3.139658e+12        NaN    289870.0   \n",
       "\n",
       "     trade_gdp_ratio    log_GDP  log_trade_gdp_ratio           country  \\\n",
       "20             73.59  22.872611             4.298509           Bermuda   \n",
       "44            108.14  28.775135             4.683427              Cuba   \n",
       "62             68.71  22.579911             4.229895  French Polynesia   \n",
       "69             91.89  21.925200             4.520592         Greenland   \n",
       "126              NaN  28.775135                  NaN     New Caledonia   \n",
       "\n",
       "     landlocked continent        lat         lon    langoff_1 colonizer1  \\\n",
       "20            0   America  32.299999  -64.800003      English        GBR   \n",
       "44            0   America  23.116667  -82.416664      Spanish        ESP   \n",
       "62            0   Pacific -17.533333 -149.566670       French        FRA   \n",
       "69            0   America  64.183334  -51.733334  Greenlandic        DNK   \n",
       "126           0   Pacific -22.266666  166.450000       French        FRA   \n",
       "\n",
       "    category  development  \n",
       "20       NaN          1.0  \n",
       "44       NaN          0.0  \n",
       "62       NaN          1.0  \n",
       "69       NaN          1.0  \n",
       "126      NaN          1.0  "
      ]
     },
     "execution_count": 203,
     "metadata": {},
     "output_type": "execute_result"
    }
   ],
   "source": [
    "at2023_fix[at2023_fix['category'].isna()]"
   ]
  },
  {
   "cell_type": "markdown",
   "id": "072a0377-f49e-44e2-a73c-7289bc4515db",
   "metadata": {},
   "source": [
    "### Adding the lag variables to the attributes datasets"
   ]
  },
  {
   "cell_type": "code",
   "execution_count": 204,
   "id": "b61a3388-0a41-4bfa-89fd-0f64b6776c13",
   "metadata": {},
   "outputs": [],
   "source": [
    "at2000_fix = at2000_fix.rename(columns = {'GDP': 'gdp'})\n",
    "at2000_fix = at2000_fix.rename(columns = {'log_GDP': 'log_gdp'})\n",
    "at2000_fix = at2000_fix.rename(columns = {'GDP_pct': 'gdp_pct'})\n",
    "\n",
    "at2001_fix = at2001_fix.rename(columns = {'GDP': 'gdp'})\n",
    "at2001_fix = at2001_fix.rename(columns = {'log_GDP': 'log_gdp'})\n",
    "at2001_fix = at2001_fix.rename(columns = {'GDP_pct': 'gdp_pct'})\n",
    "\n",
    "at2002_fix = at2002_fix.rename(columns = {'GDP': 'gdp'})\n",
    "at2002_fix = at2002_fix.rename(columns = {'log_GDP': 'log_gdp'})\n",
    "at2002_fix = at2002_fix.rename(columns = {'GDP_pct': 'gdp_pct'})\n",
    "\n",
    "at2003_fix = at2003_fix.rename(columns = {'GDP': 'gdp'})\n",
    "at2003_fix = at2003_fix.rename(columns = {'log_GDP': 'log_gdp'})\n",
    "at2003_fix = at2003_fix.rename(columns = {'GDP_pct': 'gdp_pct'})\n",
    "\n",
    "at2004_fix = at2004_fix.rename(columns = {'GDP': 'gdp'})\n",
    "at2004_fix = at2004_fix.rename(columns = {'log_GDP': 'log_gdp'})\n",
    "at2004_fix = at2004_fix.rename(columns = {'GDP_pct': 'gdp_pct'})\n",
    "\n",
    "at2005_fix = at2005_fix.rename(columns = {'GDP': 'gdp'})\n",
    "at2005_fix = at2005_fix.rename(columns = {'log_GDP': 'log_gdp'})\n",
    "at2005_fix = at2005_fix.rename(columns = {'GDP_pct': 'gdp_pct'})\n",
    "\n",
    "at2006_fix = at2006_fix.rename(columns = {'GDP': 'gdp'})\n",
    "at2006_fix = at2006_fix.rename(columns = {'log_GDP': 'log_gdp'})\n",
    "at2006_fix = at2006_fix.rename(columns = {'GDP_pct': 'gdp_pct'})\n",
    "\n",
    "at2007_fix = at2007_fix.rename(columns = {'GDP': 'gdp'})\n",
    "at2007_fix = at2007_fix.rename(columns = {'log_GDP': 'log_gdp'})\n",
    "at2007_fix = at2007_fix.rename(columns = {'GDP_pct': 'gdp_pct'})\n",
    "\n",
    "at2008_fix = at2008_fix.rename(columns = {'GDP': 'gdp'})\n",
    "at2008_fix = at2008_fix.rename(columns = {'log_GDP': 'log_gdp'})\n",
    "at2008_fix = at2008_fix.rename(columns = {'GDP_pct': 'gdp_pct'})\n",
    "\n",
    "at2009_fix = at2009_fix.rename(columns = {'GDP': 'gdp'})\n",
    "at2009_fix = at2009_fix.rename(columns = {'log_GDP': 'log_gdp'})\n",
    "at2009_fix = at2009_fix.rename(columns = {'GDP_pct': 'gdp_pct'})\n",
    "\n",
    "at2010_fix = at2010_fix.rename(columns = {'GDP': 'gdp'})\n",
    "at2010_fix = at2010_fix.rename(columns = {'log_GDP': 'log_gdp'})\n",
    "at2010_fix = at2010_fix.rename(columns = {'GDP_pct': 'gdp_pct'})\n",
    "\n",
    "at2011_fix = at2011_fix.rename(columns = {'GDP': 'gdp'})\n",
    "at2011_fix = at2011_fix.rename(columns = {'log_GDP': 'log_gdp'})\n",
    "at2011_fix = at2011_fix.rename(columns = {'GDP_pct': 'gdp_pct'})\n",
    "\n",
    "at2012_fix = at2012_fix.rename(columns = {'GDP': 'gdp'})\n",
    "at2012_fix = at2012_fix.rename(columns = {'log_GDP': 'log_gdp'})\n",
    "at2012_fix = at2012_fix.rename(columns = {'GDP_pct': 'gdp_pct'})\n",
    "\n",
    "at2013_fix = at2013_fix.rename(columns = {'GDP': 'gdp'})\n",
    "at2013_fix = at2013_fix.rename(columns = {'log_GDP': 'log_gdp'})\n",
    "at2013_fix = at2013_fix.rename(columns = {'GDP_pct': 'gdp_pct'})\n",
    "\n",
    "at2014_fix = at2014_fix.rename(columns = {'GDP': 'gdp'})\n",
    "at2014_fix = at2014_fix.rename(columns = {'log_GDP': 'log_gdp'})\n",
    "at2014_fix = at2014_fix.rename(columns = {'GDP_pct': 'gdp_pct'})\n",
    "\n",
    "at2015_fix = at2015_fix.rename(columns = {'GDP': 'gdp'})\n",
    "at2015_fix = at2015_fix.rename(columns = {'log_GDP': 'log_gdp'})\n",
    "at2015_fix = at2015_fix.rename(columns = {'GDP_pct': 'gdp_pct'})\n",
    "\n",
    "at2016_fix = at2016_fix.rename(columns = {'GDP': 'gdp'})\n",
    "at2016_fix = at2016_fix.rename(columns = {'log_GDP': 'log_gdp'})\n",
    "at2016_fix = at2016_fix.rename(columns = {'GDP_pct': 'gdp_pct'})\n",
    "\n",
    "at2017_fix = at2017_fix.rename(columns = {'GDP': 'gdp'})\n",
    "at2017_fix = at2017_fix.rename(columns = {'log_GDP': 'log_gdp'})\n",
    "at2017_fix = at2017_fix.rename(columns = {'GDP_pct': 'gdp_pct'})\n",
    "\n",
    "at2018_fix = at2018_fix.rename(columns = {'GDP': 'gdp'})\n",
    "at2018_fix = at2018_fix.rename(columns = {'log_GDP': 'log_gdp'})\n",
    "at2018_fix = at2018_fix.rename(columns = {'GDP_pct': 'gdp_pct'})\n",
    "\n",
    "at2019_fix = at2019_fix.rename(columns = {'GDP': 'gdp'})\n",
    "at2019_fix = at2019_fix.rename(columns = {'log_GDP': 'log_gdp'})\n",
    "at2019_fix = at2019_fix.rename(columns = {'GDP_pct': 'gdp_pct'})\n",
    "\n",
    "at2020_fix = at2020_fix.rename(columns = {'GDP': 'gdp'})\n",
    "at2020_fix = at2020_fix.rename(columns = {'log_GDP': 'log_gdp'})\n",
    "at2020_fix = at2020_fix.rename(columns = {'GDP_pct': 'gdp_pct'})\n",
    "\n",
    "at2021_fix = at2021_fix.rename(columns = {'GDP': 'gdp'})\n",
    "at2021_fix = at2021_fix.rename(columns = {'log_GDP': 'log_gdp'})\n",
    "at2021_fix = at2021_fix.rename(columns = {'GDP_pct': 'gdp_pct'})\n",
    "\n",
    "at2022_fix = at2022_fix.rename(columns = {'GDP': 'gdp'})\n",
    "at2022_fix = at2022_fix.rename(columns = {'log_GDP': 'log_gdp'})\n",
    "at2022_fix = at2022_fix.rename(columns = {'GDP_pct': 'gdp_pct'})\n",
    "\n",
    "at2023_fix = at2023_fix.rename(columns = {'GDP': 'gdp'})\n",
    "at2023_fix = at2023_fix.rename(columns = {'log_GDP': 'log_gdp'})\n",
    "at2023_fix = at2023_fix.rename(columns = {'GDP_pct': 'gdp_pct'})"
   ]
  },
  {
   "cell_type": "code",
   "execution_count": 205,
   "id": "8e212a6d-b8da-406f-9a7a-85a9ed49bdb2",
   "metadata": {},
   "outputs": [
    {
     "data": {
      "text/html": [
       "<div>\n",
       "<style scoped>\n",
       "    .dataframe tbody tr th:only-of-type {\n",
       "        vertical-align: middle;\n",
       "    }\n",
       "\n",
       "    .dataframe tbody tr th {\n",
       "        vertical-align: top;\n",
       "    }\n",
       "\n",
       "    .dataframe thead th {\n",
       "        text-align: right;\n",
       "    }\n",
       "</style>\n",
       "<table border=\"1\" class=\"dataframe\">\n",
       "  <thead>\n",
       "    <tr style=\"text-align: right;\">\n",
       "      <th></th>\n",
       "      <th>iso_o</th>\n",
       "      <th>country</th>\n",
       "      <th>TIME_PERIOD</th>\n",
       "      <th>gdp</th>\n",
       "      <th>gdp_pct</th>\n",
       "      <th>population</th>\n",
       "      <th>trade_gdp_ratio</th>\n",
       "      <th>log_gdp</th>\n",
       "      <th>log_trade_gdp_ratio</th>\n",
       "      <th>log_gdp_pct</th>\n",
       "      <th>log_population</th>\n",
       "      <th>country_id</th>\n",
       "      <th>D_log_gdp_pct</th>\n",
       "      <th>D_log_gdp</th>\n",
       "    </tr>\n",
       "  </thead>\n",
       "  <tbody>\n",
       "    <tr>\n",
       "      <th>1</th>\n",
       "      <td>ABW</td>\n",
       "      <td>Aruba</td>\n",
       "      <td>2000</td>\n",
       "      <td>1.873453e+09</td>\n",
       "      <td>20681.020</td>\n",
       "      <td>90588</td>\n",
       "      <td>145.07001</td>\n",
       "      <td>21.351049</td>\n",
       "      <td>4.977216</td>\n",
       "      <td>9.936972</td>\n",
       "      <td>11.414077</td>\n",
       "      <td>ABW</td>\n",
       "      <td>0.073462</td>\n",
       "      <td>0.083773</td>\n",
       "    </tr>\n",
       "    <tr>\n",
       "      <th>2</th>\n",
       "      <td>ABW</td>\n",
       "      <td>Aruba</td>\n",
       "      <td>2001</td>\n",
       "      <td>1.896457e+09</td>\n",
       "      <td>20740.131</td>\n",
       "      <td>91439</td>\n",
       "      <td>140.39000</td>\n",
       "      <td>21.363253</td>\n",
       "      <td>4.944424</td>\n",
       "      <td>9.939826</td>\n",
       "      <td>11.423428</td>\n",
       "      <td>ABW</td>\n",
       "      <td>0.002854</td>\n",
       "      <td>0.012203</td>\n",
       "    </tr>\n",
       "    <tr>\n",
       "      <th>3</th>\n",
       "      <td>ABW</td>\n",
       "      <td>Aruba</td>\n",
       "      <td>2002</td>\n",
       "      <td>1.961844e+09</td>\n",
       "      <td>21307.250</td>\n",
       "      <td>92074</td>\n",
       "      <td>133.23000</td>\n",
       "      <td>21.397150</td>\n",
       "      <td>4.892077</td>\n",
       "      <td>9.966803</td>\n",
       "      <td>11.430347</td>\n",
       "      <td>ABW</td>\n",
       "      <td>0.026977</td>\n",
       "      <td>0.033897</td>\n",
       "    </tr>\n",
       "    <tr>\n",
       "      <th>4</th>\n",
       "      <td>ABW</td>\n",
       "      <td>Aruba</td>\n",
       "      <td>2003</td>\n",
       "      <td>2.044112e+09</td>\n",
       "      <td>21949.490</td>\n",
       "      <td>93128</td>\n",
       "      <td>132.78999</td>\n",
       "      <td>21.438229</td>\n",
       "      <td>4.888769</td>\n",
       "      <td>9.996499</td>\n",
       "      <td>11.441730</td>\n",
       "      <td>ABW</td>\n",
       "      <td>0.029696</td>\n",
       "      <td>0.041079</td>\n",
       "    </tr>\n",
       "    <tr>\n",
       "      <th>5</th>\n",
       "      <td>ABW</td>\n",
       "      <td>Aruba</td>\n",
       "      <td>2004</td>\n",
       "      <td>2.254831e+09</td>\n",
       "      <td>23700.631</td>\n",
       "      <td>95138</td>\n",
       "      <td>132.42999</td>\n",
       "      <td>21.536341</td>\n",
       "      <td>4.886054</td>\n",
       "      <td>10.073256</td>\n",
       "      <td>11.463084</td>\n",
       "      <td>ABW</td>\n",
       "      <td>0.076757</td>\n",
       "      <td>0.098112</td>\n",
       "    </tr>\n",
       "  </tbody>\n",
       "</table>\n",
       "</div>"
      ],
      "text/plain": [
       "  iso_o country  TIME_PERIOD           gdp    gdp_pct  population  \\\n",
       "1   ABW   Aruba         2000  1.873453e+09  20681.020       90588   \n",
       "2   ABW   Aruba         2001  1.896457e+09  20740.131       91439   \n",
       "3   ABW   Aruba         2002  1.961844e+09  21307.250       92074   \n",
       "4   ABW   Aruba         2003  2.044112e+09  21949.490       93128   \n",
       "5   ABW   Aruba         2004  2.254831e+09  23700.631       95138   \n",
       "\n",
       "   trade_gdp_ratio    log_gdp  log_trade_gdp_ratio  log_gdp_pct  \\\n",
       "1        145.07001  21.351049             4.977216     9.936972   \n",
       "2        140.39000  21.363253             4.944424     9.939826   \n",
       "3        133.23000  21.397150             4.892077     9.966803   \n",
       "4        132.78999  21.438229             4.888769     9.996499   \n",
       "5        132.42999  21.536341             4.886054    10.073256   \n",
       "\n",
       "   log_population country_id  D_log_gdp_pct  D_log_gdp  \n",
       "1       11.414077        ABW       0.073462   0.083773  \n",
       "2       11.423428        ABW       0.002854   0.012203  \n",
       "3       11.430347        ABW       0.026977   0.033897  \n",
       "4       11.441730        ABW       0.029696   0.041079  \n",
       "5       11.463084        ABW       0.076757   0.098112  "
      ]
     },
     "execution_count": 205,
     "metadata": {},
     "output_type": "execute_result"
    }
   ],
   "source": [
    "attribute2000_2023.head()"
   ]
  },
  {
   "cell_type": "code",
   "execution_count": 206,
   "id": "69bed5a6-185c-48d7-ae9e-3931b37292f1",
   "metadata": {},
   "outputs": [],
   "source": [
    "attribute2000_2023 = attribute2000_2023[['iso_o','TIME_PERIOD', 'log_gdp_pct', 'log_population', 'D_log_gdp_pct', 'D_log_gdp']]"
   ]
  },
  {
   "cell_type": "code",
   "execution_count": 207,
   "id": "81dca2bd-b0e3-4b2f-8d7f-3c14674f349c",
   "metadata": {},
   "outputs": [],
   "source": [
    "lag2000 = attribute2000_2023[attribute2000_2023['TIME_PERIOD'] == 2000]\n",
    "lag2001 = attribute2000_2023[attribute2000_2023['TIME_PERIOD'] == 2001]\n",
    "lag2002 = attribute2000_2023[attribute2000_2023['TIME_PERIOD'] == 2002]\n",
    "lag2003 = attribute2000_2023[attribute2000_2023['TIME_PERIOD'] == 2003]\n",
    "lag2004 = attribute2000_2023[attribute2000_2023['TIME_PERIOD'] == 2004]\n",
    "lag2005 = attribute2000_2023[attribute2000_2023['TIME_PERIOD'] == 2005]\n",
    "lag2006 = attribute2000_2023[attribute2000_2023['TIME_PERIOD'] == 2006]\n",
    "lag2007 = attribute2000_2023[attribute2000_2023['TIME_PERIOD'] == 2007]\n",
    "lag2008 = attribute2000_2023[attribute2000_2023['TIME_PERIOD'] == 2008]\n",
    "lag2009 = attribute2000_2023[attribute2000_2023['TIME_PERIOD'] == 2009]\n",
    "lag2010 = attribute2000_2023[attribute2000_2023['TIME_PERIOD'] == 2010]\n",
    "lag2011 = attribute2000_2023[attribute2000_2023['TIME_PERIOD'] == 2011]\n",
    "lag2012 = attribute2000_2023[attribute2000_2023['TIME_PERIOD'] == 2012]\n",
    "lag2013 = attribute2000_2023[attribute2000_2023['TIME_PERIOD'] == 2013]\n",
    "lag2014 = attribute2000_2023[attribute2000_2023['TIME_PERIOD'] == 2014]\n",
    "lag2015 = attribute2000_2023[attribute2000_2023['TIME_PERIOD'] == 2015]\n",
    "lag2016 = attribute2000_2023[attribute2000_2023['TIME_PERIOD'] == 2016]\n",
    "lag2017 = attribute2000_2023[attribute2000_2023['TIME_PERIOD'] == 2017]\n",
    "lag2018 = attribute2000_2023[attribute2000_2023['TIME_PERIOD'] == 2018]\n",
    "lag2019 = attribute2000_2023[attribute2000_2023['TIME_PERIOD'] == 2019]\n",
    "lag2020 = attribute2000_2023[attribute2000_2023['TIME_PERIOD'] == 2020]\n",
    "lag2021 = attribute2000_2023[attribute2000_2023['TIME_PERIOD'] == 2021]\n",
    "lag2022 = attribute2000_2023[attribute2000_2023['TIME_PERIOD'] == 2022]\n",
    "lag2023 = attribute2000_2023[attribute2000_2023['TIME_PERIOD'] == 2023]"
   ]
  },
  {
   "cell_type": "code",
   "execution_count": 208,
   "id": "04d3948e-d950-45fe-823f-01d1eaae2d82",
   "metadata": {},
   "outputs": [
    {
     "data": {
      "text/html": [
       "<div>\n",
       "<style scoped>\n",
       "    .dataframe tbody tr th:only-of-type {\n",
       "        vertical-align: middle;\n",
       "    }\n",
       "\n",
       "    .dataframe tbody tr th {\n",
       "        vertical-align: top;\n",
       "    }\n",
       "\n",
       "    .dataframe thead th {\n",
       "        text-align: right;\n",
       "    }\n",
       "</style>\n",
       "<table border=\"1\" class=\"dataframe\">\n",
       "  <thead>\n",
       "    <tr style=\"text-align: right;\">\n",
       "      <th></th>\n",
       "      <th>iso_o</th>\n",
       "      <th>TIME_PERIOD</th>\n",
       "      <th>log_gdp_pct</th>\n",
       "      <th>log_population</th>\n",
       "      <th>D_log_gdp_pct</th>\n",
       "      <th>D_log_gdp</th>\n",
       "    </tr>\n",
       "  </thead>\n",
       "  <tbody>\n",
       "    <tr>\n",
       "      <th>21</th>\n",
       "      <td>ABW</td>\n",
       "      <td>2020</td>\n",
       "      <td>10.036966</td>\n",
       "      <td>11.595307</td>\n",
       "      <td>-0.307875</td>\n",
       "      <td>-0.313532</td>\n",
       "    </tr>\n",
       "    <tr>\n",
       "      <th>46</th>\n",
       "      <td>AFG</td>\n",
       "      <td>2020</td>\n",
       "      <td>6.235959</td>\n",
       "      <td>17.480839</td>\n",
       "      <td>0.028174</td>\n",
       "      <td>0.059700</td>\n",
       "    </tr>\n",
       "    <tr>\n",
       "      <th>71</th>\n",
       "      <td>AGO</td>\n",
       "      <td>2020</td>\n",
       "      <td>7.279263</td>\n",
       "      <td>17.325596</td>\n",
       "      <td>-0.412330</td>\n",
       "      <td>-0.379644</td>\n",
       "    </tr>\n",
       "    <tr>\n",
       "      <th>96</th>\n",
       "      <td>ALB</td>\n",
       "      <td>2020</td>\n",
       "      <td>8.588728</td>\n",
       "      <td>14.858557</td>\n",
       "      <td>-0.016555</td>\n",
       "      <td>-0.022297</td>\n",
       "    </tr>\n",
       "    <tr>\n",
       "      <th>121</th>\n",
       "      <td>AND</td>\n",
       "      <td>2020</td>\n",
       "      <td>10.528385</td>\n",
       "      <td>11.256484</td>\n",
       "      <td>-0.099211</td>\n",
       "      <td>-0.087433</td>\n",
       "    </tr>\n",
       "  </tbody>\n",
       "</table>\n",
       "</div>"
      ],
      "text/plain": [
       "    iso_o  TIME_PERIOD  log_gdp_pct  log_population  D_log_gdp_pct  D_log_gdp\n",
       "21    ABW         2020    10.036966       11.595307      -0.307875  -0.313532\n",
       "46    AFG         2020     6.235959       17.480839       0.028174   0.059700\n",
       "71    AGO         2020     7.279263       17.325596      -0.412330  -0.379644\n",
       "96    ALB         2020     8.588728       14.858557      -0.016555  -0.022297\n",
       "121   AND         2020    10.528385       11.256484      -0.099211  -0.087433"
      ]
     },
     "execution_count": 208,
     "metadata": {},
     "output_type": "execute_result"
    }
   ],
   "source": [
    "lag2020.head()"
   ]
  },
  {
   "cell_type": "code",
   "execution_count": 209,
   "id": "c7c52785-abf1-4537-af82-023a6aee66c4",
   "metadata": {},
   "outputs": [],
   "source": [
    "at2000_f = at2000_fix.merge(lag2000, on = ['iso_o'], how = 'left')\n",
    "at2001_f = at2001_fix.merge(lag2001, on = ['iso_o'], how = 'left')\n",
    "at2002_f = at2002_fix.merge(lag2002, on = ['iso_o'], how = 'left')\n",
    "at2003_f = at2003_fix.merge(lag2003, on = ['iso_o'], how = 'left')\n",
    "at2004_f = at2004_fix.merge(lag2004, on = ['iso_o'], how = 'left')\n",
    "at2005_f = at2005_fix.merge(lag2005, on = ['iso_o'], how = 'left')\n",
    "at2006_f = at2006_fix.merge(lag2006, on = ['iso_o'], how = 'left')\n",
    "at2007_f = at2007_fix.merge(lag2007, on = ['iso_o'], how = 'left')\n",
    "at2008_f = at2008_fix.merge(lag2008, on = ['iso_o'], how = 'left')\n",
    "at2009_f = at2009_fix.merge(lag2009, on = ['iso_o'], how = 'left')\n",
    "at2010_f = at2010_fix.merge(lag2010, on = ['iso_o'], how = 'left')\n",
    "at2011_f = at2011_fix.merge(lag2011, on = ['iso_o'], how = 'left')\n",
    "at2012_f = at2012_fix.merge(lag2012, on = ['iso_o'], how = 'left')\n",
    "at2013_f = at2013_fix.merge(lag2013, on = ['iso_o'], how = 'left')\n",
    "at2014_f = at2014_fix.merge(lag2014, on = ['iso_o'], how = 'left')\n",
    "at2015_f = at2015_fix.merge(lag2015, on = ['iso_o'], how = 'left')\n",
    "at2016_f = at2016_fix.merge(lag2016, on = ['iso_o'], how = 'left')\n",
    "at2017_f = at2017_fix.merge(lag2017, on = ['iso_o'], how = 'left')\n",
    "at2018_f = at2018_fix.merge(lag2018, on = ['iso_o'], how = 'left')\n",
    "at2019_f = at2019_fix.merge(lag2019, on = ['iso_o'], how = 'left')\n",
    "at2020_f = at2020_fix.merge(lag2020, on = ['iso_o'], how = 'left')\n",
    "at2021_f = at2021_fix.merge(lag2021, on = ['iso_o'], how = 'left')\n",
    "at2022_f = at2022_fix.merge(lag2022, on = ['iso_o'], how = 'left')\n",
    "at2023_f = at2023_fix.merge(lag2023, on = ['iso_o'], how = 'left')"
   ]
  },
  {
   "cell_type": "code",
   "execution_count": 210,
   "id": "9c8698aa-954f-414e-a52d-728486748ab3",
   "metadata": {},
   "outputs": [
    {
     "data": {
      "text/plain": [
       "Index(['iso_o', 'Country', 'Time', 'gdp', 'gdp_pct', 'population',\n",
       "       'trade_gdp_ratio', 'log_gdp', 'log_trade_gdp_ratio', 'country',\n",
       "       'landlocked', 'continent', 'lat', 'lon', 'langoff_1', 'colonizer1',\n",
       "       'category', 'development', 'TIME_PERIOD', 'log_gdp_pct',\n",
       "       'log_population', 'D_log_gdp_pct', 'D_log_gdp'],\n",
       "      dtype='object')"
      ]
     },
     "execution_count": 210,
     "metadata": {},
     "output_type": "execute_result"
    }
   ],
   "source": [
    "at2000_f.columns"
   ]
  },
  {
   "cell_type": "code",
   "execution_count": 211,
   "id": "cc57b223-3d85-4436-b9d1-f1a982ea43ab",
   "metadata": {},
   "outputs": [],
   "source": [
    "at2000_f.to_csv(\"../data/cleaned/attribute2000.csv\", encoding = 'utf-8', index = False)\n",
    "at2001_f.to_csv(\"../data/cleaned/attribute2001.csv\", encoding = 'utf-8', index = False)\n",
    "at2002_f.to_csv(\"../data/cleaned/attribute2002.csv\", encoding = 'utf-8', index = False)\n",
    "at2003_f.to_csv(\"../data/cleaned/attribute2003.csv\", encoding = 'utf-8', index = False)\n",
    "at2004_f.to_csv(\"../data/cleaned/attribute2004.csv\", encoding = 'utf-8', index = False)\n",
    "at2005_f.to_csv(\"../data/cleaned/attribute2005.csv\", encoding = 'utf-8', index = False)\n",
    "at2006_f.to_csv(\"../data/cleaned/attribute2006.csv\", encoding = 'utf-8', index = False)\n",
    "at2007_f.to_csv(\"../data/cleaned/attribute2007.csv\", encoding = 'utf-8', index = False)\n",
    "at2008_f.to_csv(\"../data/cleaned/attribute2008.csv\", encoding = 'utf-8', index = False)\n",
    "at2009_f.to_csv(\"../data/cleaned/attribute2009.csv\", encoding = 'utf-8', index = False)\n",
    "at2010_f.to_csv(\"../data/cleaned/attribute2010.csv\", encoding = 'utf-8', index = False)\n",
    "at2011_f.to_csv(\"../data/cleaned/attribute2011.csv\", encoding = 'utf-8', index = False)\n",
    "at2012_f.to_csv(\"../data/cleaned/attribute2012.csv\", encoding = 'utf-8', index = False)\n",
    "at2013_f.to_csv(\"../data/cleaned/attribute2013.csv\", encoding = 'utf-8', index = False)\n",
    "at2014_f.to_csv(\"../data/cleaned/attribute2014.csv\", encoding = 'utf-8', index = False)\n",
    "at2015_f.to_csv(\"../data/cleaned/attribute2015.csv\", encoding = 'utf-8', index = False)\n",
    "at2016_f.to_csv(\"../data/cleaned/attribute2016.csv\", encoding = 'utf-8', index = False)\n",
    "at2017_f.to_csv(\"../data/cleaned/attribute2017.csv\", encoding = 'utf-8', index = False)\n",
    "at2018_f.to_csv(\"../data/cleaned/attribute2018.csv\", encoding = 'utf-8', index = False)\n",
    "at2019_f.to_csv(\"../data/cleaned/attribute2019.csv\", encoding = 'utf-8', index = False)\n",
    "at2020_f.to_csv(\"../data/cleaned/attribute2020.csv\", encoding = 'utf-8', index = False)\n",
    "at2021_f.to_csv(\"../data/cleaned/attribute2021.csv\", encoding = 'utf-8', index = False)\n",
    "at2022_f.to_csv(\"../data/cleaned/attribute2022.csv\", encoding = 'utf-8', index = False)\n",
    "at2023_f.to_csv(\"../data/cleaned/attribute2023.csv\", encoding = 'utf-8', index = False)"
   ]
  },
  {
   "cell_type": "markdown",
   "id": "59dea3d0-ee48-4ab1-8e45-e1fb8e23e2eb",
   "metadata": {},
   "source": [
    "## Long format trade data for residual calculation"
   ]
  },
  {
   "cell_type": "code",
   "execution_count": null,
   "id": "4e16de0e-b9bd-423f-9be5-3dedd049db0b",
   "metadata": {},
   "outputs": [],
   "source": [
    "country_list = panel_total4['iso_o'].unique()\n",
    "print(len(country_list))\n",
    "years = list(range(2000, 2024))\n",
    "panel_df = pd.MultiIndex.from_product([country_list, country_list, years], names=['iso_o', 'iso_d', 'TIME_PERIOD'])\n",
    "panel_df_blank = panel_df.to_frame(index=False)"
   ]
  },
  {
   "cell_type": "code",
   "execution_count": null,
   "id": "2ff045cc-4ec8-4f3a-b952-a6ea0eed73c3",
   "metadata": {},
   "outputs": [],
   "source": [
    "only_trade = panel_df_blank.merge(panel_total4_tr, on = ['iso_o', 'iso_d', 'TIME_PERIOD'], how = 'left')"
   ]
  },
  {
   "cell_type": "code",
   "execution_count": null,
   "id": "e5aac8be-2194-427d-8765-83ee204fafe4",
   "metadata": {},
   "outputs": [],
   "source": [
    "only_trade['total_tr'] = only_trade['total_tr'].fillna(0)\n",
    "only_trade['unique_cultural_tr'] = only_trade['unique_cultural_tr'].fillna(0)\n",
    "only_trade['reproducible_cultural_tr'] = only_trade['reproducible_cultural_tr'].fillna(0)\n",
    "only_trade['hysteresis_total'] = only_trade['hysteresis_total'].fillna(0)\n",
    "only_trade['hysteresis_unique'] = only_trade['hysteresis_unique'].fillna(0)\n",
    "only_trade['hysteresis_repro'] = only_trade['hysteresis_repro'].fillna(0)"
   ]
  },
  {
   "cell_type": "code",
   "execution_count": 215,
   "id": "5ba374e4-5e5f-4da4-9fe8-2fd749e9474a",
   "metadata": {},
   "outputs": [
    {
     "data": {
      "text/html": [
       "<div>\n",
       "<style scoped>\n",
       "    .dataframe tbody tr th:only-of-type {\n",
       "        vertical-align: middle;\n",
       "    }\n",
       "\n",
       "    .dataframe tbody tr th {\n",
       "        vertical-align: top;\n",
       "    }\n",
       "\n",
       "    .dataframe thead th {\n",
       "        text-align: right;\n",
       "    }\n",
       "</style>\n",
       "<table border=\"1\" class=\"dataframe\">\n",
       "  <thead>\n",
       "    <tr style=\"text-align: right;\">\n",
       "      <th></th>\n",
       "      <th>iso_o</th>\n",
       "      <th>iso_d</th>\n",
       "      <th>TIME_PERIOD</th>\n",
       "      <th>country</th>\n",
       "      <th>total_tr</th>\n",
       "      <th>unique_cultural_tr</th>\n",
       "      <th>reproducible_cultural_tr</th>\n",
       "      <th>hysteresis_total</th>\n",
       "      <th>hysteresis_unique</th>\n",
       "      <th>hysteresis_repro</th>\n",
       "      <th>rta</th>\n",
       "    </tr>\n",
       "  </thead>\n",
       "  <tbody>\n",
       "    <tr>\n",
       "      <th>0</th>\n",
       "      <td>ABW</td>\n",
       "      <td>AFG</td>\n",
       "      <td>2000</td>\n",
       "      <td>NaN</td>\n",
       "      <td>0.000000</td>\n",
       "      <td>0.000000</td>\n",
       "      <td>0.000000</td>\n",
       "      <td>0.000000</td>\n",
       "      <td>0.000000</td>\n",
       "      <td>0.000000</td>\n",
       "      <td>NaN</td>\n",
       "    </tr>\n",
       "    <tr>\n",
       "      <th>1</th>\n",
       "      <td>ABW</td>\n",
       "      <td>AFG</td>\n",
       "      <td>2001</td>\n",
       "      <td>NaN</td>\n",
       "      <td>0.000000</td>\n",
       "      <td>0.000000</td>\n",
       "      <td>0.000000</td>\n",
       "      <td>0.000000</td>\n",
       "      <td>0.000000</td>\n",
       "      <td>0.000000</td>\n",
       "      <td>NaN</td>\n",
       "    </tr>\n",
       "    <tr>\n",
       "      <th>2</th>\n",
       "      <td>ABW</td>\n",
       "      <td>AFG</td>\n",
       "      <td>2002</td>\n",
       "      <td>NaN</td>\n",
       "      <td>0.000000</td>\n",
       "      <td>0.000000</td>\n",
       "      <td>0.000000</td>\n",
       "      <td>0.000000</td>\n",
       "      <td>0.000000</td>\n",
       "      <td>0.000000</td>\n",
       "      <td>NaN</td>\n",
       "    </tr>\n",
       "    <tr>\n",
       "      <th>3</th>\n",
       "      <td>ABW</td>\n",
       "      <td>AFG</td>\n",
       "      <td>2003</td>\n",
       "      <td>NaN</td>\n",
       "      <td>0.000000</td>\n",
       "      <td>0.000000</td>\n",
       "      <td>0.000000</td>\n",
       "      <td>0.000000</td>\n",
       "      <td>0.000000</td>\n",
       "      <td>0.000000</td>\n",
       "      <td>NaN</td>\n",
       "    </tr>\n",
       "    <tr>\n",
       "      <th>4</th>\n",
       "      <td>ABW</td>\n",
       "      <td>AFG</td>\n",
       "      <td>2004</td>\n",
       "      <td>NaN</td>\n",
       "      <td>0.000000</td>\n",
       "      <td>0.000000</td>\n",
       "      <td>0.000000</td>\n",
       "      <td>0.000000</td>\n",
       "      <td>0.000000</td>\n",
       "      <td>0.000000</td>\n",
       "      <td>NaN</td>\n",
       "    </tr>\n",
       "    <tr>\n",
       "      <th>...</th>\n",
       "      <td>...</td>\n",
       "      <td>...</td>\n",
       "      <td>...</td>\n",
       "      <td>...</td>\n",
       "      <td>...</td>\n",
       "      <td>...</td>\n",
       "      <td>...</td>\n",
       "      <td>...</td>\n",
       "      <td>...</td>\n",
       "      <td>...</td>\n",
       "      <td>...</td>\n",
       "    </tr>\n",
       "    <tr>\n",
       "      <th>861835</th>\n",
       "      <td>ZWE</td>\n",
       "      <td>ZMB</td>\n",
       "      <td>2019</td>\n",
       "      <td>Zimbabwe</td>\n",
       "      <td>57.304677</td>\n",
       "      <td>0.000000</td>\n",
       "      <td>5.191727</td>\n",
       "      <td>98.394424</td>\n",
       "      <td>0.000000</td>\n",
       "      <td>7.750402</td>\n",
       "      <td>1.0</td>\n",
       "    </tr>\n",
       "    <tr>\n",
       "      <th>861836</th>\n",
       "      <td>ZWE</td>\n",
       "      <td>ZMB</td>\n",
       "      <td>2020</td>\n",
       "      <td>Zimbabwe</td>\n",
       "      <td>56.448352</td>\n",
       "      <td>0.000000</td>\n",
       "      <td>4.697084</td>\n",
       "      <td>86.823004</td>\n",
       "      <td>0.000000</td>\n",
       "      <td>7.516848</td>\n",
       "      <td>1.0</td>\n",
       "    </tr>\n",
       "    <tr>\n",
       "      <th>861837</th>\n",
       "      <td>ZWE</td>\n",
       "      <td>ZMB</td>\n",
       "      <td>2021</td>\n",
       "      <td>Zimbabwe</td>\n",
       "      <td>72.497875</td>\n",
       "      <td>0.008197</td>\n",
       "      <td>5.294659</td>\n",
       "      <td>82.495253</td>\n",
       "      <td>0.026241</td>\n",
       "      <td>6.952139</td>\n",
       "      <td>1.0</td>\n",
       "    </tr>\n",
       "    <tr>\n",
       "      <th>861838</th>\n",
       "      <td>ZWE</td>\n",
       "      <td>ZMB</td>\n",
       "      <td>2022</td>\n",
       "      <td>Zimbabwe</td>\n",
       "      <td>87.750059</td>\n",
       "      <td>0.005818</td>\n",
       "      <td>5.786046</td>\n",
       "      <td>97.246451</td>\n",
       "      <td>0.016069</td>\n",
       "      <td>7.380301</td>\n",
       "      <td>1.0</td>\n",
       "    </tr>\n",
       "    <tr>\n",
       "      <th>861839</th>\n",
       "      <td>ZWE</td>\n",
       "      <td>ZMB</td>\n",
       "      <td>2023</td>\n",
       "      <td>Zimbabwe</td>\n",
       "      <td>94.819514</td>\n",
       "      <td>0.002435</td>\n",
       "      <td>5.570087</td>\n",
       "      <td>116.923994</td>\n",
       "      <td>0.010638</td>\n",
       "      <td>8.000137</td>\n",
       "      <td>1.0</td>\n",
       "    </tr>\n",
       "  </tbody>\n",
       "</table>\n",
       "<p>861840 rows × 11 columns</p>\n",
       "</div>"
      ],
      "text/plain": [
       "       iso_o iso_d  TIME_PERIOD   country   total_tr  unique_cultural_tr  \\\n",
       "0        ABW   AFG         2000       NaN   0.000000            0.000000   \n",
       "1        ABW   AFG         2001       NaN   0.000000            0.000000   \n",
       "2        ABW   AFG         2002       NaN   0.000000            0.000000   \n",
       "3        ABW   AFG         2003       NaN   0.000000            0.000000   \n",
       "4        ABW   AFG         2004       NaN   0.000000            0.000000   \n",
       "...      ...   ...          ...       ...        ...                 ...   \n",
       "861835   ZWE   ZMB         2019  Zimbabwe  57.304677            0.000000   \n",
       "861836   ZWE   ZMB         2020  Zimbabwe  56.448352            0.000000   \n",
       "861837   ZWE   ZMB         2021  Zimbabwe  72.497875            0.008197   \n",
       "861838   ZWE   ZMB         2022  Zimbabwe  87.750059            0.005818   \n",
       "861839   ZWE   ZMB         2023  Zimbabwe  94.819514            0.002435   \n",
       "\n",
       "        reproducible_cultural_tr  hysteresis_total  hysteresis_unique  \\\n",
       "0                       0.000000          0.000000           0.000000   \n",
       "1                       0.000000          0.000000           0.000000   \n",
       "2                       0.000000          0.000000           0.000000   \n",
       "3                       0.000000          0.000000           0.000000   \n",
       "4                       0.000000          0.000000           0.000000   \n",
       "...                          ...               ...                ...   \n",
       "861835                  5.191727         98.394424           0.000000   \n",
       "861836                  4.697084         86.823004           0.000000   \n",
       "861837                  5.294659         82.495253           0.026241   \n",
       "861838                  5.786046         97.246451           0.016069   \n",
       "861839                  5.570087        116.923994           0.010638   \n",
       "\n",
       "        hysteresis_repro  rta  \n",
       "0               0.000000  NaN  \n",
       "1               0.000000  NaN  \n",
       "2               0.000000  NaN  \n",
       "3               0.000000  NaN  \n",
       "4               0.000000  NaN  \n",
       "...                  ...  ...  \n",
       "861835          7.750402  1.0  \n",
       "861836          7.516848  1.0  \n",
       "861837          6.952139  1.0  \n",
       "861838          7.380301  1.0  \n",
       "861839          8.000137  1.0  \n",
       "\n",
       "[861840 rows x 11 columns]"
      ]
     },
     "execution_count": 215,
     "metadata": {},
     "output_type": "execute_result"
    }
   ],
   "source": [
    "only_trade['TIME_PERIOD'].nunique()"
   ]
  },
  {
   "cell_type": "code",
   "execution_count": 218,
   "id": "6611a37f-eec0-431d-9af4-8b652466f82f",
   "metadata": {},
   "outputs": [
    {
     "name": "stdout",
     "output_type": "stream",
     "text": [
      "190\n",
      "190\n",
      "24\n",
      "35910\n"
     ]
    }
   ],
   "source": [
    "print(only_trade['iso_o'].nunique())\n",
    "print(only_trade['iso_d'].nunique())\n",
    "print(only_trade['TIME_PERIOD'].nunique())\n",
    "print(only_trade.groupby(['iso_o', 'iso_d']).ngroups)"
   ]
  },
  {
   "cell_type": "code",
   "execution_count": 230,
   "id": "6a6b0223-934a-4537-8998-379158a4b59f",
   "metadata": {},
   "outputs": [],
   "source": [
    "only_trade.to_csv(\"../data/cleaned/trade.csv\", encoding = 'utf-8', index = False)"
   ]
  }
 ],
 "metadata": {
  "kernelspec": {
   "display_name": "Python 3 (ipykernel)",
   "language": "python",
   "name": "python3"
  },
  "language_info": {
   "codemirror_mode": {
    "name": "ipython",
    "version": 3
   },
   "file_extension": ".py",
   "mimetype": "text/x-python",
   "name": "python",
   "nbconvert_exporter": "python",
   "pygments_lexer": "ipython3",
   "version": "3.12.7"
  }
 },
 "nbformat": 4,
 "nbformat_minor": 5
}
