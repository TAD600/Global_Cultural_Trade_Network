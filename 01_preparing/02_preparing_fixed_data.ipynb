{
 "cells": [
  {
   "cell_type": "code",
   "execution_count": 48,
   "id": "ea7f7ee8-0c34-40c5-88bf-98452c174dce",
   "metadata": {},
   "outputs": [],
   "source": [
    "import pandas as pd\n",
    "import numpy as np"
   ]
  },
  {
   "cell_type": "markdown",
   "id": "aeb425f4-dde1-476d-9330-5708977a6464",
   "metadata": {},
   "source": [
    "**Steps to prepare the fixed dataset:**\n",
    "> 1. Reading the 'dist_cepii.csv' and 'geo_cepii.csv' files contaning the dyad level fixed variables and node level fixed variables respectively \n",
    "> 2. Removing self loops, and duplicates if there is any\n",
    "> 3. Checking for mismatched countries in the node and dyad level data and removing that if there is any\n",
    "> 4. For developing and developed category, finding out the mismatch in the 'country' column of IMF data and node level fixed factors data\n",
    "> 5. There are differences in the country names as IMF website has the latest official names, while the CEPII website uses the older names---the variables are static. Here, I edited the CEPII names while keeping the IMF names as benchmark, as I merged this two datasets on country names.\n",
    "> 6. Merging the IMF data on 'country' column with the node level fixed factor data\n",
    "> 7. Saving both cleaned data frames as separate csv files.\n",
    "> 8. Merging the two dataset on 'iso_o' which is the ISO Alpha3 value for the exporter country"
   ]
  },
  {
   "cell_type": "code",
   "execution_count": 49,
   "id": "fea9570a-9e5a-4f59-a38b-4f178d141477",
   "metadata": {},
   "outputs": [],
   "source": [
    "dyad_fixed = pd.read_csv('../data/raw/dist_cepii.csv')"
   ]
  },
  {
   "cell_type": "code",
   "execution_count": 50,
   "id": "ba8f9652-0d57-463c-84b0-003612dd4cfb",
   "metadata": {},
   "outputs": [],
   "source": [
    "dyad_fixed = dyad_fixed[['iso_o', 'iso_d', 'contig', 'comlang_off', 'colony', 'comcol', 'dist']]"
   ]
  },
  {
   "cell_type": "code",
   "execution_count": 51,
   "id": "61b3c802-739a-462f-9c1b-559e0850e0ac",
   "metadata": {},
   "outputs": [],
   "source": [
    "dyad_fixed['log_dist'] = np.log(dyad_fixed['dist'])"
   ]
  },
  {
   "cell_type": "code",
   "execution_count": 52,
   "id": "ac4b1fe8-067c-456f-8f3f-54a2172f579f",
   "metadata": {},
   "outputs": [
    {
     "data": {
      "text/plain": [
       "(50176, 8)"
      ]
     },
     "execution_count": 52,
     "metadata": {},
     "output_type": "execute_result"
    }
   ],
   "source": [
    "dyad_fixed.shape"
   ]
  },
  {
   "cell_type": "code",
   "execution_count": 53,
   "id": "2f000e84-c316-4bd8-8023-00aad3d08159",
   "metadata": {},
   "outputs": [],
   "source": [
    "# removing self_loops\n",
    "dyad_fixed = dyad_fixed[dyad_fixed['iso_o'] != dyad_fixed['iso_d']]"
   ]
  },
  {
   "cell_type": "code",
   "execution_count": 54,
   "id": "ef12900a-3066-4c76-bed7-454ac828af09",
   "metadata": {},
   "outputs": [
    {
     "data": {
      "text/plain": [
       "(49952, 8)"
      ]
     },
     "execution_count": 54,
     "metadata": {},
     "output_type": "execute_result"
    }
   ],
   "source": [
    "# reduced 224 rows which were self loops\n",
    "dyad_fixed.shape "
   ]
  },
  {
   "cell_type": "code",
   "execution_count": 55,
   "id": "a3ca42b4-ff7b-4e07-b6c8-c92f7f872bbb",
   "metadata": {},
   "outputs": [
    {
     "data": {
      "text/html": [
       "<div>\n",
       "<style scoped>\n",
       "    .dataframe tbody tr th:only-of-type {\n",
       "        vertical-align: middle;\n",
       "    }\n",
       "\n",
       "    .dataframe tbody tr th {\n",
       "        vertical-align: top;\n",
       "    }\n",
       "\n",
       "    .dataframe thead th {\n",
       "        text-align: right;\n",
       "    }\n",
       "</style>\n",
       "<table border=\"1\" class=\"dataframe\">\n",
       "  <thead>\n",
       "    <tr style=\"text-align: right;\">\n",
       "      <th></th>\n",
       "      <th>iso_o</th>\n",
       "      <th>iso_d</th>\n",
       "      <th>contig</th>\n",
       "      <th>comlang_off</th>\n",
       "      <th>colony</th>\n",
       "      <th>comcol</th>\n",
       "      <th>dist</th>\n",
       "      <th>log_dist</th>\n",
       "    </tr>\n",
       "  </thead>\n",
       "  <tbody>\n",
       "    <tr>\n",
       "      <th>1</th>\n",
       "      <td>ABW</td>\n",
       "      <td>AFG</td>\n",
       "      <td>0</td>\n",
       "      <td>0</td>\n",
       "      <td>0</td>\n",
       "      <td>0</td>\n",
       "      <td>13257.810</td>\n",
       "      <td>9.492342</td>\n",
       "    </tr>\n",
       "    <tr>\n",
       "      <th>2</th>\n",
       "      <td>ABW</td>\n",
       "      <td>AGO</td>\n",
       "      <td>0</td>\n",
       "      <td>0</td>\n",
       "      <td>0</td>\n",
       "      <td>0</td>\n",
       "      <td>9516.913</td>\n",
       "      <td>9.160826</td>\n",
       "    </tr>\n",
       "  </tbody>\n",
       "</table>\n",
       "</div>"
      ],
      "text/plain": [
       "  iso_o iso_d  contig  comlang_off  colony  comcol       dist  log_dist\n",
       "1   ABW   AFG       0            0       0       0  13257.810  9.492342\n",
       "2   ABW   AGO       0            0       0       0   9516.913  9.160826"
      ]
     },
     "execution_count": 55,
     "metadata": {},
     "output_type": "execute_result"
    }
   ],
   "source": [
    "dyad_fixed.head(2)"
   ]
  },
  {
   "cell_type": "code",
   "execution_count": 56,
   "id": "51b7bc7d-3d5f-4a6f-aae7-53b75743afad",
   "metadata": {},
   "outputs": [
    {
     "name": "stdout",
     "output_type": "stream",
     "text": [
      "(49952, 8)\n"
     ]
    }
   ],
   "source": [
    "# checking for duplicates\n",
    "dupli = dyad_fixed.duplicated(keep = 'last')\n",
    "#dyad_fixed[dupli].shape[0]\n",
    "dyad_fixed_unique = dyad_fixed[~dupli]\n",
    "print(dyad_fixed_unique.shape)\n",
    "# There is no duplicates present in this dist_cepii data"
   ]
  },
  {
   "cell_type": "code",
   "execution_count": 57,
   "id": "70dc0d7f-b695-4639-b3a6-c7d423b51c4b",
   "metadata": {
    "scrolled": true
   },
   "outputs": [
    {
     "name": "stdout",
     "output_type": "stream",
     "text": [
      "224\n",
      "224\n",
      "49952\n"
     ]
    }
   ],
   "source": [
    "print(dyad_fixed_unique['iso_o'].nunique())\n",
    "print(dyad_fixed_unique['iso_d'].nunique())\n",
    "print(dyad_fixed_unique.groupby(['iso_o', 'iso_d']).ngroups)"
   ]
  },
  {
   "cell_type": "markdown",
   "id": "e1ecfe99-309e-40f1-9f6e-cb0690de36c1",
   "metadata": {},
   "source": [
    "### Node level fixed variables"
   ]
  },
  {
   "cell_type": "code",
   "execution_count": 58,
   "id": "efe0d543-81cf-43fc-be8d-4b2afe4b022c",
   "metadata": {},
   "outputs": [],
   "source": [
    "node = pd.read_csv('../data/raw/geo_cepii.csv', encoding='latin1')"
   ]
  },
  {
   "cell_type": "code",
   "execution_count": 59,
   "id": "31313c44-2006-4a7a-948b-73a506190317",
   "metadata": {},
   "outputs": [
    {
     "data": {
      "text/plain": [
       "(238, 34)"
      ]
     },
     "execution_count": 59,
     "metadata": {},
     "output_type": "execute_result"
    }
   ],
   "source": [
    "node.shape"
   ]
  },
  {
   "cell_type": "code",
   "execution_count": 60,
   "id": "02c15b2f-73ef-481f-b400-bce3c3d42b15",
   "metadata": {},
   "outputs": [],
   "source": [
    "# renaming the exporter column name to match it with the dyad level fixed variable data\n",
    "node = node.rename(columns = {'iso3': 'iso_o'})"
   ]
  },
  {
   "cell_type": "code",
   "execution_count": 61,
   "id": "ac4bf8b6-31d9-44a3-b7c4-1b883b90879a",
   "metadata": {},
   "outputs": [],
   "source": [
    "node = node[['iso_o', 'country', 'landlocked', 'continent', 'lat', 'lon', 'langoff_1','colonizer1']]"
   ]
  },
  {
   "cell_type": "code",
   "execution_count": 62,
   "id": "535c3291-20ea-44bc-aca2-04ebc92146ec",
   "metadata": {},
   "outputs": [
    {
     "name": "stdout",
     "output_type": "stream",
     "text": [
      "(13, 8)\n"
     ]
    }
   ],
   "source": [
    "# removing duplicates\n",
    "equivalent_columns = ['iso_o', 'country', 'landlocked', 'continent', 'langoff_1', 'colonizer1']\n",
    "duplicates = node.duplicated(subset = equivalent_columns, keep = 'last')\n",
    "print(node[duplicates].shape)\n",
    "#print(node[duplicates])"
   ]
  },
  {
   "cell_type": "code",
   "execution_count": 63,
   "id": "ba92fa30-c639-4d69-b538-50538253be37",
   "metadata": {},
   "outputs": [
    {
     "data": {
      "text/plain": [
       "(225, 8)"
      ]
     },
     "execution_count": 63,
     "metadata": {},
     "output_type": "execute_result"
    }
   ],
   "source": [
    "node_unique = node[~duplicates]\n",
    "node_unique.shape"
   ]
  },
  {
   "cell_type": "markdown",
   "id": "a01fe330-d5a6-44ed-bf94-3fcf564bb173",
   "metadata": {},
   "source": [
    "#### Checking for mismatch in the dyad level and node level fixed factor data"
   ]
  },
  {
   "cell_type": "code",
   "execution_count": 64,
   "id": "e4307e84-3f54-4b08-a93e-504a97725745",
   "metadata": {},
   "outputs": [
    {
     "data": {
      "text/plain": [
       "{'ATF'}"
      ]
     },
     "execution_count": 64,
     "metadata": {},
     "output_type": "execute_result"
    }
   ],
   "source": [
    "set(node_unique['iso_o'].unique()) - set(dyad_fixed_unique['iso_o'].unique())"
   ]
  },
  {
   "cell_type": "code",
   "execution_count": 65,
   "id": "499062a2-afbb-4a33-9c27-4b492ef12f98",
   "metadata": {},
   "outputs": [
    {
     "data": {
      "text/plain": [
       "{'ATF'}"
      ]
     },
     "execution_count": 65,
     "metadata": {},
     "output_type": "execute_result"
    }
   ],
   "source": [
    "set(node_unique['iso_o'].unique()) - set(dyad_fixed_unique['iso_d'].unique())"
   ]
  },
  {
   "cell_type": "markdown",
   "id": "0e090cdf-e5bd-406c-877c-c7d819395ebc",
   "metadata": {},
   "source": [
    "French Southern and Antarctic Lands (ATF) is not present in the dyad level data."
   ]
  },
  {
   "cell_type": "code",
   "execution_count": 66,
   "id": "8d478867-05ee-4dc6-9ef0-1e30a4321bb6",
   "metadata": {},
   "outputs": [],
   "source": [
    "node_unique = node_unique[node_unique['iso_o'] != 'ATF']"
   ]
  },
  {
   "cell_type": "code",
   "execution_count": 67,
   "id": "f4879a88-4da9-434e-8987-c78687f78d9c",
   "metadata": {},
   "outputs": [
    {
     "data": {
      "text/plain": [
       "set()"
      ]
     },
     "execution_count": 67,
     "metadata": {},
     "output_type": "execute_result"
    }
   ],
   "source": [
    "set(dyad_fixed_unique['iso_o'].unique()) - set(node_unique['iso_o'].unique())"
   ]
  },
  {
   "cell_type": "code",
   "execution_count": 68,
   "id": "4989e6fa-265f-43c0-a76e-5584dd69fdb6",
   "metadata": {},
   "outputs": [],
   "source": [
    "assert node_unique['iso_o'].nunique() == dyad_fixed_unique['iso_o'].nunique() "
   ]
  },
  {
   "cell_type": "markdown",
   "id": "f0be57c4-7ef1-45f7-9186-45446c435cc1",
   "metadata": {},
   "source": [
    "### Country category based on IMF \n",
    "https://www.imf.org/en/Publications/WEO/weo-database/2025/april/groups-and-aggregates#oem"
   ]
  },
  {
   "cell_type": "code",
   "execution_count": 69,
   "id": "5a094e8f-5c43-4f0e-9322-d16e5710b332",
   "metadata": {},
   "outputs": [],
   "source": [
    "imf = pd.read_excel(\"../data/raw/IMF_classification.xlsx\")"
   ]
  },
  {
   "cell_type": "code",
   "execution_count": 70,
   "id": "8fce2759-2b65-47ce-816a-0a0fd2f00b42",
   "metadata": {},
   "outputs": [],
   "source": [
    "imf[\"development\"] = 0"
   ]
  },
  {
   "cell_type": "code",
   "execution_count": 71,
   "id": "21e4bb7e-cc45-4ee2-9de4-ca7135c41d29",
   "metadata": {},
   "outputs": [
    {
     "data": {
      "text/html": [
       "<div>\n",
       "<style scoped>\n",
       "    .dataframe tbody tr th:only-of-type {\n",
       "        vertical-align: middle;\n",
       "    }\n",
       "\n",
       "    .dataframe tbody tr th {\n",
       "        vertical-align: top;\n",
       "    }\n",
       "\n",
       "    .dataframe thead th {\n",
       "        text-align: right;\n",
       "    }\n",
       "</style>\n",
       "<table border=\"1\" class=\"dataframe\">\n",
       "  <thead>\n",
       "    <tr style=\"text-align: right;\">\n",
       "      <th></th>\n",
       "      <th>country</th>\n",
       "      <th>category</th>\n",
       "      <th>development</th>\n",
       "    </tr>\n",
       "  </thead>\n",
       "  <tbody>\n",
       "    <tr>\n",
       "      <th>0</th>\n",
       "      <td>Andorra</td>\n",
       "      <td>Advanced Economies</td>\n",
       "      <td>0</td>\n",
       "    </tr>\n",
       "    <tr>\n",
       "      <th>1</th>\n",
       "      <td>Australia</td>\n",
       "      <td>Advanced Economies</td>\n",
       "      <td>0</td>\n",
       "    </tr>\n",
       "  </tbody>\n",
       "</table>\n",
       "</div>"
      ],
      "text/plain": [
       "     country            category  development\n",
       "0    Andorra  Advanced Economies            0\n",
       "1  Australia  Advanced Economies            0"
      ]
     },
     "execution_count": 71,
     "metadata": {},
     "output_type": "execute_result"
    }
   ],
   "source": [
    "imf.head(2)"
   ]
  },
  {
   "cell_type": "code",
   "execution_count": 72,
   "id": "1440579f-de9f-4bc5-b6e7-e9d426bb949d",
   "metadata": {},
   "outputs": [],
   "source": [
    "imf.loc[imf['category'] == 'Advanced Economies', 'development'] = 1"
   ]
  },
  {
   "cell_type": "code",
   "execution_count": 73,
   "id": "6de886b6-70e0-4efb-b730-75408bd991c9",
   "metadata": {},
   "outputs": [
    {
     "name": "stdout",
     "output_type": "stream",
     "text": [
      "category\n",
      "Emerging and Developing Economies    155\n",
      "Advanced Economies                    41\n",
      "Name: count, dtype: int64\n",
      "development\n",
      "0    155\n",
      "1     41\n",
      "Name: count, dtype: int64\n"
     ]
    }
   ],
   "source": [
    "print(imf['category'].value_counts())\n",
    "print(imf['development'].value_counts())"
   ]
  },
  {
   "cell_type": "code",
   "execution_count": 74,
   "id": "89f05334-be26-4476-af75-d11105e23adf",
   "metadata": {},
   "outputs": [
    {
     "name": "stdout",
     "output_type": "stream",
     "text": [
      "196\n",
      "224\n"
     ]
    }
   ],
   "source": [
    "print(imf['country'].nunique())\n",
    "print(node_unique['country'].nunique())"
   ]
  },
  {
   "cell_type": "code",
   "execution_count": 75,
   "id": "21f4d050-e79f-4da8-9b50-adf23b18b92b",
   "metadata": {},
   "outputs": [],
   "source": [
    "m = set(node_unique['country'].unique()) - set(imf['country'].unique())"
   ]
  },
  {
   "cell_type": "code",
   "execution_count": 76,
   "id": "d6b6f9e4-fff8-4f6d-8edb-29286807bd9d",
   "metadata": {},
   "outputs": [
    {
     "data": {
      "text/plain": [
       "64"
      ]
     },
     "execution_count": 76,
     "metadata": {},
     "output_type": "execute_result"
    }
   ],
   "source": [
    "len(m) #These are in geo_cepii but not in IMF"
   ]
  },
  {
   "cell_type": "code",
   "execution_count": 77,
   "id": "8be38e28-696e-4802-bbc5-9177d135d444",
   "metadata": {},
   "outputs": [],
   "source": [
    "q = set(imf['country'].unique()) - set(node_unique['country'].unique())"
   ]
  },
  {
   "cell_type": "code",
   "execution_count": 78,
   "id": "b8c2248b-555f-49e8-ac3f-baddc5ef5f54",
   "metadata": {},
   "outputs": [
    {
     "data": {
      "text/plain": [
       "36"
      ]
     },
     "execution_count": 78,
     "metadata": {},
     "output_type": "execute_result"
    }
   ],
   "source": [
    "len(q) #These are in IMF but not in geo_cepii"
   ]
  },
  {
   "cell_type": "code",
   "execution_count": 79,
   "id": "dbbd349e-dac4-476b-8cc4-97f6e82d581f",
   "metadata": {},
   "outputs": [
    {
     "data": {
      "text/plain": [
       "{'Belgium',\n",
       " 'Cabo Verde',\n",
       " 'Democratic Republic of the Congo',\n",
       " 'Eswatini',\n",
       " 'Hong Kong SAR',\n",
       " 'Kazakhstan',\n",
       " 'Kosovo',\n",
       " 'Kyrgyz Republic',\n",
       " 'Lao P.D.R.',\n",
       " 'Libya',\n",
       " 'Macao SAR',\n",
       " 'Micronesia',\n",
       " 'Moldova',\n",
       " 'Montenegro',\n",
       " 'Myanmar',\n",
       " 'North Macedonia',\n",
       " 'Republic of Congo',\n",
       " 'Russia',\n",
       " 'Serbia',\n",
       " 'Slovak Republic',\n",
       " 'South Sudan',\n",
       " 'St. Kitts and Nevis',\n",
       " 'St. Lucia',\n",
       " 'St. Vincent and the Grenadines',\n",
       " 'Syria',\n",
       " 'São Tomé and Príncipe',\n",
       " 'Taiwan Province of China',\n",
       " 'Tanzania',\n",
       " 'The Bahamas',\n",
       " 'The Gambia',\n",
       " 'The Netherlands',\n",
       " 'Timor-Leste',\n",
       " 'Türkiye',\n",
       " 'United States',\n",
       " 'Vietnam',\n",
       " 'West Bank and Gaza'}"
      ]
     },
     "execution_count": 79,
     "metadata": {},
     "output_type": "execute_result"
    }
   ],
   "source": [
    "q"
   ]
  },
  {
   "cell_type": "code",
   "execution_count": 80,
   "id": "9a53c29a-c1a5-458f-ab6e-51ae281a8967",
   "metadata": {},
   "outputs": [],
   "source": [
    "node_unique.loc[node_unique['country'] == 'Bahamas', 'country'] = 'The Bahamas'\n",
    "node_unique.loc[node_unique['country'] == 'Belgium and Luxembourg', 'country'] = 'Belgium'\n",
    "node_unique.loc[node_unique['country'] ==  'Burma', 'country'] = 'Myanmar'\n",
    "node_unique.loc[node_unique['country'] ==  'Cape Verde', 'country'] = 'Cabo Verde'\n",
    "node_unique.loc[node_unique['country'] ==  'East Timor', 'country'] =  'Timor-Leste'\n",
    "node_unique.loc[node_unique['country'] ==  'Gambia', 'country'] =  'The Gambia'\n",
    "node_unique.loc[node_unique['country'] == 'Hong Kong', 'country'] = 'Hong Kong SAR'\n",
    "node_unique.loc[node_unique['country'] == 'Kazakstan', 'country'] = 'Kazakhstan'\n",
    "node_unique.loc[node_unique['country'] == \"Korea, Dem. People's Rep. of\", 'country'] = \"Korea\"\n",
    "node_unique.loc[node_unique['country'] =='Kyrgyzstan', 'country'] = 'Kyrgyz Republic'\n",
    "node_unique.loc[node_unique['country'] == \"Lao People's Democratic Republic\", 'country'] =  'Lao P.D.R.'\n",
    "node_unique.loc[node_unique['country'] == 'Libyan Arab Jamahiriya', 'country'] = 'Libya'\n",
    "node_unique.loc[node_unique['country'] == 'Macau (Aomen)', 'country'] = 'Macao SAR'\n",
    "node_unique.loc[node_unique['country'] == 'Macedonia (the former Yugoslav Rep. of)', 'country'] = 'North Macedonia'\n",
    "node_unique.loc[node_unique['country'] == 'Micronesia (Federated States of)', 'country'] = 'Micronesia'\n",
    "node_unique.loc[node_unique['country'] == 'Moldova, Rep.of', 'country'] = 'Moldova'\n",
    "node_unique.loc[node_unique['country'] == 'Netherlands', 'country'] = 'The Netherlands'\n",
    "node_unique.loc[node_unique['country'] == 'Palestine', 'country'] = 'West Bank and Gaza'\n",
    "node_unique.loc[node_unique['country'] == 'Russian Federation', 'country'] = 'Russia'\n",
    "node_unique.loc[node_unique['country'] == 'Saint Kitts and Nevis', 'country'] = 'St. Kitts and Nevis'\n",
    "node_unique.loc[node_unique['country'] == 'Saint Lucia', 'country'] = 'St. Lucia'\n",
    "node_unique.loc[node_unique['country'] == 'Saint Vincent and the Grenadines', 'country'] = 'St. Vincent and the Grenadines'\n",
    "node_unique.loc[node_unique['country'] == 'Sao Tome and Principe', 'country'] = 'São Tomé and Príncipe'\n",
    "node_unique.loc[node_unique['country'] == 'Serbia and Montenegro', 'country'] = 'Serbia'\n",
    "node_unique.loc[node_unique['country'] == 'Slovakia', 'country'] = 'Slovak Republic'\n",
    "node_unique.loc[node_unique['country'] == 'Swaziland', 'country'] = 'Eswatini'\n",
    "node_unique.loc[node_unique['country'] == 'Syrian Arab Republic', 'country'] =  'Syria'\n",
    "node_unique.loc[node_unique['country'] ==  'Taiwan', 'country'] =   'Taiwan Province of China'\n",
    "node_unique.loc[node_unique['country'] ==  'Tanzania, United Rep. of ', 'country'] =  'Tanzania'\n",
    "node_unique.loc[node_unique['country'] ==  'Turkey', 'country'] =  'Türkiye'\n",
    "node_unique.loc[node_unique['country'] ==  'United States of America', 'country'] =  'United States'\n",
    "node_unique.loc[node_unique['country'] ==  'Viet Nam', 'country'] =  'Vietnam'\n",
    "node_unique.loc[node_unique['country'] ==  'Congo', 'country'] =  'Republic of Congo'\n",
    "node_unique.loc[node_unique['country'] ==  'Congo (Democratic Republic of the)', 'country'] =  'Democratic Republic of the Congo'"
   ]
  },
  {
   "cell_type": "code",
   "execution_count": 81,
   "id": "08bf7ce4-3cf8-4595-85b7-c47f52d4a14a",
   "metadata": {},
   "outputs": [
    {
     "data": {
      "text/html": [
       "<div>\n",
       "<style scoped>\n",
       "    .dataframe tbody tr th:only-of-type {\n",
       "        vertical-align: middle;\n",
       "    }\n",
       "\n",
       "    .dataframe tbody tr th {\n",
       "        vertical-align: top;\n",
       "    }\n",
       "\n",
       "    .dataframe thead th {\n",
       "        text-align: right;\n",
       "    }\n",
       "</style>\n",
       "<table border=\"1\" class=\"dataframe\">\n",
       "  <thead>\n",
       "    <tr style=\"text-align: right;\">\n",
       "      <th></th>\n",
       "      <th>iso_o</th>\n",
       "      <th>country</th>\n",
       "      <th>landlocked</th>\n",
       "      <th>continent</th>\n",
       "      <th>lat</th>\n",
       "      <th>lon</th>\n",
       "      <th>langoff_1</th>\n",
       "      <th>colonizer1</th>\n",
       "    </tr>\n",
       "  </thead>\n",
       "  <tbody>\n",
       "    <tr>\n",
       "      <th>0</th>\n",
       "      <td>AND</td>\n",
       "      <td>Andorra</td>\n",
       "      <td>0</td>\n",
       "      <td>Europe</td>\n",
       "      <td>42.500000</td>\n",
       "      <td>1.500000</td>\n",
       "      <td>Catalan</td>\n",
       "      <td>NaN</td>\n",
       "    </tr>\n",
       "    <tr>\n",
       "      <th>1</th>\n",
       "      <td>ARE</td>\n",
       "      <td>United Arab Emirates</td>\n",
       "      <td>0</td>\n",
       "      <td>Asia</td>\n",
       "      <td>24.466667</td>\n",
       "      <td>54.416668</td>\n",
       "      <td>Arabic</td>\n",
       "      <td>GBR</td>\n",
       "    </tr>\n",
       "    <tr>\n",
       "      <th>2</th>\n",
       "      <td>AFG</td>\n",
       "      <td>Afghanistan</td>\n",
       "      <td>1</td>\n",
       "      <td>Asia</td>\n",
       "      <td>34.516666</td>\n",
       "      <td>69.199997</td>\n",
       "      <td>Persian</td>\n",
       "      <td>NaN</td>\n",
       "    </tr>\n",
       "    <tr>\n",
       "      <th>3</th>\n",
       "      <td>ATG</td>\n",
       "      <td>Antigua and Barbuda</td>\n",
       "      <td>0</td>\n",
       "      <td>America</td>\n",
       "      <td>17.133333</td>\n",
       "      <td>-61.833332</td>\n",
       "      <td>English</td>\n",
       "      <td>GBR</td>\n",
       "    </tr>\n",
       "    <tr>\n",
       "      <th>4</th>\n",
       "      <td>AIA</td>\n",
       "      <td>Anguilla</td>\n",
       "      <td>0</td>\n",
       "      <td>America</td>\n",
       "      <td>18.216667</td>\n",
       "      <td>-63.066666</td>\n",
       "      <td>English</td>\n",
       "      <td>GBR</td>\n",
       "    </tr>\n",
       "  </tbody>\n",
       "</table>\n",
       "</div>"
      ],
      "text/plain": [
       "  iso_o               country  landlocked continent        lat        lon  \\\n",
       "0   AND               Andorra           0    Europe  42.500000   1.500000   \n",
       "1   ARE  United Arab Emirates           0      Asia  24.466667  54.416668   \n",
       "2   AFG           Afghanistan           1      Asia  34.516666  69.199997   \n",
       "3   ATG   Antigua and Barbuda           0   America  17.133333 -61.833332   \n",
       "4   AIA              Anguilla           0   America  18.216667 -63.066666   \n",
       "\n",
       "  langoff_1 colonizer1  \n",
       "0   Catalan        NaN  \n",
       "1    Arabic        GBR  \n",
       "2   Persian        NaN  \n",
       "3   English        GBR  \n",
       "4   English        GBR  "
      ]
     },
     "execution_count": 81,
     "metadata": {},
     "output_type": "execute_result"
    }
   ],
   "source": [
    "node_unique.head()"
   ]
  },
  {
   "cell_type": "code",
   "execution_count": 82,
   "id": "2ae5c797-856c-44f1-9e6d-944c78f2d8b5",
   "metadata": {},
   "outputs": [],
   "source": [
    "nodeUnique_imf = node_unique.merge(imf, on = 'country', how='left')"
   ]
  },
  {
   "cell_type": "code",
   "execution_count": 83,
   "id": "0845e53c-f5fe-45de-812c-4a34a909dc29",
   "metadata": {},
   "outputs": [
    {
     "name": "stdout",
     "output_type": "stream",
     "text": [
      "196\n",
      "223\n",
      "223\n"
     ]
    }
   ],
   "source": [
    "print(imf['country'].nunique())\n",
    "print(node_unique['country'].nunique())\n",
    "print(nodeUnique_imf['country'].nunique())"
   ]
  },
  {
   "cell_type": "code",
   "execution_count": 84,
   "id": "cc5bf943-315b-4dc9-8cc3-6d25c7c21d11",
   "metadata": {},
   "outputs": [
    {
     "data": {
      "text/plain": [
       "category\n",
       "Emerging and Developing Economies    152\n",
       "Advanced Economies                    42\n",
       "Name: count, dtype: int64"
      ]
     },
     "execution_count": 84,
     "metadata": {},
     "output_type": "execute_result"
    }
   ],
   "source": [
    "nodeUnique_imf['category'].value_counts()"
   ]
  },
  {
   "cell_type": "code",
   "execution_count": 85,
   "id": "ed46de14-04e1-4568-87cb-178382438c09",
   "metadata": {},
   "outputs": [
    {
     "data": {
      "text/plain": [
       "30"
      ]
     },
     "execution_count": 85,
     "metadata": {},
     "output_type": "execute_result"
    }
   ],
   "source": [
    "nodeUnique_imf['category'].isna().sum()"
   ]
  },
  {
   "cell_type": "code",
   "execution_count": 86,
   "id": "916baee9-12a6-4f48-ae3e-fa74f95ddbbd",
   "metadata": {},
   "outputs": [
    {
     "data": {
      "text/html": [
       "<div>\n",
       "<style scoped>\n",
       "    .dataframe tbody tr th:only-of-type {\n",
       "        vertical-align: middle;\n",
       "    }\n",
       "\n",
       "    .dataframe tbody tr th {\n",
       "        vertical-align: top;\n",
       "    }\n",
       "\n",
       "    .dataframe thead th {\n",
       "        text-align: right;\n",
       "    }\n",
       "</style>\n",
       "<table border=\"1\" class=\"dataframe\">\n",
       "  <thead>\n",
       "    <tr style=\"text-align: right;\">\n",
       "      <th></th>\n",
       "      <th>iso_o</th>\n",
       "      <th>country</th>\n",
       "      <th>landlocked</th>\n",
       "      <th>continent</th>\n",
       "      <th>lat</th>\n",
       "      <th>lon</th>\n",
       "      <th>langoff_1</th>\n",
       "      <th>colonizer1</th>\n",
       "      <th>category</th>\n",
       "      <th>development</th>\n",
       "    </tr>\n",
       "  </thead>\n",
       "  <tbody>\n",
       "    <tr>\n",
       "      <th>4</th>\n",
       "      <td>AIA</td>\n",
       "      <td>Anguilla</td>\n",
       "      <td>0</td>\n",
       "      <td>America</td>\n",
       "      <td>18.216667</td>\n",
       "      <td>-63.066666</td>\n",
       "      <td>English</td>\n",
       "      <td>GBR</td>\n",
       "      <td>NaN</td>\n",
       "      <td>NaN</td>\n",
       "    </tr>\n",
       "    <tr>\n",
       "      <th>7</th>\n",
       "      <td>ANT</td>\n",
       "      <td>Netherland Antilles</td>\n",
       "      <td>0</td>\n",
       "      <td>America</td>\n",
       "      <td>12.100000</td>\n",
       "      <td>-68.933334</td>\n",
       "      <td>Dutch</td>\n",
       "      <td>NLD</td>\n",
       "      <td>NaN</td>\n",
       "      <td>NaN</td>\n",
       "    </tr>\n",
       "    <tr>\n",
       "      <th>23</th>\n",
       "      <td>BMU</td>\n",
       "      <td>Bermuda</td>\n",
       "      <td>0</td>\n",
       "      <td>America</td>\n",
       "      <td>32.299999</td>\n",
       "      <td>-64.800003</td>\n",
       "      <td>English</td>\n",
       "      <td>GBR</td>\n",
       "      <td>NaN</td>\n",
       "      <td>NaN</td>\n",
       "    </tr>\n",
       "    <tr>\n",
       "      <th>33</th>\n",
       "      <td>CCK</td>\n",
       "      <td>Cocos (Keeling) Islands</td>\n",
       "      <td>0</td>\n",
       "      <td>Pacific</td>\n",
       "      <td>-12.500000</td>\n",
       "      <td>96.833336</td>\n",
       "      <td>Malay</td>\n",
       "      <td>GBR</td>\n",
       "      <td>NaN</td>\n",
       "      <td>NaN</td>\n",
       "    </tr>\n",
       "    <tr>\n",
       "      <th>38</th>\n",
       "      <td>COK</td>\n",
       "      <td>Cook Islands</td>\n",
       "      <td>0</td>\n",
       "      <td>Pacific</td>\n",
       "      <td>-21.200001</td>\n",
       "      <td>-159.766660</td>\n",
       "      <td>English</td>\n",
       "      <td>GBR</td>\n",
       "      <td>NaN</td>\n",
       "      <td>NaN</td>\n",
       "    </tr>\n",
       "    <tr>\n",
       "      <th>44</th>\n",
       "      <td>CUB</td>\n",
       "      <td>Cuba</td>\n",
       "      <td>0</td>\n",
       "      <td>America</td>\n",
       "      <td>23.116667</td>\n",
       "      <td>-82.416664</td>\n",
       "      <td>Spanish</td>\n",
       "      <td>ESP</td>\n",
       "      <td>NaN</td>\n",
       "      <td>NaN</td>\n",
       "    </tr>\n",
       "    <tr>\n",
       "      <th>46</th>\n",
       "      <td>CXR</td>\n",
       "      <td>Christmas Island</td>\n",
       "      <td>0</td>\n",
       "      <td>Pacific</td>\n",
       "      <td>-10.416667</td>\n",
       "      <td>105.716670</td>\n",
       "      <td>English</td>\n",
       "      <td>GBR</td>\n",
       "      <td>NaN</td>\n",
       "      <td>NaN</td>\n",
       "    </tr>\n",
       "    <tr>\n",
       "      <th>58</th>\n",
       "      <td>ESH</td>\n",
       "      <td>Western Sahara</td>\n",
       "      <td>0</td>\n",
       "      <td>Africa</td>\n",
       "      <td>27.166666</td>\n",
       "      <td>-13.183333</td>\n",
       "      <td>Arabic</td>\n",
       "      <td>ESP</td>\n",
       "      <td>NaN</td>\n",
       "      <td>NaN</td>\n",
       "    </tr>\n",
       "    <tr>\n",
       "      <th>64</th>\n",
       "      <td>FLK</td>\n",
       "      <td>Falkland Islands</td>\n",
       "      <td>0</td>\n",
       "      <td>America</td>\n",
       "      <td>-51.700001</td>\n",
       "      <td>-57.849998</td>\n",
       "      <td>English</td>\n",
       "      <td>GBR</td>\n",
       "      <td>NaN</td>\n",
       "      <td>NaN</td>\n",
       "    </tr>\n",
       "    <tr>\n",
       "      <th>66</th>\n",
       "      <td>FRO</td>\n",
       "      <td>Faroe Islands</td>\n",
       "      <td>0</td>\n",
       "      <td>Europe</td>\n",
       "      <td>62.016666</td>\n",
       "      <td>-6.766667</td>\n",
       "      <td>Faroese</td>\n",
       "      <td>DNK</td>\n",
       "      <td>NaN</td>\n",
       "      <td>NaN</td>\n",
       "    </tr>\n",
       "    <tr>\n",
       "      <th>72</th>\n",
       "      <td>GUF</td>\n",
       "      <td>French Guiana</td>\n",
       "      <td>0</td>\n",
       "      <td>America</td>\n",
       "      <td>4.933333</td>\n",
       "      <td>-52.333332</td>\n",
       "      <td>French</td>\n",
       "      <td>FRA</td>\n",
       "      <td>NaN</td>\n",
       "      <td>NaN</td>\n",
       "    </tr>\n",
       "    <tr>\n",
       "      <th>74</th>\n",
       "      <td>GIB</td>\n",
       "      <td>Gibraltar</td>\n",
       "      <td>0</td>\n",
       "      <td>Europe</td>\n",
       "      <td>36.133335</td>\n",
       "      <td>-5.350000</td>\n",
       "      <td>English</td>\n",
       "      <td>GBR</td>\n",
       "      <td>NaN</td>\n",
       "      <td>NaN</td>\n",
       "    </tr>\n",
       "    <tr>\n",
       "      <th>75</th>\n",
       "      <td>GRL</td>\n",
       "      <td>Greenland</td>\n",
       "      <td>0</td>\n",
       "      <td>America</td>\n",
       "      <td>64.183334</td>\n",
       "      <td>-51.733334</td>\n",
       "      <td>Greenlandic</td>\n",
       "      <td>DNK</td>\n",
       "      <td>NaN</td>\n",
       "      <td>NaN</td>\n",
       "    </tr>\n",
       "    <tr>\n",
       "      <th>78</th>\n",
       "      <td>GLP</td>\n",
       "      <td>Guadeloupe</td>\n",
       "      <td>0</td>\n",
       "      <td>America</td>\n",
       "      <td>16.000000</td>\n",
       "      <td>-61.733334</td>\n",
       "      <td>French</td>\n",
       "      <td>FRA</td>\n",
       "      <td>NaN</td>\n",
       "      <td>NaN</td>\n",
       "    </tr>\n",
       "    <tr>\n",
       "      <th>109</th>\n",
       "      <td>CYM</td>\n",
       "      <td>Cayman Islands</td>\n",
       "      <td>0</td>\n",
       "      <td>America</td>\n",
       "      <td>19.299999</td>\n",
       "      <td>-81.383331</td>\n",
       "      <td>English</td>\n",
       "      <td>GBR</td>\n",
       "      <td>NaN</td>\n",
       "      <td>NaN</td>\n",
       "    </tr>\n",
       "    <tr>\n",
       "      <th>130</th>\n",
       "      <td>MNP</td>\n",
       "      <td>Northern Mariana Islands</td>\n",
       "      <td>0</td>\n",
       "      <td>Pacific</td>\n",
       "      <td>15.200000</td>\n",
       "      <td>145.750000</td>\n",
       "      <td>English</td>\n",
       "      <td>ESP</td>\n",
       "      <td>NaN</td>\n",
       "      <td>NaN</td>\n",
       "    </tr>\n",
       "    <tr>\n",
       "      <th>131</th>\n",
       "      <td>MTQ</td>\n",
       "      <td>Martinique</td>\n",
       "      <td>0</td>\n",
       "      <td>America</td>\n",
       "      <td>14.600000</td>\n",
       "      <td>-61.083332</td>\n",
       "      <td>French</td>\n",
       "      <td>FRA</td>\n",
       "      <td>NaN</td>\n",
       "      <td>NaN</td>\n",
       "    </tr>\n",
       "    <tr>\n",
       "      <th>133</th>\n",
       "      <td>MSR</td>\n",
       "      <td>Montserrat</td>\n",
       "      <td>0</td>\n",
       "      <td>America</td>\n",
       "      <td>16.700001</td>\n",
       "      <td>-62.216667</td>\n",
       "      <td>English</td>\n",
       "      <td>GBR</td>\n",
       "      <td>NaN</td>\n",
       "      <td>NaN</td>\n",
       "    </tr>\n",
       "    <tr>\n",
       "      <th>142</th>\n",
       "      <td>NCL</td>\n",
       "      <td>New Caledonia</td>\n",
       "      <td>0</td>\n",
       "      <td>Pacific</td>\n",
       "      <td>-22.266666</td>\n",
       "      <td>166.450000</td>\n",
       "      <td>French</td>\n",
       "      <td>FRA</td>\n",
       "      <td>NaN</td>\n",
       "      <td>NaN</td>\n",
       "    </tr>\n",
       "    <tr>\n",
       "      <th>144</th>\n",
       "      <td>NFK</td>\n",
       "      <td>Norfolk Island</td>\n",
       "      <td>0</td>\n",
       "      <td>Pacific</td>\n",
       "      <td>-29.049999</td>\n",
       "      <td>167.966660</td>\n",
       "      <td>English</td>\n",
       "      <td>NaN</td>\n",
       "      <td>NaN</td>\n",
       "      <td>NaN</td>\n",
       "    </tr>\n",
       "    <tr>\n",
       "      <th>151</th>\n",
       "      <td>NIU</td>\n",
       "      <td>Niue</td>\n",
       "      <td>0</td>\n",
       "      <td>Pacific</td>\n",
       "      <td>-19.016666</td>\n",
       "      <td>-169.916670</td>\n",
       "      <td>Niuean</td>\n",
       "      <td>GBR</td>\n",
       "      <td>NaN</td>\n",
       "      <td>NaN</td>\n",
       "    </tr>\n",
       "    <tr>\n",
       "      <th>156</th>\n",
       "      <td>PYF</td>\n",
       "      <td>French Polynesia</td>\n",
       "      <td>0</td>\n",
       "      <td>Pacific</td>\n",
       "      <td>-17.533333</td>\n",
       "      <td>-149.566670</td>\n",
       "      <td>French</td>\n",
       "      <td>FRA</td>\n",
       "      <td>NaN</td>\n",
       "      <td>NaN</td>\n",
       "    </tr>\n",
       "    <tr>\n",
       "      <th>161</th>\n",
       "      <td>SPM</td>\n",
       "      <td>St. Pierre and Miquelon</td>\n",
       "      <td>0</td>\n",
       "      <td>America</td>\n",
       "      <td>46.666668</td>\n",
       "      <td>-56.166668</td>\n",
       "      <td>French</td>\n",
       "      <td>FRA</td>\n",
       "      <td>NaN</td>\n",
       "      <td>NaN</td>\n",
       "    </tr>\n",
       "    <tr>\n",
       "      <th>162</th>\n",
       "      <td>PCN</td>\n",
       "      <td>Pitcairn</td>\n",
       "      <td>0</td>\n",
       "      <td>Pacific</td>\n",
       "      <td>-25.066668</td>\n",
       "      <td>-130.083330</td>\n",
       "      <td>English</td>\n",
       "      <td>GBR</td>\n",
       "      <td>NaN</td>\n",
       "      <td>NaN</td>\n",
       "    </tr>\n",
       "    <tr>\n",
       "      <th>169</th>\n",
       "      <td>REU</td>\n",
       "      <td>Reunion</td>\n",
       "      <td>0</td>\n",
       "      <td>Africa</td>\n",
       "      <td>-20.866667</td>\n",
       "      <td>55.466667</td>\n",
       "      <td>French</td>\n",
       "      <td>FRA</td>\n",
       "      <td>NaN</td>\n",
       "      <td>NaN</td>\n",
       "    </tr>\n",
       "    <tr>\n",
       "      <th>179</th>\n",
       "      <td>SHN</td>\n",
       "      <td>Saint Helena</td>\n",
       "      <td>0</td>\n",
       "      <td>Africa</td>\n",
       "      <td>-15.916667</td>\n",
       "      <td>-5.700000</td>\n",
       "      <td>English</td>\n",
       "      <td>GBR</td>\n",
       "      <td>NaN</td>\n",
       "      <td>NaN</td>\n",
       "    </tr>\n",
       "    <tr>\n",
       "      <th>191</th>\n",
       "      <td>TCA</td>\n",
       "      <td>Turks and Caicos Islands</td>\n",
       "      <td>0</td>\n",
       "      <td>America</td>\n",
       "      <td>21.466667</td>\n",
       "      <td>-71.133331</td>\n",
       "      <td>English</td>\n",
       "      <td>GBR</td>\n",
       "      <td>NaN</td>\n",
       "      <td>NaN</td>\n",
       "    </tr>\n",
       "    <tr>\n",
       "      <th>196</th>\n",
       "      <td>TKL</td>\n",
       "      <td>Tokelau</td>\n",
       "      <td>0</td>\n",
       "      <td>Pacific</td>\n",
       "      <td>-9.000000</td>\n",
       "      <td>-172.000000</td>\n",
       "      <td>Tokelauan</td>\n",
       "      <td>GBR</td>\n",
       "      <td>NaN</td>\n",
       "      <td>NaN</td>\n",
       "    </tr>\n",
       "    <tr>\n",
       "      <th>213</th>\n",
       "      <td>VGB</td>\n",
       "      <td>British Virgin Islands</td>\n",
       "      <td>0</td>\n",
       "      <td>America</td>\n",
       "      <td>18.450001</td>\n",
       "      <td>-64.616669</td>\n",
       "      <td>English</td>\n",
       "      <td>GBR</td>\n",
       "      <td>NaN</td>\n",
       "      <td>NaN</td>\n",
       "    </tr>\n",
       "    <tr>\n",
       "      <th>216</th>\n",
       "      <td>WLF</td>\n",
       "      <td>Wallis and Futuna</td>\n",
       "      <td>0</td>\n",
       "      <td>Pacific</td>\n",
       "      <td>-13.300000</td>\n",
       "      <td>-176.200000</td>\n",
       "      <td>French</td>\n",
       "      <td>FRA</td>\n",
       "      <td>NaN</td>\n",
       "      <td>NaN</td>\n",
       "    </tr>\n",
       "  </tbody>\n",
       "</table>\n",
       "</div>"
      ],
      "text/plain": [
       "    iso_o                   country  landlocked continent        lat  \\\n",
       "4     AIA                  Anguilla           0   America  18.216667   \n",
       "7     ANT       Netherland Antilles           0   America  12.100000   \n",
       "23    BMU                   Bermuda           0   America  32.299999   \n",
       "33    CCK   Cocos (Keeling) Islands           0   Pacific -12.500000   \n",
       "38    COK              Cook Islands           0   Pacific -21.200001   \n",
       "44    CUB                      Cuba           0   America  23.116667   \n",
       "46    CXR          Christmas Island           0   Pacific -10.416667   \n",
       "58    ESH            Western Sahara           0    Africa  27.166666   \n",
       "64    FLK          Falkland Islands           0   America -51.700001   \n",
       "66    FRO             Faroe Islands           0    Europe  62.016666   \n",
       "72    GUF             French Guiana           0   America   4.933333   \n",
       "74    GIB                 Gibraltar           0    Europe  36.133335   \n",
       "75    GRL                 Greenland           0   America  64.183334   \n",
       "78    GLP                Guadeloupe           0   America  16.000000   \n",
       "109   CYM            Cayman Islands           0   America  19.299999   \n",
       "130   MNP  Northern Mariana Islands           0   Pacific  15.200000   \n",
       "131   MTQ                Martinique           0   America  14.600000   \n",
       "133   MSR                Montserrat           0   America  16.700001   \n",
       "142   NCL             New Caledonia           0   Pacific -22.266666   \n",
       "144   NFK            Norfolk Island           0   Pacific -29.049999   \n",
       "151   NIU                      Niue           0   Pacific -19.016666   \n",
       "156   PYF          French Polynesia           0   Pacific -17.533333   \n",
       "161   SPM   St. Pierre and Miquelon           0   America  46.666668   \n",
       "162   PCN                  Pitcairn           0   Pacific -25.066668   \n",
       "169   REU                   Reunion           0    Africa -20.866667   \n",
       "179   SHN              Saint Helena           0    Africa -15.916667   \n",
       "191   TCA  Turks and Caicos Islands           0   America  21.466667   \n",
       "196   TKL                   Tokelau           0   Pacific  -9.000000   \n",
       "213   VGB    British Virgin Islands           0   America  18.450001   \n",
       "216   WLF         Wallis and Futuna           0   Pacific -13.300000   \n",
       "\n",
       "            lon    langoff_1 colonizer1 category  development  \n",
       "4    -63.066666      English        GBR      NaN          NaN  \n",
       "7    -68.933334        Dutch        NLD      NaN          NaN  \n",
       "23   -64.800003      English        GBR      NaN          NaN  \n",
       "33    96.833336        Malay        GBR      NaN          NaN  \n",
       "38  -159.766660      English        GBR      NaN          NaN  \n",
       "44   -82.416664      Spanish        ESP      NaN          NaN  \n",
       "46   105.716670      English        GBR      NaN          NaN  \n",
       "58   -13.183333       Arabic        ESP      NaN          NaN  \n",
       "64   -57.849998      English        GBR      NaN          NaN  \n",
       "66    -6.766667      Faroese        DNK      NaN          NaN  \n",
       "72   -52.333332       French        FRA      NaN          NaN  \n",
       "74    -5.350000      English        GBR      NaN          NaN  \n",
       "75   -51.733334  Greenlandic        DNK      NaN          NaN  \n",
       "78   -61.733334       French        FRA      NaN          NaN  \n",
       "109  -81.383331      English        GBR      NaN          NaN  \n",
       "130  145.750000      English        ESP      NaN          NaN  \n",
       "131  -61.083332       French        FRA      NaN          NaN  \n",
       "133  -62.216667      English        GBR      NaN          NaN  \n",
       "142  166.450000       French        FRA      NaN          NaN  \n",
       "144  167.966660      English        NaN      NaN          NaN  \n",
       "151 -169.916670       Niuean        GBR      NaN          NaN  \n",
       "156 -149.566670       French        FRA      NaN          NaN  \n",
       "161  -56.166668       French        FRA      NaN          NaN  \n",
       "162 -130.083330      English        GBR      NaN          NaN  \n",
       "169   55.466667       French        FRA      NaN          NaN  \n",
       "179   -5.700000      English        GBR      NaN          NaN  \n",
       "191  -71.133331      English        GBR      NaN          NaN  \n",
       "196 -172.000000    Tokelauan        GBR      NaN          NaN  \n",
       "213  -64.616669      English        GBR      NaN          NaN  \n",
       "216 -176.200000       French        FRA      NaN          NaN  "
      ]
     },
     "execution_count": 86,
     "metadata": {},
     "output_type": "execute_result"
    }
   ],
   "source": [
    "nodeUnique_imf[nodeUnique_imf['category'].isna()]"
   ]
  },
  {
   "cell_type": "code",
   "execution_count": 87,
   "id": "71854fbd-e8f8-4724-b3f0-78a0cf695b1e",
   "metadata": {},
   "outputs": [],
   "source": [
    "dyad_fixed_unique.to_csv(\"../data/cleaned/dyads_fixed.csv\", encoding='utf-8', index=False)"
   ]
  },
  {
   "cell_type": "code",
   "execution_count": 88,
   "id": "37c1ef78-2d69-4f79-a77d-f4063b520c7f",
   "metadata": {},
   "outputs": [],
   "source": [
    "nodeUnique_imf.to_csv(\"../data/cleaned/nodal_fixed.csv\", encoding='utf-8', index=False)"
   ]
  },
  {
   "cell_type": "markdown",
   "id": "d0bc3767-1212-44c3-a795-392d74c455c0",
   "metadata": {},
   "source": [
    "### Merging the two datasets with time invariant factors"
   ]
  },
  {
   "cell_type": "code",
   "execution_count": 89,
   "id": "0cd43599-6550-4b3f-86be-955cdd698648",
   "metadata": {},
   "outputs": [],
   "source": [
    "fixed = dyad_fixed_unique.merge(nodeUnique_imf, on = 'iso_o')"
   ]
  },
  {
   "cell_type": "code",
   "execution_count": 90,
   "id": "ed71a079-a4cf-4d93-bd25-4d266a0b005d",
   "metadata": {},
   "outputs": [
    {
     "name": "stdout",
     "output_type": "stream",
     "text": [
      "224\n",
      "224\n"
     ]
    }
   ],
   "source": [
    "print(fixed['iso_o'].nunique())\n",
    "print(fixed['iso_d'].nunique())"
   ]
  },
  {
   "cell_type": "code",
   "execution_count": 91,
   "id": "16b53668-140b-4aa8-9beb-4710c0d91ff1",
   "metadata": {},
   "outputs": [
    {
     "data": {
      "text/plain": [
       "True"
      ]
     },
     "execution_count": 91,
     "metadata": {},
     "output_type": "execute_result"
    }
   ],
   "source": [
    "dyad_fixed_unique['iso_o'].nunique() == fixed['iso_o'].nunique() == node_unique['iso_o'].nunique()"
   ]
  },
  {
   "cell_type": "code",
   "execution_count": 92,
   "id": "8d4c0a19-8369-415b-a23b-345b43fd68f4",
   "metadata": {},
   "outputs": [
    {
     "data": {
      "text/plain": [
       "(49952, 17)"
      ]
     },
     "execution_count": 92,
     "metadata": {},
     "output_type": "execute_result"
    }
   ],
   "source": [
    "fixed.shape"
   ]
  },
  {
   "cell_type": "code",
   "execution_count": 93,
   "id": "de4c1cd0-457e-4e77-a886-18b6aec46bc4",
   "metadata": {},
   "outputs": [
    {
     "data": {
      "text/html": [
       "<div>\n",
       "<style scoped>\n",
       "    .dataframe tbody tr th:only-of-type {\n",
       "        vertical-align: middle;\n",
       "    }\n",
       "\n",
       "    .dataframe tbody tr th {\n",
       "        vertical-align: top;\n",
       "    }\n",
       "\n",
       "    .dataframe thead th {\n",
       "        text-align: right;\n",
       "    }\n",
       "</style>\n",
       "<table border=\"1\" class=\"dataframe\">\n",
       "  <thead>\n",
       "    <tr style=\"text-align: right;\">\n",
       "      <th></th>\n",
       "      <th>iso_o</th>\n",
       "      <th>iso_d</th>\n",
       "      <th>contig</th>\n",
       "      <th>comlang_off</th>\n",
       "      <th>colony</th>\n",
       "      <th>comcol</th>\n",
       "      <th>dist</th>\n",
       "      <th>log_dist</th>\n",
       "      <th>country</th>\n",
       "      <th>landlocked</th>\n",
       "      <th>continent</th>\n",
       "      <th>lat</th>\n",
       "      <th>lon</th>\n",
       "      <th>langoff_1</th>\n",
       "      <th>colonizer1</th>\n",
       "      <th>category</th>\n",
       "      <th>development</th>\n",
       "    </tr>\n",
       "  </thead>\n",
       "  <tbody>\n",
       "    <tr>\n",
       "      <th>0</th>\n",
       "      <td>ABW</td>\n",
       "      <td>AFG</td>\n",
       "      <td>0</td>\n",
       "      <td>0</td>\n",
       "      <td>0</td>\n",
       "      <td>0</td>\n",
       "      <td>13257.810</td>\n",
       "      <td>9.492342</td>\n",
       "      <td>Aruba</td>\n",
       "      <td>0</td>\n",
       "      <td>America</td>\n",
       "      <td>12.55</td>\n",
       "      <td>-70.099998</td>\n",
       "      <td>Dutch</td>\n",
       "      <td>NLD</td>\n",
       "      <td>Emerging and Developing Economies</td>\n",
       "      <td>0.0</td>\n",
       "    </tr>\n",
       "    <tr>\n",
       "      <th>1</th>\n",
       "      <td>ABW</td>\n",
       "      <td>AGO</td>\n",
       "      <td>0</td>\n",
       "      <td>0</td>\n",
       "      <td>0</td>\n",
       "      <td>0</td>\n",
       "      <td>9516.913</td>\n",
       "      <td>9.160826</td>\n",
       "      <td>Aruba</td>\n",
       "      <td>0</td>\n",
       "      <td>America</td>\n",
       "      <td>12.55</td>\n",
       "      <td>-70.099998</td>\n",
       "      <td>Dutch</td>\n",
       "      <td>NLD</td>\n",
       "      <td>Emerging and Developing Economies</td>\n",
       "      <td>0.0</td>\n",
       "    </tr>\n",
       "  </tbody>\n",
       "</table>\n",
       "</div>"
      ],
      "text/plain": [
       "  iso_o iso_d  contig  comlang_off  colony  comcol       dist  log_dist  \\\n",
       "0   ABW   AFG       0            0       0       0  13257.810  9.492342   \n",
       "1   ABW   AGO       0            0       0       0   9516.913  9.160826   \n",
       "\n",
       "  country  landlocked continent    lat        lon langoff_1 colonizer1  \\\n",
       "0   Aruba           0   America  12.55 -70.099998     Dutch        NLD   \n",
       "1   Aruba           0   America  12.55 -70.099998     Dutch        NLD   \n",
       "\n",
       "                            category  development  \n",
       "0  Emerging and Developing Economies          0.0  \n",
       "1  Emerging and Developing Economies          0.0  "
      ]
     },
     "execution_count": 93,
     "metadata": {},
     "output_type": "execute_result"
    }
   ],
   "source": [
    "fixed.head(2)"
   ]
  },
  {
   "cell_type": "code",
   "execution_count": 94,
   "id": "6a757634-18e9-4179-a0f6-25a25a2a072a",
   "metadata": {},
   "outputs": [],
   "source": [
    "# This dataset of time invariant variables will be used both in forming networks and in the gravity model estimation\n",
    "fixed.to_csv(\"../data/cleaned/fixed.csv\", encoding='utf-8', index=False)"
   ]
  },
  {
   "cell_type": "code",
   "execution_count": null,
   "id": "1e459947-513e-48ac-aee5-26d83c86ed9b",
   "metadata": {},
   "outputs": [],
   "source": []
  }
 ],
 "metadata": {
  "kernelspec": {
   "display_name": "Python 3 (ipykernel)",
   "language": "python",
   "name": "python3"
  },
  "language_info": {
   "codemirror_mode": {
    "name": "ipython",
    "version": 3
   },
   "file_extension": ".py",
   "mimetype": "text/x-python",
   "name": "python",
   "nbconvert_exporter": "python",
   "pygments_lexer": "ipython3",
   "version": "3.12.7"
  }
 },
 "nbformat": 4,
 "nbformat_minor": 5
}
