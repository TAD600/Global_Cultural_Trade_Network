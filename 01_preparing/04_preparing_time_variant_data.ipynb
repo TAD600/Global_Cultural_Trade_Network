{
 "cells": [
  {
   "cell_type": "code",
   "execution_count": 232,
   "id": "5985c399-7729-48aa-8246-8ca0077518e2",
   "metadata": {},
   "outputs": [],
   "source": [
    "import pandas as pd\n",
    "import numpy as np"
   ]
  },
  {
   "cell_type": "markdown",
   "id": "66b18a44-5a10-48a5-abae-4fada484dd9d",
   "metadata": {},
   "source": [
    "*Time variant indicators are downloaded from WDI for each period. I extracted the zip files with raw data in the 'raw' subfolder of the 'data' folder. Without changing the names of the raw data file, I just added the `year name` at the tail of the original name extracted from WDI, so that I can keep track. Example: `dc261827-d380-414a-b6ff-55a77579a878_Data.csv` was the name for the data for 2000. I changed the name like `dc261827-d380-414a-b6ff-55a77579a878_Data2000.csv`.*\n",
    "\n",
    "**Preparing the time variant data takes the following steps:**\n",
    ">1. Reading the raw data file for a single year.\n",
    ">2. Pruning the unnecessary rows with formulas from the tail of the data\n",
    ">3. Renaming the columns\n",
    ">4. Replacing the '..' values with NaN\n",
    ">5. Converting all columns to numeric from object type except the 'iso_o' and 'country'\n",
    ">6. Finding the mean GDP of that year and imputing that to missing rows\n",
    ">7. Creating a column with log transformed GDP value of that year\n",
    ">8. Finding the common countries those are present in the trade data and also in this time variant data\n",
    ">9. Only keeping the common countries for each year.\n",
    ">10. Saving the cleaned data as a csv file named like `attributeYEAR.csv`\n",
    ">11. Doing the above steps for every year from 2000 to 2023, having saved 24 attribute files in the cleaned folder\n",
    ">12. Finally concatenating all the dataframes on columns and sorting those with country and year for gravity analysis\n",
    ">13. Saving the concataned data as `attribute2000_2023.csv` in the cleaned folder"
   ]
  },
  {
   "cell_type": "code",
   "execution_count": 233,
   "id": "60bc6b64-2d99-41dc-836c-db5a0df01b59",
   "metadata": {},
   "outputs": [],
   "source": [
    "at1999 = pd.read_csv('../data/raw/416d66fa-850c-4c72-a6d8-52d9fecefe55_Data.csv')"
   ]
  },
  {
   "cell_type": "code",
   "execution_count": 234,
   "id": "f5c69c9a-a771-48c1-b85b-45603ecab8ed",
   "metadata": {},
   "outputs": [],
   "source": [
    "at1999_pruned = at1999.iloc[:265, :]"
   ]
  },
  {
   "cell_type": "code",
   "execution_count": 235,
   "id": "4c96db0e-5af7-4369-a6d9-ef2cc891a806",
   "metadata": {},
   "outputs": [],
   "source": [
    "#at1999.tail(8)"
   ]
  },
  {
   "cell_type": "code",
   "execution_count": 236,
   "id": "443a0f5c-e47d-491d-862b-ac3bc533d65e",
   "metadata": {},
   "outputs": [],
   "source": [
    "at1999_pruned = at1999_pruned.rename(columns = {'Country Code': 'iso_o'})\n",
    "at1999_pruned = at1999_pruned.rename(columns = {'Country Name': 'Country'})\n",
    "at1999_pruned = at1999_pruned.rename(columns = {'GDP (current US$) [NY.GDP.MKTP.CD]': 'GDP'})\n",
    "at1999_pruned = at1999_pruned.rename(columns = {'GDP per capita (current US$) [NY.GDP.PCAP.CD]': 'GDP_pct'})\n",
    "at1999_pruned = at1999_pruned.rename(columns = {'Population, total [SP.POP.TOTL]': 'population'})\n",
    "at1999_pruned = at1999_pruned.rename(columns = {'Trade (% of GDP) [NE.TRD.GNFS.ZS]': 'trade_gdp_ratio'})"
   ]
  },
  {
   "cell_type": "code",
   "execution_count": 237,
   "id": "e2adb921-964d-4e6a-bb1d-6ab21a8486eb",
   "metadata": {},
   "outputs": [],
   "source": [
    "at1999_ordered = at1999_pruned[['iso_o', 'Country', 'Time', 'GDP', 'GDP_pct', 'population', 'trade_gdp_ratio']]"
   ]
  },
  {
   "cell_type": "code",
   "execution_count": 238,
   "id": "193ac56e-1208-4d4b-8c95-7c3ca2ad9161",
   "metadata": {},
   "outputs": [
    {
     "name": "stderr",
     "output_type": "stream",
     "text": [
      "C:\\Users\\Lenovo\\AppData\\Local\\Temp\\ipykernel_39028\\85685167.py:2: SettingWithCopyWarning: \n",
      "A value is trying to be set on a copy of a slice from a DataFrame.\n",
      "Try using .loc[row_indexer,col_indexer] = value instead\n",
      "\n",
      "See the caveats in the documentation: https://pandas.pydata.org/pandas-docs/stable/user_guide/indexing.html#returning-a-view-versus-a-copy\n",
      "  at1999_ordered[column] = at1999_ordered[column].replace('..', np.nan)\n",
      "C:\\Users\\Lenovo\\AppData\\Local\\Temp\\ipykernel_39028\\85685167.py:3: SettingWithCopyWarning: \n",
      "A value is trying to be set on a copy of a slice from a DataFrame.\n",
      "Try using .loc[row_indexer,col_indexer] = value instead\n",
      "\n",
      "See the caveats in the documentation: https://pandas.pydata.org/pandas-docs/stable/user_guide/indexing.html#returning-a-view-versus-a-copy\n",
      "  at1999_ordered[column] = at1999_ordered[column].apply(lambda x: pd.to_numeric(x, errors='coerce')).round(2)\n"
     ]
    }
   ],
   "source": [
    "column = ['GDP', 'GDP_pct', 'population', 'trade_gdp_ratio']\n",
    "at1999_ordered[column] = at1999_ordered[column].replace('..', np.nan)\n",
    "at1999_ordered[column] = at1999_ordered[column].apply(lambda x: pd.to_numeric(x, errors='coerce')).round(2)"
   ]
  },
  {
   "cell_type": "code",
   "execution_count": 239,
   "id": "303093cc-a736-4c2f-9c22-93a436ef8f9b",
   "metadata": {},
   "outputs": [
    {
     "name": "stderr",
     "output_type": "stream",
     "text": [
      "C:\\Users\\Lenovo\\AppData\\Local\\Temp\\ipykernel_39028\\1007203617.py:3: SettingWithCopyWarning: \n",
      "A value is trying to be set on a copy of a slice from a DataFrame.\n",
      "Try using .loc[row_indexer,col_indexer] = value instead\n",
      "\n",
      "See the caveats in the documentation: https://pandas.pydata.org/pandas-docs/stable/user_guide/indexing.html#returning-a-view-versus-a-copy\n",
      "  at1999_ordered['GDP'] = at1999_ordered['GDP'].fillna(mean_gdp_1999)\n"
     ]
    }
   ],
   "source": [
    "#GDP\n",
    "mean_gdp_1999 = at1999_ordered['GDP'].mean()\n",
    "at1999_ordered['GDP'] = at1999_ordered['GDP'].fillna(mean_gdp_1999)\n",
    "at1999_ordered['log_GDP'] = np.log(at1999_ordered['GDP'])\n",
    "at1999_ordered['log_trade_gdp_ratio'] = np.log(at1999_ordered['trade_gdp_ratio'])"
   ]
  },
  {
   "cell_type": "code",
   "execution_count": 240,
   "id": "8a3d8ead-72b0-4146-b203-5b52448fcdd6",
   "metadata": {},
   "outputs": [],
   "source": [
    "total_trade= pd.read_csv(\"../data/cleaned/total_edgelist.csv\")"
   ]
  },
  {
   "cell_type": "code",
   "execution_count": 241,
   "id": "0695f87e-7a90-4726-9dff-9c165ca70c62",
   "metadata": {},
   "outputs": [
    {
     "name": "stdout",
     "output_type": "stream",
     "text": [
      "190\n",
      "{'MSR', 'TWN'}\n"
     ]
    }
   ],
   "source": [
    "m = set(at1999_ordered['iso_o'].unique()) & set(total_trade['iso_o'].unique())\n",
    "print(len(m))\n",
    "print(set(total_trade['iso_o'].unique()) - set(at1999_ordered['iso_o'].unique()))"
   ]
  },
  {
   "cell_type": "code",
   "execution_count": 242,
   "id": "13c5a21f-2041-4db7-bb86-7190eee34d4e",
   "metadata": {},
   "outputs": [],
   "source": [
    "at1999_ordered = at1999_ordered[at1999_ordered['iso_o'].isin(m)]\n",
    "at1999_ordered = at1999_ordered.reset_index(drop = True)"
   ]
  },
  {
   "cell_type": "code",
   "execution_count": 243,
   "id": "7c4a2e5d-f9d1-4810-9e69-dd4e23c390b5",
   "metadata": {},
   "outputs": [
    {
     "data": {
      "text/plain": [
       "(190, 9)"
      ]
     },
     "execution_count": 243,
     "metadata": {},
     "output_type": "execute_result"
    }
   ],
   "source": [
    "at1999_ordered.shape"
   ]
  },
  {
   "cell_type": "markdown",
   "id": "958b32b1-e15e-4446-810d-f271b1c5d2fc",
   "metadata": {},
   "source": [
    "### 2000"
   ]
  },
  {
   "cell_type": "code",
   "execution_count": 244,
   "id": "05599b3a-cbe9-4207-8410-9cdce44b1504",
   "metadata": {},
   "outputs": [],
   "source": [
    "at2000 = pd.read_csv('../data/raw/b8d427fb-dca4-47c0-b026-c7016418b6ed_Data.csv')"
   ]
  },
  {
   "cell_type": "code",
   "execution_count": 245,
   "id": "ecf744d0-c041-4820-9394-2f12c7021de2",
   "metadata": {},
   "outputs": [],
   "source": [
    "#at2000.tail()"
   ]
  },
  {
   "cell_type": "code",
   "execution_count": 246,
   "id": "cfa8debb-e2b7-4d80-9fa2-779ffc480d5c",
   "metadata": {},
   "outputs": [
    {
     "data": {
      "text/plain": [
       "(271, 8)"
      ]
     },
     "execution_count": 246,
     "metadata": {},
     "output_type": "execute_result"
    }
   ],
   "source": [
    "at2000.shape"
   ]
  },
  {
   "cell_type": "code",
   "execution_count": 247,
   "id": "0bbb447c-a636-439c-921e-e0a1cdb507e7",
   "metadata": {},
   "outputs": [],
   "source": [
    "at2000_pruned = at2000.iloc[:265, :]"
   ]
  },
  {
   "cell_type": "code",
   "execution_count": 248,
   "id": "a03935a7-abda-41e5-a187-98fa9c8c2fde",
   "metadata": {},
   "outputs": [
    {
     "data": {
      "text/html": [
       "<div>\n",
       "<style scoped>\n",
       "    .dataframe tbody tr th:only-of-type {\n",
       "        vertical-align: middle;\n",
       "    }\n",
       "\n",
       "    .dataframe tbody tr th {\n",
       "        vertical-align: top;\n",
       "    }\n",
       "\n",
       "    .dataframe thead th {\n",
       "        text-align: right;\n",
       "    }\n",
       "</style>\n",
       "<table border=\"1\" class=\"dataframe\">\n",
       "  <thead>\n",
       "    <tr style=\"text-align: right;\">\n",
       "      <th></th>\n",
       "      <th>Time</th>\n",
       "      <th>Time Code</th>\n",
       "      <th>Country Name</th>\n",
       "      <th>Country Code</th>\n",
       "      <th>GDP (current US$) [NY.GDP.MKTP.CD]</th>\n",
       "      <th>GDP per capita (current US$) [NY.GDP.PCAP.CD]</th>\n",
       "      <th>Population, total [SP.POP.TOTL]</th>\n",
       "      <th>Trade (% of GDP) [NE.TRD.GNFS.ZS]</th>\n",
       "    </tr>\n",
       "  </thead>\n",
       "  <tbody>\n",
       "    <tr>\n",
       "      <th>260</th>\n",
       "      <td>2000</td>\n",
       "      <td>YR2000</td>\n",
       "      <td>South Asia (IDA &amp; IBRD)</td>\n",
       "      <td>TSA</td>\n",
       "      <td>544675445924.648</td>\n",
       "      <td>440.253667577913</td>\n",
       "      <td>1237185482</td>\n",
       "      <td>29.4521345638678</td>\n",
       "    </tr>\n",
       "    <tr>\n",
       "      <th>261</th>\n",
       "      <td>2000</td>\n",
       "      <td>YR2000</td>\n",
       "      <td>Sub-Saharan Africa</td>\n",
       "      <td>SSF</td>\n",
       "      <td>428318893884.446</td>\n",
       "      <td>628.840266615581</td>\n",
       "      <td>681125107</td>\n",
       "      <td>..</td>\n",
       "    </tr>\n",
       "    <tr>\n",
       "      <th>262</th>\n",
       "      <td>2000</td>\n",
       "      <td>YR2000</td>\n",
       "      <td>Sub-Saharan Africa (excluding high income)</td>\n",
       "      <td>SSA</td>\n",
       "      <td>419427320519.798</td>\n",
       "      <td>683.515512661206</td>\n",
       "      <td>613632482</td>\n",
       "      <td>..</td>\n",
       "    </tr>\n",
       "    <tr>\n",
       "      <th>263</th>\n",
       "      <td>2000</td>\n",
       "      <td>YR2000</td>\n",
       "      <td>Sub-Saharan Africa (IDA &amp; IBRD countries)</td>\n",
       "      <td>TSS</td>\n",
       "      <td>428318893884.446</td>\n",
       "      <td>628.840266615582</td>\n",
       "      <td>681125107</td>\n",
       "      <td>..</td>\n",
       "    </tr>\n",
       "    <tr>\n",
       "      <th>264</th>\n",
       "      <td>2000</td>\n",
       "      <td>YR2000</td>\n",
       "      <td>Upper middle income</td>\n",
       "      <td>UMC</td>\n",
       "      <td>4367159322540.17</td>\n",
       "      <td>1846.56159645163</td>\n",
       "      <td>2365022283</td>\n",
       "      <td>47.2296254050292</td>\n",
       "    </tr>\n",
       "  </tbody>\n",
       "</table>\n",
       "</div>"
      ],
      "text/plain": [
       "     Time Time Code                                Country Name Country Code  \\\n",
       "260  2000    YR2000                     South Asia (IDA & IBRD)          TSA   \n",
       "261  2000    YR2000                          Sub-Saharan Africa          SSF   \n",
       "262  2000    YR2000  Sub-Saharan Africa (excluding high income)          SSA   \n",
       "263  2000    YR2000   Sub-Saharan Africa (IDA & IBRD countries)          TSS   \n",
       "264  2000    YR2000                         Upper middle income          UMC   \n",
       "\n",
       "    GDP (current US$) [NY.GDP.MKTP.CD]  \\\n",
       "260                   544675445924.648   \n",
       "261                   428318893884.446   \n",
       "262                   419427320519.798   \n",
       "263                   428318893884.446   \n",
       "264                   4367159322540.17   \n",
       "\n",
       "    GDP per capita (current US$) [NY.GDP.PCAP.CD]  \\\n",
       "260                              440.253667577913   \n",
       "261                              628.840266615581   \n",
       "262                              683.515512661206   \n",
       "263                              628.840266615582   \n",
       "264                              1846.56159645163   \n",
       "\n",
       "    Population, total [SP.POP.TOTL] Trade (% of GDP) [NE.TRD.GNFS.ZS]  \n",
       "260                      1237185482                  29.4521345638678  \n",
       "261                       681125107                                ..  \n",
       "262                       613632482                                ..  \n",
       "263                       681125107                                ..  \n",
       "264                      2365022283                  47.2296254050292  "
      ]
     },
     "execution_count": 248,
     "metadata": {},
     "output_type": "execute_result"
    }
   ],
   "source": [
    "at2000_pruned.tail()"
   ]
  },
  {
   "cell_type": "code",
   "execution_count": 249,
   "id": "54e7aeb3-3cf7-406d-9a62-a33d2f76b136",
   "metadata": {},
   "outputs": [],
   "source": [
    "at2000_pruned = at2000_pruned.rename(columns = {'Country Code': 'iso_o'})\n",
    "at2000_pruned = at2000_pruned.rename(columns = {'Country Name': 'Country'})\n",
    "at2000_pruned = at2000_pruned.rename(columns = {'GDP (current US$) [NY.GDP.MKTP.CD]': 'GDP'})\n",
    "at2000_pruned = at2000_pruned.rename(columns = {'GDP per capita (current US$) [NY.GDP.PCAP.CD]': 'GDP_pct'})\n",
    "at2000_pruned = at2000_pruned.rename(columns = {'Population, total [SP.POP.TOTL]': 'population'})\n",
    "at2000_pruned = at2000_pruned.rename(columns = {'Trade (% of GDP) [NE.TRD.GNFS.ZS]': 'trade_gdp_ratio'})"
   ]
  },
  {
   "cell_type": "code",
   "execution_count": 250,
   "id": "fdb82e60-cee6-4a03-b85b-049531530714",
   "metadata": {},
   "outputs": [],
   "source": [
    "#at2000_pruned.rename(columns={\"Educational attainment, at least Bachelor's or equivalent, population 25+, total (%) (cumulative) [SE.TER.CUAT.BA.ZS]\": \"tertiary_edu\"\n",
    "#}, inplace=True)"
   ]
  },
  {
   "cell_type": "code",
   "execution_count": 251,
   "id": "553fbc80-e0d5-4bb5-9df8-42cad253ca7d",
   "metadata": {},
   "outputs": [],
   "source": [
    "at2000_ordered = at2000_pruned[['iso_o', 'Country', 'Time', 'GDP', 'GDP_pct', 'population', 'trade_gdp_ratio']]"
   ]
  },
  {
   "cell_type": "code",
   "execution_count": 252,
   "id": "c5428e3c-7de0-40aa-99d6-4b9c4279109c",
   "metadata": {},
   "outputs": [
    {
     "name": "stderr",
     "output_type": "stream",
     "text": [
      "C:\\Users\\Lenovo\\AppData\\Local\\Temp\\ipykernel_39028\\2151658368.py:2: SettingWithCopyWarning: \n",
      "A value is trying to be set on a copy of a slice from a DataFrame.\n",
      "Try using .loc[row_indexer,col_indexer] = value instead\n",
      "\n",
      "See the caveats in the documentation: https://pandas.pydata.org/pandas-docs/stable/user_guide/indexing.html#returning-a-view-versus-a-copy\n",
      "  at2000_ordered[column] = at2000_ordered[column].replace('..', np.nan)\n",
      "C:\\Users\\Lenovo\\AppData\\Local\\Temp\\ipykernel_39028\\2151658368.py:3: SettingWithCopyWarning: \n",
      "A value is trying to be set on a copy of a slice from a DataFrame.\n",
      "Try using .loc[row_indexer,col_indexer] = value instead\n",
      "\n",
      "See the caveats in the documentation: https://pandas.pydata.org/pandas-docs/stable/user_guide/indexing.html#returning-a-view-versus-a-copy\n",
      "  at2000_ordered[column] = at2000_ordered[column].apply(lambda x: pd.to_numeric(x, errors='coerce')).round(2)\n"
     ]
    }
   ],
   "source": [
    "column = ['GDP', 'GDP_pct', 'population', 'trade_gdp_ratio']\n",
    "at2000_ordered[column] = at2000_ordered[column].replace('..', np.nan)\n",
    "at2000_ordered[column] = at2000_ordered[column].apply(lambda x: pd.to_numeric(x, errors='coerce')).round(2)"
   ]
  },
  {
   "cell_type": "code",
   "execution_count": 253,
   "id": "28fc86c2-a2b6-45b1-8679-ded6cf554004",
   "metadata": {},
   "outputs": [],
   "source": [
    "missing = at2000_ordered.isna().sum() # no missing in population "
   ]
  },
  {
   "cell_type": "code",
   "execution_count": 254,
   "id": "76ad7181-8f1c-4546-89aa-120b87c52483",
   "metadata": {},
   "outputs": [
    {
     "data": {
      "text/plain": [
       "iso_o               0\n",
       "Country             0\n",
       "Time                0\n",
       "GDP                14\n",
       "GDP_pct            14\n",
       "population          1\n",
       "trade_gdp_ratio    60\n",
       "dtype: int64"
      ]
     },
     "execution_count": 254,
     "metadata": {},
     "output_type": "execute_result"
    }
   ],
   "source": [
    "missing"
   ]
  },
  {
   "cell_type": "code",
   "execution_count": 255,
   "id": "810a3520-41e1-4c4a-834c-51e3915063cd",
   "metadata": {},
   "outputs": [
    {
     "name": "stderr",
     "output_type": "stream",
     "text": [
      "C:\\Users\\Lenovo\\AppData\\Local\\Temp\\ipykernel_39028\\4023917769.py:3: SettingWithCopyWarning: \n",
      "A value is trying to be set on a copy of a slice from a DataFrame.\n",
      "Try using .loc[row_indexer,col_indexer] = value instead\n",
      "\n",
      "See the caveats in the documentation: https://pandas.pydata.org/pandas-docs/stable/user_guide/indexing.html#returning-a-view-versus-a-copy\n",
      "  at2000_ordered['GDP'] = at2000_ordered['GDP'].fillna(mean_gdp_2000)\n"
     ]
    }
   ],
   "source": [
    "#GDP\n",
    "mean_gdp_2000 = at2000_ordered['GDP'].mean()\n",
    "at2000_ordered['GDP'] = at2000_ordered['GDP'].fillna(mean_gdp_2000)\n",
    "at2000_ordered['log_GDP'] = np.log(at2000_ordered['GDP'])\n",
    "at2000_ordered['log_trade_gdp_ratio'] = np.log(at2000_ordered['trade_gdp_ratio'])"
   ]
  },
  {
   "cell_type": "code",
   "execution_count": 256,
   "id": "d2363ebc-5f03-4b88-9742-3bf282a2503a",
   "metadata": {},
   "outputs": [],
   "source": [
    "total_trade= pd.read_csv(\"../data/cleaned/total_edgelist.csv\")"
   ]
  },
  {
   "cell_type": "code",
   "execution_count": 257,
   "id": "1060c555-7e51-487c-a696-d5800771962d",
   "metadata": {},
   "outputs": [
    {
     "name": "stdout",
     "output_type": "stream",
     "text": [
      "190\n",
      "{'MSR', 'TWN'}\n"
     ]
    }
   ],
   "source": [
    "m = set(at2000_ordered['iso_o'].unique()) & set(total_trade['iso_o'].unique())\n",
    "print(len(m))\n",
    "print(set(total_trade['iso_o'].unique()) - set(at2000_ordered['iso_o'].unique()))"
   ]
  },
  {
   "cell_type": "code",
   "execution_count": 258,
   "id": "61e9b5a8-67c2-4536-a6cd-830cba8c31ab",
   "metadata": {},
   "outputs": [],
   "source": [
    "at2000_ordered = at2000_ordered[at2000_ordered['iso_o'].isin(m)]\n",
    "at2000_ordered = at2000_ordered.reset_index(drop = True)"
   ]
  },
  {
   "cell_type": "code",
   "execution_count": 259,
   "id": "4349f60f-5a44-487d-938e-dc3a2b86deb8",
   "metadata": {},
   "outputs": [
    {
     "data": {
      "text/plain": [
       "(190, 9)"
      ]
     },
     "execution_count": 259,
     "metadata": {},
     "output_type": "execute_result"
    }
   ],
   "source": [
    "at2000_ordered.shape"
   ]
  },
  {
   "cell_type": "markdown",
   "id": "6ef2ea26-5be3-4601-8d9e-23fba6f9fd45",
   "metadata": {},
   "source": [
    "### 2001"
   ]
  },
  {
   "cell_type": "code",
   "execution_count": 260,
   "id": "95c8f34d-84e1-48a3-993e-4c0e8ed6bf72",
   "metadata": {},
   "outputs": [],
   "source": [
    "at2001 = pd.read_csv('../data/raw/04b35699-249a-4d66-97a8-bab79c305702_Data.csv')"
   ]
  },
  {
   "cell_type": "code",
   "execution_count": 261,
   "id": "98b6d49e-eba0-4fa1-9050-524865dc00b6",
   "metadata": {},
   "outputs": [],
   "source": [
    "at2001_pruned = at2001.iloc[:265, :]"
   ]
  },
  {
   "cell_type": "code",
   "execution_count": 262,
   "id": "63f9c659-8125-4742-bf9c-ff3123538481",
   "metadata": {},
   "outputs": [
    {
     "data": {
      "text/html": [
       "<div>\n",
       "<style scoped>\n",
       "    .dataframe tbody tr th:only-of-type {\n",
       "        vertical-align: middle;\n",
       "    }\n",
       "\n",
       "    .dataframe tbody tr th {\n",
       "        vertical-align: top;\n",
       "    }\n",
       "\n",
       "    .dataframe thead th {\n",
       "        text-align: right;\n",
       "    }\n",
       "</style>\n",
       "<table border=\"1\" class=\"dataframe\">\n",
       "  <thead>\n",
       "    <tr style=\"text-align: right;\">\n",
       "      <th></th>\n",
       "      <th>Time</th>\n",
       "      <th>Time Code</th>\n",
       "      <th>Country Name</th>\n",
       "      <th>Country Code</th>\n",
       "      <th>GDP (current US$) [NY.GDP.MKTP.CD]</th>\n",
       "      <th>GDP per capita (current US$) [NY.GDP.PCAP.CD]</th>\n",
       "      <th>Trade (% of GDP) [NE.TRD.GNFS.ZS]</th>\n",
       "      <th>Population, total [SP.POP.TOTL]</th>\n",
       "    </tr>\n",
       "  </thead>\n",
       "  <tbody>\n",
       "    <tr>\n",
       "      <th>260</th>\n",
       "      <td>2001</td>\n",
       "      <td>YR2001</td>\n",
       "      <td>South Asia (IDA &amp; IBRD)</td>\n",
       "      <td>TSA</td>\n",
       "      <td>562554379798.02</td>\n",
       "      <td>446.418919348871</td>\n",
       "      <td>28.6226894432911</td>\n",
       "      <td>1260149056</td>\n",
       "    </tr>\n",
       "    <tr>\n",
       "      <th>261</th>\n",
       "      <td>2001</td>\n",
       "      <td>YR2001</td>\n",
       "      <td>Sub-Saharan Africa</td>\n",
       "      <td>SSF</td>\n",
       "      <td>410360395732.846</td>\n",
       "      <td>586.573887183773</td>\n",
       "      <td>..</td>\n",
       "      <td>699588585</td>\n",
       "    </tr>\n",
       "    <tr>\n",
       "      <th>262</th>\n",
       "      <td>2001</td>\n",
       "      <td>YR2001</td>\n",
       "      <td>Sub-Saharan Africa (excluding high income)</td>\n",
       "      <td>SSA</td>\n",
       "      <td>401467455254.855</td>\n",
       "      <td>637.230082799048</td>\n",
       "      <td>..</td>\n",
       "      <td>630019621</td>\n",
       "    </tr>\n",
       "    <tr>\n",
       "      <th>263</th>\n",
       "      <td>2001</td>\n",
       "      <td>YR2001</td>\n",
       "      <td>Sub-Saharan Africa (IDA &amp; IBRD countries)</td>\n",
       "      <td>TSS</td>\n",
       "      <td>410360395732.846</td>\n",
       "      <td>586.573887183773</td>\n",
       "      <td>..</td>\n",
       "      <td>699588585</td>\n",
       "    </tr>\n",
       "    <tr>\n",
       "      <th>264</th>\n",
       "      <td>2001</td>\n",
       "      <td>YR2001</td>\n",
       "      <td>Upper middle income</td>\n",
       "      <td>UMC</td>\n",
       "      <td>4372018919642.63</td>\n",
       "      <td>1830.976201913</td>\n",
       "      <td>46.5419864976265</td>\n",
       "      <td>2387807616</td>\n",
       "    </tr>\n",
       "  </tbody>\n",
       "</table>\n",
       "</div>"
      ],
      "text/plain": [
       "     Time Time Code                                Country Name Country Code  \\\n",
       "260  2001    YR2001                     South Asia (IDA & IBRD)          TSA   \n",
       "261  2001    YR2001                          Sub-Saharan Africa          SSF   \n",
       "262  2001    YR2001  Sub-Saharan Africa (excluding high income)          SSA   \n",
       "263  2001    YR2001   Sub-Saharan Africa (IDA & IBRD countries)          TSS   \n",
       "264  2001    YR2001                         Upper middle income          UMC   \n",
       "\n",
       "    GDP (current US$) [NY.GDP.MKTP.CD]  \\\n",
       "260                    562554379798.02   \n",
       "261                   410360395732.846   \n",
       "262                   401467455254.855   \n",
       "263                   410360395732.846   \n",
       "264                   4372018919642.63   \n",
       "\n",
       "    GDP per capita (current US$) [NY.GDP.PCAP.CD]  \\\n",
       "260                              446.418919348871   \n",
       "261                              586.573887183773   \n",
       "262                              637.230082799048   \n",
       "263                              586.573887183773   \n",
       "264                                1830.976201913   \n",
       "\n",
       "    Trade (% of GDP) [NE.TRD.GNFS.ZS] Population, total [SP.POP.TOTL]  \n",
       "260                  28.6226894432911                      1260149056  \n",
       "261                                ..                       699588585  \n",
       "262                                ..                       630019621  \n",
       "263                                ..                       699588585  \n",
       "264                  46.5419864976265                      2387807616  "
      ]
     },
     "execution_count": 262,
     "metadata": {},
     "output_type": "execute_result"
    }
   ],
   "source": [
    "at2001_pruned.tail()"
   ]
  },
  {
   "cell_type": "code",
   "execution_count": 263,
   "id": "728b59cb-4904-4312-873f-2b3d6f0d928d",
   "metadata": {},
   "outputs": [],
   "source": [
    "at2001_pruned = at2001_pruned.rename(columns = {'Country Code': 'iso_o'})\n",
    "at2001_pruned = at2001_pruned.rename(columns = {'Country Name': 'Country'})\n",
    "at2001_pruned = at2001_pruned.rename(columns = {'GDP (current US$) [NY.GDP.MKTP.CD]': 'GDP'})\n",
    "at2001_pruned = at2001_pruned.rename(columns = {'GDP per capita (current US$) [NY.GDP.PCAP.CD]': 'GDP_pct'})\n",
    "at2001_pruned = at2001_pruned.rename(columns = {'Population, total [SP.POP.TOTL]': 'population'})\n",
    "at2001_pruned = at2001_pruned.rename(columns = {'Trade (% of GDP) [NE.TRD.GNFS.ZS]': 'trade_gdp_ratio'})"
   ]
  },
  {
   "cell_type": "code",
   "execution_count": 264,
   "id": "b92a3990-d9eb-42db-a6ea-7448bc2170b0",
   "metadata": {},
   "outputs": [],
   "source": [
    "at2001_ordered = at2001_pruned[['iso_o', 'Country', 'Time', 'GDP', 'GDP_pct', 'population', 'trade_gdp_ratio']]"
   ]
  },
  {
   "cell_type": "code",
   "execution_count": 265,
   "id": "0674d1da-51e0-40c8-b3ac-4a5a6c2ff8e3",
   "metadata": {},
   "outputs": [
    {
     "name": "stderr",
     "output_type": "stream",
     "text": [
      "C:\\Users\\Lenovo\\AppData\\Local\\Temp\\ipykernel_39028\\859522005.py:2: SettingWithCopyWarning: \n",
      "A value is trying to be set on a copy of a slice from a DataFrame.\n",
      "Try using .loc[row_indexer,col_indexer] = value instead\n",
      "\n",
      "See the caveats in the documentation: https://pandas.pydata.org/pandas-docs/stable/user_guide/indexing.html#returning-a-view-versus-a-copy\n",
      "  at2001_ordered[column] = at2001_ordered[column].replace('..', np.nan)\n",
      "C:\\Users\\Lenovo\\AppData\\Local\\Temp\\ipykernel_39028\\859522005.py:3: SettingWithCopyWarning: \n",
      "A value is trying to be set on a copy of a slice from a DataFrame.\n",
      "Try using .loc[row_indexer,col_indexer] = value instead\n",
      "\n",
      "See the caveats in the documentation: https://pandas.pydata.org/pandas-docs/stable/user_guide/indexing.html#returning-a-view-versus-a-copy\n",
      "  at2001_ordered[column] = at2001_ordered[column].apply(lambda x: pd.to_numeric(x, errors='coerce')).round(2)\n",
      "C:\\Users\\Lenovo\\AppData\\Local\\Temp\\ipykernel_39028\\859522005.py:6: SettingWithCopyWarning: \n",
      "A value is trying to be set on a copy of a slice from a DataFrame.\n",
      "Try using .loc[row_indexer,col_indexer] = value instead\n",
      "\n",
      "See the caveats in the documentation: https://pandas.pydata.org/pandas-docs/stable/user_guide/indexing.html#returning-a-view-versus-a-copy\n",
      "  at2001_ordered['GDP'] = at2001_ordered['GDP'].fillna(mean_gdp_2001)\n"
     ]
    }
   ],
   "source": [
    "column = ['GDP', 'GDP_pct', 'population', 'trade_gdp_ratio']\n",
    "at2001_ordered[column] = at2001_ordered[column].replace('..', np.nan)\n",
    "at2001_ordered[column] = at2001_ordered[column].apply(lambda x: pd.to_numeric(x, errors='coerce')).round(2)\n",
    "\n",
    "mean_gdp_2001 = at2001_ordered['GDP'].mean()\n",
    "at2001_ordered['GDP'] = at2001_ordered['GDP'].fillna(mean_gdp_2001)\n",
    "at2001_ordered['log_GDP'] = np.log(at2001_ordered['GDP'])\n",
    "at2001_ordered['log_trade_gdp_ratio'] = np.log(at2001_ordered['trade_gdp_ratio'])"
   ]
  },
  {
   "cell_type": "code",
   "execution_count": 266,
   "id": "26eae4c1-e2c3-45a5-b78b-9457fe305480",
   "metadata": {},
   "outputs": [
    {
     "data": {
      "text/plain": [
       "iso_o                   0\n",
       "Country                 0\n",
       "Time                    0\n",
       "GDP                     0\n",
       "GDP_pct                13\n",
       "population              1\n",
       "trade_gdp_ratio        60\n",
       "log_GDP                 0\n",
       "log_trade_gdp_ratio    60\n",
       "dtype: int64"
      ]
     },
     "execution_count": 266,
     "metadata": {},
     "output_type": "execute_result"
    }
   ],
   "source": [
    "missing1 = at2001_ordered.isna().sum()\n",
    "missing1"
   ]
  },
  {
   "cell_type": "code",
   "execution_count": 267,
   "id": "021c6b84-1478-41e7-94a1-f751c51919fe",
   "metadata": {},
   "outputs": [
    {
     "name": "stdout",
     "output_type": "stream",
     "text": [
      "190\n",
      "{'MSR', 'TWN'}\n"
     ]
    }
   ],
   "source": [
    "n = set(at2001_ordered['iso_o'].unique()) & set(total_trade['iso_o'].unique())\n",
    "print(len(n))\n",
    "print(set(total_trade['iso_o'].unique()) - set(at2001_ordered['iso_o'].unique()))"
   ]
  },
  {
   "cell_type": "code",
   "execution_count": 268,
   "id": "60aa01f2-dadb-41a0-bf02-6f1438594291",
   "metadata": {},
   "outputs": [],
   "source": [
    "at2001_ordered = at2001_ordered[at2001_ordered['iso_o'].isin(n)]\n",
    "at2001_ordered = at2001_ordered.reset_index(drop = True)"
   ]
  },
  {
   "cell_type": "code",
   "execution_count": 269,
   "id": "c5b294d3-c5a0-4ca9-a06e-bc08220bcea0",
   "metadata": {},
   "outputs": [
    {
     "data": {
      "text/plain": [
       "(190, 9)"
      ]
     },
     "execution_count": 269,
     "metadata": {},
     "output_type": "execute_result"
    }
   ],
   "source": [
    "at2001_ordered.shape"
   ]
  },
  {
   "cell_type": "markdown",
   "id": "39ed71c3-8e3c-4dff-9652-f9ae8f81929e",
   "metadata": {},
   "source": [
    "### 2002"
   ]
  },
  {
   "cell_type": "code",
   "execution_count": 270,
   "id": "d7fc13bc-f118-4145-80b4-5760f999cf1d",
   "metadata": {},
   "outputs": [],
   "source": [
    "at2002 = pd.read_csv('../data/raw/12df4673-6147-46d1-99f3-e419b3f30633_Data.csv')"
   ]
  },
  {
   "cell_type": "code",
   "execution_count": 271,
   "id": "43bd7c36-9f46-4a86-a19c-e7b33f0e9904",
   "metadata": {},
   "outputs": [],
   "source": [
    "at2002_pruned = at2002.iloc[:265, :]"
   ]
  },
  {
   "cell_type": "code",
   "execution_count": 272,
   "id": "5ac299a9-e015-4cf5-a232-3d806a44ddad",
   "metadata": {},
   "outputs": [],
   "source": [
    "#at2002_pruned.tail()"
   ]
  },
  {
   "cell_type": "code",
   "execution_count": 273,
   "id": "0b60de2d-226f-4ad1-9b99-7d9257529b03",
   "metadata": {},
   "outputs": [],
   "source": [
    "at2002_pruned = at2002_pruned.rename(columns = {'Country Code': 'iso_o'})\n",
    "at2002_pruned = at2002_pruned.rename(columns = {'Country Name': 'Country'})\n",
    "at2002_pruned = at2002_pruned.rename(columns = {'GDP (current US$) [NY.GDP.MKTP.CD]': 'GDP'})\n",
    "at2002_pruned = at2002_pruned.rename(columns = {'GDP per capita (current US$) [NY.GDP.PCAP.CD]': 'GDP_pct'})\n",
    "at2002_pruned = at2002_pruned.rename(columns = {'Population, total [SP.POP.TOTL]': 'population'})\n",
    "at2002_pruned = at2002_pruned.rename(columns = {'Trade (% of GDP) [NE.TRD.GNFS.ZS]': 'trade_gdp_ratio'})"
   ]
  },
  {
   "cell_type": "code",
   "execution_count": 274,
   "id": "46fd7599-5bef-4616-8583-f60955af7a66",
   "metadata": {},
   "outputs": [],
   "source": [
    "at2002_ordered = at2002_pruned[['iso_o', 'Country', 'Time', 'GDP', 'GDP_pct', 'population', 'trade_gdp_ratio']]"
   ]
  },
  {
   "cell_type": "code",
   "execution_count": 275,
   "id": "343d1a84-8407-4ba3-81c9-448ab7107d50",
   "metadata": {},
   "outputs": [
    {
     "name": "stderr",
     "output_type": "stream",
     "text": [
      "C:\\Users\\Lenovo\\AppData\\Local\\Temp\\ipykernel_39028\\3277180910.py:1: SettingWithCopyWarning: \n",
      "A value is trying to be set on a copy of a slice from a DataFrame.\n",
      "Try using .loc[row_indexer,col_indexer] = value instead\n",
      "\n",
      "See the caveats in the documentation: https://pandas.pydata.org/pandas-docs/stable/user_guide/indexing.html#returning-a-view-versus-a-copy\n",
      "  at2002_ordered[column] = at2002_ordered[column].replace('..', np.nan)\n",
      "C:\\Users\\Lenovo\\AppData\\Local\\Temp\\ipykernel_39028\\3277180910.py:2: SettingWithCopyWarning: \n",
      "A value is trying to be set on a copy of a slice from a DataFrame.\n",
      "Try using .loc[row_indexer,col_indexer] = value instead\n",
      "\n",
      "See the caveats in the documentation: https://pandas.pydata.org/pandas-docs/stable/user_guide/indexing.html#returning-a-view-versus-a-copy\n",
      "  at2002_ordered[column] = at2002_ordered[column].apply(lambda x: pd.to_numeric(x, errors='coerce')).round(2)\n",
      "C:\\Users\\Lenovo\\AppData\\Local\\Temp\\ipykernel_39028\\3277180910.py:5: SettingWithCopyWarning: \n",
      "A value is trying to be set on a copy of a slice from a DataFrame.\n",
      "Try using .loc[row_indexer,col_indexer] = value instead\n",
      "\n",
      "See the caveats in the documentation: https://pandas.pydata.org/pandas-docs/stable/user_guide/indexing.html#returning-a-view-versus-a-copy\n",
      "  at2002_ordered['GDP'] = at2002_ordered['GDP'].fillna(mean_gdp_2002)\n"
     ]
    }
   ],
   "source": [
    "at2002_ordered[column] = at2002_ordered[column].replace('..', np.nan)\n",
    "at2002_ordered[column] = at2002_ordered[column].apply(lambda x: pd.to_numeric(x, errors='coerce')).round(2)\n",
    "\n",
    "mean_gdp_2002 = at2002_ordered['GDP'].mean()\n",
    "at2002_ordered['GDP'] = at2002_ordered['GDP'].fillna(mean_gdp_2002)\n",
    "at2002_ordered['log_GDP'] = np.log(at2002_ordered['GDP'])\n",
    "at2002_ordered['log_trade_gdp_ratio'] = np.log(at2002_ordered['trade_gdp_ratio'])"
   ]
  },
  {
   "cell_type": "code",
   "execution_count": 276,
   "id": "76cc7d9c-7764-40d3-bee1-f51cf3d82945",
   "metadata": {},
   "outputs": [
    {
     "data": {
      "text/plain": [
       "iso_o                   0\n",
       "Country                 0\n",
       "Time                    0\n",
       "GDP                     0\n",
       "GDP_pct                 9\n",
       "population              1\n",
       "trade_gdp_ratio        54\n",
       "log_GDP                 0\n",
       "log_trade_gdp_ratio    54\n",
       "dtype: int64"
      ]
     },
     "execution_count": 276,
     "metadata": {},
     "output_type": "execute_result"
    }
   ],
   "source": [
    "missing2 = at2002_ordered.isna().sum()\n",
    "missing2"
   ]
  },
  {
   "cell_type": "code",
   "execution_count": 277,
   "id": "89f833b6-be30-4cad-8c55-3e3607b77630",
   "metadata": {},
   "outputs": [
    {
     "name": "stdout",
     "output_type": "stream",
     "text": [
      "190\n",
      "{'MSR', 'TWN'}\n"
     ]
    }
   ],
   "source": [
    "o = set(at2002_ordered['iso_o'].unique()) & set(total_trade['iso_o'].unique())\n",
    "print(len(o))\n",
    "print(set(total_trade['iso_o'].unique()) - set(at2002_ordered['iso_o'].unique()))"
   ]
  },
  {
   "cell_type": "code",
   "execution_count": 278,
   "id": "f4d2ea8e-2f06-49c0-9f18-c5129bb6c8ea",
   "metadata": {},
   "outputs": [],
   "source": [
    "at2002_ordered = at2002_ordered[at2002_ordered['iso_o'].isin(o)]\n",
    "at2002_ordered = at2002_ordered.reset_index(drop = True)"
   ]
  },
  {
   "cell_type": "code",
   "execution_count": 279,
   "id": "b1d9a3fb-7d26-4c19-9620-dea786aeea18",
   "metadata": {},
   "outputs": [
    {
     "data": {
      "text/plain": [
       "(190, 9)"
      ]
     },
     "execution_count": 279,
     "metadata": {},
     "output_type": "execute_result"
    }
   ],
   "source": [
    "at2002_ordered.shape"
   ]
  },
  {
   "cell_type": "code",
   "execution_count": 280,
   "id": "f3790edb-0be7-411f-b812-9847f1b15ce3",
   "metadata": {},
   "outputs": [
    {
     "data": {
      "text/html": [
       "<div>\n",
       "<style scoped>\n",
       "    .dataframe tbody tr th:only-of-type {\n",
       "        vertical-align: middle;\n",
       "    }\n",
       "\n",
       "    .dataframe tbody tr th {\n",
       "        vertical-align: top;\n",
       "    }\n",
       "\n",
       "    .dataframe thead th {\n",
       "        text-align: right;\n",
       "    }\n",
       "</style>\n",
       "<table border=\"1\" class=\"dataframe\">\n",
       "  <thead>\n",
       "    <tr style=\"text-align: right;\">\n",
       "      <th></th>\n",
       "      <th>iso_o</th>\n",
       "      <th>Country</th>\n",
       "      <th>Time</th>\n",
       "      <th>GDP</th>\n",
       "      <th>GDP_pct</th>\n",
       "      <th>population</th>\n",
       "      <th>trade_gdp_ratio</th>\n",
       "      <th>log_GDP</th>\n",
       "      <th>log_trade_gdp_ratio</th>\n",
       "    </tr>\n",
       "  </thead>\n",
       "  <tbody>\n",
       "    <tr>\n",
       "      <th>0</th>\n",
       "      <td>AFG</td>\n",
       "      <td>Afghanistan</td>\n",
       "      <td>2002</td>\n",
       "      <td>3.825701e+09</td>\n",
       "      <td>178.95</td>\n",
       "      <td>21378117.0</td>\n",
       "      <td>NaN</td>\n",
       "      <td>22.065008</td>\n",
       "      <td>NaN</td>\n",
       "    </tr>\n",
       "    <tr>\n",
       "      <th>1</th>\n",
       "      <td>ALB</td>\n",
       "      <td>Albania</td>\n",
       "      <td>2002</td>\n",
       "      <td>4.515003e+09</td>\n",
       "      <td>1479.84</td>\n",
       "      <td>3051010.0</td>\n",
       "      <td>65.99</td>\n",
       "      <td>22.230672</td>\n",
       "      <td>4.189503</td>\n",
       "    </tr>\n",
       "    <tr>\n",
       "      <th>2</th>\n",
       "      <td>DZA</td>\n",
       "      <td>Algeria</td>\n",
       "      <td>2002</td>\n",
       "      <td>6.151610e+10</td>\n",
       "      <td>1937.46</td>\n",
       "      <td>31750835.0</td>\n",
       "      <td>56.59</td>\n",
       "      <td>24.842565</td>\n",
       "      <td>4.035832</td>\n",
       "    </tr>\n",
       "    <tr>\n",
       "      <th>3</th>\n",
       "      <td>AND</td>\n",
       "      <td>Andorra</td>\n",
       "      <td>2002</td>\n",
       "      <td>1.764280e+09</td>\n",
       "      <td>26528.13</td>\n",
       "      <td>66506.0</td>\n",
       "      <td>NaN</td>\n",
       "      <td>21.291008</td>\n",
       "      <td>NaN</td>\n",
       "    </tr>\n",
       "    <tr>\n",
       "      <th>4</th>\n",
       "      <td>AGO</td>\n",
       "      <td>Angola</td>\n",
       "      <td>2002</td>\n",
       "      <td>1.528559e+10</td>\n",
       "      <td>882.15</td>\n",
       "      <td>17327699.0</td>\n",
       "      <td>105.30</td>\n",
       "      <td>23.450177</td>\n",
       "      <td>4.656813</td>\n",
       "    </tr>\n",
       "  </tbody>\n",
       "</table>\n",
       "</div>"
      ],
      "text/plain": [
       "  iso_o      Country  Time           GDP   GDP_pct  population  \\\n",
       "0   AFG  Afghanistan  2002  3.825701e+09    178.95  21378117.0   \n",
       "1   ALB      Albania  2002  4.515003e+09   1479.84   3051010.0   \n",
       "2   DZA      Algeria  2002  6.151610e+10   1937.46  31750835.0   \n",
       "3   AND      Andorra  2002  1.764280e+09  26528.13     66506.0   \n",
       "4   AGO       Angola  2002  1.528559e+10    882.15  17327699.0   \n",
       "\n",
       "   trade_gdp_ratio    log_GDP  log_trade_gdp_ratio  \n",
       "0              NaN  22.065008                  NaN  \n",
       "1            65.99  22.230672             4.189503  \n",
       "2            56.59  24.842565             4.035832  \n",
       "3              NaN  21.291008                  NaN  \n",
       "4           105.30  23.450177             4.656813  "
      ]
     },
     "execution_count": 280,
     "metadata": {},
     "output_type": "execute_result"
    }
   ],
   "source": [
    "at2002_ordered.head()"
   ]
  },
  {
   "cell_type": "markdown",
   "id": "7c5bae88-551d-497c-a8e9-3024049c70cf",
   "metadata": {},
   "source": [
    "### 2003"
   ]
  },
  {
   "cell_type": "code",
   "execution_count": 281,
   "id": "dc8e1ba6-1244-4300-bee3-71cf57eb689c",
   "metadata": {},
   "outputs": [],
   "source": [
    "at2003 = pd.read_csv('../data/raw/e9bcb05a-7626-40fb-ba91-0679770c2561_Data.csv')\n",
    "at2003_pruned = at2003.iloc[:265, :]"
   ]
  },
  {
   "cell_type": "code",
   "execution_count": 282,
   "id": "84a24ff7-22c6-442e-858e-432c9c746287",
   "metadata": {},
   "outputs": [],
   "source": [
    "at2003_pruned = at2003_pruned.rename(columns = {'Country Code': 'iso_o'})\n",
    "at2003_pruned = at2003_pruned.rename(columns = {'Country Name': 'Country'})\n",
    "at2003_pruned = at2003_pruned.rename(columns = {'GDP (current US$) [NY.GDP.MKTP.CD]': 'GDP'})\n",
    "at2003_pruned = at2003_pruned.rename(columns = {'GDP per capita (current US$) [NY.GDP.PCAP.CD]': 'GDP_pct'})\n",
    "at2003_pruned = at2003_pruned.rename(columns = {'Population, total [SP.POP.TOTL]': 'population'})\n",
    "at2003_pruned = at2003_pruned.rename(columns = {'Trade (% of GDP) [NE.TRD.GNFS.ZS]': 'trade_gdp_ratio'})"
   ]
  },
  {
   "cell_type": "code",
   "execution_count": 283,
   "id": "cff26c42-5b36-41dd-8d3a-f9e79226d9e1",
   "metadata": {},
   "outputs": [],
   "source": [
    "#at2003_pruned.tail()"
   ]
  },
  {
   "cell_type": "code",
   "execution_count": 284,
   "id": "6bb04119-e2bb-4cd2-baed-f8fc6e26f95d",
   "metadata": {},
   "outputs": [],
   "source": [
    "at2003_ordered = at2003_pruned[['iso_o', 'Country', 'Time', 'GDP', 'GDP_pct', 'population', 'trade_gdp_ratio']]"
   ]
  },
  {
   "cell_type": "code",
   "execution_count": 285,
   "id": "20973134-6d8c-4cbd-8dd2-bfb5fd00271c",
   "metadata": {},
   "outputs": [
    {
     "name": "stderr",
     "output_type": "stream",
     "text": [
      "C:\\Users\\Lenovo\\AppData\\Local\\Temp\\ipykernel_39028\\3784173621.py:1: SettingWithCopyWarning: \n",
      "A value is trying to be set on a copy of a slice from a DataFrame.\n",
      "Try using .loc[row_indexer,col_indexer] = value instead\n",
      "\n",
      "See the caveats in the documentation: https://pandas.pydata.org/pandas-docs/stable/user_guide/indexing.html#returning-a-view-versus-a-copy\n",
      "  at2003_ordered[column] = at2003_ordered[column].replace('..', np.nan)\n",
      "C:\\Users\\Lenovo\\AppData\\Local\\Temp\\ipykernel_39028\\3784173621.py:2: SettingWithCopyWarning: \n",
      "A value is trying to be set on a copy of a slice from a DataFrame.\n",
      "Try using .loc[row_indexer,col_indexer] = value instead\n",
      "\n",
      "See the caveats in the documentation: https://pandas.pydata.org/pandas-docs/stable/user_guide/indexing.html#returning-a-view-versus-a-copy\n",
      "  at2003_ordered[column] = at2003_ordered[column].apply(lambda x: pd.to_numeric(x, errors='coerce')).round(2)\n",
      "C:\\Users\\Lenovo\\AppData\\Local\\Temp\\ipykernel_39028\\3784173621.py:5: SettingWithCopyWarning: \n",
      "A value is trying to be set on a copy of a slice from a DataFrame.\n",
      "Try using .loc[row_indexer,col_indexer] = value instead\n",
      "\n",
      "See the caveats in the documentation: https://pandas.pydata.org/pandas-docs/stable/user_guide/indexing.html#returning-a-view-versus-a-copy\n",
      "  at2003_ordered['GDP'] = at2003_ordered['GDP'].fillna(mean_gdp_2003)\n"
     ]
    }
   ],
   "source": [
    "at2003_ordered[column] = at2003_ordered[column].replace('..', np.nan)\n",
    "at2003_ordered[column] = at2003_ordered[column].apply(lambda x: pd.to_numeric(x, errors='coerce')).round(2)\n",
    "\n",
    "mean_gdp_2003 = at2003_ordered['GDP'].mean()\n",
    "at2003_ordered['GDP'] = at2003_ordered['GDP'].fillna(mean_gdp_2003)\n",
    "at2003_ordered['log_GDP'] = np.log(at2003_ordered['GDP'])\n",
    "at2003_ordered['log_trade_gdp_ratio'] = np.log(at2003_ordered['trade_gdp_ratio'])"
   ]
  },
  {
   "cell_type": "code",
   "execution_count": 286,
   "id": "870f4edd-2043-45ae-b4bd-f0336c78d876",
   "metadata": {},
   "outputs": [
    {
     "data": {
      "text/plain": [
       "iso_o                   0\n",
       "Country                 0\n",
       "Time                    0\n",
       "GDP                     0\n",
       "GDP_pct                 9\n",
       "population              1\n",
       "trade_gdp_ratio        53\n",
       "log_GDP                 0\n",
       "log_trade_gdp_ratio    53\n",
       "dtype: int64"
      ]
     },
     "execution_count": 286,
     "metadata": {},
     "output_type": "execute_result"
    }
   ],
   "source": [
    "missing3 = at2003_ordered.isna().sum()\n",
    "missing3"
   ]
  },
  {
   "cell_type": "code",
   "execution_count": 287,
   "id": "77eaae97-4399-4901-a313-ca6ac3838f59",
   "metadata": {},
   "outputs": [
    {
     "name": "stdout",
     "output_type": "stream",
     "text": [
      "190\n",
      "{'MSR', 'TWN'}\n"
     ]
    }
   ],
   "source": [
    "p = set(at2003_ordered['iso_o'].unique()) & set(total_trade['iso_o'].unique())\n",
    "print(len(p))\n",
    "print(set(total_trade['iso_o'].unique()) - set(at2003_ordered['iso_o'].unique()))"
   ]
  },
  {
   "cell_type": "code",
   "execution_count": 288,
   "id": "d1d3225f-bdc1-4f35-9969-bbf7020a42d4",
   "metadata": {},
   "outputs": [],
   "source": [
    "at2003_ordered = at2003_ordered[at2003_ordered['iso_o'].isin(p)]\n",
    "at2003_ordered = at2003_ordered.reset_index(drop = True)"
   ]
  },
  {
   "cell_type": "code",
   "execution_count": 289,
   "id": "39186781-7060-447e-b563-87e762715b10",
   "metadata": {},
   "outputs": [
    {
     "data": {
      "text/plain": [
       "(190, 9)"
      ]
     },
     "execution_count": 289,
     "metadata": {},
     "output_type": "execute_result"
    }
   ],
   "source": [
    "at2003_ordered.shape"
   ]
  },
  {
   "cell_type": "code",
   "execution_count": 290,
   "id": "dbae3516-ff32-45f1-9b5f-6355206455f5",
   "metadata": {},
   "outputs": [
    {
     "data": {
      "text/html": [
       "<div>\n",
       "<style scoped>\n",
       "    .dataframe tbody tr th:only-of-type {\n",
       "        vertical-align: middle;\n",
       "    }\n",
       "\n",
       "    .dataframe tbody tr th {\n",
       "        vertical-align: top;\n",
       "    }\n",
       "\n",
       "    .dataframe thead th {\n",
       "        text-align: right;\n",
       "    }\n",
       "</style>\n",
       "<table border=\"1\" class=\"dataframe\">\n",
       "  <thead>\n",
       "    <tr style=\"text-align: right;\">\n",
       "      <th></th>\n",
       "      <th>iso_o</th>\n",
       "      <th>Country</th>\n",
       "      <th>Time</th>\n",
       "      <th>GDP</th>\n",
       "      <th>GDP_pct</th>\n",
       "      <th>population</th>\n",
       "      <th>trade_gdp_ratio</th>\n",
       "      <th>log_GDP</th>\n",
       "      <th>log_trade_gdp_ratio</th>\n",
       "    </tr>\n",
       "  </thead>\n",
       "  <tbody>\n",
       "    <tr>\n",
       "      <th>0</th>\n",
       "      <td>AFG</td>\n",
       "      <td>Afghanistan</td>\n",
       "      <td>2003</td>\n",
       "      <td>4.520947e+09</td>\n",
       "      <td>198.87</td>\n",
       "      <td>22733049.0</td>\n",
       "      <td>NaN</td>\n",
       "      <td>22.231987</td>\n",
       "      <td>NaN</td>\n",
       "    </tr>\n",
       "    <tr>\n",
       "      <th>1</th>\n",
       "      <td>ALB</td>\n",
       "      <td>Albania</td>\n",
       "      <td>2003</td>\n",
       "      <td>5.801712e+09</td>\n",
       "      <td>1908.70</td>\n",
       "      <td>3039616.0</td>\n",
       "      <td>64.82</td>\n",
       "      <td>22.481419</td>\n",
       "      <td>4.171614</td>\n",
       "    </tr>\n",
       "    <tr>\n",
       "      <th>2</th>\n",
       "      <td>DZA</td>\n",
       "      <td>Algeria</td>\n",
       "      <td>2003</td>\n",
       "      <td>7.348226e+10</td>\n",
       "      <td>2283.77</td>\n",
       "      <td>32175818.0</td>\n",
       "      <td>57.77</td>\n",
       "      <td>25.020310</td>\n",
       "      <td>4.056470</td>\n",
       "    </tr>\n",
       "    <tr>\n",
       "      <th>3</th>\n",
       "      <td>AND</td>\n",
       "      <td>Andorra</td>\n",
       "      <td>2003</td>\n",
       "      <td>2.366942e+09</td>\n",
       "      <td>34063.58</td>\n",
       "      <td>69486.0</td>\n",
       "      <td>NaN</td>\n",
       "      <td>21.584865</td>\n",
       "      <td>NaN</td>\n",
       "    </tr>\n",
       "    <tr>\n",
       "      <th>4</th>\n",
       "      <td>AGO</td>\n",
       "      <td>Angola</td>\n",
       "      <td>2003</td>\n",
       "      <td>1.781270e+10</td>\n",
       "      <td>992.70</td>\n",
       "      <td>17943712.0</td>\n",
       "      <td>103.90</td>\n",
       "      <td>23.603178</td>\n",
       "      <td>4.643429</td>\n",
       "    </tr>\n",
       "  </tbody>\n",
       "</table>\n",
       "</div>"
      ],
      "text/plain": [
       "  iso_o      Country  Time           GDP   GDP_pct  population  \\\n",
       "0   AFG  Afghanistan  2003  4.520947e+09    198.87  22733049.0   \n",
       "1   ALB      Albania  2003  5.801712e+09   1908.70   3039616.0   \n",
       "2   DZA      Algeria  2003  7.348226e+10   2283.77  32175818.0   \n",
       "3   AND      Andorra  2003  2.366942e+09  34063.58     69486.0   \n",
       "4   AGO       Angola  2003  1.781270e+10    992.70  17943712.0   \n",
       "\n",
       "   trade_gdp_ratio    log_GDP  log_trade_gdp_ratio  \n",
       "0              NaN  22.231987                  NaN  \n",
       "1            64.82  22.481419             4.171614  \n",
       "2            57.77  25.020310             4.056470  \n",
       "3              NaN  21.584865                  NaN  \n",
       "4           103.90  23.603178             4.643429  "
      ]
     },
     "execution_count": 290,
     "metadata": {},
     "output_type": "execute_result"
    }
   ],
   "source": [
    "at2003_ordered.head()"
   ]
  },
  {
   "cell_type": "markdown",
   "id": "edd1d407-2a20-4887-ab70-4d0b3d80484d",
   "metadata": {},
   "source": [
    "### 2004"
   ]
  },
  {
   "cell_type": "code",
   "execution_count": 291,
   "id": "6d18fc30-8e29-493b-bb97-d2a3228a63a4",
   "metadata": {},
   "outputs": [],
   "source": [
    "at2004 = pd.read_csv('../data/raw/4ba7dd03-beef-4117-bcf5-2741582ae3f0_Data.csv')\n",
    "at2004_pruned = at2004.iloc[:265, :]"
   ]
  },
  {
   "cell_type": "code",
   "execution_count": 292,
   "id": "1a69511f-512e-4f1b-a79d-83d8fcf779b9",
   "metadata": {},
   "outputs": [],
   "source": [
    "at2004_pruned = at2004_pruned.rename(columns = {'Country Code': 'iso_o'})\n",
    "at2004_pruned = at2004_pruned.rename(columns = {'Country Name': 'Country'})\n",
    "at2004_pruned = at2004_pruned.rename(columns = {'GDP (current US$) [NY.GDP.MKTP.CD]': 'GDP'})\n",
    "at2004_pruned = at2004_pruned.rename(columns = {'GDP per capita (current US$) [NY.GDP.PCAP.CD]': 'GDP_pct'})\n",
    "at2004_pruned = at2004_pruned.rename(columns = {'Population, total [SP.POP.TOTL]': 'population'})\n",
    "at2004_pruned = at2004_pruned.rename(columns = {'Trade (% of GDP) [NE.TRD.GNFS.ZS]': 'trade_gdp_ratio'})"
   ]
  },
  {
   "cell_type": "code",
   "execution_count": 293,
   "id": "bf5ad8ff-9a87-4d4e-a466-7da7bbe97050",
   "metadata": {},
   "outputs": [],
   "source": [
    "at2004_ordered = at2004_pruned[['iso_o', 'Country', 'Time', 'GDP', 'GDP_pct', 'population', 'trade_gdp_ratio']]"
   ]
  },
  {
   "cell_type": "code",
   "execution_count": 294,
   "id": "4aa95ebf-a826-4742-8950-569547dcd594",
   "metadata": {},
   "outputs": [
    {
     "name": "stderr",
     "output_type": "stream",
     "text": [
      "C:\\Users\\Lenovo\\AppData\\Local\\Temp\\ipykernel_39028\\2080884707.py:1: SettingWithCopyWarning: \n",
      "A value is trying to be set on a copy of a slice from a DataFrame.\n",
      "Try using .loc[row_indexer,col_indexer] = value instead\n",
      "\n",
      "See the caveats in the documentation: https://pandas.pydata.org/pandas-docs/stable/user_guide/indexing.html#returning-a-view-versus-a-copy\n",
      "  at2004_ordered[column] = at2004_ordered[column].replace('..', np.nan)\n",
      "C:\\Users\\Lenovo\\AppData\\Local\\Temp\\ipykernel_39028\\2080884707.py:2: SettingWithCopyWarning: \n",
      "A value is trying to be set on a copy of a slice from a DataFrame.\n",
      "Try using .loc[row_indexer,col_indexer] = value instead\n",
      "\n",
      "See the caveats in the documentation: https://pandas.pydata.org/pandas-docs/stable/user_guide/indexing.html#returning-a-view-versus-a-copy\n",
      "  at2004_ordered[column] = at2004_ordered[column].apply(lambda x: pd.to_numeric(x, errors='coerce')).round(2)\n",
      "C:\\Users\\Lenovo\\AppData\\Local\\Temp\\ipykernel_39028\\2080884707.py:5: SettingWithCopyWarning: \n",
      "A value is trying to be set on a copy of a slice from a DataFrame.\n",
      "Try using .loc[row_indexer,col_indexer] = value instead\n",
      "\n",
      "See the caveats in the documentation: https://pandas.pydata.org/pandas-docs/stable/user_guide/indexing.html#returning-a-view-versus-a-copy\n",
      "  at2004_ordered['GDP'] = at2004_ordered['GDP'].fillna(mean_gdp_2004)\n"
     ]
    }
   ],
   "source": [
    "at2004_ordered[column] = at2004_ordered[column].replace('..', np.nan)\n",
    "at2004_ordered[column] = at2004_ordered[column].apply(lambda x: pd.to_numeric(x, errors='coerce')).round(2)\n",
    "\n",
    "mean_gdp_2004 = at2004_ordered['GDP'].mean()\n",
    "at2004_ordered['GDP'] = at2004_ordered['GDP'].fillna(mean_gdp_2004)\n",
    "at2004_ordered['log_GDP'] = np.log(at2004_ordered['GDP'])\n",
    "at2004_ordered['log_trade_gdp_ratio'] = np.log(at2004_ordered['trade_gdp_ratio'])"
   ]
  },
  {
   "cell_type": "code",
   "execution_count": 295,
   "id": "8a9f21bf-ff68-4154-a6d0-500b72b9b0bc",
   "metadata": {},
   "outputs": [
    {
     "data": {
      "text/plain": [
       "iso_o                   0\n",
       "Country                 0\n",
       "Time                    0\n",
       "GDP                     0\n",
       "GDP_pct                 9\n",
       "population              1\n",
       "trade_gdp_ratio        53\n",
       "log_GDP                 0\n",
       "log_trade_gdp_ratio    53\n",
       "dtype: int64"
      ]
     },
     "execution_count": 295,
     "metadata": {},
     "output_type": "execute_result"
    }
   ],
   "source": [
    "missing4 = at2004_ordered.isna().sum()\n",
    "missing4"
   ]
  },
  {
   "cell_type": "code",
   "execution_count": 296,
   "id": "0d65096c-179c-416f-8e05-cf88728897f9",
   "metadata": {},
   "outputs": [
    {
     "name": "stdout",
     "output_type": "stream",
     "text": [
      "190\n",
      "{'MSR', 'TWN'}\n"
     ]
    }
   ],
   "source": [
    "q = set(at2004_ordered['iso_o'].unique()) & set(total_trade['iso_o'].unique())\n",
    "print(len(q))\n",
    "print(set(total_trade['iso_o'].unique()) - set(at2004_ordered['iso_o'].unique()))"
   ]
  },
  {
   "cell_type": "code",
   "execution_count": 297,
   "id": "458e6375-767e-4191-820e-b8a3d474ea6c",
   "metadata": {},
   "outputs": [],
   "source": [
    "at2004_ordered = at2004_ordered[at2004_ordered['iso_o'].isin(q)]\n",
    "at2004_ordered = at2004_ordered.reset_index(drop = True)"
   ]
  },
  {
   "cell_type": "code",
   "execution_count": 298,
   "id": "e53b5db7-3d70-4205-b296-7f52fe62c6e6",
   "metadata": {},
   "outputs": [
    {
     "data": {
      "text/html": [
       "<div>\n",
       "<style scoped>\n",
       "    .dataframe tbody tr th:only-of-type {\n",
       "        vertical-align: middle;\n",
       "    }\n",
       "\n",
       "    .dataframe tbody tr th {\n",
       "        vertical-align: top;\n",
       "    }\n",
       "\n",
       "    .dataframe thead th {\n",
       "        text-align: right;\n",
       "    }\n",
       "</style>\n",
       "<table border=\"1\" class=\"dataframe\">\n",
       "  <thead>\n",
       "    <tr style=\"text-align: right;\">\n",
       "      <th></th>\n",
       "      <th>iso_o</th>\n",
       "      <th>Country</th>\n",
       "      <th>Time</th>\n",
       "      <th>GDP</th>\n",
       "      <th>GDP_pct</th>\n",
       "      <th>population</th>\n",
       "      <th>trade_gdp_ratio</th>\n",
       "      <th>log_GDP</th>\n",
       "      <th>log_trade_gdp_ratio</th>\n",
       "    </tr>\n",
       "  </thead>\n",
       "  <tbody>\n",
       "    <tr>\n",
       "      <th>0</th>\n",
       "      <td>AFG</td>\n",
       "      <td>Afghanistan</td>\n",
       "      <td>2004</td>\n",
       "      <td>5.224897e+09</td>\n",
       "      <td>221.76</td>\n",
       "      <td>23560654.0</td>\n",
       "      <td>NaN</td>\n",
       "      <td>22.376701</td>\n",
       "      <td>NaN</td>\n",
       "    </tr>\n",
       "    <tr>\n",
       "      <th>1</th>\n",
       "      <td>ALB</td>\n",
       "      <td>Albania</td>\n",
       "      <td>2004</td>\n",
       "      <td>7.406646e+09</td>\n",
       "      <td>2446.91</td>\n",
       "      <td>3026939.0</td>\n",
       "      <td>65.04</td>\n",
       "      <td>22.725644</td>\n",
       "      <td>4.175002</td>\n",
       "    </tr>\n",
       "    <tr>\n",
       "      <th>2</th>\n",
       "      <td>DZA</td>\n",
       "      <td>Algeria</td>\n",
       "      <td>2004</td>\n",
       "      <td>9.191368e+10</td>\n",
       "      <td>2816.99</td>\n",
       "      <td>32628286.0</td>\n",
       "      <td>61.36</td>\n",
       "      <td>25.244116</td>\n",
       "      <td>4.116758</td>\n",
       "    </tr>\n",
       "    <tr>\n",
       "      <th>3</th>\n",
       "      <td>AND</td>\n",
       "      <td>Andorra</td>\n",
       "      <td>2004</td>\n",
       "      <td>2.900245e+09</td>\n",
       "      <td>39021.13</td>\n",
       "      <td>74325.0</td>\n",
       "      <td>NaN</td>\n",
       "      <td>21.788061</td>\n",
       "      <td>NaN</td>\n",
       "    </tr>\n",
       "    <tr>\n",
       "      <th>4</th>\n",
       "      <td>AGO</td>\n",
       "      <td>Angola</td>\n",
       "      <td>2004</td>\n",
       "      <td>2.355206e+10</td>\n",
       "      <td>1266.21</td>\n",
       "      <td>18600423.0</td>\n",
       "      <td>103.58</td>\n",
       "      <td>23.882479</td>\n",
       "      <td>4.640344</td>\n",
       "    </tr>\n",
       "  </tbody>\n",
       "</table>\n",
       "</div>"
      ],
      "text/plain": [
       "  iso_o      Country  Time           GDP   GDP_pct  population  \\\n",
       "0   AFG  Afghanistan  2004  5.224897e+09    221.76  23560654.0   \n",
       "1   ALB      Albania  2004  7.406646e+09   2446.91   3026939.0   \n",
       "2   DZA      Algeria  2004  9.191368e+10   2816.99  32628286.0   \n",
       "3   AND      Andorra  2004  2.900245e+09  39021.13     74325.0   \n",
       "4   AGO       Angola  2004  2.355206e+10   1266.21  18600423.0   \n",
       "\n",
       "   trade_gdp_ratio    log_GDP  log_trade_gdp_ratio  \n",
       "0              NaN  22.376701                  NaN  \n",
       "1            65.04  22.725644             4.175002  \n",
       "2            61.36  25.244116             4.116758  \n",
       "3              NaN  21.788061                  NaN  \n",
       "4           103.58  23.882479             4.640344  "
      ]
     },
     "execution_count": 298,
     "metadata": {},
     "output_type": "execute_result"
    }
   ],
   "source": [
    "at2004_ordered.head()"
   ]
  },
  {
   "cell_type": "markdown",
   "id": "a5636ebe-ce0b-40ef-8f2d-04888ed4fc45",
   "metadata": {},
   "source": [
    "### 2005"
   ]
  },
  {
   "cell_type": "code",
   "execution_count": 299,
   "id": "ad0d035f-057d-4411-beb7-f6a236b18544",
   "metadata": {},
   "outputs": [],
   "source": [
    "at2005 = pd.read_csv('../data/raw/8c0c707a-94a0-4070-83d9-a9890aa84763_Data.csv')\n",
    "at2005_pruned = at2005.iloc[:265, :]"
   ]
  },
  {
   "cell_type": "code",
   "execution_count": 300,
   "id": "32a652dc-1758-4ef5-b437-4e64461e0203",
   "metadata": {},
   "outputs": [],
   "source": [
    "at2005_pruned = at2005_pruned.rename(columns = {'Country Code': 'iso_o'})\n",
    "at2005_pruned = at2005_pruned.rename(columns = {'Country Name': 'Country'})\n",
    "at2005_pruned = at2005_pruned.rename(columns = {'GDP (current US$) [NY.GDP.MKTP.CD]': 'GDP'})\n",
    "at2005_pruned = at2005_pruned.rename(columns = {'GDP per capita (current US$) [NY.GDP.PCAP.CD]': 'GDP_pct'})\n",
    "at2005_pruned = at2005_pruned.rename(columns = {'Population, total [SP.POP.TOTL]': 'population'})\n",
    "at2005_pruned = at2005_pruned.rename(columns = {'Trade (% of GDP) [NE.TRD.GNFS.ZS]': 'trade_gdp_ratio'})"
   ]
  },
  {
   "cell_type": "code",
   "execution_count": 301,
   "id": "7d105416-0b78-4869-a475-1aaa256f36f8",
   "metadata": {},
   "outputs": [],
   "source": [
    "at2005_ordered = at2005_pruned[['iso_o', 'Country', 'Time', 'GDP', 'GDP_pct', 'population', 'trade_gdp_ratio']]"
   ]
  },
  {
   "cell_type": "code",
   "execution_count": 302,
   "id": "64378736-9f5d-40a7-8a85-c5750db1d675",
   "metadata": {},
   "outputs": [
    {
     "name": "stderr",
     "output_type": "stream",
     "text": [
      "C:\\Users\\Lenovo\\AppData\\Local\\Temp\\ipykernel_39028\\3819113048.py:1: SettingWithCopyWarning: \n",
      "A value is trying to be set on a copy of a slice from a DataFrame.\n",
      "Try using .loc[row_indexer,col_indexer] = value instead\n",
      "\n",
      "See the caveats in the documentation: https://pandas.pydata.org/pandas-docs/stable/user_guide/indexing.html#returning-a-view-versus-a-copy\n",
      "  at2005_ordered[column] = at2005_ordered[column].replace('..', np.nan)\n",
      "C:\\Users\\Lenovo\\AppData\\Local\\Temp\\ipykernel_39028\\3819113048.py:2: SettingWithCopyWarning: \n",
      "A value is trying to be set on a copy of a slice from a DataFrame.\n",
      "Try using .loc[row_indexer,col_indexer] = value instead\n",
      "\n",
      "See the caveats in the documentation: https://pandas.pydata.org/pandas-docs/stable/user_guide/indexing.html#returning-a-view-versus-a-copy\n",
      "  at2005_ordered[column] = at2005_ordered[column].apply(lambda x: pd.to_numeric(x, errors='coerce')).round(2)\n",
      "C:\\Users\\Lenovo\\AppData\\Local\\Temp\\ipykernel_39028\\3819113048.py:5: SettingWithCopyWarning: \n",
      "A value is trying to be set on a copy of a slice from a DataFrame.\n",
      "Try using .loc[row_indexer,col_indexer] = value instead\n",
      "\n",
      "See the caveats in the documentation: https://pandas.pydata.org/pandas-docs/stable/user_guide/indexing.html#returning-a-view-versus-a-copy\n",
      "  at2005_ordered['GDP'] = at2005_ordered['GDP'].fillna(mean_gdp_2005)\n"
     ]
    }
   ],
   "source": [
    "at2005_ordered[column] = at2005_ordered[column].replace('..', np.nan)\n",
    "at2005_ordered[column] = at2005_ordered[column].apply(lambda x: pd.to_numeric(x, errors='coerce')).round(2)\n",
    "\n",
    "mean_gdp_2005 = at2005_ordered['GDP'].mean()\n",
    "at2005_ordered['GDP'] = at2005_ordered['GDP'].fillna(mean_gdp_2005)\n",
    "at2005_ordered['log_GDP'] = np.log(at2005_ordered['GDP'])\n",
    "at2005_ordered['log_trade_gdp_ratio'] = np.log(at2005_ordered['trade_gdp_ratio'])"
   ]
  },
  {
   "cell_type": "code",
   "execution_count": 303,
   "id": "4a5df542-cfb6-4f01-9c4d-df98ec871d33",
   "metadata": {},
   "outputs": [
    {
     "data": {
      "text/plain": [
       "iso_o                   0\n",
       "Country                 0\n",
       "Time                    0\n",
       "GDP                     0\n",
       "GDP_pct                 9\n",
       "population              1\n",
       "trade_gdp_ratio        49\n",
       "log_GDP                 0\n",
       "log_trade_gdp_ratio    49\n",
       "dtype: int64"
      ]
     },
     "execution_count": 303,
     "metadata": {},
     "output_type": "execute_result"
    }
   ],
   "source": [
    "missing5 = at2005_ordered.isna().sum()\n",
    "missing5"
   ]
  },
  {
   "cell_type": "code",
   "execution_count": 304,
   "id": "ed86efb4-ef5a-45b9-86d3-a370016a8270",
   "metadata": {},
   "outputs": [
    {
     "name": "stdout",
     "output_type": "stream",
     "text": [
      "190\n",
      "{'MSR', 'TWN'}\n"
     ]
    }
   ],
   "source": [
    "r = set(at2005_ordered['iso_o'].unique()) & set(total_trade['iso_o'].unique())\n",
    "print(len(r))\n",
    "print(set(total_trade['iso_o'].unique()) - set(at2005_ordered['iso_o'].unique()))"
   ]
  },
  {
   "cell_type": "code",
   "execution_count": 305,
   "id": "30682e94-b29a-4e85-8a85-ba86bbff9153",
   "metadata": {},
   "outputs": [],
   "source": [
    "at2005_ordered = at2005_ordered[at2005_ordered['iso_o'].isin(r)]\n",
    "at2005_ordered = at2005_ordered.reset_index(drop = True)"
   ]
  },
  {
   "cell_type": "code",
   "execution_count": 306,
   "id": "9dd7a7d2-a67f-4a5f-a529-57dba5e7a898",
   "metadata": {},
   "outputs": [
    {
     "data": {
      "text/html": [
       "<div>\n",
       "<style scoped>\n",
       "    .dataframe tbody tr th:only-of-type {\n",
       "        vertical-align: middle;\n",
       "    }\n",
       "\n",
       "    .dataframe tbody tr th {\n",
       "        vertical-align: top;\n",
       "    }\n",
       "\n",
       "    .dataframe thead th {\n",
       "        text-align: right;\n",
       "    }\n",
       "</style>\n",
       "<table border=\"1\" class=\"dataframe\">\n",
       "  <thead>\n",
       "    <tr style=\"text-align: right;\">\n",
       "      <th></th>\n",
       "      <th>iso_o</th>\n",
       "      <th>Country</th>\n",
       "      <th>Time</th>\n",
       "      <th>GDP</th>\n",
       "      <th>GDP_pct</th>\n",
       "      <th>population</th>\n",
       "      <th>trade_gdp_ratio</th>\n",
       "      <th>log_GDP</th>\n",
       "      <th>log_trade_gdp_ratio</th>\n",
       "    </tr>\n",
       "  </thead>\n",
       "  <tbody>\n",
       "    <tr>\n",
       "      <th>0</th>\n",
       "      <td>AFG</td>\n",
       "      <td>Afghanistan</td>\n",
       "      <td>2005</td>\n",
       "      <td>6.203257e+09</td>\n",
       "      <td>254.18</td>\n",
       "      <td>24404567.0</td>\n",
       "      <td>NaN</td>\n",
       "      <td>22.548340</td>\n",
       "      <td>NaN</td>\n",
       "    </tr>\n",
       "    <tr>\n",
       "      <th>1</th>\n",
       "      <td>ALB</td>\n",
       "      <td>Albania</td>\n",
       "      <td>2005</td>\n",
       "      <td>8.256658e+09</td>\n",
       "      <td>2741.72</td>\n",
       "      <td>3011487.0</td>\n",
       "      <td>69.12</td>\n",
       "      <td>22.834286</td>\n",
       "      <td>4.235844</td>\n",
       "    </tr>\n",
       "    <tr>\n",
       "      <th>2</th>\n",
       "      <td>DZA</td>\n",
       "      <td>Algeria</td>\n",
       "      <td>2005</td>\n",
       "      <td>1.070466e+11</td>\n",
       "      <td>3233.13</td>\n",
       "      <td>33109249.0</td>\n",
       "      <td>66.84</td>\n",
       "      <td>25.396530</td>\n",
       "      <td>4.202302</td>\n",
       "    </tr>\n",
       "  </tbody>\n",
       "</table>\n",
       "</div>"
      ],
      "text/plain": [
       "  iso_o      Country  Time           GDP  GDP_pct  population  \\\n",
       "0   AFG  Afghanistan  2005  6.203257e+09   254.18  24404567.0   \n",
       "1   ALB      Albania  2005  8.256658e+09  2741.72   3011487.0   \n",
       "2   DZA      Algeria  2005  1.070466e+11  3233.13  33109249.0   \n",
       "\n",
       "   trade_gdp_ratio    log_GDP  log_trade_gdp_ratio  \n",
       "0              NaN  22.548340                  NaN  \n",
       "1            69.12  22.834286             4.235844  \n",
       "2            66.84  25.396530             4.202302  "
      ]
     },
     "execution_count": 306,
     "metadata": {},
     "output_type": "execute_result"
    }
   ],
   "source": [
    "at2005_ordered.head(3)"
   ]
  },
  {
   "cell_type": "markdown",
   "id": "9fca4f32-c2be-4fbf-bbc2-bf602c7b54b3",
   "metadata": {},
   "source": [
    "### 2006"
   ]
  },
  {
   "cell_type": "code",
   "execution_count": 307,
   "id": "b75d4791-d2b1-4fd1-a421-0ae7bba4e0b5",
   "metadata": {},
   "outputs": [],
   "source": [
    "at2006 = pd.read_csv('../data/raw/56f4554f-bddc-45c4-9bd7-da4b172d4d3c_Data.csv')\n",
    "at2006_pruned = at2006.iloc[:265, :]"
   ]
  },
  {
   "cell_type": "code",
   "execution_count": 308,
   "id": "0dd2ea08-2ae6-47d0-a469-4edac390935f",
   "metadata": {},
   "outputs": [],
   "source": [
    "at2006_pruned = at2006_pruned.rename(columns = {'Country Code': 'iso_o'})\n",
    "at2006_pruned = at2006_pruned.rename(columns = {'Country Name': 'Country'})\n",
    "at2006_pruned = at2006_pruned.rename(columns = {'GDP (current US$) [NY.GDP.MKTP.CD]': 'GDP'})\n",
    "at2006_pruned = at2006_pruned.rename(columns = {'GDP per capita (current US$) [NY.GDP.PCAP.CD]': 'GDP_pct'})\n",
    "at2006_pruned = at2006_pruned.rename(columns = {'Population, total [SP.POP.TOTL]': 'population'})\n",
    "at2006_pruned = at2006_pruned.rename(columns = {'Trade (% of GDP) [NE.TRD.GNFS.ZS]': 'trade_gdp_ratio'})"
   ]
  },
  {
   "cell_type": "code",
   "execution_count": 309,
   "id": "3004c0aa-9b13-470c-a0ca-e807432b4c94",
   "metadata": {},
   "outputs": [],
   "source": [
    "at2006_ordered = at2006_pruned[['iso_o', 'Country', 'Time', 'GDP', 'GDP_pct', 'population', 'trade_gdp_ratio']]"
   ]
  },
  {
   "cell_type": "code",
   "execution_count": 310,
   "id": "f47e9f02-b586-4d60-b840-40ec63212597",
   "metadata": {},
   "outputs": [
    {
     "name": "stderr",
     "output_type": "stream",
     "text": [
      "C:\\Users\\Lenovo\\AppData\\Local\\Temp\\ipykernel_39028\\1013954170.py:1: SettingWithCopyWarning: \n",
      "A value is trying to be set on a copy of a slice from a DataFrame.\n",
      "Try using .loc[row_indexer,col_indexer] = value instead\n",
      "\n",
      "See the caveats in the documentation: https://pandas.pydata.org/pandas-docs/stable/user_guide/indexing.html#returning-a-view-versus-a-copy\n",
      "  at2006_ordered[column] = at2006_ordered[column].replace('..', np.nan)\n",
      "C:\\Users\\Lenovo\\AppData\\Local\\Temp\\ipykernel_39028\\1013954170.py:2: SettingWithCopyWarning: \n",
      "A value is trying to be set on a copy of a slice from a DataFrame.\n",
      "Try using .loc[row_indexer,col_indexer] = value instead\n",
      "\n",
      "See the caveats in the documentation: https://pandas.pydata.org/pandas-docs/stable/user_guide/indexing.html#returning-a-view-versus-a-copy\n",
      "  at2006_ordered[column] = at2006_ordered[column].apply(lambda x: pd.to_numeric(x, errors='coerce')).round(2)\n",
      "C:\\Users\\Lenovo\\AppData\\Local\\Temp\\ipykernel_39028\\1013954170.py:5: SettingWithCopyWarning: \n",
      "A value is trying to be set on a copy of a slice from a DataFrame.\n",
      "Try using .loc[row_indexer,col_indexer] = value instead\n",
      "\n",
      "See the caveats in the documentation: https://pandas.pydata.org/pandas-docs/stable/user_guide/indexing.html#returning-a-view-versus-a-copy\n",
      "  at2006_ordered['GDP'] = at2006_ordered['GDP'].fillna(mean_gdp_2006)\n"
     ]
    }
   ],
   "source": [
    "at2006_ordered[column] = at2006_ordered[column].replace('..', np.nan)\n",
    "at2006_ordered[column] = at2006_ordered[column].apply(lambda x: pd.to_numeric(x, errors='coerce')).round(2)\n",
    "\n",
    "mean_gdp_2006 = at2006_ordered['GDP'].mean()\n",
    "at2006_ordered['GDP'] = at2006_ordered['GDP'].fillna(mean_gdp_2006)\n",
    "at2006_ordered['log_GDP'] = np.log(at2006_ordered['GDP'])\n",
    "at2006_ordered['log_trade_gdp_ratio'] = np.log(at2006_ordered['trade_gdp_ratio'])"
   ]
  },
  {
   "cell_type": "code",
   "execution_count": 311,
   "id": "8b0f30fc-7fb5-46ea-a390-0eda0ccb9cf0",
   "metadata": {},
   "outputs": [
    {
     "data": {
      "text/plain": [
       "iso_o                   0\n",
       "Country                 0\n",
       "Time                    0\n",
       "GDP                     0\n",
       "GDP_pct                 8\n",
       "population              1\n",
       "trade_gdp_ratio        49\n",
       "log_GDP                 0\n",
       "log_trade_gdp_ratio    49\n",
       "dtype: int64"
      ]
     },
     "execution_count": 311,
     "metadata": {},
     "output_type": "execute_result"
    }
   ],
   "source": [
    "missing6 = at2006_ordered.isna().sum()\n",
    "missing6"
   ]
  },
  {
   "cell_type": "code",
   "execution_count": 312,
   "id": "2d349537-31f1-4996-9353-a5989a6c8c4c",
   "metadata": {},
   "outputs": [
    {
     "name": "stdout",
     "output_type": "stream",
     "text": [
      "190\n",
      "{'MSR', 'TWN'}\n"
     ]
    }
   ],
   "source": [
    "s = set(at2006_ordered['iso_o'].unique()) & set(total_trade['iso_o'].unique())\n",
    "print(len(s))\n",
    "print(set(total_trade['iso_o'].unique()) - set(at2006_ordered['iso_o'].unique()))"
   ]
  },
  {
   "cell_type": "code",
   "execution_count": 313,
   "id": "0bcb5c8a-aff9-4da9-880d-f3ede09e952d",
   "metadata": {},
   "outputs": [],
   "source": [
    "at2006_ordered = at2006_ordered[at2006_ordered['iso_o'].isin(s)]\n",
    "at2006_ordered = at2006_ordered.reset_index(drop = True)"
   ]
  },
  {
   "cell_type": "code",
   "execution_count": 314,
   "id": "a6129886-907f-4248-91dd-47fcab8a70a7",
   "metadata": {},
   "outputs": [
    {
     "data": {
      "text/html": [
       "<div>\n",
       "<style scoped>\n",
       "    .dataframe tbody tr th:only-of-type {\n",
       "        vertical-align: middle;\n",
       "    }\n",
       "\n",
       "    .dataframe tbody tr th {\n",
       "        vertical-align: top;\n",
       "    }\n",
       "\n",
       "    .dataframe thead th {\n",
       "        text-align: right;\n",
       "    }\n",
       "</style>\n",
       "<table border=\"1\" class=\"dataframe\">\n",
       "  <thead>\n",
       "    <tr style=\"text-align: right;\">\n",
       "      <th></th>\n",
       "      <th>iso_o</th>\n",
       "      <th>Country</th>\n",
       "      <th>Time</th>\n",
       "      <th>GDP</th>\n",
       "      <th>GDP_pct</th>\n",
       "      <th>population</th>\n",
       "      <th>trade_gdp_ratio</th>\n",
       "      <th>log_GDP</th>\n",
       "      <th>log_trade_gdp_ratio</th>\n",
       "    </tr>\n",
       "  </thead>\n",
       "  <tbody>\n",
       "    <tr>\n",
       "      <th>0</th>\n",
       "      <td>AFG</td>\n",
       "      <td>Afghanistan</td>\n",
       "      <td>2006</td>\n",
       "      <td>6.971758e+09</td>\n",
       "      <td>274.22</td>\n",
       "      <td>25424094.0</td>\n",
       "      <td>NaN</td>\n",
       "      <td>22.665133</td>\n",
       "      <td>NaN</td>\n",
       "    </tr>\n",
       "    <tr>\n",
       "      <th>1</th>\n",
       "      <td>ALB</td>\n",
       "      <td>Albania</td>\n",
       "      <td>2006</td>\n",
       "      <td>9.150528e+09</td>\n",
       "      <td>3057.77</td>\n",
       "      <td>2992547.0</td>\n",
       "      <td>72.2</td>\n",
       "      <td>22.937077</td>\n",
       "      <td>4.27944</td>\n",
       "    </tr>\n",
       "  </tbody>\n",
       "</table>\n",
       "</div>"
      ],
      "text/plain": [
       "  iso_o      Country  Time           GDP  GDP_pct  population  \\\n",
       "0   AFG  Afghanistan  2006  6.971758e+09   274.22  25424094.0   \n",
       "1   ALB      Albania  2006  9.150528e+09  3057.77   2992547.0   \n",
       "\n",
       "   trade_gdp_ratio    log_GDP  log_trade_gdp_ratio  \n",
       "0              NaN  22.665133                  NaN  \n",
       "1             72.2  22.937077              4.27944  "
      ]
     },
     "execution_count": 314,
     "metadata": {},
     "output_type": "execute_result"
    }
   ],
   "source": [
    "at2006_ordered.head(2)"
   ]
  },
  {
   "cell_type": "markdown",
   "id": "8d14321a-512e-44de-be1b-a1ffa59ecd06",
   "metadata": {},
   "source": [
    "### 2007"
   ]
  },
  {
   "cell_type": "code",
   "execution_count": 315,
   "id": "6e0f5cba-1da2-4116-af3a-a13eae709c93",
   "metadata": {},
   "outputs": [],
   "source": [
    "at2007 = pd.read_csv('../data/raw/616da076-f862-4f86-a7b3-7373f5ae84c1_Data.csv')\n",
    "at2007_pruned = at2007.iloc[:265, :]"
   ]
  },
  {
   "cell_type": "code",
   "execution_count": 316,
   "id": "6ee81ed8-5f38-4f45-9f1f-018ffee63792",
   "metadata": {},
   "outputs": [],
   "source": [
    "at2007_pruned = at2007_pruned.rename(columns = {'Country Code': 'iso_o'})\n",
    "at2007_pruned = at2007_pruned.rename(columns = {'Country Name': 'Country'})\n",
    "at2007_pruned = at2007_pruned.rename(columns = {'GDP (current US$) [NY.GDP.MKTP.CD]': 'GDP'})\n",
    "at2007_pruned = at2007_pruned.rename(columns = {'GDP per capita (current US$) [NY.GDP.PCAP.CD]': 'GDP_pct'})\n",
    "at2007_pruned = at2007_pruned.rename(columns = {'Population, total [SP.POP.TOTL]': 'population'})\n",
    "at2007_pruned = at2007_pruned.rename(columns = {'Trade (% of GDP) [NE.TRD.GNFS.ZS]': 'trade_gdp_ratio'})"
   ]
  },
  {
   "cell_type": "code",
   "execution_count": 317,
   "id": "99d325eb-f453-44ee-a819-598e84fdb05e",
   "metadata": {},
   "outputs": [],
   "source": [
    "at2007_ordered = at2007_pruned[['iso_o', 'Country', 'Time', 'GDP', 'GDP_pct', 'population', 'trade_gdp_ratio']]"
   ]
  },
  {
   "cell_type": "code",
   "execution_count": 318,
   "id": "104ab321-134a-4cfb-b2f8-ed229c300024",
   "metadata": {},
   "outputs": [
    {
     "name": "stderr",
     "output_type": "stream",
     "text": [
      "C:\\Users\\Lenovo\\AppData\\Local\\Temp\\ipykernel_39028\\2387433653.py:1: SettingWithCopyWarning: \n",
      "A value is trying to be set on a copy of a slice from a DataFrame.\n",
      "Try using .loc[row_indexer,col_indexer] = value instead\n",
      "\n",
      "See the caveats in the documentation: https://pandas.pydata.org/pandas-docs/stable/user_guide/indexing.html#returning-a-view-versus-a-copy\n",
      "  at2007_ordered[column] = at2007_ordered[column].replace('..', np.nan)\n",
      "C:\\Users\\Lenovo\\AppData\\Local\\Temp\\ipykernel_39028\\2387433653.py:2: SettingWithCopyWarning: \n",
      "A value is trying to be set on a copy of a slice from a DataFrame.\n",
      "Try using .loc[row_indexer,col_indexer] = value instead\n",
      "\n",
      "See the caveats in the documentation: https://pandas.pydata.org/pandas-docs/stable/user_guide/indexing.html#returning-a-view-versus-a-copy\n",
      "  at2007_ordered[column] = at2007_ordered[column].apply(lambda x: pd.to_numeric(x, errors='coerce')).round(2)\n",
      "C:\\Users\\Lenovo\\AppData\\Local\\Temp\\ipykernel_39028\\2387433653.py:5: SettingWithCopyWarning: \n",
      "A value is trying to be set on a copy of a slice from a DataFrame.\n",
      "Try using .loc[row_indexer,col_indexer] = value instead\n",
      "\n",
      "See the caveats in the documentation: https://pandas.pydata.org/pandas-docs/stable/user_guide/indexing.html#returning-a-view-versus-a-copy\n",
      "  at2007_ordered['GDP'] = at2007_ordered['GDP'].fillna(mean_gdp_2007)\n"
     ]
    }
   ],
   "source": [
    "at2007_ordered[column] = at2007_ordered[column].replace('..', np.nan)\n",
    "at2007_ordered[column] = at2007_ordered[column].apply(lambda x: pd.to_numeric(x, errors='coerce')).round(2)\n",
    "\n",
    "mean_gdp_2007 = at2007_ordered['GDP'].mean()\n",
    "at2007_ordered['GDP'] = at2007_ordered['GDP'].fillna(mean_gdp_2007)\n",
    "at2007_ordered['log_GDP'] = np.log(at2007_ordered['GDP'])\n",
    "at2007_ordered['log_trade_gdp_ratio'] = np.log(at2007_ordered['trade_gdp_ratio'])"
   ]
  },
  {
   "cell_type": "code",
   "execution_count": 319,
   "id": "d6aca933-1696-48dd-90ca-115bc8f69bd2",
   "metadata": {},
   "outputs": [
    {
     "data": {
      "text/plain": [
       "iso_o                   0\n",
       "Country                 0\n",
       "Time                    0\n",
       "GDP                     0\n",
       "GDP_pct                 8\n",
       "population              1\n",
       "trade_gdp_ratio        48\n",
       "log_GDP                 0\n",
       "log_trade_gdp_ratio    48\n",
       "dtype: int64"
      ]
     },
     "execution_count": 319,
     "metadata": {},
     "output_type": "execute_result"
    }
   ],
   "source": [
    "missing7 = at2007_ordered.isna().sum()\n",
    "missing7"
   ]
  },
  {
   "cell_type": "code",
   "execution_count": 320,
   "id": "7f583297-7f04-44e7-80f6-14c5f3608c0d",
   "metadata": {},
   "outputs": [
    {
     "name": "stdout",
     "output_type": "stream",
     "text": [
      "190\n",
      "{'MSR', 'TWN'}\n"
     ]
    }
   ],
   "source": [
    "t = set(at2007_ordered['iso_o'].unique()) & set(total_trade['iso_o'].unique())\n",
    "print(len(t))\n",
    "print(set(total_trade['iso_o'].unique()) - set(at2007_ordered['iso_o'].unique()))"
   ]
  },
  {
   "cell_type": "code",
   "execution_count": 321,
   "id": "2354c8b3-0807-4df8-832b-0a46c4085dd6",
   "metadata": {},
   "outputs": [],
   "source": [
    "at2007_ordered = at2007_ordered[at2007_ordered['iso_o'].isin(s)]\n",
    "at2007_ordered = at2007_ordered.reset_index(drop = True)"
   ]
  },
  {
   "cell_type": "code",
   "execution_count": 322,
   "id": "124db8e5-c8ff-44e9-9554-2ebd82a619fc",
   "metadata": {},
   "outputs": [
    {
     "data": {
      "text/html": [
       "<div>\n",
       "<style scoped>\n",
       "    .dataframe tbody tr th:only-of-type {\n",
       "        vertical-align: middle;\n",
       "    }\n",
       "\n",
       "    .dataframe tbody tr th {\n",
       "        vertical-align: top;\n",
       "    }\n",
       "\n",
       "    .dataframe thead th {\n",
       "        text-align: right;\n",
       "    }\n",
       "</style>\n",
       "<table border=\"1\" class=\"dataframe\">\n",
       "  <thead>\n",
       "    <tr style=\"text-align: right;\">\n",
       "      <th></th>\n",
       "      <th>iso_o</th>\n",
       "      <th>Country</th>\n",
       "      <th>Time</th>\n",
       "      <th>GDP</th>\n",
       "      <th>GDP_pct</th>\n",
       "      <th>population</th>\n",
       "      <th>trade_gdp_ratio</th>\n",
       "      <th>log_GDP</th>\n",
       "      <th>log_trade_gdp_ratio</th>\n",
       "    </tr>\n",
       "  </thead>\n",
       "  <tbody>\n",
       "    <tr>\n",
       "      <th>0</th>\n",
       "      <td>AFG</td>\n",
       "      <td>Afghanistan</td>\n",
       "      <td>2007</td>\n",
       "      <td>9.747886e+09</td>\n",
       "      <td>376.22</td>\n",
       "      <td>25909852.0</td>\n",
       "      <td>NaN</td>\n",
       "      <td>23.000316</td>\n",
       "      <td>NaN</td>\n",
       "    </tr>\n",
       "    <tr>\n",
       "      <th>1</th>\n",
       "      <td>ALB</td>\n",
       "      <td>Albania</td>\n",
       "      <td>2007</td>\n",
       "      <td>1.111694e+10</td>\n",
       "      <td>3743.06</td>\n",
       "      <td>2970017.0</td>\n",
       "      <td>79.91</td>\n",
       "      <td>23.131736</td>\n",
       "      <td>4.380901</td>\n",
       "    </tr>\n",
       "    <tr>\n",
       "      <th>2</th>\n",
       "      <td>DZA</td>\n",
       "      <td>Algeria</td>\n",
       "      <td>2007</td>\n",
       "      <td>1.424827e+11</td>\n",
       "      <td>4167.45</td>\n",
       "      <td>34189416.0</td>\n",
       "      <td>67.55</td>\n",
       "      <td>25.682487</td>\n",
       "      <td>4.212868</td>\n",
       "    </tr>\n",
       "  </tbody>\n",
       "</table>\n",
       "</div>"
      ],
      "text/plain": [
       "  iso_o      Country  Time           GDP  GDP_pct  population  \\\n",
       "0   AFG  Afghanistan  2007  9.747886e+09   376.22  25909852.0   \n",
       "1   ALB      Albania  2007  1.111694e+10  3743.06   2970017.0   \n",
       "2   DZA      Algeria  2007  1.424827e+11  4167.45  34189416.0   \n",
       "\n",
       "   trade_gdp_ratio    log_GDP  log_trade_gdp_ratio  \n",
       "0              NaN  23.000316                  NaN  \n",
       "1            79.91  23.131736             4.380901  \n",
       "2            67.55  25.682487             4.212868  "
      ]
     },
     "execution_count": 322,
     "metadata": {},
     "output_type": "execute_result"
    }
   ],
   "source": [
    "at2007_ordered.head(3)"
   ]
  },
  {
   "cell_type": "markdown",
   "id": "e57f6b01-bafd-43b1-81e6-3e252f63a174",
   "metadata": {},
   "source": [
    "### 2008"
   ]
  },
  {
   "cell_type": "code",
   "execution_count": 323,
   "id": "0aa5a1cd-4e5a-4157-aef0-258216e74f95",
   "metadata": {},
   "outputs": [],
   "source": [
    "at2008 = pd.read_csv('../data/raw/2fc7e1df-39de-4796-9eed-6b22fc006594_Data.csv')\n",
    "at2008_pruned = at2008.iloc[:265, :]"
   ]
  },
  {
   "cell_type": "code",
   "execution_count": 324,
   "id": "af877404-fbb4-4446-ba0c-2c43e8ccb830",
   "metadata": {},
   "outputs": [],
   "source": [
    "at2008_pruned = at2008_pruned.rename(columns = {'Country Code': 'iso_o'})\n",
    "at2008_pruned = at2008_pruned.rename(columns = {'Country Name': 'Country'})\n",
    "at2008_pruned = at2008_pruned.rename(columns = {'GDP (current US$) [NY.GDP.MKTP.CD]': 'GDP'})\n",
    "at2008_pruned = at2008_pruned.rename(columns = {'GDP per capita (current US$) [NY.GDP.PCAP.CD]': 'GDP_pct'})\n",
    "at2008_pruned = at2008_pruned.rename(columns = {'Population, total [SP.POP.TOTL]': 'population'})\n",
    "at2008_pruned = at2008_pruned.rename(columns = {'Trade (% of GDP) [NE.TRD.GNFS.ZS]': 'trade_gdp_ratio'})"
   ]
  },
  {
   "cell_type": "code",
   "execution_count": 325,
   "id": "8db81967-4aff-4db7-8945-5c5416b34257",
   "metadata": {},
   "outputs": [],
   "source": [
    "at2008_ordered = at2008_pruned[['iso_o', 'Country', 'Time', 'GDP', 'GDP_pct', 'population', 'trade_gdp_ratio']]"
   ]
  },
  {
   "cell_type": "code",
   "execution_count": 326,
   "id": "b8060469-c37f-4b1b-8fe3-2249218a3db9",
   "metadata": {},
   "outputs": [
    {
     "name": "stderr",
     "output_type": "stream",
     "text": [
      "C:\\Users\\Lenovo\\AppData\\Local\\Temp\\ipykernel_39028\\1406758937.py:1: SettingWithCopyWarning: \n",
      "A value is trying to be set on a copy of a slice from a DataFrame.\n",
      "Try using .loc[row_indexer,col_indexer] = value instead\n",
      "\n",
      "See the caveats in the documentation: https://pandas.pydata.org/pandas-docs/stable/user_guide/indexing.html#returning-a-view-versus-a-copy\n",
      "  at2008_ordered[column] = at2008_ordered[column].replace('..', np.nan)\n",
      "C:\\Users\\Lenovo\\AppData\\Local\\Temp\\ipykernel_39028\\1406758937.py:2: SettingWithCopyWarning: \n",
      "A value is trying to be set on a copy of a slice from a DataFrame.\n",
      "Try using .loc[row_indexer,col_indexer] = value instead\n",
      "\n",
      "See the caveats in the documentation: https://pandas.pydata.org/pandas-docs/stable/user_guide/indexing.html#returning-a-view-versus-a-copy\n",
      "  at2008_ordered[column] = at2008_ordered[column].apply(lambda x: pd.to_numeric(x, errors='coerce')).round(2)\n",
      "C:\\Users\\Lenovo\\AppData\\Local\\Temp\\ipykernel_39028\\1406758937.py:5: SettingWithCopyWarning: \n",
      "A value is trying to be set on a copy of a slice from a DataFrame.\n",
      "Try using .loc[row_indexer,col_indexer] = value instead\n",
      "\n",
      "See the caveats in the documentation: https://pandas.pydata.org/pandas-docs/stable/user_guide/indexing.html#returning-a-view-versus-a-copy\n",
      "  at2008_ordered['GDP'] = at2008_ordered['GDP'].fillna(mean_gdp_2008)\n"
     ]
    }
   ],
   "source": [
    "at2008_ordered[column] = at2008_ordered[column].replace('..', np.nan)\n",
    "at2008_ordered[column] = at2008_ordered[column].apply(lambda x: pd.to_numeric(x, errors='coerce')).round(2)\n",
    "\n",
    "mean_gdp_2008 = at2008_ordered['GDP'].mean()\n",
    "at2008_ordered['GDP'] = at2008_ordered['GDP'].fillna(mean_gdp_2008)\n",
    "at2008_ordered['log_GDP'] = np.log(at2008_ordered['GDP'])\n",
    "at2008_ordered['log_trade_gdp_ratio'] = np.log(at2008_ordered['trade_gdp_ratio'])"
   ]
  },
  {
   "cell_type": "code",
   "execution_count": 327,
   "id": "db4faa5e-b64b-4964-8ebe-c22e145d2782",
   "metadata": {},
   "outputs": [
    {
     "data": {
      "text/plain": [
       "iso_o                   0\n",
       "Country                 0\n",
       "Time                    0\n",
       "GDP                     0\n",
       "GDP_pct                 7\n",
       "population              1\n",
       "trade_gdp_ratio        45\n",
       "log_GDP                 0\n",
       "log_trade_gdp_ratio    45\n",
       "dtype: int64"
      ]
     },
     "execution_count": 327,
     "metadata": {},
     "output_type": "execute_result"
    }
   ],
   "source": [
    "missing8 = at2008_ordered.isna().sum()\n",
    "missing8"
   ]
  },
  {
   "cell_type": "code",
   "execution_count": 328,
   "id": "865d406f-dcd5-4486-9ce2-9652c4f646f2",
   "metadata": {},
   "outputs": [
    {
     "name": "stdout",
     "output_type": "stream",
     "text": [
      "190\n",
      "{'MSR', 'TWN'}\n"
     ]
    }
   ],
   "source": [
    "u = set(at2008_ordered['iso_o'].unique()) & set(total_trade['iso_o'].unique())\n",
    "print(len(u))\n",
    "print(set(total_trade['iso_o'].unique()) - set(at2008_ordered['iso_o'].unique()))"
   ]
  },
  {
   "cell_type": "code",
   "execution_count": 329,
   "id": "d2476bac-f555-4a0d-a601-1f0abacee79c",
   "metadata": {},
   "outputs": [],
   "source": [
    "at2008_ordered = at2008_ordered[at2008_ordered['iso_o'].isin(u)]\n",
    "at2008_ordered = at2008_ordered.reset_index(drop = True)"
   ]
  },
  {
   "cell_type": "code",
   "execution_count": 330,
   "id": "d159fe34-96dc-464c-90eb-0c9350fb0e79",
   "metadata": {},
   "outputs": [
    {
     "data": {
      "text/html": [
       "<div>\n",
       "<style scoped>\n",
       "    .dataframe tbody tr th:only-of-type {\n",
       "        vertical-align: middle;\n",
       "    }\n",
       "\n",
       "    .dataframe tbody tr th {\n",
       "        vertical-align: top;\n",
       "    }\n",
       "\n",
       "    .dataframe thead th {\n",
       "        text-align: right;\n",
       "    }\n",
       "</style>\n",
       "<table border=\"1\" class=\"dataframe\">\n",
       "  <thead>\n",
       "    <tr style=\"text-align: right;\">\n",
       "      <th></th>\n",
       "      <th>iso_o</th>\n",
       "      <th>Country</th>\n",
       "      <th>Time</th>\n",
       "      <th>GDP</th>\n",
       "      <th>GDP_pct</th>\n",
       "      <th>population</th>\n",
       "      <th>trade_gdp_ratio</th>\n",
       "      <th>log_GDP</th>\n",
       "      <th>log_trade_gdp_ratio</th>\n",
       "    </tr>\n",
       "  </thead>\n",
       "  <tbody>\n",
       "    <tr>\n",
       "      <th>0</th>\n",
       "      <td>AFG</td>\n",
       "      <td>Afghanistan</td>\n",
       "      <td>2008</td>\n",
       "      <td>1.010930e+10</td>\n",
       "      <td>381.73</td>\n",
       "      <td>26482622.0</td>\n",
       "      <td>NaN</td>\n",
       "      <td>23.036721</td>\n",
       "      <td>NaN</td>\n",
       "    </tr>\n",
       "    <tr>\n",
       "      <th>1</th>\n",
       "      <td>ALB</td>\n",
       "      <td>Albania</td>\n",
       "      <td>2008</td>\n",
       "      <td>1.325851e+10</td>\n",
       "      <td>4498.50</td>\n",
       "      <td>2947314.0</td>\n",
       "      <td>75.25</td>\n",
       "      <td>23.307905</td>\n",
       "      <td>4.320816</td>\n",
       "    </tr>\n",
       "    <tr>\n",
       "      <th>2</th>\n",
       "      <td>DZA</td>\n",
       "      <td>Algeria</td>\n",
       "      <td>2008</td>\n",
       "      <td>1.803838e+11</td>\n",
       "      <td>5180.92</td>\n",
       "      <td>34816961.0</td>\n",
       "      <td>71.03</td>\n",
       "      <td>25.918353</td>\n",
       "      <td>4.263102</td>\n",
       "    </tr>\n",
       "    <tr>\n",
       "      <th>3</th>\n",
       "      <td>AND</td>\n",
       "      <td>Andorra</td>\n",
       "      <td>2008</td>\n",
       "      <td>4.102319e+09</td>\n",
       "      <td>49132.52</td>\n",
       "      <td>83495.0</td>\n",
       "      <td>NaN</td>\n",
       "      <td>22.134818</td>\n",
       "      <td>NaN</td>\n",
       "    </tr>\n",
       "    <tr>\n",
       "      <th>4</th>\n",
       "      <td>AGO</td>\n",
       "      <td>Angola</td>\n",
       "      <td>2008</td>\n",
       "      <td>8.853867e+10</td>\n",
       "      <td>4103.07</td>\n",
       "      <td>21578655.0</td>\n",
       "      <td>121.36</td>\n",
       "      <td>25.206705</td>\n",
       "      <td>4.798761</td>\n",
       "    </tr>\n",
       "  </tbody>\n",
       "</table>\n",
       "</div>"
      ],
      "text/plain": [
       "  iso_o      Country  Time           GDP   GDP_pct  population  \\\n",
       "0   AFG  Afghanistan  2008  1.010930e+10    381.73  26482622.0   \n",
       "1   ALB      Albania  2008  1.325851e+10   4498.50   2947314.0   \n",
       "2   DZA      Algeria  2008  1.803838e+11   5180.92  34816961.0   \n",
       "3   AND      Andorra  2008  4.102319e+09  49132.52     83495.0   \n",
       "4   AGO       Angola  2008  8.853867e+10   4103.07  21578655.0   \n",
       "\n",
       "   trade_gdp_ratio    log_GDP  log_trade_gdp_ratio  \n",
       "0              NaN  23.036721                  NaN  \n",
       "1            75.25  23.307905             4.320816  \n",
       "2            71.03  25.918353             4.263102  \n",
       "3              NaN  22.134818                  NaN  \n",
       "4           121.36  25.206705             4.798761  "
      ]
     },
     "execution_count": 330,
     "metadata": {},
     "output_type": "execute_result"
    }
   ],
   "source": [
    "at2008_ordered.head()"
   ]
  },
  {
   "cell_type": "markdown",
   "id": "ed89ad9b-43db-41e6-92aa-eb06b519956a",
   "metadata": {},
   "source": [
    "### 2009"
   ]
  },
  {
   "cell_type": "code",
   "execution_count": 331,
   "id": "d2397178-bedc-4e6e-8f06-9faeac0e038c",
   "metadata": {},
   "outputs": [],
   "source": [
    "at2009 = pd.read_csv('../data/raw/67e77636-af13-402a-9705-edf48957b7e7_Data.csv')\n",
    "at2009_pruned = at2009.iloc[:265, :]"
   ]
  },
  {
   "cell_type": "code",
   "execution_count": 332,
   "id": "45808e4f-a6c0-4623-8b6c-feab34347e18",
   "metadata": {},
   "outputs": [],
   "source": [
    "at2009_pruned = at2009_pruned.rename(columns = {'Country Code': 'iso_o'})\n",
    "at2009_pruned = at2009_pruned.rename(columns = {'Country Name': 'Country'})\n",
    "at2009_pruned = at2009_pruned.rename(columns = {'GDP (current US$) [NY.GDP.MKTP.CD]': 'GDP'})\n",
    "at2009_pruned = at2009_pruned.rename(columns = {'GDP per capita (current US$) [NY.GDP.PCAP.CD]': 'GDP_pct'})\n",
    "at2009_pruned = at2009_pruned.rename(columns = {'Population, total [SP.POP.TOTL]': 'population'})\n",
    "at2009_pruned = at2009_pruned.rename(columns = {'Trade (% of GDP) [NE.TRD.GNFS.ZS]': 'trade_gdp_ratio'})"
   ]
  },
  {
   "cell_type": "code",
   "execution_count": 333,
   "id": "47d075f1-91fa-4fdf-bd70-096641d52907",
   "metadata": {},
   "outputs": [],
   "source": [
    "at2009_ordered = at2009_pruned[['iso_o', 'Country', 'Time', 'GDP', 'GDP_pct', 'population', 'trade_gdp_ratio']]"
   ]
  },
  {
   "cell_type": "code",
   "execution_count": 334,
   "id": "e99dac47-49d9-4a86-9ff5-42c9855604ea",
   "metadata": {},
   "outputs": [
    {
     "name": "stderr",
     "output_type": "stream",
     "text": [
      "C:\\Users\\Lenovo\\AppData\\Local\\Temp\\ipykernel_39028\\3382585979.py:1: SettingWithCopyWarning: \n",
      "A value is trying to be set on a copy of a slice from a DataFrame.\n",
      "Try using .loc[row_indexer,col_indexer] = value instead\n",
      "\n",
      "See the caveats in the documentation: https://pandas.pydata.org/pandas-docs/stable/user_guide/indexing.html#returning-a-view-versus-a-copy\n",
      "  at2009_ordered[column] = at2009_ordered[column].replace('..', np.nan)\n",
      "C:\\Users\\Lenovo\\AppData\\Local\\Temp\\ipykernel_39028\\3382585979.py:2: SettingWithCopyWarning: \n",
      "A value is trying to be set on a copy of a slice from a DataFrame.\n",
      "Try using .loc[row_indexer,col_indexer] = value instead\n",
      "\n",
      "See the caveats in the documentation: https://pandas.pydata.org/pandas-docs/stable/user_guide/indexing.html#returning-a-view-versus-a-copy\n",
      "  at2009_ordered[column] = at2009_ordered[column].apply(lambda x: pd.to_numeric(x, errors='coerce')).round(2)\n",
      "C:\\Users\\Lenovo\\AppData\\Local\\Temp\\ipykernel_39028\\3382585979.py:5: SettingWithCopyWarning: \n",
      "A value is trying to be set on a copy of a slice from a DataFrame.\n",
      "Try using .loc[row_indexer,col_indexer] = value instead\n",
      "\n",
      "See the caveats in the documentation: https://pandas.pydata.org/pandas-docs/stable/user_guide/indexing.html#returning-a-view-versus-a-copy\n",
      "  at2009_ordered['GDP'] = at2009_ordered['GDP'].fillna(mean_gdp_2009)\n"
     ]
    }
   ],
   "source": [
    "at2009_ordered[column] = at2009_ordered[column].replace('..', np.nan)\n",
    "at2009_ordered[column] = at2009_ordered[column].apply(lambda x: pd.to_numeric(x, errors='coerce')).round(2)\n",
    "\n",
    "mean_gdp_2009 = at2009_ordered['GDP'].mean()\n",
    "at2009_ordered['GDP'] = at2009_ordered['GDP'].fillna(mean_gdp_2009)\n",
    "at2009_ordered['log_GDP'] = np.log(at2009_ordered['GDP'])\n",
    "at2009_ordered['log_trade_gdp_ratio'] = np.log(at2009_ordered['trade_gdp_ratio'])"
   ]
  },
  {
   "cell_type": "code",
   "execution_count": 335,
   "id": "ba9dcbbf-8a58-43b4-9444-31de3fcb2cc2",
   "metadata": {},
   "outputs": [
    {
     "data": {
      "text/plain": [
       "iso_o                   0\n",
       "Country                 0\n",
       "Time                    0\n",
       "GDP                     0\n",
       "GDP_pct                 5\n",
       "population              1\n",
       "trade_gdp_ratio        45\n",
       "log_GDP                 0\n",
       "log_trade_gdp_ratio    45\n",
       "dtype: int64"
      ]
     },
     "execution_count": 335,
     "metadata": {},
     "output_type": "execute_result"
    }
   ],
   "source": [
    "missing9 = at2009_ordered.isna().sum()\n",
    "missing9"
   ]
  },
  {
   "cell_type": "code",
   "execution_count": 336,
   "id": "ae99fe89-6273-4db9-8014-6a3adfaac67d",
   "metadata": {},
   "outputs": [
    {
     "name": "stdout",
     "output_type": "stream",
     "text": [
      "190\n",
      "{'MSR', 'TWN'}\n"
     ]
    }
   ],
   "source": [
    "v = set(at2009_ordered['iso_o'].unique()) & set(total_trade['iso_o'].unique())\n",
    "print(len(v))\n",
    "print(set(total_trade['iso_o'].unique()) - set(at2009_ordered['iso_o'].unique()))"
   ]
  },
  {
   "cell_type": "code",
   "execution_count": 337,
   "id": "2f0f3395-985f-48c8-8f78-278d194f8ba8",
   "metadata": {},
   "outputs": [],
   "source": [
    "at2009_ordered = at2009_ordered[at2009_ordered['iso_o'].isin(v)]\n",
    "at2009_ordered = at2009_ordered.reset_index(drop = True)"
   ]
  },
  {
   "cell_type": "code",
   "execution_count": 338,
   "id": "71a14fbc-b3b6-4d0c-9552-d4dfae5c4dec",
   "metadata": {},
   "outputs": [
    {
     "data": {
      "text/html": [
       "<div>\n",
       "<style scoped>\n",
       "    .dataframe tbody tr th:only-of-type {\n",
       "        vertical-align: middle;\n",
       "    }\n",
       "\n",
       "    .dataframe tbody tr th {\n",
       "        vertical-align: top;\n",
       "    }\n",
       "\n",
       "    .dataframe thead th {\n",
       "        text-align: right;\n",
       "    }\n",
       "</style>\n",
       "<table border=\"1\" class=\"dataframe\">\n",
       "  <thead>\n",
       "    <tr style=\"text-align: right;\">\n",
       "      <th></th>\n",
       "      <th>iso_o</th>\n",
       "      <th>Country</th>\n",
       "      <th>Time</th>\n",
       "      <th>GDP</th>\n",
       "      <th>GDP_pct</th>\n",
       "      <th>population</th>\n",
       "      <th>trade_gdp_ratio</th>\n",
       "      <th>log_GDP</th>\n",
       "      <th>log_trade_gdp_ratio</th>\n",
       "    </tr>\n",
       "  </thead>\n",
       "  <tbody>\n",
       "    <tr>\n",
       "      <th>0</th>\n",
       "      <td>AFG</td>\n",
       "      <td>Afghanistan</td>\n",
       "      <td>2009</td>\n",
       "      <td>1.241615e+10</td>\n",
       "      <td>452.05</td>\n",
       "      <td>27466101.0</td>\n",
       "      <td>NaN</td>\n",
       "      <td>23.242264</td>\n",
       "      <td>NaN</td>\n",
       "    </tr>\n",
       "    <tr>\n",
       "      <th>1</th>\n",
       "      <td>ALB</td>\n",
       "      <td>Albania</td>\n",
       "      <td>2009</td>\n",
       "      <td>1.233554e+10</td>\n",
       "      <td>4213.65</td>\n",
       "      <td>2927519.0</td>\n",
       "      <td>73.32</td>\n",
       "      <td>23.235750</td>\n",
       "      <td>4.294833</td>\n",
       "    </tr>\n",
       "    <tr>\n",
       "      <th>2</th>\n",
       "      <td>DZA</td>\n",
       "      <td>Algeria</td>\n",
       "      <td>2009</td>\n",
       "      <td>1.503173e+11</td>\n",
       "      <td>4235.43</td>\n",
       "      <td>35490445.0</td>\n",
       "      <td>64.28</td>\n",
       "      <td>25.736014</td>\n",
       "      <td>4.163249</td>\n",
       "    </tr>\n",
       "    <tr>\n",
       "      <th>3</th>\n",
       "      <td>AND</td>\n",
       "      <td>Andorra</td>\n",
       "      <td>2009</td>\n",
       "      <td>3.688976e+09</td>\n",
       "      <td>43975.02</td>\n",
       "      <td>83888.0</td>\n",
       "      <td>NaN</td>\n",
       "      <td>22.028615</td>\n",
       "      <td>NaN</td>\n",
       "    </tr>\n",
       "    <tr>\n",
       "      <th>4</th>\n",
       "      <td>AGO</td>\n",
       "      <td>Angola</td>\n",
       "      <td>2009</td>\n",
       "      <td>7.030720e+10</td>\n",
       "      <td>3136.65</td>\n",
       "      <td>22414773.0</td>\n",
       "      <td>122.45</td>\n",
       "      <td>24.976140</td>\n",
       "      <td>4.807703</td>\n",
       "    </tr>\n",
       "  </tbody>\n",
       "</table>\n",
       "</div>"
      ],
      "text/plain": [
       "  iso_o      Country  Time           GDP   GDP_pct  population  \\\n",
       "0   AFG  Afghanistan  2009  1.241615e+10    452.05  27466101.0   \n",
       "1   ALB      Albania  2009  1.233554e+10   4213.65   2927519.0   \n",
       "2   DZA      Algeria  2009  1.503173e+11   4235.43  35490445.0   \n",
       "3   AND      Andorra  2009  3.688976e+09  43975.02     83888.0   \n",
       "4   AGO       Angola  2009  7.030720e+10   3136.65  22414773.0   \n",
       "\n",
       "   trade_gdp_ratio    log_GDP  log_trade_gdp_ratio  \n",
       "0              NaN  23.242264                  NaN  \n",
       "1            73.32  23.235750             4.294833  \n",
       "2            64.28  25.736014             4.163249  \n",
       "3              NaN  22.028615                  NaN  \n",
       "4           122.45  24.976140             4.807703  "
      ]
     },
     "execution_count": 338,
     "metadata": {},
     "output_type": "execute_result"
    }
   ],
   "source": [
    "at2009_ordered.head()"
   ]
  },
  {
   "cell_type": "markdown",
   "id": "e4e3be33-bc4c-47b6-b641-9ad667ee9938",
   "metadata": {},
   "source": [
    "### 2010"
   ]
  },
  {
   "cell_type": "code",
   "execution_count": 339,
   "id": "51dcf8ad-4a94-48c7-b911-dffbb25d4318",
   "metadata": {},
   "outputs": [],
   "source": [
    "at2010 = pd.read_csv('../data/raw/21dfe8ea-d81a-491b-b5af-5cc76407ebce_Data.csv')\n",
    "at2010_pruned = at2010.iloc[:265, :]"
   ]
  },
  {
   "cell_type": "code",
   "execution_count": 340,
   "id": "1ae9843d-6520-4bf9-b333-026999b02954",
   "metadata": {},
   "outputs": [],
   "source": [
    "at2010_pruned = at2010_pruned.rename(columns = {'Country Code': 'iso_o'})\n",
    "at2010_pruned = at2010_pruned.rename(columns = {'Country Name': 'Country'})\n",
    "at2010_pruned = at2010_pruned.rename(columns = {'GDP (current US$) [NY.GDP.MKTP.CD]': 'GDP'})\n",
    "at2010_pruned = at2010_pruned.rename(columns = {'GDP per capita (current US$) [NY.GDP.PCAP.CD]': 'GDP_pct'})\n",
    "at2010_pruned = at2010_pruned.rename(columns = {'Population, total [SP.POP.TOTL]': 'population'})\n",
    "at2010_pruned = at2010_pruned.rename(columns = {'Trade (% of GDP) [NE.TRD.GNFS.ZS]': 'trade_gdp_ratio'})"
   ]
  },
  {
   "cell_type": "code",
   "execution_count": 341,
   "id": "6ff696f8-5cd4-4a4a-b466-0fc03e69b3c8",
   "metadata": {},
   "outputs": [],
   "source": [
    "at2010_ordered = at2010_pruned[['iso_o', 'Country', 'Time', 'GDP', 'GDP_pct', 'population', 'trade_gdp_ratio']]"
   ]
  },
  {
   "cell_type": "code",
   "execution_count": 342,
   "id": "98c759b4-f970-4349-aed3-c5a92b5b3d44",
   "metadata": {},
   "outputs": [
    {
     "name": "stderr",
     "output_type": "stream",
     "text": [
      "C:\\Users\\Lenovo\\AppData\\Local\\Temp\\ipykernel_39028\\1151526356.py:1: SettingWithCopyWarning: \n",
      "A value is trying to be set on a copy of a slice from a DataFrame.\n",
      "Try using .loc[row_indexer,col_indexer] = value instead\n",
      "\n",
      "See the caveats in the documentation: https://pandas.pydata.org/pandas-docs/stable/user_guide/indexing.html#returning-a-view-versus-a-copy\n",
      "  at2010_ordered[column] = at2010_ordered[column].replace('..', np.nan)\n",
      "C:\\Users\\Lenovo\\AppData\\Local\\Temp\\ipykernel_39028\\1151526356.py:2: SettingWithCopyWarning: \n",
      "A value is trying to be set on a copy of a slice from a DataFrame.\n",
      "Try using .loc[row_indexer,col_indexer] = value instead\n",
      "\n",
      "See the caveats in the documentation: https://pandas.pydata.org/pandas-docs/stable/user_guide/indexing.html#returning-a-view-versus-a-copy\n",
      "  at2010_ordered[column] = at2010_ordered[column].apply(lambda x: pd.to_numeric(x, errors='coerce')).round(2)\n",
      "C:\\Users\\Lenovo\\AppData\\Local\\Temp\\ipykernel_39028\\1151526356.py:5: SettingWithCopyWarning: \n",
      "A value is trying to be set on a copy of a slice from a DataFrame.\n",
      "Try using .loc[row_indexer,col_indexer] = value instead\n",
      "\n",
      "See the caveats in the documentation: https://pandas.pydata.org/pandas-docs/stable/user_guide/indexing.html#returning-a-view-versus-a-copy\n",
      "  at2010_ordered['GDP'] = at2010_ordered['GDP'].fillna(mean_gdp_2010)\n"
     ]
    }
   ],
   "source": [
    "at2010_ordered[column] = at2010_ordered[column].replace('..', np.nan)\n",
    "at2010_ordered[column] = at2010_ordered[column].apply(lambda x: pd.to_numeric(x, errors='coerce')).round(2)\n",
    "\n",
    "mean_gdp_2010 = at2010_ordered['GDP'].mean()\n",
    "at2010_ordered['GDP'] = at2010_ordered['GDP'].fillna(mean_gdp_2010)\n",
    "at2010_ordered['log_GDP'] = np.log(at2010_ordered['GDP'])\n",
    "at2010_ordered['log_trade_gdp_ratio'] = np.log(at2010_ordered['trade_gdp_ratio'])"
   ]
  },
  {
   "cell_type": "code",
   "execution_count": 343,
   "id": "d6854e91-cdd1-4a6d-933c-22e37d32136e",
   "metadata": {},
   "outputs": [
    {
     "data": {
      "text/plain": [
       "iso_o                   0\n",
       "Country                 0\n",
       "Time                    0\n",
       "GDP                     0\n",
       "GDP_pct                 5\n",
       "population              1\n",
       "trade_gdp_ratio        45\n",
       "log_GDP                 0\n",
       "log_trade_gdp_ratio    45\n",
       "dtype: int64"
      ]
     },
     "execution_count": 343,
     "metadata": {},
     "output_type": "execute_result"
    }
   ],
   "source": [
    "missing10 = at2010_ordered.isna().sum()\n",
    "missing10"
   ]
  },
  {
   "cell_type": "code",
   "execution_count": 344,
   "id": "806170c4-2f58-4482-b12f-236fa485e43a",
   "metadata": {},
   "outputs": [
    {
     "name": "stdout",
     "output_type": "stream",
     "text": [
      "190\n",
      "{'MSR', 'TWN'}\n"
     ]
    }
   ],
   "source": [
    "w = set(at2010_ordered['iso_o'].unique()) & set(total_trade['iso_o'].unique())\n",
    "print(len(w))\n",
    "print(set(total_trade['iso_o'].unique()) - set(at2010_ordered['iso_o'].unique()))"
   ]
  },
  {
   "cell_type": "code",
   "execution_count": 345,
   "id": "3097ea5f-632b-4a0b-b5c4-42c13e871afd",
   "metadata": {},
   "outputs": [],
   "source": [
    "at2010_ordered = at2010_ordered[at2010_ordered['iso_o'].isin(v)]\n",
    "at2010_ordered = at2010_ordered.reset_index(drop = True)"
   ]
  },
  {
   "cell_type": "code",
   "execution_count": 346,
   "id": "1478047a-7d7b-4a8f-878c-915d4638e73a",
   "metadata": {},
   "outputs": [
    {
     "data": {
      "text/html": [
       "<div>\n",
       "<style scoped>\n",
       "    .dataframe tbody tr th:only-of-type {\n",
       "        vertical-align: middle;\n",
       "    }\n",
       "\n",
       "    .dataframe tbody tr th {\n",
       "        vertical-align: top;\n",
       "    }\n",
       "\n",
       "    .dataframe thead th {\n",
       "        text-align: right;\n",
       "    }\n",
       "</style>\n",
       "<table border=\"1\" class=\"dataframe\">\n",
       "  <thead>\n",
       "    <tr style=\"text-align: right;\">\n",
       "      <th></th>\n",
       "      <th>iso_o</th>\n",
       "      <th>Country</th>\n",
       "      <th>Time</th>\n",
       "      <th>GDP</th>\n",
       "      <th>GDP_pct</th>\n",
       "      <th>population</th>\n",
       "      <th>trade_gdp_ratio</th>\n",
       "      <th>log_GDP</th>\n",
       "      <th>log_trade_gdp_ratio</th>\n",
       "    </tr>\n",
       "  </thead>\n",
       "  <tbody>\n",
       "    <tr>\n",
       "      <th>0</th>\n",
       "      <td>AFG</td>\n",
       "      <td>Afghanistan</td>\n",
       "      <td>2010</td>\n",
       "      <td>1.585667e+10</td>\n",
       "      <td>560.62</td>\n",
       "      <td>28284089.0</td>\n",
       "      <td>NaN</td>\n",
       "      <td>23.486856</td>\n",
       "      <td>NaN</td>\n",
       "    </tr>\n",
       "    <tr>\n",
       "      <th>1</th>\n",
       "      <td>ALB</td>\n",
       "      <td>Albania</td>\n",
       "      <td>2010</td>\n",
       "      <td>1.208655e+10</td>\n",
       "      <td>4149.14</td>\n",
       "      <td>2913021.0</td>\n",
       "      <td>75.53</td>\n",
       "      <td>23.215359</td>\n",
       "      <td>4.324530</td>\n",
       "    </tr>\n",
       "    <tr>\n",
       "      <th>2</th>\n",
       "      <td>DZA</td>\n",
       "      <td>Algeria</td>\n",
       "      <td>2010</td>\n",
       "      <td>1.777851e+11</td>\n",
       "      <td>4912.79</td>\n",
       "      <td>36188236.0</td>\n",
       "      <td>63.49</td>\n",
       "      <td>25.903841</td>\n",
       "      <td>4.150882</td>\n",
       "    </tr>\n",
       "    <tr>\n",
       "      <th>3</th>\n",
       "      <td>AND</td>\n",
       "      <td>Andorra</td>\n",
       "      <td>2010</td>\n",
       "      <td>3.449926e+09</td>\n",
       "      <td>42746.83</td>\n",
       "      <td>80706.0</td>\n",
       "      <td>NaN</td>\n",
       "      <td>21.961619</td>\n",
       "      <td>NaN</td>\n",
       "    </tr>\n",
       "    <tr>\n",
       "      <th>4</th>\n",
       "      <td>AGO</td>\n",
       "      <td>Angola</td>\n",
       "      <td>2010</td>\n",
       "      <td>8.379947e+10</td>\n",
       "      <td>3597.34</td>\n",
       "      <td>23294825.0</td>\n",
       "      <td>104.12</td>\n",
       "      <td>25.151693</td>\n",
       "      <td>4.645544</td>\n",
       "    </tr>\n",
       "  </tbody>\n",
       "</table>\n",
       "</div>"
      ],
      "text/plain": [
       "  iso_o      Country  Time           GDP   GDP_pct  population  \\\n",
       "0   AFG  Afghanistan  2010  1.585667e+10    560.62  28284089.0   \n",
       "1   ALB      Albania  2010  1.208655e+10   4149.14   2913021.0   \n",
       "2   DZA      Algeria  2010  1.777851e+11   4912.79  36188236.0   \n",
       "3   AND      Andorra  2010  3.449926e+09  42746.83     80706.0   \n",
       "4   AGO       Angola  2010  8.379947e+10   3597.34  23294825.0   \n",
       "\n",
       "   trade_gdp_ratio    log_GDP  log_trade_gdp_ratio  \n",
       "0              NaN  23.486856                  NaN  \n",
       "1            75.53  23.215359             4.324530  \n",
       "2            63.49  25.903841             4.150882  \n",
       "3              NaN  21.961619                  NaN  \n",
       "4           104.12  25.151693             4.645544  "
      ]
     },
     "execution_count": 346,
     "metadata": {},
     "output_type": "execute_result"
    }
   ],
   "source": [
    "at2010_ordered.head()"
   ]
  },
  {
   "cell_type": "markdown",
   "id": "682acb10-687c-453a-b21e-c99dde53c89d",
   "metadata": {},
   "source": [
    "### 2011"
   ]
  },
  {
   "cell_type": "code",
   "execution_count": 347,
   "id": "6fb25f9a-2963-4082-9d29-2b87545e92b3",
   "metadata": {},
   "outputs": [],
   "source": [
    "at2011 = pd.read_csv('../data/raw/afedc3eb-c374-45cd-989c-6c3559a87669_Data.csv')\n",
    "at2011_pruned = at2011.iloc[:265, :]"
   ]
  },
  {
   "cell_type": "code",
   "execution_count": 348,
   "id": "488c1ba4-8cd6-4f0c-bf09-ea5115debd51",
   "metadata": {},
   "outputs": [],
   "source": [
    "at2011_pruned = at2011_pruned.rename(columns = {'Country Code': 'iso_o'})\n",
    "at2011_pruned = at2011_pruned.rename(columns = {'Country Name': 'Country'})\n",
    "at2011_pruned = at2011_pruned.rename(columns = {'GDP (current US$) [NY.GDP.MKTP.CD]': 'GDP'})\n",
    "at2011_pruned = at2011_pruned.rename(columns = {'GDP per capita (current US$) [NY.GDP.PCAP.CD]': 'GDP_pct'})\n",
    "at2011_pruned = at2011_pruned.rename(columns = {'Population, total [SP.POP.TOTL]': 'population'})\n",
    "at2011_pruned = at2011_pruned.rename(columns = {'Trade (% of GDP) [NE.TRD.GNFS.ZS]': 'trade_gdp_ratio'})"
   ]
  },
  {
   "cell_type": "code",
   "execution_count": 349,
   "id": "32f61dd2-616d-4545-93cc-8576d0b5babf",
   "metadata": {},
   "outputs": [],
   "source": [
    "at2011_ordered = at2011_pruned[['iso_o', 'Country', 'Time', 'GDP', 'GDP_pct', 'population', 'trade_gdp_ratio']]"
   ]
  },
  {
   "cell_type": "code",
   "execution_count": 350,
   "id": "f54d8350-b3b8-4e52-8fdf-4c5c395aa9eb",
   "metadata": {},
   "outputs": [
    {
     "name": "stderr",
     "output_type": "stream",
     "text": [
      "C:\\Users\\Lenovo\\AppData\\Local\\Temp\\ipykernel_39028\\559788603.py:1: SettingWithCopyWarning: \n",
      "A value is trying to be set on a copy of a slice from a DataFrame.\n",
      "Try using .loc[row_indexer,col_indexer] = value instead\n",
      "\n",
      "See the caveats in the documentation: https://pandas.pydata.org/pandas-docs/stable/user_guide/indexing.html#returning-a-view-versus-a-copy\n",
      "  at2011_ordered[column] = at2011_ordered[column].replace('..', np.nan)\n",
      "C:\\Users\\Lenovo\\AppData\\Local\\Temp\\ipykernel_39028\\559788603.py:2: SettingWithCopyWarning: \n",
      "A value is trying to be set on a copy of a slice from a DataFrame.\n",
      "Try using .loc[row_indexer,col_indexer] = value instead\n",
      "\n",
      "See the caveats in the documentation: https://pandas.pydata.org/pandas-docs/stable/user_guide/indexing.html#returning-a-view-versus-a-copy\n",
      "  at2011_ordered[column] = at2011_ordered[column].apply(lambda x: pd.to_numeric(x, errors='coerce')).round(2)\n",
      "C:\\Users\\Lenovo\\AppData\\Local\\Temp\\ipykernel_39028\\559788603.py:5: SettingWithCopyWarning: \n",
      "A value is trying to be set on a copy of a slice from a DataFrame.\n",
      "Try using .loc[row_indexer,col_indexer] = value instead\n",
      "\n",
      "See the caveats in the documentation: https://pandas.pydata.org/pandas-docs/stable/user_guide/indexing.html#returning-a-view-versus-a-copy\n",
      "  at2011_ordered['GDP'] = at2011_ordered['GDP'].fillna(mean_gdp_2011)\n"
     ]
    }
   ],
   "source": [
    "at2011_ordered[column] = at2011_ordered[column].replace('..', np.nan)\n",
    "at2011_ordered[column] = at2011_ordered[column].apply(lambda x: pd.to_numeric(x, errors='coerce')).round(2)\n",
    "\n",
    "mean_gdp_2011 = at2011_ordered['GDP'].mean()\n",
    "at2011_ordered['GDP'] = at2011_ordered['GDP'].fillna(mean_gdp_2011)\n",
    "at2011_ordered['log_GDP'] = np.log(at2011_ordered['GDP'])\n",
    "at2011_ordered['log_trade_gdp_ratio'] = np.log(at2011_ordered['trade_gdp_ratio'])"
   ]
  },
  {
   "cell_type": "code",
   "execution_count": 351,
   "id": "8909b95a-8d73-480c-aa80-f720d42eda20",
   "metadata": {},
   "outputs": [
    {
     "name": "stdout",
     "output_type": "stream",
     "text": [
      "190\n",
      "{'MSR', 'TWN'}\n"
     ]
    }
   ],
   "source": [
    "x = set(at2011_ordered['iso_o'].unique()) & set(total_trade['iso_o'].unique())\n",
    "print(len(x))\n",
    "print(set(total_trade['iso_o'].unique()) - set(at2011_ordered['iso_o'].unique()))"
   ]
  },
  {
   "cell_type": "code",
   "execution_count": 352,
   "id": "ad9a3a8b-b01e-4f5c-b2da-87afc40d1d20",
   "metadata": {},
   "outputs": [],
   "source": [
    "at2011_ordered = at2011_ordered[at2011_ordered['iso_o'].isin(x)]\n",
    "at2011_ordered = at2011_ordered.reset_index(drop = True)"
   ]
  },
  {
   "cell_type": "code",
   "execution_count": 353,
   "id": "7c6f393f-508c-40a9-8931-7316f0c41d02",
   "metadata": {},
   "outputs": [
    {
     "data": {
      "text/html": [
       "<div>\n",
       "<style scoped>\n",
       "    .dataframe tbody tr th:only-of-type {\n",
       "        vertical-align: middle;\n",
       "    }\n",
       "\n",
       "    .dataframe tbody tr th {\n",
       "        vertical-align: top;\n",
       "    }\n",
       "\n",
       "    .dataframe thead th {\n",
       "        text-align: right;\n",
       "    }\n",
       "</style>\n",
       "<table border=\"1\" class=\"dataframe\">\n",
       "  <thead>\n",
       "    <tr style=\"text-align: right;\">\n",
       "      <th></th>\n",
       "      <th>iso_o</th>\n",
       "      <th>Country</th>\n",
       "      <th>Time</th>\n",
       "      <th>GDP</th>\n",
       "      <th>GDP_pct</th>\n",
       "      <th>population</th>\n",
       "      <th>trade_gdp_ratio</th>\n",
       "      <th>log_GDP</th>\n",
       "      <th>log_trade_gdp_ratio</th>\n",
       "    </tr>\n",
       "  </thead>\n",
       "  <tbody>\n",
       "    <tr>\n",
       "      <th>0</th>\n",
       "      <td>AFG</td>\n",
       "      <td>Afghanistan</td>\n",
       "      <td>2011</td>\n",
       "      <td>1.780510e+10</td>\n",
       "      <td>606.69</td>\n",
       "      <td>29347708.0</td>\n",
       "      <td>NaN</td>\n",
       "      <td>23.602751</td>\n",
       "      <td>NaN</td>\n",
       "    </tr>\n",
       "    <tr>\n",
       "      <th>1</th>\n",
       "      <td>ALB</td>\n",
       "      <td>Albania</td>\n",
       "      <td>2011</td>\n",
       "      <td>1.297376e+10</td>\n",
       "      <td>4465.71</td>\n",
       "      <td>2905195.0</td>\n",
       "      <td>80.70</td>\n",
       "      <td>23.286194</td>\n",
       "      <td>4.390739</td>\n",
       "    </tr>\n",
       "    <tr>\n",
       "      <th>2</th>\n",
       "      <td>DZA</td>\n",
       "      <td>Algeria</td>\n",
       "      <td>2011</td>\n",
       "      <td>2.183319e+11</td>\n",
       "      <td>5916.31</td>\n",
       "      <td>36903376.0</td>\n",
       "      <td>62.22</td>\n",
       "      <td>26.109282</td>\n",
       "      <td>4.130676</td>\n",
       "    </tr>\n",
       "    <tr>\n",
       "      <th>3</th>\n",
       "      <td>AND</td>\n",
       "      <td>Andorra</td>\n",
       "      <td>2011</td>\n",
       "      <td>3.629134e+09</td>\n",
       "      <td>46657.16</td>\n",
       "      <td>77783.0</td>\n",
       "      <td>NaN</td>\n",
       "      <td>22.012260</td>\n",
       "      <td>NaN</td>\n",
       "    </tr>\n",
       "    <tr>\n",
       "      <th>4</th>\n",
       "      <td>AGO</td>\n",
       "      <td>Angola</td>\n",
       "      <td>2011</td>\n",
       "      <td>1.117897e+11</td>\n",
       "      <td>4615.91</td>\n",
       "      <td>24218352.0</td>\n",
       "      <td>99.98</td>\n",
       "      <td>25.439886</td>\n",
       "      <td>4.604970</td>\n",
       "    </tr>\n",
       "  </tbody>\n",
       "</table>\n",
       "</div>"
      ],
      "text/plain": [
       "  iso_o      Country  Time           GDP   GDP_pct  population  \\\n",
       "0   AFG  Afghanistan  2011  1.780510e+10    606.69  29347708.0   \n",
       "1   ALB      Albania  2011  1.297376e+10   4465.71   2905195.0   \n",
       "2   DZA      Algeria  2011  2.183319e+11   5916.31  36903376.0   \n",
       "3   AND      Andorra  2011  3.629134e+09  46657.16     77783.0   \n",
       "4   AGO       Angola  2011  1.117897e+11   4615.91  24218352.0   \n",
       "\n",
       "   trade_gdp_ratio    log_GDP  log_trade_gdp_ratio  \n",
       "0              NaN  23.602751                  NaN  \n",
       "1            80.70  23.286194             4.390739  \n",
       "2            62.22  26.109282             4.130676  \n",
       "3              NaN  22.012260                  NaN  \n",
       "4            99.98  25.439886             4.604970  "
      ]
     },
     "execution_count": 353,
     "metadata": {},
     "output_type": "execute_result"
    }
   ],
   "source": [
    "at2011_ordered.head()"
   ]
  },
  {
   "cell_type": "markdown",
   "id": "6bf2b2e9-291c-4381-9c7c-38bbe743937f",
   "metadata": {},
   "source": [
    "### 2012"
   ]
  },
  {
   "cell_type": "code",
   "execution_count": 354,
   "id": "7e386945-1e33-4269-bbb8-5a6c0b63d965",
   "metadata": {},
   "outputs": [],
   "source": [
    "at2012 = pd.read_csv('../data/raw/211c33af-d726-4d73-8184-b4c3a1eb98a8_Data.csv')\n",
    "at2012_pruned = at2012.iloc[:265, :]"
   ]
  },
  {
   "cell_type": "code",
   "execution_count": 355,
   "id": "c797ff8e-b774-4a10-9fad-de201bd558e7",
   "metadata": {},
   "outputs": [],
   "source": [
    "at2012_pruned = at2012_pruned.rename(columns = {'Country Code': 'iso_o'})\n",
    "at2012_pruned = at2012_pruned.rename(columns = {'Country Name': 'Country'})\n",
    "at2012_pruned = at2012_pruned.rename(columns = {'GDP (current US$) [NY.GDP.MKTP.CD]': 'GDP'})\n",
    "at2012_pruned = at2012_pruned.rename(columns = {'GDP per capita (current US$) [NY.GDP.PCAP.CD]': 'GDP_pct'})\n",
    "at2012_pruned = at2012_pruned.rename(columns = {'Population, total [SP.POP.TOTL]': 'population'})\n",
    "at2012_pruned = at2012_pruned.rename(columns = {'Trade (% of GDP) [NE.TRD.GNFS.ZS]': 'trade_gdp_ratio'})"
   ]
  },
  {
   "cell_type": "code",
   "execution_count": 356,
   "id": "0921b41b-89a0-4a8b-b297-b0c6a75b125f",
   "metadata": {},
   "outputs": [],
   "source": [
    "at2012_ordered = at2012_pruned[['iso_o', 'Country', 'Time', 'GDP', 'GDP_pct', 'population', 'trade_gdp_ratio']]"
   ]
  },
  {
   "cell_type": "code",
   "execution_count": 357,
   "id": "30764f40-4699-409b-84f5-363b8e4418b2",
   "metadata": {},
   "outputs": [
    {
     "name": "stderr",
     "output_type": "stream",
     "text": [
      "C:\\Users\\Lenovo\\AppData\\Local\\Temp\\ipykernel_39028\\689241843.py:1: SettingWithCopyWarning: \n",
      "A value is trying to be set on a copy of a slice from a DataFrame.\n",
      "Try using .loc[row_indexer,col_indexer] = value instead\n",
      "\n",
      "See the caveats in the documentation: https://pandas.pydata.org/pandas-docs/stable/user_guide/indexing.html#returning-a-view-versus-a-copy\n",
      "  at2012_ordered[column] = at2012_ordered[column].replace('..', np.nan)\n",
      "C:\\Users\\Lenovo\\AppData\\Local\\Temp\\ipykernel_39028\\689241843.py:2: SettingWithCopyWarning: \n",
      "A value is trying to be set on a copy of a slice from a DataFrame.\n",
      "Try using .loc[row_indexer,col_indexer] = value instead\n",
      "\n",
      "See the caveats in the documentation: https://pandas.pydata.org/pandas-docs/stable/user_guide/indexing.html#returning-a-view-versus-a-copy\n",
      "  at2012_ordered[column] = at2012_ordered[column].apply(lambda x: pd.to_numeric(x, errors='coerce')).round(2)\n",
      "C:\\Users\\Lenovo\\AppData\\Local\\Temp\\ipykernel_39028\\689241843.py:5: SettingWithCopyWarning: \n",
      "A value is trying to be set on a copy of a slice from a DataFrame.\n",
      "Try using .loc[row_indexer,col_indexer] = value instead\n",
      "\n",
      "See the caveats in the documentation: https://pandas.pydata.org/pandas-docs/stable/user_guide/indexing.html#returning-a-view-versus-a-copy\n",
      "  at2012_ordered['GDP'] = at2012_ordered['GDP'].fillna(mean_gdp_2012)\n"
     ]
    }
   ],
   "source": [
    "at2012_ordered[column] = at2012_ordered[column].replace('..', np.nan)\n",
    "at2012_ordered[column] = at2012_ordered[column].apply(lambda x: pd.to_numeric(x, errors='coerce')).round(2)\n",
    "\n",
    "mean_gdp_2012 = at2012_ordered['GDP'].mean()\n",
    "at2012_ordered['GDP'] = at2012_ordered['GDP'].fillna(mean_gdp_2012)\n",
    "at2012_ordered['log_GDP'] = np.log(at2012_ordered['GDP'])\n",
    "at2012_ordered['log_trade_gdp_ratio'] = np.log(at2012_ordered['trade_gdp_ratio'])"
   ]
  },
  {
   "cell_type": "code",
   "execution_count": 358,
   "id": "d1dc5f55-1cd0-46bd-9e5f-c185698eefb5",
   "metadata": {},
   "outputs": [
    {
     "data": {
      "text/html": [
       "<div>\n",
       "<style scoped>\n",
       "    .dataframe tbody tr th:only-of-type {\n",
       "        vertical-align: middle;\n",
       "    }\n",
       "\n",
       "    .dataframe tbody tr th {\n",
       "        vertical-align: top;\n",
       "    }\n",
       "\n",
       "    .dataframe thead th {\n",
       "        text-align: right;\n",
       "    }\n",
       "</style>\n",
       "<table border=\"1\" class=\"dataframe\">\n",
       "  <thead>\n",
       "    <tr style=\"text-align: right;\">\n",
       "      <th></th>\n",
       "      <th>iso_o</th>\n",
       "      <th>Country</th>\n",
       "      <th>Time</th>\n",
       "      <th>GDP</th>\n",
       "      <th>GDP_pct</th>\n",
       "      <th>population</th>\n",
       "      <th>trade_gdp_ratio</th>\n",
       "      <th>log_GDP</th>\n",
       "      <th>log_trade_gdp_ratio</th>\n",
       "    </tr>\n",
       "  </thead>\n",
       "  <tbody>\n",
       "    <tr>\n",
       "      <th>0</th>\n",
       "      <td>AFG</td>\n",
       "      <td>Afghanistan</td>\n",
       "      <td>2012</td>\n",
       "      <td>1.990733e+10</td>\n",
       "      <td>651.42</td>\n",
       "      <td>30560034.0</td>\n",
       "      <td>NaN</td>\n",
       "      <td>23.714354</td>\n",
       "      <td>NaN</td>\n",
       "    </tr>\n",
       "    <tr>\n",
       "      <th>1</th>\n",
       "      <td>ALB</td>\n",
       "      <td>Albania</td>\n",
       "      <td>2012</td>\n",
       "      <td>1.224650e+10</td>\n",
       "      <td>4222.35</td>\n",
       "      <td>2900401.0</td>\n",
       "      <td>76.97</td>\n",
       "      <td>23.228506</td>\n",
       "      <td>4.343416</td>\n",
       "    </tr>\n",
       "  </tbody>\n",
       "</table>\n",
       "</div>"
      ],
      "text/plain": [
       "  iso_o      Country  Time           GDP  GDP_pct  population  \\\n",
       "0   AFG  Afghanistan  2012  1.990733e+10   651.42  30560034.0   \n",
       "1   ALB      Albania  2012  1.224650e+10  4222.35   2900401.0   \n",
       "\n",
       "   trade_gdp_ratio    log_GDP  log_trade_gdp_ratio  \n",
       "0              NaN  23.714354                  NaN  \n",
       "1            76.97  23.228506             4.343416  "
      ]
     },
     "execution_count": 358,
     "metadata": {},
     "output_type": "execute_result"
    }
   ],
   "source": [
    "at2012_ordered.head(2)"
   ]
  },
  {
   "cell_type": "code",
   "execution_count": 359,
   "id": "758700c5-90c1-4d1f-b649-045813c96407",
   "metadata": {},
   "outputs": [
    {
     "name": "stdout",
     "output_type": "stream",
     "text": [
      "190\n",
      "{'MSR', 'TWN'}\n"
     ]
    }
   ],
   "source": [
    "y = set(at2012_ordered['iso_o'].unique()) & set(total_trade['iso_o'].unique())\n",
    "print(len(y))\n",
    "print(set(total_trade['iso_o'].unique()) - set(at2012_ordered['iso_o'].unique()))"
   ]
  },
  {
   "cell_type": "code",
   "execution_count": 360,
   "id": "ce039266-b8aa-429d-adfd-f849a66bd613",
   "metadata": {},
   "outputs": [],
   "source": [
    "at2012_ordered = at2012_ordered[at2012_ordered['iso_o'].isin(x)]\n",
    "at2012_ordered = at2012_ordered.reset_index(drop = True)"
   ]
  },
  {
   "cell_type": "markdown",
   "id": "01233026-d893-40a9-ba37-68525ccd5f74",
   "metadata": {},
   "source": [
    "### 2013"
   ]
  },
  {
   "cell_type": "code",
   "execution_count": 361,
   "id": "041f45b2-513c-48b6-b527-e1b5fc552695",
   "metadata": {},
   "outputs": [],
   "source": [
    "at2013 = pd.read_csv('../data/raw/dcfb9366-1163-4249-82b1-10ee87141062_Data.csv')\n",
    "at2013_pruned = at2013.iloc[:265, :]"
   ]
  },
  {
   "cell_type": "code",
   "execution_count": 362,
   "id": "b972cb74-1448-46a1-803f-cdb4f373029b",
   "metadata": {},
   "outputs": [],
   "source": [
    "at2013_pruned = at2013_pruned.rename(columns = {'Country Code': 'iso_o'})\n",
    "at2013_pruned = at2013_pruned.rename(columns = {'Country Name': 'Country'})\n",
    "at2013_pruned = at2013_pruned.rename(columns = {'GDP (current US$) [NY.GDP.MKTP.CD]': 'GDP'})\n",
    "at2013_pruned = at2013_pruned.rename(columns = {'GDP per capita (current US$) [NY.GDP.PCAP.CD]': 'GDP_pct'})\n",
    "at2013_pruned = at2013_pruned.rename(columns = {'Population, total [SP.POP.TOTL]': 'population'})\n",
    "at2013_pruned = at2013_pruned.rename(columns = {'Trade (% of GDP) [NE.TRD.GNFS.ZS]': 'trade_gdp_ratio'})"
   ]
  },
  {
   "cell_type": "code",
   "execution_count": 363,
   "id": "80f23c81-3a6a-46b8-8538-27dd2f5e4840",
   "metadata": {},
   "outputs": [],
   "source": [
    "at2013_ordered = at2013_pruned[['iso_o', 'Country', 'Time', 'GDP', 'GDP_pct', 'population', 'trade_gdp_ratio']]"
   ]
  },
  {
   "cell_type": "code",
   "execution_count": 364,
   "id": "92f5e578-ed7a-49c8-8ae2-13787ccf54bb",
   "metadata": {},
   "outputs": [
    {
     "name": "stderr",
     "output_type": "stream",
     "text": [
      "C:\\Users\\Lenovo\\AppData\\Local\\Temp\\ipykernel_39028\\2338699018.py:1: SettingWithCopyWarning: \n",
      "A value is trying to be set on a copy of a slice from a DataFrame.\n",
      "Try using .loc[row_indexer,col_indexer] = value instead\n",
      "\n",
      "See the caveats in the documentation: https://pandas.pydata.org/pandas-docs/stable/user_guide/indexing.html#returning-a-view-versus-a-copy\n",
      "  at2013_ordered[column] = at2013_ordered[column].replace('..', np.nan)\n",
      "C:\\Users\\Lenovo\\AppData\\Local\\Temp\\ipykernel_39028\\2338699018.py:2: SettingWithCopyWarning: \n",
      "A value is trying to be set on a copy of a slice from a DataFrame.\n",
      "Try using .loc[row_indexer,col_indexer] = value instead\n",
      "\n",
      "See the caveats in the documentation: https://pandas.pydata.org/pandas-docs/stable/user_guide/indexing.html#returning-a-view-versus-a-copy\n",
      "  at2013_ordered[column] = at2013_ordered[column].apply(lambda x: pd.to_numeric(x, errors='coerce')).round(2)\n",
      "C:\\Users\\Lenovo\\AppData\\Local\\Temp\\ipykernel_39028\\2338699018.py:5: SettingWithCopyWarning: \n",
      "A value is trying to be set on a copy of a slice from a DataFrame.\n",
      "Try using .loc[row_indexer,col_indexer] = value instead\n",
      "\n",
      "See the caveats in the documentation: https://pandas.pydata.org/pandas-docs/stable/user_guide/indexing.html#returning-a-view-versus-a-copy\n",
      "  at2013_ordered['GDP'] = at2013_ordered['GDP'].fillna(mean_gdp_2013)\n"
     ]
    }
   ],
   "source": [
    "at2013_ordered[column] = at2013_ordered[column].replace('..', np.nan)\n",
    "at2013_ordered[column] = at2013_ordered[column].apply(lambda x: pd.to_numeric(x, errors='coerce')).round(2)\n",
    "\n",
    "mean_gdp_2013 = at2013_ordered['GDP'].mean()\n",
    "at2013_ordered['GDP'] = at2013_ordered['GDP'].fillna(mean_gdp_2013)\n",
    "at2013_ordered['log_GDP'] = np.log(at2013_ordered['GDP'])\n",
    "at2013_ordered['log_trade_gdp_ratio'] = np.log(at2013_ordered['trade_gdp_ratio'])"
   ]
  },
  {
   "cell_type": "code",
   "execution_count": 365,
   "id": "32258a1d-830d-4b3f-b495-984178d43ddb",
   "metadata": {},
   "outputs": [
    {
     "name": "stdout",
     "output_type": "stream",
     "text": [
      "190\n",
      "{'MSR', 'TWN'}\n"
     ]
    }
   ],
   "source": [
    "z = set(at2013_ordered['iso_o'].unique()) & set(total_trade['iso_o'].unique())\n",
    "print(len(z))\n",
    "print(set(total_trade['iso_o'].unique()) - set(at2013_ordered['iso_o'].unique()))"
   ]
  },
  {
   "cell_type": "code",
   "execution_count": 366,
   "id": "ee596c84-abfb-47fb-b849-ebb724ff710b",
   "metadata": {},
   "outputs": [],
   "source": [
    "at2013_ordered = at2013_ordered[at2013_ordered['iso_o'].isin(x)]\n",
    "at2013_ordered = at2013_ordered.reset_index(drop = True)"
   ]
  },
  {
   "cell_type": "code",
   "execution_count": 367,
   "id": "6f7263f6-fa5a-4846-bc24-5639beba8747",
   "metadata": {},
   "outputs": [
    {
     "data": {
      "text/html": [
       "<div>\n",
       "<style scoped>\n",
       "    .dataframe tbody tr th:only-of-type {\n",
       "        vertical-align: middle;\n",
       "    }\n",
       "\n",
       "    .dataframe tbody tr th {\n",
       "        vertical-align: top;\n",
       "    }\n",
       "\n",
       "    .dataframe thead th {\n",
       "        text-align: right;\n",
       "    }\n",
       "</style>\n",
       "<table border=\"1\" class=\"dataframe\">\n",
       "  <thead>\n",
       "    <tr style=\"text-align: right;\">\n",
       "      <th></th>\n",
       "      <th>iso_o</th>\n",
       "      <th>Country</th>\n",
       "      <th>Time</th>\n",
       "      <th>GDP</th>\n",
       "      <th>GDP_pct</th>\n",
       "      <th>population</th>\n",
       "      <th>trade_gdp_ratio</th>\n",
       "      <th>log_GDP</th>\n",
       "      <th>log_trade_gdp_ratio</th>\n",
       "    </tr>\n",
       "  </thead>\n",
       "  <tbody>\n",
       "    <tr>\n",
       "      <th>0</th>\n",
       "      <td>AFG</td>\n",
       "      <td>Afghanistan</td>\n",
       "      <td>2013</td>\n",
       "      <td>2.014642e+10</td>\n",
       "      <td>637.09</td>\n",
       "      <td>31622704.0</td>\n",
       "      <td>NaN</td>\n",
       "      <td>23.726292</td>\n",
       "      <td>NaN</td>\n",
       "    </tr>\n",
       "    <tr>\n",
       "      <th>1</th>\n",
       "      <td>ALB</td>\n",
       "      <td>Albania</td>\n",
       "      <td>2013</td>\n",
       "      <td>1.279699e+10</td>\n",
       "      <td>4420.23</td>\n",
       "      <td>2895092.0</td>\n",
       "      <td>75.75</td>\n",
       "      <td>23.272476</td>\n",
       "      <td>4.327438</td>\n",
       "    </tr>\n",
       "  </tbody>\n",
       "</table>\n",
       "</div>"
      ],
      "text/plain": [
       "  iso_o      Country  Time           GDP  GDP_pct  population  \\\n",
       "0   AFG  Afghanistan  2013  2.014642e+10   637.09  31622704.0   \n",
       "1   ALB      Albania  2013  1.279699e+10  4420.23   2895092.0   \n",
       "\n",
       "   trade_gdp_ratio    log_GDP  log_trade_gdp_ratio  \n",
       "0              NaN  23.726292                  NaN  \n",
       "1            75.75  23.272476             4.327438  "
      ]
     },
     "execution_count": 367,
     "metadata": {},
     "output_type": "execute_result"
    }
   ],
   "source": [
    "at2013_ordered.head(2)"
   ]
  },
  {
   "cell_type": "markdown",
   "id": "b4930d49-b10c-49e9-a16c-239a36c56937",
   "metadata": {},
   "source": [
    "### 2014"
   ]
  },
  {
   "cell_type": "code",
   "execution_count": 368,
   "id": "bbb07a68-c58a-4224-b773-1a782d96b79f",
   "metadata": {},
   "outputs": [],
   "source": [
    "at2014 = pd.read_csv('../data/raw/208001ea-808a-41e1-a6f5-b26df80309cd_Data.csv')\n",
    "at2014_pruned = at2014.iloc[:265, :]"
   ]
  },
  {
   "cell_type": "code",
   "execution_count": 369,
   "id": "9ab6e564-e918-4c57-9f88-37dfd2c03755",
   "metadata": {},
   "outputs": [],
   "source": [
    "at2014_pruned = at2014_pruned.rename(columns = {'Country Code': 'iso_o'})\n",
    "at2014_pruned = at2014_pruned.rename(columns = {'Country Name': 'Country'})\n",
    "at2014_pruned = at2014_pruned.rename(columns = {'GDP (current US$) [NY.GDP.MKTP.CD]': 'GDP'})\n",
    "at2014_pruned = at2014_pruned.rename(columns = {'GDP per capita (current US$) [NY.GDP.PCAP.CD]': 'GDP_pct'})\n",
    "at2014_pruned = at2014_pruned.rename(columns = {'Population, total [SP.POP.TOTL]': 'population'})\n",
    "at2014_pruned = at2014_pruned.rename(columns = {'Trade (% of GDP) [NE.TRD.GNFS.ZS]': 'trade_gdp_ratio'})"
   ]
  },
  {
   "cell_type": "code",
   "execution_count": 370,
   "id": "da4e65b4-9c5f-4472-aaff-45d2a3ff02c8",
   "metadata": {},
   "outputs": [],
   "source": [
    "at2014_ordered = at2014_pruned[['iso_o', 'Country', 'Time', 'GDP', 'GDP_pct', 'population', 'trade_gdp_ratio']]"
   ]
  },
  {
   "cell_type": "code",
   "execution_count": 371,
   "id": "54d1c7d2-65f4-4e22-b512-c0b233933f8b",
   "metadata": {},
   "outputs": [
    {
     "name": "stderr",
     "output_type": "stream",
     "text": [
      "C:\\Users\\Lenovo\\AppData\\Local\\Temp\\ipykernel_39028\\3350657363.py:1: SettingWithCopyWarning: \n",
      "A value is trying to be set on a copy of a slice from a DataFrame.\n",
      "Try using .loc[row_indexer,col_indexer] = value instead\n",
      "\n",
      "See the caveats in the documentation: https://pandas.pydata.org/pandas-docs/stable/user_guide/indexing.html#returning-a-view-versus-a-copy\n",
      "  at2014_ordered[column] = at2014_ordered[column].replace('..', np.nan)\n",
      "C:\\Users\\Lenovo\\AppData\\Local\\Temp\\ipykernel_39028\\3350657363.py:2: SettingWithCopyWarning: \n",
      "A value is trying to be set on a copy of a slice from a DataFrame.\n",
      "Try using .loc[row_indexer,col_indexer] = value instead\n",
      "\n",
      "See the caveats in the documentation: https://pandas.pydata.org/pandas-docs/stable/user_guide/indexing.html#returning-a-view-versus-a-copy\n",
      "  at2014_ordered[column] = at2014_ordered[column].apply(lambda x: pd.to_numeric(x, errors='coerce')).round(2)\n",
      "C:\\Users\\Lenovo\\AppData\\Local\\Temp\\ipykernel_39028\\3350657363.py:5: SettingWithCopyWarning: \n",
      "A value is trying to be set on a copy of a slice from a DataFrame.\n",
      "Try using .loc[row_indexer,col_indexer] = value instead\n",
      "\n",
      "See the caveats in the documentation: https://pandas.pydata.org/pandas-docs/stable/user_guide/indexing.html#returning-a-view-versus-a-copy\n",
      "  at2014_ordered['GDP'] = at2014_ordered['GDP'].fillna(mean_gdp_2014)\n"
     ]
    }
   ],
   "source": [
    "at2014_ordered[column] = at2014_ordered[column].replace('..', np.nan)\n",
    "at2014_ordered[column] = at2014_ordered[column].apply(lambda x: pd.to_numeric(x, errors='coerce')).round(2)\n",
    "\n",
    "mean_gdp_2014 = at2014_ordered['GDP'].mean()\n",
    "at2014_ordered['GDP'] = at2014_ordered['GDP'].fillna(mean_gdp_2014)\n",
    "at2014_ordered['log_GDP'] = np.log(at2014_ordered['GDP'])\n",
    "at2014_ordered['log_trade_gdp_ratio'] = np.log(at2014_ordered['trade_gdp_ratio'])"
   ]
  },
  {
   "cell_type": "code",
   "execution_count": 372,
   "id": "75eeb344-e812-40bb-a3ac-684d8ac49c5a",
   "metadata": {},
   "outputs": [
    {
     "name": "stdout",
     "output_type": "stream",
     "text": [
      "190\n",
      "{'MSR', 'TWN'}\n"
     ]
    }
   ],
   "source": [
    "a = set(at2014_ordered['iso_o'].unique()) & set(total_trade['iso_o'].unique())\n",
    "print(len(a))\n",
    "print(set(total_trade['iso_o'].unique()) - set(at2014_ordered['iso_o'].unique()))"
   ]
  },
  {
   "cell_type": "code",
   "execution_count": 373,
   "id": "fae440e1-01ab-49d1-a368-12c0e50b926a",
   "metadata": {},
   "outputs": [],
   "source": [
    "at2014_ordered = at2014_ordered[at2014_ordered['iso_o'].isin(a)]\n",
    "at2014_ordered = at2014_ordered.reset_index(drop = True)"
   ]
  },
  {
   "cell_type": "code",
   "execution_count": 374,
   "id": "1d556a49-9809-46a9-a91c-db55d664a691",
   "metadata": {},
   "outputs": [
    {
     "data": {
      "text/html": [
       "<div>\n",
       "<style scoped>\n",
       "    .dataframe tbody tr th:only-of-type {\n",
       "        vertical-align: middle;\n",
       "    }\n",
       "\n",
       "    .dataframe tbody tr th {\n",
       "        vertical-align: top;\n",
       "    }\n",
       "\n",
       "    .dataframe thead th {\n",
       "        text-align: right;\n",
       "    }\n",
       "</style>\n",
       "<table border=\"1\" class=\"dataframe\">\n",
       "  <thead>\n",
       "    <tr style=\"text-align: right;\">\n",
       "      <th></th>\n",
       "      <th>iso_o</th>\n",
       "      <th>Country</th>\n",
       "      <th>Time</th>\n",
       "      <th>GDP</th>\n",
       "      <th>GDP_pct</th>\n",
       "      <th>population</th>\n",
       "      <th>trade_gdp_ratio</th>\n",
       "      <th>log_GDP</th>\n",
       "      <th>log_trade_gdp_ratio</th>\n",
       "    </tr>\n",
       "  </thead>\n",
       "  <tbody>\n",
       "    <tr>\n",
       "      <th>0</th>\n",
       "      <td>AFG</td>\n",
       "      <td>Afghanistan</td>\n",
       "      <td>2014</td>\n",
       "      <td>2.049713e+10</td>\n",
       "      <td>625.05</td>\n",
       "      <td>32792523.0</td>\n",
       "      <td>NaN</td>\n",
       "      <td>23.743551</td>\n",
       "      <td>NaN</td>\n",
       "    </tr>\n",
       "    <tr>\n",
       "      <th>1</th>\n",
       "      <td>ALB</td>\n",
       "      <td>Albania</td>\n",
       "      <td>2014</td>\n",
       "      <td>1.329632e+10</td>\n",
       "      <td>4602.23</td>\n",
       "      <td>2889104.0</td>\n",
       "      <td>75.02</td>\n",
       "      <td>23.310753</td>\n",
       "      <td>4.317755</td>\n",
       "    </tr>\n",
       "    <tr>\n",
       "      <th>2</th>\n",
       "      <td>DZA</td>\n",
       "      <td>Algeria</td>\n",
       "      <td>2014</td>\n",
       "      <td>2.389427e+11</td>\n",
       "      <td>6094.69</td>\n",
       "      <td>39205031.0</td>\n",
       "      <td>56.92</td>\n",
       "      <td>26.199489</td>\n",
       "      <td>4.041647</td>\n",
       "    </tr>\n",
       "  </tbody>\n",
       "</table>\n",
       "</div>"
      ],
      "text/plain": [
       "  iso_o      Country  Time           GDP  GDP_pct  population  \\\n",
       "0   AFG  Afghanistan  2014  2.049713e+10   625.05  32792523.0   \n",
       "1   ALB      Albania  2014  1.329632e+10  4602.23   2889104.0   \n",
       "2   DZA      Algeria  2014  2.389427e+11  6094.69  39205031.0   \n",
       "\n",
       "   trade_gdp_ratio    log_GDP  log_trade_gdp_ratio  \n",
       "0              NaN  23.743551                  NaN  \n",
       "1            75.02  23.310753             4.317755  \n",
       "2            56.92  26.199489             4.041647  "
      ]
     },
     "execution_count": 374,
     "metadata": {},
     "output_type": "execute_result"
    }
   ],
   "source": [
    "at2014_ordered.head(3)"
   ]
  },
  {
   "cell_type": "markdown",
   "id": "a38871bf-4c58-442b-93f0-98c0fbafd7c3",
   "metadata": {},
   "source": [
    "### 2015"
   ]
  },
  {
   "cell_type": "code",
   "execution_count": 375,
   "id": "72702b08-2b28-4a36-ba42-87fbf393c966",
   "metadata": {},
   "outputs": [],
   "source": [
    "at2015 = pd.read_csv('../data/raw/edbff4cc-3f9d-4141-81d0-e8217df7ac6e_Data.csv')\n",
    "at2015_pruned = at2015.iloc[:265, :]"
   ]
  },
  {
   "cell_type": "code",
   "execution_count": 376,
   "id": "afdfff6a-96b4-4235-94c8-0c1ed5ef20c2",
   "metadata": {},
   "outputs": [],
   "source": [
    "at2015_pruned = at2015_pruned.rename(columns = {'Country Code': 'iso_o'})\n",
    "at2015_pruned = at2015_pruned.rename(columns = {'Country Name': 'Country'})\n",
    "at2015_pruned = at2015_pruned.rename(columns = {'GDP (current US$) [NY.GDP.MKTP.CD]': 'GDP'})\n",
    "at2015_pruned = at2015_pruned.rename(columns = {'GDP per capita (current US$) [NY.GDP.PCAP.CD]': 'GDP_pct'})\n",
    "at2015_pruned = at2015_pruned.rename(columns = {'Population, total [SP.POP.TOTL]': 'population'})\n",
    "at2015_pruned = at2015_pruned.rename(columns = {'Trade (% of GDP) [NE.TRD.GNFS.ZS]': 'trade_gdp_ratio'})"
   ]
  },
  {
   "cell_type": "code",
   "execution_count": 377,
   "id": "652d443c-25ac-406c-a36b-95003584001c",
   "metadata": {},
   "outputs": [],
   "source": [
    "at2015_ordered = at2015_pruned[['iso_o', 'Country', 'Time', 'GDP', 'GDP_pct', 'population', 'trade_gdp_ratio']]"
   ]
  },
  {
   "cell_type": "code",
   "execution_count": 378,
   "id": "cd87e146-598c-447b-96af-f17838d7add7",
   "metadata": {},
   "outputs": [
    {
     "name": "stderr",
     "output_type": "stream",
     "text": [
      "C:\\Users\\Lenovo\\AppData\\Local\\Temp\\ipykernel_39028\\1883221907.py:1: SettingWithCopyWarning: \n",
      "A value is trying to be set on a copy of a slice from a DataFrame.\n",
      "Try using .loc[row_indexer,col_indexer] = value instead\n",
      "\n",
      "See the caveats in the documentation: https://pandas.pydata.org/pandas-docs/stable/user_guide/indexing.html#returning-a-view-versus-a-copy\n",
      "  at2015_ordered[column] = at2015_ordered[column].replace('..', np.nan)\n",
      "C:\\Users\\Lenovo\\AppData\\Local\\Temp\\ipykernel_39028\\1883221907.py:2: SettingWithCopyWarning: \n",
      "A value is trying to be set on a copy of a slice from a DataFrame.\n",
      "Try using .loc[row_indexer,col_indexer] = value instead\n",
      "\n",
      "See the caveats in the documentation: https://pandas.pydata.org/pandas-docs/stable/user_guide/indexing.html#returning-a-view-versus-a-copy\n",
      "  at2015_ordered[column] = at2015_ordered[column].apply(lambda x: pd.to_numeric(x, errors='coerce')).round(2)\n",
      "C:\\Users\\Lenovo\\AppData\\Local\\Temp\\ipykernel_39028\\1883221907.py:5: SettingWithCopyWarning: \n",
      "A value is trying to be set on a copy of a slice from a DataFrame.\n",
      "Try using .loc[row_indexer,col_indexer] = value instead\n",
      "\n",
      "See the caveats in the documentation: https://pandas.pydata.org/pandas-docs/stable/user_guide/indexing.html#returning-a-view-versus-a-copy\n",
      "  at2015_ordered['GDP'] = at2015_ordered['GDP'].fillna(mean_gdp_2015)\n"
     ]
    }
   ],
   "source": [
    "at2015_ordered[column] = at2015_ordered[column].replace('..', np.nan)\n",
    "at2015_ordered[column] = at2015_ordered[column].apply(lambda x: pd.to_numeric(x, errors='coerce')).round(2)\n",
    "\n",
    "mean_gdp_2015 = at2015_ordered['GDP'].mean()\n",
    "at2015_ordered['GDP'] = at2015_ordered['GDP'].fillna(mean_gdp_2015)\n",
    "at2015_ordered['log_GDP'] = np.log(at2015_ordered['GDP'])\n",
    "at2015_ordered['log_trade_gdp_ratio'] = np.log(at2015_ordered['trade_gdp_ratio'])"
   ]
  },
  {
   "cell_type": "code",
   "execution_count": 379,
   "id": "e0b9f988-186f-4dfe-a47f-d925da8d49db",
   "metadata": {},
   "outputs": [
    {
     "name": "stdout",
     "output_type": "stream",
     "text": [
      "190\n",
      "{'MSR', 'TWN'}\n"
     ]
    }
   ],
   "source": [
    "b = set(at2015_ordered['iso_o'].unique()) & set(total_trade['iso_o'].unique())\n",
    "print(len(b))\n",
    "print(set(total_trade['iso_o'].unique()) - set(at2015_ordered['iso_o'].unique()))"
   ]
  },
  {
   "cell_type": "code",
   "execution_count": 380,
   "id": "c130c0ab-487f-49d3-bb57-0f686562d70f",
   "metadata": {},
   "outputs": [],
   "source": [
    "at2015_ordered = at2015_ordered[at2015_ordered['iso_o'].isin(b)]\n",
    "at2015_ordered = at2015_ordered.reset_index(drop = True)"
   ]
  },
  {
   "cell_type": "code",
   "execution_count": 381,
   "id": "959275b3-93ce-4b8e-a937-9cd990b4d3fa",
   "metadata": {},
   "outputs": [
    {
     "data": {
      "text/html": [
       "<div>\n",
       "<style scoped>\n",
       "    .dataframe tbody tr th:only-of-type {\n",
       "        vertical-align: middle;\n",
       "    }\n",
       "\n",
       "    .dataframe tbody tr th {\n",
       "        vertical-align: top;\n",
       "    }\n",
       "\n",
       "    .dataframe thead th {\n",
       "        text-align: right;\n",
       "    }\n",
       "</style>\n",
       "<table border=\"1\" class=\"dataframe\">\n",
       "  <thead>\n",
       "    <tr style=\"text-align: right;\">\n",
       "      <th></th>\n",
       "      <th>iso_o</th>\n",
       "      <th>Country</th>\n",
       "      <th>Time</th>\n",
       "      <th>GDP</th>\n",
       "      <th>GDP_pct</th>\n",
       "      <th>population</th>\n",
       "      <th>trade_gdp_ratio</th>\n",
       "      <th>log_GDP</th>\n",
       "      <th>log_trade_gdp_ratio</th>\n",
       "    </tr>\n",
       "  </thead>\n",
       "  <tbody>\n",
       "    <tr>\n",
       "      <th>0</th>\n",
       "      <td>AFG</td>\n",
       "      <td>Afghanistan</td>\n",
       "      <td>2015</td>\n",
       "      <td>1.913422e+10</td>\n",
       "      <td>565.57</td>\n",
       "      <td>33831764.0</td>\n",
       "      <td>NaN</td>\n",
       "      <td>23.674744</td>\n",
       "      <td>NaN</td>\n",
       "    </tr>\n",
       "    <tr>\n",
       "      <th>1</th>\n",
       "      <td>ALB</td>\n",
       "      <td>Albania</td>\n",
       "      <td>2015</td>\n",
       "      <td>1.147017e+10</td>\n",
       "      <td>3981.73</td>\n",
       "      <td>2880703.0</td>\n",
       "      <td>71.28</td>\n",
       "      <td>23.163016</td>\n",
       "      <td>4.266616</td>\n",
       "    </tr>\n",
       "    <tr>\n",
       "      <th>2</th>\n",
       "      <td>DZA</td>\n",
       "      <td>Algeria</td>\n",
       "      <td>2015</td>\n",
       "      <td>1.874939e+11</td>\n",
       "      <td>4685.06</td>\n",
       "      <td>40019529.0</td>\n",
       "      <td>53.20</td>\n",
       "      <td>25.957012</td>\n",
       "      <td>3.974058</td>\n",
       "    </tr>\n",
       "  </tbody>\n",
       "</table>\n",
       "</div>"
      ],
      "text/plain": [
       "  iso_o      Country  Time           GDP  GDP_pct  population  \\\n",
       "0   AFG  Afghanistan  2015  1.913422e+10   565.57  33831764.0   \n",
       "1   ALB      Albania  2015  1.147017e+10  3981.73   2880703.0   \n",
       "2   DZA      Algeria  2015  1.874939e+11  4685.06  40019529.0   \n",
       "\n",
       "   trade_gdp_ratio    log_GDP  log_trade_gdp_ratio  \n",
       "0              NaN  23.674744                  NaN  \n",
       "1            71.28  23.163016             4.266616  \n",
       "2            53.20  25.957012             3.974058  "
      ]
     },
     "execution_count": 381,
     "metadata": {},
     "output_type": "execute_result"
    }
   ],
   "source": [
    "at2015_ordered.head(3)"
   ]
  },
  {
   "cell_type": "markdown",
   "id": "6a135cde-9b2b-4363-93bc-b888dd1f5d01",
   "metadata": {},
   "source": [
    "### 2016"
   ]
  },
  {
   "cell_type": "code",
   "execution_count": 382,
   "id": "0d2b35e1-41ce-493d-8e20-8f7dfef2b84c",
   "metadata": {},
   "outputs": [],
   "source": [
    "at2016 = pd.read_csv('../data/raw/db97317f-3a63-42d8-ab78-5156a215931d_Data.csv')\n",
    "at2016_pruned = at2016.iloc[:265, :]"
   ]
  },
  {
   "cell_type": "code",
   "execution_count": 383,
   "id": "e325fc78-f812-412b-b3e7-46985082eecb",
   "metadata": {},
   "outputs": [],
   "source": [
    "at2016_pruned = at2016_pruned.rename(columns = {'Country Code': 'iso_o'})\n",
    "at2016_pruned = at2016_pruned.rename(columns = {'Country Name': 'Country'})\n",
    "at2016_pruned = at2016_pruned.rename(columns = {'GDP (current US$) [NY.GDP.MKTP.CD]': 'GDP'})\n",
    "at2016_pruned = at2016_pruned.rename(columns = {'GDP per capita (current US$) [NY.GDP.PCAP.CD]': 'GDP_pct'})\n",
    "at2016_pruned = at2016_pruned.rename(columns = {'Population, total [SP.POP.TOTL]': 'population'})\n",
    "at2016_pruned = at2016_pruned.rename(columns = {'Trade (% of GDP) [NE.TRD.GNFS.ZS]': 'trade_gdp_ratio'})"
   ]
  },
  {
   "cell_type": "code",
   "execution_count": 384,
   "id": "6331c105-f20f-4c0f-9f3f-1ba6efc5893c",
   "metadata": {},
   "outputs": [],
   "source": [
    "at2016_ordered = at2016_pruned[['iso_o', 'Country', 'Time', 'GDP', 'GDP_pct', 'population', 'trade_gdp_ratio']]"
   ]
  },
  {
   "cell_type": "code",
   "execution_count": 385,
   "id": "00b006f7-fa28-45f2-a814-5d8bdcd86017",
   "metadata": {},
   "outputs": [
    {
     "name": "stderr",
     "output_type": "stream",
     "text": [
      "C:\\Users\\Lenovo\\AppData\\Local\\Temp\\ipykernel_39028\\3648576137.py:1: SettingWithCopyWarning: \n",
      "A value is trying to be set on a copy of a slice from a DataFrame.\n",
      "Try using .loc[row_indexer,col_indexer] = value instead\n",
      "\n",
      "See the caveats in the documentation: https://pandas.pydata.org/pandas-docs/stable/user_guide/indexing.html#returning-a-view-versus-a-copy\n",
      "  at2016_ordered[column] = at2016_ordered[column].replace('..', np.nan)\n",
      "C:\\Users\\Lenovo\\AppData\\Local\\Temp\\ipykernel_39028\\3648576137.py:2: SettingWithCopyWarning: \n",
      "A value is trying to be set on a copy of a slice from a DataFrame.\n",
      "Try using .loc[row_indexer,col_indexer] = value instead\n",
      "\n",
      "See the caveats in the documentation: https://pandas.pydata.org/pandas-docs/stable/user_guide/indexing.html#returning-a-view-versus-a-copy\n",
      "  at2016_ordered[column] = at2016_ordered[column].apply(lambda x: pd.to_numeric(x, errors='coerce')).round(2)\n",
      "C:\\Users\\Lenovo\\AppData\\Local\\Temp\\ipykernel_39028\\3648576137.py:5: SettingWithCopyWarning: \n",
      "A value is trying to be set on a copy of a slice from a DataFrame.\n",
      "Try using .loc[row_indexer,col_indexer] = value instead\n",
      "\n",
      "See the caveats in the documentation: https://pandas.pydata.org/pandas-docs/stable/user_guide/indexing.html#returning-a-view-versus-a-copy\n",
      "  at2016_ordered['GDP'] = at2016_ordered['GDP'].fillna(mean_gdp_2016)\n"
     ]
    }
   ],
   "source": [
    "at2016_ordered[column] = at2016_ordered[column].replace('..', np.nan)\n",
    "at2016_ordered[column] = at2016_ordered[column].apply(lambda x: pd.to_numeric(x, errors='coerce')).round(2)\n",
    "\n",
    "mean_gdp_2016 = at2016_ordered['GDP'].mean()\n",
    "at2016_ordered['GDP'] = at2016_ordered['GDP'].fillna(mean_gdp_2016)\n",
    "at2016_ordered['log_GDP'] = np.log(at2016_ordered['GDP'])\n",
    "at2016_ordered['log_trade_gdp_ratio'] = np.log(at2016_ordered['trade_gdp_ratio'])"
   ]
  },
  {
   "cell_type": "code",
   "execution_count": 386,
   "id": "9fa1f0cf-67c5-4c9b-85b1-0a3c33d387df",
   "metadata": {},
   "outputs": [
    {
     "data": {
      "text/plain": [
       "(265, 9)"
      ]
     },
     "execution_count": 386,
     "metadata": {},
     "output_type": "execute_result"
    }
   ],
   "source": [
    "at2016_ordered.shape"
   ]
  },
  {
   "cell_type": "code",
   "execution_count": 387,
   "id": "bd417781-3550-4b3c-a88c-f72a1422f8e3",
   "metadata": {},
   "outputs": [
    {
     "name": "stdout",
     "output_type": "stream",
     "text": [
      "190\n",
      "{'MSR', 'TWN'}\n"
     ]
    }
   ],
   "source": [
    "c = set(at2016_ordered['iso_o'].unique()) & set(total_trade['iso_o'].unique())\n",
    "print(len(c))\n",
    "print(set(total_trade['iso_o'].unique()) - set(at2016_ordered['iso_o'].unique()))"
   ]
  },
  {
   "cell_type": "code",
   "execution_count": 388,
   "id": "405ea193-1f3d-4ad0-b71a-a83376492e95",
   "metadata": {},
   "outputs": [],
   "source": [
    "at2016_ordered = at2016_ordered[at2016_ordered['iso_o'].isin(c)]\n",
    "at2016_ordered = at2016_ordered.reset_index(drop = True)"
   ]
  },
  {
   "cell_type": "code",
   "execution_count": 389,
   "id": "1c3b9f67-d27c-44e0-b139-b2f8fc921121",
   "metadata": {},
   "outputs": [
    {
     "data": {
      "text/html": [
       "<div>\n",
       "<style scoped>\n",
       "    .dataframe tbody tr th:only-of-type {\n",
       "        vertical-align: middle;\n",
       "    }\n",
       "\n",
       "    .dataframe tbody tr th {\n",
       "        vertical-align: top;\n",
       "    }\n",
       "\n",
       "    .dataframe thead th {\n",
       "        text-align: right;\n",
       "    }\n",
       "</style>\n",
       "<table border=\"1\" class=\"dataframe\">\n",
       "  <thead>\n",
       "    <tr style=\"text-align: right;\">\n",
       "      <th></th>\n",
       "      <th>iso_o</th>\n",
       "      <th>Country</th>\n",
       "      <th>Time</th>\n",
       "      <th>GDP</th>\n",
       "      <th>GDP_pct</th>\n",
       "      <th>population</th>\n",
       "      <th>trade_gdp_ratio</th>\n",
       "      <th>log_GDP</th>\n",
       "      <th>log_trade_gdp_ratio</th>\n",
       "    </tr>\n",
       "  </thead>\n",
       "  <tbody>\n",
       "    <tr>\n",
       "      <th>0</th>\n",
       "      <td>AFG</td>\n",
       "      <td>Afghanistan</td>\n",
       "      <td>2016</td>\n",
       "      <td>1.811657e+10</td>\n",
       "      <td>522.08</td>\n",
       "      <td>34700612.0</td>\n",
       "      <td>NaN</td>\n",
       "      <td>23.620093</td>\n",
       "      <td>NaN</td>\n",
       "    </tr>\n",
       "    <tr>\n",
       "      <th>1</th>\n",
       "      <td>ALB</td>\n",
       "      <td>Albania</td>\n",
       "      <td>2016</td>\n",
       "      <td>1.198867e+10</td>\n",
       "      <td>4168.38</td>\n",
       "      <td>2876101.0</td>\n",
       "      <td>74.01</td>\n",
       "      <td>23.207228</td>\n",
       "      <td>4.304200</td>\n",
       "    </tr>\n",
       "    <tr>\n",
       "      <th>2</th>\n",
       "      <td>DZA</td>\n",
       "      <td>Algeria</td>\n",
       "      <td>2016</td>\n",
       "      <td>1.807638e+11</td>\n",
       "      <td>4424.99</td>\n",
       "      <td>40850721.0</td>\n",
       "      <td>49.76</td>\n",
       "      <td>25.920457</td>\n",
       "      <td>3.907211</td>\n",
       "    </tr>\n",
       "  </tbody>\n",
       "</table>\n",
       "</div>"
      ],
      "text/plain": [
       "  iso_o      Country  Time           GDP  GDP_pct  population  \\\n",
       "0   AFG  Afghanistan  2016  1.811657e+10   522.08  34700612.0   \n",
       "1   ALB      Albania  2016  1.198867e+10  4168.38   2876101.0   \n",
       "2   DZA      Algeria  2016  1.807638e+11  4424.99  40850721.0   \n",
       "\n",
       "   trade_gdp_ratio    log_GDP  log_trade_gdp_ratio  \n",
       "0              NaN  23.620093                  NaN  \n",
       "1            74.01  23.207228             4.304200  \n",
       "2            49.76  25.920457             3.907211  "
      ]
     },
     "execution_count": 389,
     "metadata": {},
     "output_type": "execute_result"
    }
   ],
   "source": [
    "at2016_ordered.head(3)"
   ]
  },
  {
   "cell_type": "markdown",
   "id": "b548c46d-6c45-4b86-a31e-6cd04fd68230",
   "metadata": {},
   "source": [
    "### 2017"
   ]
  },
  {
   "cell_type": "code",
   "execution_count": 390,
   "id": "00dd8440-05e0-4059-827e-822e25efb528",
   "metadata": {},
   "outputs": [],
   "source": [
    "at2017 = pd.read_csv('../data/raw/358bd016-ff18-4e14-99cf-fff07cb91245_Data.csv')\n",
    "at2017_pruned = at2017.iloc[:265, :]"
   ]
  },
  {
   "cell_type": "code",
   "execution_count": 391,
   "id": "98c6c861-0659-4dda-8679-3a984d4c1b03",
   "metadata": {},
   "outputs": [],
   "source": [
    "at2017_pruned = at2017_pruned.rename(columns = {'Country Code': 'iso_o'})\n",
    "at2017_pruned = at2017_pruned.rename(columns = {'Country Name': 'Country'})\n",
    "at2017_pruned = at2017_pruned.rename(columns = {'GDP (current US$) [NY.GDP.MKTP.CD]': 'GDP'})\n",
    "at2017_pruned = at2017_pruned.rename(columns = {'GDP per capita (current US$) [NY.GDP.PCAP.CD]': 'GDP_pct'})\n",
    "at2017_pruned = at2017_pruned.rename(columns = {'Population, total [SP.POP.TOTL]': 'population'})\n",
    "at2017_pruned = at2017_pruned.rename(columns = {'Trade (% of GDP) [NE.TRD.GNFS.ZS]': 'trade_gdp_ratio'})"
   ]
  },
  {
   "cell_type": "code",
   "execution_count": 392,
   "id": "86f465f2-0641-471e-930e-00b2fa1ea813",
   "metadata": {},
   "outputs": [],
   "source": [
    "at2017_ordered = at2017_pruned[['iso_o', 'Country', 'Time', 'GDP', 'GDP_pct', 'population', 'trade_gdp_ratio']]"
   ]
  },
  {
   "cell_type": "code",
   "execution_count": 393,
   "id": "ffe94056-9849-4c7c-bbfc-739c95008432",
   "metadata": {},
   "outputs": [
    {
     "name": "stderr",
     "output_type": "stream",
     "text": [
      "C:\\Users\\Lenovo\\AppData\\Local\\Temp\\ipykernel_39028\\1999543647.py:1: SettingWithCopyWarning: \n",
      "A value is trying to be set on a copy of a slice from a DataFrame.\n",
      "Try using .loc[row_indexer,col_indexer] = value instead\n",
      "\n",
      "See the caveats in the documentation: https://pandas.pydata.org/pandas-docs/stable/user_guide/indexing.html#returning-a-view-versus-a-copy\n",
      "  at2017_ordered[column] = at2017_ordered[column].replace('..', np.nan)\n",
      "C:\\Users\\Lenovo\\AppData\\Local\\Temp\\ipykernel_39028\\1999543647.py:2: SettingWithCopyWarning: \n",
      "A value is trying to be set on a copy of a slice from a DataFrame.\n",
      "Try using .loc[row_indexer,col_indexer] = value instead\n",
      "\n",
      "See the caveats in the documentation: https://pandas.pydata.org/pandas-docs/stable/user_guide/indexing.html#returning-a-view-versus-a-copy\n",
      "  at2017_ordered[column] = at2017_ordered[column].apply(lambda x: pd.to_numeric(x, errors='coerce')).round(2)\n",
      "C:\\Users\\Lenovo\\AppData\\Local\\Temp\\ipykernel_39028\\1999543647.py:5: SettingWithCopyWarning: \n",
      "A value is trying to be set on a copy of a slice from a DataFrame.\n",
      "Try using .loc[row_indexer,col_indexer] = value instead\n",
      "\n",
      "See the caveats in the documentation: https://pandas.pydata.org/pandas-docs/stable/user_guide/indexing.html#returning-a-view-versus-a-copy\n",
      "  at2017_ordered['GDP'] = at2017_ordered['GDP'].fillna(mean_gdp_2017)\n"
     ]
    }
   ],
   "source": [
    "at2017_ordered[column] = at2017_ordered[column].replace('..', np.nan)\n",
    "at2017_ordered[column] = at2017_ordered[column].apply(lambda x: pd.to_numeric(x, errors='coerce')).round(2)\n",
    "\n",
    "mean_gdp_2017 = at2017_ordered['GDP'].mean()\n",
    "at2017_ordered['GDP'] = at2017_ordered['GDP'].fillna(mean_gdp_2017)\n",
    "at2017_ordered['log_GDP'] = np.log(at2017_ordered['GDP'])\n",
    "at2017_ordered['log_trade_gdp_ratio'] = np.log(at2017_ordered['trade_gdp_ratio'])"
   ]
  },
  {
   "cell_type": "code",
   "execution_count": 394,
   "id": "e0873325-0a5a-4399-b7ff-8e5d7ff9b55d",
   "metadata": {},
   "outputs": [
    {
     "name": "stdout",
     "output_type": "stream",
     "text": [
      "190\n",
      "{'MSR', 'TWN'}\n"
     ]
    }
   ],
   "source": [
    "d = set(at2017_ordered['iso_o'].unique()) & set(total_trade['iso_o'].unique())\n",
    "print(len(d))\n",
    "print(set(total_trade['iso_o'].unique()) - set(at2017_ordered['iso_o'].unique()))"
   ]
  },
  {
   "cell_type": "code",
   "execution_count": 395,
   "id": "845753e2-036d-4c26-be32-211c3a1a1b66",
   "metadata": {},
   "outputs": [],
   "source": [
    "at2017_ordered = at2017_ordered[at2017_ordered['iso_o'].isin(d)]\n",
    "at2017_ordered = at2017_ordered.reset_index(drop = True)"
   ]
  },
  {
   "cell_type": "code",
   "execution_count": 396,
   "id": "021cf6ca-65bd-4262-9ca5-5a739fee7071",
   "metadata": {},
   "outputs": [
    {
     "data": {
      "text/html": [
       "<div>\n",
       "<style scoped>\n",
       "    .dataframe tbody tr th:only-of-type {\n",
       "        vertical-align: middle;\n",
       "    }\n",
       "\n",
       "    .dataframe tbody tr th {\n",
       "        vertical-align: top;\n",
       "    }\n",
       "\n",
       "    .dataframe thead th {\n",
       "        text-align: right;\n",
       "    }\n",
       "</style>\n",
       "<table border=\"1\" class=\"dataframe\">\n",
       "  <thead>\n",
       "    <tr style=\"text-align: right;\">\n",
       "      <th></th>\n",
       "      <th>iso_o</th>\n",
       "      <th>Country</th>\n",
       "      <th>Time</th>\n",
       "      <th>GDP</th>\n",
       "      <th>GDP_pct</th>\n",
       "      <th>population</th>\n",
       "      <th>trade_gdp_ratio</th>\n",
       "      <th>log_GDP</th>\n",
       "      <th>log_trade_gdp_ratio</th>\n",
       "    </tr>\n",
       "  </thead>\n",
       "  <tbody>\n",
       "    <tr>\n",
       "      <th>0</th>\n",
       "      <td>AFG</td>\n",
       "      <td>Afghanistan</td>\n",
       "      <td>2017</td>\n",
       "      <td>1.875346e+10</td>\n",
       "      <td>525.47</td>\n",
       "      <td>35688935.0</td>\n",
       "      <td>NaN</td>\n",
       "      <td>23.654644</td>\n",
       "      <td>NaN</td>\n",
       "    </tr>\n",
       "    <tr>\n",
       "      <th>1</th>\n",
       "      <td>ALB</td>\n",
       "      <td>Albania</td>\n",
       "      <td>2017</td>\n",
       "      <td>1.325827e+10</td>\n",
       "      <td>4614.05</td>\n",
       "      <td>2873457.0</td>\n",
       "      <td>76.79</td>\n",
       "      <td>23.307887</td>\n",
       "      <td>4.341074</td>\n",
       "    </tr>\n",
       "    <tr>\n",
       "      <th>2</th>\n",
       "      <td>DZA</td>\n",
       "      <td>Algeria</td>\n",
       "      <td>2017</td>\n",
       "      <td>1.898809e+11</td>\n",
       "      <td>4554.67</td>\n",
       "      <td>41689299.0</td>\n",
       "      <td>49.82</td>\n",
       "      <td>25.969663</td>\n",
       "      <td>3.908417</td>\n",
       "    </tr>\n",
       "  </tbody>\n",
       "</table>\n",
       "</div>"
      ],
      "text/plain": [
       "  iso_o      Country  Time           GDP  GDP_pct  population  \\\n",
       "0   AFG  Afghanistan  2017  1.875346e+10   525.47  35688935.0   \n",
       "1   ALB      Albania  2017  1.325827e+10  4614.05   2873457.0   \n",
       "2   DZA      Algeria  2017  1.898809e+11  4554.67  41689299.0   \n",
       "\n",
       "   trade_gdp_ratio    log_GDP  log_trade_gdp_ratio  \n",
       "0              NaN  23.654644                  NaN  \n",
       "1            76.79  23.307887             4.341074  \n",
       "2            49.82  25.969663             3.908417  "
      ]
     },
     "execution_count": 396,
     "metadata": {},
     "output_type": "execute_result"
    }
   ],
   "source": [
    "at2017_ordered.head(3)"
   ]
  },
  {
   "cell_type": "markdown",
   "id": "e222769f-273c-4cdc-8bdb-ebe2e9044d08",
   "metadata": {},
   "source": [
    "### 2018"
   ]
  },
  {
   "cell_type": "code",
   "execution_count": 397,
   "id": "23a297cb-ebe8-4de2-b05e-1a483168a4ff",
   "metadata": {},
   "outputs": [],
   "source": [
    "at2018 = pd.read_csv('../data/raw/67fe077d-c534-487a-9ae1-06e1e4c2cdf7_Data.csv')\n",
    "at2018_pruned = at2018.iloc[:265, :]"
   ]
  },
  {
   "cell_type": "code",
   "execution_count": 398,
   "id": "f4f85576-5542-4c16-9438-cde246eb6de7",
   "metadata": {},
   "outputs": [],
   "source": [
    "at2018_pruned = at2018_pruned.rename(columns = {'Country Code': 'iso_o'})\n",
    "at2018_pruned = at2018_pruned.rename(columns = {'Country Name': 'Country'})\n",
    "at2018_pruned = at2018_pruned.rename(columns = {'GDP (current US$) [NY.GDP.MKTP.CD]': 'GDP'})\n",
    "at2018_pruned = at2018_pruned.rename(columns = {'GDP per capita (current US$) [NY.GDP.PCAP.CD]': 'GDP_pct'})\n",
    "at2018_pruned = at2018_pruned.rename(columns = {'Population, total [SP.POP.TOTL]': 'population'})\n",
    "at2018_pruned = at2018_pruned.rename(columns = {'Trade (% of GDP) [NE.TRD.GNFS.ZS]': 'trade_gdp_ratio'})"
   ]
  },
  {
   "cell_type": "code",
   "execution_count": 399,
   "id": "0dae751f-b4aa-4b8d-a0cb-9a234adfc37d",
   "metadata": {},
   "outputs": [],
   "source": [
    "at2018_ordered = at2018_pruned[['iso_o', 'Country', 'Time', 'GDP', 'GDP_pct', 'population', 'trade_gdp_ratio']]"
   ]
  },
  {
   "cell_type": "code",
   "execution_count": 400,
   "id": "d2166ca1-2b22-41de-939d-f1069655c9f6",
   "metadata": {},
   "outputs": [
    {
     "name": "stderr",
     "output_type": "stream",
     "text": [
      "C:\\Users\\Lenovo\\AppData\\Local\\Temp\\ipykernel_39028\\1002934918.py:1: SettingWithCopyWarning: \n",
      "A value is trying to be set on a copy of a slice from a DataFrame.\n",
      "Try using .loc[row_indexer,col_indexer] = value instead\n",
      "\n",
      "See the caveats in the documentation: https://pandas.pydata.org/pandas-docs/stable/user_guide/indexing.html#returning-a-view-versus-a-copy\n",
      "  at2018_ordered[column] = at2018_ordered[column].replace('..', np.nan)\n",
      "C:\\Users\\Lenovo\\AppData\\Local\\Temp\\ipykernel_39028\\1002934918.py:2: SettingWithCopyWarning: \n",
      "A value is trying to be set on a copy of a slice from a DataFrame.\n",
      "Try using .loc[row_indexer,col_indexer] = value instead\n",
      "\n",
      "See the caveats in the documentation: https://pandas.pydata.org/pandas-docs/stable/user_guide/indexing.html#returning-a-view-versus-a-copy\n",
      "  at2018_ordered[column] = at2018_ordered[column].apply(lambda x: pd.to_numeric(x, errors='coerce')).round(2)\n",
      "C:\\Users\\Lenovo\\AppData\\Local\\Temp\\ipykernel_39028\\1002934918.py:5: SettingWithCopyWarning: \n",
      "A value is trying to be set on a copy of a slice from a DataFrame.\n",
      "Try using .loc[row_indexer,col_indexer] = value instead\n",
      "\n",
      "See the caveats in the documentation: https://pandas.pydata.org/pandas-docs/stable/user_guide/indexing.html#returning-a-view-versus-a-copy\n",
      "  at2018_ordered['GDP'] = at2018_ordered['GDP'].fillna(mean_gdp_2018)\n"
     ]
    }
   ],
   "source": [
    "at2018_ordered[column] = at2018_ordered[column].replace('..', np.nan)\n",
    "at2018_ordered[column] = at2018_ordered[column].apply(lambda x: pd.to_numeric(x, errors='coerce')).round(2)\n",
    "\n",
    "mean_gdp_2018 = at2018_ordered['GDP'].mean()\n",
    "at2018_ordered['GDP'] = at2018_ordered['GDP'].fillna(mean_gdp_2018)\n",
    "at2018_ordered['log_GDP'] = np.log(at2018_ordered['GDP'])\n",
    "at2018_ordered['log_trade_gdp_ratio'] = np.log(at2018_ordered['trade_gdp_ratio'])"
   ]
  },
  {
   "cell_type": "code",
   "execution_count": 401,
   "id": "0806dae0-f7f9-4fee-bcec-77b150674df6",
   "metadata": {},
   "outputs": [
    {
     "name": "stdout",
     "output_type": "stream",
     "text": [
      "190\n",
      "{'MSR', 'TWN'}\n"
     ]
    }
   ],
   "source": [
    "e = set(at2018_ordered['iso_o'].unique()) & set(total_trade['iso_o'].unique())\n",
    "print(len(e))\n",
    "print(set(total_trade['iso_o'].unique()) - set(at2018_ordered['iso_o'].unique()))"
   ]
  },
  {
   "cell_type": "code",
   "execution_count": 402,
   "id": "01b3fd6f-946d-4516-bd13-aabdb218fa6f",
   "metadata": {},
   "outputs": [],
   "source": [
    "at2018_ordered = at2018_ordered[at2018_ordered['iso_o'].isin(e)]\n",
    "at2018_ordered = at2018_ordered.reset_index(drop = True)"
   ]
  },
  {
   "cell_type": "code",
   "execution_count": 403,
   "id": "eb46dc88-6a69-473e-90f8-be0c73ebe74f",
   "metadata": {},
   "outputs": [
    {
     "data": {
      "text/html": [
       "<div>\n",
       "<style scoped>\n",
       "    .dataframe tbody tr th:only-of-type {\n",
       "        vertical-align: middle;\n",
       "    }\n",
       "\n",
       "    .dataframe tbody tr th {\n",
       "        vertical-align: top;\n",
       "    }\n",
       "\n",
       "    .dataframe thead th {\n",
       "        text-align: right;\n",
       "    }\n",
       "</style>\n",
       "<table border=\"1\" class=\"dataframe\">\n",
       "  <thead>\n",
       "    <tr style=\"text-align: right;\">\n",
       "      <th></th>\n",
       "      <th>iso_o</th>\n",
       "      <th>Country</th>\n",
       "      <th>Time</th>\n",
       "      <th>GDP</th>\n",
       "      <th>GDP_pct</th>\n",
       "      <th>population</th>\n",
       "      <th>trade_gdp_ratio</th>\n",
       "      <th>log_GDP</th>\n",
       "      <th>log_trade_gdp_ratio</th>\n",
       "    </tr>\n",
       "  </thead>\n",
       "  <tbody>\n",
       "    <tr>\n",
       "      <th>0</th>\n",
       "      <td>AFG</td>\n",
       "      <td>Afghanistan</td>\n",
       "      <td>2018</td>\n",
       "      <td>1.805322e+10</td>\n",
       "      <td>491.34</td>\n",
       "      <td>36743039.0</td>\n",
       "      <td>NaN</td>\n",
       "      <td>23.616590</td>\n",
       "      <td>NaN</td>\n",
       "    </tr>\n",
       "    <tr>\n",
       "      <th>1</th>\n",
       "      <td>ALB</td>\n",
       "      <td>Albania</td>\n",
       "      <td>2018</td>\n",
       "      <td>1.537951e+10</td>\n",
       "      <td>5365.49</td>\n",
       "      <td>2866376.0</td>\n",
       "      <td>75.69</td>\n",
       "      <td>23.456302</td>\n",
       "      <td>4.326646</td>\n",
       "    </tr>\n",
       "    <tr>\n",
       "      <th>2</th>\n",
       "      <td>DZA</td>\n",
       "      <td>Algeria</td>\n",
       "      <td>2018</td>\n",
       "      <td>1.945545e+11</td>\n",
       "      <td>4577.21</td>\n",
       "      <td>42505035.0</td>\n",
       "      <td>52.44</td>\n",
       "      <td>25.993978</td>\n",
       "      <td>3.959670</td>\n",
       "    </tr>\n",
       "  </tbody>\n",
       "</table>\n",
       "</div>"
      ],
      "text/plain": [
       "  iso_o      Country  Time           GDP  GDP_pct  population  \\\n",
       "0   AFG  Afghanistan  2018  1.805322e+10   491.34  36743039.0   \n",
       "1   ALB      Albania  2018  1.537951e+10  5365.49   2866376.0   \n",
       "2   DZA      Algeria  2018  1.945545e+11  4577.21  42505035.0   \n",
       "\n",
       "   trade_gdp_ratio    log_GDP  log_trade_gdp_ratio  \n",
       "0              NaN  23.616590                  NaN  \n",
       "1            75.69  23.456302             4.326646  \n",
       "2            52.44  25.993978             3.959670  "
      ]
     },
     "execution_count": 403,
     "metadata": {},
     "output_type": "execute_result"
    }
   ],
   "source": [
    "at2018_ordered.head(3)"
   ]
  },
  {
   "cell_type": "markdown",
   "id": "a82bde00-3715-449f-84ed-60abfffa1eeb",
   "metadata": {},
   "source": [
    "### 2019"
   ]
  },
  {
   "cell_type": "code",
   "execution_count": 404,
   "id": "238df794-2b7b-417d-9f49-2830146ea039",
   "metadata": {},
   "outputs": [],
   "source": [
    "at2019 = pd.read_csv('../data/raw/d9e55111-e6c1-4649-9899-5f5de8d3a55e_Data.csv')\n",
    "at2019_pruned = at2019.iloc[:265, :]"
   ]
  },
  {
   "cell_type": "code",
   "execution_count": 405,
   "id": "91b34fb4-b939-4228-8dbb-18b3057ef7a9",
   "metadata": {},
   "outputs": [],
   "source": [
    "at2019_pruned = at2019_pruned.rename(columns = {'Country Code': 'iso_o'})\n",
    "at2019_pruned = at2019_pruned.rename(columns = {'Country Name': 'Country'})\n",
    "at2019_pruned = at2019_pruned.rename(columns = {'GDP (current US$) [NY.GDP.MKTP.CD]': 'GDP'})\n",
    "at2019_pruned = at2019_pruned.rename(columns = {'GDP per capita (current US$) [NY.GDP.PCAP.CD]': 'GDP_pct'})\n",
    "at2019_pruned = at2019_pruned.rename(columns = {'Population, total [SP.POP.TOTL]': 'population'})\n",
    "at2019_pruned = at2019_pruned.rename(columns = {'Trade (% of GDP) [NE.TRD.GNFS.ZS]': 'trade_gdp_ratio'})"
   ]
  },
  {
   "cell_type": "code",
   "execution_count": 406,
   "id": "9cac4b36-14b2-4973-869a-ee3891770493",
   "metadata": {},
   "outputs": [],
   "source": [
    "at2019_ordered = at2019_pruned[['iso_o', 'Country', 'Time', 'GDP', 'GDP_pct', 'population', 'trade_gdp_ratio']]"
   ]
  },
  {
   "cell_type": "code",
   "execution_count": 407,
   "id": "a45da810-fa31-443b-b150-c2861e8b4c58",
   "metadata": {},
   "outputs": [
    {
     "name": "stderr",
     "output_type": "stream",
     "text": [
      "C:\\Users\\Lenovo\\AppData\\Local\\Temp\\ipykernel_39028\\1211599939.py:1: SettingWithCopyWarning: \n",
      "A value is trying to be set on a copy of a slice from a DataFrame.\n",
      "Try using .loc[row_indexer,col_indexer] = value instead\n",
      "\n",
      "See the caveats in the documentation: https://pandas.pydata.org/pandas-docs/stable/user_guide/indexing.html#returning-a-view-versus-a-copy\n",
      "  at2019_ordered[column] = at2019_ordered[column].replace('..', np.nan)\n",
      "C:\\Users\\Lenovo\\AppData\\Local\\Temp\\ipykernel_39028\\1211599939.py:2: SettingWithCopyWarning: \n",
      "A value is trying to be set on a copy of a slice from a DataFrame.\n",
      "Try using .loc[row_indexer,col_indexer] = value instead\n",
      "\n",
      "See the caveats in the documentation: https://pandas.pydata.org/pandas-docs/stable/user_guide/indexing.html#returning-a-view-versus-a-copy\n",
      "  at2019_ordered[column] = at2019_ordered[column].apply(lambda x: pd.to_numeric(x, errors='coerce')).round(2)\n",
      "C:\\Users\\Lenovo\\AppData\\Local\\Temp\\ipykernel_39028\\1211599939.py:5: SettingWithCopyWarning: \n",
      "A value is trying to be set on a copy of a slice from a DataFrame.\n",
      "Try using .loc[row_indexer,col_indexer] = value instead\n",
      "\n",
      "See the caveats in the documentation: https://pandas.pydata.org/pandas-docs/stable/user_guide/indexing.html#returning-a-view-versus-a-copy\n",
      "  at2019_ordered['GDP'] = at2019_ordered['GDP'].fillna(mean_gdp_2019)\n"
     ]
    }
   ],
   "source": [
    "at2019_ordered[column] = at2019_ordered[column].replace('..', np.nan)\n",
    "at2019_ordered[column] = at2019_ordered[column].apply(lambda x: pd.to_numeric(x, errors='coerce')).round(2)\n",
    "\n",
    "mean_gdp_2019 = at2019_ordered['GDP'].mean()\n",
    "at2019_ordered['GDP'] = at2019_ordered['GDP'].fillna(mean_gdp_2019)\n",
    "at2019_ordered['log_GDP'] = np.log(at2019_ordered['GDP'])\n",
    "at2019_ordered['log_trade_gdp_ratio'] = np.log(at2019_ordered['trade_gdp_ratio'])"
   ]
  },
  {
   "cell_type": "code",
   "execution_count": 408,
   "id": "de6cc5cc-d275-43d6-a857-3f7ea139bae2",
   "metadata": {},
   "outputs": [
    {
     "name": "stdout",
     "output_type": "stream",
     "text": [
      "190\n",
      "{'MSR', 'TWN'}\n"
     ]
    }
   ],
   "source": [
    "f = set(at2019_ordered['iso_o'].unique()) & set(total_trade['iso_o'].unique())\n",
    "print(len(f))\n",
    "print(set(total_trade['iso_o'].unique()) - set(at2019_ordered['iso_o'].unique()))"
   ]
  },
  {
   "cell_type": "code",
   "execution_count": 409,
   "id": "893c0131-e2f7-4b09-b483-a9dfbdd91a76",
   "metadata": {},
   "outputs": [],
   "source": [
    "at2019_ordered = at2019_ordered[at2019_ordered['iso_o'].isin(f)]\n",
    "at2019_ordered = at2019_ordered.reset_index(drop = True)"
   ]
  },
  {
   "cell_type": "code",
   "execution_count": 410,
   "id": "3000cf28-9040-44f1-a1e8-4f0fd7fb89a2",
   "metadata": {},
   "outputs": [
    {
     "data": {
      "text/html": [
       "<div>\n",
       "<style scoped>\n",
       "    .dataframe tbody tr th:only-of-type {\n",
       "        vertical-align: middle;\n",
       "    }\n",
       "\n",
       "    .dataframe tbody tr th {\n",
       "        vertical-align: top;\n",
       "    }\n",
       "\n",
       "    .dataframe thead th {\n",
       "        text-align: right;\n",
       "    }\n",
       "</style>\n",
       "<table border=\"1\" class=\"dataframe\">\n",
       "  <thead>\n",
       "    <tr style=\"text-align: right;\">\n",
       "      <th></th>\n",
       "      <th>iso_o</th>\n",
       "      <th>Country</th>\n",
       "      <th>Time</th>\n",
       "      <th>GDP</th>\n",
       "      <th>GDP_pct</th>\n",
       "      <th>population</th>\n",
       "      <th>trade_gdp_ratio</th>\n",
       "      <th>log_GDP</th>\n",
       "      <th>log_trade_gdp_ratio</th>\n",
       "    </tr>\n",
       "  </thead>\n",
       "  <tbody>\n",
       "    <tr>\n",
       "      <th>0</th>\n",
       "      <td>AFG</td>\n",
       "      <td>Afghanistan</td>\n",
       "      <td>2019</td>\n",
       "      <td>1.879944e+10</td>\n",
       "      <td>496.60</td>\n",
       "      <td>37856121.0</td>\n",
       "      <td>NaN</td>\n",
       "      <td>23.657093</td>\n",
       "      <td>NaN</td>\n",
       "    </tr>\n",
       "    <tr>\n",
       "      <th>1</th>\n",
       "      <td>ALB</td>\n",
       "      <td>Albania</td>\n",
       "      <td>2019</td>\n",
       "      <td>1.558511e+10</td>\n",
       "      <td>5460.43</td>\n",
       "      <td>2854191.0</td>\n",
       "      <td>75.38</td>\n",
       "      <td>23.469582</td>\n",
       "      <td>4.322542</td>\n",
       "    </tr>\n",
       "    <tr>\n",
       "      <th>2</th>\n",
       "      <td>DZA</td>\n",
       "      <td>Algeria</td>\n",
       "      <td>2019</td>\n",
       "      <td>1.934597e+11</td>\n",
       "      <td>4468.45</td>\n",
       "      <td>43294546.0</td>\n",
       "      <td>46.51</td>\n",
       "      <td>25.988335</td>\n",
       "      <td>3.839667</td>\n",
       "    </tr>\n",
       "  </tbody>\n",
       "</table>\n",
       "</div>"
      ],
      "text/plain": [
       "  iso_o      Country  Time           GDP  GDP_pct  population  \\\n",
       "0   AFG  Afghanistan  2019  1.879944e+10   496.60  37856121.0   \n",
       "1   ALB      Albania  2019  1.558511e+10  5460.43   2854191.0   \n",
       "2   DZA      Algeria  2019  1.934597e+11  4468.45  43294546.0   \n",
       "\n",
       "   trade_gdp_ratio    log_GDP  log_trade_gdp_ratio  \n",
       "0              NaN  23.657093                  NaN  \n",
       "1            75.38  23.469582             4.322542  \n",
       "2            46.51  25.988335             3.839667  "
      ]
     },
     "execution_count": 410,
     "metadata": {},
     "output_type": "execute_result"
    }
   ],
   "source": [
    "at2019_ordered.head(3)"
   ]
  },
  {
   "cell_type": "markdown",
   "id": "0f09f886-0b31-48ba-8fb4-a80f69a8a83c",
   "metadata": {},
   "source": [
    "### 2020"
   ]
  },
  {
   "cell_type": "code",
   "execution_count": 411,
   "id": "347c05a8-5034-4ff8-a768-3f3caf69b054",
   "metadata": {},
   "outputs": [],
   "source": [
    "at2020 = pd.read_csv('../data/raw/4b321dfd-f890-48d9-92af-5de0091f24ff_Data.csv')\n",
    "at2020_pruned = at2020.iloc[:265, :]"
   ]
  },
  {
   "cell_type": "code",
   "execution_count": 412,
   "id": "d0f93d39-6e5e-408f-9bcb-79bf547f12f6",
   "metadata": {},
   "outputs": [],
   "source": [
    "at2020_pruned = at2020_pruned.rename(columns = {'Country Code': 'iso_o'})\n",
    "at2020_pruned = at2020_pruned.rename(columns = {'Country Name': 'Country'})\n",
    "at2020_pruned = at2020_pruned.rename(columns = {'GDP (current US$) [NY.GDP.MKTP.CD]': 'GDP'})\n",
    "at2020_pruned = at2020_pruned.rename(columns = {'GDP per capita (current US$) [NY.GDP.PCAP.CD]': 'GDP_pct'})\n",
    "at2020_pruned = at2020_pruned.rename(columns = {'Population, total [SP.POP.TOTL]': 'population'})\n",
    "at2020_pruned = at2020_pruned.rename(columns = {'Trade (% of GDP) [NE.TRD.GNFS.ZS]': 'trade_gdp_ratio'})"
   ]
  },
  {
   "cell_type": "code",
   "execution_count": 413,
   "id": "71e5261d-7cde-49df-8695-4fc59b1276be",
   "metadata": {},
   "outputs": [],
   "source": [
    "at2020_ordered = at2020_pruned[['iso_o', 'Country', 'Time', 'GDP', 'GDP_pct', 'population', 'trade_gdp_ratio']]"
   ]
  },
  {
   "cell_type": "code",
   "execution_count": 414,
   "id": "1e726047-a943-408d-b4e8-75e136986ccf",
   "metadata": {},
   "outputs": [
    {
     "name": "stderr",
     "output_type": "stream",
     "text": [
      "C:\\Users\\Lenovo\\AppData\\Local\\Temp\\ipykernel_39028\\693154026.py:1: SettingWithCopyWarning: \n",
      "A value is trying to be set on a copy of a slice from a DataFrame.\n",
      "Try using .loc[row_indexer,col_indexer] = value instead\n",
      "\n",
      "See the caveats in the documentation: https://pandas.pydata.org/pandas-docs/stable/user_guide/indexing.html#returning-a-view-versus-a-copy\n",
      "  at2020_ordered[column] = at2020_ordered[column].replace('..', np.nan)\n",
      "C:\\Users\\Lenovo\\AppData\\Local\\Temp\\ipykernel_39028\\693154026.py:2: SettingWithCopyWarning: \n",
      "A value is trying to be set on a copy of a slice from a DataFrame.\n",
      "Try using .loc[row_indexer,col_indexer] = value instead\n",
      "\n",
      "See the caveats in the documentation: https://pandas.pydata.org/pandas-docs/stable/user_guide/indexing.html#returning-a-view-versus-a-copy\n",
      "  at2020_ordered[column] = at2020_ordered[column].apply(lambda x: pd.to_numeric(x, errors='coerce')).round(2)\n",
      "C:\\Users\\Lenovo\\AppData\\Local\\Temp\\ipykernel_39028\\693154026.py:5: SettingWithCopyWarning: \n",
      "A value is trying to be set on a copy of a slice from a DataFrame.\n",
      "Try using .loc[row_indexer,col_indexer] = value instead\n",
      "\n",
      "See the caveats in the documentation: https://pandas.pydata.org/pandas-docs/stable/user_guide/indexing.html#returning-a-view-versus-a-copy\n",
      "  at2020_ordered['GDP'] = at2020_ordered['GDP'].fillna(mean_gdp_2020)\n"
     ]
    }
   ],
   "source": [
    "at2020_ordered[column] = at2020_ordered[column].replace('..', np.nan)\n",
    "at2020_ordered[column] = at2020_ordered[column].apply(lambda x: pd.to_numeric(x, errors='coerce')).round(2)\n",
    "\n",
    "mean_gdp_2020 = at2020_ordered['GDP'].mean()\n",
    "at2020_ordered['GDP'] = at2020_ordered['GDP'].fillna(mean_gdp_2020)\n",
    "at2020_ordered['log_GDP'] = np.log(at2020_ordered['GDP'])\n",
    "at2020_ordered['log_trade_gdp_ratio'] = np.log(at2020_ordered['trade_gdp_ratio'])"
   ]
  },
  {
   "cell_type": "code",
   "execution_count": 415,
   "id": "3508670a-db1a-4c23-99c5-fbc5d329586e",
   "metadata": {},
   "outputs": [
    {
     "name": "stdout",
     "output_type": "stream",
     "text": [
      "190\n",
      "{'MSR', 'TWN'}\n"
     ]
    }
   ],
   "source": [
    "g = set(at2020_ordered['iso_o'].unique()) & set(total_trade['iso_o'].unique())\n",
    "print(len(g))\n",
    "print(set(total_trade['iso_o'].unique()) - set(at2020_ordered['iso_o'].unique()))"
   ]
  },
  {
   "cell_type": "code",
   "execution_count": 416,
   "id": "5b1b3800-6aea-40ed-9048-7a5cbd11f664",
   "metadata": {},
   "outputs": [],
   "source": [
    "at2020_ordered = at2020_ordered[at2020_ordered['iso_o'].isin(g)]\n",
    "at2020_ordered = at2020_ordered.reset_index(drop = True)"
   ]
  },
  {
   "cell_type": "code",
   "execution_count": 417,
   "id": "7fbce177-4ba0-456a-8642-8451b02918cc",
   "metadata": {},
   "outputs": [
    {
     "data": {
      "text/html": [
       "<div>\n",
       "<style scoped>\n",
       "    .dataframe tbody tr th:only-of-type {\n",
       "        vertical-align: middle;\n",
       "    }\n",
       "\n",
       "    .dataframe tbody tr th {\n",
       "        vertical-align: top;\n",
       "    }\n",
       "\n",
       "    .dataframe thead th {\n",
       "        text-align: right;\n",
       "    }\n",
       "</style>\n",
       "<table border=\"1\" class=\"dataframe\">\n",
       "  <thead>\n",
       "    <tr style=\"text-align: right;\">\n",
       "      <th></th>\n",
       "      <th>iso_o</th>\n",
       "      <th>Country</th>\n",
       "      <th>Time</th>\n",
       "      <th>GDP</th>\n",
       "      <th>GDP_pct</th>\n",
       "      <th>population</th>\n",
       "      <th>trade_gdp_ratio</th>\n",
       "      <th>log_GDP</th>\n",
       "      <th>log_trade_gdp_ratio</th>\n",
       "    </tr>\n",
       "  </thead>\n",
       "  <tbody>\n",
       "    <tr>\n",
       "      <th>0</th>\n",
       "      <td>AFG</td>\n",
       "      <td>Afghanistan</td>\n",
       "      <td>2020</td>\n",
       "      <td>1.995593e+10</td>\n",
       "      <td>510.79</td>\n",
       "      <td>39068979.0</td>\n",
       "      <td>46.71</td>\n",
       "      <td>23.716792</td>\n",
       "      <td>3.843958</td>\n",
       "    </tr>\n",
       "    <tr>\n",
       "      <th>1</th>\n",
       "      <td>ALB</td>\n",
       "      <td>Albania</td>\n",
       "      <td>2020</td>\n",
       "      <td>1.524146e+10</td>\n",
       "      <td>5370.78</td>\n",
       "      <td>2837849.0</td>\n",
       "      <td>59.52</td>\n",
       "      <td>23.447285</td>\n",
       "      <td>4.086312</td>\n",
       "    </tr>\n",
       "    <tr>\n",
       "      <th>2</th>\n",
       "      <td>DZA</td>\n",
       "      <td>Algeria</td>\n",
       "      <td>2020</td>\n",
       "      <td>1.648734e+11</td>\n",
       "      <td>3743.54</td>\n",
       "      <td>44042091.0</td>\n",
       "      <td>40.39</td>\n",
       "      <td>25.828444</td>\n",
       "      <td>3.698582</td>\n",
       "    </tr>\n",
       "  </tbody>\n",
       "</table>\n",
       "</div>"
      ],
      "text/plain": [
       "  iso_o      Country  Time           GDP  GDP_pct  population  \\\n",
       "0   AFG  Afghanistan  2020  1.995593e+10   510.79  39068979.0   \n",
       "1   ALB      Albania  2020  1.524146e+10  5370.78   2837849.0   \n",
       "2   DZA      Algeria  2020  1.648734e+11  3743.54  44042091.0   \n",
       "\n",
       "   trade_gdp_ratio    log_GDP  log_trade_gdp_ratio  \n",
       "0            46.71  23.716792             3.843958  \n",
       "1            59.52  23.447285             4.086312  \n",
       "2            40.39  25.828444             3.698582  "
      ]
     },
     "execution_count": 417,
     "metadata": {},
     "output_type": "execute_result"
    }
   ],
   "source": [
    "at2020_ordered.head(3)"
   ]
  },
  {
   "cell_type": "markdown",
   "id": "a4ef2008-b87f-4aec-9dcb-42d0dffcfa80",
   "metadata": {},
   "source": [
    "### 2021"
   ]
  },
  {
   "cell_type": "code",
   "execution_count": 418,
   "id": "441eeac5-14c1-47d7-bc5b-e6e9521d4194",
   "metadata": {},
   "outputs": [],
   "source": [
    "at2021 = pd.read_csv('../data/raw/32827991-5e23-4783-8b4a-dfed21113a1d_Data.csv')\n",
    "at2021_pruned = at2021.iloc[:265, :]"
   ]
  },
  {
   "cell_type": "code",
   "execution_count": 419,
   "id": "ea16e67a-3e71-4721-ad41-f50592b91225",
   "metadata": {},
   "outputs": [],
   "source": [
    "at2021_pruned = at2021_pruned.rename(columns = {'Country Code': 'iso_o'})\n",
    "at2021_pruned = at2021_pruned.rename(columns = {'Country Name': 'Country'})\n",
    "at2021_pruned = at2021_pruned.rename(columns = {'GDP (current US$) [NY.GDP.MKTP.CD]': 'GDP'})\n",
    "at2021_pruned = at2021_pruned.rename(columns = {'GDP per capita (current US$) [NY.GDP.PCAP.CD]': 'GDP_pct'})\n",
    "at2021_pruned = at2021_pruned.rename(columns = {'Population, total [SP.POP.TOTL]': 'population'})\n",
    "at2021_pruned = at2021_pruned.rename(columns = {'Trade (% of GDP) [NE.TRD.GNFS.ZS]': 'trade_gdp_ratio'})"
   ]
  },
  {
   "cell_type": "code",
   "execution_count": 420,
   "id": "d4704ca5-a786-4302-afa7-d12ed6cba4cf",
   "metadata": {},
   "outputs": [],
   "source": [
    "at2021_ordered = at2021_pruned[['iso_o', 'Country', 'Time', 'GDP', 'GDP_pct', 'population', 'trade_gdp_ratio']]"
   ]
  },
  {
   "cell_type": "code",
   "execution_count": 421,
   "id": "159a5071-6dd1-4bd5-bebb-464f3cbf17bd",
   "metadata": {},
   "outputs": [
    {
     "name": "stderr",
     "output_type": "stream",
     "text": [
      "C:\\Users\\Lenovo\\AppData\\Local\\Temp\\ipykernel_39028\\2335835654.py:1: SettingWithCopyWarning: \n",
      "A value is trying to be set on a copy of a slice from a DataFrame.\n",
      "Try using .loc[row_indexer,col_indexer] = value instead\n",
      "\n",
      "See the caveats in the documentation: https://pandas.pydata.org/pandas-docs/stable/user_guide/indexing.html#returning-a-view-versus-a-copy\n",
      "  at2021_ordered[column] = at2021_ordered[column].replace('..', np.nan)\n",
      "C:\\Users\\Lenovo\\AppData\\Local\\Temp\\ipykernel_39028\\2335835654.py:2: SettingWithCopyWarning: \n",
      "A value is trying to be set on a copy of a slice from a DataFrame.\n",
      "Try using .loc[row_indexer,col_indexer] = value instead\n",
      "\n",
      "See the caveats in the documentation: https://pandas.pydata.org/pandas-docs/stable/user_guide/indexing.html#returning-a-view-versus-a-copy\n",
      "  at2021_ordered[column] = at2021_ordered[column].apply(lambda x: pd.to_numeric(x, errors='coerce')).round(2)\n",
      "C:\\Users\\Lenovo\\AppData\\Local\\Temp\\ipykernel_39028\\2335835654.py:5: SettingWithCopyWarning: \n",
      "A value is trying to be set on a copy of a slice from a DataFrame.\n",
      "Try using .loc[row_indexer,col_indexer] = value instead\n",
      "\n",
      "See the caveats in the documentation: https://pandas.pydata.org/pandas-docs/stable/user_guide/indexing.html#returning-a-view-versus-a-copy\n",
      "  at2021_ordered['GDP'] = at2021_ordered['GDP'].fillna(mean_gdp_2021)\n"
     ]
    }
   ],
   "source": [
    "at2021_ordered[column] = at2021_ordered[column].replace('..', np.nan)\n",
    "at2021_ordered[column] = at2021_ordered[column].apply(lambda x: pd.to_numeric(x, errors='coerce')).round(2)\n",
    "\n",
    "mean_gdp_2021 = at2021_ordered['GDP'].mean()\n",
    "at2021_ordered['GDP'] = at2021_ordered['GDP'].fillna(mean_gdp_2021)\n",
    "at2021_ordered['log_GDP'] = np.log(at2021_ordered['GDP'])\n",
    "at2021_ordered['log_trade_gdp_ratio'] = np.log(at2021_ordered['trade_gdp_ratio'])"
   ]
  },
  {
   "cell_type": "code",
   "execution_count": 422,
   "id": "2812c580-0e5e-48f6-8213-0aad3cf92467",
   "metadata": {},
   "outputs": [
    {
     "name": "stdout",
     "output_type": "stream",
     "text": [
      "190\n",
      "{'MSR', 'TWN'}\n"
     ]
    }
   ],
   "source": [
    "h = set(at2021_ordered['iso_o'].unique()) & set(total_trade['iso_o'].unique())\n",
    "print(len(h))\n",
    "print(set(total_trade['iso_o'].unique()) - set(at2021_ordered['iso_o'].unique()))"
   ]
  },
  {
   "cell_type": "code",
   "execution_count": 423,
   "id": "bf271685-968d-481a-aa51-4a2d096fc383",
   "metadata": {},
   "outputs": [],
   "source": [
    "at2021_ordered = at2021_ordered[at2021_ordered['iso_o'].isin(h)]\n",
    "at2021_ordered = at2021_ordered.reset_index(drop = True)"
   ]
  },
  {
   "cell_type": "code",
   "execution_count": 424,
   "id": "0e487a82-688c-480a-a6d8-db4735df2a12",
   "metadata": {},
   "outputs": [
    {
     "data": {
      "text/html": [
       "<div>\n",
       "<style scoped>\n",
       "    .dataframe tbody tr th:only-of-type {\n",
       "        vertical-align: middle;\n",
       "    }\n",
       "\n",
       "    .dataframe tbody tr th {\n",
       "        vertical-align: top;\n",
       "    }\n",
       "\n",
       "    .dataframe thead th {\n",
       "        text-align: right;\n",
       "    }\n",
       "</style>\n",
       "<table border=\"1\" class=\"dataframe\">\n",
       "  <thead>\n",
       "    <tr style=\"text-align: right;\">\n",
       "      <th></th>\n",
       "      <th>iso_o</th>\n",
       "      <th>Country</th>\n",
       "      <th>Time</th>\n",
       "      <th>GDP</th>\n",
       "      <th>GDP_pct</th>\n",
       "      <th>population</th>\n",
       "      <th>trade_gdp_ratio</th>\n",
       "      <th>log_GDP</th>\n",
       "      <th>log_trade_gdp_ratio</th>\n",
       "    </tr>\n",
       "  </thead>\n",
       "  <tbody>\n",
       "    <tr>\n",
       "      <th>0</th>\n",
       "      <td>AFG</td>\n",
       "      <td>Afghanistan</td>\n",
       "      <td>2021</td>\n",
       "      <td>1.426000e+10</td>\n",
       "      <td>356.50</td>\n",
       "      <td>40000412.0</td>\n",
       "      <td>51.41</td>\n",
       "      <td>23.380724</td>\n",
       "      <td>3.939833</td>\n",
       "    </tr>\n",
       "    <tr>\n",
       "      <th>1</th>\n",
       "      <td>ALB</td>\n",
       "      <td>Albania</td>\n",
       "      <td>2021</td>\n",
       "      <td>1.803201e+10</td>\n",
       "      <td>6413.28</td>\n",
       "      <td>2811666.0</td>\n",
       "      <td>75.59</td>\n",
       "      <td>23.615414</td>\n",
       "      <td>4.325324</td>\n",
       "    </tr>\n",
       "    <tr>\n",
       "      <th>2</th>\n",
       "      <td>DZA</td>\n",
       "      <td>Algeria</td>\n",
       "      <td>2021</td>\n",
       "      <td>1.862312e+11</td>\n",
       "      <td>4160.56</td>\n",
       "      <td>44761099.0</td>\n",
       "      <td>46.84</td>\n",
       "      <td>25.950255</td>\n",
       "      <td>3.846738</td>\n",
       "    </tr>\n",
       "  </tbody>\n",
       "</table>\n",
       "</div>"
      ],
      "text/plain": [
       "  iso_o      Country  Time           GDP  GDP_pct  population  \\\n",
       "0   AFG  Afghanistan  2021  1.426000e+10   356.50  40000412.0   \n",
       "1   ALB      Albania  2021  1.803201e+10  6413.28   2811666.0   \n",
       "2   DZA      Algeria  2021  1.862312e+11  4160.56  44761099.0   \n",
       "\n",
       "   trade_gdp_ratio    log_GDP  log_trade_gdp_ratio  \n",
       "0            51.41  23.380724             3.939833  \n",
       "1            75.59  23.615414             4.325324  \n",
       "2            46.84  25.950255             3.846738  "
      ]
     },
     "execution_count": 424,
     "metadata": {},
     "output_type": "execute_result"
    }
   ],
   "source": [
    "at2021_ordered.head(3)"
   ]
  },
  {
   "cell_type": "markdown",
   "id": "db0d2bfc-33b5-44ed-ab1d-c49984ee1d4a",
   "metadata": {},
   "source": [
    "### 2022"
   ]
  },
  {
   "cell_type": "code",
   "execution_count": 425,
   "id": "82ea6abb-1241-48bd-a46a-06b714b26db5",
   "metadata": {},
   "outputs": [],
   "source": [
    "at2022 = pd.read_csv('../data/raw/eaf573f6-9b89-4ad5-bd2a-05fcbd790eaf_Data.csv')\n",
    "at2022_pruned = at2022.iloc[:265, :]"
   ]
  },
  {
   "cell_type": "code",
   "execution_count": 426,
   "id": "0c4ccced-7bc6-4766-b9dd-0330799ae963",
   "metadata": {},
   "outputs": [],
   "source": [
    "at2022_pruned = at2022_pruned.rename(columns = {'Country Code': 'iso_o'})\n",
    "at2022_pruned = at2022_pruned.rename(columns = {'Country Name': 'Country'})\n",
    "at2022_pruned = at2022_pruned.rename(columns = {'GDP (current US$) [NY.GDP.MKTP.CD]': 'GDP'})\n",
    "at2022_pruned = at2022_pruned.rename(columns = {'GDP per capita (current US$) [NY.GDP.PCAP.CD]': 'GDP_pct'})\n",
    "at2022_pruned = at2022_pruned.rename(columns = {'Population, total [SP.POP.TOTL]': 'population'})\n",
    "at2022_pruned = at2022_pruned.rename(columns = {'Trade (% of GDP) [NE.TRD.GNFS.ZS]': 'trade_gdp_ratio'})"
   ]
  },
  {
   "cell_type": "code",
   "execution_count": 427,
   "id": "96ecbcbb-b2b8-410b-bc98-8aac2f084756",
   "metadata": {},
   "outputs": [],
   "source": [
    "at2022_ordered = at2022_pruned[['iso_o', 'Country', 'Time', 'GDP', 'GDP_pct', 'population', 'trade_gdp_ratio']]"
   ]
  },
  {
   "cell_type": "code",
   "execution_count": 428,
   "id": "36efcbfc-343c-4ddd-b7b3-00277e28b6c7",
   "metadata": {},
   "outputs": [
    {
     "name": "stderr",
     "output_type": "stream",
     "text": [
      "C:\\Users\\Lenovo\\AppData\\Local\\Temp\\ipykernel_39028\\3419882093.py:1: SettingWithCopyWarning: \n",
      "A value is trying to be set on a copy of a slice from a DataFrame.\n",
      "Try using .loc[row_indexer,col_indexer] = value instead\n",
      "\n",
      "See the caveats in the documentation: https://pandas.pydata.org/pandas-docs/stable/user_guide/indexing.html#returning-a-view-versus-a-copy\n",
      "  at2022_ordered[column] = at2022_ordered[column].replace('..', np.nan)\n",
      "C:\\Users\\Lenovo\\AppData\\Local\\Temp\\ipykernel_39028\\3419882093.py:2: SettingWithCopyWarning: \n",
      "A value is trying to be set on a copy of a slice from a DataFrame.\n",
      "Try using .loc[row_indexer,col_indexer] = value instead\n",
      "\n",
      "See the caveats in the documentation: https://pandas.pydata.org/pandas-docs/stable/user_guide/indexing.html#returning-a-view-versus-a-copy\n",
      "  at2022_ordered[column] = at2022_ordered[column].apply(lambda x: pd.to_numeric(x, errors='coerce')).round(2)\n",
      "C:\\Users\\Lenovo\\AppData\\Local\\Temp\\ipykernel_39028\\3419882093.py:5: SettingWithCopyWarning: \n",
      "A value is trying to be set on a copy of a slice from a DataFrame.\n",
      "Try using .loc[row_indexer,col_indexer] = value instead\n",
      "\n",
      "See the caveats in the documentation: https://pandas.pydata.org/pandas-docs/stable/user_guide/indexing.html#returning-a-view-versus-a-copy\n",
      "  at2022_ordered['GDP'] = at2022_ordered['GDP'].fillna(mean_gdp_2022)\n"
     ]
    }
   ],
   "source": [
    "at2022_ordered[column] = at2022_ordered[column].replace('..', np.nan)\n",
    "at2022_ordered[column] = at2022_ordered[column].apply(lambda x: pd.to_numeric(x, errors='coerce')).round(2)\n",
    "\n",
    "mean_gdp_2022 = at2022_ordered['GDP'].mean()\n",
    "at2022_ordered['GDP'] = at2022_ordered['GDP'].fillna(mean_gdp_2022)\n",
    "at2022_ordered['log_GDP'] = np.log(at2022_ordered['GDP'])\n",
    "at2022_ordered['log_trade_gdp_ratio'] = np.log(at2022_ordered['trade_gdp_ratio'])"
   ]
  },
  {
   "cell_type": "code",
   "execution_count": 429,
   "id": "03aa32c6-b794-4ba2-9f48-53b6c5d04d48",
   "metadata": {},
   "outputs": [
    {
     "name": "stdout",
     "output_type": "stream",
     "text": [
      "190\n",
      "{'MSR', 'TWN'}\n"
     ]
    }
   ],
   "source": [
    "i = set(at2022_ordered['iso_o'].unique()) & set(total_trade['iso_o'].unique())\n",
    "print(len(i))\n",
    "print(set(total_trade['iso_o'].unique()) - set(at2022_ordered['iso_o'].unique()))"
   ]
  },
  {
   "cell_type": "code",
   "execution_count": 430,
   "id": "7f863b7a-9bfa-4479-8d40-c002ea5ede5b",
   "metadata": {},
   "outputs": [],
   "source": [
    "at2022_ordered = at2022_ordered[at2022_ordered['iso_o'].isin(i)]\n",
    "at2022_ordered = at2022_ordered.reset_index(drop = True)"
   ]
  },
  {
   "cell_type": "code",
   "execution_count": 431,
   "id": "7a7e884e-2a1b-4057-a3cc-b28904be6658",
   "metadata": {},
   "outputs": [
    {
     "data": {
      "text/html": [
       "<div>\n",
       "<style scoped>\n",
       "    .dataframe tbody tr th:only-of-type {\n",
       "        vertical-align: middle;\n",
       "    }\n",
       "\n",
       "    .dataframe tbody tr th {\n",
       "        vertical-align: top;\n",
       "    }\n",
       "\n",
       "    .dataframe thead th {\n",
       "        text-align: right;\n",
       "    }\n",
       "</style>\n",
       "<table border=\"1\" class=\"dataframe\">\n",
       "  <thead>\n",
       "    <tr style=\"text-align: right;\">\n",
       "      <th></th>\n",
       "      <th>iso_o</th>\n",
       "      <th>Country</th>\n",
       "      <th>Time</th>\n",
       "      <th>GDP</th>\n",
       "      <th>GDP_pct</th>\n",
       "      <th>population</th>\n",
       "      <th>trade_gdp_ratio</th>\n",
       "      <th>log_GDP</th>\n",
       "      <th>log_trade_gdp_ratio</th>\n",
       "    </tr>\n",
       "  </thead>\n",
       "  <tbody>\n",
       "    <tr>\n",
       "      <th>0</th>\n",
       "      <td>AFG</td>\n",
       "      <td>Afghanistan</td>\n",
       "      <td>2022</td>\n",
       "      <td>1.449724e+10</td>\n",
       "      <td>357.26</td>\n",
       "      <td>40578842.0</td>\n",
       "      <td>72.89</td>\n",
       "      <td>23.397224</td>\n",
       "      <td>4.288951</td>\n",
       "    </tr>\n",
       "    <tr>\n",
       "      <th>1</th>\n",
       "      <td>ALB</td>\n",
       "      <td>Albania</td>\n",
       "      <td>2022</td>\n",
       "      <td>1.901724e+10</td>\n",
       "      <td>6846.43</td>\n",
       "      <td>2777689.0</td>\n",
       "      <td>84.70</td>\n",
       "      <td>23.668612</td>\n",
       "      <td>4.439116</td>\n",
       "    </tr>\n",
       "    <tr>\n",
       "      <th>2</th>\n",
       "      <td>DZA</td>\n",
       "      <td>Algeria</td>\n",
       "      <td>2022</td>\n",
       "      <td>2.256385e+11</td>\n",
       "      <td>4961.55</td>\n",
       "      <td>45477389.0</td>\n",
       "      <td>51.20</td>\n",
       "      <td>26.142200</td>\n",
       "      <td>3.935740</td>\n",
       "    </tr>\n",
       "  </tbody>\n",
       "</table>\n",
       "</div>"
      ],
      "text/plain": [
       "  iso_o      Country  Time           GDP  GDP_pct  population  \\\n",
       "0   AFG  Afghanistan  2022  1.449724e+10   357.26  40578842.0   \n",
       "1   ALB      Albania  2022  1.901724e+10  6846.43   2777689.0   \n",
       "2   DZA      Algeria  2022  2.256385e+11  4961.55  45477389.0   \n",
       "\n",
       "   trade_gdp_ratio    log_GDP  log_trade_gdp_ratio  \n",
       "0            72.89  23.397224             4.288951  \n",
       "1            84.70  23.668612             4.439116  \n",
       "2            51.20  26.142200             3.935740  "
      ]
     },
     "execution_count": 431,
     "metadata": {},
     "output_type": "execute_result"
    }
   ],
   "source": [
    "at2022_ordered.head(3)"
   ]
  },
  {
   "cell_type": "markdown",
   "id": "4e14de21-9191-425f-ac40-ec0fadd0ccad",
   "metadata": {},
   "source": [
    "### 2023"
   ]
  },
  {
   "cell_type": "code",
   "execution_count": 432,
   "id": "0891d676-0c08-42ba-ba76-b70725359fae",
   "metadata": {},
   "outputs": [],
   "source": [
    "at2023 = pd.read_csv('../data/raw/446d4be1-fb6f-4d27-8275-9045049ee4c6_Data.csv')\n",
    "at2023_pruned = at2023.iloc[:265, :]"
   ]
  },
  {
   "cell_type": "code",
   "execution_count": 433,
   "id": "0f8ffe04-89a3-49fb-ae89-2e929dd213af",
   "metadata": {},
   "outputs": [],
   "source": [
    "at2023_pruned = at2023_pruned.rename(columns = {'Country Code': 'iso_o'})\n",
    "at2023_pruned = at2023_pruned.rename(columns = {'Country Name': 'Country'})\n",
    "at2023_pruned = at2023_pruned.rename(columns = {'GDP (current US$) [NY.GDP.MKTP.CD]': 'GDP'})\n",
    "at2023_pruned = at2023_pruned.rename(columns = {'GDP per capita (current US$) [NY.GDP.PCAP.CD]': 'GDP_pct'})\n",
    "at2023_pruned = at2023_pruned.rename(columns = {'Population, total [SP.POP.TOTL]': 'population'})\n",
    "at2023_pruned = at2023_pruned.rename(columns = {'Trade (% of GDP) [NE.TRD.GNFS.ZS]': 'trade_gdp_ratio'})"
   ]
  },
  {
   "cell_type": "code",
   "execution_count": 434,
   "id": "7cdb5465-bdd7-4c17-965b-5f79951ba27d",
   "metadata": {},
   "outputs": [],
   "source": [
    "at2023_ordered = at2023_pruned[['iso_o', 'Country', 'Time', 'GDP', 'GDP_pct', 'population', 'trade_gdp_ratio']]"
   ]
  },
  {
   "cell_type": "code",
   "execution_count": 435,
   "id": "23d60ccb-ce55-47df-9523-d73f5538d415",
   "metadata": {},
   "outputs": [
    {
     "name": "stderr",
     "output_type": "stream",
     "text": [
      "C:\\Users\\Lenovo\\AppData\\Local\\Temp\\ipykernel_39028\\3362587871.py:1: SettingWithCopyWarning: \n",
      "A value is trying to be set on a copy of a slice from a DataFrame.\n",
      "Try using .loc[row_indexer,col_indexer] = value instead\n",
      "\n",
      "See the caveats in the documentation: https://pandas.pydata.org/pandas-docs/stable/user_guide/indexing.html#returning-a-view-versus-a-copy\n",
      "  at2023_ordered[column] = at2023_ordered[column].replace('..', np.nan)\n",
      "C:\\Users\\Lenovo\\AppData\\Local\\Temp\\ipykernel_39028\\3362587871.py:2: SettingWithCopyWarning: \n",
      "A value is trying to be set on a copy of a slice from a DataFrame.\n",
      "Try using .loc[row_indexer,col_indexer] = value instead\n",
      "\n",
      "See the caveats in the documentation: https://pandas.pydata.org/pandas-docs/stable/user_guide/indexing.html#returning-a-view-versus-a-copy\n",
      "  at2023_ordered[column] = at2023_ordered[column].apply(lambda x: pd.to_numeric(x, errors='coerce')).round(2)\n",
      "C:\\Users\\Lenovo\\AppData\\Local\\Temp\\ipykernel_39028\\3362587871.py:5: SettingWithCopyWarning: \n",
      "A value is trying to be set on a copy of a slice from a DataFrame.\n",
      "Try using .loc[row_indexer,col_indexer] = value instead\n",
      "\n",
      "See the caveats in the documentation: https://pandas.pydata.org/pandas-docs/stable/user_guide/indexing.html#returning-a-view-versus-a-copy\n",
      "  at2023_ordered['GDP'] = at2023_ordered['GDP'].fillna(mean_gdp_2023)\n"
     ]
    }
   ],
   "source": [
    "at2023_ordered[column] = at2023_ordered[column].replace('..', np.nan)\n",
    "at2023_ordered[column] = at2023_ordered[column].apply(lambda x: pd.to_numeric(x, errors='coerce')).round(2)\n",
    "\n",
    "mean_gdp_2023 = at2023_ordered['GDP'].mean()\n",
    "at2023_ordered['GDP'] = at2023_ordered['GDP'].fillna(mean_gdp_2023)\n",
    "at2023_ordered['log_GDP'] = np.log(at2023_ordered['GDP'])\n",
    "at2023_ordered['log_trade_gdp_ratio'] = np.log(at2023_ordered['trade_gdp_ratio'])"
   ]
  },
  {
   "cell_type": "code",
   "execution_count": 436,
   "id": "9f42fd28-4448-44e1-8162-ff30b74dc791",
   "metadata": {},
   "outputs": [
    {
     "name": "stdout",
     "output_type": "stream",
     "text": [
      "190\n",
      "{'MSR', 'TWN'}\n"
     ]
    }
   ],
   "source": [
    "j = set(at2023_ordered['iso_o'].unique()) & set(total_trade['iso_o'].unique())\n",
    "print(len(j))\n",
    "print(set(total_trade['iso_o'].unique()) - set(at2023_ordered['iso_o'].unique()))"
   ]
  },
  {
   "cell_type": "code",
   "execution_count": 437,
   "id": "8ce88ced-92cd-4a5e-8527-4ab87249fe68",
   "metadata": {},
   "outputs": [],
   "source": [
    "at2023_ordered = at2023_ordered[at2023_ordered['iso_o'].isin(j)]\n",
    "at2023_ordered = at2023_ordered.reset_index(drop = True)"
   ]
  },
  {
   "cell_type": "code",
   "execution_count": 438,
   "id": "ee628527-dc4c-4503-8e93-59ed9ad7365f",
   "metadata": {},
   "outputs": [
    {
     "data": {
      "text/html": [
       "<div>\n",
       "<style scoped>\n",
       "    .dataframe tbody tr th:only-of-type {\n",
       "        vertical-align: middle;\n",
       "    }\n",
       "\n",
       "    .dataframe tbody tr th {\n",
       "        vertical-align: top;\n",
       "    }\n",
       "\n",
       "    .dataframe thead th {\n",
       "        text-align: right;\n",
       "    }\n",
       "</style>\n",
       "<table border=\"1\" class=\"dataframe\">\n",
       "  <thead>\n",
       "    <tr style=\"text-align: right;\">\n",
       "      <th></th>\n",
       "      <th>iso_o</th>\n",
       "      <th>Country</th>\n",
       "      <th>Time</th>\n",
       "      <th>GDP</th>\n",
       "      <th>GDP_pct</th>\n",
       "      <th>population</th>\n",
       "      <th>trade_gdp_ratio</th>\n",
       "      <th>log_GDP</th>\n",
       "      <th>log_trade_gdp_ratio</th>\n",
       "    </tr>\n",
       "  </thead>\n",
       "  <tbody>\n",
       "    <tr>\n",
       "      <th>0</th>\n",
       "      <td>AFG</td>\n",
       "      <td>Afghanistan</td>\n",
       "      <td>2023</td>\n",
       "      <td>1.715223e+10</td>\n",
       "      <td>413.76</td>\n",
       "      <td>41454761.0</td>\n",
       "      <td>67.58</td>\n",
       "      <td>23.565394</td>\n",
       "      <td>4.213312</td>\n",
       "    </tr>\n",
       "    <tr>\n",
       "      <th>1</th>\n",
       "      <td>ALB</td>\n",
       "      <td>Albania</td>\n",
       "      <td>2023</td>\n",
       "      <td>2.354718e+10</td>\n",
       "      <td>8575.17</td>\n",
       "      <td>2745972.0</td>\n",
       "      <td>82.49</td>\n",
       "      <td>23.882272</td>\n",
       "      <td>4.412677</td>\n",
       "    </tr>\n",
       "    <tr>\n",
       "      <th>2</th>\n",
       "      <td>DZA</td>\n",
       "      <td>Algeria</td>\n",
       "      <td>2023</td>\n",
       "      <td>2.476262e+11</td>\n",
       "      <td>5364.03</td>\n",
       "      <td>46164219.0</td>\n",
       "      <td>43.68</td>\n",
       "      <td>26.235186</td>\n",
       "      <td>3.776890</td>\n",
       "    </tr>\n",
       "  </tbody>\n",
       "</table>\n",
       "</div>"
      ],
      "text/plain": [
       "  iso_o      Country  Time           GDP  GDP_pct  population  \\\n",
       "0   AFG  Afghanistan  2023  1.715223e+10   413.76  41454761.0   \n",
       "1   ALB      Albania  2023  2.354718e+10  8575.17   2745972.0   \n",
       "2   DZA      Algeria  2023  2.476262e+11  5364.03  46164219.0   \n",
       "\n",
       "   trade_gdp_ratio    log_GDP  log_trade_gdp_ratio  \n",
       "0            67.58  23.565394             4.213312  \n",
       "1            82.49  23.882272             4.412677  \n",
       "2            43.68  26.235186             3.776890  "
      ]
     },
     "execution_count": 438,
     "metadata": {},
     "output_type": "execute_result"
    }
   ],
   "source": [
    "at2023_ordered.head(3)"
   ]
  },
  {
   "cell_type": "code",
   "execution_count": 439,
   "id": "6c423b6e-bfbf-481c-aad9-cee92639042e",
   "metadata": {},
   "outputs": [],
   "source": [
    "at1999_ordered.to_csv('../data/cleaned/attribute1999.csv', encoding='utf-8', index=False)\n",
    "at2000_ordered.to_csv('../data/cleaned/attribute2000.csv', encoding='utf-8', index=False)\n",
    "at2001_ordered.to_csv('../data/cleaned/attribute2001.csv', encoding='utf-8', index=False)\n",
    "at2002_ordered.to_csv('../data/cleaned/attribute2002.csv', encoding='utf-8', index=False)\n",
    "at2003_ordered.to_csv('../data/cleaned/attribute2003.csv', encoding='utf-8', index=False)\n",
    "at2004_ordered.to_csv('../data/cleaned/attribute2004.csv', encoding='utf-8', index=False)\n",
    "at2005_ordered.to_csv('../data/cleaned/attribute2005.csv', encoding='utf-8', index=False)\n",
    "at2006_ordered.to_csv('../data/cleaned/attribute2006.csv', encoding='utf-8', index=False)\n",
    "at2007_ordered.to_csv('../data/cleaned/attribute2007.csv', encoding='utf-8', index=False)\n",
    "at2008_ordered.to_csv('../data/cleaned/attribute2008.csv', encoding='utf-8', index=False)\n",
    "at2009_ordered.to_csv('../data/cleaned/attribute2009.csv', encoding='utf-8', index=False)\n",
    "at2010_ordered.to_csv('../data/cleaned/attribute2010.csv', encoding='utf-8', index=False)\n",
    "at2011_ordered.to_csv('../data/cleaned/attribute2011.csv', encoding='utf-8', index=False)\n",
    "at2012_ordered.to_csv('../data/cleaned/attribute2012.csv', encoding='utf-8', index=False)\n",
    "at2013_ordered.to_csv('../data/cleaned/attribute2013.csv', encoding='utf-8', index=False)\n",
    "at2014_ordered.to_csv('../data/cleaned/attribute2014.csv', encoding='utf-8', index=False)\n",
    "at2015_ordered.to_csv('../data/cleaned/attribute2015.csv', encoding='utf-8', index=False)\n",
    "at2016_ordered.to_csv('../data/cleaned/attribute2016.csv', encoding='utf-8', index=False)\n",
    "at2017_ordered.to_csv('../data/cleaned/attribute2017.csv', encoding='utf-8', index=False)\n",
    "at2018_ordered.to_csv('../data/cleaned/attribute2018.csv', encoding='utf-8', index=False)\n",
    "at2019_ordered.to_csv('../data/cleaned/attribute2019.csv', encoding='utf-8', index=False)\n",
    "at2020_ordered.to_csv('../data/cleaned/attribute2020.csv', encoding='utf-8', index=False)\n",
    "at2021_ordered.to_csv('../data/cleaned/attribute2021.csv', encoding='utf-8', index=False)\n",
    "at2022_ordered.to_csv('../data/cleaned/attribute2022.csv', encoding='utf-8', index=False)\n",
    "at2023_ordered.to_csv('../data/cleaned/attribute2023.csv', encoding='utf-8', index=False)"
   ]
  },
  {
   "cell_type": "markdown",
   "id": "24572983-e450-4b52-af59-0fcbd6a18c18",
   "metadata": {},
   "source": [
    "### Preparing the RTA data"
   ]
  },
  {
   "cell_type": "markdown",
   "id": "eaca269d-75d6-474d-a7fc-f0db506ac4b1",
   "metadata": {},
   "source": [
    "This dataset is collected from `https://www.ewf.uni-bayreuth.de/en/research/RTA-data/index.html`\n",
    "### Steps:\n",
    "1. keeping only the 'rta column and the years after 1999\n",
    "2. checking for duplicates\n",
    "3. removing self-loops\n",
    "4. saving in the cleaned subfolder of the data folder"
   ]
  },
  {
   "cell_type": "code",
   "execution_count": 440,
   "id": "02a11cd9-eff8-4487-a11c-1dbf52becdee",
   "metadata": {},
   "outputs": [],
   "source": [
    "rta = pd.read_csv(\"../data/raw/rta_20241028.csv\")"
   ]
  },
  {
   "cell_type": "code",
   "execution_count": 441,
   "id": "55220408-f6c0-4033-a8de-3aebb486c714",
   "metadata": {},
   "outputs": [],
   "source": [
    "rta  = rta.rename(columns = {'exporter': 'iso_o'})\n",
    "rta  = rta.rename(columns = {'importer': 'iso_d'})"
   ]
  },
  {
   "cell_type": "code",
   "execution_count": 442,
   "id": "87aa6655-9a61-4664-8650-a76bb685d179",
   "metadata": {},
   "outputs": [
    {
     "data": {
      "text/plain": [
       "280"
      ]
     },
     "execution_count": 442,
     "metadata": {},
     "output_type": "execute_result"
    }
   ],
   "source": [
    "rta['iso_o'].nunique()"
   ]
  },
  {
   "cell_type": "code",
   "execution_count": 443,
   "id": "eb061293-d7a4-4b8e-b699-3417b6c4817d",
   "metadata": {},
   "outputs": [],
   "source": [
    "rta = rta[rta['iso_o'] != rta['iso_d']]"
   ]
  },
  {
   "cell_type": "code",
   "execution_count": 444,
   "id": "9940a9b1-1604-4e55-806f-daa692fe68c5",
   "metadata": {},
   "outputs": [
    {
     "name": "stdout",
     "output_type": "stream",
     "text": [
      "78120\n"
     ]
    }
   ],
   "source": [
    "print(rta.groupby(['iso_o', 'iso_d']).ngroups)"
   ]
  },
  {
   "cell_type": "code",
   "execution_count": 445,
   "id": "c9999f35-27db-4134-a25d-981af9b6c43f",
   "metadata": {},
   "outputs": [
    {
     "data": {
      "text/plain": [
       "5780880"
      ]
     },
     "execution_count": 445,
     "metadata": {},
     "output_type": "execute_result"
    }
   ],
   "source": [
    "rta.shape[0]"
   ]
  },
  {
   "cell_type": "code",
   "execution_count": 446,
   "id": "21704e7e-477c-4d02-b95e-3d088ede219d",
   "metadata": {},
   "outputs": [],
   "source": [
    "rta = rta[rta['year'] >= 2000]"
   ]
  },
  {
   "cell_type": "code",
   "execution_count": 447,
   "id": "d5a6f00c-500f-4c93-9d61-83f004f4250c",
   "metadata": {},
   "outputs": [
    {
     "data": {
      "text/plain": [
       "(1874880, 11)"
      ]
     },
     "execution_count": 447,
     "metadata": {},
     "output_type": "execute_result"
    }
   ],
   "source": [
    "rta.shape"
   ]
  },
  {
   "cell_type": "code",
   "execution_count": 448,
   "id": "c48818d7-6a33-45fa-8be9-9e270b5d2fd3",
   "metadata": {},
   "outputs": [],
   "source": [
    "rta = rta[['iso_o', 'iso_d', 'year', 'rta']].reset_index(drop = True)"
   ]
  },
  {
   "cell_type": "code",
   "execution_count": 449,
   "id": "469bae73-c47a-42f1-93fc-fa9140b477e2",
   "metadata": {},
   "outputs": [
    {
     "data": {
      "text/html": [
       "<div>\n",
       "<style scoped>\n",
       "    .dataframe tbody tr th:only-of-type {\n",
       "        vertical-align: middle;\n",
       "    }\n",
       "\n",
       "    .dataframe tbody tr th {\n",
       "        vertical-align: top;\n",
       "    }\n",
       "\n",
       "    .dataframe thead th {\n",
       "        text-align: right;\n",
       "    }\n",
       "</style>\n",
       "<table border=\"1\" class=\"dataframe\">\n",
       "  <thead>\n",
       "    <tr style=\"text-align: right;\">\n",
       "      <th></th>\n",
       "      <th>iso_o</th>\n",
       "      <th>iso_d</th>\n",
       "      <th>year</th>\n",
       "      <th>rta</th>\n",
       "    </tr>\n",
       "  </thead>\n",
       "  <tbody>\n",
       "    <tr>\n",
       "      <th>0</th>\n",
       "      <td>ABW</td>\n",
       "      <td>AFG</td>\n",
       "      <td>2000</td>\n",
       "      <td>0</td>\n",
       "    </tr>\n",
       "    <tr>\n",
       "      <th>1</th>\n",
       "      <td>ABW</td>\n",
       "      <td>AFG</td>\n",
       "      <td>2001</td>\n",
       "      <td>0</td>\n",
       "    </tr>\n",
       "  </tbody>\n",
       "</table>\n",
       "</div>"
      ],
      "text/plain": [
       "  iso_o iso_d  year  rta\n",
       "0   ABW   AFG  2000    0\n",
       "1   ABW   AFG  2001    0"
      ]
     },
     "execution_count": 449,
     "metadata": {},
     "output_type": "execute_result"
    }
   ],
   "source": [
    "rta.head(2)"
   ]
  },
  {
   "cell_type": "code",
   "execution_count": 450,
   "id": "37d02011-a350-4ed4-b0ba-6d1ec1e37829",
   "metadata": {},
   "outputs": [],
   "source": [
    "rta.to_csv(\"../data/cleaned/rta_long.csv\", encoding = 'utf-8', index = False)"
   ]
  },
  {
   "cell_type": "code",
   "execution_count": 451,
   "id": "25e42ba5-8967-4a11-8a83-55bf0c75bdec",
   "metadata": {},
   "outputs": [],
   "source": [
    "rta_edgelist = rta.pivot_table(values = 'rta', index = ['iso_o', 'iso_d'], columns = 'year').reset_index()"
   ]
  },
  {
   "cell_type": "code",
   "execution_count": 452,
   "id": "518d15c8-06dc-4b55-b79a-c9f397fb0f45",
   "metadata": {},
   "outputs": [
    {
     "data": {
      "text/html": [
       "<div>\n",
       "<style scoped>\n",
       "    .dataframe tbody tr th:only-of-type {\n",
       "        vertical-align: middle;\n",
       "    }\n",
       "\n",
       "    .dataframe tbody tr th {\n",
       "        vertical-align: top;\n",
       "    }\n",
       "\n",
       "    .dataframe thead th {\n",
       "        text-align: right;\n",
       "    }\n",
       "</style>\n",
       "<table border=\"1\" class=\"dataframe\">\n",
       "  <thead>\n",
       "    <tr style=\"text-align: right;\">\n",
       "      <th>year</th>\n",
       "      <th>iso_o</th>\n",
       "      <th>iso_d</th>\n",
       "      <th>2000</th>\n",
       "      <th>2001</th>\n",
       "      <th>2002</th>\n",
       "      <th>2003</th>\n",
       "      <th>2004</th>\n",
       "      <th>2005</th>\n",
       "      <th>2006</th>\n",
       "      <th>2007</th>\n",
       "      <th>...</th>\n",
       "      <th>2014</th>\n",
       "      <th>2015</th>\n",
       "      <th>2016</th>\n",
       "      <th>2017</th>\n",
       "      <th>2018</th>\n",
       "      <th>2019</th>\n",
       "      <th>2020</th>\n",
       "      <th>2021</th>\n",
       "      <th>2022</th>\n",
       "      <th>2023</th>\n",
       "    </tr>\n",
       "  </thead>\n",
       "  <tbody>\n",
       "    <tr>\n",
       "      <th>7370</th>\n",
       "      <td>BGD</td>\n",
       "      <td>IND</td>\n",
       "      <td>1.0</td>\n",
       "      <td>1.0</td>\n",
       "      <td>1.0</td>\n",
       "      <td>1.0</td>\n",
       "      <td>1.0</td>\n",
       "      <td>1.0</td>\n",
       "      <td>1.0</td>\n",
       "      <td>1.0</td>\n",
       "      <td>...</td>\n",
       "      <td>1.0</td>\n",
       "      <td>1.0</td>\n",
       "      <td>1.0</td>\n",
       "      <td>1.0</td>\n",
       "      <td>1.0</td>\n",
       "      <td>1.0</td>\n",
       "      <td>1.0</td>\n",
       "      <td>1.0</td>\n",
       "      <td>1.0</td>\n",
       "      <td>1.0</td>\n",
       "    </tr>\n",
       "  </tbody>\n",
       "</table>\n",
       "<p>1 rows × 26 columns</p>\n",
       "</div>"
      ],
      "text/plain": [
       "year iso_o iso_d  2000  2001  2002  2003  2004  2005  2006  2007  ...  2014  \\\n",
       "7370   BGD   IND   1.0   1.0   1.0   1.0   1.0   1.0   1.0   1.0  ...   1.0   \n",
       "\n",
       "year  2015  2016  2017  2018  2019  2020  2021  2022  2023  \n",
       "7370   1.0   1.0   1.0   1.0   1.0   1.0   1.0   1.0   1.0  \n",
       "\n",
       "[1 rows x 26 columns]"
      ]
     },
     "execution_count": 452,
     "metadata": {},
     "output_type": "execute_result"
    }
   ],
   "source": [
    "rta_edgelist[(rta_edgelist['iso_o'] == 'BGD') & (rta_edgelist['iso_d'] == 'IND')] #sanity check "
   ]
  },
  {
   "cell_type": "code",
   "execution_count": 453,
   "id": "a05c0a3d-7142-499e-9c98-47a9d626e6ba",
   "metadata": {},
   "outputs": [],
   "source": [
    "rta_edgelist.to_csv(\"../data/cleaned/rta_edgelist.csv\", encoding = 'utf-8', index = False)"
   ]
  },
  {
   "cell_type": "markdown",
   "id": "54171d3d-3c11-43eb-b350-0f438f34804e",
   "metadata": {},
   "source": [
    "### Concatenating time variant indicators for all countries in a single data frame"
   ]
  },
  {
   "cell_type": "code",
   "execution_count": 454,
   "id": "405777f3-c4cd-4834-8770-46e8fd0b2dc9",
   "metadata": {},
   "outputs": [],
   "source": [
    "long = pd.concat([at1999_ordered, at2000_ordered, at2001_ordered, at2002_ordered, at2003_ordered, at2004_ordered, at2005_ordered, at2006_ordered, at2007_ordered, at2008_ordered,at2009_ordered, at2010_ordered, at2011_ordered, at2012_ordered, at2013_ordered, at2014_ordered, at2015_ordered, at2016_ordered, at2017_ordered, at2018_ordered, at2019_ordered, at2020_ordered, at2021_ordered, at2022_ordered, at2023_ordered], axis = 0) "
   ]
  },
  {
   "cell_type": "code",
   "execution_count": 455,
   "id": "101e30d6-80d9-46ec-b6f5-a04db2bbe3b1",
   "metadata": {},
   "outputs": [
    {
     "name": "stdout",
     "output_type": "stream",
     "text": [
      "190\n",
      "25\n",
      "['1999' '2000' '2001' '2002' '2003' '2004' '2005' '2006' '2007' '2008'\n",
      " '2009' '2010' '2011' '2012' '2013' '2014' '2015' '2016' '2017' '2018'\n",
      " '2019' '2020' '2021' '2022' '2023']\n"
     ]
    }
   ],
   "source": [
    "print(long['iso_o'].nunique())\n",
    "print(long['Time'].nunique())\n",
    "print(long['Time'].unique())"
   ]
  },
  {
   "cell_type": "code",
   "execution_count": 456,
   "id": "b94b675c-8783-410b-94cc-4ca2da95a567",
   "metadata": {},
   "outputs": [
    {
     "data": {
      "text/html": [
       "<div>\n",
       "<style scoped>\n",
       "    .dataframe tbody tr th:only-of-type {\n",
       "        vertical-align: middle;\n",
       "    }\n",
       "\n",
       "    .dataframe tbody tr th {\n",
       "        vertical-align: top;\n",
       "    }\n",
       "\n",
       "    .dataframe thead th {\n",
       "        text-align: right;\n",
       "    }\n",
       "</style>\n",
       "<table border=\"1\" class=\"dataframe\">\n",
       "  <thead>\n",
       "    <tr style=\"text-align: right;\">\n",
       "      <th></th>\n",
       "      <th>iso_o</th>\n",
       "      <th>Country</th>\n",
       "      <th>Time</th>\n",
       "      <th>GDP</th>\n",
       "      <th>GDP_pct</th>\n",
       "      <th>population</th>\n",
       "      <th>trade_gdp_ratio</th>\n",
       "      <th>log_GDP</th>\n",
       "      <th>log_trade_gdp_ratio</th>\n",
       "    </tr>\n",
       "  </thead>\n",
       "  <tbody>\n",
       "    <tr>\n",
       "      <th>0</th>\n",
       "      <td>AFG</td>\n",
       "      <td>Afghanistan</td>\n",
       "      <td>1999</td>\n",
       "      <td>8.347859e+11</td>\n",
       "      <td>NaN</td>\n",
       "      <td>19887785.0</td>\n",
       "      <td>NaN</td>\n",
       "      <td>27.450441</td>\n",
       "      <td>NaN</td>\n",
       "    </tr>\n",
       "    <tr>\n",
       "      <th>1</th>\n",
       "      <td>ALB</td>\n",
       "      <td>Albania</td>\n",
       "      <td>1999</td>\n",
       "      <td>3.283942e+09</td>\n",
       "      <td>1056.34</td>\n",
       "      <td>3108778.0</td>\n",
       "      <td>49.9</td>\n",
       "      <td>21.912310</td>\n",
       "      <td>3.910021</td>\n",
       "    </tr>\n",
       "  </tbody>\n",
       "</table>\n",
       "</div>"
      ],
      "text/plain": [
       "  iso_o      Country  Time           GDP  GDP_pct  population  \\\n",
       "0   AFG  Afghanistan  1999  8.347859e+11      NaN  19887785.0   \n",
       "1   ALB      Albania  1999  3.283942e+09  1056.34   3108778.0   \n",
       "\n",
       "   trade_gdp_ratio    log_GDP  log_trade_gdp_ratio  \n",
       "0              NaN  27.450441                  NaN  \n",
       "1             49.9  21.912310             3.910021  "
      ]
     },
     "execution_count": 456,
     "metadata": {},
     "output_type": "execute_result"
    }
   ],
   "source": [
    "long.head(2)"
   ]
  },
  {
   "cell_type": "code",
   "execution_count": 457,
   "id": "da60dbf4-c42b-47eb-92d1-4cd6a3af2fd2",
   "metadata": {},
   "outputs": [
    {
     "data": {
      "text/plain": [
       "iso_o                   0\n",
       "Country                 0\n",
       "Time                    0\n",
       "GDP                     0\n",
       "GDP_pct                 1\n",
       "population              0\n",
       "trade_gdp_ratio        24\n",
       "log_GDP                 0\n",
       "log_trade_gdp_ratio    24\n",
       "dtype: int64"
      ]
     },
     "execution_count": 457,
     "metadata": {},
     "output_type": "execute_result"
    }
   ],
   "source": [
    "missing10 = at2010_ordered.isna().sum()\n",
    "missing10"
   ]
  },
  {
   "cell_type": "code",
   "execution_count": 458,
   "id": "b0f27920-f29f-4259-8609-0ed0a9073418",
   "metadata": {},
   "outputs": [
    {
     "data": {
      "text/html": [
       "<div>\n",
       "<style scoped>\n",
       "    .dataframe tbody tr th:only-of-type {\n",
       "        vertical-align: middle;\n",
       "    }\n",
       "\n",
       "    .dataframe tbody tr th {\n",
       "        vertical-align: top;\n",
       "    }\n",
       "\n",
       "    .dataframe thead th {\n",
       "        text-align: right;\n",
       "    }\n",
       "</style>\n",
       "<table border=\"1\" class=\"dataframe\">\n",
       "  <thead>\n",
       "    <tr style=\"text-align: right;\">\n",
       "      <th></th>\n",
       "      <th>iso_o</th>\n",
       "      <th>Country</th>\n",
       "      <th>Time</th>\n",
       "      <th>GDP</th>\n",
       "      <th>GDP_pct</th>\n",
       "      <th>population</th>\n",
       "      <th>trade_gdp_ratio</th>\n",
       "      <th>log_GDP</th>\n",
       "      <th>log_trade_gdp_ratio</th>\n",
       "    </tr>\n",
       "  </thead>\n",
       "  <tbody>\n",
       "    <tr>\n",
       "      <th>93</th>\n",
       "      <td>PRK</td>\n",
       "      <td>Korea, Dem. People's Rep.</td>\n",
       "      <td>2010</td>\n",
       "      <td>1.798902e+12</td>\n",
       "      <td>NaN</td>\n",
       "      <td>24987258.0</td>\n",
       "      <td>NaN</td>\n",
       "      <td>28.218197</td>\n",
       "      <td>NaN</td>\n",
       "    </tr>\n",
       "  </tbody>\n",
       "</table>\n",
       "</div>"
      ],
      "text/plain": [
       "   iso_o                    Country  Time           GDP  GDP_pct  population  \\\n",
       "93   PRK  Korea, Dem. People's Rep.  2010  1.798902e+12      NaN  24987258.0   \n",
       "\n",
       "    trade_gdp_ratio    log_GDP  log_trade_gdp_ratio  \n",
       "93              NaN  28.218197                  NaN  "
      ]
     },
     "execution_count": 458,
     "metadata": {},
     "output_type": "execute_result"
    }
   ],
   "source": [
    "at2010_ordered[at2010_ordered['GDP_pct'].isna()]"
   ]
  },
  {
   "cell_type": "code",
   "execution_count": 459,
   "id": "a3f73220-2076-4a6a-b244-8b1a7d6acf72",
   "metadata": {},
   "outputs": [],
   "source": [
    "long_sorted = long.sort_values(['iso_o', 'Country', 'Time']).reset_index(drop= True)"
   ]
  },
  {
   "cell_type": "code",
   "execution_count": 460,
   "id": "1d4297be-e78e-4f7e-9ba3-0a71ee9fc316",
   "metadata": {},
   "outputs": [
    {
     "data": {
      "text/html": [
       "<div>\n",
       "<style scoped>\n",
       "    .dataframe tbody tr th:only-of-type {\n",
       "        vertical-align: middle;\n",
       "    }\n",
       "\n",
       "    .dataframe tbody tr th {\n",
       "        vertical-align: top;\n",
       "    }\n",
       "\n",
       "    .dataframe thead th {\n",
       "        text-align: right;\n",
       "    }\n",
       "</style>\n",
       "<table border=\"1\" class=\"dataframe\">\n",
       "  <thead>\n",
       "    <tr style=\"text-align: right;\">\n",
       "      <th></th>\n",
       "      <th>iso_o</th>\n",
       "      <th>Country</th>\n",
       "      <th>Time</th>\n",
       "      <th>GDP</th>\n",
       "      <th>GDP_pct</th>\n",
       "      <th>population</th>\n",
       "      <th>trade_gdp_ratio</th>\n",
       "      <th>log_GDP</th>\n",
       "      <th>log_trade_gdp_ratio</th>\n",
       "    </tr>\n",
       "  </thead>\n",
       "  <tbody>\n",
       "    <tr>\n",
       "      <th>0</th>\n",
       "      <td>ABW</td>\n",
       "      <td>Aruba</td>\n",
       "      <td>1999</td>\n",
       "      <td>1.722905e+09</td>\n",
       "      <td>19216.20</td>\n",
       "      <td>89659.0</td>\n",
       "      <td>164.56</td>\n",
       "      <td>21.267278</td>\n",
       "      <td>5.103275</td>\n",
       "    </tr>\n",
       "    <tr>\n",
       "      <th>1</th>\n",
       "      <td>ABW</td>\n",
       "      <td>Aruba</td>\n",
       "      <td>2000</td>\n",
       "      <td>1.873453e+09</td>\n",
       "      <td>20681.02</td>\n",
       "      <td>90588.0</td>\n",
       "      <td>145.07</td>\n",
       "      <td>21.351049</td>\n",
       "      <td>4.977216</td>\n",
       "    </tr>\n",
       "    <tr>\n",
       "      <th>2</th>\n",
       "      <td>ABW</td>\n",
       "      <td>Aruba</td>\n",
       "      <td>2001</td>\n",
       "      <td>1.896457e+09</td>\n",
       "      <td>20740.13</td>\n",
       "      <td>91439.0</td>\n",
       "      <td>140.39</td>\n",
       "      <td>21.363253</td>\n",
       "      <td>4.944424</td>\n",
       "    </tr>\n",
       "    <tr>\n",
       "      <th>3</th>\n",
       "      <td>ABW</td>\n",
       "      <td>Aruba</td>\n",
       "      <td>2002</td>\n",
       "      <td>1.961844e+09</td>\n",
       "      <td>21307.25</td>\n",
       "      <td>92074.0</td>\n",
       "      <td>133.23</td>\n",
       "      <td>21.397150</td>\n",
       "      <td>4.892077</td>\n",
       "    </tr>\n",
       "    <tr>\n",
       "      <th>4</th>\n",
       "      <td>ABW</td>\n",
       "      <td>Aruba</td>\n",
       "      <td>2003</td>\n",
       "      <td>2.044112e+09</td>\n",
       "      <td>21949.49</td>\n",
       "      <td>93128.0</td>\n",
       "      <td>132.79</td>\n",
       "      <td>21.438229</td>\n",
       "      <td>4.888769</td>\n",
       "    </tr>\n",
       "    <tr>\n",
       "      <th>5</th>\n",
       "      <td>ABW</td>\n",
       "      <td>Aruba</td>\n",
       "      <td>2004</td>\n",
       "      <td>2.254831e+09</td>\n",
       "      <td>23700.63</td>\n",
       "      <td>95138.0</td>\n",
       "      <td>132.43</td>\n",
       "      <td>21.536341</td>\n",
       "      <td>4.886054</td>\n",
       "    </tr>\n",
       "    <tr>\n",
       "      <th>6</th>\n",
       "      <td>ABW</td>\n",
       "      <td>Aruba</td>\n",
       "      <td>2005</td>\n",
       "      <td>2.360017e+09</td>\n",
       "      <td>24171.84</td>\n",
       "      <td>97635.0</td>\n",
       "      <td>145.05</td>\n",
       "      <td>21.581935</td>\n",
       "      <td>4.977079</td>\n",
       "    </tr>\n",
       "    <tr>\n",
       "      <th>7</th>\n",
       "      <td>ABW</td>\n",
       "      <td>Aruba</td>\n",
       "      <td>2006</td>\n",
       "      <td>2.469783e+09</td>\n",
       "      <td>24845.66</td>\n",
       "      <td>99405.0</td>\n",
       "      <td>141.04</td>\n",
       "      <td>21.627396</td>\n",
       "      <td>4.949044</td>\n",
       "    </tr>\n",
       "    <tr>\n",
       "      <th>8</th>\n",
       "      <td>ABW</td>\n",
       "      <td>Aruba</td>\n",
       "      <td>2007</td>\n",
       "      <td>2.677641e+09</td>\n",
       "      <td>26736.31</td>\n",
       "      <td>100150.0</td>\n",
       "      <td>139.97</td>\n",
       "      <td>21.708202</td>\n",
       "      <td>4.941428</td>\n",
       "    </tr>\n",
       "    <tr>\n",
       "      <th>9</th>\n",
       "      <td>ABW</td>\n",
       "      <td>Aruba</td>\n",
       "      <td>2008</td>\n",
       "      <td>2.843025e+09</td>\n",
       "      <td>28171.91</td>\n",
       "      <td>100917.0</td>\n",
       "      <td>139.11</td>\n",
       "      <td>21.768134</td>\n",
       "      <td>4.935265</td>\n",
       "    </tr>\n",
       "    <tr>\n",
       "      <th>10</th>\n",
       "      <td>ABW</td>\n",
       "      <td>Aruba</td>\n",
       "      <td>2009</td>\n",
       "      <td>2.553793e+09</td>\n",
       "      <td>25134.77</td>\n",
       "      <td>101604.0</td>\n",
       "      <td>137.56</td>\n",
       "      <td>21.660846</td>\n",
       "      <td>4.924060</td>\n",
       "    </tr>\n",
       "    <tr>\n",
       "      <th>11</th>\n",
       "      <td>ABW</td>\n",
       "      <td>Aruba</td>\n",
       "      <td>2010</td>\n",
       "      <td>2.453597e+09</td>\n",
       "      <td>24093.14</td>\n",
       "      <td>101838.0</td>\n",
       "      <td>135.46</td>\n",
       "      <td>21.620821</td>\n",
       "      <td>4.908676</td>\n",
       "    </tr>\n",
       "    <tr>\n",
       "      <th>12</th>\n",
       "      <td>ABW</td>\n",
       "      <td>Aruba</td>\n",
       "      <td>2011</td>\n",
       "      <td>2.637859e+09</td>\n",
       "      <td>25712.38</td>\n",
       "      <td>102591.0</td>\n",
       "      <td>154.44</td>\n",
       "      <td>21.693234</td>\n",
       "      <td>5.039806</td>\n",
       "    </tr>\n",
       "    <tr>\n",
       "      <th>13</th>\n",
       "      <td>ABW</td>\n",
       "      <td>Aruba</td>\n",
       "      <td>2012</td>\n",
       "      <td>2.615208e+09</td>\n",
       "      <td>25119.67</td>\n",
       "      <td>104110.0</td>\n",
       "      <td>156.65</td>\n",
       "      <td>21.684610</td>\n",
       "      <td>5.054014</td>\n",
       "    </tr>\n",
       "    <tr>\n",
       "      <th>14</th>\n",
       "      <td>ABW</td>\n",
       "      <td>Aruba</td>\n",
       "      <td>2013</td>\n",
       "      <td>2.727850e+09</td>\n",
       "      <td>25813.58</td>\n",
       "      <td>105675.0</td>\n",
       "      <td>161.89</td>\n",
       "      <td>21.726779</td>\n",
       "      <td>5.086917</td>\n",
       "    </tr>\n",
       "    <tr>\n",
       "      <th>15</th>\n",
       "      <td>ABW</td>\n",
       "      <td>Aruba</td>\n",
       "      <td>2014</td>\n",
       "      <td>2.790850e+09</td>\n",
       "      <td>26129.84</td>\n",
       "      <td>106807.0</td>\n",
       "      <td>162.88</td>\n",
       "      <td>21.749612</td>\n",
       "      <td>5.093014</td>\n",
       "    </tr>\n",
       "    <tr>\n",
       "      <th>16</th>\n",
       "      <td>ABW</td>\n",
       "      <td>Aruba</td>\n",
       "      <td>2015</td>\n",
       "      <td>2.962907e+09</td>\n",
       "      <td>27458.23</td>\n",
       "      <td>107906.0</td>\n",
       "      <td>145.83</td>\n",
       "      <td>21.809437</td>\n",
       "      <td>4.982442</td>\n",
       "    </tr>\n",
       "    <tr>\n",
       "      <th>17</th>\n",
       "      <td>ABW</td>\n",
       "      <td>Aruba</td>\n",
       "      <td>2016</td>\n",
       "      <td>2.983635e+09</td>\n",
       "      <td>27441.53</td>\n",
       "      <td>108727.0</td>\n",
       "      <td>142.24</td>\n",
       "      <td>21.816408</td>\n",
       "      <td>4.957516</td>\n",
       "    </tr>\n",
       "    <tr>\n",
       "      <th>18</th>\n",
       "      <td>ABW</td>\n",
       "      <td>Aruba</td>\n",
       "      <td>2017</td>\n",
       "      <td>3.092429e+09</td>\n",
       "      <td>28440.05</td>\n",
       "      <td>108735.0</td>\n",
       "      <td>143.80</td>\n",
       "      <td>21.852223</td>\n",
       "      <td>4.968423</td>\n",
       "    </tr>\n",
       "    <tr>\n",
       "      <th>19</th>\n",
       "      <td>ABW</td>\n",
       "      <td>Aruba</td>\n",
       "      <td>2018</td>\n",
       "      <td>3.276184e+09</td>\n",
       "      <td>30082.13</td>\n",
       "      <td>108908.0</td>\n",
       "      <td>145.21</td>\n",
       "      <td>21.909945</td>\n",
       "      <td>4.978181</td>\n",
       "    </tr>\n",
       "    <tr>\n",
       "      <th>20</th>\n",
       "      <td>ABW</td>\n",
       "      <td>Aruba</td>\n",
       "      <td>2019</td>\n",
       "      <td>3.395799e+09</td>\n",
       "      <td>31096.21</td>\n",
       "      <td>109203.0</td>\n",
       "      <td>145.34</td>\n",
       "      <td>21.945805</td>\n",
       "      <td>4.979076</td>\n",
       "    </tr>\n",
       "    <tr>\n",
       "      <th>21</th>\n",
       "      <td>ABW</td>\n",
       "      <td>Aruba</td>\n",
       "      <td>2020</td>\n",
       "      <td>2.481857e+09</td>\n",
       "      <td>22855.93</td>\n",
       "      <td>108587.0</td>\n",
       "      <td>124.14</td>\n",
       "      <td>21.632273</td>\n",
       "      <td>4.821410</td>\n",
       "    </tr>\n",
       "    <tr>\n",
       "      <th>22</th>\n",
       "      <td>ABW</td>\n",
       "      <td>Aruba</td>\n",
       "      <td>2021</td>\n",
       "      <td>2.929447e+09</td>\n",
       "      <td>27200.06</td>\n",
       "      <td>107700.0</td>\n",
       "      <td>147.02</td>\n",
       "      <td>21.798079</td>\n",
       "      <td>4.990569</td>\n",
       "    </tr>\n",
       "    <tr>\n",
       "      <th>23</th>\n",
       "      <td>ABW</td>\n",
       "      <td>Aruba</td>\n",
       "      <td>2022</td>\n",
       "      <td>3.279344e+09</td>\n",
       "      <td>30559.53</td>\n",
       "      <td>107310.0</td>\n",
       "      <td>172.88</td>\n",
       "      <td>21.910909</td>\n",
       "      <td>5.152598</td>\n",
       "    </tr>\n",
       "    <tr>\n",
       "      <th>24</th>\n",
       "      <td>ABW</td>\n",
       "      <td>Aruba</td>\n",
       "      <td>2023</td>\n",
       "      <td>3.648573e+09</td>\n",
       "      <td>33984.79</td>\n",
       "      <td>107359.0</td>\n",
       "      <td>169.80</td>\n",
       "      <td>22.017602</td>\n",
       "      <td>5.134621</td>\n",
       "    </tr>\n",
       "    <tr>\n",
       "      <th>25</th>\n",
       "      <td>AFG</td>\n",
       "      <td>Afghanistan</td>\n",
       "      <td>1999</td>\n",
       "      <td>8.347859e+11</td>\n",
       "      <td>NaN</td>\n",
       "      <td>19887785.0</td>\n",
       "      <td>NaN</td>\n",
       "      <td>27.450441</td>\n",
       "      <td>NaN</td>\n",
       "    </tr>\n",
       "    <tr>\n",
       "      <th>26</th>\n",
       "      <td>AFG</td>\n",
       "      <td>Afghanistan</td>\n",
       "      <td>2000</td>\n",
       "      <td>3.521418e+09</td>\n",
       "      <td>174.93</td>\n",
       "      <td>20130327.0</td>\n",
       "      <td>NaN</td>\n",
       "      <td>21.982130</td>\n",
       "      <td>NaN</td>\n",
       "    </tr>\n",
       "    <tr>\n",
       "      <th>27</th>\n",
       "      <td>AFG</td>\n",
       "      <td>Afghanistan</td>\n",
       "      <td>2001</td>\n",
       "      <td>2.813572e+09</td>\n",
       "      <td>138.71</td>\n",
       "      <td>20284307.0</td>\n",
       "      <td>NaN</td>\n",
       "      <td>21.757721</td>\n",
       "      <td>NaN</td>\n",
       "    </tr>\n",
       "    <tr>\n",
       "      <th>28</th>\n",
       "      <td>AFG</td>\n",
       "      <td>Afghanistan</td>\n",
       "      <td>2002</td>\n",
       "      <td>3.825701e+09</td>\n",
       "      <td>178.95</td>\n",
       "      <td>21378117.0</td>\n",
       "      <td>NaN</td>\n",
       "      <td>22.065008</td>\n",
       "      <td>NaN</td>\n",
       "    </tr>\n",
       "    <tr>\n",
       "      <th>29</th>\n",
       "      <td>AFG</td>\n",
       "      <td>Afghanistan</td>\n",
       "      <td>2003</td>\n",
       "      <td>4.520947e+09</td>\n",
       "      <td>198.87</td>\n",
       "      <td>22733049.0</td>\n",
       "      <td>NaN</td>\n",
       "      <td>22.231987</td>\n",
       "      <td>NaN</td>\n",
       "    </tr>\n",
       "  </tbody>\n",
       "</table>\n",
       "</div>"
      ],
      "text/plain": [
       "   iso_o      Country  Time           GDP   GDP_pct  population  \\\n",
       "0    ABW        Aruba  1999  1.722905e+09  19216.20     89659.0   \n",
       "1    ABW        Aruba  2000  1.873453e+09  20681.02     90588.0   \n",
       "2    ABW        Aruba  2001  1.896457e+09  20740.13     91439.0   \n",
       "3    ABW        Aruba  2002  1.961844e+09  21307.25     92074.0   \n",
       "4    ABW        Aruba  2003  2.044112e+09  21949.49     93128.0   \n",
       "5    ABW        Aruba  2004  2.254831e+09  23700.63     95138.0   \n",
       "6    ABW        Aruba  2005  2.360017e+09  24171.84     97635.0   \n",
       "7    ABW        Aruba  2006  2.469783e+09  24845.66     99405.0   \n",
       "8    ABW        Aruba  2007  2.677641e+09  26736.31    100150.0   \n",
       "9    ABW        Aruba  2008  2.843025e+09  28171.91    100917.0   \n",
       "10   ABW        Aruba  2009  2.553793e+09  25134.77    101604.0   \n",
       "11   ABW        Aruba  2010  2.453597e+09  24093.14    101838.0   \n",
       "12   ABW        Aruba  2011  2.637859e+09  25712.38    102591.0   \n",
       "13   ABW        Aruba  2012  2.615208e+09  25119.67    104110.0   \n",
       "14   ABW        Aruba  2013  2.727850e+09  25813.58    105675.0   \n",
       "15   ABW        Aruba  2014  2.790850e+09  26129.84    106807.0   \n",
       "16   ABW        Aruba  2015  2.962907e+09  27458.23    107906.0   \n",
       "17   ABW        Aruba  2016  2.983635e+09  27441.53    108727.0   \n",
       "18   ABW        Aruba  2017  3.092429e+09  28440.05    108735.0   \n",
       "19   ABW        Aruba  2018  3.276184e+09  30082.13    108908.0   \n",
       "20   ABW        Aruba  2019  3.395799e+09  31096.21    109203.0   \n",
       "21   ABW        Aruba  2020  2.481857e+09  22855.93    108587.0   \n",
       "22   ABW        Aruba  2021  2.929447e+09  27200.06    107700.0   \n",
       "23   ABW        Aruba  2022  3.279344e+09  30559.53    107310.0   \n",
       "24   ABW        Aruba  2023  3.648573e+09  33984.79    107359.0   \n",
       "25   AFG  Afghanistan  1999  8.347859e+11       NaN  19887785.0   \n",
       "26   AFG  Afghanistan  2000  3.521418e+09    174.93  20130327.0   \n",
       "27   AFG  Afghanistan  2001  2.813572e+09    138.71  20284307.0   \n",
       "28   AFG  Afghanistan  2002  3.825701e+09    178.95  21378117.0   \n",
       "29   AFG  Afghanistan  2003  4.520947e+09    198.87  22733049.0   \n",
       "\n",
       "    trade_gdp_ratio    log_GDP  log_trade_gdp_ratio  \n",
       "0            164.56  21.267278             5.103275  \n",
       "1            145.07  21.351049             4.977216  \n",
       "2            140.39  21.363253             4.944424  \n",
       "3            133.23  21.397150             4.892077  \n",
       "4            132.79  21.438229             4.888769  \n",
       "5            132.43  21.536341             4.886054  \n",
       "6            145.05  21.581935             4.977079  \n",
       "7            141.04  21.627396             4.949044  \n",
       "8            139.97  21.708202             4.941428  \n",
       "9            139.11  21.768134             4.935265  \n",
       "10           137.56  21.660846             4.924060  \n",
       "11           135.46  21.620821             4.908676  \n",
       "12           154.44  21.693234             5.039806  \n",
       "13           156.65  21.684610             5.054014  \n",
       "14           161.89  21.726779             5.086917  \n",
       "15           162.88  21.749612             5.093014  \n",
       "16           145.83  21.809437             4.982442  \n",
       "17           142.24  21.816408             4.957516  \n",
       "18           143.80  21.852223             4.968423  \n",
       "19           145.21  21.909945             4.978181  \n",
       "20           145.34  21.945805             4.979076  \n",
       "21           124.14  21.632273             4.821410  \n",
       "22           147.02  21.798079             4.990569  \n",
       "23           172.88  21.910909             5.152598  \n",
       "24           169.80  22.017602             5.134621  \n",
       "25              NaN  27.450441                  NaN  \n",
       "26              NaN  21.982130                  NaN  \n",
       "27              NaN  21.757721                  NaN  \n",
       "28              NaN  22.065008                  NaN  \n",
       "29              NaN  22.231987                  NaN  "
      ]
     },
     "execution_count": 460,
     "metadata": {},
     "output_type": "execute_result"
    }
   ],
   "source": [
    "long_sorted.head(30)"
   ]
  },
  {
   "cell_type": "code",
   "execution_count": 461,
   "id": "88d83a30-efbc-4c1b-8983-e006fc607207",
   "metadata": {},
   "outputs": [],
   "source": [
    "#qq_sorted['first_diff_lnGDP'] = (qq_sorted.groupby(['iso_o', 'Time'])['log_GDP'].transform(first_difference))"
   ]
  },
  {
   "cell_type": "code",
   "execution_count": 462,
   "id": "d5567ef0-66b9-48c8-a6f5-3fecda4fc8a3",
   "metadata": {},
   "outputs": [],
   "source": [
    "long_sorted.to_csv('../data/cleaned/attributes2000_2023.csv', encoding='utf-8', index=False)"
   ]
  }
 ],
 "metadata": {
  "kernelspec": {
   "display_name": "Python 3 (ipykernel)",
   "language": "python",
   "name": "python3"
  },
  "language_info": {
   "codemirror_mode": {
    "name": "ipython",
    "version": 3
   },
   "file_extension": ".py",
   "mimetype": "text/x-python",
   "name": "python",
   "nbconvert_exporter": "python",
   "pygments_lexer": "ipython3",
   "version": "3.12.7"
  }
 },
 "nbformat": 4,
 "nbformat_minor": 5
}
